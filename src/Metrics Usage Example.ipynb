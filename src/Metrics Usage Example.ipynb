{
 "cells": [
  {
   "cell_type": "markdown",
   "metadata": {},
   "source": [
    "# Preparations"
   ]
  },
  {
   "cell_type": "markdown",
   "metadata": {},
   "source": [
    "In this notebook we will present examples on how to use library BBMetric for evaluate our chatbots."
   ]
  },
  {
   "cell_type": "code",
   "execution_count": 4,
   "metadata": {},
   "outputs": [
    {
     "name": "stdout",
     "output_type": "stream",
     "text": [
      "pip install -r \"E:\\University\\Esami da Superare\\Natural Language Processing\\BarneyBotGit\\BarneyBotGit\\requirements.txt\"\n"
     ]
    }
   ],
   "source": [
    "### Run environment setup\n",
    "import os\n",
    "import lib.BBSetup as BBSetup\n",
    "\n",
    "try:\n",
    "    from google.colab import drive\n",
    "    BBSetup.colab_setup(mount_folder=r\"/content/drive/My Drive/unibo/NLP_project/BarneyBot\")\n",
    "except:\n",
    "    BBSetup.anaconda_setup(base_folder=r\"E:\\University\\Esami da Superare\\Natural Language Processing\\BarneyBotGit\\BarneyBotGit\",\n",
    "                           env_name=\"nlp\")\n",
    "\n",
    "### Define folders\n",
    "base_folder = BBSetup.BASE_FOLDER\n",
    "out_folder = BBSetup.set_folder(os.path.join(base_folder, 'Metrics', 'New'))"
   ]
  },
  {
   "cell_type": "code",
   "execution_count": 5,
   "metadata": {},
   "outputs": [
    {
     "name": "stderr",
     "output_type": "stream",
     "text": [
      "Some weights of the model checkpoint at distilbert-base-uncased were not used when initializing DistilBertModel: ['vocab_layer_norm.bias', 'vocab_layer_norm.weight', 'vocab_projector.bias', 'vocab_transform.weight', 'vocab_projector.weight', 'vocab_transform.bias']\n",
      "- This IS expected if you are initializing DistilBertModel from the checkpoint of a model trained on another task or with another architecture (e.g. initializing a BertForSequenceClassification model from a BertForPreTraining model).\n",
      "- This IS NOT expected if you are initializing DistilBertModel from the checkpoint of a model that you expect to be exactly identical (initializing a BertForSequenceClassification model from a BertForSequenceClassification model).\n",
      "[nltk_data] Downloading package stopwords to\n",
      "[nltk_data]     C:\\Users\\tonel\\AppData\\Roaming\\nltk_data...\n",
      "[nltk_data]   Package stopwords is already up-to-date!\n"
     ]
    }
   ],
   "source": [
    "# Import the metrics library\n",
    "from lib.BBMetrics import BBMetric \n",
    "\n",
    "# Create some basic sentences to feed to the metrics\n",
    "sentences_basic = [\"Hi!\", \"How are you?\", \"I hate you.\"]\n",
    "sentences_basic_2 = [\"Hello!\", \"How are you doing?\", \"I think this is good.\"]\n",
    "sentences_vader = [\"Come to the dark side!\", \"I will kill you!\", \"Luke, I am your father.\"]\n",
    "sentences_barney = [\"Did you get the suit?\", \"Legendary!\", \"I like girls.\"]"
   ]
  },
  {
   "cell_type": "code",
   "execution_count": 7,
   "metadata": {},
   "outputs": [],
   "source": [
    "# Pretty print module\n",
    "import pprint\n",
    "from lib.BBMetricResults import *\n",
    "\n",
    "printer = pprint.PrettyPrinter(depth=4, width=300)"
   ]
  },
  {
   "cell_type": "markdown",
   "metadata": {},
   "source": [
    "# Metrics Info"
   ]
  },
  {
   "cell_type": "markdown",
   "metadata": {},
   "source": [
    "`BBMetric.metrics_list` show up the list of all the available metrics"
   ]
  },
  {
   "cell_type": "code",
   "execution_count": 8,
   "metadata": {},
   "outputs": [
    {
     "data": {
      "text/plain": [
       "['google bleu',\n",
       " 'mpnet embedding similarity',\n",
       " 'rouge l',\n",
       " 'meteor',\n",
       " 'emotion classifier',\n",
       " 'roberta crossencoding similarity',\n",
       " 'distinct',\n",
       " 'neural chatbot classifier',\n",
       " 'perplexity',\n",
       " 'repetitiveness',\n",
       " 'term error rate',\n",
       " 'bertscore',\n",
       " 'comet',\n",
       " 'bleurt',\n",
       " 'word mover distance',\n",
       " 'bartscore',\n",
       " 'extended edit distance']"
      ]
     },
     "execution_count": 8,
     "metadata": {},
     "output_type": "execute_result"
    }
   ],
   "source": [
    "# Display the available metrics list\n",
    "BBMetric.metrics_list"
   ]
  },
  {
   "cell_type": "markdown",
   "metadata": {},
   "source": [
    "Printing a metric shows its info"
   ]
  },
  {
   "cell_type": "code",
   "execution_count": 9,
   "metadata": {},
   "outputs": [
    {
     "name": "stdout",
     "output_type": "stream",
     "text": [
      "{'name': 'google bleu', 'args': {'train': {'required': set(), 'optional': set()}, 'compute': {'required': {'predictions', 'references'}, 'optional': set()}}, 'returns': ['score', 'std'], 'description': None, 'paper': None, 'save_actors': ['predictor', 'reference']}\n"
     ]
    }
   ],
   "source": [
    "# Display info for a loaded metric\n",
    "metric = BBMetric.load_metric(\"google bleu\")\n",
    "print(metric)"
   ]
  },
  {
   "cell_type": "markdown",
   "metadata": {},
   "source": [
    "# Running Metrics"
   ]
  },
  {
   "cell_type": "markdown",
   "metadata": {},
   "source": [
    "`BBMetric.load_metric(metric_name)` load the specified metric with name `metric_name` by loading the respective model or algorithm which computes it. It will return the `metric` asked ready to be compute by invoking `metric.compute`. Some metrics (such as the human ones and the semantic classifier) require training, in which case a method `metric.train` is provided."
   ]
  },
  {
   "cell_type": "code",
   "execution_count": null,
   "metadata": {},
   "outputs": [],
   "source": [
    "# Google BLEU (Variation of BLEU more useful for sentences) on a pair of sets of sentences\n",
    "metric = BBMetric.load_metric(\"google bleu\")\n",
    "\n",
    "print(metric.compute(predictions=sentences_basic, references=sentences_basic_2))"
   ]
  },
  {
   "cell_type": "code",
   "execution_count": 7,
   "metadata": {},
   "outputs": [
    {
     "name": "stdout",
     "output_type": "stream",
     "text": [
      "{'score': 0.5964817404747009, 'std': 0.4743334650993347}\n"
     ]
    }
   ],
   "source": [
    "# Symmetric Semantic Similarity on a pair of sets of sentences\n",
    "metric = BBMetric.load_metric(\"mpnet embedding similarity\")\n",
    "\n",
    "print(metric.compute(sentences_a=sentences_basic, sentences_b=sentences_basic_2))"
   ]
  },
  {
   "cell_type": "code",
   "execution_count": 8,
   "metadata": {},
   "outputs": [
    {
     "name": "stdout",
     "output_type": "stream",
     "text": [
      "{'score': 0.36904761904761907, 'std': 0.3599099156626422}\n"
     ]
    }
   ],
   "source": [
    "# Rouge-L on a pair of sets of sentences\n",
    "metric = BBMetric.load_metric(\"rouge l\")\n",
    "\n",
    "print(metric.compute(predictions=sentences_basic, references=sentences_basic_2))"
   ]
  },
  {
   "cell_type": "code",
   "execution_count": 9,
   "metadata": {},
   "outputs": [
    {
     "name": "stderr",
     "output_type": "stream",
     "text": [
      "[nltk_data] Downloading package wordnet to\n",
      "[nltk_data]     C:\\Users\\tonel\\AppData\\Roaming\\nltk_data...\n",
      "[nltk_data]   Package wordnet is already up-to-date!\n",
      "[nltk_data] Downloading package punkt to\n",
      "[nltk_data]     C:\\Users\\tonel\\AppData\\Roaming\\nltk_data...\n",
      "[nltk_data]   Package punkt is already up-to-date!\n",
      "[nltk_data] Downloading package omw-1.4 to\n",
      "[nltk_data]     C:\\Users\\tonel\\AppData\\Roaming\\nltk_data...\n"
     ]
    },
    {
     "name": "stdout",
     "output_type": "stream",
     "text": [
      "{'score': 0.9739583333333334, 'std': 0.025779934730759544}\n"
     ]
    },
    {
     "name": "stderr",
     "output_type": "stream",
     "text": [
      "[nltk_data]   Package omw-1.4 is already up-to-date!\n"
     ]
    }
   ],
   "source": [
    "# METEOR on a pair of sets of sentences\n",
    "metric = BBMetric.load_metric(\"meteor\")\n",
    "\n",
    "print(metric.compute(predictions=sentences_basic, references=sentences_basic))"
   ]
  },
  {
   "cell_type": "code",
   "execution_count": 10,
   "metadata": {},
   "outputs": [
    {
     "name": "stderr",
     "output_type": "stream",
     "text": [
      "E:\\Programs\\Anaconda\\envs\\nlp\\Lib\\site-packages\\transformers\\pipelines\\text_classification.py:89: UserWarning: `return_all_scores` is now deprecated,  if want a similar funcionality use `top_k=None` instead of `return_all_scores=True` or `top_k=1` instead of `return_all_scores=False`.\n",
      "  warnings.warn(\n"
     ]
    },
    {
     "name": "stdout",
     "output_type": "stream",
     "text": [
      "{'score': [0.040451311971992254, 0.3372651059180498, 0.0295343438629061, 0.33119263251622516, 0.24915530377378067, 0.012401272969630858], 'std': [0.02466328219141657, 0.3520862192023358, 0.03524458751490872, 0.3607271122098797, 0.31209391813628645, 0.008284036892139822], 'label': ['sadness', 'joy', 'love', 'anger', 'fear', 'surprise']}\n"
     ]
    }
   ],
   "source": [
    "# Emotion labeling on a set of sentences\n",
    "metric = BBMetric.load_metric(\"emotion classifier\")\n",
    "\n",
    "'''\n",
    "for char in ['Barney', 'Bender']:\n",
    "    char_hg = load_char_df(char, base_folder)\n",
    "    result = metric.compute(sentences=char_hg['test']['response'])\n",
    "    print(char + \"Emotions\")\n",
    "    printer.pprint({result['label'][i]: result['score'][i] for i in range(len(result['score']))})\n",
    "'''\n",
    "\n",
    "print(metric.compute(sentences=sentences_basic))"
   ]
  },
  {
   "cell_type": "code",
   "execution_count": 11,
   "metadata": {},
   "outputs": [
    {
     "name": "stdout",
     "output_type": "stream",
     "text": [
      "{'score': 0.6090299487113953, 'std': 0.4026722013950348}\n"
     ]
    }
   ],
   "source": [
    "# Semantic Answer Similarity on a pair of sets of sentences\n",
    "metric = BBMetric.load_metric(\"roberta crossencoding similarity\")\n",
    "\n",
    "print(metric.compute(predictions=sentences_basic, references=sentences_basic_2))"
   ]
  },
  {
   "cell_type": "code",
   "execution_count": 12,
   "metadata": {},
   "outputs": [
    {
     "data": {
      "text/plain": [
       "{'score': 0.1272727272727273, 'std': 0.09030099651970509}"
      ]
     },
     "execution_count": 12,
     "metadata": {},
     "output_type": "execute_result"
    }
   ],
   "source": [
    "# Distinct on a set of sentences\n",
    "metric = BBMetric.load_metric(\"distinct\")\n",
    "\n",
    "# ngram_size is optional, defaults to 3\n",
    "metric.compute(sentences=sentences_basic, ngram_size=2)"
   ]
  },
  {
   "cell_type": "code",
   "execution_count": 23,
   "metadata": {},
   "outputs": [
    {
     "name": "stdout",
     "output_type": "stream",
     "text": [
      "Creating encoded lines\n"
     ]
    },
    {
     "name": "stderr",
     "output_type": "stream",
     "text": [
      "100%|██████████████████████████████████████████████████████████████████████████████| 2750/2750 [03:06<00:00, 14.71it/s]\n"
     ]
    },
    {
     "name": "stdout",
     "output_type": "stream",
     "text": [
      "Saved encoded lines at E:\\University\\Esami da Superare\\Natural Language Processing\\BarneyBotGit\\BarneyBotGit\\data\\Characters\\Vader\n",
      "Loaded encoded lines from E:\\University\\Esami da Superare\\Natural Language Processing\\BarneyBotGit\\BarneyBotGit\\data\\Characters\\Vader\n",
      "Running shuffle 0/10\n"
     ]
    },
    {
     "name": "stderr",
     "output_type": "stream",
     "text": [
      "100%|██████████████████████████████████████████████████████████████████████████████| 158/158 [00:00<00:00, 5052.84it/s]\n"
     ]
    },
    {
     "name": "stdout",
     "output_type": "stream",
     "text": [
      "Running shuffle 1/10\n"
     ]
    },
    {
     "name": "stderr",
     "output_type": "stream",
     "text": [
      "100%|██████████████████████████████████████████████████████████████████████████████| 158/158 [00:00<00:00, 5055.61it/s]\n"
     ]
    },
    {
     "name": "stdout",
     "output_type": "stream",
     "text": [
      "Running shuffle 2/10\n"
     ]
    },
    {
     "name": "stderr",
     "output_type": "stream",
     "text": [
      "100%|██████████████████████████████████████████████████████████████████████████████| 158/158 [00:00<00:00, 7137.32it/s]\n"
     ]
    },
    {
     "name": "stdout",
     "output_type": "stream",
     "text": [
      "Running shuffle 3/10\n"
     ]
    },
    {
     "name": "stderr",
     "output_type": "stream",
     "text": [
      "100%|██████████████████████████████████████████████████████████████████████████████| 158/158 [00:00<00:00, 5046.84it/s]\n"
     ]
    },
    {
     "name": "stdout",
     "output_type": "stream",
     "text": [
      "Running shuffle 4/10\n"
     ]
    },
    {
     "name": "stderr",
     "output_type": "stream",
     "text": [
      "100%|██████████████████████████████████████████████████████████████████████████████| 158/158 [00:00<00:00, 5055.69it/s]\n"
     ]
    },
    {
     "name": "stdout",
     "output_type": "stream",
     "text": [
      "Running shuffle 5/10\n"
     ]
    },
    {
     "name": "stderr",
     "output_type": "stream",
     "text": [
      "100%|██████████████████████████████████████████████████████████████████████████████| 158/158 [00:00<00:00, 5057.47it/s]\n"
     ]
    },
    {
     "name": "stdout",
     "output_type": "stream",
     "text": [
      "Running shuffle 6/10\n"
     ]
    },
    {
     "name": "stderr",
     "output_type": "stream",
     "text": [
      "100%|█████████████████████████████████████████████████████████████████████████████| 158/158 [00:00<00:00, 10103.67it/s]\n"
     ]
    },
    {
     "name": "stdout",
     "output_type": "stream",
     "text": [
      "Running shuffle 7/10\n"
     ]
    },
    {
     "name": "stderr",
     "output_type": "stream",
     "text": [
      "100%|██████████████████████████████████████████████████████████████████████████████| 158/158 [00:00<00:00, 5052.45it/s]\n"
     ]
    },
    {
     "name": "stdout",
     "output_type": "stream",
     "text": [
      "Running shuffle 8/10\n"
     ]
    },
    {
     "name": "stderr",
     "output_type": "stream",
     "text": [
      "100%|██████████████████████████████████████████████████████████████████████████████| 158/158 [00:00<00:00, 5054.23it/s]\n"
     ]
    },
    {
     "name": "stdout",
     "output_type": "stream",
     "text": [
      "Running shuffle 9/10\n"
     ]
    },
    {
     "name": "stderr",
     "output_type": "stream",
     "text": [
      "100%|██████████████████████████████████████████████████████████████████████████████| 158/158 [00:00<00:00, 7148.94it/s]\n"
     ]
    },
    {
     "name": "stdout",
     "output_type": "stream",
     "text": [
      "Loading training data...\n"
     ]
    },
    {
     "name": "stderr",
     "output_type": "stream",
     "text": [
      "100%|████████████████████████████████████████████████████████████████████████████| 2686/2686 [00:01<00:00, 2677.50it/s]\n",
      "100%|██████████████████████████████████████████████████████████████████████████| 2686/2686 [00:00<00:00, 333537.63it/s]\n"
     ]
    },
    {
     "name": "stdout",
     "output_type": "stream",
     "text": [
      "Loading test data...\n"
     ]
    },
    {
     "name": "stderr",
     "output_type": "stream",
     "text": [
      "100%|██████████████████████████████████████████████████████████████████████████████| 316/316 [00:00<00:00, 2724.26it/s]\n",
      "100%|████████████████████████████████████████████████████████████████████████████████████████| 316/316 [00:00<?, ?it/s]\n"
     ]
    },
    {
     "name": "stdout",
     "output_type": "stream",
     "text": [
      "Loading validation data...\n"
     ]
    },
    {
     "name": "stderr",
     "output_type": "stream",
     "text": [
      "100%|██████████████████████████████████████████████████████████████████████████████| 158/158 [00:00<00:00, 2957.24it/s]\n",
      "100%|████████████████████████████████████████████████████████████████████████████████████████| 158/158 [00:00<?, ?it/s]\n"
     ]
    },
    {
     "name": "stdout",
     "output_type": "stream",
     "text": [
      "Epoch 1/1000\n",
      "168/168 [==============================] - 10s 39ms/step - loss: 0.8998 - binary_accuracy: 0.5413 - recall: 0.5295 - val_loss: 0.7405 - val_binary_accuracy: 0.5127 - val_recall: 0.0256\n",
      "Epoch 2/1000\n",
      "168/168 [==============================] - 6s 34ms/step - loss: 0.8491 - binary_accuracy: 0.5588 - recall: 0.5511 - val_loss: 0.7493 - val_binary_accuracy: 0.5443 - val_recall: 0.2051\n",
      "Epoch 3/1000\n",
      "168/168 [==============================] - 6s 34ms/step - loss: 0.8089 - binary_accuracy: 0.5823 - recall: 0.5824 - val_loss: 0.7022 - val_binary_accuracy: 0.6139 - val_recall: 0.4487\n",
      "Epoch 4/1000\n",
      "168/168 [==============================] - 6s 35ms/step - loss: 0.7636 - binary_accuracy: 0.5972 - recall: 0.5884 - val_loss: 0.7001 - val_binary_accuracy: 0.6329 - val_recall: 0.5897\n",
      "Epoch 5/1000\n",
      "168/168 [==============================] - 6s 34ms/step - loss: 0.7159 - binary_accuracy: 0.6344 - recall: 0.6376 - val_loss: 0.6855 - val_binary_accuracy: 0.6329 - val_recall: 0.6667\n",
      "Epoch 6/1000\n",
      "168/168 [==============================] - 6s 34ms/step - loss: 0.7041 - binary_accuracy: 0.6482 - recall: 0.6480 - val_loss: 0.6484 - val_binary_accuracy: 0.6519 - val_recall: 0.6667\n",
      "Epoch 7/1000\n",
      "168/168 [==============================] - 6s 35ms/step - loss: 0.6723 - binary_accuracy: 0.6597 - recall: 0.6667 - val_loss: 0.6108 - val_binary_accuracy: 0.6646 - val_recall: 0.6795\n",
      "Epoch 8/1000\n",
      "168/168 [==============================] - 6s 34ms/step - loss: 0.6407 - binary_accuracy: 0.6787 - recall: 0.6771 - val_loss: 0.5850 - val_binary_accuracy: 0.7089 - val_recall: 0.7308\n",
      "Epoch 9/1000\n",
      "168/168 [==============================] - 6s 34ms/step - loss: 0.6064 - binary_accuracy: 0.6981 - recall: 0.6987 - val_loss: 0.5538 - val_binary_accuracy: 0.7468 - val_recall: 0.8077\n",
      "Epoch 10/1000\n",
      "168/168 [==============================] - 6s 35ms/step - loss: 0.6047 - binary_accuracy: 0.7077 - recall: 0.7174 - val_loss: 0.5291 - val_binary_accuracy: 0.7532 - val_recall: 0.7949\n",
      "Epoch 11/1000\n",
      "168/168 [==============================] - 6s 35ms/step - loss: 0.5767 - binary_accuracy: 0.7182 - recall: 0.7181 - val_loss: 0.5032 - val_binary_accuracy: 0.7848 - val_recall: 0.7949\n",
      "Epoch 12/1000\n",
      "168/168 [==============================] - 6s 35ms/step - loss: 0.5559 - binary_accuracy: 0.7357 - recall: 0.7338 - val_loss: 0.4796 - val_binary_accuracy: 0.8101 - val_recall: 0.8333\n",
      "Epoch 13/1000\n",
      "168/168 [==============================] - 6s 35ms/step - loss: 0.5331 - binary_accuracy: 0.7498 - recall: 0.7450 - val_loss: 0.4584 - val_binary_accuracy: 0.8165 - val_recall: 0.8333\n",
      "Epoch 14/1000\n",
      "168/168 [==============================] - 6s 33ms/step - loss: 0.5051 - binary_accuracy: 0.7584 - recall: 0.7539 - val_loss: 0.4356 - val_binary_accuracy: 0.8354 - val_recall: 0.8333\n",
      "Epoch 15/1000\n",
      "168/168 [==============================] - 6s 35ms/step - loss: 0.4994 - binary_accuracy: 0.7647 - recall: 0.7562 - val_loss: 0.4168 - val_binary_accuracy: 0.8354 - val_recall: 0.8462\n",
      "Epoch 16/1000\n",
      "168/168 [==============================] - 6s 34ms/step - loss: 0.4981 - binary_accuracy: 0.7751 - recall: 0.7823 - val_loss: 0.3944 - val_binary_accuracy: 0.8481 - val_recall: 0.8462\n",
      "Epoch 17/1000\n",
      "168/168 [==============================] - 6s 34ms/step - loss: 0.4550 - binary_accuracy: 0.7911 - recall: 0.7875 - val_loss: 0.3794 - val_binary_accuracy: 0.8481 - val_recall: 0.8462\n",
      "Epoch 18/1000\n",
      "168/168 [==============================] - 6s 38ms/step - loss: 0.4538 - binary_accuracy: 0.7893 - recall: 0.7860 - val_loss: 0.3625 - val_binary_accuracy: 0.8608 - val_recall: 0.8462\n",
      "Epoch 19/1000\n",
      "168/168 [==============================] - 7s 39ms/step - loss: 0.4317 - binary_accuracy: 0.8053 - recall: 0.8076 - val_loss: 0.3443 - val_binary_accuracy: 0.8671 - val_recall: 0.8462\n",
      "Epoch 20/1000\n",
      "168/168 [==============================] - 6s 36ms/step - loss: 0.4151 - binary_accuracy: 0.8172 - recall: 0.8143 - val_loss: 0.3347 - val_binary_accuracy: 0.8671 - val_recall: 0.8590\n",
      "Epoch 21/1000\n",
      "168/168 [==============================] - 6s 34ms/step - loss: 0.4203 - binary_accuracy: 0.8098 - recall: 0.8046 - val_loss: 0.3188 - val_binary_accuracy: 0.8671 - val_recall: 0.8590\n",
      "Epoch 22/1000\n",
      "168/168 [==============================] - 6s 33ms/step - loss: 0.4018 - binary_accuracy: 0.8299 - recall: 0.8180 - val_loss: 0.3049 - val_binary_accuracy: 0.8734 - val_recall: 0.8718\n",
      "Epoch 23/1000\n",
      "168/168 [==============================] - 6s 37ms/step - loss: 0.3853 - binary_accuracy: 0.8358 - recall: 0.8240 - val_loss: 0.2944 - val_binary_accuracy: 0.8797 - val_recall: 0.8846\n",
      "Epoch 24/1000\n",
      "168/168 [==============================] - 6s 37ms/step - loss: 0.3744 - binary_accuracy: 0.8403 - recall: 0.8359 - val_loss: 0.2842 - val_binary_accuracy: 0.8861 - val_recall: 0.8974\n",
      "Epoch 25/1000\n",
      "168/168 [==============================] - 6s 34ms/step - loss: 0.3694 - binary_accuracy: 0.8537 - recall: 0.8501 - val_loss: 0.2702 - val_binary_accuracy: 0.9114 - val_recall: 0.9103\n",
      "Epoch 26/1000\n",
      "168/168 [==============================] - 6s 35ms/step - loss: 0.3620 - binary_accuracy: 0.8600 - recall: 0.8591 - val_loss: 0.2579 - val_binary_accuracy: 0.9114 - val_recall: 0.9359\n",
      "Epoch 27/1000\n",
      "168/168 [==============================] - 6s 34ms/step - loss: 0.3410 - binary_accuracy: 0.8652 - recall: 0.8598 - val_loss: 0.2483 - val_binary_accuracy: 0.9304 - val_recall: 0.9359\n",
      "Epoch 28/1000\n",
      "168/168 [==============================] - 6s 34ms/step - loss: 0.3367 - binary_accuracy: 0.8697 - recall: 0.8650 - val_loss: 0.2396 - val_binary_accuracy: 0.9367 - val_recall: 0.9359\n",
      "Epoch 29/1000\n",
      "168/168 [==============================] - 6s 35ms/step - loss: 0.3330 - binary_accuracy: 0.8760 - recall: 0.8635 - val_loss: 0.2299 - val_binary_accuracy: 0.9430 - val_recall: 0.9359\n",
      "Epoch 30/1000\n",
      "168/168 [==============================] - 6s 34ms/step - loss: 0.3325 - binary_accuracy: 0.8641 - recall: 0.8606 - val_loss: 0.2189 - val_binary_accuracy: 0.9494 - val_recall: 0.9487\n",
      "Epoch 31/1000\n",
      "168/168 [==============================] - 6s 35ms/step - loss: 0.2960 - binary_accuracy: 0.8857 - recall: 0.8792 - val_loss: 0.2087 - val_binary_accuracy: 0.9620 - val_recall: 0.9487\n",
      "Epoch 32/1000\n",
      "168/168 [==============================] - 6s 35ms/step - loss: 0.2923 - binary_accuracy: 0.8920 - recall: 0.8926 - val_loss: 0.2034 - val_binary_accuracy: 0.9620 - val_recall: 0.9487\n",
      "Epoch 33/1000\n",
      "168/168 [==============================] - 6s 34ms/step - loss: 0.2992 - binary_accuracy: 0.8842 - recall: 0.8852 - val_loss: 0.1957 - val_binary_accuracy: 0.9620 - val_recall: 0.9487\n",
      "Epoch 34/1000\n",
      "168/168 [==============================] - 6s 35ms/step - loss: 0.2797 - binary_accuracy: 0.8961 - recall: 0.8941 - val_loss: 0.1861 - val_binary_accuracy: 0.9747 - val_recall: 0.9615\n",
      "Epoch 35/1000\n",
      "168/168 [==============================] - 6s 34ms/step - loss: 0.2772 - binary_accuracy: 0.8984 - recall: 0.8993 - val_loss: 0.1796 - val_binary_accuracy: 0.9747 - val_recall: 0.9615\n",
      "Epoch 36/1000\n",
      "168/168 [==============================] - 6s 34ms/step - loss: 0.2886 - binary_accuracy: 0.8909 - recall: 0.8837 - val_loss: 0.1709 - val_binary_accuracy: 0.9747 - val_recall: 0.9615\n",
      "Epoch 37/1000\n",
      "168/168 [==============================] - 6s 35ms/step - loss: 0.2636 - binary_accuracy: 0.9084 - recall: 0.9045 - val_loss: 0.1661 - val_binary_accuracy: 0.9747 - val_recall: 0.9615\n",
      "Epoch 38/1000\n",
      "168/168 [==============================] - 6s 34ms/step - loss: 0.2654 - binary_accuracy: 0.9073 - recall: 0.9060 - val_loss: 0.1598 - val_binary_accuracy: 0.9747 - val_recall: 0.9615\n",
      "Epoch 39/1000\n",
      "168/168 [==============================] - 6s 34ms/step - loss: 0.2579 - binary_accuracy: 0.9099 - recall: 0.8978 - val_loss: 0.1554 - val_binary_accuracy: 0.9810 - val_recall: 0.9744\n",
      "Epoch 40/1000\n",
      "168/168 [==============================] - 6s 35ms/step - loss: 0.2547 - binary_accuracy: 0.9095 - recall: 0.9031 - val_loss: 0.1481 - val_binary_accuracy: 0.9747 - val_recall: 0.9615\n",
      "Epoch 41/1000\n",
      "168/168 [==============================] - 6s 34ms/step - loss: 0.2464 - binary_accuracy: 0.9140 - recall: 0.9105 - val_loss: 0.1412 - val_binary_accuracy: 0.9873 - val_recall: 0.9744\n",
      "Epoch 42/1000\n",
      "168/168 [==============================] - 6s 34ms/step - loss: 0.2401 - binary_accuracy: 0.9200 - recall: 0.9142 - val_loss: 0.1355 - val_binary_accuracy: 0.9937 - val_recall: 0.9872\n",
      "Epoch 43/1000\n",
      "168/168 [==============================] - 6s 34ms/step - loss: 0.2340 - binary_accuracy: 0.9255 - recall: 0.9269 - val_loss: 0.1309 - val_binary_accuracy: 0.9937 - val_recall: 0.9872\n",
      "Epoch 44/1000\n",
      "168/168 [==============================] - 6s 34ms/step - loss: 0.2292 - binary_accuracy: 0.9259 - recall: 0.9217 - val_loss: 0.1253 - val_binary_accuracy: 0.9937 - val_recall: 0.9872\n",
      "Epoch 45/1000\n",
      "168/168 [==============================] - 6s 35ms/step - loss: 0.2208 - binary_accuracy: 0.9322 - recall: 0.9284 - val_loss: 0.1226 - val_binary_accuracy: 0.9937 - val_recall: 0.9872\n",
      "Epoch 46/1000\n",
      "168/168 [==============================] - 6s 34ms/step - loss: 0.2156 - binary_accuracy: 0.9322 - recall: 0.9292 - val_loss: 0.1156 - val_binary_accuracy: 0.9937 - val_recall: 0.9872\n",
      "Epoch 47/1000\n",
      "168/168 [==============================] - 6s 33ms/step - loss: 0.2123 - binary_accuracy: 0.9386 - recall: 0.9321 - val_loss: 0.1123 - val_binary_accuracy: 0.9937 - val_recall: 0.9872\n",
      "Epoch 48/1000\n",
      "168/168 [==============================] - 6s 35ms/step - loss: 0.1914 - binary_accuracy: 0.9501 - recall: 0.9456 - val_loss: 0.1087 - val_binary_accuracy: 0.9937 - val_recall: 0.9872\n",
      "######################### Model Test #########################\n",
      "10/10 [==============================] - 0s 11ms/step\n"
     ]
    },
    {
     "data": {
      "image/png": "[encoded data removed]",
      "text/plain": [
       "<Figure size 500x500 with 2 Axes>"
      ]
     },
     "metadata": {},
     "output_type": "display_data"
    },
    {
     "name": "stdout",
     "output_type": "stream",
     "text": [
      "INFO:tensorflow:Assets written to: E:\\University\\Esami da Superare\\Natural Language Processing\\BarneyBotGit\\BarneyBotGit\\data\\Characters\\Vader\\vader_classifier\\assets\n"
     ]
    },
    {
     "name": "stderr",
     "output_type": "stream",
     "text": [
      "INFO:tensorflow:Assets written to: E:\\University\\Esami da Superare\\Natural Language Processing\\BarneyBotGit\\BarneyBotGit\\data\\Characters\\Vader\\vader_classifier\\assets\n"
     ]
    },
    {
     "name": "stdout",
     "output_type": "stream",
     "text": [
      "{'score': 0.18061189353466034, 'std': 0.18533413112163544}\n",
      "{'score': 0.28027254343032837, 'std': 0.12468782812356949}\n",
      "{'score': 0.17582131922245026, 'std': 0.2519037127494812}\n"
     ]
    }
   ],
   "source": [
    "# Semantic Classifier on a set of sentences\n",
    "metric = BBMetric.load_metric(\"neural chatbot classifier\")\n",
    "\n",
    "# n_shuffles is optional, defaults to 10\n",
    "# Either specify a source_encoded_path to load encoded lines, or specify a source_path and a source_save_path to create them\n",
    "# shutdown_at_end is optional, defaults to False\n",
    "metric.train(character='Vader', random_state=random_state,\n",
    "             source_encoded_path=None,\n",
    "             source_path=os.path.join(base_folder, \"data\", \"Sources\", character_dict[\"Vader\"]['source'], character_dict[\"Vader\"]['source'] + \".csv\"),\n",
    "             source_save_path=os.path.join(base_folder, \"data\", \"Characters\", 'Vader'),\n",
    "             save_path=os.path.join(base_folder, \"data\", \"Characters\", 'Vader'),\n",
    "             n_shuffles=10, shutdown_at_end=False)\n",
    "\n",
    "# Computations for Barney semantic classifier on different sets of sentences\n",
    "print(metric.compute(character='Vader',\n",
    "                     load_path=os.path.join(base_folder, \"Data\", \"Characters\", 'Vader', character_dict[\"Vader\"]['classifier_folder']),\n",
    "                     sentences=sentences_basic))\n",
    "print(metric.compute(character='Vader',\n",
    "                     load_path=os.path.join(base_folder, \"Data\", \"Characters\", 'Vader', character_dict[\"Vader\"]['classifier_folder']),\n",
    "                     sentences=sentences_vader))\n",
    "print(metric.compute(character='Vader',\n",
    "                     load_path=os.path.join(base_folder, \"Data\", \"Characters\", 'Vader', character_dict[\"Vader\"]['classifier_folder']),\n",
    "                     sentences=sentences_barney))"
   ]
  },
  {
   "cell_type": "code",
   "execution_count": 22,
   "metadata": {
    "scrolled": true
   },
   "outputs": [
    {
     "name": "stderr",
     "output_type": "stream",
     "text": [
      "All model checkpoint layers were used when initializing TFGPT2LMHeadModel.\n",
      "\n",
      "All the layers of TFGPT2LMHeadModel were initialized from the model checkpoint at microsoft/DialoGPT-small.\n",
      "If your task is similar to the task the model of the checkpoint was trained on, you can already use TFGPT2LMHeadModel for predictions without further training.\n",
      "No loss specified in compile() - the model's internal loss computation will be used as the loss. Don't panic - this is a common way to train TensorFlow models in Transformers! To disable this behaviour please pass a loss argument, or explicitly pass `loss=None` if you do not want your model to compute a loss.\n",
      "All model checkpoint layers were used when initializing TFGPT2LMHeadModel.\n",
      "\n",
      "All the layers of TFGPT2LMHeadModel were initialized from the model checkpoint at E:\\University\\Esami da Superare\\Natural Language Processing\\BarneyBotGit\\BarneyBotGit\\Data\\Characters\\Vader\\vader_model.\n",
      "If your task is similar to the task the model of the checkpoint was trained on, you can already use TFGPT2LMHeadModel for predictions without further training.\n",
      "No loss specified in compile() - the model's internal loss computation will be used as the loss. Don't panic - this is a common way to train TensorFlow models in Transformers! To disable this behaviour please pass a loss argument, or explicitly pass `loss=None` if you do not want your model to compute a loss.\n",
      "WARNING:datasets.builder:Using custom data configuration default-2716428a75380423\n"
     ]
    },
    {
     "name": "stdout",
     "output_type": "stream",
     "text": [
      "Downloading and preparing dataset csv/default to E:/University/Esami da Superare/Natural Language Processing/BarneyBotGit/BarneyBotGit/Src/cache/csv/default-2716428a75380423/0.0.0/6b34fb8fcf56f7c8ba51dc895bfa2bfbe43546f190a60fcf74bb5e8afdcc2317...\n"
     ]
    },
    {
     "data": {
      "application/vnd.jupyter.widget-view+json": {
       "model_id": "49d868dabcd9432496e9a0e4bfe4447f",
       "version_major": 2,
       "version_minor": 0
      },
      "text/plain": [
       "Downloading data files:   0%|          | 0/1 [00:00<?, ?it/s]"
      ]
     },
     "metadata": {},
     "output_type": "display_data"
    },
    {
     "data": {
      "application/vnd.jupyter.widget-view+json": {
       "model_id": "87d37d1bbb184b56aa0fe6b2c5da6413",
       "version_major": 2,
       "version_minor": 0
      },
      "text/plain": [
       "Extracting data files:   0%|          | 0/1 [00:00<?, ?it/s]"
      ]
     },
     "metadata": {},
     "output_type": "display_data"
    },
    {
     "data": {
      "application/vnd.jupyter.widget-view+json": {
       "model_id": "",
       "version_major": 2,
       "version_minor": 0
      },
      "text/plain": [
       "0 tables [00:00, ? tables/s]"
      ]
     },
     "metadata": {},
     "output_type": "display_data"
    },
    {
     "name": "stderr",
     "output_type": "stream",
     "text": [
      "E:\\Programs\\Anaconda\\envs\\nlp\\Lib\\site-packages\\datasets\\download\\streaming_download_manager.py:714: FutureWarning: the 'mangle_dupe_cols' keyword is deprecated and will be removed in a future version. Please take steps to stop the use of 'mangle_dupe_cols'\n",
      "  return pd.read_csv(xopen(filepath_or_buffer, \"rb\", use_auth_token=use_auth_token), **kwargs)\n"
     ]
    },
    {
     "name": "stdout",
     "output_type": "stream",
     "text": [
      "Dataset csv downloaded and prepared to E:/University/Esami da Superare/Natural Language Processing/BarneyBotGit/BarneyBotGit/Src/cache/csv/default-2716428a75380423/0.0.0/6b34fb8fcf56f7c8ba51dc895bfa2bfbe43546f190a60fcf74bb5e8afdcc2317. Subsequent calls will reuse this data.\n"
     ]
    },
    {
     "data": {
      "application/vnd.jupyter.widget-view+json": {
       "model_id": "95daff4ebcc0478db8c1dba97aa8c6e4",
       "version_major": 2,
       "version_minor": 0
      },
      "text/plain": [
       "  0%|          | 0/1 [00:00<?, ?it/s]"
      ]
     },
     "metadata": {},
     "output_type": "display_data"
    },
    {
     "data": {
      "application/vnd.jupyter.widget-view+json": {
       "model_id": "91d41329649f4a05aa7f05f246b2b92e",
       "version_major": 2,
       "version_minor": 0
      },
      "text/plain": [
       "  0%|          | 0/136 [00:00<?, ?ex/s]"
      ]
     },
     "metadata": {},
     "output_type": "display_data"
    },
    {
     "data": {
      "application/vnd.jupyter.widget-view+json": {
       "model_id": "3421175487ef46118f9cfe0e6a8c7bc7",
       "version_major": 2,
       "version_minor": 0
      },
      "text/plain": [
       "  0%|          | 0/16 [00:00<?, ?ex/s]"
      ]
     },
     "metadata": {},
     "output_type": "display_data"
    },
    {
     "data": {
      "application/vnd.jupyter.widget-view+json": {
       "model_id": "71ac0dcaa21a4d28b13559d327a1748e",
       "version_major": 2,
       "version_minor": 0
      },
      "text/plain": [
       "  0%|          | 0/8 [00:00<?, ?ex/s]"
      ]
     },
     "metadata": {},
     "output_type": "display_data"
    },
    {
     "name": "stderr",
     "output_type": "stream",
     "text": [
      "You're using a GPT2TokenizerFast tokenizer. Please note that with a fast tokenizer, using the `__call__` method is faster than using a method to encode the text followed by a call to the `pad` method to get a padded encoding.\n",
      "100%|████████████████████████████████████████████████████████████████████████████████████| 2/2 [00:27<00:00, 13.51s/it]"
     ]
    },
    {
     "name": "stdout",
     "output_type": "stream",
     "text": [
      "{'score': 20.613982847195594}\n"
     ]
    },
    {
     "name": "stderr",
     "output_type": "stream",
     "text": [
      "\n"
     ]
    }
   ],
   "source": [
    "# Perplexity on an encoded test set (taken from one of our datasets)\n",
    "metric = BBMetric.load_metric(\"perplexity\")\n",
    "\n",
    "# Functions to load a dataset and prepare it, used for perplexity\n",
    "from transformers import TFAutoModelForCausalLM, AutoTokenizer\n",
    "from transformers import AdamWeightDecay\n",
    "from lib.BBData import character_dict, source_dict, random_state, model_name\n",
    "from datasets import load_dataset, DatasetDict\n",
    "from transformers import DataCollatorForLanguageModeling\n",
    "from lib.BBDataLoad import load_char_df, dialogpt_preprocess_function\n",
    "\n",
    "# Load and compile dialogpt defaul model\n",
    "model = TFAutoModelForCausalLM.from_pretrained(model_name, cache_dir=os.path.join(base_folder, \"cache\"))\n",
    "model.compile(optimizer=AdamWeightDecay(learning_rate=2e-5))\n",
    "tokenizer = AutoTokenizer.from_pretrained(model_name, cache_dir=os.path.join(base_folder, \"cache\"))\n",
    "tokenizer.pad_token = '#'\n",
    "\n",
    "# Select a batch size, used for perplexity\n",
    "batch_size = 8\n",
    "\n",
    "# Load the Vader dialogpt finetuned model\n",
    "model_vader = TFAutoModelForCausalLM.from_pretrained(pretrained_model_name_or_path=\\\n",
    "                    os.path.join(base_folder, 'Data', 'Characters', 'Vader', character_dict['Vader']['checkpoint_folder']))\n",
    "model_vader.compile()\n",
    "data_collator = DataCollatorForLanguageModeling(mlm=False, tokenizer=tokenizer, return_tensors='tf')\n",
    "\n",
    "# Load the Barney dataset and process it as a conversation\n",
    "vader_hg = load_char_df('Vader', base_folder)\n",
    "tokenized_vader_hg = vader_hg.map(lambda row: dialogpt_preprocess_function(row, tokenizer), batched=False)\n",
    "# Transform the HuggingFace dataset as a tensorflow one, ready to be fed to the model\n",
    "vader_test_set = tokenized_vader_hg[\"test\"].to_tf_dataset(\n",
    "    columns=[\"input_ids\", \"attention_mask\", \"labels\"],\n",
    "    shuffle=False,\n",
    "    batch_size=batch_size,\n",
    "    collate_fn=data_collator,\n",
    ")\n",
    "\n",
    "print(metric.compute(model=model_vader, encoded_test_set=vader_test_set))"
   ]
  },
  {
   "cell_type": "code",
   "execution_count": 13,
   "metadata": {},
   "outputs": [
    {
     "name": "stdout",
     "output_type": "stream",
     "text": [
      "{'score': 0.2333333333333333, 'std': 0.09428090415820632}\n"
     ]
    },
    {
     "name": "stderr",
     "output_type": "stream",
     "text": [
      "E:\\Programs\\Anaconda\\envs\\nlp\\Lib\\site-packages\\nlgmetricverse\\metrics\\_core\\base.py:86: FutureWarning: Metric is deprecated and will be removed in the next major version of datasets. Use the new library 🤗 Evaluate instead: https://huggingface.co/docs/evaluate\n",
      "  super().__init__(\n"
     ]
    }
   ],
   "source": [
    "# Repetitiveness of sentences\n",
    "metric = BBMetric.load_metric(\"repetitiveness\")\n",
    "\n",
    "print(metric.compute(sentences=sentences_basic))"
   ]
  },
  {
   "cell_type": "code",
   "execution_count": 14,
   "metadata": {},
   "outputs": [
    {
     "name": "stdout",
     "output_type": "stream",
     "text": [
      "{'score': 76.66666666666667, 'std': 20.548046676563256}\n"
     ]
    }
   ],
   "source": [
    "# TER on a pair of sets of sentences\n",
    "metric = BBMetric.load_metric(\"term error rate\")\n",
    "\n",
    "print(metric.compute(predictions=sentences_basic, references=sentences_basic_2))"
   ]
  },
  {
   "cell_type": "code",
   "execution_count": 15,
   "metadata": {},
   "outputs": [
    {
     "name": "stderr",
     "output_type": "stream",
     "text": [
      "Some weights of the model checkpoint at distilbert-base-uncased were not used when initializing DistilBertModel: ['vocab_projector.weight', 'vocab_projector.bias', 'vocab_transform.bias', 'vocab_transform.weight', 'vocab_layer_norm.weight', 'vocab_layer_norm.bias']\n",
      "- This IS expected if you are initializing DistilBertModel from the checkpoint of a model trained on another task or with another architecture (e.g. initializing a BertForSequenceClassification model from a BertForPreTraining model).\n",
      "- This IS NOT expected if you are initializing DistilBertModel from the checkpoint of a model that you expect to be exactly identical (initializing a BertForSequenceClassification model from a BertForSequenceClassification model).\n"
     ]
    },
    {
     "name": "stdout",
     "output_type": "stream",
     "text": [
      "{'score': 0.8650024731953939, 'std': 0.09010275421675674}\n"
     ]
    }
   ],
   "source": [
    "# BERTScore on a pair of sets of sentences\n",
    "metric = BBMetric.load_metric(\"bertscore\")\n",
    "\n",
    "print(metric.compute(predictions=sentences_basic, references=sentences_basic_2))"
   ]
  },
  {
   "cell_type": "code",
   "execution_count": 16,
   "metadata": {},
   "outputs": [
    {
     "name": "stderr",
     "output_type": "stream",
     "text": [
      "WARNING:comet.models.base:Path lightning_logs/cometinho_part-i/checkpoints/epoch=0-step=899999.ckpt does not exist!\n",
      "E:\\Programs\\Anaconda\\envs\\nlp\\Lib\\site-packages\\pytorch_lightning\\trainer\\connectors\\callback_connector.py:96: LightningDeprecationWarning: Setting `Trainer(progress_bar_refresh_rate=0)` is deprecated in v1.5 and will be removed in v1.7. Please pass `pytorch_lightning.callbacks.progress.TQDMProgressBar` with `refresh_rate` directly to the Trainer's `callbacks` argument instead. Or, to disable the progress bar pass `enable_progress_bar = False` to the Trainer.\n",
      "  rank_zero_deprecation(\n",
      "INFO:pytorch_lightning.utilities.rank_zero:GPU available: False, used: False\n",
      "INFO:pytorch_lightning.utilities.rank_zero:TPU available: False, using: 0 TPU cores\n",
      "INFO:pytorch_lightning.utilities.rank_zero:IPU available: False, using: 0 IPUs\n",
      "INFO:pytorch_lightning.utilities.rank_zero:HPU available: False, using: 0 HPUs\n"
     ]
    },
    {
     "name": "stdout",
     "output_type": "stream",
     "text": [
      "{'score': -1.1263877749443054, 'std': 0.19313412800715013}\n"
     ]
    }
   ],
   "source": [
    "# COMET on a triple of sets of sentences\n",
    "metric = BBMetric.load_metric(\"comet\")\n",
    "\n",
    "print(metric.compute(sources=sentences_basic, predictions=sentences_barney, references=sentences_basic_2))"
   ]
  },
  {
   "cell_type": "code",
   "execution_count": 17,
   "metadata": {},
   "outputs": [
    {
     "name": "stderr",
     "output_type": "stream",
     "text": [
      "WARNING:evaluate_modules.metrics.evaluate-metric--bleurt.98e148b2f8c4a88aba5037e4e0e90c9fd9ec35dc37a054ded8cfef0fa801ffab.bleurt:Using default BLEURT-Base checkpoint for sequence maximum length 128. You can use a bigger model for better results with e.g.: evaluate.load('bleurt', 'bleurt-large-512').\n"
     ]
    },
    {
     "name": "stdout",
     "output_type": "stream",
     "text": [
      "INFO:tensorflow:Reading checkpoint C:\\Users\\tonel\\.cache\\huggingface\\metrics\\bleurt\\default\\downloads\\extracted\\b094b72f3dc7e1712a641ab624024c3b182ff714848ee334f1cc7a628d0b7798\\bleurt-base-128.\n"
     ]
    },
    {
     "name": "stderr",
     "output_type": "stream",
     "text": [
      "INFO:tensorflow:Reading checkpoint C:\\Users\\tonel\\.cache\\huggingface\\metrics\\bleurt\\default\\downloads\\extracted\\b094b72f3dc7e1712a641ab624024c3b182ff714848ee334f1cc7a628d0b7798\\bleurt-base-128.\n"
     ]
    },
    {
     "name": "stdout",
     "output_type": "stream",
     "text": [
      "INFO:tensorflow:Config file found, reading.\n"
     ]
    },
    {
     "name": "stderr",
     "output_type": "stream",
     "text": [
      "INFO:tensorflow:Config file found, reading.\n"
     ]
    },
    {
     "name": "stdout",
     "output_type": "stream",
     "text": [
      "INFO:tensorflow:Will load checkpoint bert_custom\n"
     ]
    },
    {
     "name": "stderr",
     "output_type": "stream",
     "text": [
      "INFO:tensorflow:Will load checkpoint bert_custom\n"
     ]
    },
    {
     "name": "stdout",
     "output_type": "stream",
     "text": [
      "INFO:tensorflow:Loads full paths and checks that files exists.\n"
     ]
    },
    {
     "name": "stderr",
     "output_type": "stream",
     "text": [
      "INFO:tensorflow:Loads full paths and checks that files exists.\n"
     ]
    },
    {
     "name": "stdout",
     "output_type": "stream",
     "text": [
      "INFO:tensorflow:... name:bert_custom\n"
     ]
    },
    {
     "name": "stderr",
     "output_type": "stream",
     "text": [
      "INFO:tensorflow:... name:bert_custom\n"
     ]
    },
    {
     "name": "stdout",
     "output_type": "stream",
     "text": [
      "INFO:tensorflow:... vocab_file:vocab.txt\n"
     ]
    },
    {
     "name": "stderr",
     "output_type": "stream",
     "text": [
      "INFO:tensorflow:... vocab_file:vocab.txt\n"
     ]
    },
    {
     "name": "stdout",
     "output_type": "stream",
     "text": [
      "INFO:tensorflow:... bert_config_file:bert_config.json\n"
     ]
    },
    {
     "name": "stderr",
     "output_type": "stream",
     "text": [
      "INFO:tensorflow:... bert_config_file:bert_config.json\n"
     ]
    },
    {
     "name": "stdout",
     "output_type": "stream",
     "text": [
      "INFO:tensorflow:... do_lower_case:True\n"
     ]
    },
    {
     "name": "stderr",
     "output_type": "stream",
     "text": [
      "INFO:tensorflow:... do_lower_case:True\n"
     ]
    },
    {
     "name": "stdout",
     "output_type": "stream",
     "text": [
      "INFO:tensorflow:... max_seq_length:128\n"
     ]
    },
    {
     "name": "stderr",
     "output_type": "stream",
     "text": [
      "INFO:tensorflow:... max_seq_length:128\n"
     ]
    },
    {
     "name": "stdout",
     "output_type": "stream",
     "text": [
      "INFO:tensorflow:Creating BLEURT scorer.\n"
     ]
    },
    {
     "name": "stderr",
     "output_type": "stream",
     "text": [
      "INFO:tensorflow:Creating BLEURT scorer.\n"
     ]
    },
    {
     "name": "stdout",
     "output_type": "stream",
     "text": [
      "INFO:tensorflow:Creating WordPiece tokenizer.\n"
     ]
    },
    {
     "name": "stderr",
     "output_type": "stream",
     "text": [
      "INFO:tensorflow:Creating WordPiece tokenizer.\n"
     ]
    },
    {
     "name": "stdout",
     "output_type": "stream",
     "text": [
      "INFO:tensorflow:WordPiece tokenizer instantiated.\n"
     ]
    },
    {
     "name": "stderr",
     "output_type": "stream",
     "text": [
      "INFO:tensorflow:WordPiece tokenizer instantiated.\n"
     ]
    },
    {
     "name": "stdout",
     "output_type": "stream",
     "text": [
      "INFO:tensorflow:Creating Eager Mode predictor.\n"
     ]
    },
    {
     "name": "stderr",
     "output_type": "stream",
     "text": [
      "INFO:tensorflow:Creating Eager Mode predictor.\n"
     ]
    },
    {
     "name": "stdout",
     "output_type": "stream",
     "text": [
      "INFO:tensorflow:Loading model.\n"
     ]
    },
    {
     "name": "stderr",
     "output_type": "stream",
     "text": [
      "INFO:tensorflow:Loading model.\n"
     ]
    },
    {
     "name": "stdout",
     "output_type": "stream",
     "text": [
      "INFO:tensorflow:BLEURT initialized.\n"
     ]
    },
    {
     "name": "stderr",
     "output_type": "stream",
     "text": [
      "INFO:tensorflow:BLEURT initialized.\n"
     ]
    },
    {
     "name": "stdout",
     "output_type": "stream",
     "text": [
      "{'score': -1.504532257715861, 'std': 0.18247956505028967}\n"
     ]
    }
   ],
   "source": [
    "# BLEURT on a pair of sets of sentences\n",
    "metric = BBMetric.load_metric(\"bleurt\")\n",
    "\n",
    "print(metric.compute(predictions=sentences_barney, references=sentences_basic))"
   ]
  },
  {
   "cell_type": "code",
   "execution_count": 18,
   "metadata": {},
   "outputs": [
    {
     "name": "stderr",
     "output_type": "stream",
     "text": [
      "WARNING:gensim.models.keyedvectors:At least one of the documents had no words that were in the vocabulary.\n"
     ]
    },
    {
     "name": "stdout",
     "output_type": "stream",
     "text": [
      "{'score': 0.0, 'std': 0.0}\n"
     ]
    }
   ],
   "source": [
    "# Word Mover Distance on a pair of sets of sentences\n",
    "metric = BBMetric.load_metric(\"word mover distance\")\n",
    "\n",
    "print(metric.compute(predictions=sentences_vader, references=sentences_vader))"
   ]
  },
  {
   "cell_type": "code",
   "execution_count": 19,
   "metadata": {},
   "outputs": [
    {
     "name": "stdout",
     "output_type": "stream",
     "text": [
      "{'score': -4.447240034739177}\n"
     ]
    }
   ],
   "source": [
    "# BARTScore on a pair of sets of sentences\n",
    "metric = BBMetric.load_metric(\"bartscore\")\n",
    "\n",
    "print(metric.compute(predictions=sentences_barney, references=sentences_basic))"
   ]
  },
  {
   "cell_type": "code",
   "execution_count": 20,
   "metadata": {},
   "outputs": [
    {
     "name": "stdout",
     "output_type": "stream",
     "text": [
      "{'score': 0.8360909024874369, 'std': 0.05260148578323149}\n"
     ]
    }
   ],
   "source": [
    "# EED on a pair of sets of sentences\n",
    "metric = BBMetric.load_metric(\"extended edit distance\")\n",
    "\n",
    "print(metric.compute(predictions=sentences_barney, references=sentences_basic))"
   ]
  },
  {
   "cell_type": "markdown",
   "metadata": {},
   "source": [
    "# Saving & Loading Metrics"
   ]
  },
  {
   "cell_type": "code",
   "execution_count": null,
   "metadata": {},
   "outputs": [],
   "source": [
    "# Metric metadata creation\n",
    "metric_name = 'dummy metric'\n",
    "metric_name_pretty = 'Dummy Metric'\n",
    "metric_version = 1\n",
    "metric_actors = {\n",
    "    \"document\": [\n",
    "        MetricActor.DATASET_CHAR,\n",
    "        \"Barney\"\n",
    "    ],\n",
    "    \"training_set\": [\n",
    "        MetricActor.DATASET_CHAR,\n",
    "        \"Barney\"\n",
    "    ]\n",
    "}\n",
    "metric_result = {\n",
    "    \"score\": 0.9984034299850464,\n",
    "    \"std\": 0.027748608961701393\n",
    "}\n",
    "metric_attempt = 0\n",
    "metric_context = {                          \n",
    "    \"dialogpt_size\": \"small\",\n",
    "    \"dialogpt_context_sentences\": 5,\n",
    "    \"dialogpt_nbeams_beams\": 3,\n",
    "    \"dialogpt_sample_top_p\": 0.92,\n",
    "    \"dialogpt_sample_top_k\": 50\n",
    "}\n",
    "metric_params = {}\n",
    "metric_samples = 'Unknown'\n",
    "metric_hash = dict_hash({'metric_name': metric_name,\n",
    "                                         'metric_version': metric_version,\n",
    "                                         'metric_attempt': metric_attempt,\n",
    "                                         'metric_actors': metric_actors,\n",
    "                                         'context': metric_context,\n",
    "                                         'metric_params': metric_params,\n",
    "                                         'metric_samples': metric_samples})\n",
    "\n",
    "# This is the important one. Each metric should contain all these entries\n",
    "metric_dict = {\n",
    "        \"metric_name\": metric_name,           # Unique name of the metric\n",
    "        \"metric_version\": metric_version,     # Metric version (useful if you change how a metric works and recompute)\n",
    "        \"metric_attempt\": metric_attempt,     # Incremental value for multiple computations of the same metric (e.g. for std)\n",
    "        \"metric_actors\": metric_actors,       # Who this metric is computed on\n",
    "        \"metric_dependency\": get_metric_dependency(metric_name, metric_actors), # Is this metric a function of data or chatbot?\n",
    "        \"metric_params\": metric_params,       # Additional params of the metric (e.g. ngram_size for distinct)\n",
    "        \"context\": metric_context,            # External parameters, such as chatbot characteristics\n",
    "        \"metric_arity\": get_metric_arity(metric_name), # Metric arity\n",
    "        \"metric_samples\": metric_samples,     # Batch size of the metric\n",
    "        \"metric_determinism\": get_metric_determinism(metric_name, metric_version), # Is this metric algorithmic or not?\n",
    "        \"answer\": metric_result,              # Score of the metric, may include std (Any dictionary can go here)\n",
    "        \"hash\": metric_hash                   # Unique hash for this metric, used to not store duplicates\n",
    "    }\n",
    "\n",
    "metric_dict = {\n",
    "    metric_hash: metric_dict\n",
    "}\n",
    "printer.pprint(metric_dict) # Metric is now ready to be saved!"
   ]
  },
  {
   "cell_type": "code",
   "execution_count": null,
   "metadata": {},
   "outputs": [],
   "source": [
    "# Save metrics\n",
    "save_metric_by_name(out_folder, 'Dummy Metric', metric_dict)"
   ]
  },
  {
   "cell_type": "code",
   "execution_count": null,
   "metadata": {},
   "outputs": [],
   "source": [
    "# Load metrics\n",
    "metric_dict = load_metric_by_name(out_folder, 'Dummy Metric')\n",
    "printer.pprint(metric_dict)"
   ]
  },
  {
   "cell_type": "code",
   "execution_count": null,
   "metadata": {},
   "outputs": [],
   "source": []
  }
 ],
 "metadata": {
  "kernelspec": {
   "display_name": "Python 3 (ipykernel)",
   "language": "python",
   "name": "python3"
  },
  "language_info": {
   "codemirror_mode": {
    "name": "ipython",
    "version": 3
   },
   "file_extension": ".py",
   "mimetype": "text/x-python",
   "name": "python",
   "nbconvert_exporter": "python",
   "pygments_lexer": "ipython3",
   "version": "3.9.13"
  },
  "vscode": {
   "interpreter": {
    "hash": "451812313a2cc9ef7b1a116a2be532c610a0f65ac693e04b1a4edd064a67cb06"
   }
  }
 },
 "nbformat": 4,
 "nbformat_minor": 4
}
