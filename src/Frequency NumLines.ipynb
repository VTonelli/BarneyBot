{
 "cells": [
  {
   "cell_type": "code",
   "execution_count": 1,
   "metadata": {},
   "outputs": [
    {
     "name": "stdout",
     "output_type": "stream",
     "text": [
      "pip install -r \"C:\\Users\\User\\Documents\\Unibo\\NLP\\BarneyBot\\requirements.txt\"\n",
      "Impossible to setup anaconda\n",
      "C:\\Users\\User\\Documents\\Unibo\\NLP\\BarneyBot\n"
     ]
    }
   ],
   "source": [
    "### Run environment setup\n",
    "import os\n",
    "import lib.BBSetup as BBSetup\n",
    "\n",
    "try:\n",
    "    from google.colab import drive\n",
    "    BBSetup.colab_setup(mount_folder=r\"/content/drive/My Drive/unibo/NLP_project/BarneyBot\")\n",
    "except:\n",
    "    try:\n",
    "        BBSetup.anaconda_setup(base_folder=r\"C:\\Users\\User\\Documents\\Unibo\\NLP\\BarneyBot\",\n",
    "                            env_name=\"nlp\")\n",
    "    except:\n",
    "        print(\"Impossible to setup anaconda\")\n",
    "\n",
    "### Define folders\n",
    "base_folder = BBSetup.BASE_FOLDER\n",
    "print(base_folder)\n",
    "out_folder = BBSetup.set_folder(os.path.join(base_folder, 'Metrics', 'New'))"
   ]
  },
  {
   "cell_type": "code",
   "execution_count": 2,
   "metadata": {},
   "outputs": [
    {
     "name": "stderr",
     "output_type": "stream",
     "text": [
      "c:\\Users\\User\\Documents\\Unibo\\NLP\\BarneyBot\\.env\\lib\\site-packages\\tqdm\\auto.py:22: TqdmWarning: IProgress not found. Please update jupyter and ipywidgets. See https://ipywidgets.readthedocs.io/en/stable/user_install.html\n",
      "  from .autonotebook import tqdm as notebook_tqdm\n",
      "[nltk_data] Downloading package stopwords to\n",
      "[nltk_data]     C:\\Users\\User\\AppData\\Roaming\\nltk_data...\n",
      "[nltk_data]   Package stopwords is already up-to-date!\n"
     ]
    }
   ],
   "source": [
    "from functools import partial\n",
    "from os.path import join, exists\n",
    "import numpy as np\n",
    "from sklearn.metrics import confusion_matrix\n",
    "from matplotlib import pyplot as plt\n",
    "#\n",
    "from sklearn.metrics import classification_report as sklcls_report\n",
    "from sklearn.metrics import f1_score, accuracy_score\n",
    "from transformers import DataCollatorForLanguageModeling, AutoTokenizer, TFAutoModelForCausalLM\n",
    "#\n",
    "from transformers import logging\n",
    "logging.set_verbosity_info()\n",
    "# only report errors\n",
    "logging.set_verbosity(logging.CRITICAL)\n",
    "#\n",
    "# Import the metrics library\n",
    "from lib.BBMetrics import BBMetric\n",
    "# Pretty print module\n",
    "import pprint\n",
    "from lib.BBMetricResults import *\n",
    "printer = pprint.PrettyPrinter(depth=4, width=300)\n",
    "# Import project data\n",
    "from lib.BBData import character_dict, model_name, random_state\n",
    "from lib.BBDataLoad import dialogpt_preprocess_function, load_char_df, get_chatbot_predictions, merge_df_for_metrics"
   ]
  },
  {
   "cell_type": "code",
   "execution_count": 3,
   "metadata": {},
   "outputs": [
    {
     "name": "stdout",
     "output_type": "stream",
     "text": [
      "C:\\Users\\User\\Documents\\Unibo\\NLP\\BarneyBot\\Data\\Characters\n"
     ]
    }
   ],
   "source": [
    "characters_folder = join(base_folder, \"Data\", \"Characters\")\n",
    "print(characters_folder)\n",
    "characters = list(character_dict.keys())\n",
    "classification_report = partial(sklcls_report, target_names=characters)"
   ]
  },
  {
   "cell_type": "code",
   "execution_count": 4,
   "metadata": {},
   "outputs": [],
   "source": [
    "\n",
    "tokenizer = AutoTokenizer.from_pretrained(model_name, cache_dir=join(\"..\", \"cache\"))\n",
    "tokenizer.pad_token = '#'\n",
    "data_collator = DataCollatorForLanguageModeling(mlm=False, tokenizer=tokenizer, return_tensors='tf')\n",
    "# \n",
    "characters_noDefault = characters.copy()\n",
    "characters_noDefault.remove('Default')"
   ]
  },
  {
   "cell_type": "code",
   "execution_count": 5,
   "metadata": {},
   "outputs": [
    {
     "name": "stdout",
     "output_type": "stream",
     "text": [
      "{'name': 'frequency chatbot classifier', 'args': {'train': {'required': {'characters_path'}, 'optional': {'mode'}}, 'compute': {'required': {'sentences'}, 'optional': set()}}, 'returns': ['score', 'label'], 'description': None, 'paper': None, 'save_actors': ['document']}\n"
     ]
    }
   ],
   "source": [
    "metric = BBMetric.load_metric(\"frequency chatbot classifier\")\n",
    "print(metric)"
   ]
  },
  {
   "cell_type": "code",
   "execution_count": 6,
   "metadata": {},
   "outputs": [
    {
     "name": "stdout",
     "output_type": "stream",
     "text": [
      "Loading data\n"
     ]
    },
    {
     "name": "stderr",
     "output_type": "stream",
     "text": [
      "100%|██████████| 9/9 [00:03<00:00,  2.92it/s]\n"
     ]
    },
    {
     "name": "stdout",
     "output_type": "stream",
     "text": [
      "Preprocessing data\n"
     ]
    },
    {
     "name": "stderr",
     "output_type": "stream",
     "text": [
      "100%|██████████| 9/9 [00:09<00:00,  1.00s/it]\n"
     ]
    },
    {
     "name": "stdout",
     "output_type": "stream",
     "text": [
      "Training model\n",
      "Training done!\n"
     ]
    }
   ],
   "source": [
    "metric.train(characters_path=os.path.join(base_folder, \"Data\",\"Characters\"))"
   ]
  },
  {
   "cell_type": "code",
   "execution_count": 7,
   "metadata": {},
   "outputs": [
    {
     "name": "stdout",
     "output_type": "stream",
     "text": [
      "model loading\n",
      "model loaded\n"
     ]
    },
    {
     "name": "stderr",
     "output_type": "stream",
     "text": [
      "Using custom data configuration default-d78476db32c8db98\n",
      "Found cached dataset csv (c:/Users/User/Documents/Unibo/NLP/BarneyBot/src/cache/csv/default-d78476db32c8db98/0.0.0/6b34fb8fcf56f7c8ba51dc895bfa2bfbe43546f190a60fcf74bb5e8afdcc2317)\n",
      "100%|██████████| 1/1 [00:00<00:00, 306.78it/s]\n",
      "Loading cached split indices for dataset at c:/Users/User/Documents/Unibo/NLP/BarneyBot/src/cache/csv/default-d78476db32c8db98/0.0.0/6b34fb8fcf56f7c8ba51dc895bfa2bfbe43546f190a60fcf74bb5e8afdcc2317\\cache-312847c31a279b58.arrow and c:/Users/User/Documents/Unibo/NLP/BarneyBot/src/cache/csv/default-d78476db32c8db98/0.0.0/6b34fb8fcf56f7c8ba51dc895bfa2bfbe43546f190a60fcf74bb5e8afdcc2317\\cache-3e6545d8f1f160fe.arrow\n",
      "Loading cached split indices for dataset at c:/Users/User/Documents/Unibo/NLP/BarneyBot/src/cache/csv/default-d78476db32c8db98/0.0.0/6b34fb8fcf56f7c8ba51dc895bfa2bfbe43546f190a60fcf74bb5e8afdcc2317\\cache-9cde59f05c14ff78.arrow and c:/Users/User/Documents/Unibo/NLP/BarneyBot/src/cache/csv/default-d78476db32c8db98/0.0.0/6b34fb8fcf56f7c8ba51dc895bfa2bfbe43546f190a60fcf74bb5e8afdcc2317\\cache-51cef73c06a60f5a.arrow\n",
      "Loading cached processed dataset at c:/Users/User/Documents/Unibo/NLP/BarneyBot/src/cache/csv/default-d78476db32c8db98/0.0.0/6b34fb8fcf56f7c8ba51dc895bfa2bfbe43546f190a60fcf74bb5e8afdcc2317\\cache-532b2556d5d8f2af.arrow\n",
      "Loading cached processed dataset at c:/Users/User/Documents/Unibo/NLP/BarneyBot/src/cache/csv/default-d78476db32c8db98/0.0.0/6b34fb8fcf56f7c8ba51dc895bfa2bfbe43546f190a60fcf74bb5e8afdcc2317\\cache-442a20ea7a55be49.arrow\n",
      "Loading cached processed dataset at c:/Users/User/Documents/Unibo/NLP/BarneyBot/src/cache/csv/default-d78476db32c8db98/0.0.0/6b34fb8fcf56f7c8ba51dc895bfa2bfbe43546f190a60fcf74bb5e8afdcc2317\\cache-e7bd99c36fce62ab.arrow\n",
      "Loading cached shuffled indices for dataset at c:/Users/User/Documents/Unibo/NLP/BarneyBot/src/cache/csv/default-d78476db32c8db98/0.0.0/6b34fb8fcf56f7c8ba51dc895bfa2bfbe43546f190a60fcf74bb5e8afdcc2317\\cache-8dc459ec58312e18.arrow\n"
     ]
    },
    {
     "name": "stdout",
     "output_type": "stream",
     "text": [
      "Run 0/3\n",
      "Creating predictions\n"
     ]
    },
    {
     "name": "stderr",
     "output_type": "stream",
     "text": [
      "100%|██████████| 1/1 [00:02<00:00,  2.16s/it]\n",
      "100%|██████████| 1/1 [00:00<00:00, 568.56it/s]\n",
      "Loading cached shuffled indices for dataset at c:/Users/User/Documents/Unibo/NLP/BarneyBot/src/cache/csv/default-d78476db32c8db98/0.0.0/6b34fb8fcf56f7c8ba51dc895bfa2bfbe43546f190a60fcf74bb5e8afdcc2317\\cache-8dc459ec58312e18.arrow\n"
     ]
    },
    {
     "name": "stdout",
     "output_type": "stream",
     "text": [
      "Creating predictions\n"
     ]
    },
    {
     "name": "stderr",
     "output_type": "stream",
     "text": [
      "100%|██████████| 2/2 [00:07<00:00,  3.52s/it]\n",
      "100%|██████████| 2/2 [00:00<00:00, 664.81it/s]\n",
      "Loading cached shuffled indices for dataset at c:/Users/User/Documents/Unibo/NLP/BarneyBot/src/cache/csv/default-d78476db32c8db98/0.0.0/6b34fb8fcf56f7c8ba51dc895bfa2bfbe43546f190a60fcf74bb5e8afdcc2317\\cache-8dc459ec58312e18.arrow\n"
     ]
    },
    {
     "name": "stdout",
     "output_type": "stream",
     "text": [
      "Creating predictions\n"
     ]
    },
    {
     "name": "stderr",
     "output_type": "stream",
     "text": [
      "100%|██████████| 3/3 [00:12<00:00,  4.12s/it]\n",
      "100%|██████████| 3/3 [00:00<00:00, 710.34it/s]\n",
      "Loading cached shuffled indices for dataset at c:/Users/User/Documents/Unibo/NLP/BarneyBot/src/cache/csv/default-d78476db32c8db98/0.0.0/6b34fb8fcf56f7c8ba51dc895bfa2bfbe43546f190a60fcf74bb5e8afdcc2317\\cache-8dc459ec58312e18.arrow\n"
     ]
    },
    {
     "name": "stdout",
     "output_type": "stream",
     "text": [
      "Creating predictions\n"
     ]
    },
    {
     "name": "stderr",
     "output_type": "stream",
     "text": [
      "100%|██████████| 4/4 [00:15<00:00,  3.79s/it]\n",
      "100%|██████████| 4/4 [00:00<00:00, 867.26it/s]\n",
      "Loading cached shuffled indices for dataset at c:/Users/User/Documents/Unibo/NLP/BarneyBot/src/cache/csv/default-d78476db32c8db98/0.0.0/6b34fb8fcf56f7c8ba51dc895bfa2bfbe43546f190a60fcf74bb5e8afdcc2317\\cache-8dc459ec58312e18.arrow\n"
     ]
    },
    {
     "name": "stdout",
     "output_type": "stream",
     "text": [
      "Creating predictions\n"
     ]
    },
    {
     "name": "stderr",
     "output_type": "stream",
     "text": [
      "100%|██████████| 5/5 [00:16<00:00,  3.27s/it]\n",
      "100%|██████████| 5/5 [00:00<00:00, 993.11it/s]\n",
      "Loading cached shuffled indices for dataset at c:/Users/User/Documents/Unibo/NLP/BarneyBot/src/cache/csv/default-d78476db32c8db98/0.0.0/6b34fb8fcf56f7c8ba51dc895bfa2bfbe43546f190a60fcf74bb5e8afdcc2317\\cache-8dc459ec58312e18.arrow\n"
     ]
    },
    {
     "name": "stdout",
     "output_type": "stream",
     "text": [
      "Creating predictions\n"
     ]
    },
    {
     "name": "stderr",
     "output_type": "stream",
     "text": [
      "100%|██████████| 6/6 [00:21<00:00,  3.61s/it]\n",
      "100%|██████████| 6/6 [00:00<00:00, 1200.77it/s]\n",
      "Loading cached shuffled indices for dataset at c:/Users/User/Documents/Unibo/NLP/BarneyBot/src/cache/csv/default-d78476db32c8db98/0.0.0/6b34fb8fcf56f7c8ba51dc895bfa2bfbe43546f190a60fcf74bb5e8afdcc2317\\cache-8dc459ec58312e18.arrow\n"
     ]
    },
    {
     "name": "stdout",
     "output_type": "stream",
     "text": [
      "Creating predictions\n"
     ]
    },
    {
     "name": "stderr",
     "output_type": "stream",
     "text": [
      "100%|██████████| 7/7 [00:19<00:00,  2.81s/it]\n",
      "100%|██████████| 7/7 [00:00<00:00, 1172.95it/s]\n",
      "Loading cached shuffled indices for dataset at c:/Users/User/Documents/Unibo/NLP/BarneyBot/src/cache/csv/default-d78476db32c8db98/0.0.0/6b34fb8fcf56f7c8ba51dc895bfa2bfbe43546f190a60fcf74bb5e8afdcc2317\\cache-8dc459ec58312e18.arrow\n"
     ]
    },
    {
     "name": "stdout",
     "output_type": "stream",
     "text": [
      "Creating predictions\n"
     ]
    },
    {
     "name": "stderr",
     "output_type": "stream",
     "text": [
      "100%|██████████| 8/8 [00:20<00:00,  2.52s/it]\n",
      "100%|██████████| 8/8 [00:00<00:00, 995.92it/s]\n",
      "Loading cached shuffled indices for dataset at c:/Users/User/Documents/Unibo/NLP/BarneyBot/src/cache/csv/default-d78476db32c8db98/0.0.0/6b34fb8fcf56f7c8ba51dc895bfa2bfbe43546f190a60fcf74bb5e8afdcc2317\\cache-8dc459ec58312e18.arrow\n"
     ]
    },
    {
     "name": "stdout",
     "output_type": "stream",
     "text": [
      "Creating predictions\n"
     ]
    },
    {
     "name": "stderr",
     "output_type": "stream",
     "text": [
      "100%|██████████| 9/9 [00:37<00:00,  4.20s/it]\n",
      "100%|██████████| 9/9 [00:00<00:00, 983.35it/s]\n",
      "Loading cached shuffled indices for dataset at c:/Users/User/Documents/Unibo/NLP/BarneyBot/src/cache/csv/default-d78476db32c8db98/0.0.0/6b34fb8fcf56f7c8ba51dc895bfa2bfbe43546f190a60fcf74bb5e8afdcc2317\\cache-8dc459ec58312e18.arrow\n"
     ]
    },
    {
     "name": "stdout",
     "output_type": "stream",
     "text": [
      "Creating predictions\n"
     ]
    },
    {
     "name": "stderr",
     "output_type": "stream",
     "text": [
      "100%|██████████| 10/10 [00:51<00:00,  5.14s/it]\n",
      "100%|██████████| 10/10 [00:00<00:00, 1111.02it/s]\n",
      "Loading cached shuffled indices for dataset at c:/Users/User/Documents/Unibo/NLP/BarneyBot/src/cache/csv/default-d78476db32c8db98/0.0.0/6b34fb8fcf56f7c8ba51dc895bfa2bfbe43546f190a60fcf74bb5e8afdcc2317\\cache-8dc459ec58312e18.arrow\n"
     ]
    },
    {
     "name": "stdout",
     "output_type": "stream",
     "text": [
      "Creating predictions\n"
     ]
    },
    {
     "name": "stderr",
     "output_type": "stream",
     "text": [
      "100%|██████████| 11/11 [00:38<00:00,  3.52s/it]\n",
      "100%|██████████| 11/11 [00:00<00:00, 1222.51it/s]\n",
      "Loading cached shuffled indices for dataset at c:/Users/User/Documents/Unibo/NLP/BarneyBot/src/cache/csv/default-d78476db32c8db98/0.0.0/6b34fb8fcf56f7c8ba51dc895bfa2bfbe43546f190a60fcf74bb5e8afdcc2317\\cache-8dc459ec58312e18.arrow\n"
     ]
    },
    {
     "name": "stdout",
     "output_type": "stream",
     "text": [
      "Creating predictions\n"
     ]
    },
    {
     "name": "stderr",
     "output_type": "stream",
     "text": [
      "100%|██████████| 12/12 [00:29<00:00,  2.46s/it]\n",
      "100%|██████████| 12/12 [00:00<00:00, 1021.05it/s]\n",
      "Loading cached shuffled indices for dataset at c:/Users/User/Documents/Unibo/NLP/BarneyBot/src/cache/csv/default-d78476db32c8db98/0.0.0/6b34fb8fcf56f7c8ba51dc895bfa2bfbe43546f190a60fcf74bb5e8afdcc2317\\cache-8dc459ec58312e18.arrow\n"
     ]
    },
    {
     "name": "stdout",
     "output_type": "stream",
     "text": [
      "Creating predictions\n"
     ]
    },
    {
     "name": "stderr",
     "output_type": "stream",
     "text": [
      "100%|██████████| 13/13 [00:49<00:00,  3.77s/it]\n",
      "100%|██████████| 13/13 [00:00<00:00, 983.32it/s]\n",
      "Loading cached shuffled indices for dataset at c:/Users/User/Documents/Unibo/NLP/BarneyBot/src/cache/csv/default-d78476db32c8db98/0.0.0/6b34fb8fcf56f7c8ba51dc895bfa2bfbe43546f190a60fcf74bb5e8afdcc2317\\cache-8dc459ec58312e18.arrow\n"
     ]
    },
    {
     "name": "stdout",
     "output_type": "stream",
     "text": [
      "Creating predictions\n"
     ]
    },
    {
     "name": "stderr",
     "output_type": "stream",
     "text": [
      "100%|██████████| 14/14 [00:56<00:00,  4.04s/it]\n",
      "100%|██████████| 14/14 [00:00<00:00, 1248.12it/s]\n",
      "Loading cached shuffled indices for dataset at c:/Users/User/Documents/Unibo/NLP/BarneyBot/src/cache/csv/default-d78476db32c8db98/0.0.0/6b34fb8fcf56f7c8ba51dc895bfa2bfbe43546f190a60fcf74bb5e8afdcc2317\\cache-8dc459ec58312e18.arrow\n"
     ]
    },
    {
     "name": "stdout",
     "output_type": "stream",
     "text": [
      "Creating predictions\n"
     ]
    },
    {
     "name": "stderr",
     "output_type": "stream",
     "text": [
      "100%|██████████| 15/15 [00:57<00:00,  3.87s/it]\n",
      "100%|██████████| 15/15 [00:00<00:00, 1069.03it/s]\n",
      "Loading cached shuffled indices for dataset at c:/Users/User/Documents/Unibo/NLP/BarneyBot/src/cache/csv/default-d78476db32c8db98/0.0.0/6b34fb8fcf56f7c8ba51dc895bfa2bfbe43546f190a60fcf74bb5e8afdcc2317\\cache-8dc459ec58312e18.arrow\n"
     ]
    },
    {
     "name": "stdout",
     "output_type": "stream",
     "text": [
      "Creating predictions\n"
     ]
    },
    {
     "name": "stderr",
     "output_type": "stream",
     "text": [
      "100%|██████████| 16/16 [00:44<00:00,  2.77s/it]\n",
      "100%|██████████| 16/16 [00:00<00:00, 1227.80it/s]\n",
      "Loading cached shuffled indices for dataset at c:/Users/User/Documents/Unibo/NLP/BarneyBot/src/cache/csv/default-d78476db32c8db98/0.0.0/6b34fb8fcf56f7c8ba51dc895bfa2bfbe43546f190a60fcf74bb5e8afdcc2317\\cache-8dc459ec58312e18.arrow\n"
     ]
    },
    {
     "name": "stdout",
     "output_type": "stream",
     "text": [
      "Creating predictions\n"
     ]
    },
    {
     "name": "stderr",
     "output_type": "stream",
     "text": [
      "100%|██████████| 17/17 [01:07<00:00,  3.96s/it]\n",
      "100%|██████████| 17/17 [00:00<00:00, 1062.09it/s]\n",
      "Loading cached shuffled indices for dataset at c:/Users/User/Documents/Unibo/NLP/BarneyBot/src/cache/csv/default-d78476db32c8db98/0.0.0/6b34fb8fcf56f7c8ba51dc895bfa2bfbe43546f190a60fcf74bb5e8afdcc2317\\cache-8dc459ec58312e18.arrow\n"
     ]
    },
    {
     "name": "stdout",
     "output_type": "stream",
     "text": [
      "Creating predictions\n"
     ]
    },
    {
     "name": "stderr",
     "output_type": "stream",
     "text": [
      "100%|██████████| 18/18 [01:10<00:00,  3.89s/it]\n",
      "100%|██████████| 18/18 [00:00<00:00, 1064.35it/s]\n",
      "Loading cached shuffled indices for dataset at c:/Users/User/Documents/Unibo/NLP/BarneyBot/src/cache/csv/default-d78476db32c8db98/0.0.0/6b34fb8fcf56f7c8ba51dc895bfa2bfbe43546f190a60fcf74bb5e8afdcc2317\\cache-8dc459ec58312e18.arrow\n"
     ]
    },
    {
     "name": "stdout",
     "output_type": "stream",
     "text": [
      "Creating predictions\n"
     ]
    },
    {
     "name": "stderr",
     "output_type": "stream",
     "text": [
      "100%|██████████| 19/19 [00:53<00:00,  2.81s/it]\n",
      "100%|██████████| 19/19 [00:00<00:00, 1059.79it/s]\n",
      "Loading cached shuffled indices for dataset at c:/Users/User/Documents/Unibo/NLP/BarneyBot/src/cache/csv/default-d78476db32c8db98/0.0.0/6b34fb8fcf56f7c8ba51dc895bfa2bfbe43546f190a60fcf74bb5e8afdcc2317\\cache-8dc459ec58312e18.arrow\n"
     ]
    },
    {
     "name": "stdout",
     "output_type": "stream",
     "text": [
      "Creating predictions\n"
     ]
    },
    {
     "name": "stderr",
     "output_type": "stream",
     "text": [
      "100%|██████████| 20/20 [00:57<00:00,  2.86s/it]\n",
      "100%|██████████| 20/20 [00:00<00:00, 1111.12it/s]\n",
      "Loading cached shuffled indices for dataset at c:/Users/User/Documents/Unibo/NLP/BarneyBot/src/cache/csv/default-d78476db32c8db98/0.0.0/6b34fb8fcf56f7c8ba51dc895bfa2bfbe43546f190a60fcf74bb5e8afdcc2317\\cache-8dc459ec58312e18.arrow\n"
     ]
    },
    {
     "name": "stdout",
     "output_type": "stream",
     "text": [
      "Creating predictions\n"
     ]
    },
    {
     "name": "stderr",
     "output_type": "stream",
     "text": [
      "100%|██████████| 21/21 [01:09<00:00,  3.32s/it]\n",
      "100%|██████████| 21/21 [00:00<00:00, 1017.80it/s]\n",
      "Loading cached shuffled indices for dataset at c:/Users/User/Documents/Unibo/NLP/BarneyBot/src/cache/csv/default-d78476db32c8db98/0.0.0/6b34fb8fcf56f7c8ba51dc895bfa2bfbe43546f190a60fcf74bb5e8afdcc2317\\cache-8dc459ec58312e18.arrow\n"
     ]
    },
    {
     "name": "stdout",
     "output_type": "stream",
     "text": [
      "Creating predictions\n"
     ]
    },
    {
     "name": "stderr",
     "output_type": "stream",
     "text": [
      "100%|██████████| 22/22 [01:17<00:00,  3.50s/it]\n",
      "100%|██████████| 22/22 [00:00<00:00, 1157.91it/s]\n",
      "Loading cached shuffled indices for dataset at c:/Users/User/Documents/Unibo/NLP/BarneyBot/src/cache/csv/default-d78476db32c8db98/0.0.0/6b34fb8fcf56f7c8ba51dc895bfa2bfbe43546f190a60fcf74bb5e8afdcc2317\\cache-8dc459ec58312e18.arrow\n"
     ]
    },
    {
     "name": "stdout",
     "output_type": "stream",
     "text": [
      "Creating predictions\n"
     ]
    },
    {
     "name": "stderr",
     "output_type": "stream",
     "text": [
      "100%|██████████| 23/23 [01:21<00:00,  3.55s/it]\n",
      "100%|██████████| 23/23 [00:00<00:00, 1148.28it/s]\n",
      "Loading cached shuffled indices for dataset at c:/Users/User/Documents/Unibo/NLP/BarneyBot/src/cache/csv/default-d78476db32c8db98/0.0.0/6b34fb8fcf56f7c8ba51dc895bfa2bfbe43546f190a60fcf74bb5e8afdcc2317\\cache-8dc459ec58312e18.arrow\n"
     ]
    },
    {
     "name": "stdout",
     "output_type": "stream",
     "text": [
      "Creating predictions\n"
     ]
    },
    {
     "name": "stderr",
     "output_type": "stream",
     "text": [
      "100%|██████████| 24/24 [01:45<00:00,  4.40s/it]\n",
      "100%|██████████| 24/24 [00:00<00:00, 1199.80it/s]\n",
      "Loading cached shuffled indices for dataset at c:/Users/User/Documents/Unibo/NLP/BarneyBot/src/cache/csv/default-d78476db32c8db98/0.0.0/6b34fb8fcf56f7c8ba51dc895bfa2bfbe43546f190a60fcf74bb5e8afdcc2317\\cache-8dc459ec58312e18.arrow\n"
     ]
    },
    {
     "name": "stdout",
     "output_type": "stream",
     "text": [
      "Creating predictions\n"
     ]
    },
    {
     "name": "stderr",
     "output_type": "stream",
     "text": [
      "100%|██████████| 25/25 [01:07<00:00,  2.72s/it]\n",
      "100%|██████████| 25/25 [00:00<00:00, 1248.02it/s]\n",
      "Loading cached shuffled indices for dataset at c:/Users/User/Documents/Unibo/NLP/BarneyBot/src/cache/csv/default-d78476db32c8db98/0.0.0/6b34fb8fcf56f7c8ba51dc895bfa2bfbe43546f190a60fcf74bb5e8afdcc2317\\cache-8dc459ec58312e18.arrow\n"
     ]
    },
    {
     "name": "stdout",
     "output_type": "stream",
     "text": [
      "Creating predictions\n"
     ]
    },
    {
     "name": "stderr",
     "output_type": "stream",
     "text": [
      "100%|██████████| 26/26 [01:12<00:00,  2.78s/it]\n",
      "100%|██████████| 26/26 [00:00<00:00, 1136.70it/s]\n",
      "Loading cached shuffled indices for dataset at c:/Users/User/Documents/Unibo/NLP/BarneyBot/src/cache/csv/default-d78476db32c8db98/0.0.0/6b34fb8fcf56f7c8ba51dc895bfa2bfbe43546f190a60fcf74bb5e8afdcc2317\\cache-8dc459ec58312e18.arrow\n"
     ]
    },
    {
     "name": "stdout",
     "output_type": "stream",
     "text": [
      "Creating predictions\n"
     ]
    },
    {
     "name": "stderr",
     "output_type": "stream",
     "text": [
      "100%|██████████| 27/27 [01:59<00:00,  4.41s/it]\n",
      "100%|██████████| 27/27 [00:00<00:00, 809.80it/s]\n",
      "Loading cached shuffled indices for dataset at c:/Users/User/Documents/Unibo/NLP/BarneyBot/src/cache/csv/default-d78476db32c8db98/0.0.0/6b34fb8fcf56f7c8ba51dc895bfa2bfbe43546f190a60fcf74bb5e8afdcc2317\\cache-8dc459ec58312e18.arrow\n"
     ]
    },
    {
     "name": "stdout",
     "output_type": "stream",
     "text": [
      "Creating predictions\n"
     ]
    },
    {
     "name": "stderr",
     "output_type": "stream",
     "text": [
      "100%|██████████| 28/28 [02:08<00:00,  4.57s/it]\n",
      "100%|██████████| 28/28 [00:00<00:00, 903.12it/s]\n",
      "Loading cached shuffled indices for dataset at c:/Users/User/Documents/Unibo/NLP/BarneyBot/src/cache/csv/default-d78476db32c8db98/0.0.0/6b34fb8fcf56f7c8ba51dc895bfa2bfbe43546f190a60fcf74bb5e8afdcc2317\\cache-8dc459ec58312e18.arrow\n"
     ]
    },
    {
     "name": "stdout",
     "output_type": "stream",
     "text": [
      "Creating predictions\n"
     ]
    },
    {
     "name": "stderr",
     "output_type": "stream",
     "text": [
      "100%|██████████| 29/29 [01:56<00:00,  4.03s/it]\n",
      "100%|██████████| 29/29 [00:00<00:00, 935.65it/s]\n",
      "Loading cached shuffled indices for dataset at c:/Users/User/Documents/Unibo/NLP/BarneyBot/src/cache/csv/default-d78476db32c8db98/0.0.0/6b34fb8fcf56f7c8ba51dc895bfa2bfbe43546f190a60fcf74bb5e8afdcc2317\\cache-8dc459ec58312e18.arrow\n"
     ]
    },
    {
     "name": "stdout",
     "output_type": "stream",
     "text": [
      "Creating predictions\n"
     ]
    },
    {
     "name": "stderr",
     "output_type": "stream",
     "text": [
      "100%|██████████| 30/30 [01:38<00:00,  3.30s/it]\n",
      "100%|██████████| 30/30 [00:00<00:00, 1248.89it/s]\n",
      "Loading cached shuffled indices for dataset at c:/Users/User/Documents/Unibo/NLP/BarneyBot/src/cache/csv/default-d78476db32c8db98/0.0.0/6b34fb8fcf56f7c8ba51dc895bfa2bfbe43546f190a60fcf74bb5e8afdcc2317\\cache-8dc459ec58312e18.arrow\n"
     ]
    },
    {
     "name": "stdout",
     "output_type": "stream",
     "text": [
      "Creating predictions\n"
     ]
    },
    {
     "name": "stderr",
     "output_type": "stream",
     "text": [
      "100%|██████████| 31/31 [02:05<00:00,  4.03s/it]\n",
      "100%|██████████| 31/31 [00:00<00:00, 1007.65it/s]\n",
      "Loading cached shuffled indices for dataset at c:/Users/User/Documents/Unibo/NLP/BarneyBot/src/cache/csv/default-d78476db32c8db98/0.0.0/6b34fb8fcf56f7c8ba51dc895bfa2bfbe43546f190a60fcf74bb5e8afdcc2317\\cache-8dc459ec58312e18.arrow\n"
     ]
    },
    {
     "name": "stdout",
     "output_type": "stream",
     "text": [
      "Creating predictions\n"
     ]
    },
    {
     "name": "stderr",
     "output_type": "stream",
     "text": [
      "100%|██████████| 32/32 [01:34<00:00,  2.96s/it]\n",
      "100%|██████████| 32/32 [00:00<00:00, 1141.04it/s]\n",
      "Loading cached shuffled indices for dataset at c:/Users/User/Documents/Unibo/NLP/BarneyBot/src/cache/csv/default-d78476db32c8db98/0.0.0/6b34fb8fcf56f7c8ba51dc895bfa2bfbe43546f190a60fcf74bb5e8afdcc2317\\cache-8dc459ec58312e18.arrow\n"
     ]
    },
    {
     "name": "stdout",
     "output_type": "stream",
     "text": [
      "Creating predictions\n"
     ]
    },
    {
     "name": "stderr",
     "output_type": "stream",
     "text": [
      "100%|██████████| 33/33 [01:37<00:00,  2.96s/it]\n",
      "100%|██████████| 33/33 [00:00<00:00, 1010.87it/s]\n",
      "Loading cached shuffled indices for dataset at c:/Users/User/Documents/Unibo/NLP/BarneyBot/src/cache/csv/default-d78476db32c8db98/0.0.0/6b34fb8fcf56f7c8ba51dc895bfa2bfbe43546f190a60fcf74bb5e8afdcc2317\\cache-8dc459ec58312e18.arrow\n"
     ]
    },
    {
     "name": "stdout",
     "output_type": "stream",
     "text": [
      "Creating predictions\n"
     ]
    },
    {
     "name": "stderr",
     "output_type": "stream",
     "text": [
      "100%|██████████| 34/34 [02:05<00:00,  3.69s/it]\n",
      "100%|██████████| 34/34 [00:00<00:00, 1029.35it/s]\n",
      "Loading cached shuffled indices for dataset at c:/Users/User/Documents/Unibo/NLP/BarneyBot/src/cache/csv/default-d78476db32c8db98/0.0.0/6b34fb8fcf56f7c8ba51dc895bfa2bfbe43546f190a60fcf74bb5e8afdcc2317\\cache-8dc459ec58312e18.arrow\n"
     ]
    },
    {
     "name": "stdout",
     "output_type": "stream",
     "text": [
      "Creating predictions\n"
     ]
    },
    {
     "name": "stderr",
     "output_type": "stream",
     "text": [
      "100%|██████████| 35/35 [02:15<00:00,  3.87s/it]\n",
      "100%|██████████| 35/35 [00:00<00:00, 1026.96it/s]\n",
      "Loading cached shuffled indices for dataset at c:/Users/User/Documents/Unibo/NLP/BarneyBot/src/cache/csv/default-d78476db32c8db98/0.0.0/6b34fb8fcf56f7c8ba51dc895bfa2bfbe43546f190a60fcf74bb5e8afdcc2317\\cache-8dc459ec58312e18.arrow\n"
     ]
    },
    {
     "name": "stdout",
     "output_type": "stream",
     "text": [
      "Creating predictions\n"
     ]
    },
    {
     "name": "stderr",
     "output_type": "stream",
     "text": [
      "100%|██████████| 36/36 [02:56<00:00,  4.89s/it]\n",
      "100%|██████████| 36/36 [00:00<00:00, 1065.00it/s]\n",
      "Loading cached shuffled indices for dataset at c:/Users/User/Documents/Unibo/NLP/BarneyBot/src/cache/csv/default-d78476db32c8db98/0.0.0/6b34fb8fcf56f7c8ba51dc895bfa2bfbe43546f190a60fcf74bb5e8afdcc2317\\cache-8dc459ec58312e18.arrow\n"
     ]
    },
    {
     "name": "stdout",
     "output_type": "stream",
     "text": [
      "Creating predictions\n"
     ]
    },
    {
     "name": "stderr",
     "output_type": "stream",
     "text": [
      "100%|██████████| 37/37 [02:33<00:00,  4.15s/it]\n",
      "100%|██████████| 37/37 [00:00<00:00, 980.37it/s]\n",
      "Loading cached shuffled indices for dataset at c:/Users/User/Documents/Unibo/NLP/BarneyBot/src/cache/csv/default-d78476db32c8db98/0.0.0/6b34fb8fcf56f7c8ba51dc895bfa2bfbe43546f190a60fcf74bb5e8afdcc2317\\cache-8dc459ec58312e18.arrow\n"
     ]
    },
    {
     "name": "stdout",
     "output_type": "stream",
     "text": [
      "Creating predictions\n"
     ]
    },
    {
     "name": "stderr",
     "output_type": "stream",
     "text": [
      "100%|██████████| 38/38 [02:27<00:00,  3.89s/it]\n",
      "100%|██████████| 38/38 [00:00<00:00, 1057.79it/s]\n",
      "Loading cached shuffled indices for dataset at c:/Users/User/Documents/Unibo/NLP/BarneyBot/src/cache/csv/default-d78476db32c8db98/0.0.0/6b34fb8fcf56f7c8ba51dc895bfa2bfbe43546f190a60fcf74bb5e8afdcc2317\\cache-8dc459ec58312e18.arrow\n"
     ]
    },
    {
     "name": "stdout",
     "output_type": "stream",
     "text": [
      "Creating predictions\n"
     ]
    },
    {
     "name": "stderr",
     "output_type": "stream",
     "text": [
      "100%|██████████| 39/39 [02:03<00:00,  3.16s/it]\n",
      "100%|██████████| 39/39 [00:00<00:00, 1128.16it/s]\n",
      "Loading cached shuffled indices for dataset at c:/Users/User/Documents/Unibo/NLP/BarneyBot/src/cache/csv/default-d78476db32c8db98/0.0.0/6b34fb8fcf56f7c8ba51dc895bfa2bfbe43546f190a60fcf74bb5e8afdcc2317\\cache-8dc459ec58312e18.arrow\n"
     ]
    },
    {
     "name": "stdout",
     "output_type": "stream",
     "text": [
      "Creating predictions\n"
     ]
    },
    {
     "name": "stderr",
     "output_type": "stream",
     "text": [
      "100%|██████████| 40/40 [02:08<00:00,  3.21s/it]\n",
      "100%|██████████| 40/40 [00:00<00:00, 1120.18it/s]\n",
      "Loading cached shuffled indices for dataset at c:/Users/User/Documents/Unibo/NLP/BarneyBot/src/cache/csv/default-d78476db32c8db98/0.0.0/6b34fb8fcf56f7c8ba51dc895bfa2bfbe43546f190a60fcf74bb5e8afdcc2317\\cache-8dc459ec58312e18.arrow\n"
     ]
    },
    {
     "name": "stdout",
     "output_type": "stream",
     "text": [
      "Run 1/3\n",
      "Creating predictions\n"
     ]
    },
    {
     "name": "stderr",
     "output_type": "stream",
     "text": [
      "100%|██████████| 1/1 [00:02<00:00,  2.61s/it]\n",
      "100%|██████████| 1/1 [00:00<00:00, 485.73it/s]\n",
      "Loading cached shuffled indices for dataset at c:/Users/User/Documents/Unibo/NLP/BarneyBot/src/cache/csv/default-d78476db32c8db98/0.0.0/6b34fb8fcf56f7c8ba51dc895bfa2bfbe43546f190a60fcf74bb5e8afdcc2317\\cache-8dc459ec58312e18.arrow\n"
     ]
    },
    {
     "name": "stdout",
     "output_type": "stream",
     "text": [
      "Creating predictions\n"
     ]
    },
    {
     "name": "stderr",
     "output_type": "stream",
     "text": [
      "100%|██████████| 2/2 [00:08<00:00,  4.33s/it]\n",
      "100%|██████████| 2/2 [00:00<00:00, 512.28it/s]\n",
      "Loading cached shuffled indices for dataset at c:/Users/User/Documents/Unibo/NLP/BarneyBot/src/cache/csv/default-d78476db32c8db98/0.0.0/6b34fb8fcf56f7c8ba51dc895bfa2bfbe43546f190a60fcf74bb5e8afdcc2317\\cache-8dc459ec58312e18.arrow\n"
     ]
    },
    {
     "name": "stdout",
     "output_type": "stream",
     "text": [
      "Creating predictions\n"
     ]
    },
    {
     "name": "stderr",
     "output_type": "stream",
     "text": [
      "100%|██████████| 3/3 [00:10<00:00,  3.44s/it]\n",
      "100%|██████████| 3/3 [00:00<00:00, 744.51it/s]\n",
      "Loading cached shuffled indices for dataset at c:/Users/User/Documents/Unibo/NLP/BarneyBot/src/cache/csv/default-d78476db32c8db98/0.0.0/6b34fb8fcf56f7c8ba51dc895bfa2bfbe43546f190a60fcf74bb5e8afdcc2317\\cache-8dc459ec58312e18.arrow\n"
     ]
    },
    {
     "name": "stdout",
     "output_type": "stream",
     "text": [
      "Creating predictions\n"
     ]
    },
    {
     "name": "stderr",
     "output_type": "stream",
     "text": [
      "100%|██████████| 4/4 [00:11<00:00,  2.75s/it]\n",
      "100%|██████████| 4/4 [00:00<00:00, 992.15it/s]\n",
      "Loading cached shuffled indices for dataset at c:/Users/User/Documents/Unibo/NLP/BarneyBot/src/cache/csv/default-d78476db32c8db98/0.0.0/6b34fb8fcf56f7c8ba51dc895bfa2bfbe43546f190a60fcf74bb5e8afdcc2317\\cache-8dc459ec58312e18.arrow\n"
     ]
    },
    {
     "name": "stdout",
     "output_type": "stream",
     "text": [
      "Creating predictions\n"
     ]
    },
    {
     "name": "stderr",
     "output_type": "stream",
     "text": [
      "100%|██████████| 5/5 [00:13<00:00,  2.69s/it]\n",
      "100%|██████████| 5/5 [00:00<00:00, 855.91it/s]\n",
      "Loading cached shuffled indices for dataset at c:/Users/User/Documents/Unibo/NLP/BarneyBot/src/cache/csv/default-d78476db32c8db98/0.0.0/6b34fb8fcf56f7c8ba51dc895bfa2bfbe43546f190a60fcf74bb5e8afdcc2317\\cache-8dc459ec58312e18.arrow\n"
     ]
    },
    {
     "name": "stdout",
     "output_type": "stream",
     "text": [
      "Creating predictions\n"
     ]
    },
    {
     "name": "stderr",
     "output_type": "stream",
     "text": [
      "100%|██████████| 6/6 [00:16<00:00,  2.71s/it]\n",
      "100%|██████████| 6/6 [00:00<00:00, 1012.87it/s]\n",
      "Loading cached shuffled indices for dataset at c:/Users/User/Documents/Unibo/NLP/BarneyBot/src/cache/csv/default-d78476db32c8db98/0.0.0/6b34fb8fcf56f7c8ba51dc895bfa2bfbe43546f190a60fcf74bb5e8afdcc2317\\cache-8dc459ec58312e18.arrow\n"
     ]
    },
    {
     "name": "stdout",
     "output_type": "stream",
     "text": [
      "Creating predictions\n"
     ]
    },
    {
     "name": "stderr",
     "output_type": "stream",
     "text": [
      "100%|██████████| 7/7 [00:27<00:00,  3.86s/it]\n",
      "100%|██████████| 7/7 [00:00<00:00, 583.28it/s]\n",
      "Loading cached shuffled indices for dataset at c:/Users/User/Documents/Unibo/NLP/BarneyBot/src/cache/csv/default-d78476db32c8db98/0.0.0/6b34fb8fcf56f7c8ba51dc895bfa2bfbe43546f190a60fcf74bb5e8afdcc2317\\cache-8dc459ec58312e18.arrow\n"
     ]
    },
    {
     "name": "stdout",
     "output_type": "stream",
     "text": [
      "Creating predictions\n"
     ]
    },
    {
     "name": "stderr",
     "output_type": "stream",
     "text": [
      "100%|██████████| 8/8 [00:43<00:00,  5.39s/it]\n",
      "100%|██████████| 8/8 [00:00<00:00, 800.02it/s]\n",
      "Loading cached shuffled indices for dataset at c:/Users/User/Documents/Unibo/NLP/BarneyBot/src/cache/csv/default-d78476db32c8db98/0.0.0/6b34fb8fcf56f7c8ba51dc895bfa2bfbe43546f190a60fcf74bb5e8afdcc2317\\cache-8dc459ec58312e18.arrow\n"
     ]
    },
    {
     "name": "stdout",
     "output_type": "stream",
     "text": [
      "Creating predictions\n"
     ]
    },
    {
     "name": "stderr",
     "output_type": "stream",
     "text": [
      "100%|██████████| 9/9 [00:44<00:00,  4.96s/it]\n",
      "100%|██████████| 9/9 [00:00<00:00, 860.55it/s]\n",
      "Loading cached shuffled indices for dataset at c:/Users/User/Documents/Unibo/NLP/BarneyBot/src/cache/csv/default-d78476db32c8db98/0.0.0/6b34fb8fcf56f7c8ba51dc895bfa2bfbe43546f190a60fcf74bb5e8afdcc2317\\cache-8dc459ec58312e18.arrow\n"
     ]
    },
    {
     "name": "stdout",
     "output_type": "stream",
     "text": [
      "Creating predictions\n"
     ]
    },
    {
     "name": "stderr",
     "output_type": "stream",
     "text": [
      "100%|██████████| 10/10 [00:41<00:00,  4.16s/it]\n",
      "100%|██████████| 10/10 [00:00<00:00, 357.74it/s]\n",
      "Loading cached shuffled indices for dataset at c:/Users/User/Documents/Unibo/NLP/BarneyBot/src/cache/csv/default-d78476db32c8db98/0.0.0/6b34fb8fcf56f7c8ba51dc895bfa2bfbe43546f190a60fcf74bb5e8afdcc2317\\cache-8dc459ec58312e18.arrow\n"
     ]
    },
    {
     "name": "stdout",
     "output_type": "stream",
     "text": [
      "Creating predictions\n"
     ]
    },
    {
     "name": "stderr",
     "output_type": "stream",
     "text": [
      "100%|██████████| 11/11 [00:58<00:00,  5.28s/it]\n",
      "100%|██████████| 11/11 [00:00<00:00, 916.41it/s]\n",
      "Loading cached shuffled indices for dataset at c:/Users/User/Documents/Unibo/NLP/BarneyBot/src/cache/csv/default-d78476db32c8db98/0.0.0/6b34fb8fcf56f7c8ba51dc895bfa2bfbe43546f190a60fcf74bb5e8afdcc2317\\cache-8dc459ec58312e18.arrow\n"
     ]
    },
    {
     "name": "stdout",
     "output_type": "stream",
     "text": [
      "Creating predictions\n"
     ]
    },
    {
     "name": "stderr",
     "output_type": "stream",
     "text": [
      "100%|██████████| 12/12 [01:07<00:00,  5.60s/it]\n",
      "100%|██████████| 12/12 [00:00<00:00, 665.63it/s]\n",
      "Loading cached shuffled indices for dataset at c:/Users/User/Documents/Unibo/NLP/BarneyBot/src/cache/csv/default-d78476db32c8db98/0.0.0/6b34fb8fcf56f7c8ba51dc895bfa2bfbe43546f190a60fcf74bb5e8afdcc2317\\cache-8dc459ec58312e18.arrow\n"
     ]
    },
    {
     "name": "stdout",
     "output_type": "stream",
     "text": [
      "Creating predictions\n"
     ]
    },
    {
     "name": "stderr",
     "output_type": "stream",
     "text": [
      "100%|██████████| 13/13 [00:58<00:00,  4.52s/it]\n",
      "100%|██████████| 13/13 [00:00<00:00, 810.76it/s]\n",
      "Loading cached shuffled indices for dataset at c:/Users/User/Documents/Unibo/NLP/BarneyBot/src/cache/csv/default-d78476db32c8db98/0.0.0/6b34fb8fcf56f7c8ba51dc895bfa2bfbe43546f190a60fcf74bb5e8afdcc2317\\cache-8dc459ec58312e18.arrow\n"
     ]
    },
    {
     "name": "stdout",
     "output_type": "stream",
     "text": [
      "Creating predictions\n"
     ]
    },
    {
     "name": "stderr",
     "output_type": "stream",
     "text": [
      "100%|██████████| 14/14 [01:13<00:00,  5.27s/it]\n",
      "100%|██████████| 14/14 [00:00<00:00, 735.67it/s]\n",
      "Loading cached shuffled indices for dataset at c:/Users/User/Documents/Unibo/NLP/BarneyBot/src/cache/csv/default-d78476db32c8db98/0.0.0/6b34fb8fcf56f7c8ba51dc895bfa2bfbe43546f190a60fcf74bb5e8afdcc2317\\cache-8dc459ec58312e18.arrow\n"
     ]
    },
    {
     "name": "stdout",
     "output_type": "stream",
     "text": [
      "Creating predictions\n"
     ]
    },
    {
     "name": "stderr",
     "output_type": "stream",
     "text": [
      "100%|██████████| 15/15 [01:25<00:00,  5.67s/it]\n",
      "100%|██████████| 15/15 [00:00<00:00, 681.83it/s]\n",
      "Loading cached shuffled indices for dataset at c:/Users/User/Documents/Unibo/NLP/BarneyBot/src/cache/csv/default-d78476db32c8db98/0.0.0/6b34fb8fcf56f7c8ba51dc895bfa2bfbe43546f190a60fcf74bb5e8afdcc2317\\cache-8dc459ec58312e18.arrow\n"
     ]
    },
    {
     "name": "stdout",
     "output_type": "stream",
     "text": [
      "Creating predictions\n"
     ]
    },
    {
     "name": "stderr",
     "output_type": "stream",
     "text": [
      "100%|██████████| 16/16 [01:20<00:00,  5.06s/it]\n",
      "100%|██████████| 16/16 [00:00<00:00, 800.77it/s]\n",
      "Loading cached shuffled indices for dataset at c:/Users/User/Documents/Unibo/NLP/BarneyBot/src/cache/csv/default-d78476db32c8db98/0.0.0/6b34fb8fcf56f7c8ba51dc895bfa2bfbe43546f190a60fcf74bb5e8afdcc2317\\cache-8dc459ec58312e18.arrow\n"
     ]
    },
    {
     "name": "stdout",
     "output_type": "stream",
     "text": [
      "Creating predictions\n"
     ]
    },
    {
     "name": "stderr",
     "output_type": "stream",
     "text": [
      "100%|██████████| 17/17 [01:05<00:00,  3.85s/it]\n",
      "100%|██████████| 17/17 [00:00<00:00, 913.02it/s]\n",
      "Loading cached shuffled indices for dataset at c:/Users/User/Documents/Unibo/NLP/BarneyBot/src/cache/csv/default-d78476db32c8db98/0.0.0/6b34fb8fcf56f7c8ba51dc895bfa2bfbe43546f190a60fcf74bb5e8afdcc2317\\cache-8dc459ec58312e18.arrow\n"
     ]
    },
    {
     "name": "stdout",
     "output_type": "stream",
     "text": [
      "Creating predictions\n"
     ]
    },
    {
     "name": "stderr",
     "output_type": "stream",
     "text": [
      "100%|██████████| 18/18 [01:09<00:00,  3.83s/it]\n",
      "100%|██████████| 18/18 [00:00<00:00, 999.69it/s]\n",
      "Loading cached shuffled indices for dataset at c:/Users/User/Documents/Unibo/NLP/BarneyBot/src/cache/csv/default-d78476db32c8db98/0.0.0/6b34fb8fcf56f7c8ba51dc895bfa2bfbe43546f190a60fcf74bb5e8afdcc2317\\cache-8dc459ec58312e18.arrow\n"
     ]
    },
    {
     "name": "stdout",
     "output_type": "stream",
     "text": [
      "Creating predictions\n"
     ]
    },
    {
     "name": "stderr",
     "output_type": "stream",
     "text": [
      "100%|██████████| 19/19 [01:22<00:00,  4.33s/it]\n",
      "100%|██████████| 19/19 [00:00<00:00, 702.95it/s]\n",
      "Loading cached shuffled indices for dataset at c:/Users/User/Documents/Unibo/NLP/BarneyBot/src/cache/csv/default-d78476db32c8db98/0.0.0/6b34fb8fcf56f7c8ba51dc895bfa2bfbe43546f190a60fcf74bb5e8afdcc2317\\cache-8dc459ec58312e18.arrow\n"
     ]
    },
    {
     "name": "stdout",
     "output_type": "stream",
     "text": [
      "Creating predictions\n"
     ]
    },
    {
     "name": "stderr",
     "output_type": "stream",
     "text": [
      "100%|██████████| 20/20 [01:21<00:00,  4.07s/it]\n",
      "100%|██████████| 20/20 [00:00<00:00, 868.55it/s]\n",
      "Loading cached shuffled indices for dataset at c:/Users/User/Documents/Unibo/NLP/BarneyBot/src/cache/csv/default-d78476db32c8db98/0.0.0/6b34fb8fcf56f7c8ba51dc895bfa2bfbe43546f190a60fcf74bb5e8afdcc2317\\cache-8dc459ec58312e18.arrow\n"
     ]
    },
    {
     "name": "stdout",
     "output_type": "stream",
     "text": [
      "Creating predictions\n"
     ]
    },
    {
     "name": "stderr",
     "output_type": "stream",
     "text": [
      "100%|██████████| 21/21 [01:45<00:00,  5.00s/it]\n",
      "100%|██████████| 21/21 [00:00<00:00, 583.91it/s]\n",
      "Loading cached shuffled indices for dataset at c:/Users/User/Documents/Unibo/NLP/BarneyBot/src/cache/csv/default-d78476db32c8db98/0.0.0/6b34fb8fcf56f7c8ba51dc895bfa2bfbe43546f190a60fcf74bb5e8afdcc2317\\cache-8dc459ec58312e18.arrow\n"
     ]
    },
    {
     "name": "stdout",
     "output_type": "stream",
     "text": [
      "Creating predictions\n"
     ]
    },
    {
     "name": "stderr",
     "output_type": "stream",
     "text": [
      "100%|██████████| 22/22 [01:19<00:00,  3.62s/it]\n",
      "100%|██████████| 22/22 [00:00<00:00, 759.47it/s]\n",
      "Loading cached shuffled indices for dataset at c:/Users/User/Documents/Unibo/NLP/BarneyBot/src/cache/csv/default-d78476db32c8db98/0.0.0/6b34fb8fcf56f7c8ba51dc895bfa2bfbe43546f190a60fcf74bb5e8afdcc2317\\cache-8dc459ec58312e18.arrow\n"
     ]
    },
    {
     "name": "stdout",
     "output_type": "stream",
     "text": [
      "Creating predictions\n"
     ]
    },
    {
     "name": "stderr",
     "output_type": "stream",
     "text": [
      "100%|██████████| 23/23 [02:02<00:00,  5.34s/it]\n",
      "100%|██████████| 23/23 [00:00<00:00, 622.14it/s]\n",
      "Loading cached shuffled indices for dataset at c:/Users/User/Documents/Unibo/NLP/BarneyBot/src/cache/csv/default-d78476db32c8db98/0.0.0/6b34fb8fcf56f7c8ba51dc895bfa2bfbe43546f190a60fcf74bb5e8afdcc2317\\cache-8dc459ec58312e18.arrow\n"
     ]
    },
    {
     "name": "stdout",
     "output_type": "stream",
     "text": [
      "Creating predictions\n"
     ]
    },
    {
     "name": "stderr",
     "output_type": "stream",
     "text": [
      "100%|██████████| 24/24 [02:13<00:00,  5.57s/it]\n",
      "100%|██████████| 24/24 [00:00<00:00, 913.70it/s]\n",
      "Loading cached shuffled indices for dataset at c:/Users/User/Documents/Unibo/NLP/BarneyBot/src/cache/csv/default-d78476db32c8db98/0.0.0/6b34fb8fcf56f7c8ba51dc895bfa2bfbe43546f190a60fcf74bb5e8afdcc2317\\cache-8dc459ec58312e18.arrow\n"
     ]
    },
    {
     "name": "stdout",
     "output_type": "stream",
     "text": [
      "Creating predictions\n"
     ]
    },
    {
     "name": "stderr",
     "output_type": "stream",
     "text": [
      "100%|██████████| 25/25 [01:58<00:00,  4.74s/it]\n",
      "100%|██████████| 25/25 [00:00<00:00, 756.23it/s]\n",
      "Loading cached shuffled indices for dataset at c:/Users/User/Documents/Unibo/NLP/BarneyBot/src/cache/csv/default-d78476db32c8db98/0.0.0/6b34fb8fcf56f7c8ba51dc895bfa2bfbe43546f190a60fcf74bb5e8afdcc2317\\cache-8dc459ec58312e18.arrow\n"
     ]
    },
    {
     "name": "stdout",
     "output_type": "stream",
     "text": [
      "Creating predictions\n"
     ]
    },
    {
     "name": "stderr",
     "output_type": "stream",
     "text": [
      "100%|██████████| 26/26 [02:01<00:00,  4.67s/it]\n",
      "100%|██████████| 26/26 [00:00<00:00, 841.38it/s]\n",
      "Loading cached shuffled indices for dataset at c:/Users/User/Documents/Unibo/NLP/BarneyBot/src/cache/csv/default-d78476db32c8db98/0.0.0/6b34fb8fcf56f7c8ba51dc895bfa2bfbe43546f190a60fcf74bb5e8afdcc2317\\cache-8dc459ec58312e18.arrow\n"
     ]
    },
    {
     "name": "stdout",
     "output_type": "stream",
     "text": [
      "Creating predictions\n"
     ]
    },
    {
     "name": "stderr",
     "output_type": "stream",
     "text": [
      "100%|██████████| 27/27 [02:18<00:00,  5.11s/it]\n",
      "100%|██████████| 27/27 [00:00<00:00, 931.16it/s]\n",
      "Loading cached shuffled indices for dataset at c:/Users/User/Documents/Unibo/NLP/BarneyBot/src/cache/csv/default-d78476db32c8db98/0.0.0/6b34fb8fcf56f7c8ba51dc895bfa2bfbe43546f190a60fcf74bb5e8afdcc2317\\cache-8dc459ec58312e18.arrow\n"
     ]
    },
    {
     "name": "stdout",
     "output_type": "stream",
     "text": [
      "Creating predictions\n"
     ]
    },
    {
     "name": "stderr",
     "output_type": "stream",
     "text": [
      "100%|██████████| 28/28 [02:19<00:00,  4.99s/it]\n",
      "100%|██████████| 28/28 [00:00<00:00, 848.41it/s]\n",
      "Loading cached shuffled indices for dataset at c:/Users/User/Documents/Unibo/NLP/BarneyBot/src/cache/csv/default-d78476db32c8db98/0.0.0/6b34fb8fcf56f7c8ba51dc895bfa2bfbe43546f190a60fcf74bb5e8afdcc2317\\cache-8dc459ec58312e18.arrow\n"
     ]
    },
    {
     "name": "stdout",
     "output_type": "stream",
     "text": [
      "Creating predictions\n"
     ]
    },
    {
     "name": "stderr",
     "output_type": "stream",
     "text": [
      "100%|██████████| 29/29 [01:56<00:00,  4.02s/it]\n",
      "100%|██████████| 29/29 [00:00<00:00, 949.56it/s]\n",
      "Loading cached shuffled indices for dataset at c:/Users/User/Documents/Unibo/NLP/BarneyBot/src/cache/csv/default-d78476db32c8db98/0.0.0/6b34fb8fcf56f7c8ba51dc895bfa2bfbe43546f190a60fcf74bb5e8afdcc2317\\cache-8dc459ec58312e18.arrow\n"
     ]
    },
    {
     "name": "stdout",
     "output_type": "stream",
     "text": [
      "Creating predictions\n"
     ]
    },
    {
     "name": "stderr",
     "output_type": "stream",
     "text": [
      "100%|██████████| 30/30 [01:58<00:00,  3.96s/it]\n",
      "100%|██████████| 30/30 [00:00<00:00, 966.93it/s]\n",
      "Loading cached shuffled indices for dataset at c:/Users/User/Documents/Unibo/NLP/BarneyBot/src/cache/csv/default-d78476db32c8db98/0.0.0/6b34fb8fcf56f7c8ba51dc895bfa2bfbe43546f190a60fcf74bb5e8afdcc2317\\cache-8dc459ec58312e18.arrow\n"
     ]
    },
    {
     "name": "stdout",
     "output_type": "stream",
     "text": [
      "Creating predictions\n"
     ]
    },
    {
     "name": "stderr",
     "output_type": "stream",
     "text": [
      "100%|██████████| 31/31 [03:29<00:00,  6.74s/it]\n",
      "100%|██████████| 31/31 [00:00<00:00, 570.77it/s]\n",
      "Loading cached shuffled indices for dataset at c:/Users/User/Documents/Unibo/NLP/BarneyBot/src/cache/csv/default-d78476db32c8db98/0.0.0/6b34fb8fcf56f7c8ba51dc895bfa2bfbe43546f190a60fcf74bb5e8afdcc2317\\cache-8dc459ec58312e18.arrow\n"
     ]
    },
    {
     "name": "stdout",
     "output_type": "stream",
     "text": [
      "Creating predictions\n"
     ]
    },
    {
     "name": "stderr",
     "output_type": "stream",
     "text": [
      "100%|██████████| 32/32 [02:06<00:00,  3.96s/it]\n",
      "100%|██████████| 32/32 [00:00<00:00, 1136.93it/s]\n",
      "Loading cached shuffled indices for dataset at c:/Users/User/Documents/Unibo/NLP/BarneyBot/src/cache/csv/default-d78476db32c8db98/0.0.0/6b34fb8fcf56f7c8ba51dc895bfa2bfbe43546f190a60fcf74bb5e8afdcc2317\\cache-8dc459ec58312e18.arrow\n"
     ]
    },
    {
     "name": "stdout",
     "output_type": "stream",
     "text": [
      "Creating predictions\n"
     ]
    },
    {
     "name": "stderr",
     "output_type": "stream",
     "text": [
      "100%|██████████| 33/33 [02:21<00:00,  4.30s/it]\n",
      "100%|██████████| 33/33 [00:00<00:00, 782.84it/s]\n",
      "Loading cached shuffled indices for dataset at c:/Users/User/Documents/Unibo/NLP/BarneyBot/src/cache/csv/default-d78476db32c8db98/0.0.0/6b34fb8fcf56f7c8ba51dc895bfa2bfbe43546f190a60fcf74bb5e8afdcc2317\\cache-8dc459ec58312e18.arrow\n"
     ]
    },
    {
     "name": "stdout",
     "output_type": "stream",
     "text": [
      "Creating predictions\n"
     ]
    },
    {
     "name": "stderr",
     "output_type": "stream",
     "text": [
      "100%|██████████| 34/34 [01:32<00:00,  2.72s/it]\n",
      "100%|██████████| 34/34 [00:00<00:00, 1134.19it/s]\n",
      "Loading cached shuffled indices for dataset at c:/Users/User/Documents/Unibo/NLP/BarneyBot/src/cache/csv/default-d78476db32c8db98/0.0.0/6b34fb8fcf56f7c8ba51dc895bfa2bfbe43546f190a60fcf74bb5e8afdcc2317\\cache-8dc459ec58312e18.arrow\n"
     ]
    },
    {
     "name": "stdout",
     "output_type": "stream",
     "text": [
      "Creating predictions\n"
     ]
    },
    {
     "name": "stderr",
     "output_type": "stream",
     "text": [
      "100%|██████████| 35/35 [02:10<00:00,  3.72s/it]\n",
      "100%|██████████| 35/35 [00:00<00:00, 1210.55it/s]\n",
      "Loading cached shuffled indices for dataset at c:/Users/User/Documents/Unibo/NLP/BarneyBot/src/cache/csv/default-d78476db32c8db98/0.0.0/6b34fb8fcf56f7c8ba51dc895bfa2bfbe43546f190a60fcf74bb5e8afdcc2317\\cache-8dc459ec58312e18.arrow\n"
     ]
    },
    {
     "name": "stdout",
     "output_type": "stream",
     "text": [
      "Creating predictions\n"
     ]
    },
    {
     "name": "stderr",
     "output_type": "stream",
     "text": [
      "100%|██████████| 36/36 [02:07<00:00,  3.55s/it]\n",
      "100%|██████████| 36/36 [00:00<00:00, 1154.59it/s]\n",
      "Loading cached shuffled indices for dataset at c:/Users/User/Documents/Unibo/NLP/BarneyBot/src/cache/csv/default-d78476db32c8db98/0.0.0/6b34fb8fcf56f7c8ba51dc895bfa2bfbe43546f190a60fcf74bb5e8afdcc2317\\cache-8dc459ec58312e18.arrow\n"
     ]
    },
    {
     "name": "stdout",
     "output_type": "stream",
     "text": [
      "Creating predictions\n"
     ]
    },
    {
     "name": "stderr",
     "output_type": "stream",
     "text": [
      "100%|██████████| 37/37 [01:53<00:00,  3.07s/it]\n",
      "100%|██████████| 37/37 [00:00<00:00, 1158.46it/s]\n",
      "Loading cached shuffled indices for dataset at c:/Users/User/Documents/Unibo/NLP/BarneyBot/src/cache/csv/default-d78476db32c8db98/0.0.0/6b34fb8fcf56f7c8ba51dc895bfa2bfbe43546f190a60fcf74bb5e8afdcc2317\\cache-8dc459ec58312e18.arrow\n"
     ]
    },
    {
     "name": "stdout",
     "output_type": "stream",
     "text": [
      "Creating predictions\n"
     ]
    },
    {
     "name": "stderr",
     "output_type": "stream",
     "text": [
      "100%|██████████| 38/38 [02:42<00:00,  4.27s/it]\n",
      "100%|██████████| 38/38 [00:00<00:00, 1235.84it/s]\n",
      "Loading cached shuffled indices for dataset at c:/Users/User/Documents/Unibo/NLP/BarneyBot/src/cache/csv/default-d78476db32c8db98/0.0.0/6b34fb8fcf56f7c8ba51dc895bfa2bfbe43546f190a60fcf74bb5e8afdcc2317\\cache-8dc459ec58312e18.arrow\n"
     ]
    },
    {
     "name": "stdout",
     "output_type": "stream",
     "text": [
      "Creating predictions\n"
     ]
    },
    {
     "name": "stderr",
     "output_type": "stream",
     "text": [
      "100%|██████████| 39/39 [02:40<00:00,  4.12s/it]\n",
      "100%|██████████| 39/39 [00:00<00:00, 511.72it/s]\n",
      "Loading cached shuffled indices for dataset at c:/Users/User/Documents/Unibo/NLP/BarneyBot/src/cache/csv/default-d78476db32c8db98/0.0.0/6b34fb8fcf56f7c8ba51dc895bfa2bfbe43546f190a60fcf74bb5e8afdcc2317\\cache-8dc459ec58312e18.arrow\n"
     ]
    },
    {
     "name": "stdout",
     "output_type": "stream",
     "text": [
      "Creating predictions\n"
     ]
    },
    {
     "name": "stderr",
     "output_type": "stream",
     "text": [
      "100%|██████████| 40/40 [02:09<00:00,  3.24s/it]\n",
      "100%|██████████| 40/40 [00:00<00:00, 1113.94it/s]\n",
      "Loading cached shuffled indices for dataset at c:/Users/User/Documents/Unibo/NLP/BarneyBot/src/cache/csv/default-d78476db32c8db98/0.0.0/6b34fb8fcf56f7c8ba51dc895bfa2bfbe43546f190a60fcf74bb5e8afdcc2317\\cache-8dc459ec58312e18.arrow\n"
     ]
    },
    {
     "name": "stdout",
     "output_type": "stream",
     "text": [
      "Run 2/3\n",
      "Creating predictions\n"
     ]
    },
    {
     "name": "stderr",
     "output_type": "stream",
     "text": [
      "100%|██████████| 1/1 [00:01<00:00,  1.38s/it]\n",
      "100%|██████████| 1/1 [00:00<00:00, 471.54it/s]\n",
      "Loading cached shuffled indices for dataset at c:/Users/User/Documents/Unibo/NLP/BarneyBot/src/cache/csv/default-d78476db32c8db98/0.0.0/6b34fb8fcf56f7c8ba51dc895bfa2bfbe43546f190a60fcf74bb5e8afdcc2317\\cache-8dc459ec58312e18.arrow\n"
     ]
    },
    {
     "name": "stdout",
     "output_type": "stream",
     "text": [
      "Creating predictions\n"
     ]
    },
    {
     "name": "stderr",
     "output_type": "stream",
     "text": [
      "100%|██████████| 2/2 [00:06<00:00,  3.06s/it]\n",
      "100%|██████████| 2/2 [00:00<00:00, 985.04it/s]\n",
      "Loading cached shuffled indices for dataset at c:/Users/User/Documents/Unibo/NLP/BarneyBot/src/cache/csv/default-d78476db32c8db98/0.0.0/6b34fb8fcf56f7c8ba51dc895bfa2bfbe43546f190a60fcf74bb5e8afdcc2317\\cache-8dc459ec58312e18.arrow\n"
     ]
    },
    {
     "name": "stdout",
     "output_type": "stream",
     "text": [
      "Creating predictions\n"
     ]
    },
    {
     "name": "stderr",
     "output_type": "stream",
     "text": [
      "100%|██████████| 3/3 [00:06<00:00,  2.06s/it]\n",
      "100%|██████████| 3/3 [00:00<00:00, 1063.37it/s]\n",
      "Loading cached shuffled indices for dataset at c:/Users/User/Documents/Unibo/NLP/BarneyBot/src/cache/csv/default-d78476db32c8db98/0.0.0/6b34fb8fcf56f7c8ba51dc895bfa2bfbe43546f190a60fcf74bb5e8afdcc2317\\cache-8dc459ec58312e18.arrow\n"
     ]
    },
    {
     "name": "stdout",
     "output_type": "stream",
     "text": [
      "Creating predictions\n"
     ]
    },
    {
     "name": "stderr",
     "output_type": "stream",
     "text": [
      "100%|██████████| 4/4 [00:08<00:00,  2.05s/it]\n",
      "100%|██████████| 4/4 [00:00<00:00, 1320.11it/s]\n",
      "Loading cached shuffled indices for dataset at c:/Users/User/Documents/Unibo/NLP/BarneyBot/src/cache/csv/default-d78476db32c8db98/0.0.0/6b34fb8fcf56f7c8ba51dc895bfa2bfbe43546f190a60fcf74bb5e8afdcc2317\\cache-8dc459ec58312e18.arrow\n"
     ]
    },
    {
     "name": "stdout",
     "output_type": "stream",
     "text": [
      "Creating predictions\n"
     ]
    },
    {
     "name": "stderr",
     "output_type": "stream",
     "text": [
      "100%|██████████| 5/5 [00:17<00:00,  3.47s/it]\n",
      "100%|██████████| 5/5 [00:00<00:00, 994.24it/s]\n",
      "Loading cached shuffled indices for dataset at c:/Users/User/Documents/Unibo/NLP/BarneyBot/src/cache/csv/default-d78476db32c8db98/0.0.0/6b34fb8fcf56f7c8ba51dc895bfa2bfbe43546f190a60fcf74bb5e8afdcc2317\\cache-8dc459ec58312e18.arrow\n"
     ]
    },
    {
     "name": "stdout",
     "output_type": "stream",
     "text": [
      "Creating predictions\n"
     ]
    },
    {
     "name": "stderr",
     "output_type": "stream",
     "text": [
      "100%|██████████| 6/6 [00:23<00:00,  3.89s/it]\n",
      "100%|██████████| 6/6 [00:00<00:00, 1193.09it/s]\n",
      "Loading cached shuffled indices for dataset at c:/Users/User/Documents/Unibo/NLP/BarneyBot/src/cache/csv/default-d78476db32c8db98/0.0.0/6b34fb8fcf56f7c8ba51dc895bfa2bfbe43546f190a60fcf74bb5e8afdcc2317\\cache-8dc459ec58312e18.arrow\n"
     ]
    },
    {
     "name": "stdout",
     "output_type": "stream",
     "text": [
      "Creating predictions\n"
     ]
    },
    {
     "name": "stderr",
     "output_type": "stream",
     "text": [
      "100%|██████████| 7/7 [00:22<00:00,  3.28s/it]\n",
      "100%|██████████| 7/7 [00:00<00:00, 995.56it/s]\n",
      "Loading cached shuffled indices for dataset at c:/Users/User/Documents/Unibo/NLP/BarneyBot/src/cache/csv/default-d78476db32c8db98/0.0.0/6b34fb8fcf56f7c8ba51dc895bfa2bfbe43546f190a60fcf74bb5e8afdcc2317\\cache-8dc459ec58312e18.arrow\n"
     ]
    },
    {
     "name": "stdout",
     "output_type": "stream",
     "text": [
      "Creating predictions\n"
     ]
    },
    {
     "name": "stderr",
     "output_type": "stream",
     "text": [
      "100%|██████████| 8/8 [00:32<00:00,  4.06s/it]\n",
      "100%|██████████| 8/8 [00:00<00:00, 1137.59it/s]\n",
      "Loading cached shuffled indices for dataset at c:/Users/User/Documents/Unibo/NLP/BarneyBot/src/cache/csv/default-d78476db32c8db98/0.0.0/6b34fb8fcf56f7c8ba51dc895bfa2bfbe43546f190a60fcf74bb5e8afdcc2317\\cache-8dc459ec58312e18.arrow\n"
     ]
    },
    {
     "name": "stdout",
     "output_type": "stream",
     "text": [
      "Creating predictions\n"
     ]
    },
    {
     "name": "stderr",
     "output_type": "stream",
     "text": [
      "100%|██████████| 9/9 [00:22<00:00,  2.45s/it]\n",
      "100%|██████████| 9/9 [00:00<00:00, 1000.05it/s]\n",
      "Loading cached shuffled indices for dataset at c:/Users/User/Documents/Unibo/NLP/BarneyBot/src/cache/csv/default-d78476db32c8db98/0.0.0/6b34fb8fcf56f7c8ba51dc895bfa2bfbe43546f190a60fcf74bb5e8afdcc2317\\cache-8dc459ec58312e18.arrow\n"
     ]
    },
    {
     "name": "stdout",
     "output_type": "stream",
     "text": [
      "Creating predictions\n"
     ]
    },
    {
     "name": "stderr",
     "output_type": "stream",
     "text": [
      "100%|██████████| 10/10 [00:29<00:00,  2.92s/it]\n",
      "100%|██████████| 10/10 [00:00<00:00, 1094.98it/s]\n",
      "Loading cached shuffled indices for dataset at c:/Users/User/Documents/Unibo/NLP/BarneyBot/src/cache/csv/default-d78476db32c8db98/0.0.0/6b34fb8fcf56f7c8ba51dc895bfa2bfbe43546f190a60fcf74bb5e8afdcc2317\\cache-8dc459ec58312e18.arrow\n"
     ]
    },
    {
     "name": "stdout",
     "output_type": "stream",
     "text": [
      "Creating predictions\n"
     ]
    },
    {
     "name": "stderr",
     "output_type": "stream",
     "text": [
      "100%|██████████| 11/11 [00:37<00:00,  3.43s/it]\n",
      "100%|██████████| 11/11 [00:00<00:00, 1217.60it/s]\n",
      "Loading cached shuffled indices for dataset at c:/Users/User/Documents/Unibo/NLP/BarneyBot/src/cache/csv/default-d78476db32c8db98/0.0.0/6b34fb8fcf56f7c8ba51dc895bfa2bfbe43546f190a60fcf74bb5e8afdcc2317\\cache-8dc459ec58312e18.arrow\n"
     ]
    },
    {
     "name": "stdout",
     "output_type": "stream",
     "text": [
      "Creating predictions\n"
     ]
    },
    {
     "name": "stderr",
     "output_type": "stream",
     "text": [
      "100%|██████████| 12/12 [00:40<00:00,  3.34s/it]\n",
      "100%|██████████| 12/12 [00:00<00:00, 1091.13it/s]\n",
      "Loading cached shuffled indices for dataset at c:/Users/User/Documents/Unibo/NLP/BarneyBot/src/cache/csv/default-d78476db32c8db98/0.0.0/6b34fb8fcf56f7c8ba51dc895bfa2bfbe43546f190a60fcf74bb5e8afdcc2317\\cache-8dc459ec58312e18.arrow\n"
     ]
    },
    {
     "name": "stdout",
     "output_type": "stream",
     "text": [
      "Creating predictions\n"
     ]
    },
    {
     "name": "stderr",
     "output_type": "stream",
     "text": [
      "100%|██████████| 13/13 [00:45<00:00,  3.47s/it]\n",
      "100%|██████████| 13/13 [00:00<00:00, 1122.56it/s]\n",
      "Loading cached shuffled indices for dataset at c:/Users/User/Documents/Unibo/NLP/BarneyBot/src/cache/csv/default-d78476db32c8db98/0.0.0/6b34fb8fcf56f7c8ba51dc895bfa2bfbe43546f190a60fcf74bb5e8afdcc2317\\cache-8dc459ec58312e18.arrow\n"
     ]
    },
    {
     "name": "stdout",
     "output_type": "stream",
     "text": [
      "Creating predictions\n"
     ]
    },
    {
     "name": "stderr",
     "output_type": "stream",
     "text": [
      "100%|██████████| 14/14 [00:58<00:00,  4.18s/it]\n",
      "100%|██████████| 14/14 [00:00<00:00, 1066.05it/s]\n",
      "Loading cached shuffled indices for dataset at c:/Users/User/Documents/Unibo/NLP/BarneyBot/src/cache/csv/default-d78476db32c8db98/0.0.0/6b34fb8fcf56f7c8ba51dc895bfa2bfbe43546f190a60fcf74bb5e8afdcc2317\\cache-8dc459ec58312e18.arrow\n"
     ]
    },
    {
     "name": "stdout",
     "output_type": "stream",
     "text": [
      "Creating predictions\n"
     ]
    },
    {
     "name": "stderr",
     "output_type": "stream",
     "text": [
      "100%|██████████| 15/15 [01:12<00:00,  4.80s/it]\n",
      "100%|██████████| 15/15 [00:00<00:00, 1156.48it/s]\n",
      "Loading cached shuffled indices for dataset at c:/Users/User/Documents/Unibo/NLP/BarneyBot/src/cache/csv/default-d78476db32c8db98/0.0.0/6b34fb8fcf56f7c8ba51dc895bfa2bfbe43546f190a60fcf74bb5e8afdcc2317\\cache-8dc459ec58312e18.arrow\n"
     ]
    },
    {
     "name": "stdout",
     "output_type": "stream",
     "text": [
      "Creating predictions\n"
     ]
    },
    {
     "name": "stderr",
     "output_type": "stream",
     "text": [
      "100%|██████████| 16/16 [00:32<00:00,  2.01s/it]\n",
      "100%|██████████| 16/16 [00:00<00:00, 1064.19it/s]\n",
      "Loading cached shuffled indices for dataset at c:/Users/User/Documents/Unibo/NLP/BarneyBot/src/cache/csv/default-d78476db32c8db98/0.0.0/6b34fb8fcf56f7c8ba51dc895bfa2bfbe43546f190a60fcf74bb5e8afdcc2317\\cache-8dc459ec58312e18.arrow\n"
     ]
    },
    {
     "name": "stdout",
     "output_type": "stream",
     "text": [
      "Creating predictions\n"
     ]
    },
    {
     "name": "stderr",
     "output_type": "stream",
     "text": [
      "100%|██████████| 17/17 [00:46<00:00,  2.75s/it]\n",
      "100%|██████████| 17/17 [00:00<00:00, 1185.17it/s]\n",
      "Loading cached shuffled indices for dataset at c:/Users/User/Documents/Unibo/NLP/BarneyBot/src/cache/csv/default-d78476db32c8db98/0.0.0/6b34fb8fcf56f7c8ba51dc895bfa2bfbe43546f190a60fcf74bb5e8afdcc2317\\cache-8dc459ec58312e18.arrow\n"
     ]
    },
    {
     "name": "stdout",
     "output_type": "stream",
     "text": [
      "Creating predictions\n"
     ]
    },
    {
     "name": "stderr",
     "output_type": "stream",
     "text": [
      "100%|██████████| 18/18 [00:49<00:00,  2.76s/it]\n",
      "100%|██████████| 18/18 [00:00<00:00, 1282.44it/s]\n",
      "Loading cached shuffled indices for dataset at c:/Users/User/Documents/Unibo/NLP/BarneyBot/src/cache/csv/default-d78476db32c8db98/0.0.0/6b34fb8fcf56f7c8ba51dc895bfa2bfbe43546f190a60fcf74bb5e8afdcc2317\\cache-8dc459ec58312e18.arrow\n"
     ]
    },
    {
     "name": "stdout",
     "output_type": "stream",
     "text": [
      "Creating predictions\n"
     ]
    },
    {
     "name": "stderr",
     "output_type": "stream",
     "text": [
      "100%|██████████| 19/19 [01:37<00:00,  5.12s/it]\n",
      "100%|██████████| 19/19 [00:00<00:00, 1053.72it/s]\n",
      "Loading cached shuffled indices for dataset at c:/Users/User/Documents/Unibo/NLP/BarneyBot/src/cache/csv/default-d78476db32c8db98/0.0.0/6b34fb8fcf56f7c8ba51dc895bfa2bfbe43546f190a60fcf74bb5e8afdcc2317\\cache-8dc459ec58312e18.arrow\n"
     ]
    },
    {
     "name": "stdout",
     "output_type": "stream",
     "text": [
      "Creating predictions\n"
     ]
    },
    {
     "name": "stderr",
     "output_type": "stream",
     "text": [
      "100%|██████████| 20/20 [01:09<00:00,  3.48s/it]\n",
      "100%|██████████| 20/20 [00:00<00:00, 1001.89it/s]\n",
      "Loading cached shuffled indices for dataset at c:/Users/User/Documents/Unibo/NLP/BarneyBot/src/cache/csv/default-d78476db32c8db98/0.0.0/6b34fb8fcf56f7c8ba51dc895bfa2bfbe43546f190a60fcf74bb5e8afdcc2317\\cache-8dc459ec58312e18.arrow\n"
     ]
    },
    {
     "name": "stdout",
     "output_type": "stream",
     "text": [
      "Creating predictions\n"
     ]
    },
    {
     "name": "stderr",
     "output_type": "stream",
     "text": [
      "100%|██████████| 21/21 [01:05<00:00,  3.11s/it]\n",
      "100%|██████████| 21/21 [00:00<00:00, 1164.65it/s]\n",
      "Loading cached shuffled indices for dataset at c:/Users/User/Documents/Unibo/NLP/BarneyBot/src/cache/csv/default-d78476db32c8db98/0.0.0/6b34fb8fcf56f7c8ba51dc895bfa2bfbe43546f190a60fcf74bb5e8afdcc2317\\cache-8dc459ec58312e18.arrow\n"
     ]
    },
    {
     "name": "stdout",
     "output_type": "stream",
     "text": [
      "Creating predictions\n"
     ]
    },
    {
     "name": "stderr",
     "output_type": "stream",
     "text": [
      "100%|██████████| 22/22 [01:34<00:00,  4.29s/it]\n",
      "100%|██████████| 22/22 [00:00<00:00, 1222.41it/s]\n",
      "Loading cached shuffled indices for dataset at c:/Users/User/Documents/Unibo/NLP/BarneyBot/src/cache/csv/default-d78476db32c8db98/0.0.0/6b34fb8fcf56f7c8ba51dc895bfa2bfbe43546f190a60fcf74bb5e8afdcc2317\\cache-8dc459ec58312e18.arrow\n"
     ]
    },
    {
     "name": "stdout",
     "output_type": "stream",
     "text": [
      "Creating predictions\n"
     ]
    },
    {
     "name": "stderr",
     "output_type": "stream",
     "text": [
      "100%|██████████| 23/23 [01:09<00:00,  3.04s/it]\n",
      "100%|██████████| 23/23 [00:00<00:00, 1097.62it/s]\n",
      "Loading cached shuffled indices for dataset at c:/Users/User/Documents/Unibo/NLP/BarneyBot/src/cache/csv/default-d78476db32c8db98/0.0.0/6b34fb8fcf56f7c8ba51dc895bfa2bfbe43546f190a60fcf74bb5e8afdcc2317\\cache-8dc459ec58312e18.arrow\n"
     ]
    },
    {
     "name": "stdout",
     "output_type": "stream",
     "text": [
      "Creating predictions\n"
     ]
    },
    {
     "name": "stderr",
     "output_type": "stream",
     "text": [
      "100%|██████████| 24/24 [01:39<00:00,  4.16s/it]\n",
      "100%|██████████| 24/24 [00:00<00:00, 1089.54it/s]\n",
      "Loading cached shuffled indices for dataset at c:/Users/User/Documents/Unibo/NLP/BarneyBot/src/cache/csv/default-d78476db32c8db98/0.0.0/6b34fb8fcf56f7c8ba51dc895bfa2bfbe43546f190a60fcf74bb5e8afdcc2317\\cache-8dc459ec58312e18.arrow\n"
     ]
    },
    {
     "name": "stdout",
     "output_type": "stream",
     "text": [
      "Creating predictions\n"
     ]
    },
    {
     "name": "stderr",
     "output_type": "stream",
     "text": [
      "100%|██████████| 25/25 [01:25<00:00,  3.42s/it]\n",
      "100%|██████████| 25/25 [00:00<00:00, 1043.10it/s]\n",
      "Loading cached shuffled indices for dataset at c:/Users/User/Documents/Unibo/NLP/BarneyBot/src/cache/csv/default-d78476db32c8db98/0.0.0/6b34fb8fcf56f7c8ba51dc895bfa2bfbe43546f190a60fcf74bb5e8afdcc2317\\cache-8dc459ec58312e18.arrow\n"
     ]
    },
    {
     "name": "stdout",
     "output_type": "stream",
     "text": [
      "Creating predictions\n"
     ]
    },
    {
     "name": "stderr",
     "output_type": "stream",
     "text": [
      "100%|██████████| 26/26 [01:42<00:00,  3.93s/it]\n",
      "100%|██████████| 26/26 [00:00<00:00, 1181.62it/s]\n",
      "Loading cached shuffled indices for dataset at c:/Users/User/Documents/Unibo/NLP/BarneyBot/src/cache/csv/default-d78476db32c8db98/0.0.0/6b34fb8fcf56f7c8ba51dc895bfa2bfbe43546f190a60fcf74bb5e8afdcc2317\\cache-8dc459ec58312e18.arrow\n"
     ]
    },
    {
     "name": "stdout",
     "output_type": "stream",
     "text": [
      "Creating predictions\n"
     ]
    },
    {
     "name": "stderr",
     "output_type": "stream",
     "text": [
      "100%|██████████| 27/27 [01:37<00:00,  3.62s/it]\n",
      "100%|██████████| 27/27 [00:00<00:00, 1123.31it/s]\n",
      "Loading cached shuffled indices for dataset at c:/Users/User/Documents/Unibo/NLP/BarneyBot/src/cache/csv/default-d78476db32c8db98/0.0.0/6b34fb8fcf56f7c8ba51dc895bfa2bfbe43546f190a60fcf74bb5e8afdcc2317\\cache-8dc459ec58312e18.arrow\n"
     ]
    },
    {
     "name": "stdout",
     "output_type": "stream",
     "text": [
      "Creating predictions\n"
     ]
    },
    {
     "name": "stderr",
     "output_type": "stream",
     "text": [
      "100%|██████████| 28/28 [02:03<00:00,  4.42s/it]\n",
      "100%|██████████| 28/28 [00:00<00:00, 978.09it/s]\n",
      "Loading cached shuffled indices for dataset at c:/Users/User/Documents/Unibo/NLP/BarneyBot/src/cache/csv/default-d78476db32c8db98/0.0.0/6b34fb8fcf56f7c8ba51dc895bfa2bfbe43546f190a60fcf74bb5e8afdcc2317\\cache-8dc459ec58312e18.arrow\n"
     ]
    },
    {
     "name": "stdout",
     "output_type": "stream",
     "text": [
      "Creating predictions\n"
     ]
    },
    {
     "name": "stderr",
     "output_type": "stream",
     "text": [
      "100%|██████████| 29/29 [02:02<00:00,  4.23s/it]\n",
      "100%|██████████| 29/29 [00:00<00:00, 1074.28it/s]\n",
      "Loading cached shuffled indices for dataset at c:/Users/User/Documents/Unibo/NLP/BarneyBot/src/cache/csv/default-d78476db32c8db98/0.0.0/6b34fb8fcf56f7c8ba51dc895bfa2bfbe43546f190a60fcf74bb5e8afdcc2317\\cache-8dc459ec58312e18.arrow\n"
     ]
    },
    {
     "name": "stdout",
     "output_type": "stream",
     "text": [
      "Creating predictions\n"
     ]
    },
    {
     "name": "stderr",
     "output_type": "stream",
     "text": [
      "100%|██████████| 30/30 [01:38<00:00,  3.27s/it]\n",
      "100%|██████████| 30/30 [00:00<00:00, 1141.13it/s]\n",
      "Loading cached shuffled indices for dataset at c:/Users/User/Documents/Unibo/NLP/BarneyBot/src/cache/csv/default-d78476db32c8db98/0.0.0/6b34fb8fcf56f7c8ba51dc895bfa2bfbe43546f190a60fcf74bb5e8afdcc2317\\cache-8dc459ec58312e18.arrow\n"
     ]
    },
    {
     "name": "stdout",
     "output_type": "stream",
     "text": [
      "Creating predictions\n"
     ]
    },
    {
     "name": "stderr",
     "output_type": "stream",
     "text": [
      "100%|██████████| 31/31 [01:35<00:00,  3.06s/it]\n",
      "100%|██████████| 31/31 [00:00<00:00, 1258.66it/s]\n",
      "Loading cached shuffled indices for dataset at c:/Users/User/Documents/Unibo/NLP/BarneyBot/src/cache/csv/default-d78476db32c8db98/0.0.0/6b34fb8fcf56f7c8ba51dc895bfa2bfbe43546f190a60fcf74bb5e8afdcc2317\\cache-8dc459ec58312e18.arrow\n"
     ]
    },
    {
     "name": "stdout",
     "output_type": "stream",
     "text": [
      "Creating predictions\n"
     ]
    },
    {
     "name": "stderr",
     "output_type": "stream",
     "text": [
      "100%|██████████| 32/32 [01:23<00:00,  2.60s/it]\n",
      "100%|██████████| 32/32 [00:00<00:00, 1292.83it/s]\n",
      "Loading cached shuffled indices for dataset at c:/Users/User/Documents/Unibo/NLP/BarneyBot/src/cache/csv/default-d78476db32c8db98/0.0.0/6b34fb8fcf56f7c8ba51dc895bfa2bfbe43546f190a60fcf74bb5e8afdcc2317\\cache-8dc459ec58312e18.arrow\n"
     ]
    },
    {
     "name": "stdout",
     "output_type": "stream",
     "text": [
      "Creating predictions\n"
     ]
    },
    {
     "name": "stderr",
     "output_type": "stream",
     "text": [
      "100%|██████████| 33/33 [01:51<00:00,  3.37s/it]\n",
      "100%|██████████| 33/33 [00:00<00:00, 840.98it/s]\n",
      "Loading cached shuffled indices for dataset at c:/Users/User/Documents/Unibo/NLP/BarneyBot/src/cache/csv/default-d78476db32c8db98/0.0.0/6b34fb8fcf56f7c8ba51dc895bfa2bfbe43546f190a60fcf74bb5e8afdcc2317\\cache-8dc459ec58312e18.arrow\n"
     ]
    },
    {
     "name": "stdout",
     "output_type": "stream",
     "text": [
      "Creating predictions\n"
     ]
    },
    {
     "name": "stderr",
     "output_type": "stream",
     "text": [
      "100%|██████████| 34/34 [02:32<00:00,  4.48s/it]\n",
      "100%|██████████| 34/34 [00:00<00:00, 1125.72it/s]\n",
      "Loading cached shuffled indices for dataset at c:/Users/User/Documents/Unibo/NLP/BarneyBot/src/cache/csv/default-d78476db32c8db98/0.0.0/6b34fb8fcf56f7c8ba51dc895bfa2bfbe43546f190a60fcf74bb5e8afdcc2317\\cache-8dc459ec58312e18.arrow\n"
     ]
    },
    {
     "name": "stdout",
     "output_type": "stream",
     "text": [
      "Creating predictions\n"
     ]
    },
    {
     "name": "stderr",
     "output_type": "stream",
     "text": [
      "100%|██████████| 35/35 [01:45<00:00,  3.02s/it]\n",
      "100%|██████████| 35/35 [00:00<00:00, 1126.10it/s]\n",
      "Loading cached shuffled indices for dataset at c:/Users/User/Documents/Unibo/NLP/BarneyBot/src/cache/csv/default-d78476db32c8db98/0.0.0/6b34fb8fcf56f7c8ba51dc895bfa2bfbe43546f190a60fcf74bb5e8afdcc2317\\cache-8dc459ec58312e18.arrow\n"
     ]
    },
    {
     "name": "stdout",
     "output_type": "stream",
     "text": [
      "Creating predictions\n"
     ]
    },
    {
     "name": "stderr",
     "output_type": "stream",
     "text": [
      "100%|██████████| 36/36 [02:42<00:00,  4.50s/it]\n",
      "100%|██████████| 36/36 [00:00<00:00, 1132.66it/s]\n",
      "Loading cached shuffled indices for dataset at c:/Users/User/Documents/Unibo/NLP/BarneyBot/src/cache/csv/default-d78476db32c8db98/0.0.0/6b34fb8fcf56f7c8ba51dc895bfa2bfbe43546f190a60fcf74bb5e8afdcc2317\\cache-8dc459ec58312e18.arrow\n"
     ]
    },
    {
     "name": "stdout",
     "output_type": "stream",
     "text": [
      "Creating predictions\n"
     ]
    },
    {
     "name": "stderr",
     "output_type": "stream",
     "text": [
      "100%|██████████| 37/37 [02:10<00:00,  3.52s/it]\n",
      "100%|██████████| 37/37 [00:00<00:00, 1192.31it/s]\n",
      "Loading cached shuffled indices for dataset at c:/Users/User/Documents/Unibo/NLP/BarneyBot/src/cache/csv/default-d78476db32c8db98/0.0.0/6b34fb8fcf56f7c8ba51dc895bfa2bfbe43546f190a60fcf74bb5e8afdcc2317\\cache-8dc459ec58312e18.arrow\n"
     ]
    },
    {
     "name": "stdout",
     "output_type": "stream",
     "text": [
      "Creating predictions\n"
     ]
    },
    {
     "name": "stderr",
     "output_type": "stream",
     "text": [
      "100%|██████████| 38/38 [02:28<00:00,  3.90s/it]\n",
      "100%|██████████| 38/38 [00:00<00:00, 1267.76it/s]\n",
      "Loading cached shuffled indices for dataset at c:/Users/User/Documents/Unibo/NLP/BarneyBot/src/cache/csv/default-d78476db32c8db98/0.0.0/6b34fb8fcf56f7c8ba51dc895bfa2bfbe43546f190a60fcf74bb5e8afdcc2317\\cache-8dc459ec58312e18.arrow\n"
     ]
    },
    {
     "name": "stdout",
     "output_type": "stream",
     "text": [
      "Creating predictions\n"
     ]
    },
    {
     "name": "stderr",
     "output_type": "stream",
     "text": [
      "100%|██████████| 39/39 [02:00<00:00,  3.09s/it]\n",
      "100%|██████████| 39/39 [00:00<00:00, 1083.30it/s]\n",
      "Loading cached shuffled indices for dataset at c:/Users/User/Documents/Unibo/NLP/BarneyBot/src/cache/csv/default-d78476db32c8db98/0.0.0/6b34fb8fcf56f7c8ba51dc895bfa2bfbe43546f190a60fcf74bb5e8afdcc2317\\cache-8dc459ec58312e18.arrow\n"
     ]
    },
    {
     "name": "stdout",
     "output_type": "stream",
     "text": [
      "Creating predictions\n"
     ]
    },
    {
     "name": "stderr",
     "output_type": "stream",
     "text": [
      "100%|██████████| 40/40 [02:31<00:00,  3.78s/it]\n",
      "100%|██████████| 40/40 [00:00<00:00, 1266.33it/s]\n"
     ]
    }
   ],
   "source": [
    "### create dataset\n",
    "n_tests = 3\n",
    "max_test_size = 40\n",
    "selected_indeces = [range(i+1) for i in range(max_test_size)]\n",
    "doc_test = []\n",
    "batch_size = 8\n",
    "override_predictions = True\n",
    "character = 'Barney'\n",
    "character_checkpoint = join(characters_folder, character, character_dict[character]['checkpoint_folder'])\n",
    "print(\"model loading\")\n",
    "model_chatbot = TFAutoModelForCausalLM.from_pretrained(pretrained_model_name_or_path=character_checkpoint) if override_predictions else None\n",
    "print(\"model loaded\")\n",
    "\n",
    "character_hg = load_char_df(character, base_folder)\n",
    "# This transform in a sequence of tokens ours dataset\n",
    "tokenized_character_hg = character_hg.map(lambda row: dialogpt_preprocess_function(row, tokenizer), batched=False)\n",
    "\n",
    "# Define tensorflow datasets\n",
    "encoded_test_set = tokenized_character_hg[\"test\"].to_tf_dataset(\n",
    "    columns=[\"input_ids\", \"attention_mask\", \"labels\"],\n",
    "    shuffle=False,\n",
    "    batch_size=batch_size,\n",
    "    collate_fn=data_collator,\n",
    ")\n",
    "\n",
    "chatbot_senteces = []\n",
    "raw_predictions = []\n",
    "test_run = {character: [{\"n_sentences\": t,\n",
    "                         \"chatbot_senteces\": [],\n",
    "                         \"raw_predictions\": []} for t in range(n_tests*max_test_size)]}\n",
    "\n",
    "if n_tests > 1 and not override_predictions:\n",
    "    raise Exception('must override previous predictions if you need more tests')\n",
    "\n",
    "predictions_file = join(base_folder, 'src', 'tmp', character+'_predictions_cTFIDF.json')\n",
    "if not(override_predictions) or exists(predictions_file):\n",
    "    with open(predictions_file, 'r', encoding='utf-8') as file:\n",
    "        test_run = json.load(file)\n",
    "else:\n",
    "    # n_test = 20, max_test_size = 20 -> 287'\n",
    "    for t in range(n_tests):\n",
    "        print(f'Run {t}/{n_tests}')\n",
    "        for j in range(max_test_size):\n",
    "            character_hg['test'].shuffle(random_state)\n",
    "            tmp_hg = character_hg.copy()\n",
    "            # Takes a subset of the testset as sample question\n",
    "            tmp_hg['test'] = tmp_hg['test'].select(selected_indeces[j])\n",
    "            sample_questions = tmp_hg['test']['context/0']\n",
    "            # Sampling generation method\n",
    "            predictions_sampling = get_chatbot_predictions(\n",
    "                sample_questions,\n",
    "                model_chatbot,\n",
    "                character_dict[character]['prediction_filename'] + '_sampling.json',\n",
    "                \"Sampling\",\n",
    "                character,\n",
    "                tokenizer,\n",
    "                base_folder,\n",
    "                override_predictions=override_predictions\n",
    "            )\n",
    "            sentences = merge_df_for_metrics(tmp_hg['test'], None, None, predictions_sampling, tokenizer)['prd_sampling'].tolist()\n",
    "            test_run[character][t*max_test_size+j][\"n_sentences\"] = t\n",
    "            test_run[character][t*max_test_size+j][\"chatbot_senteces\"] = sentences\n",
    "            test_run[character][t*max_test_size+j][\"raw_predictions\"] = list(metric.compute(sentences=sentences)['score'])"
   ]
  },
  {
   "cell_type": "code",
   "execution_count": 8,
   "metadata": {},
   "outputs": [
    {
     "data": {
      "text/plain": [
       "array([[0.825, 0.175],\n",
       "       [0.   , 0.   ]])"
      ]
     },
     "execution_count": 8,
     "metadata": {},
     "output_type": "execute_result"
    }
   ],
   "source": [
    "y_pred = []\n",
    "y_true = []\n",
    "for t in range(max_test_size*n_tests):\n",
    "    raw_predictions = test_run[character][t][\"raw_predictions\"]\n",
    "    y_pred += [0 if np.argmax(raw_predictions) == 0 else 1]\n",
    "    # y_true += [characters.index(character)]\n",
    "    y_true += [0]\n",
    "# labels = set(y_pred).union(set(y_true))\n",
    "# labels = [characters[i] for i in labels]\n",
    "# print(labels)\n",
    "# confusion_matrix(y_true, y_pred,)\n",
    "confusion_matrix(y_true, y_pred,normalize='true')"
   ]
  },
  {
   "cell_type": "code",
   "execution_count": 22,
   "metadata": {},
   "outputs": [
    {
     "data": {
      "text/plain": [
       "3"
      ]
     },
     "execution_count": 22,
     "metadata": {},
     "output_type": "execute_result"
    }
   ],
   "source": [
    "n_tests"
   ]
  },
  {
   "cell_type": "code",
   "execution_count": 23,
   "metadata": {},
   "outputs": [
    {
     "data": {
      "image/png": "[encoded data removed]",
      "text/plain": [
       "<Figure size 640x480 with 1 Axes>"
      ]
     },
     "metadata": {},
     "output_type": "display_data"
    }
   ],
   "source": [
    "c_id = characters.index(character)\n",
    "len_tests = len(test_run[character])\n",
    "y = np.zeros(max_test_size)\n",
    "x = np.arange(max_test_size)\n",
    "std = np.zeros(max_test_size)\n",
    "for i in range(max_test_size):\n",
    "    y[i] = np.mean([test_run[character][t*max_test_size+i]['raw_predictions'][c_id]\\\n",
    "                    for t in range(n_tests)])\n",
    "    std[i] = np.std([test_run[character][t*max_test_size+i]['raw_predictions'][c_id]\\\n",
    "                     for t in range(n_tests)])\n",
    "fig, ax = plt.subplots()\n",
    "ax.set_xlabel('Number of sentences per test')\n",
    "ax.set_ylabel('c-tf-idf '+character+' similarity')\n",
    "ax.set_title('Cosine similarity up to '+str(max_test_size)+' sentences over '+str(n_tests)+' tests\\n\\\n",
    "predictions chatbot predictions vs training set')\n",
    "ax.set_xticks([i for i in range(0,len(x)+1,2)])\n",
    "ax.plot(x, y, label='cosine similarity')\n",
    "ax.fill_between(x, (y-std), (y+std), color='b', alpha=.1, label='std')\n",
    "ax.legend(loc='upper left')\n",
    "plt.savefig(join(base_folder, 'src', 'tmp', character+'_cTFIDF.png'))\n",
    "plt.show()"
   ]
  },
  {
   "cell_type": "code",
   "execution_count": null,
   "metadata": {},
   "outputs": [],
   "source": [
    "# test_run1 = {\"Barney\": []}\n",
    "# for t in range(n_tests):\n",
    "#     for j in range(max_test_size):\n",
    "#         test_t = test_run[t].copy()\n",
    "#         chatbot_senteces_t = test_t['chatbot_senteces']\n",
    "#         raw_predictions_t = test_t['raw_predictions']\n",
    "#         index = t*n_tests+j\n",
    "#         test_t['chatbot_senteces'] = chatbot_senteces_t[index]\n",
    "#         test_t['raw_predictions'] = list(raw_predictions_t[index])\n",
    "#         test_run1['Barney'].append(test_t) "
   ]
  },
  {
   "cell_type": "code",
   "execution_count": null,
   "metadata": {},
   "outputs": [],
   "source": [
    "predictions_file = join(base_folder, 'src', 'tmp', character+'_predictions_cTFIDF.json')\n",
    "with open(predictions_file, 'w', encoding='utf-8') as file:\n",
    "    json.dump(test_run, file)"
   ]
  }
 ],
 "metadata": {
  "kernelspec": {
   "display_name": "Python 3.9.13 ('.env': venv)",
   "language": "python",
   "name": "python3"
  },
  "language_info": {
   "codemirror_mode": {
    "name": "ipython",
    "version": 3
   },
   "file_extension": ".py",
   "mimetype": "text/x-python",
   "name": "python",
   "nbconvert_exporter": "python",
   "pygments_lexer": "ipython3",
   "version": "3.9.13"
  },
  "orig_nbformat": 4,
  "vscode": {
   "interpreter": {
    "hash": "f50b96814f1740723a83614b98a7a47a5a3da9585ed4f7341472b08131b8aed8"
   }
  }
 },
 "nbformat": 4,
 "nbformat_minor": 2
}
