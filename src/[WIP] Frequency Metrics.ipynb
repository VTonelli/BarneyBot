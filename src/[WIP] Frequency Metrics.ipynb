{
 "cells": [
  {
   "cell_type": "markdown",
   "metadata": {},
   "source": [
    "# Setup"
   ]
  },
  {
   "cell_type": "code",
   "execution_count": 1,
   "metadata": {},
   "outputs": [],
   "source": [
    "import pandas as pd\n",
    "from tqdm import tqdm\n",
    "import re\n",
    "import json\n",
    "import nltk\n",
    "import numpy as np\n",
    "import matplotlib.pyplot as plt\n",
    "\n",
    "from random import shuffle\n",
    "\n",
    "from sklearn.feature_extraction.text import TfidfVectorizer\n",
    "from transformers import DataCollatorForLanguageModeling, AutoTokenizer, TFAutoModelForCausalLM, AdamWeightDecay\n",
    "from os.path import join, exists"
   ]
  },
  {
   "cell_type": "code",
   "execution_count": 2,
   "metadata": {},
   "outputs": [
    {
     "name": "stderr",
     "output_type": "stream",
     "text": [
      "[nltk_data] Downloading package stopwords to\n",
      "[nltk_data]     c:\\Users\\User\\anaconda3\\envs\\nlp\\lib\\nltk_data...\n",
      "[nltk_data]   Package stopwords is already up-to-date!\n"
     ]
    }
   ],
   "source": [
    "from lib.BBData import character_dict, model_name\n",
    "from lib.BBDataLoad import dialogpt_preprocess_function, load_char_df, get_chatbot_predictions, merge_df_for_metrics\n",
    "\n",
    "from lib.wip.frequency import sentence_preprocess, freq_pairwise_sim, filter_by_weights, get_word_frequency, get_tfidfs, FrequencyChatbotClassifier\n",
    "from sklearn.metrics import confusion_matrix"
   ]
  },
  {
   "cell_type": "code",
   "execution_count": 3,
   "metadata": {},
   "outputs": [],
   "source": [
    "characters = list(character_dict.keys())\n",
    "# characters.remove('Default')\n",
    "\n",
    "mass_value = 0.3"
   ]
  },
  {
   "cell_type": "code",
   "execution_count": 4,
   "metadata": {},
   "outputs": [],
   "source": [
    "# Mount google drive, if in Colaboratory environment\n",
    "import os\n",
    "try:\n",
    "    import google.colab\n",
    "    IN_COLAB = True\n",
    "except:\n",
    "    IN_COLAB = False\n",
    "if IN_COLAB:\n",
    "    from google.colab import drive\n",
    "    drive.mount('/content/drive',force_remount=True)\n",
    "    base_folder = '/content/drive/My Drive/unibo/NLP_project/BarneyBot'\n",
    "    os.system(\"pip install datasets\")\n",
    "    os.system(\"pip install transformers\")\n",
    "    os.system(\"pip install rouge_score\")\n",
    "    os.system(\"pip install -U sentence-transformers\")\n",
    "else:\n",
    "    # base_folder = os.getcwd()\n",
    "    base_folder = '..'\n",
    "\n",
    "out_folder = os.path.join(base_folder, 'Data', 'Characters')"
   ]
  },
  {
   "cell_type": "markdown",
   "metadata": {},
   "source": [
    "# Data Loading"
   ]
  },
  {
   "cell_type": "code",
   "execution_count": 5,
   "metadata": {},
   "outputs": [],
   "source": [
    "character_docs = dict()\n",
    "for character in characters:\n",
    "    if character == 'Default':\n",
    "        df = pd.read_csv(os.path.join(out_folder, character, f'{character}.tsv'), \n",
    "                         names=[character, 'response'], sep='\\t')\n",
    "        df['response'] = df['response'].apply(lambda x: x[3:])\n",
    "        df[character] = df[character].apply(lambda x: x[3:])\n",
    "        character_docs[character] = df['response'].tolist()\n",
    "    else:\n",
    "        df = pd.read_csv(os.path.join(out_folder, character, f'{character}.csv'))\n",
    "        character_docs[character] = df['response'].tolist()"
   ]
  },
  {
   "cell_type": "code",
   "execution_count": 6,
   "metadata": {},
   "outputs": [
    {
     "name": "stderr",
     "output_type": "stream",
     "text": [
      "100%|██████████| 5194/5194 [00:00<00:00, 5756.73it/s]\n",
      "100%|██████████| 11642/11642 [00:02<00:00, 5209.94it/s]\n",
      "100%|██████████| 1037/1037 [00:00<00:00, 3928.10it/s]\n",
      "100%|██████████| 2716/2716 [00:00<00:00, 4479.63it/s]\n",
      "100%|██████████| 2388/2388 [00:00<00:00, 5177.32it/s]\n",
      "100%|██████████| 160/160 [00:00<00:00, 5707.85it/s]\n",
      "100%|██████████| 8229/8229 [00:01<00:00, 5769.20it/s]\n",
      "100%|██████████| 7476/7476 [00:01<00:00, 6235.19it/s]\n",
      "100%|██████████| 737332/737332 [02:12<00:00, 5583.71it/s]\n"
     ]
    }
   ],
   "source": [
    "for character in characters:\n",
    "    for i in tqdm(range(len(character_docs[character]))):\n",
    "        sentence, relevant = sentence_preprocess(character_docs[character][i])\n",
    "        if relevant:\n",
    "            character_docs[character][i] = sentence"
   ]
  },
  {
   "cell_type": "code",
   "execution_count": 7,
   "metadata": {},
   "outputs": [],
   "source": [
    "test_size = 0.33\n",
    "character_docs_train = {}\n",
    "character_docs_test = {}\n",
    "for c in characters:\n",
    "    shuffle(character_docs[c])\n",
    "    end_idx = int(len(character_docs[c]) * test_size)\n",
    "    character_docs_train[c] = character_docs[c][end_idx:]\n",
    "    character_docs_test[c] = character_docs[c][:end_idx]"
   ]
  },
  {
   "cell_type": "markdown",
   "metadata": {},
   "source": [
    "# Word Frequency"
   ]
  },
  {
   "cell_type": "markdown",
   "metadata": {},
   "source": [
    "Loading word frequencies"
   ]
  },
  {
   "cell_type": "code",
   "execution_count": 8,
   "metadata": {},
   "outputs": [
    {
     "name": "stderr",
     "output_type": "stream",
     "text": [
      " 89%|████████▉ | 8/9 [1:16:34<09:34, 574.30s/it]\n"
     ]
    },
    {
     "ename": "KeyboardInterrupt",
     "evalue": "",
     "output_type": "error",
     "traceback": [
      "\u001b[1;31m---------------------------------------------------------------------------\u001b[0m",
      "\u001b[1;31mKeyboardInterrupt\u001b[0m                         Traceback (most recent call last)",
      "\u001b[1;32m~\\AppData\\Local\\Temp/ipykernel_23232/4241155313.py\u001b[0m in \u001b[0;36m<module>\u001b[1;34m\u001b[0m\n\u001b[0;32m      1\u001b[0m \u001b[0mwordfreqs_train\u001b[0m \u001b[1;33m=\u001b[0m \u001b[0mdict\u001b[0m\u001b[1;33m(\u001b[0m\u001b[1;33m)\u001b[0m\u001b[1;33m\u001b[0m\u001b[1;33m\u001b[0m\u001b[0m\n\u001b[0;32m      2\u001b[0m \u001b[1;32mfor\u001b[0m \u001b[0mcharacter\u001b[0m \u001b[1;32min\u001b[0m \u001b[0mtqdm\u001b[0m\u001b[1;33m(\u001b[0m\u001b[0mcharacters\u001b[0m\u001b[1;33m)\u001b[0m\u001b[1;33m:\u001b[0m\u001b[1;33m\u001b[0m\u001b[1;33m\u001b[0m\u001b[0m\n\u001b[1;32m----> 3\u001b[1;33m     \u001b[0mwordfreqs_train\u001b[0m\u001b[1;33m[\u001b[0m\u001b[0mcharacter\u001b[0m\u001b[1;33m]\u001b[0m \u001b[1;33m=\u001b[0m \u001b[0mget_word_frequency\u001b[0m\u001b[1;33m(\u001b[0m\u001b[1;34m' '\u001b[0m\u001b[1;33m.\u001b[0m\u001b[0mjoin\u001b[0m\u001b[1;33m(\u001b[0m\u001b[0mcharacter_docs_train\u001b[0m\u001b[1;33m[\u001b[0m\u001b[0mcharacter\u001b[0m\u001b[1;33m]\u001b[0m\u001b[1;33m)\u001b[0m\u001b[1;33m,\u001b[0m \u001b[0mf_sorted\u001b[0m\u001b[1;33m=\u001b[0m\u001b[1;32mTrue\u001b[0m\u001b[1;33m)\u001b[0m\u001b[1;33m\u001b[0m\u001b[1;33m\u001b[0m\u001b[0m\n\u001b[0m\u001b[0;32m      4\u001b[0m \u001b[1;33m\u001b[0m\u001b[0m\n\u001b[0;32m      5\u001b[0m \u001b[0mwordfreqs_test\u001b[0m \u001b[1;33m=\u001b[0m \u001b[0mdict\u001b[0m\u001b[1;33m(\u001b[0m\u001b[1;33m)\u001b[0m\u001b[1;33m\u001b[0m\u001b[1;33m\u001b[0m\u001b[0m\n",
      "\u001b[1;32mc:\\Users\\User\\Documents\\Unibo\\NLP\\BarneyBot\\src\\lib\\wip\\frequency.py\u001b[0m in \u001b[0;36mget_word_frequency\u001b[1;34m(doc, f_sorted)\u001b[0m\n\u001b[0;32m     13\u001b[0m     \u001b[0m_temp\u001b[0m \u001b[1;33m=\u001b[0m \u001b[0mlist\u001b[0m\u001b[1;33m(\u001b[0m\u001b[1;33m)\u001b[0m\u001b[1;33m\u001b[0m\u001b[1;33m\u001b[0m\u001b[0m\n\u001b[0;32m     14\u001b[0m     \u001b[0mwords\u001b[0m \u001b[1;33m=\u001b[0m \u001b[0mset\u001b[0m\u001b[1;33m(\u001b[0m\u001b[0mwordlist\u001b[0m\u001b[1;33m)\u001b[0m\u001b[1;33m\u001b[0m\u001b[1;33m\u001b[0m\u001b[0m\n\u001b[1;32m---> 15\u001b[1;33m     \u001b[0mwordfreq\u001b[0m \u001b[1;33m=\u001b[0m \u001b[1;33m{\u001b[0m\u001b[0mw\u001b[0m\u001b[1;33m:\u001b[0m \u001b[0mwordlist\u001b[0m\u001b[1;33m.\u001b[0m\u001b[0mcount\u001b[0m\u001b[1;33m(\u001b[0m\u001b[0mw\u001b[0m\u001b[1;33m)\u001b[0m \u001b[1;32mfor\u001b[0m \u001b[0mw\u001b[0m \u001b[1;32min\u001b[0m \u001b[0mwords\u001b[0m \u001b[1;33m-\u001b[0m \u001b[0mset\u001b[0m\u001b[1;33m(\u001b[0m\u001b[0mstopwords\u001b[0m\u001b[1;33m.\u001b[0m\u001b[0mwords\u001b[0m\u001b[1;33m(\u001b[0m\u001b[1;33m)\u001b[0m\u001b[1;33m)\u001b[0m\u001b[1;33m}\u001b[0m\u001b[1;33m\u001b[0m\u001b[1;33m\u001b[0m\u001b[0m\n\u001b[0m\u001b[0;32m     16\u001b[0m     \u001b[1;32mif\u001b[0m \u001b[0mf_sorted\u001b[0m\u001b[1;33m:\u001b[0m\u001b[1;33m\u001b[0m\u001b[1;33m\u001b[0m\u001b[0m\n\u001b[0;32m     17\u001b[0m         wordfreq = dict(\n",
      "\u001b[1;32mc:\\Users\\User\\Documents\\Unibo\\NLP\\BarneyBot\\src\\lib\\wip\\frequency.py\u001b[0m in \u001b[0;36m<dictcomp>\u001b[1;34m(.0)\u001b[0m\n\u001b[0;32m     13\u001b[0m     \u001b[0m_temp\u001b[0m \u001b[1;33m=\u001b[0m \u001b[0mlist\u001b[0m\u001b[1;33m(\u001b[0m\u001b[1;33m)\u001b[0m\u001b[1;33m\u001b[0m\u001b[1;33m\u001b[0m\u001b[0m\n\u001b[0;32m     14\u001b[0m     \u001b[0mwords\u001b[0m \u001b[1;33m=\u001b[0m \u001b[0mset\u001b[0m\u001b[1;33m(\u001b[0m\u001b[0mwordlist\u001b[0m\u001b[1;33m)\u001b[0m\u001b[1;33m\u001b[0m\u001b[1;33m\u001b[0m\u001b[0m\n\u001b[1;32m---> 15\u001b[1;33m     \u001b[0mwordfreq\u001b[0m \u001b[1;33m=\u001b[0m \u001b[1;33m{\u001b[0m\u001b[0mw\u001b[0m\u001b[1;33m:\u001b[0m \u001b[0mwordlist\u001b[0m\u001b[1;33m.\u001b[0m\u001b[0mcount\u001b[0m\u001b[1;33m(\u001b[0m\u001b[0mw\u001b[0m\u001b[1;33m)\u001b[0m \u001b[1;32mfor\u001b[0m \u001b[0mw\u001b[0m \u001b[1;32min\u001b[0m \u001b[0mwords\u001b[0m \u001b[1;33m-\u001b[0m \u001b[0mset\u001b[0m\u001b[1;33m(\u001b[0m\u001b[0mstopwords\u001b[0m\u001b[1;33m.\u001b[0m\u001b[0mwords\u001b[0m\u001b[1;33m(\u001b[0m\u001b[1;33m)\u001b[0m\u001b[1;33m)\u001b[0m\u001b[1;33m}\u001b[0m\u001b[1;33m\u001b[0m\u001b[1;33m\u001b[0m\u001b[0m\n\u001b[0m\u001b[0;32m     16\u001b[0m     \u001b[1;32mif\u001b[0m \u001b[0mf_sorted\u001b[0m\u001b[1;33m:\u001b[0m\u001b[1;33m\u001b[0m\u001b[1;33m\u001b[0m\u001b[0m\n\u001b[0;32m     17\u001b[0m         wordfreq = dict(\n",
      "\u001b[1;31mKeyboardInterrupt\u001b[0m: "
     ]
    }
   ],
   "source": [
    "\"\"\"wordfreqs_train = dict()\n",
    "for character in tqdm(characters):\n",
    "    wordfreqs_train[character] = get_word_frequency(' '.join(character_docs_train[character]), f_sorted=True)\n",
    "\n",
    "wordfreqs_test = dict()\n",
    "for character in tqdm(characters):\n",
    "    wordfreqs_test[character] = get_word_frequency(' '.join(character_docs_test[character]), f_sorted=True)\"\"\""
   ]
  },
  {
   "cell_type": "code",
   "execution_count": null,
   "metadata": {},
   "outputs": [],
   "source": [
    "\"\"\"wordfreqs_reduced_train = dict()\n",
    "for character in characters:\n",
    "    wordfreqs_reduced_train[character] = filter_by_weights(wordfreqs_train[character], mass=0.3)\n",
    "\n",
    "wordfreqs_reduced_test = dict()\n",
    "for character in characters:\n",
    "    wordfreqs_reduced_test[character] = filter_by_weights(wordfreqs_test[character], mass=0.3)\"\"\""
   ]
  },
  {
   "cell_type": "markdown",
   "metadata": {},
   "source": [
    "Loading TF-IDF matrix"
   ]
  },
  {
   "cell_type": "code",
   "execution_count": 9,
   "metadata": {},
   "outputs": [],
   "source": [
    "tfidf_vectorizer = TfidfVectorizer(input='content', stop_words='english')"
   ]
  },
  {
   "cell_type": "code",
   "execution_count": 10,
   "metadata": {},
   "outputs": [
    {
     "name": "stderr",
     "output_type": "stream",
     "text": [
      "c:\\Users\\User\\anaconda3\\envs\\nlp\\lib\\site-packages\\sklearn\\utils\\deprecation.py:87: FutureWarning: Function get_feature_names is deprecated; get_feature_names is deprecated in 1.0 and will be removed in 1.2. Please use get_feature_names_out instead.\n",
      "  warnings.warn(msg, category=FutureWarning)\n"
     ]
    }
   ],
   "source": [
    "tfidfs_train = get_tfidfs([' '.join(character_docs_train[character]) for character in characters], characters, tfidf_vectorizer)"
   ]
  },
  {
   "cell_type": "code",
   "execution_count": 11,
   "metadata": {},
   "outputs": [],
   "source": [
    "tfidfs_reduced_train = dict()\n",
    "for character in characters:\n",
    "    tfidfs_reduced_train[character] = filter_by_weights(tfidfs_train[character], mass=mass_value)"
   ]
  },
  {
   "cell_type": "markdown",
   "metadata": {},
   "source": [
    "# WordCloud Plot (Example)"
   ]
  },
  {
   "cell_type": "code",
   "execution_count": 12,
   "metadata": {},
   "outputs": [
    {
     "data": {
      "image/png": "[encoded data removed]",
      "text/plain": [
       "<Figure size 432x288 with 1 Axes>"
      ]
     },
     "metadata": {
      "needs_background": "light"
     },
     "output_type": "display_data"
    },
    {
     "data": {
      "text/plain": [
       "<Figure size 432x288 with 0 Axes>"
      ]
     },
     "metadata": {},
     "output_type": "display_data"
    }
   ],
   "source": [
    "from lib.BBVisualizations import BBVisualization\n",
    "BBVisualization.load_visualization(\"wordcloud\").plot(freqdict=tfidfs_reduced_train['Barney'])"
   ]
  },
  {
   "cell_type": "markdown",
   "metadata": {},
   "source": [
    "# Frequency Pairwise Similarity (Example)"
   ]
  },
  {
   "cell_type": "code",
   "execution_count": 13,
   "metadata": {},
   "outputs": [
    {
     "ename": "NameError",
     "evalue": "name 'wordfreqs_reduced_train' is not defined",
     "output_type": "error",
     "traceback": [
      "\u001b[1;31m---------------------------------------------------------------------------\u001b[0m",
      "\u001b[1;31mNameError\u001b[0m                                 Traceback (most recent call last)",
      "\u001b[1;32m~\\AppData\\Local\\Temp/ipykernel_23232/1879393293.py\u001b[0m in \u001b[0;36m<module>\u001b[1;34m\u001b[0m\n\u001b[1;32m----> 1\u001b[1;33m \u001b[0mfreq_pairwise_sim\u001b[0m\u001b[1;33m(\u001b[0m\u001b[0mwordfreqs_reduced_train\u001b[0m\u001b[1;33m[\u001b[0m\u001b[1;34m'Fry'\u001b[0m\u001b[1;33m]\u001b[0m\u001b[1;33m,\u001b[0m \u001b[0mwordfreqs_reduced_test\u001b[0m\u001b[1;33m[\u001b[0m\u001b[1;34m'Fry'\u001b[0m\u001b[1;33m]\u001b[0m\u001b[1;33m)\u001b[0m\u001b[1;33m\u001b[0m\u001b[1;33m\u001b[0m\u001b[0m\n\u001b[0m",
      "\u001b[1;31mNameError\u001b[0m: name 'wordfreqs_reduced_train' is not defined"
     ]
    }
   ],
   "source": [
    "\"\"\"freq_pairwise_sim(wordfreqs_reduced_train['Fry'], wordfreqs_reduced_test['Fry'])\"\"\""
   ]
  },
  {
   "cell_type": "markdown",
   "metadata": {},
   "source": [
    "# Test Classifier Performances Against Test Set"
   ]
  },
  {
   "cell_type": "code",
   "execution_count": null,
   "metadata": {},
   "outputs": [],
   "source": [
    "\"\"\"wf_classifier = FrequencyChatbotClassifier(characters, mode='word frequency')\n",
    "wf_classifier.train(list(character_docs_train.values()))\n",
    "\n",
    "y_true = range(0, len(characters))\n",
    "y_pred = [np.argmax(list(wf_classifier.predict(character_docs_test[character], mass=0.3).values()))\n",
    "          for character in characters]\n",
    "\n",
    "print('Word Frequency classifier test accuracy: {:.2f}'.format(\n",
    "             sum([y_pred[i] == y_true[i] for i in range(len(y_true))]) / len(y_true)))\n",
    "confusion_matrix(y_true, y_pred)\"\"\""
   ]
  },
  {
   "cell_type": "code",
   "execution_count": 14,
   "metadata": {},
   "outputs": [
    {
     "name": "stderr",
     "output_type": "stream",
     "text": [
      "c:\\Users\\User\\anaconda3\\envs\\nlp\\lib\\site-packages\\sklearn\\utils\\deprecation.py:87: FutureWarning: Function get_feature_names is deprecated; get_feature_names is deprecated in 1.0 and will be removed in 1.2. Please use get_feature_names_out instead.\n",
      "  warnings.warn(msg, category=FutureWarning)\n",
      "c:\\Users\\User\\anaconda3\\envs\\nlp\\lib\\site-packages\\sklearn\\utils\\deprecation.py:87: FutureWarning: Function get_feature_names is deprecated; get_feature_names is deprecated in 1.0 and will be removed in 1.2. Please use get_feature_names_out instead.\n",
      "  warnings.warn(msg, category=FutureWarning)\n",
      "c:\\Users\\User\\anaconda3\\envs\\nlp\\lib\\site-packages\\sklearn\\utils\\deprecation.py:87: FutureWarning: Function get_feature_names is deprecated; get_feature_names is deprecated in 1.0 and will be removed in 1.2. Please use get_feature_names_out instead.\n",
      "  warnings.warn(msg, category=FutureWarning)\n",
      "c:\\Users\\User\\anaconda3\\envs\\nlp\\lib\\site-packages\\sklearn\\utils\\deprecation.py:87: FutureWarning: Function get_feature_names is deprecated; get_feature_names is deprecated in 1.0 and will be removed in 1.2. Please use get_feature_names_out instead.\n",
      "  warnings.warn(msg, category=FutureWarning)\n",
      "c:\\Users\\User\\anaconda3\\envs\\nlp\\lib\\site-packages\\sklearn\\utils\\deprecation.py:87: FutureWarning: Function get_feature_names is deprecated; get_feature_names is deprecated in 1.0 and will be removed in 1.2. Please use get_feature_names_out instead.\n",
      "  warnings.warn(msg, category=FutureWarning)\n",
      "c:\\Users\\User\\anaconda3\\envs\\nlp\\lib\\site-packages\\sklearn\\utils\\deprecation.py:87: FutureWarning: Function get_feature_names is deprecated; get_feature_names is deprecated in 1.0 and will be removed in 1.2. Please use get_feature_names_out instead.\n",
      "  warnings.warn(msg, category=FutureWarning)\n",
      "c:\\Users\\User\\anaconda3\\envs\\nlp\\lib\\site-packages\\sklearn\\utils\\deprecation.py:87: FutureWarning: Function get_feature_names is deprecated; get_feature_names is deprecated in 1.0 and will be removed in 1.2. Please use get_feature_names_out instead.\n",
      "  warnings.warn(msg, category=FutureWarning)\n",
      "c:\\Users\\User\\anaconda3\\envs\\nlp\\lib\\site-packages\\sklearn\\utils\\deprecation.py:87: FutureWarning: Function get_feature_names is deprecated; get_feature_names is deprecated in 1.0 and will be removed in 1.2. Please use get_feature_names_out instead.\n",
      "  warnings.warn(msg, category=FutureWarning)\n"
     ]
    },
    {
     "name": "stdout",
     "output_type": "stream",
     "text": [
      "TF-IDF classifier test accuracy: 1.00\n"
     ]
    },
    {
     "data": {
      "text/plain": [
       "array([[1, 0, 0, 0, 0, 0, 0, 0, 0],\n",
       "       [0, 1, 0, 0, 0, 0, 0, 0, 0],\n",
       "       [0, 0, 1, 0, 0, 0, 0, 0, 0],\n",
       "       [0, 0, 0, 1, 0, 0, 0, 0, 0],\n",
       "       [0, 0, 0, 0, 1, 0, 0, 0, 0],\n",
       "       [0, 0, 0, 0, 0, 1, 0, 0, 0],\n",
       "       [0, 0, 0, 0, 0, 0, 1, 0, 0],\n",
       "       [0, 0, 0, 0, 0, 0, 0, 1, 0],\n",
       "       [0, 0, 0, 0, 0, 0, 0, 0, 1]], dtype=int64)"
      ]
     },
     "execution_count": 14,
     "metadata": {},
     "output_type": "execute_result"
    }
   ],
   "source": [
    "tfidf_classifier = FrequencyChatbotClassifier(characters, mode='tf-idf')\n",
    "tfidf_classifier.train(list(character_docs_train.values()))\n",
    "\n",
    "y_true = range(0, len(characters))\n",
    "y_pred = [np.argmax(list(tfidf_classifier.predict(character_docs_test[character], mass=0.3).values()))\n",
    "          for character in characters]\n",
    "\n",
    "print('TF-IDF classifier test accuracy: {:.2f}'.format(\n",
    "             sum([y_pred[i] == y_true[i] for i in range(len(y_true))]) / len(y_true)))\n",
    "confusion_matrix(y_true, y_pred)"
   ]
  },
  {
   "cell_type": "markdown",
   "metadata": {},
   "source": [
    "# Test Classifiers On Chatbots (Not Cached!)"
   ]
  },
  {
   "cell_type": "code",
   "execution_count": 19,
   "metadata": {},
   "outputs": [],
   "source": [
    "tfidf_classifier = FrequencyChatbotClassifier(characters, mode='tf-idf')\n",
    "tfidf_classifier.train(list(character_docs.values()))"
   ]
  },
  {
   "cell_type": "code",
   "execution_count": 20,
   "metadata": {},
   "outputs": [],
   "source": [
    "tokenizer = AutoTokenizer.from_pretrained(model_name, cache_dir=join(\"..\", \"cache\"))\n",
    "tokenizer.pad_token = '#'\n",
    "data_collator = DataCollatorForLanguageModeling(mlm=False, tokenizer=tokenizer, return_tensors='tf')"
   ]
  },
  {
   "cell_type": "code",
   "execution_count": 18,
   "metadata": {},
   "outputs": [],
   "source": [
    "characters_noDefault = characters.copy()\n",
    "characters_noDefault.remove('Default')"
   ]
  },
  {
   "cell_type": "code",
   "execution_count": 21,
   "metadata": {},
   "outputs": [
    {
     "name": "stdout",
     "output_type": "stream",
     "text": [
      "Creating dataset...\n",
      "Run 0/1\n"
     ]
    },
    {
     "name": "stderr",
     "output_type": "stream",
     "text": [
      "  0%|          | 0/8 [00:00<?, ?it/s]Using custom data configuration default-d78476db32c8db98\n",
      "Reusing dataset csv (cache\\csv\\default-d78476db32c8db98\\0.0.0\\433e0ccc46f9880962cc2b12065189766fbb2bee57a221866138fb9203c83519)\n",
      "100%|██████████| 1/1 [00:00<00:00, 153.31it/s]\n",
      "Loading cached split indices for dataset at cache\\csv\\default-d78476db32c8db98\\0.0.0\\433e0ccc46f9880962cc2b12065189766fbb2bee57a221866138fb9203c83519\\cache-651037d43e5e3dbd.arrow and cache\\csv\\default-d78476db32c8db98\\0.0.0\\433e0ccc46f9880962cc2b12065189766fbb2bee57a221866138fb9203c83519\\cache-7e4903d85e508b43.arrow\n",
      "Loading cached split indices for dataset at cache\\csv\\default-d78476db32c8db98\\0.0.0\\433e0ccc46f9880962cc2b12065189766fbb2bee57a221866138fb9203c83519\\cache-1b018c4ce0c1ed8c.arrow and cache\\csv\\default-d78476db32c8db98\\0.0.0\\433e0ccc46f9880962cc2b12065189766fbb2bee57a221866138fb9203c83519\\cache-2cfa4b0ef22c9ad5.arrow\n",
      "Loading cached processed dataset at cache\\csv\\default-d78476db32c8db98\\0.0.0\\433e0ccc46f9880962cc2b12065189766fbb2bee57a221866138fb9203c83519\\cache-89f9b92b2a083af0.arrow\n",
      "Loading cached processed dataset at cache\\csv\\default-d78476db32c8db98\\0.0.0\\433e0ccc46f9880962cc2b12065189766fbb2bee57a221866138fb9203c83519\\cache-f26a814e4e6d10fc.arrow\n",
      "Loading cached processed dataset at cache\\csv\\default-d78476db32c8db98\\0.0.0\\433e0ccc46f9880962cc2b12065189766fbb2bee57a221866138fb9203c83519\\cache-6655d46d8a0182ef.arrow\n"
     ]
    },
    {
     "name": "stdout",
     "output_type": "stream",
     "text": [
      "Loading predictions from stored file\n",
      "Loaded predictions from stored file\n"
     ]
    },
    {
     "name": "stderr",
     "output_type": "stream",
     "text": [
      "100%|██████████| 522/522 [00:01<00:00, 344.11it/s]\n",
      " 12%|█▎        | 1/8 [00:02<00:17,  2.50s/it]Using custom data configuration default-8207271dc09e0a46\n",
      "Reusing dataset csv (cache\\csv\\default-8207271dc09e0a46\\0.0.0\\433e0ccc46f9880962cc2b12065189766fbb2bee57a221866138fb9203c83519)\n",
      "100%|██████████| 1/1 [00:00<00:00, 332.99it/s]\n",
      "Loading cached split indices for dataset at cache\\csv\\default-8207271dc09e0a46\\0.0.0\\433e0ccc46f9880962cc2b12065189766fbb2bee57a221866138fb9203c83519\\cache-46b6cd7566c1d243.arrow and cache\\csv\\default-8207271dc09e0a46\\0.0.0\\433e0ccc46f9880962cc2b12065189766fbb2bee57a221866138fb9203c83519\\cache-e3e40e36f25dded7.arrow\n",
      "Loading cached split indices for dataset at cache\\csv\\default-8207271dc09e0a46\\0.0.0\\433e0ccc46f9880962cc2b12065189766fbb2bee57a221866138fb9203c83519\\cache-1774625d7360210c.arrow and cache\\csv\\default-8207271dc09e0a46\\0.0.0\\433e0ccc46f9880962cc2b12065189766fbb2bee57a221866138fb9203c83519\\cache-ad5b734370182aae.arrow\n",
      "Loading cached processed dataset at cache\\csv\\default-8207271dc09e0a46\\0.0.0\\433e0ccc46f9880962cc2b12065189766fbb2bee57a221866138fb9203c83519\\cache-fed8798d874c65dd.arrow\n",
      "Loading cached processed dataset at cache\\csv\\default-8207271dc09e0a46\\0.0.0\\433e0ccc46f9880962cc2b12065189766fbb2bee57a221866138fb9203c83519\\cache-632156930e5bea85.arrow\n",
      "Loading cached processed dataset at cache\\csv\\default-8207271dc09e0a46\\0.0.0\\433e0ccc46f9880962cc2b12065189766fbb2bee57a221866138fb9203c83519\\cache-448ecc7a6afdd007.arrow\n"
     ]
    },
    {
     "name": "stdout",
     "output_type": "stream",
     "text": [
      "Loading predictions from stored file\n",
      "Loaded predictions from stored file\n"
     ]
    },
    {
     "name": "stderr",
     "output_type": "stream",
     "text": [
      "100%|██████████| 1170/1170 [00:01<00:00, 676.76it/s]\n",
      " 25%|██▌       | 2/8 [00:05<00:15,  2.65s/it]Using custom data configuration default-5e8064f57286033a\n",
      "Reusing dataset csv (cache\\csv\\default-5e8064f57286033a\\0.0.0\\433e0ccc46f9880962cc2b12065189766fbb2bee57a221866138fb9203c83519)\n",
      "100%|██████████| 1/1 [00:00<00:00, 249.30it/s]\n",
      "Loading cached split indices for dataset at cache\\csv\\default-5e8064f57286033a\\0.0.0\\433e0ccc46f9880962cc2b12065189766fbb2bee57a221866138fb9203c83519\\cache-2b86c587abd47c66.arrow and cache\\csv\\default-5e8064f57286033a\\0.0.0\\433e0ccc46f9880962cc2b12065189766fbb2bee57a221866138fb9203c83519\\cache-8919d70a4bf80eed.arrow\n",
      "Loading cached split indices for dataset at cache\\csv\\default-5e8064f57286033a\\0.0.0\\433e0ccc46f9880962cc2b12065189766fbb2bee57a221866138fb9203c83519\\cache-4099b79485c950ea.arrow and cache\\csv\\default-5e8064f57286033a\\0.0.0\\433e0ccc46f9880962cc2b12065189766fbb2bee57a221866138fb9203c83519\\cache-cecb46b03995ab9b.arrow\n",
      "Loading cached processed dataset at cache\\csv\\default-5e8064f57286033a\\0.0.0\\433e0ccc46f9880962cc2b12065189766fbb2bee57a221866138fb9203c83519\\cache-e80578e3b4f7f025.arrow\n",
      "Loading cached processed dataset at cache\\csv\\default-5e8064f57286033a\\0.0.0\\433e0ccc46f9880962cc2b12065189766fbb2bee57a221866138fb9203c83519\\cache-45cad4fe25e5526e.arrow\n",
      "Loading cached processed dataset at cache\\csv\\default-5e8064f57286033a\\0.0.0\\433e0ccc46f9880962cc2b12065189766fbb2bee57a221866138fb9203c83519\\cache-937d1b7b6a0a1add.arrow\n"
     ]
    },
    {
     "name": "stdout",
     "output_type": "stream",
     "text": [
      "Loading predictions from stored file\n",
      "Loaded predictions from stored file\n"
     ]
    },
    {
     "name": "stderr",
     "output_type": "stream",
     "text": [
      "100%|██████████| 104/104 [00:00<00:00, 748.22it/s]\n",
      " 38%|███▊      | 3/8 [00:06<00:09,  1.85s/it]Using custom data configuration default-b35448ec5dd887ec\n",
      "Reusing dataset csv (cache\\csv\\default-b35448ec5dd887ec\\0.0.0\\433e0ccc46f9880962cc2b12065189766fbb2bee57a221866138fb9203c83519)\n",
      "100%|██████████| 1/1 [00:00<00:00, 333.25it/s]\n",
      "Loading cached split indices for dataset at cache\\csv\\default-b35448ec5dd887ec\\0.0.0\\433e0ccc46f9880962cc2b12065189766fbb2bee57a221866138fb9203c83519\\cache-667383473c444f25.arrow and cache\\csv\\default-b35448ec5dd887ec\\0.0.0\\433e0ccc46f9880962cc2b12065189766fbb2bee57a221866138fb9203c83519\\cache-c520a8a264854da4.arrow\n",
      "Loading cached split indices for dataset at cache\\csv\\default-b35448ec5dd887ec\\0.0.0\\433e0ccc46f9880962cc2b12065189766fbb2bee57a221866138fb9203c83519\\cache-b072a26900059a04.arrow and cache\\csv\\default-b35448ec5dd887ec\\0.0.0\\433e0ccc46f9880962cc2b12065189766fbb2bee57a221866138fb9203c83519\\cache-885672efcb78500c.arrow\n",
      "Loading cached processed dataset at cache\\csv\\default-b35448ec5dd887ec\\0.0.0\\433e0ccc46f9880962cc2b12065189766fbb2bee57a221866138fb9203c83519\\cache-f2119e5a34f2eb76.arrow\n",
      "Loading cached processed dataset at cache\\csv\\default-b35448ec5dd887ec\\0.0.0\\433e0ccc46f9880962cc2b12065189766fbb2bee57a221866138fb9203c83519\\cache-cb34da498e1e68ed.arrow\n",
      "Loading cached processed dataset at cache\\csv\\default-b35448ec5dd887ec\\0.0.0\\433e0ccc46f9880962cc2b12065189766fbb2bee57a221866138fb9203c83519\\cache-3b065f584f7e66c9.arrow\n"
     ]
    },
    {
     "name": "stdout",
     "output_type": "stream",
     "text": [
      "Loading predictions from stored file\n",
      "Loaded predictions from stored file\n"
     ]
    },
    {
     "name": "stderr",
     "output_type": "stream",
     "text": [
      "100%|██████████| 273/273 [00:00<00:00, 775.11it/s]\n",
      " 50%|█████     | 4/8 [00:07<00:06,  1.58s/it]Using custom data configuration default-2a0884da2a86facc\n",
      "Reusing dataset csv (cache\\csv\\default-2a0884da2a86facc\\0.0.0\\433e0ccc46f9880962cc2b12065189766fbb2bee57a221866138fb9203c83519)\n",
      "100%|██████████| 1/1 [00:00<00:00, 333.54it/s]\n",
      "Loading cached split indices for dataset at cache\\csv\\default-2a0884da2a86facc\\0.0.0\\433e0ccc46f9880962cc2b12065189766fbb2bee57a221866138fb9203c83519\\cache-4c59c8594ee83881.arrow and cache\\csv\\default-2a0884da2a86facc\\0.0.0\\433e0ccc46f9880962cc2b12065189766fbb2bee57a221866138fb9203c83519\\cache-979ea9e674132025.arrow\n",
      "Loading cached split indices for dataset at cache\\csv\\default-2a0884da2a86facc\\0.0.0\\433e0ccc46f9880962cc2b12065189766fbb2bee57a221866138fb9203c83519\\cache-2cdb39c47142be86.arrow and cache\\csv\\default-2a0884da2a86facc\\0.0.0\\433e0ccc46f9880962cc2b12065189766fbb2bee57a221866138fb9203c83519\\cache-4b32be2eacb5d552.arrow\n",
      "Loading cached processed dataset at cache\\csv\\default-2a0884da2a86facc\\0.0.0\\433e0ccc46f9880962cc2b12065189766fbb2bee57a221866138fb9203c83519\\cache-6647fe37f40ed616.arrow\n",
      "Loading cached processed dataset at cache\\csv\\default-2a0884da2a86facc\\0.0.0\\433e0ccc46f9880962cc2b12065189766fbb2bee57a221866138fb9203c83519\\cache-98b2463bec0fd009.arrow\n",
      "Loading cached processed dataset at cache\\csv\\default-2a0884da2a86facc\\0.0.0\\433e0ccc46f9880962cc2b12065189766fbb2bee57a221866138fb9203c83519\\cache-015ae8852bcf3fa4.arrow\n"
     ]
    },
    {
     "name": "stdout",
     "output_type": "stream",
     "text": [
      "Loading predictions from stored file\n",
      "Loaded predictions from stored file\n"
     ]
    },
    {
     "name": "stderr",
     "output_type": "stream",
     "text": [
      "100%|██████████| 240/240 [00:00<00:00, 650.41it/s]\n",
      " 62%|██████▎   | 5/8 [00:08<00:04,  1.43s/it]Using custom data configuration default-3bee7e44262edb7f\n",
      "Reusing dataset csv (cache\\csv\\default-3bee7e44262edb7f\\0.0.0\\433e0ccc46f9880962cc2b12065189766fbb2bee57a221866138fb9203c83519)\n",
      "100%|██████████| 1/1 [00:00<00:00, 335.25it/s]\n",
      "Loading cached split indices for dataset at cache\\csv\\default-3bee7e44262edb7f\\0.0.0\\433e0ccc46f9880962cc2b12065189766fbb2bee57a221866138fb9203c83519\\cache-96d0a5ba5e8fec42.arrow and cache\\csv\\default-3bee7e44262edb7f\\0.0.0\\433e0ccc46f9880962cc2b12065189766fbb2bee57a221866138fb9203c83519\\cache-1443283cf78ecd8c.arrow\n",
      "Loading cached split indices for dataset at cache\\csv\\default-3bee7e44262edb7f\\0.0.0\\433e0ccc46f9880962cc2b12065189766fbb2bee57a221866138fb9203c83519\\cache-fe15dac5f93d7344.arrow and cache\\csv\\default-3bee7e44262edb7f\\0.0.0\\433e0ccc46f9880962cc2b12065189766fbb2bee57a221866138fb9203c83519\\cache-c4745ad835a23735.arrow\n",
      "Loading cached processed dataset at cache\\csv\\default-3bee7e44262edb7f\\0.0.0\\433e0ccc46f9880962cc2b12065189766fbb2bee57a221866138fb9203c83519\\cache-52e19da7533330c8.arrow\n",
      "Loading cached processed dataset at cache\\csv\\default-3bee7e44262edb7f\\0.0.0\\433e0ccc46f9880962cc2b12065189766fbb2bee57a221866138fb9203c83519\\cache-979822d41ccd7a4a.arrow\n",
      "Loading cached processed dataset at cache\\csv\\default-3bee7e44262edb7f\\0.0.0\\433e0ccc46f9880962cc2b12065189766fbb2bee57a221866138fb9203c83519\\cache-d486cd416c29c441.arrow\n"
     ]
    },
    {
     "name": "stdout",
     "output_type": "stream",
     "text": [
      "Loading predictions from stored file\n",
      "Loaded predictions from stored file\n"
     ]
    },
    {
     "name": "stderr",
     "output_type": "stream",
     "text": [
      "100%|██████████| 16/16 [00:00<00:00, 761.95it/s]\n",
      " 75%|███████▌  | 6/8 [00:09<00:02,  1.19s/it]Using custom data configuration default-b81141adc87b87bf\n",
      "Reusing dataset csv (cache\\csv\\default-b81141adc87b87bf\\0.0.0\\433e0ccc46f9880962cc2b12065189766fbb2bee57a221866138fb9203c83519)\n",
      "100%|██████████| 1/1 [00:00<00:00, 333.38it/s]\n",
      "Loading cached split indices for dataset at cache\\csv\\default-b81141adc87b87bf\\0.0.0\\433e0ccc46f9880962cc2b12065189766fbb2bee57a221866138fb9203c83519\\cache-e2d3926d0ffd0fd3.arrow and cache\\csv\\default-b81141adc87b87bf\\0.0.0\\433e0ccc46f9880962cc2b12065189766fbb2bee57a221866138fb9203c83519\\cache-f888d4a055d9f5e2.arrow\n",
      "Loading cached split indices for dataset at cache\\csv\\default-b81141adc87b87bf\\0.0.0\\433e0ccc46f9880962cc2b12065189766fbb2bee57a221866138fb9203c83519\\cache-682a04a266efce80.arrow and cache\\csv\\default-b81141adc87b87bf\\0.0.0\\433e0ccc46f9880962cc2b12065189766fbb2bee57a221866138fb9203c83519\\cache-13fca5dad2d5247a.arrow\n",
      "Loading cached processed dataset at cache\\csv\\default-b81141adc87b87bf\\0.0.0\\433e0ccc46f9880962cc2b12065189766fbb2bee57a221866138fb9203c83519\\cache-7662390b0e4f3793.arrow\n",
      "Loading cached processed dataset at cache\\csv\\default-b81141adc87b87bf\\0.0.0\\433e0ccc46f9880962cc2b12065189766fbb2bee57a221866138fb9203c83519\\cache-4379f0323f83a3bd.arrow\n",
      "Loading cached processed dataset at cache\\csv\\default-b81141adc87b87bf\\0.0.0\\433e0ccc46f9880962cc2b12065189766fbb2bee57a221866138fb9203c83519\\cache-ff90937c11e9e756.arrow\n"
     ]
    },
    {
     "name": "stdout",
     "output_type": "stream",
     "text": [
      "Loading predictions from stored file\n",
      "Loaded predictions from stored file\n"
     ]
    },
    {
     "name": "stderr",
     "output_type": "stream",
     "text": [
      "100%|██████████| 827/827 [00:00<00:00, 1007.29it/s]\n",
      " 88%|████████▊ | 7/8 [00:10<00:01,  1.32s/it]Using custom data configuration default-48cc5f719001fd3a\n",
      "Reusing dataset csv (cache\\csv\\default-48cc5f719001fd3a\\0.0.0\\433e0ccc46f9880962cc2b12065189766fbb2bee57a221866138fb9203c83519)\n",
      "100%|██████████| 1/1 [00:00<00:00, 334.05it/s]\n",
      "Loading cached split indices for dataset at cache\\csv\\default-48cc5f719001fd3a\\0.0.0\\433e0ccc46f9880962cc2b12065189766fbb2bee57a221866138fb9203c83519\\cache-16c140b5da191e7c.arrow and cache\\csv\\default-48cc5f719001fd3a\\0.0.0\\433e0ccc46f9880962cc2b12065189766fbb2bee57a221866138fb9203c83519\\cache-ed121df269d87298.arrow\n",
      "Loading cached split indices for dataset at cache\\csv\\default-48cc5f719001fd3a\\0.0.0\\433e0ccc46f9880962cc2b12065189766fbb2bee57a221866138fb9203c83519\\cache-f4f26cbce3ecb27c.arrow and cache\\csv\\default-48cc5f719001fd3a\\0.0.0\\433e0ccc46f9880962cc2b12065189766fbb2bee57a221866138fb9203c83519\\cache-186da54849d8ccad.arrow\n",
      "Loading cached processed dataset at cache\\csv\\default-48cc5f719001fd3a\\0.0.0\\433e0ccc46f9880962cc2b12065189766fbb2bee57a221866138fb9203c83519\\cache-7c5b176b39e0048e.arrow\n",
      "Loading cached processed dataset at cache\\csv\\default-48cc5f719001fd3a\\0.0.0\\433e0ccc46f9880962cc2b12065189766fbb2bee57a221866138fb9203c83519\\cache-5221c27b06394c28.arrow\n",
      "Loading cached processed dataset at cache\\csv\\default-48cc5f719001fd3a\\0.0.0\\433e0ccc46f9880962cc2b12065189766fbb2bee57a221866138fb9203c83519\\cache-20bada48da47c9c4.arrow\n"
     ]
    },
    {
     "name": "stdout",
     "output_type": "stream",
     "text": [
      "Loading predictions from stored file\n",
      "Loaded predictions from stored file\n"
     ]
    },
    {
     "name": "stderr",
     "output_type": "stream",
     "text": [
      "100%|██████████| 751/751 [00:00<00:00, 1058.82it/s]\n",
      "100%|██████████| 8/8 [00:12<00:00,  1.54s/it]\n"
     ]
    }
   ],
   "source": [
    "### create dataset\n",
    "n_tests = 1\n",
    "doc_test = []\n",
    "batch_size = 8\n",
    "override_predictions = False\n",
    "predictions = {c:[] for c in characters}\n",
    "raw_predictions = {c:[] for c in characters}\n",
    "print('Creating dataset...')\n",
    "if n_tests > 1 and not override_predictions:\n",
    "    raise Exception('must override previous predictions if you need more tests')\n",
    "\n",
    "for i in range(n_tests):\n",
    "    print(f'Run {i}/{n_tests}')\n",
    "    for character in tqdm(characters_noDefault):\n",
    "        character_checkpoint = join(out_folder, character, character_dict[character]['checkpoint_folder'])\n",
    "        model_chatbot = TFAutoModelForCausalLM.from_pretrained(pretrained_model_name_or_path=character_checkpoint) if override_predictions else None\n",
    "        if model_chatbot:\n",
    "            model_chatbot.compile(optimizer=AdamWeightDecay(learning_rate=2e-5))\n",
    "\n",
    "        character_hg = load_char_df(character, base_folder)\n",
    "        # This transform in a sequence of tokens ours dataset\n",
    "        tokenized_character_hg = character_hg.map(lambda row: dialogpt_preprocess_function(row, tokenizer), batched=False)\n",
    "\n",
    "        # Define tensorflow datasets\n",
    "        encoded_test_set = tokenized_character_hg[\"test\"].to_tf_dataset(\n",
    "            columns=[\"input_ids\", \"attention_mask\", \"labels\"],\n",
    "            shuffle=False,\n",
    "            batch_size=batch_size,\n",
    "            collate_fn=data_collator,\n",
    "        )\n",
    "\n",
    "        # Takes the testset as sample question \n",
    "        sample_questions = character_hg['test']['context/0']\n",
    "\n",
    "        # Sampling generation method\n",
    "        predictions_sampling = get_chatbot_predictions(\n",
    "            sample_questions,\n",
    "            model_chatbot,\n",
    "            character_dict[character]['prediction_filename'] + '_sampling.json',\n",
    "            \"Sampling\",\n",
    "            character,\n",
    "            tokenizer,\n",
    "            base_folder,\n",
    "            override_predictions=override_predictions\n",
    "        )\n",
    "                                                    \n",
    "        sentences = merge_df_for_metrics(character_hg['test'], None, None, predictions_sampling, tokenizer)['prd_sampling'].tolist()\n",
    "        sentences = [sentence_preprocess(s) for s in sentences]\n",
    "        doc_test.append([s[0] for s in sentences if s[1]])"
   ]
  },
  {
   "cell_type": "code",
   "execution_count": 23,
   "metadata": {},
   "outputs": [
    {
     "name": "stdout",
     "output_type": "stream",
     "text": [
      "Classification...\n"
     ]
    },
    {
     "name": "stderr",
     "output_type": "stream",
     "text": [
      "  0%|          | 0/8 [00:00<?, ?it/s]c:\\Users\\User\\anaconda3\\envs\\nlp\\lib\\site-packages\\sklearn\\utils\\deprecation.py:87: FutureWarning: Function get_feature_names is deprecated; get_feature_names is deprecated in 1.0 and will be removed in 1.2. Please use get_feature_names_out instead.\n",
      "  warnings.warn(msg, category=FutureWarning)\n",
      " 12%|█▎        | 1/8 [00:11<01:23, 11.97s/it]c:\\Users\\User\\anaconda3\\envs\\nlp\\lib\\site-packages\\sklearn\\utils\\deprecation.py:87: FutureWarning: Function get_feature_names is deprecated; get_feature_names is deprecated in 1.0 and will be removed in 1.2. Please use get_feature_names_out instead.\n",
      "  warnings.warn(msg, category=FutureWarning)\n",
      " 25%|██▌       | 2/8 [00:24<01:14, 12.36s/it]c:\\Users\\User\\anaconda3\\envs\\nlp\\lib\\site-packages\\sklearn\\utils\\deprecation.py:87: FutureWarning: Function get_feature_names is deprecated; get_feature_names is deprecated in 1.0 and will be removed in 1.2. Please use get_feature_names_out instead.\n",
      "  warnings.warn(msg, category=FutureWarning)\n",
      " 38%|███▊      | 3/8 [00:35<00:58, 11.67s/it]c:\\Users\\User\\anaconda3\\envs\\nlp\\lib\\site-packages\\sklearn\\utils\\deprecation.py:87: FutureWarning: Function get_feature_names is deprecated; get_feature_names is deprecated in 1.0 and will be removed in 1.2. Please use get_feature_names_out instead.\n",
      "  warnings.warn(msg, category=FutureWarning)\n",
      " 50%|█████     | 4/8 [00:45<00:44, 11.06s/it]c:\\Users\\User\\anaconda3\\envs\\nlp\\lib\\site-packages\\sklearn\\utils\\deprecation.py:87: FutureWarning: Function get_feature_names is deprecated; get_feature_names is deprecated in 1.0 and will be removed in 1.2. Please use get_feature_names_out instead.\n",
      "  warnings.warn(msg, category=FutureWarning)\n",
      " 62%|██████▎   | 5/8 [00:55<00:32, 10.72s/it]c:\\Users\\User\\anaconda3\\envs\\nlp\\lib\\site-packages\\sklearn\\utils\\deprecation.py:87: FutureWarning: Function get_feature_names is deprecated; get_feature_names is deprecated in 1.0 and will be removed in 1.2. Please use get_feature_names_out instead.\n",
      "  warnings.warn(msg, category=FutureWarning)\n",
      " 75%|███████▌  | 6/8 [01:05<00:21, 10.53s/it]c:\\Users\\User\\anaconda3\\envs\\nlp\\lib\\site-packages\\sklearn\\utils\\deprecation.py:87: FutureWarning: Function get_feature_names is deprecated; get_feature_names is deprecated in 1.0 and will be removed in 1.2. Please use get_feature_names_out instead.\n",
      "  warnings.warn(msg, category=FutureWarning)\n",
      " 88%|████████▊ | 7/8 [01:15<00:10, 10.38s/it]c:\\Users\\User\\anaconda3\\envs\\nlp\\lib\\site-packages\\sklearn\\utils\\deprecation.py:87: FutureWarning: Function get_feature_names is deprecated; get_feature_names is deprecated in 1.0 and will be removed in 1.2. Please use get_feature_names_out instead.\n",
      "  warnings.warn(msg, category=FutureWarning)\n",
      "100%|██████████| 8/8 [01:25<00:00, 10.75s/it]\n"
     ]
    }
   ],
   "source": [
    "### prediction on last test\n",
    "print('Classification...')\n",
    "for c in tqdm(range(len(characters_noDefault))):\n",
    "    prediction = tfidf_classifier.predict(doc_test[c], mass=mass_value)\n",
    "    raw_predictions[characters[c]].append(prediction)\n",
    "    predictions[characters[c]].append(\n",
    "        int(max(prediction, key=prediction.get) == characters[c])\n",
    "    )"
   ]
  },
  {
   "cell_type": "code",
   "execution_count": 24,
   "metadata": {},
   "outputs": [
    {
     "data": {
      "text/plain": [
       "{'Barney': [{'Barney': 0.78300635943899,\n",
       "   'Sheldon': 0.3970594438761256,\n",
       "   'Harry': 0.30613045222591173,\n",
       "   'Fry': 0.47947848053595993,\n",
       "   'Bender': 0.5279603147782952,\n",
       "   'Vader': 0.024668276074521298,\n",
       "   'Joey': 0.5775909062067571,\n",
       "   'Phoebe': 0.6605154960250631,\n",
       "   'Default': 0.46163274137594223},\n",
       "  {'Barney': 0.78300635943899,\n",
       "   'Sheldon': 0.3970594438761256,\n",
       "   'Harry': 0.30613045222591173,\n",
       "   'Fry': 0.47947848053595993,\n",
       "   'Bender': 0.5279603147782952,\n",
       "   'Vader': 0.024668276074521298,\n",
       "   'Joey': 0.5775909062067571,\n",
       "   'Phoebe': 0.6605154960250631,\n",
       "   'Default': 0.46163274137594223}],\n",
       " 'Sheldon': [{'Barney': 0.3064556830728792,\n",
       "   'Sheldon': 0.8369550711934085,\n",
       "   'Harry': 0.16794739987903903,\n",
       "   'Fry': 0.2642218635623028,\n",
       "   'Bender': 0.2980988663300735,\n",
       "   'Vader': 0.016033823172964937,\n",
       "   'Joey': 0.5787529705161286,\n",
       "   'Phoebe': 0.6301987900135654,\n",
       "   'Default': 0.31470459843172777},\n",
       "  {'Barney': 0.3064556830728792,\n",
       "   'Sheldon': 0.8369550711934085,\n",
       "   'Harry': 0.16794739987903903,\n",
       "   'Fry': 0.2642218635623028,\n",
       "   'Bender': 0.2980988663300735,\n",
       "   'Vader': 0.016033823172964937,\n",
       "   'Joey': 0.5787529705161286,\n",
       "   'Phoebe': 0.6301987900135654,\n",
       "   'Default': 0.31470459843172777}],\n",
       " 'Harry': [{'Barney': 0.38736237828119413,\n",
       "   'Sheldon': 0.24794704702849085,\n",
       "   'Harry': 0.41660221218810667,\n",
       "   'Fry': 0.4243958864858144,\n",
       "   'Bender': 0.44081647210136055,\n",
       "   'Vader': 0.0,\n",
       "   'Joey': 0.27909861337183983,\n",
       "   'Phoebe': 0.28639545275119727,\n",
       "   'Default': 0.4348371755120003},\n",
       "  {'Barney': 0.38736237828119413,\n",
       "   'Sheldon': 0.24794704702849085,\n",
       "   'Harry': 0.41660221218810667,\n",
       "   'Fry': 0.4243958864858144,\n",
       "   'Bender': 0.44081647210136055,\n",
       "   'Vader': 0.0,\n",
       "   'Joey': 0.27909861337183983,\n",
       "   'Phoebe': 0.28639545275119727,\n",
       "   'Default': 0.4348371755120003}],\n",
       " 'Fry': [{'Barney': 0.401968778297223,\n",
       "   'Sheldon': 0.2795776319649571,\n",
       "   'Harry': 0.27949716890456133,\n",
       "   'Fry': 0.664101415677893,\n",
       "   'Bender': 0.7570541277333269,\n",
       "   'Vader': 0.021381730232810522,\n",
       "   'Joey': 0.41421212978750177,\n",
       "   'Phoebe': 0.446501635476636,\n",
       "   'Default': 0.42569065228225866},\n",
       "  {'Barney': 0.401968778297223,\n",
       "   'Sheldon': 0.2795776319649571,\n",
       "   'Harry': 0.27949716890456133,\n",
       "   'Fry': 0.664101415677893,\n",
       "   'Bender': 0.7570541277333269,\n",
       "   'Vader': 0.021381730232810522,\n",
       "   'Joey': 0.41421212978750177,\n",
       "   'Phoebe': 0.446501635476636,\n",
       "   'Default': 0.42569065228225866}],\n",
       " 'Bender': [{'Barney': 0.4283953543972208,\n",
       "   'Sheldon': 0.27163455064660175,\n",
       "   'Harry': 0.27978963159768855,\n",
       "   'Fry': 0.7451548269550586,\n",
       "   'Bender': 0.7976221633809295,\n",
       "   'Vader': 0.0330764439266346,\n",
       "   'Joey': 0.4973227527724102,\n",
       "   'Phoebe': 0.49794680067026703,\n",
       "   'Default': 0.4391436166733759},\n",
       "  {'Barney': 0.4283953543972208,\n",
       "   'Sheldon': 0.27163455064660175,\n",
       "   'Harry': 0.27978963159768855,\n",
       "   'Fry': 0.7451548269550586,\n",
       "   'Bender': 0.7976221633809295,\n",
       "   'Vader': 0.0330764439266346,\n",
       "   'Joey': 0.4973227527724102,\n",
       "   'Phoebe': 0.49794680067026703,\n",
       "   'Default': 0.4391436166733759}],\n",
       " 'Vader': [{'Barney': 0.07576077581178699,\n",
       "   'Sheldon': 0.1239087020007556,\n",
       "   'Harry': 0.0,\n",
       "   'Fry': 0.07214983445488242,\n",
       "   'Bender': 0.11449816409889396,\n",
       "   'Vader': 0.04466106324067262,\n",
       "   'Joey': 0.11335781473850366,\n",
       "   'Phoebe': 0.18813393491399447,\n",
       "   'Default': 0.030290088704505093},\n",
       "  {'Barney': 0.07576077581178699,\n",
       "   'Sheldon': 0.1239087020007556,\n",
       "   'Harry': 0.0,\n",
       "   'Fry': 0.07214983445488242,\n",
       "   'Bender': 0.11449816409889396,\n",
       "   'Vader': 0.04466106324067262,\n",
       "   'Joey': 0.11335781473850366,\n",
       "   'Phoebe': 0.18813393491399447,\n",
       "   'Default': 0.030290088704505093}],\n",
       " 'Joey': [{'Barney': 0.4107422214620382,\n",
       "   'Sheldon': 0.5074141166287492,\n",
       "   'Harry': 0.2638698870565797,\n",
       "   'Fry': 0.40220708833645064,\n",
       "   'Bender': 0.4351317000712647,\n",
       "   'Vader': 0.0,\n",
       "   'Joey': 0.6798542765142213,\n",
       "   'Phoebe': 0.7628907337123005,\n",
       "   'Default': 0.3847060063455504},\n",
       "  {'Barney': 0.4107422214620382,\n",
       "   'Sheldon': 0.5074141166287492,\n",
       "   'Harry': 0.2638698870565797,\n",
       "   'Fry': 0.40220708833645064,\n",
       "   'Bender': 0.4351317000712647,\n",
       "   'Vader': 0.0,\n",
       "   'Joey': 0.6798542765142213,\n",
       "   'Phoebe': 0.7628907337123005,\n",
       "   'Default': 0.3847060063455504}],\n",
       " 'Phoebe': [{'Barney': 0.3823751638286867,\n",
       "   'Sheldon': 0.6135386118250281,\n",
       "   'Harry': 0.18855343083140713,\n",
       "   'Fry': 0.33994026461499866,\n",
       "   'Bender': 0.40791188741683226,\n",
       "   'Vader': 0.0,\n",
       "   'Joey': 0.6840391170733883,\n",
       "   'Phoebe': 0.8674820225367113,\n",
       "   'Default': 0.30325145684324584},\n",
       "  {'Barney': 0.3823751638286867,\n",
       "   'Sheldon': 0.6135386118250281,\n",
       "   'Harry': 0.18855343083140713,\n",
       "   'Fry': 0.33994026461499866,\n",
       "   'Bender': 0.40791188741683226,\n",
       "   'Vader': 0.0,\n",
       "   'Joey': 0.6840391170733883,\n",
       "   'Phoebe': 0.8674820225367113,\n",
       "   'Default': 0.30325145684324584}],\n",
       " 'Default': []}"
      ]
     },
     "execution_count": 24,
     "metadata": {},
     "output_type": "execute_result"
    }
   ],
   "source": [
    "raw_predictions"
   ]
  },
  {
   "cell_type": "code",
   "execution_count": 25,
   "metadata": {},
   "outputs": [
    {
     "data": {
      "text/plain": [
       "{'Barney': [1, 1],\n",
       " 'Sheldon': [1, 1],\n",
       " 'Harry': [0, 0],\n",
       " 'Fry': [0, 0],\n",
       " 'Bender': [1, 1],\n",
       " 'Vader': [0, 0],\n",
       " 'Joey': [0, 0],\n",
       " 'Phoebe': [1, 1],\n",
       " 'Default': []}"
      ]
     },
     "execution_count": 25,
     "metadata": {},
     "output_type": "execute_result"
    }
   ],
   "source": [
    "predictions"
   ]
  },
  {
   "cell_type": "code",
   "execution_count": 29,
   "metadata": {},
   "outputs": [
    {
     "data": {
      "text/plain": [
       "[]"
      ]
     },
     "execution_count": 29,
     "metadata": {},
     "output_type": "execute_result"
    }
   ],
   "source": [
    "raw_predictions.pop('Default')\n",
    "predictions.pop('Default')"
   ]
  },
  {
   "cell_type": "code",
   "execution_count": 30,
   "metadata": {},
   "outputs": [
    {
     "name": "stdout",
     "output_type": "stream",
     "text": [
      "TF-IDF classifier test accuracy: 0.50\n"
     ]
    }
   ],
   "source": [
    "print('TF-IDF classifier test accuracy: {:.2f}'.format(sum([char_pred[-1] for char_pred in predictions.values()])/len(predictions)))"
   ]
  },
  {
   "cell_type": "code",
   "execution_count": 32,
   "metadata": {},
   "outputs": [],
   "source": [
    "### save predictions\n",
    "append_predictions = True\n",
    "override_predictions = False\n",
    "predictions_file = join('..', 'metrics', 'tfidf_predictions.json')\n",
    "\n",
    "if append_predictions and exists(predictions_file):\n",
    "    with open(predictions_file, 'r', encoding='utf-8') as file:\n",
    "        predictions_dict = json.load(file)\n",
    "elif override_predictions or not exists(predictions_file):\n",
    "    predictions_dict = {'one_hot':{c:[] for c in characters}, 'raw_predictions': {c:[] for c in characters}}\n",
    "else:\n",
    "    raise NotImplementedError\n",
    "    \n",
    "for c in characters_noDefault:\n",
    "    predictions_dict['one_hot'][c] += predictions[c]\n",
    "    predictions_dict['raw_predictions'][c] += raw_predictions[c]\n",
    "\n",
    "with open(predictions_file, 'w', encoding='utf-8') as file:\n",
    "    json.dump(predictions_dict, file)"
   ]
  },
  {
   "cell_type": "code",
   "execution_count": 33,
   "metadata": {},
   "outputs": [
    {
     "data": {
      "text/plain": [
       "{'one_hot': {'Barney': [1, 1, 1],\n",
       "  'Sheldon': [1, 1, 1],\n",
       "  'Harry': [1, 0, 0],\n",
       "  'Fry': [0, 0, 0],\n",
       "  'Bender': [0, 1, 1],\n",
       "  'Vader': [1, 0, 0],\n",
       "  'Joey': [0, 0, 0],\n",
       "  'Phoebe': [1, 1, 1]},\n",
       " 'raw_predictions': {'Barney': [{'Barney': 0.7427531645309138,\n",
       "    'Sheldon': 0.3409307888725184,\n",
       "    'Harry': 0.24635663538513103,\n",
       "    'Fry': 0.4365837899414391,\n",
       "    'Bender': 0.4690792107496431,\n",
       "    'Vader': 0.016606825033575093,\n",
       "    'Joey': 0.5216851304420018,\n",
       "    'Phoebe': 0.5625899764181352},\n",
       "   {'Barney': 0.78300635943899,\n",
       "    'Sheldon': 0.3970594438761256,\n",
       "    'Harry': 0.30613045222591173,\n",
       "    'Fry': 0.47947848053595993,\n",
       "    'Bender': 0.5279603147782952,\n",
       "    'Vader': 0.024668276074521298,\n",
       "    'Joey': 0.5775909062067571,\n",
       "    'Phoebe': 0.6605154960250631,\n",
       "    'Default': 0.46163274137594223},\n",
       "   {'Barney': 0.78300635943899,\n",
       "    'Sheldon': 0.3970594438761256,\n",
       "    'Harry': 0.30613045222591173,\n",
       "    'Fry': 0.47947848053595993,\n",
       "    'Bender': 0.5279603147782952,\n",
       "    'Vader': 0.024668276074521298,\n",
       "    'Joey': 0.5775909062067571,\n",
       "    'Phoebe': 0.6605154960250631,\n",
       "    'Default': 0.46163274137594223}],\n",
       "  'Sheldon': [{'Barney': 0.29552048170798195,\n",
       "    'Sheldon': 0.8748050590880759,\n",
       "    'Harry': 0.1306224005663966,\n",
       "    'Fry': 0.2695591085297738,\n",
       "    'Bender': 0.30709255228832,\n",
       "    'Vader': 0.020533804570629623,\n",
       "    'Joey': 0.608423101094607,\n",
       "    'Phoebe': 0.6441744575129131},\n",
       "   {'Barney': 0.3064556830728792,\n",
       "    'Sheldon': 0.8369550711934085,\n",
       "    'Harry': 0.16794739987903903,\n",
       "    'Fry': 0.2642218635623028,\n",
       "    'Bender': 0.2980988663300735,\n",
       "    'Vader': 0.016033823172964937,\n",
       "    'Joey': 0.5787529705161286,\n",
       "    'Phoebe': 0.6301987900135654,\n",
       "    'Default': 0.31470459843172777},\n",
       "   {'Barney': 0.3064556830728792,\n",
       "    'Sheldon': 0.8369550711934085,\n",
       "    'Harry': 0.16794739987903903,\n",
       "    'Fry': 0.2642218635623028,\n",
       "    'Bender': 0.2980988663300735,\n",
       "    'Vader': 0.016033823172964937,\n",
       "    'Joey': 0.5787529705161286,\n",
       "    'Phoebe': 0.6301987900135654,\n",
       "    'Default': 0.31470459843172777}],\n",
       "  'Harry': [{'Barney': 0.13683884120253376,\n",
       "    'Sheldon': 0.06708883841954372,\n",
       "    'Harry': 0.4388141369757705,\n",
       "    'Fry': 0.15212110308362184,\n",
       "    'Bender': 0.16716525062758003,\n",
       "    'Vader': 0.013066370832524083,\n",
       "    'Joey': 0.08060438623076482,\n",
       "    'Phoebe': 0.10256730982359805},\n",
       "   {'Barney': 0.38736237828119413,\n",
       "    'Sheldon': 0.24794704702849085,\n",
       "    'Harry': 0.41660221218810667,\n",
       "    'Fry': 0.4243958864858144,\n",
       "    'Bender': 0.44081647210136055,\n",
       "    'Vader': 0.0,\n",
       "    'Joey': 0.27909861337183983,\n",
       "    'Phoebe': 0.28639545275119727,\n",
       "    'Default': 0.4348371755120003},\n",
       "   {'Barney': 0.38736237828119413,\n",
       "    'Sheldon': 0.24794704702849085,\n",
       "    'Harry': 0.41660221218810667,\n",
       "    'Fry': 0.4243958864858144,\n",
       "    'Bender': 0.44081647210136055,\n",
       "    'Vader': 0.0,\n",
       "    'Joey': 0.27909861337183983,\n",
       "    'Phoebe': 0.28639545275119727,\n",
       "    'Default': 0.4348371755120003}],\n",
       "  'Fry': [{'Barney': 0.35169663305805593,\n",
       "    'Sheldon': 0.24824790888954318,\n",
       "    'Harry': 0.20998110563777206,\n",
       "    'Fry': 0.7156238718161495,\n",
       "    'Bender': 0.7945278179373744,\n",
       "    'Vader': 0.033204346756280895,\n",
       "    'Joey': 0.39069846108525097,\n",
       "    'Phoebe': 0.37055957374649556},\n",
       "   {'Barney': 0.401968778297223,\n",
       "    'Sheldon': 0.2795776319649571,\n",
       "    'Harry': 0.27949716890456133,\n",
       "    'Fry': 0.664101415677893,\n",
       "    'Bender': 0.7570541277333269,\n",
       "    'Vader': 0.021381730232810522,\n",
       "    'Joey': 0.41421212978750177,\n",
       "    'Phoebe': 0.446501635476636,\n",
       "    'Default': 0.42569065228225866},\n",
       "   {'Barney': 0.401968778297223,\n",
       "    'Sheldon': 0.2795776319649571,\n",
       "    'Harry': 0.27949716890456133,\n",
       "    'Fry': 0.664101415677893,\n",
       "    'Bender': 0.7570541277333269,\n",
       "    'Vader': 0.021381730232810522,\n",
       "    'Joey': 0.41421212978750177,\n",
       "    'Phoebe': 0.446501635476636,\n",
       "    'Default': 0.42569065228225866}],\n",
       "  'Bender': [{'Barney': 0.3424145386082738,\n",
       "    'Sheldon': 0.24240100221567218,\n",
       "    'Harry': 0.18404303193084004,\n",
       "    'Fry': 0.8152562835756528,\n",
       "    'Bender': 0.7676111183546306,\n",
       "    'Vader': 0.03871266695381227,\n",
       "    'Joey': 0.3717098209714695,\n",
       "    'Phoebe': 0.379811483453546},\n",
       "   {'Barney': 0.4283953543972208,\n",
       "    'Sheldon': 0.27163455064660175,\n",
       "    'Harry': 0.27978963159768855,\n",
       "    'Fry': 0.7451548269550586,\n",
       "    'Bender': 0.7976221633809295,\n",
       "    'Vader': 0.0330764439266346,\n",
       "    'Joey': 0.4973227527724102,\n",
       "    'Phoebe': 0.49794680067026703,\n",
       "    'Default': 0.4391436166733759},\n",
       "   {'Barney': 0.4283953543972208,\n",
       "    'Sheldon': 0.27163455064660175,\n",
       "    'Harry': 0.27978963159768855,\n",
       "    'Fry': 0.7451548269550586,\n",
       "    'Bender': 0.7976221633809295,\n",
       "    'Vader': 0.0330764439266346,\n",
       "    'Joey': 0.4973227527724102,\n",
       "    'Phoebe': 0.49794680067026703,\n",
       "    'Default': 0.4391436166733759}],\n",
       "  'Vader': [{'Barney': 0.0,\n",
       "    'Sheldon': 0.009217323384470873,\n",
       "    'Harry': 0.0,\n",
       "    'Fry': 0.0,\n",
       "    'Bender': 0.0,\n",
       "    'Vader': 0.25820840612230356,\n",
       "    'Joey': 0.0,\n",
       "    'Phoebe': 0.0},\n",
       "   {'Barney': 0.07576077581178699,\n",
       "    'Sheldon': 0.1239087020007556,\n",
       "    'Harry': 0.0,\n",
       "    'Fry': 0.07214983445488242,\n",
       "    'Bender': 0.11449816409889396,\n",
       "    'Vader': 0.04466106324067262,\n",
       "    'Joey': 0.11335781473850366,\n",
       "    'Phoebe': 0.18813393491399447,\n",
       "    'Default': 0.030290088704505093},\n",
       "   {'Barney': 0.07576077581178699,\n",
       "    'Sheldon': 0.1239087020007556,\n",
       "    'Harry': 0.0,\n",
       "    'Fry': 0.07214983445488242,\n",
       "    'Bender': 0.11449816409889396,\n",
       "    'Vader': 0.04466106324067262,\n",
       "    'Joey': 0.11335781473850366,\n",
       "    'Phoebe': 0.18813393491399447,\n",
       "    'Default': 0.030290088704505093}],\n",
       "  'Joey': [{'Barney': 0.39536747925639515,\n",
       "    'Sheldon': 0.58691746104902,\n",
       "    'Harry': 0.1932663013723321,\n",
       "    'Fry': 0.4181559385647579,\n",
       "    'Bender': 0.47110008420216587,\n",
       "    'Vader': 0.0,\n",
       "    'Joey': 0.8391346139039385,\n",
       "    'Phoebe': 0.8454508759634352},\n",
       "   {'Barney': 0.4107422214620382,\n",
       "    'Sheldon': 0.5074141166287492,\n",
       "    'Harry': 0.2638698870565797,\n",
       "    'Fry': 0.40220708833645064,\n",
       "    'Bender': 0.4351317000712647,\n",
       "    'Vader': 0.0,\n",
       "    'Joey': 0.6798542765142213,\n",
       "    'Phoebe': 0.7628907337123005,\n",
       "    'Default': 0.3847060063455504},\n",
       "   {'Barney': 0.4107422214620382,\n",
       "    'Sheldon': 0.5074141166287492,\n",
       "    'Harry': 0.2638698870565797,\n",
       "    'Fry': 0.40220708833645064,\n",
       "    'Bender': 0.4351317000712647,\n",
       "    'Vader': 0.0,\n",
       "    'Joey': 0.6798542765142213,\n",
       "    'Phoebe': 0.7628907337123005,\n",
       "    'Default': 0.3847060063455504}],\n",
       "  'Phoebe': [{'Barney': 0.37585267573313463,\n",
       "    'Sheldon': 0.596322442769732,\n",
       "    'Harry': 0.16098732095323065,\n",
       "    'Fry': 0.36547140807876966,\n",
       "    'Bender': 0.4446212735149107,\n",
       "    'Vader': 0.0,\n",
       "    'Joey': 0.802346757723317,\n",
       "    'Phoebe': 0.8716569369073104},\n",
       "   {'Barney': 0.3823751638286867,\n",
       "    'Sheldon': 0.6135386118250281,\n",
       "    'Harry': 0.18855343083140713,\n",
       "    'Fry': 0.33994026461499866,\n",
       "    'Bender': 0.40791188741683226,\n",
       "    'Vader': 0.0,\n",
       "    'Joey': 0.6840391170733883,\n",
       "    'Phoebe': 0.8674820225367113,\n",
       "    'Default': 0.30325145684324584},\n",
       "   {'Barney': 0.3823751638286867,\n",
       "    'Sheldon': 0.6135386118250281,\n",
       "    'Harry': 0.18855343083140713,\n",
       "    'Fry': 0.33994026461499866,\n",
       "    'Bender': 0.40791188741683226,\n",
       "    'Vader': 0.0,\n",
       "    'Joey': 0.6840391170733883,\n",
       "    'Phoebe': 0.8674820225367113,\n",
       "    'Default': 0.30325145684324584}]}}"
      ]
     },
     "execution_count": 33,
     "metadata": {},
     "output_type": "execute_result"
    }
   ],
   "source": [
    "predictions_dict"
   ]
  }
 ],
 "metadata": {
  "kernelspec": {
   "display_name": "Python 3.8.12 ('nlp')",
   "language": "python",
   "name": "python3"
  },
  "language_info": {
   "codemirror_mode": {
    "name": "ipython",
    "version": 3
   },
   "file_extension": ".py",
   "mimetype": "text/x-python",
   "name": "python",
   "nbconvert_exporter": "python",
   "pygments_lexer": "ipython3",
   "version": "3.8.12"
  },
  "vscode": {
   "interpreter": {
    "hash": "a7c5817727678c332fb9fa5aff0185fec398eda4559a601173fdef72aa27c3a2"
   }
  }
 },
 "nbformat": 4,
 "nbformat_minor": 4
}
