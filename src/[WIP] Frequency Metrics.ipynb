{
 "cells": [
  {
   "cell_type": "markdown",
   "metadata": {},
   "source": [
    "# Setup"
   ]
  },
  {
   "cell_type": "code",
   "execution_count": 1,
   "metadata": {},
   "outputs": [],
   "source": [
    "import pandas as pd\n",
    "from tqdm import tqdm\n",
    "import json\n",
    "import numpy as np\n",
    "import matplotlib.pyplot as plt\n",
    "\n",
    "from random import shuffle\n",
    "\n",
    "from functools import partial\n",
    "from sklearn.metrics import classification_report as sklcls_report\n",
    "from sklearn.metrics import f1_score, accuracy_score\n",
    "from transformers import DataCollatorForLanguageModeling, AutoTokenizer, TFAutoModelForCausalLM, AdamWeightDecay\n",
    "from os.path import join, exists"
   ]
  },
  {
   "cell_type": "code",
   "execution_count": 2,
   "metadata": {},
   "outputs": [],
   "source": [
    "from lib.BBData import character_dict, model_name, random_state\n",
    "from lib.BBDataLoad import dialogpt_preprocess_function, load_char_df, get_chatbot_predictions, merge_df_for_metrics\n",
    "from random import sample\n",
    "\n",
    "from lib.wip.frequency import sentence_preprocess, FrequencyChatbotClassifier\n",
    "from sklearn.metrics import confusion_matrix"
   ]
  },
  {
   "cell_type": "code",
   "execution_count": 80,
   "metadata": {},
   "outputs": [],
   "source": [
    "TEST_WITH_BATCH = False\n",
    "PLOT_SCORE_BATCH = False\n",
    "TEST_CHATBOT = False\n",
    "SAVE_CHATBOT_PREDICTION = False"
   ]
  },
  {
   "cell_type": "code",
   "execution_count": 3,
   "metadata": {},
   "outputs": [],
   "source": [
    "characters = list(character_dict.keys())\n",
    "classification_report = partial(sklcls_report, target_names=characters)\n",
    "# characters.remove('Default')\n",
    "\n",
    "mass_value = 0.3"
   ]
  },
  {
   "cell_type": "code",
   "execution_count": 4,
   "metadata": {},
   "outputs": [],
   "source": [
    "# Mount google drive, if in Colaboratory environment\n",
    "import os\n",
    "try:\n",
    "    import google.colab\n",
    "    IN_COLAB = True\n",
    "except:\n",
    "    IN_COLAB = False\n",
    "if IN_COLAB:\n",
    "    from google.colab import drive\n",
    "    drive.mount('/content/drive',force_remount=True)\n",
    "    base_folder = '/content/drive/My Drive/unibo/NLP_project/BarneyBot'\n",
    "    os.system(\"pip install datasets\")\n",
    "    os.system(\"pip install transformers\")\n",
    "    os.system(\"pip install rouge_score\")\n",
    "    os.system(\"pip install -U sentence-transformers\")\n",
    "else:\n",
    "    # base_folder = os.getcwd()\n",
    "    base_folder = '..'\n",
    "\n",
    "out_folder = os.path.join(base_folder, 'Data', 'Characters')"
   ]
  },
  {
   "cell_type": "markdown",
   "metadata": {},
   "source": [
    "# Data Loading"
   ]
  },
  {
   "cell_type": "code",
   "execution_count": 5,
   "metadata": {},
   "outputs": [],
   "source": [
    "character_docs = dict()\n",
    "class_docs = [[], []]\n",
    "for character in characters:\n",
    "    if character == 'Default':\n",
    "        df = pd.read_csv(os.path.join(out_folder, character, f'{character}.tsv'), \n",
    "                         names=[character, 'response'], sep='\\t')\n",
    "        df['response'] = df['response'].apply(lambda x: x[3:])\n",
    "        df[character] = df[character].apply(lambda x: x[3:])\n",
    "    else:\n",
    "        df = pd.read_csv(os.path.join(out_folder, character, f'{character}.csv'))\n",
    "    tmp_list = df['response'].tolist()\n",
    "    character_docs[character] = tmp_list\n",
    "    class_docs[0] += tmp_list\n",
    "    class_docs[1] += [character for _ in tmp_list]"
   ]
  },
  {
   "cell_type": "code",
   "execution_count": 6,
   "metadata": {},
   "outputs": [
    {
     "name": "stderr",
     "output_type": "stream",
     "text": [
      "100%|██████████| 5194/5194 [00:01<00:00, 3314.01it/s]\n",
      "100%|██████████| 11642/11642 [00:02<00:00, 4207.17it/s]\n",
      "100%|██████████| 1037/1037 [00:00<00:00, 4284.59it/s]\n",
      "100%|██████████| 2716/2716 [00:00<00:00, 4458.90it/s]\n",
      "100%|██████████| 2388/2388 [00:00<00:00, 4528.93it/s]\n",
      "100%|██████████| 160/160 [00:00<00:00, 4380.19it/s]\n",
      "100%|██████████| 8229/8229 [00:01<00:00, 4479.29it/s]\n",
      "100%|██████████| 7476/7476 [00:01<00:00, 4368.55it/s]\n",
      "100%|██████████| 737332/737332 [02:39<00:00, 4618.10it/s]\n"
     ]
    }
   ],
   "source": [
    "for character in characters:\n",
    "    for i in tqdm(range(len(character_docs[character]))):\n",
    "        sentence, relevant = sentence_preprocess(character_docs[character][i])\n",
    "        if relevant:\n",
    "            character_docs[character][i] = sentence"
   ]
  },
  {
   "cell_type": "code",
   "execution_count": 7,
   "metadata": {},
   "outputs": [],
   "source": [
    "test_size = 0.33\n",
    "character_docs_train = {}\n",
    "character_docs_test = {}\n",
    "n_docs = 0\n",
    "for c in characters:\n",
    "    shuffle(character_docs[c])\n",
    "    end_idx = int(len(character_docs[c]) * test_size)\n",
    "    character_docs_train[c] = character_docs[c][end_idx:]\n",
    "    n_docs += len(character_docs[c][end_idx:])\n",
    "    character_docs_test[c] = character_docs[c][:end_idx]"
   ]
  },
  {
   "cell_type": "markdown",
   "metadata": {},
   "source": [
    "# Word Frequency"
   ]
  },
  {
   "cell_type": "markdown",
   "metadata": {},
   "source": [
    "Loading word frequencies"
   ]
  },
  {
   "cell_type": "code",
   "execution_count": 8,
   "metadata": {},
   "outputs": [
    {
     "data": {
      "text/plain": [
       "\"wordfreqs_train = dict()\\nfor character in tqdm(characters):\\n    wordfreqs_train[character] = get_word_frequency(' '.join(character_docs_train[character]), f_sorted=True)\\n\\nwordfreqs_test = dict()\\nfor character in tqdm(characters):\\n    wordfreqs_test[character] = get_word_frequency(' '.join(character_docs_test[character]), f_sorted=True)\""
      ]
     },
     "execution_count": 8,
     "metadata": {},
     "output_type": "execute_result"
    }
   ],
   "source": [
    "\"\"\"wordfreqs_train = dict()\n",
    "for character in tqdm(characters):\n",
    "    wordfreqs_train[character] = get_word_frequency(' '.join(character_docs_train[character]), f_sorted=True)\n",
    "\n",
    "wordfreqs_test = dict()\n",
    "for character in tqdm(characters):\n",
    "    wordfreqs_test[character] = get_word_frequency(' '.join(character_docs_test[character]), f_sorted=True)\"\"\""
   ]
  },
  {
   "cell_type": "code",
   "execution_count": 9,
   "metadata": {},
   "outputs": [
    {
     "data": {
      "text/plain": [
       "'wordfreqs_reduced_train = dict()\\nfor character in characters:\\n    wordfreqs_reduced_train[character] = filter_by_weights(wordfreqs_train[character], mass=0.3)\\n\\nwordfreqs_reduced_test = dict()\\nfor character in characters:\\n    wordfreqs_reduced_test[character] = filter_by_weights(wordfreqs_test[character], mass=0.3)'"
      ]
     },
     "execution_count": 9,
     "metadata": {},
     "output_type": "execute_result"
    }
   ],
   "source": [
    "\"\"\"wordfreqs_reduced_train = dict()\n",
    "for character in characters:\n",
    "    wordfreqs_reduced_train[character] = filter_by_weights(wordfreqs_train[character], mass=0.3)\n",
    "\n",
    "wordfreqs_reduced_test = dict()\n",
    "for character in characters:\n",
    "    wordfreqs_reduced_test[character] = filter_by_weights(wordfreqs_test[character], mass=0.3)\"\"\""
   ]
  },
  {
   "cell_type": "markdown",
   "metadata": {},
   "source": [
    "Loading TF-IDF matrix"
   ]
  },
  {
   "cell_type": "code",
   "execution_count": 10,
   "metadata": {},
   "outputs": [
    {
     "data": {
      "text/plain": [
       "\"tfidf_vectorizer = TfidfVectorizer(input='content', stop_words='english')\""
      ]
     },
     "execution_count": 10,
     "metadata": {},
     "output_type": "execute_result"
    }
   ],
   "source": [
    "\"\"\"tfidf_vectorizer = TfidfVectorizer(input='content', stop_words='english')\"\"\""
   ]
  },
  {
   "cell_type": "code",
   "execution_count": 11,
   "metadata": {},
   "outputs": [
    {
     "data": {
      "text/plain": [
       "\"tfidfs_train = get_tfidfs([' '.join(character_docs_train[character]) for character in characters], characters, tfidf_vectorizer)\""
      ]
     },
     "execution_count": 11,
     "metadata": {},
     "output_type": "execute_result"
    }
   ],
   "source": [
    "\"\"\"tfidfs_train = get_tfidfs([' '.join(character_docs_train[character]) for character in characters], characters, tfidf_vectorizer)\"\"\""
   ]
  },
  {
   "cell_type": "code",
   "execution_count": 12,
   "metadata": {},
   "outputs": [
    {
     "data": {
      "text/plain": [
       "'tfidfs_reduced_train = dict()\\nfor character in characters:\\n    tfidfs_reduced_train[character] = filter_by_weights(tfidfs_train[character], mass=mass_value)'"
      ]
     },
     "execution_count": 12,
     "metadata": {},
     "output_type": "execute_result"
    }
   ],
   "source": [
    "\"\"\"tfidfs_reduced_train = dict()\n",
    "for character in characters:\n",
    "    tfidfs_reduced_train[character] = filter_by_weights(tfidfs_train[character], mass=mass_value)\"\"\""
   ]
  },
  {
   "cell_type": "markdown",
   "metadata": {},
   "source": [
    "# WordCloud Plot (Example)"
   ]
  },
  {
   "cell_type": "code",
   "execution_count": 13,
   "metadata": {},
   "outputs": [
    {
     "data": {
      "text/plain": [
       "'from lib.BBVisualizations import BBVisualization\\nBBVisualization.load_visualization(\"wordcloud\").plot(freqdict=tfidfs_reduced_train[\\'Barney\\'])'"
      ]
     },
     "execution_count": 13,
     "metadata": {},
     "output_type": "execute_result"
    }
   ],
   "source": [
    "\"\"\"from lib.BBVisualizations import BBVisualization\n",
    "BBVisualization.load_visualization(\"wordcloud\").plot(freqdict=tfidfs_reduced_train['Barney'])\"\"\""
   ]
  },
  {
   "cell_type": "markdown",
   "metadata": {},
   "source": [
    "# Frequency Pairwise Similarity (Example)"
   ]
  },
  {
   "cell_type": "code",
   "execution_count": 14,
   "metadata": {},
   "outputs": [
    {
     "data": {
      "text/plain": [
       "\"freq_pairwise_sim(wordfreqs_reduced_train['Fry'], wordfreqs_reduced_test['Fry'])\""
      ]
     },
     "execution_count": 14,
     "metadata": {},
     "output_type": "execute_result"
    }
   ],
   "source": [
    "\"\"\"freq_pairwise_sim(wordfreqs_reduced_train['Fry'], wordfreqs_reduced_test['Fry'])\"\"\""
   ]
  },
  {
   "cell_type": "markdown",
   "metadata": {},
   "source": [
    "# Test Classifier Performances Against Test Set"
   ]
  },
  {
   "cell_type": "markdown",
   "metadata": {},
   "source": [
    "### Word Frequency"
   ]
  },
  {
   "cell_type": "code",
   "execution_count": 55,
   "metadata": {},
   "outputs": [
    {
     "name": "stderr",
     "output_type": "stream",
     "text": [
      "100%|██████████| 9/9 [00:01<00:00,  4.78it/s]"
     ]
    },
    {
     "name": "stdout",
     "output_type": "stream",
     "text": [
      "WF classifier test accuracy: 1.00\n"
     ]
    },
    {
     "name": "stderr",
     "output_type": "stream",
     "text": [
      "\n"
     ]
    },
    {
     "data": {
      "text/plain": [
       "array([[1, 0, 0, 0, 0, 0, 0, 0, 0],\n",
       "       [0, 1, 0, 0, 0, 0, 0, 0, 0],\n",
       "       [0, 0, 1, 0, 0, 0, 0, 0, 0],\n",
       "       [0, 0, 0, 1, 0, 0, 0, 0, 0],\n",
       "       [0, 0, 0, 0, 1, 0, 0, 0, 0],\n",
       "       [0, 0, 0, 0, 0, 1, 0, 0, 0],\n",
       "       [0, 0, 0, 0, 0, 0, 1, 0, 0],\n",
       "       [0, 0, 0, 0, 0, 0, 0, 1, 0],\n",
       "       [0, 0, 0, 0, 0, 0, 0, 0, 1]], dtype=int64)"
      ]
     },
     "execution_count": 55,
     "metadata": {},
     "output_type": "execute_result"
    }
   ],
   "source": [
    "tfidf_classifier = FrequencyChatbotClassifier(characters, mode='word frequency')\n",
    "tfidf_classifier.train(list(character_docs_train.values()))\n",
    "\n",
    "y_true = range(0, len(characters))\n",
    "y_pred = []\n",
    "raw_predictions = {c:[] for c in characters}\n",
    "for c in tqdm(range(len(characters))):\n",
    "    prediction = tfidf_classifier.predict(character_docs_test[characters[c]])\n",
    "    raw_predictions[characters[c]].append(prediction)\n",
    "    y_pred.append(np.argmax(list(prediction.values())))\n",
    "\n",
    "print('WF classifier test accuracy: {:.2f}'.format(\n",
    "             sum([y_pred[i] == y_true[i] for i in range(len(y_true))]) / len(y_true)))\n",
    "confusion_matrix(y_true, y_pred)"
   ]
  },
  {
   "cell_type": "markdown",
   "metadata": {},
   "source": [
    "### TFIDF"
   ]
  },
  {
   "cell_type": "code",
   "execution_count": 58,
   "metadata": {},
   "outputs": [
    {
     "name": "stderr",
     "output_type": "stream",
     "text": [
      "100%|██████████| 9/9 [00:01<00:00,  4.72it/s]"
     ]
    },
    {
     "name": "stdout",
     "output_type": "stream",
     "text": [
      "TF-IDF classifier test accuracy: 1.00\n"
     ]
    },
    {
     "name": "stderr",
     "output_type": "stream",
     "text": [
      "\n"
     ]
    },
    {
     "data": {
      "text/plain": [
       "array([[1, 0, 0, 0, 0, 0, 0, 0, 0],\n",
       "       [0, 1, 0, 0, 0, 0, 0, 0, 0],\n",
       "       [0, 0, 1, 0, 0, 0, 0, 0, 0],\n",
       "       [0, 0, 0, 1, 0, 0, 0, 0, 0],\n",
       "       [0, 0, 0, 0, 1, 0, 0, 0, 0],\n",
       "       [0, 0, 0, 0, 0, 1, 0, 0, 0],\n",
       "       [0, 0, 0, 0, 0, 0, 1, 0, 0],\n",
       "       [0, 0, 0, 0, 0, 0, 0, 1, 0],\n",
       "       [0, 0, 0, 0, 0, 0, 0, 0, 1]], dtype=int64)"
      ]
     },
     "execution_count": 58,
     "metadata": {},
     "output_type": "execute_result"
    }
   ],
   "source": [
    "tfidf_classifier = FrequencyChatbotClassifier(characters, mode='tf-idf')\n",
    "tfidf_classifier.train(list(character_docs_train.values()))\n",
    "\n",
    "y_true = range(0, len(characters))\n",
    "y_pred = []\n",
    "raw_predictions = {c:[] for c in characters}\n",
    "for c in tqdm(range(len(characters))):\n",
    "    prediction = tfidf_classifier.predict(character_docs_test[characters[c]])\n",
    "    raw_predictions[characters[c]].append(prediction)\n",
    "    y_pred.append(np.argmax(list(prediction.values())))\n",
    "\n",
    "print('TF-IDF classifier test accuracy: {:.2f}'.format(\n",
    "             sum([y_pred[i] == y_true[i] for i in range(len(y_true))]) / len(y_true)))\n",
    "confusion_matrix(y_true, y_pred)"
   ]
  },
  {
   "cell_type": "markdown",
   "metadata": {},
   "source": [
    "### c-TF-IDF "
   ]
  },
  {
   "cell_type": "code",
   "execution_count": 25,
   "metadata": {},
   "outputs": [
    {
     "name": "stderr",
     "output_type": "stream",
     "text": [
      "100%|██████████| 9/9 [00:01<00:00,  4.69it/s]"
     ]
    },
    {
     "name": "stdout",
     "output_type": "stream",
     "text": [
      "c-TF-IDF classifier test accuracy: 1.00\n"
     ]
    },
    {
     "name": "stderr",
     "output_type": "stream",
     "text": [
      "\n"
     ]
    },
    {
     "data": {
      "text/plain": [
       "array([[1, 0, 0, 0, 0, 0, 0, 0, 0],\n",
       "       [0, 1, 0, 0, 0, 0, 0, 0, 0],\n",
       "       [0, 0, 1, 0, 0, 0, 0, 0, 0],\n",
       "       [0, 0, 0, 1, 0, 0, 0, 0, 0],\n",
       "       [0, 0, 0, 0, 1, 0, 0, 0, 0],\n",
       "       [0, 0, 0, 0, 0, 1, 0, 0, 0],\n",
       "       [0, 0, 0, 0, 0, 0, 1, 0, 0],\n",
       "       [0, 0, 0, 0, 0, 0, 0, 1, 0],\n",
       "       [0, 0, 0, 0, 0, 0, 0, 0, 1]], dtype=int64)"
      ]
     },
     "execution_count": 25,
     "metadata": {},
     "output_type": "execute_result"
    }
   ],
   "source": [
    "ctfidf_classifier = FrequencyChatbotClassifier(characters, mode='c-tf-idf', )\n",
    "ctfidf_classifier.train(list(character_docs_train.values()), n_tot_docs=n_docs)\n",
    "\n",
    "y_true = range(0, len(characters))\n",
    "y_pred = []\n",
    "raw_predictions = {c:[] for c in characters}\n",
    "for c in tqdm(range(len(characters))):\n",
    "    prediction = ctfidf_classifier.predict(character_docs_test[characters[c]])\n",
    "    raw_predictions[characters[c]].append(prediction)\n",
    "    y_pred.append(np.argmax(list(prediction.values())))\n",
    "\n",
    "print('c-TF-IDF classifier test accuracy: {:.2f}'.format(\n",
    "             sum([y_pred[i] == y_true[i] for i in range(len(y_true))]) / len(y_true)))\n",
    "confusion_matrix(y_true, y_pred)"
   ]
  },
  {
   "cell_type": "markdown",
   "metadata": {},
   "source": [
    "# Test over a batch of sentences"
   ]
  },
  {
   "cell_type": "code",
   "execution_count": 75,
   "metadata": {},
   "outputs": [],
   "source": [
    "if TEST_WITH_BATCH:\n",
    "    batch = 3\n",
    "    complex_docs_test = []\n",
    "    y_true = []\n",
    "    for c in characters:\n",
    "        tmp_list = sample(character_docs_test[c], 50)\n",
    "        complex_docs_test += [\n",
    "            tmp_list[d:d+batch] for d in range(0, len(tmp_list), batch)\n",
    "            ]\n",
    "        y_true += [characters.index(c) for _ in range(round(len(tmp_list)/batch))]"
   ]
  },
  {
   "cell_type": "code",
   "execution_count": 74,
   "metadata": {},
   "outputs": [],
   "source": [
    "if TEST_WITH_BATCH:\n",
    "    wf_classifier = FrequencyChatbotClassifier(characters, mode='word frequency')\n",
    "    wf_classifier.train(list(character_docs_train.values()))\n",
    "\n",
    "    y_pred = []\n",
    "    for c in tqdm(range(len(complex_docs_test))):\n",
    "        prediction = wf_classifier.predict(complex_docs_test[c])\n",
    "        y_pred.append(np.argmax(list(prediction.values())))\n",
    "    print(classification_report(y_true, y_pred))\n",
    "    confusion_matrix(y_true, y_pred)"
   ]
  },
  {
   "cell_type": "code",
   "execution_count": 76,
   "metadata": {},
   "outputs": [],
   "source": [
    "if TEST_WITH_BATCH:\n",
    "    tfidf_classifier = FrequencyChatbotClassifier(characters, mode='tf-idf')\n",
    "    tfidf_classifier.train(list(character_docs_train.values()))\n",
    "\n",
    "    y_pred = []\n",
    "    for c in tqdm(range(len(complex_docs_test))):\n",
    "        prediction = tfidf_classifier.predict(complex_docs_test[c])\n",
    "        y_pred.append(np.argmax(list(prediction.values())))\n",
    "    print(classification_report(y_true, y_pred))\n",
    "    confusion_matrix(y_true, y_pred)"
   ]
  },
  {
   "cell_type": "code",
   "execution_count": 78,
   "metadata": {},
   "outputs": [],
   "source": [
    "if TEST_WITH_BATCH:\n",
    "    ctfidf_classifier = FrequencyChatbotClassifier(characters, mode='c-tf-idf')\n",
    "    ctfidf_classifier.train(list(character_docs_train.values()), n_tot_docs=n_docs)\n",
    "\n",
    "    y_pred = []\n",
    "    for c in tqdm(range(len(complex_docs_test))):\n",
    "        prediction = ctfidf_classifier.predict(complex_docs_test[c])\n",
    "        y_pred.append(np.argmax(list(prediction.values())))\n",
    "    print(classification_report(y_true, y_pred))\n",
    "    confusion_matrix(y_true, y_pred)"
   ]
  },
  {
   "cell_type": "markdown",
   "metadata": {},
   "source": [
    "#### Experimenting the accuracy over different batch dimensions"
   ]
  },
  {
   "cell_type": "code",
   "execution_count": 68,
   "metadata": {},
   "outputs": [],
   "source": [
    "if PLOT_SCORE_BATCH:\n",
    "    def run_experiment(b: int, model: FrequencyChatbotClassifier, c='Barney', fix_dataset_size=None):\n",
    "        if fix_dataset_size == None:\n",
    "            tmp_list = character_docs_test[c]\n",
    "        else:\n",
    "            tmp_list = sample(character_docs_test[c], fix_dataset_size)\n",
    "        complex_docs_test = [tmp_list[d:d+b] for d in range(0, len(tmp_list), b)]\n",
    "        y_true = [characters.index(c) for _ in complex_docs_test]\n",
    "\n",
    "        y_pred = []\n",
    "        for doc in range(len(complex_docs_test)):\n",
    "            prediction = model.predict(complex_docs_test[doc])\n",
    "            y_pred.append(np.argmax(list(prediction.values())))\n",
    "        # score = sum([y_pred[i] == y_true[i] for i in range(len(y_true))]) / len(y_true)\n",
    "        score = accuracy_score(y_true, y_pred)\n",
    "        # score = f1_score(y_true, y_pred, average='macro')\n",
    "        return score"
   ]
  },
  {
   "cell_type": "code",
   "execution_count": 69,
   "metadata": {},
   "outputs": [],
   "source": [
    "if PLOT_SCORE_BATCH:\n",
    "    character = 'Barney'\n",
    "    max_batch = 50+1\n",
    "    batches = range(1, max_batch, 1)\n",
    "    test_sample_size = None\n",
    "\n",
    "    wf_classifier = FrequencyChatbotClassifier(characters, mode='word frequency')\n",
    "    wf_classifier.train(list(character_docs_train.values()))\n",
    "    score = [run_experiment(b, wf_classifier, c=character, fix_dataset_size=test_sample_size) for b in tqdm(batches)]\n",
    "    plt.plot(batches, score, label='wf')\n",
    "\n",
    "    tfidf_classifier = FrequencyChatbotClassifier(characters, mode='tf-idf')\n",
    "    tfidf_classifier.train(list(character_docs_train.values()))\n",
    "    score = [run_experiment(b, tfidf_classifier, c=character, fix_dataset_size=test_sample_size) for b in tqdm(batches)]\n",
    "    plt.plot(batches, score, label='tf-idf')\n",
    "\n",
    "    ctfidf_classifier = FrequencyChatbotClassifier(characters, mode='c-tf-idf')\n",
    "    ctfidf_classifier.train(list(character_docs_train.values()), n_tot_docs=n_docs)\n",
    "    score = [run_experiment(b, ctfidf_classifier, c=character, fix_dataset_size=test_sample_size) for b in tqdm(batches)]\n",
    "    plt.plot(batches, score, label='c-tf-idf')\n",
    "\n",
    "    plt.xlabel('Batch size')\n",
    "    plt.ylabel('f1 score')\n",
    "    plt.title(character)\n",
    "    plt.legend()\n",
    "    plt.show()"
   ]
  },
  {
   "cell_type": "code",
   "execution_count": 70,
   "metadata": {},
   "outputs": [],
   "source": [
    "if PLOT_SCORE_BATCH:\n",
    "    character = 'Sheldon'\n",
    "    max_batch = 50+1\n",
    "    batches = range(1, max_batch, 1)\n",
    "    test_sample_size = None\n",
    "\n",
    "    wf_classifier = FrequencyChatbotClassifier(characters, mode='word frequency')\n",
    "    wf_classifier.train(list(character_docs_train.values()))\n",
    "    score = [run_experiment(b, wf_classifier, c=character, fix_dataset_size=test_sample_size) for b in tqdm(batches)]\n",
    "    plt.plot(batches, score, label='wf')\n",
    "\n",
    "    tfidf_classifier = FrequencyChatbotClassifier(characters, mode='tf-idf')\n",
    "    tfidf_classifier.train(list(character_docs_train.values()))\n",
    "    score = [run_experiment(b, tfidf_classifier, c=character, fix_dataset_size=test_sample_size) for b in tqdm(batches)]\n",
    "    plt.plot(batches, score, label='tf-idf')\n",
    "\n",
    "    ctfidf_classifier = FrequencyChatbotClassifier(characters, mode='c-tf-idf')\n",
    "    ctfidf_classifier.train(list(character_docs_train.values()), n_tot_docs=n_docs)\n",
    "    score = [run_experiment(b, ctfidf_classifier, c=character, fix_dataset_size=test_sample_size) for b in tqdm(batches)]\n",
    "    plt.plot(batches, score, label='c-tf-idf')\n",
    "\n",
    "    plt.xlabel('Batch size')\n",
    "    plt.ylabel('f1 score')\n",
    "    plt.title(character)\n",
    "    plt.legend()\n",
    "    plt.show()"
   ]
  },
  {
   "cell_type": "code",
   "execution_count": 71,
   "metadata": {},
   "outputs": [],
   "source": [
    "if PLOT_SCORE_BATCH:\n",
    "    character = 'Vader'\n",
    "    max_batch = 50+1\n",
    "    batches = range(1, max_batch, 1)\n",
    "    test_sample_size = None\n",
    "\n",
    "    wf_classifier = FrequencyChatbotClassifier(characters, mode='word frequency')\n",
    "    wf_classifier.train(list(character_docs_train.values()))\n",
    "    score = [run_experiment(b, wf_classifier, c=character, fix_dataset_size=test_sample_size) for b in tqdm(batches)]\n",
    "    plt.plot(batches, score, label='wf')\n",
    "\n",
    "    tfidf_classifier = FrequencyChatbotClassifier(characters, mode='tf-idf')\n",
    "    tfidf_classifier.train(list(character_docs_train.values()))\n",
    "    score = [run_experiment(b, tfidf_classifier, c=character, fix_dataset_size=test_sample_size) for b in tqdm(batches)]\n",
    "    plt.plot(batches, score, label='tf-idf')\n",
    "\n",
    "    ctfidf_classifier = FrequencyChatbotClassifier(characters, mode='c-tf-idf')\n",
    "    ctfidf_classifier.train(list(character_docs_train.values()), n_tot_docs=n_docs)\n",
    "    score = [run_experiment(b, ctfidf_classifier, c=character, fix_dataset_size=test_sample_size) for b in tqdm(batches)]\n",
    "    plt.plot(batches, score, label='c-tf-idf')\n",
    "\n",
    "    plt.xlabel('Batch size')\n",
    "    plt.ylabel('f1 score')\n",
    "    plt.title(character)\n",
    "    plt.legend()\n",
    "    plt.show()"
   ]
  },
  {
   "cell_type": "markdown",
   "metadata": {},
   "source": [
    "# Test Classifiers On Chatbots (Not Cached!)"
   ]
  },
  {
   "cell_type": "code",
   "execution_count": 25,
   "metadata": {},
   "outputs": [],
   "source": [
    "tfidf_classifier = FrequencyChatbotClassifier(characters, mode='c-tf-idf')\n",
    "tfidf_classifier.train(list(character_docs.values()), n_tot_docs=len(list(character_docs.values())))"
   ]
  },
  {
   "cell_type": "code",
   "execution_count": 11,
   "metadata": {},
   "outputs": [],
   "source": [
    "tokenizer = AutoTokenizer.from_pretrained(model_name, cache_dir=join(\"..\", \"cache\"))\n",
    "tokenizer.pad_token = '#'\n",
    "data_collator = DataCollatorForLanguageModeling(mlm=False, tokenizer=tokenizer, return_tensors='tf')"
   ]
  },
  {
   "cell_type": "code",
   "execution_count": 12,
   "metadata": {},
   "outputs": [],
   "source": [
    "characters_noDefault = characters.copy()\n",
    "characters_noDefault.remove('Default')"
   ]
  },
  {
   "cell_type": "code",
   "execution_count": 41,
   "metadata": {},
   "outputs": [
    {
     "name": "stdout",
     "output_type": "stream",
     "text": [
      "Creating dataset...\n",
      "Run 0/15\n"
     ]
    },
    {
     "name": "stderr",
     "output_type": "stream",
     "text": [
      "  0%|          | 0/8 [00:00<?, ?it/s]All model checkpoint layers were used when initializing TFGPT2LMHeadModel.\n",
      "\n",
      "All the layers of TFGPT2LMHeadModel were initialized from the model checkpoint at ..\\Data\\Characters\\Barney\\barney_model.\n",
      "If your task is similar to the task the model of the checkpoint was trained on, you can already use TFGPT2LMHeadModel for predictions without further training.\n",
      "Using custom data configuration default-d78476db32c8db98\n",
      "Reusing dataset csv (cache\\csv\\default-d78476db32c8db98\\0.0.0\\433e0ccc46f9880962cc2b12065189766fbb2bee57a221866138fb9203c83519)\n",
      "100%|██████████| 1/1 [00:00<00:00, 83.34it/s]\n",
      "Loading cached split indices for dataset at cache\\csv\\default-d78476db32c8db98\\0.0.0\\433e0ccc46f9880962cc2b12065189766fbb2bee57a221866138fb9203c83519\\cache-651037d43e5e3dbd.arrow and cache\\csv\\default-d78476db32c8db98\\0.0.0\\433e0ccc46f9880962cc2b12065189766fbb2bee57a221866138fb9203c83519\\cache-7e4903d85e508b43.arrow\n",
      "Loading cached split indices for dataset at cache\\csv\\default-d78476db32c8db98\\0.0.0\\433e0ccc46f9880962cc2b12065189766fbb2bee57a221866138fb9203c83519\\cache-1b018c4ce0c1ed8c.arrow and cache\\csv\\default-d78476db32c8db98\\0.0.0\\433e0ccc46f9880962cc2b12065189766fbb2bee57a221866138fb9203c83519\\cache-2cfa4b0ef22c9ad5.arrow\n",
      "Loading cached processed dataset at cache\\csv\\default-d78476db32c8db98\\0.0.0\\433e0ccc46f9880962cc2b12065189766fbb2bee57a221866138fb9203c83519\\cache-89f9b92b2a083af0.arrow\n",
      "Loading cached processed dataset at cache\\csv\\default-d78476db32c8db98\\0.0.0\\433e0ccc46f9880962cc2b12065189766fbb2bee57a221866138fb9203c83519\\cache-f26a814e4e6d10fc.arrow\n",
      "Loading cached processed dataset at cache\\csv\\default-d78476db32c8db98\\0.0.0\\433e0ccc46f9880962cc2b12065189766fbb2bee57a221866138fb9203c83519\\cache-6655d46d8a0182ef.arrow\n",
      "Loading cached shuffled indices for dataset at cache\\csv\\default-d78476db32c8db98\\0.0.0\\433e0ccc46f9880962cc2b12065189766fbb2bee57a221866138fb9203c83519\\cache-b0ddd597589321af.arrow\n"
     ]
    },
    {
     "name": "stdout",
     "output_type": "stream",
     "text": [
      "Creating predictions\n"
     ]
    },
    {
     "name": "stderr",
     "output_type": "stream",
     "text": [
      "100%|██████████| 10/10 [00:37<00:00,  3.79s/it]\n",
      "100%|██████████| 10/10 [00:00<00:00, 588.48it/s]\n",
      " 12%|█▎        | 1/8 [00:44<05:11, 44.49s/it]All model checkpoint layers were used when initializing TFGPT2LMHeadModel.\n",
      "\n",
      "All the layers of TFGPT2LMHeadModel were initialized from the model checkpoint at ..\\Data\\Characters\\Sheldon\\sheldon_model.\n",
      "If your task is similar to the task the model of the checkpoint was trained on, you can already use TFGPT2LMHeadModel for predictions without further training.\n",
      "Using custom data configuration default-8207271dc09e0a46\n",
      "Reusing dataset csv (cache\\csv\\default-8207271dc09e0a46\\0.0.0\\433e0ccc46f9880962cc2b12065189766fbb2bee57a221866138fb9203c83519)\n",
      "100%|██████████| 1/1 [00:00<00:00, 142.87it/s]\n",
      "Loading cached split indices for dataset at cache\\csv\\default-8207271dc09e0a46\\0.0.0\\433e0ccc46f9880962cc2b12065189766fbb2bee57a221866138fb9203c83519\\cache-46b6cd7566c1d243.arrow and cache\\csv\\default-8207271dc09e0a46\\0.0.0\\433e0ccc46f9880962cc2b12065189766fbb2bee57a221866138fb9203c83519\\cache-e3e40e36f25dded7.arrow\n",
      "Loading cached split indices for dataset at cache\\csv\\default-8207271dc09e0a46\\0.0.0\\433e0ccc46f9880962cc2b12065189766fbb2bee57a221866138fb9203c83519\\cache-1774625d7360210c.arrow and cache\\csv\\default-8207271dc09e0a46\\0.0.0\\433e0ccc46f9880962cc2b12065189766fbb2bee57a221866138fb9203c83519\\cache-ad5b734370182aae.arrow\n",
      "Loading cached processed dataset at cache\\csv\\default-8207271dc09e0a46\\0.0.0\\433e0ccc46f9880962cc2b12065189766fbb2bee57a221866138fb9203c83519\\cache-fed8798d874c65dd.arrow\n",
      "Loading cached processed dataset at cache\\csv\\default-8207271dc09e0a46\\0.0.0\\433e0ccc46f9880962cc2b12065189766fbb2bee57a221866138fb9203c83519\\cache-632156930e5bea85.arrow\n",
      "Loading cached processed dataset at cache\\csv\\default-8207271dc09e0a46\\0.0.0\\433e0ccc46f9880962cc2b12065189766fbb2bee57a221866138fb9203c83519\\cache-448ecc7a6afdd007.arrow\n",
      "Loading cached shuffled indices for dataset at cache\\csv\\default-8207271dc09e0a46\\0.0.0\\433e0ccc46f9880962cc2b12065189766fbb2bee57a221866138fb9203c83519\\cache-44200aae20815359.arrow\n"
     ]
    },
    {
     "name": "stdout",
     "output_type": "stream",
     "text": [
      "Creating predictions\n"
     ]
    },
    {
     "name": "stderr",
     "output_type": "stream",
     "text": [
      "100%|██████████| 10/10 [00:49<00:00,  4.97s/it]\n",
      "100%|██████████| 10/10 [00:00<00:00, 526.38it/s]\n",
      " 25%|██▌       | 2/8 [01:39<05:02, 50.41s/it]All model checkpoint layers were used when initializing TFGPT2LMHeadModel.\n",
      "\n",
      "All the layers of TFGPT2LMHeadModel were initialized from the model checkpoint at ..\\Data\\Characters\\Harry\\harry_model.\n",
      "If your task is similar to the task the model of the checkpoint was trained on, you can already use TFGPT2LMHeadModel for predictions without further training.\n",
      "Using custom data configuration default-5e8064f57286033a\n",
      "Reusing dataset csv (cache\\csv\\default-5e8064f57286033a\\0.0.0\\433e0ccc46f9880962cc2b12065189766fbb2bee57a221866138fb9203c83519)\n",
      "100%|██████████| 1/1 [00:00<00:00, 166.75it/s]\n",
      "Loading cached split indices for dataset at cache\\csv\\default-5e8064f57286033a\\0.0.0\\433e0ccc46f9880962cc2b12065189766fbb2bee57a221866138fb9203c83519\\cache-2b86c587abd47c66.arrow and cache\\csv\\default-5e8064f57286033a\\0.0.0\\433e0ccc46f9880962cc2b12065189766fbb2bee57a221866138fb9203c83519\\cache-8919d70a4bf80eed.arrow\n",
      "Loading cached split indices for dataset at cache\\csv\\default-5e8064f57286033a\\0.0.0\\433e0ccc46f9880962cc2b12065189766fbb2bee57a221866138fb9203c83519\\cache-4099b79485c950ea.arrow and cache\\csv\\default-5e8064f57286033a\\0.0.0\\433e0ccc46f9880962cc2b12065189766fbb2bee57a221866138fb9203c83519\\cache-cecb46b03995ab9b.arrow\n",
      "Loading cached processed dataset at cache\\csv\\default-5e8064f57286033a\\0.0.0\\433e0ccc46f9880962cc2b12065189766fbb2bee57a221866138fb9203c83519\\cache-e80578e3b4f7f025.arrow\n",
      "Loading cached processed dataset at cache\\csv\\default-5e8064f57286033a\\0.0.0\\433e0ccc46f9880962cc2b12065189766fbb2bee57a221866138fb9203c83519\\cache-45cad4fe25e5526e.arrow\n",
      "Loading cached processed dataset at cache\\csv\\default-5e8064f57286033a\\0.0.0\\433e0ccc46f9880962cc2b12065189766fbb2bee57a221866138fb9203c83519\\cache-937d1b7b6a0a1add.arrow\n",
      "Loading cached shuffled indices for dataset at cache\\csv\\default-5e8064f57286033a\\0.0.0\\433e0ccc46f9880962cc2b12065189766fbb2bee57a221866138fb9203c83519\\cache-1961250b1edbce64.arrow\n"
     ]
    },
    {
     "name": "stdout",
     "output_type": "stream",
     "text": [
      "Creating predictions\n"
     ]
    },
    {
     "name": "stderr",
     "output_type": "stream",
     "text": [
      "100%|██████████| 10/10 [00:26<00:00,  2.65s/it]\n",
      "100%|██████████| 10/10 [00:00<00:00, 712.93it/s]\n",
      " 38%|███▊      | 3/8 [02:10<03:29, 41.93s/it]All model checkpoint layers were used when initializing TFGPT2LMHeadModel.\n",
      "\n",
      "All the layers of TFGPT2LMHeadModel were initialized from the model checkpoint at ..\\Data\\Characters\\Fry\\fry_model.\n",
      "If your task is similar to the task the model of the checkpoint was trained on, you can already use TFGPT2LMHeadModel for predictions without further training.\n",
      "Using custom data configuration default-b35448ec5dd887ec\n",
      "Reusing dataset csv (cache\\csv\\default-b35448ec5dd887ec\\0.0.0\\433e0ccc46f9880962cc2b12065189766fbb2bee57a221866138fb9203c83519)\n",
      "100%|██████████| 1/1 [00:00<00:00, 250.27it/s]\n",
      "Loading cached split indices for dataset at cache\\csv\\default-b35448ec5dd887ec\\0.0.0\\433e0ccc46f9880962cc2b12065189766fbb2bee57a221866138fb9203c83519\\cache-667383473c444f25.arrow and cache\\csv\\default-b35448ec5dd887ec\\0.0.0\\433e0ccc46f9880962cc2b12065189766fbb2bee57a221866138fb9203c83519\\cache-c520a8a264854da4.arrow\n",
      "Loading cached split indices for dataset at cache\\csv\\default-b35448ec5dd887ec\\0.0.0\\433e0ccc46f9880962cc2b12065189766fbb2bee57a221866138fb9203c83519\\cache-b072a26900059a04.arrow and cache\\csv\\default-b35448ec5dd887ec\\0.0.0\\433e0ccc46f9880962cc2b12065189766fbb2bee57a221866138fb9203c83519\\cache-885672efcb78500c.arrow\n",
      "Loading cached processed dataset at cache\\csv\\default-b35448ec5dd887ec\\0.0.0\\433e0ccc46f9880962cc2b12065189766fbb2bee57a221866138fb9203c83519\\cache-f2119e5a34f2eb76.arrow\n",
      "Loading cached processed dataset at cache\\csv\\default-b35448ec5dd887ec\\0.0.0\\433e0ccc46f9880962cc2b12065189766fbb2bee57a221866138fb9203c83519\\cache-cb34da498e1e68ed.arrow\n",
      "Loading cached processed dataset at cache\\csv\\default-b35448ec5dd887ec\\0.0.0\\433e0ccc46f9880962cc2b12065189766fbb2bee57a221866138fb9203c83519\\cache-3b065f584f7e66c9.arrow\n",
      "Loading cached shuffled indices for dataset at cache\\csv\\default-b35448ec5dd887ec\\0.0.0\\433e0ccc46f9880962cc2b12065189766fbb2bee57a221866138fb9203c83519\\cache-9012223f14afe1d0.arrow\n"
     ]
    },
    {
     "name": "stdout",
     "output_type": "stream",
     "text": [
      "Creating predictions\n"
     ]
    },
    {
     "name": "stderr",
     "output_type": "stream",
     "text": [
      "100%|██████████| 10/10 [00:39<00:00,  3.95s/it]\n",
      "100%|██████████| 10/10 [00:00<00:00, 497.76it/s]\n",
      " 50%|█████     | 4/8 [02:57<02:55, 43.75s/it]All model checkpoint layers were used when initializing TFGPT2LMHeadModel.\n",
      "\n",
      "All the layers of TFGPT2LMHeadModel were initialized from the model checkpoint at ..\\Data\\Characters\\Bender\\bender_model.\n",
      "If your task is similar to the task the model of the checkpoint was trained on, you can already use TFGPT2LMHeadModel for predictions without further training.\n",
      "Using custom data configuration default-2a0884da2a86facc\n",
      "Reusing dataset csv (cache\\csv\\default-2a0884da2a86facc\\0.0.0\\433e0ccc46f9880962cc2b12065189766fbb2bee57a221866138fb9203c83519)\n",
      "100%|██████████| 1/1 [00:00<00:00, 247.80it/s]\n",
      "Loading cached split indices for dataset at cache\\csv\\default-2a0884da2a86facc\\0.0.0\\433e0ccc46f9880962cc2b12065189766fbb2bee57a221866138fb9203c83519\\cache-4c59c8594ee83881.arrow and cache\\csv\\default-2a0884da2a86facc\\0.0.0\\433e0ccc46f9880962cc2b12065189766fbb2bee57a221866138fb9203c83519\\cache-979ea9e674132025.arrow\n",
      "Loading cached split indices for dataset at cache\\csv\\default-2a0884da2a86facc\\0.0.0\\433e0ccc46f9880962cc2b12065189766fbb2bee57a221866138fb9203c83519\\cache-2cdb39c47142be86.arrow and cache\\csv\\default-2a0884da2a86facc\\0.0.0\\433e0ccc46f9880962cc2b12065189766fbb2bee57a221866138fb9203c83519\\cache-4b32be2eacb5d552.arrow\n",
      "Loading cached processed dataset at cache\\csv\\default-2a0884da2a86facc\\0.0.0\\433e0ccc46f9880962cc2b12065189766fbb2bee57a221866138fb9203c83519\\cache-6647fe37f40ed616.arrow\n",
      "Loading cached processed dataset at cache\\csv\\default-2a0884da2a86facc\\0.0.0\\433e0ccc46f9880962cc2b12065189766fbb2bee57a221866138fb9203c83519\\cache-98b2463bec0fd009.arrow\n",
      "Loading cached processed dataset at cache\\csv\\default-2a0884da2a86facc\\0.0.0\\433e0ccc46f9880962cc2b12065189766fbb2bee57a221866138fb9203c83519\\cache-015ae8852bcf3fa4.arrow\n",
      "Loading cached shuffled indices for dataset at cache\\csv\\default-2a0884da2a86facc\\0.0.0\\433e0ccc46f9880962cc2b12065189766fbb2bee57a221866138fb9203c83519\\cache-eefdc5e3fbc3d2c1.arrow\n"
     ]
    },
    {
     "name": "stdout",
     "output_type": "stream",
     "text": [
      "Creating predictions\n"
     ]
    },
    {
     "name": "stderr",
     "output_type": "stream",
     "text": [
      "100%|██████████| 10/10 [00:42<00:00,  4.26s/it]\n",
      "100%|██████████| 10/10 [00:00<00:00, 476.36it/s]\n",
      " 62%|██████▎   | 5/8 [03:45<02:15, 45.23s/it]All model checkpoint layers were used when initializing TFGPT2LMHeadModel.\n",
      "\n",
      "All the layers of TFGPT2LMHeadModel were initialized from the model checkpoint at ..\\Data\\Characters\\Vader\\vader_model.\n",
      "If your task is similar to the task the model of the checkpoint was trained on, you can already use TFGPT2LMHeadModel for predictions without further training.\n",
      "Using custom data configuration default-3bee7e44262edb7f\n",
      "Reusing dataset csv (cache\\csv\\default-3bee7e44262edb7f\\0.0.0\\433e0ccc46f9880962cc2b12065189766fbb2bee57a221866138fb9203c83519)\n",
      "100%|██████████| 1/1 [00:00<00:00, 332.75it/s]\n",
      "Loading cached split indices for dataset at cache\\csv\\default-3bee7e44262edb7f\\0.0.0\\433e0ccc46f9880962cc2b12065189766fbb2bee57a221866138fb9203c83519\\cache-96d0a5ba5e8fec42.arrow and cache\\csv\\default-3bee7e44262edb7f\\0.0.0\\433e0ccc46f9880962cc2b12065189766fbb2bee57a221866138fb9203c83519\\cache-1443283cf78ecd8c.arrow\n",
      "Loading cached split indices for dataset at cache\\csv\\default-3bee7e44262edb7f\\0.0.0\\433e0ccc46f9880962cc2b12065189766fbb2bee57a221866138fb9203c83519\\cache-fe15dac5f93d7344.arrow and cache\\csv\\default-3bee7e44262edb7f\\0.0.0\\433e0ccc46f9880962cc2b12065189766fbb2bee57a221866138fb9203c83519\\cache-c4745ad835a23735.arrow\n",
      "Loading cached processed dataset at cache\\csv\\default-3bee7e44262edb7f\\0.0.0\\433e0ccc46f9880962cc2b12065189766fbb2bee57a221866138fb9203c83519\\cache-52e19da7533330c8.arrow\n",
      "Loading cached processed dataset at cache\\csv\\default-3bee7e44262edb7f\\0.0.0\\433e0ccc46f9880962cc2b12065189766fbb2bee57a221866138fb9203c83519\\cache-979822d41ccd7a4a.arrow\n",
      "Loading cached processed dataset at cache\\csv\\default-3bee7e44262edb7f\\0.0.0\\433e0ccc46f9880962cc2b12065189766fbb2bee57a221866138fb9203c83519\\cache-d486cd416c29c441.arrow\n",
      "Loading cached shuffled indices for dataset at cache\\csv\\default-3bee7e44262edb7f\\0.0.0\\433e0ccc46f9880962cc2b12065189766fbb2bee57a221866138fb9203c83519\\cache-5061dd57662d5196.arrow\n"
     ]
    },
    {
     "name": "stdout",
     "output_type": "stream",
     "text": [
      "Creating predictions\n"
     ]
    },
    {
     "name": "stderr",
     "output_type": "stream",
     "text": [
      "100%|██████████| 10/10 [00:39<00:00,  3.94s/it]\n",
      "100%|██████████| 10/10 [00:00<00:00, 909.10it/s]\n",
      " 75%|███████▌  | 6/8 [04:30<01:30, 45.20s/it]All model checkpoint layers were used when initializing TFGPT2LMHeadModel.\n",
      "\n",
      "All the layers of TFGPT2LMHeadModel were initialized from the model checkpoint at ..\\Data\\Characters\\Joey\\joey_model.\n",
      "If your task is similar to the task the model of the checkpoint was trained on, you can already use TFGPT2LMHeadModel for predictions without further training.\n",
      "Using custom data configuration default-b81141adc87b87bf\n",
      "Reusing dataset csv (cache\\csv\\default-b81141adc87b87bf\\0.0.0\\433e0ccc46f9880962cc2b12065189766fbb2bee57a221866138fb9203c83519)\n",
      "100%|██████████| 1/1 [00:00<00:00, 250.26it/s]\n",
      "Loading cached split indices for dataset at cache\\csv\\default-b81141adc87b87bf\\0.0.0\\433e0ccc46f9880962cc2b12065189766fbb2bee57a221866138fb9203c83519\\cache-e2d3926d0ffd0fd3.arrow and cache\\csv\\default-b81141adc87b87bf\\0.0.0\\433e0ccc46f9880962cc2b12065189766fbb2bee57a221866138fb9203c83519\\cache-f888d4a055d9f5e2.arrow\n",
      "Loading cached split indices for dataset at cache\\csv\\default-b81141adc87b87bf\\0.0.0\\433e0ccc46f9880962cc2b12065189766fbb2bee57a221866138fb9203c83519\\cache-682a04a266efce80.arrow and cache\\csv\\default-b81141adc87b87bf\\0.0.0\\433e0ccc46f9880962cc2b12065189766fbb2bee57a221866138fb9203c83519\\cache-13fca5dad2d5247a.arrow\n",
      "Loading cached processed dataset at cache\\csv\\default-b81141adc87b87bf\\0.0.0\\433e0ccc46f9880962cc2b12065189766fbb2bee57a221866138fb9203c83519\\cache-7662390b0e4f3793.arrow\n",
      "Loading cached processed dataset at cache\\csv\\default-b81141adc87b87bf\\0.0.0\\433e0ccc46f9880962cc2b12065189766fbb2bee57a221866138fb9203c83519\\cache-4379f0323f83a3bd.arrow\n",
      "Loading cached processed dataset at cache\\csv\\default-b81141adc87b87bf\\0.0.0\\433e0ccc46f9880962cc2b12065189766fbb2bee57a221866138fb9203c83519\\cache-ff90937c11e9e756.arrow\n",
      "Loading cached shuffled indices for dataset at cache\\csv\\default-b81141adc87b87bf\\0.0.0\\433e0ccc46f9880962cc2b12065189766fbb2bee57a221866138fb9203c83519\\cache-881ed2c7d650f5ac.arrow\n"
     ]
    },
    {
     "name": "stdout",
     "output_type": "stream",
     "text": [
      "Creating predictions\n"
     ]
    },
    {
     "name": "stderr",
     "output_type": "stream",
     "text": [
      "100%|██████████| 10/10 [00:41<00:00,  4.14s/it]\n",
      "100%|██████████| 10/10 [00:00<00:00, 906.01it/s]\n",
      " 88%|████████▊ | 7/8 [05:16<00:45, 45.35s/it]All model checkpoint layers were used when initializing TFGPT2LMHeadModel.\n",
      "\n",
      "All the layers of TFGPT2LMHeadModel were initialized from the model checkpoint at ..\\Data\\Characters\\Phoebe\\phoebe_model.\n",
      "If your task is similar to the task the model of the checkpoint was trained on, you can already use TFGPT2LMHeadModel for predictions without further training.\n",
      "Using custom data configuration default-48cc5f719001fd3a\n",
      "Reusing dataset csv (cache\\csv\\default-48cc5f719001fd3a\\0.0.0\\433e0ccc46f9880962cc2b12065189766fbb2bee57a221866138fb9203c83519)\n",
      "100%|██████████| 1/1 [00:00<00:00, 247.79it/s]\n",
      "Loading cached split indices for dataset at cache\\csv\\default-48cc5f719001fd3a\\0.0.0\\433e0ccc46f9880962cc2b12065189766fbb2bee57a221866138fb9203c83519\\cache-16c140b5da191e7c.arrow and cache\\csv\\default-48cc5f719001fd3a\\0.0.0\\433e0ccc46f9880962cc2b12065189766fbb2bee57a221866138fb9203c83519\\cache-ed121df269d87298.arrow\n",
      "Loading cached split indices for dataset at cache\\csv\\default-48cc5f719001fd3a\\0.0.0\\433e0ccc46f9880962cc2b12065189766fbb2bee57a221866138fb9203c83519\\cache-f4f26cbce3ecb27c.arrow and cache\\csv\\default-48cc5f719001fd3a\\0.0.0\\433e0ccc46f9880962cc2b12065189766fbb2bee57a221866138fb9203c83519\\cache-186da54849d8ccad.arrow\n",
      "Loading cached processed dataset at cache\\csv\\default-48cc5f719001fd3a\\0.0.0\\433e0ccc46f9880962cc2b12065189766fbb2bee57a221866138fb9203c83519\\cache-7c5b176b39e0048e.arrow\n",
      "Loading cached processed dataset at cache\\csv\\default-48cc5f719001fd3a\\0.0.0\\433e0ccc46f9880962cc2b12065189766fbb2bee57a221866138fb9203c83519\\cache-5221c27b06394c28.arrow\n",
      "Loading cached processed dataset at cache\\csv\\default-48cc5f719001fd3a\\0.0.0\\433e0ccc46f9880962cc2b12065189766fbb2bee57a221866138fb9203c83519\\cache-20bada48da47c9c4.arrow\n",
      "Loading cached shuffled indices for dataset at cache\\csv\\default-48cc5f719001fd3a\\0.0.0\\433e0ccc46f9880962cc2b12065189766fbb2bee57a221866138fb9203c83519\\cache-1d4705c0ffbe174e.arrow\n"
     ]
    },
    {
     "name": "stdout",
     "output_type": "stream",
     "text": [
      "Creating predictions\n"
     ]
    },
    {
     "name": "stderr",
     "output_type": "stream",
     "text": [
      "100%|██████████| 10/10 [00:28<00:00,  2.86s/it]\n",
      "100%|██████████| 10/10 [00:00<00:00, 909.31it/s]\n",
      "100%|██████████| 8/8 [05:48<00:00, 43.62s/it]\n"
     ]
    },
    {
     "name": "stdout",
     "output_type": "stream",
     "text": [
      "Run 1/15\n"
     ]
    },
    {
     "name": "stderr",
     "output_type": "stream",
     "text": [
      "  0%|          | 0/8 [00:00<?, ?it/s]All model checkpoint layers were used when initializing TFGPT2LMHeadModel.\n",
      "\n",
      "All the layers of TFGPT2LMHeadModel were initialized from the model checkpoint at ..\\Data\\Characters\\Barney\\barney_model.\n",
      "If your task is similar to the task the model of the checkpoint was trained on, you can already use TFGPT2LMHeadModel for predictions without further training.\n",
      "Using custom data configuration default-d78476db32c8db98\n",
      "Reusing dataset csv (cache\\csv\\default-d78476db32c8db98\\0.0.0\\433e0ccc46f9880962cc2b12065189766fbb2bee57a221866138fb9203c83519)\n",
      "100%|██████████| 1/1 [00:00<00:00, 333.54it/s]\n",
      "Loading cached split indices for dataset at cache\\csv\\default-d78476db32c8db98\\0.0.0\\433e0ccc46f9880962cc2b12065189766fbb2bee57a221866138fb9203c83519\\cache-651037d43e5e3dbd.arrow and cache\\csv\\default-d78476db32c8db98\\0.0.0\\433e0ccc46f9880962cc2b12065189766fbb2bee57a221866138fb9203c83519\\cache-7e4903d85e508b43.arrow\n",
      "Loading cached split indices for dataset at cache\\csv\\default-d78476db32c8db98\\0.0.0\\433e0ccc46f9880962cc2b12065189766fbb2bee57a221866138fb9203c83519\\cache-1b018c4ce0c1ed8c.arrow and cache\\csv\\default-d78476db32c8db98\\0.0.0\\433e0ccc46f9880962cc2b12065189766fbb2bee57a221866138fb9203c83519\\cache-2cfa4b0ef22c9ad5.arrow\n",
      "Loading cached processed dataset at cache\\csv\\default-d78476db32c8db98\\0.0.0\\433e0ccc46f9880962cc2b12065189766fbb2bee57a221866138fb9203c83519\\cache-89f9b92b2a083af0.arrow\n",
      "Loading cached processed dataset at cache\\csv\\default-d78476db32c8db98\\0.0.0\\433e0ccc46f9880962cc2b12065189766fbb2bee57a221866138fb9203c83519\\cache-f26a814e4e6d10fc.arrow\n",
      "Loading cached processed dataset at cache\\csv\\default-d78476db32c8db98\\0.0.0\\433e0ccc46f9880962cc2b12065189766fbb2bee57a221866138fb9203c83519\\cache-6655d46d8a0182ef.arrow\n",
      "Loading cached shuffled indices for dataset at cache\\csv\\default-d78476db32c8db98\\0.0.0\\433e0ccc46f9880962cc2b12065189766fbb2bee57a221866138fb9203c83519\\cache-b0ddd597589321af.arrow\n"
     ]
    },
    {
     "name": "stdout",
     "output_type": "stream",
     "text": [
      "Creating predictions\n"
     ]
    },
    {
     "name": "stderr",
     "output_type": "stream",
     "text": [
      "100%|██████████| 10/10 [00:20<00:00,  2.07s/it]\n",
      "100%|██████████| 10/10 [00:00<00:00, 906.45it/s]\n",
      " 12%|█▎        | 1/8 [00:24<02:51, 24.54s/it]All model checkpoint layers were used when initializing TFGPT2LMHeadModel.\n",
      "\n",
      "All the layers of TFGPT2LMHeadModel were initialized from the model checkpoint at ..\\Data\\Characters\\Sheldon\\sheldon_model.\n",
      "If your task is similar to the task the model of the checkpoint was trained on, you can already use TFGPT2LMHeadModel for predictions without further training.\n",
      "Using custom data configuration default-8207271dc09e0a46\n",
      "Reusing dataset csv (cache\\csv\\default-8207271dc09e0a46\\0.0.0\\433e0ccc46f9880962cc2b12065189766fbb2bee57a221866138fb9203c83519)\n",
      "100%|██████████| 1/1 [00:00<00:00, 125.15it/s]\n",
      "Loading cached split indices for dataset at cache\\csv\\default-8207271dc09e0a46\\0.0.0\\433e0ccc46f9880962cc2b12065189766fbb2bee57a221866138fb9203c83519\\cache-46b6cd7566c1d243.arrow and cache\\csv\\default-8207271dc09e0a46\\0.0.0\\433e0ccc46f9880962cc2b12065189766fbb2bee57a221866138fb9203c83519\\cache-e3e40e36f25dded7.arrow\n",
      "Loading cached split indices for dataset at cache\\csv\\default-8207271dc09e0a46\\0.0.0\\433e0ccc46f9880962cc2b12065189766fbb2bee57a221866138fb9203c83519\\cache-1774625d7360210c.arrow and cache\\csv\\default-8207271dc09e0a46\\0.0.0\\433e0ccc46f9880962cc2b12065189766fbb2bee57a221866138fb9203c83519\\cache-ad5b734370182aae.arrow\n",
      "Loading cached processed dataset at cache\\csv\\default-8207271dc09e0a46\\0.0.0\\433e0ccc46f9880962cc2b12065189766fbb2bee57a221866138fb9203c83519\\cache-fed8798d874c65dd.arrow\n",
      "Loading cached processed dataset at cache\\csv\\default-8207271dc09e0a46\\0.0.0\\433e0ccc46f9880962cc2b12065189766fbb2bee57a221866138fb9203c83519\\cache-632156930e5bea85.arrow\n",
      "Loading cached processed dataset at cache\\csv\\default-8207271dc09e0a46\\0.0.0\\433e0ccc46f9880962cc2b12065189766fbb2bee57a221866138fb9203c83519\\cache-448ecc7a6afdd007.arrow\n",
      "Loading cached shuffled indices for dataset at cache\\csv\\default-8207271dc09e0a46\\0.0.0\\433e0ccc46f9880962cc2b12065189766fbb2bee57a221866138fb9203c83519\\cache-44200aae20815359.arrow\n"
     ]
    },
    {
     "name": "stdout",
     "output_type": "stream",
     "text": [
      "Creating predictions\n"
     ]
    },
    {
     "name": "stderr",
     "output_type": "stream",
     "text": [
      "100%|██████████| 10/10 [00:26<00:00,  2.70s/it]\n",
      "100%|██████████| 10/10 [00:00<00:00, 1111.04it/s]\n",
      " 25%|██▌       | 2/8 [00:55<02:49, 28.21s/it]All model checkpoint layers were used when initializing TFGPT2LMHeadModel.\n",
      "\n",
      "All the layers of TFGPT2LMHeadModel were initialized from the model checkpoint at ..\\Data\\Characters\\Harry\\harry_model.\n",
      "If your task is similar to the task the model of the checkpoint was trained on, you can already use TFGPT2LMHeadModel for predictions without further training.\n",
      "Using custom data configuration default-5e8064f57286033a\n",
      "Reusing dataset csv (cache\\csv\\default-5e8064f57286033a\\0.0.0\\433e0ccc46f9880962cc2b12065189766fbb2bee57a221866138fb9203c83519)\n",
      "100%|██████████| 1/1 [00:00<00:00, 249.75it/s]\n",
      "Loading cached split indices for dataset at cache\\csv\\default-5e8064f57286033a\\0.0.0\\433e0ccc46f9880962cc2b12065189766fbb2bee57a221866138fb9203c83519\\cache-2b86c587abd47c66.arrow and cache\\csv\\default-5e8064f57286033a\\0.0.0\\433e0ccc46f9880962cc2b12065189766fbb2bee57a221866138fb9203c83519\\cache-8919d70a4bf80eed.arrow\n",
      "Loading cached split indices for dataset at cache\\csv\\default-5e8064f57286033a\\0.0.0\\433e0ccc46f9880962cc2b12065189766fbb2bee57a221866138fb9203c83519\\cache-4099b79485c950ea.arrow and cache\\csv\\default-5e8064f57286033a\\0.0.0\\433e0ccc46f9880962cc2b12065189766fbb2bee57a221866138fb9203c83519\\cache-cecb46b03995ab9b.arrow\n",
      "Loading cached processed dataset at cache\\csv\\default-5e8064f57286033a\\0.0.0\\433e0ccc46f9880962cc2b12065189766fbb2bee57a221866138fb9203c83519\\cache-e80578e3b4f7f025.arrow\n",
      "Loading cached processed dataset at cache\\csv\\default-5e8064f57286033a\\0.0.0\\433e0ccc46f9880962cc2b12065189766fbb2bee57a221866138fb9203c83519\\cache-45cad4fe25e5526e.arrow\n",
      "Loading cached processed dataset at cache\\csv\\default-5e8064f57286033a\\0.0.0\\433e0ccc46f9880962cc2b12065189766fbb2bee57a221866138fb9203c83519\\cache-937d1b7b6a0a1add.arrow\n",
      "Loading cached shuffled indices for dataset at cache\\csv\\default-5e8064f57286033a\\0.0.0\\433e0ccc46f9880962cc2b12065189766fbb2bee57a221866138fb9203c83519\\cache-1961250b1edbce64.arrow\n"
     ]
    },
    {
     "name": "stdout",
     "output_type": "stream",
     "text": [
      "Creating predictions\n"
     ]
    },
    {
     "name": "stderr",
     "output_type": "stream",
     "text": [
      "100%|██████████| 10/10 [00:18<00:00,  1.84s/it]\n",
      "100%|██████████| 10/10 [00:00<00:00, 996.44it/s]\n",
      " 38%|███▊      | 3/8 [01:17<02:06, 25.37s/it]All model checkpoint layers were used when initializing TFGPT2LMHeadModel.\n",
      "\n",
      "All the layers of TFGPT2LMHeadModel were initialized from the model checkpoint at ..\\Data\\Characters\\Fry\\fry_model.\n",
      "If your task is similar to the task the model of the checkpoint was trained on, you can already use TFGPT2LMHeadModel for predictions without further training.\n",
      "Using custom data configuration default-b35448ec5dd887ec\n",
      "Reusing dataset csv (cache\\csv\\default-b35448ec5dd887ec\\0.0.0\\433e0ccc46f9880962cc2b12065189766fbb2bee57a221866138fb9203c83519)\n",
      "100%|██████████| 1/1 [00:00<00:00, 90.92it/s]\n",
      "Loading cached split indices for dataset at cache\\csv\\default-b35448ec5dd887ec\\0.0.0\\433e0ccc46f9880962cc2b12065189766fbb2bee57a221866138fb9203c83519\\cache-667383473c444f25.arrow and cache\\csv\\default-b35448ec5dd887ec\\0.0.0\\433e0ccc46f9880962cc2b12065189766fbb2bee57a221866138fb9203c83519\\cache-c520a8a264854da4.arrow\n",
      "Loading cached split indices for dataset at cache\\csv\\default-b35448ec5dd887ec\\0.0.0\\433e0ccc46f9880962cc2b12065189766fbb2bee57a221866138fb9203c83519\\cache-b072a26900059a04.arrow and cache\\csv\\default-b35448ec5dd887ec\\0.0.0\\433e0ccc46f9880962cc2b12065189766fbb2bee57a221866138fb9203c83519\\cache-885672efcb78500c.arrow\n",
      "Loading cached processed dataset at cache\\csv\\default-b35448ec5dd887ec\\0.0.0\\433e0ccc46f9880962cc2b12065189766fbb2bee57a221866138fb9203c83519\\cache-f2119e5a34f2eb76.arrow\n",
      "Loading cached processed dataset at cache\\csv\\default-b35448ec5dd887ec\\0.0.0\\433e0ccc46f9880962cc2b12065189766fbb2bee57a221866138fb9203c83519\\cache-cb34da498e1e68ed.arrow\n",
      "Loading cached processed dataset at cache\\csv\\default-b35448ec5dd887ec\\0.0.0\\433e0ccc46f9880962cc2b12065189766fbb2bee57a221866138fb9203c83519\\cache-3b065f584f7e66c9.arrow\n",
      "Loading cached shuffled indices for dataset at cache\\csv\\default-b35448ec5dd887ec\\0.0.0\\433e0ccc46f9880962cc2b12065189766fbb2bee57a221866138fb9203c83519\\cache-9012223f14afe1d0.arrow\n"
     ]
    },
    {
     "name": "stdout",
     "output_type": "stream",
     "text": [
      "Creating predictions\n"
     ]
    },
    {
     "name": "stderr",
     "output_type": "stream",
     "text": [
      "100%|██████████| 10/10 [00:34<00:00,  3.46s/it]\n",
      "100%|██████████| 10/10 [00:00<00:00, 1000.02it/s]\n",
      " 50%|█████     | 4/8 [01:55<02:01, 30.46s/it]All model checkpoint layers were used when initializing TFGPT2LMHeadModel.\n",
      "\n",
      "All the layers of TFGPT2LMHeadModel were initialized from the model checkpoint at ..\\Data\\Characters\\Bender\\bender_model.\n",
      "If your task is similar to the task the model of the checkpoint was trained on, you can already use TFGPT2LMHeadModel for predictions without further training.\n",
      "Using custom data configuration default-2a0884da2a86facc\n",
      "Reusing dataset csv (cache\\csv\\default-2a0884da2a86facc\\0.0.0\\433e0ccc46f9880962cc2b12065189766fbb2bee57a221866138fb9203c83519)\n",
      "100%|██████████| 1/1 [00:00<00:00, 113.35it/s]\n",
      "Loading cached split indices for dataset at cache\\csv\\default-2a0884da2a86facc\\0.0.0\\433e0ccc46f9880962cc2b12065189766fbb2bee57a221866138fb9203c83519\\cache-4c59c8594ee83881.arrow and cache\\csv\\default-2a0884da2a86facc\\0.0.0\\433e0ccc46f9880962cc2b12065189766fbb2bee57a221866138fb9203c83519\\cache-979ea9e674132025.arrow\n",
      "Loading cached split indices for dataset at cache\\csv\\default-2a0884da2a86facc\\0.0.0\\433e0ccc46f9880962cc2b12065189766fbb2bee57a221866138fb9203c83519\\cache-2cdb39c47142be86.arrow and cache\\csv\\default-2a0884da2a86facc\\0.0.0\\433e0ccc46f9880962cc2b12065189766fbb2bee57a221866138fb9203c83519\\cache-4b32be2eacb5d552.arrow\n",
      "Loading cached processed dataset at cache\\csv\\default-2a0884da2a86facc\\0.0.0\\433e0ccc46f9880962cc2b12065189766fbb2bee57a221866138fb9203c83519\\cache-6647fe37f40ed616.arrow\n",
      "Loading cached processed dataset at cache\\csv\\default-2a0884da2a86facc\\0.0.0\\433e0ccc46f9880962cc2b12065189766fbb2bee57a221866138fb9203c83519\\cache-98b2463bec0fd009.arrow\n",
      "Loading cached processed dataset at cache\\csv\\default-2a0884da2a86facc\\0.0.0\\433e0ccc46f9880962cc2b12065189766fbb2bee57a221866138fb9203c83519\\cache-015ae8852bcf3fa4.arrow\n",
      "Loading cached shuffled indices for dataset at cache\\csv\\default-2a0884da2a86facc\\0.0.0\\433e0ccc46f9880962cc2b12065189766fbb2bee57a221866138fb9203c83519\\cache-eefdc5e3fbc3d2c1.arrow\n"
     ]
    },
    {
     "name": "stdout",
     "output_type": "stream",
     "text": [
      "Creating predictions\n"
     ]
    },
    {
     "name": "stderr",
     "output_type": "stream",
     "text": [
      "100%|██████████| 10/10 [00:29<00:00,  2.92s/it]\n",
      "100%|██████████| 10/10 [00:00<00:00, 833.00it/s]\n",
      " 62%|██████▎   | 5/8 [02:28<01:33, 31.31s/it]All model checkpoint layers were used when initializing TFGPT2LMHeadModel.\n",
      "\n",
      "All the layers of TFGPT2LMHeadModel were initialized from the model checkpoint at ..\\Data\\Characters\\Vader\\vader_model.\n",
      "If your task is similar to the task the model of the checkpoint was trained on, you can already use TFGPT2LMHeadModel for predictions without further training.\n",
      "Using custom data configuration default-3bee7e44262edb7f\n",
      "Reusing dataset csv (cache\\csv\\default-3bee7e44262edb7f\\0.0.0\\433e0ccc46f9880962cc2b12065189766fbb2bee57a221866138fb9203c83519)\n",
      "100%|██████████| 1/1 [00:00<00:00, 499.92it/s]\n",
      "Loading cached split indices for dataset at cache\\csv\\default-3bee7e44262edb7f\\0.0.0\\433e0ccc46f9880962cc2b12065189766fbb2bee57a221866138fb9203c83519\\cache-96d0a5ba5e8fec42.arrow and cache\\csv\\default-3bee7e44262edb7f\\0.0.0\\433e0ccc46f9880962cc2b12065189766fbb2bee57a221866138fb9203c83519\\cache-1443283cf78ecd8c.arrow\n",
      "Loading cached split indices for dataset at cache\\csv\\default-3bee7e44262edb7f\\0.0.0\\433e0ccc46f9880962cc2b12065189766fbb2bee57a221866138fb9203c83519\\cache-fe15dac5f93d7344.arrow and cache\\csv\\default-3bee7e44262edb7f\\0.0.0\\433e0ccc46f9880962cc2b12065189766fbb2bee57a221866138fb9203c83519\\cache-c4745ad835a23735.arrow\n",
      "Loading cached processed dataset at cache\\csv\\default-3bee7e44262edb7f\\0.0.0\\433e0ccc46f9880962cc2b12065189766fbb2bee57a221866138fb9203c83519\\cache-52e19da7533330c8.arrow\n",
      "Loading cached processed dataset at cache\\csv\\default-3bee7e44262edb7f\\0.0.0\\433e0ccc46f9880962cc2b12065189766fbb2bee57a221866138fb9203c83519\\cache-979822d41ccd7a4a.arrow\n",
      "Loading cached processed dataset at cache\\csv\\default-3bee7e44262edb7f\\0.0.0\\433e0ccc46f9880962cc2b12065189766fbb2bee57a221866138fb9203c83519\\cache-d486cd416c29c441.arrow\n",
      "Loading cached shuffled indices for dataset at cache\\csv\\default-3bee7e44262edb7f\\0.0.0\\433e0ccc46f9880962cc2b12065189766fbb2bee57a221866138fb9203c83519\\cache-5061dd57662d5196.arrow\n"
     ]
    },
    {
     "name": "stdout",
     "output_type": "stream",
     "text": [
      "Creating predictions\n"
     ]
    },
    {
     "name": "stderr",
     "output_type": "stream",
     "text": [
      "100%|██████████| 10/10 [00:31<00:00,  3.17s/it]\n",
      "100%|██████████| 10/10 [00:00<00:00, 960.41it/s]\n",
      " 75%|███████▌  | 6/8 [03:05<01:06, 33.24s/it]All model checkpoint layers were used when initializing TFGPT2LMHeadModel.\n",
      "\n",
      "All the layers of TFGPT2LMHeadModel were initialized from the model checkpoint at ..\\Data\\Characters\\Joey\\joey_model.\n",
      "If your task is similar to the task the model of the checkpoint was trained on, you can already use TFGPT2LMHeadModel for predictions without further training.\n",
      "Using custom data configuration default-b81141adc87b87bf\n",
      "Reusing dataset csv (cache\\csv\\default-b81141adc87b87bf\\0.0.0\\433e0ccc46f9880962cc2b12065189766fbb2bee57a221866138fb9203c83519)\n",
      "100%|██████████| 1/1 [00:00<00:00, 499.44it/s]\n",
      "Loading cached split indices for dataset at cache\\csv\\default-b81141adc87b87bf\\0.0.0\\433e0ccc46f9880962cc2b12065189766fbb2bee57a221866138fb9203c83519\\cache-e2d3926d0ffd0fd3.arrow and cache\\csv\\default-b81141adc87b87bf\\0.0.0\\433e0ccc46f9880962cc2b12065189766fbb2bee57a221866138fb9203c83519\\cache-f888d4a055d9f5e2.arrow\n",
      "Loading cached split indices for dataset at cache\\csv\\default-b81141adc87b87bf\\0.0.0\\433e0ccc46f9880962cc2b12065189766fbb2bee57a221866138fb9203c83519\\cache-682a04a266efce80.arrow and cache\\csv\\default-b81141adc87b87bf\\0.0.0\\433e0ccc46f9880962cc2b12065189766fbb2bee57a221866138fb9203c83519\\cache-13fca5dad2d5247a.arrow\n",
      "Loading cached processed dataset at cache\\csv\\default-b81141adc87b87bf\\0.0.0\\433e0ccc46f9880962cc2b12065189766fbb2bee57a221866138fb9203c83519\\cache-7662390b0e4f3793.arrow\n",
      "Loading cached processed dataset at cache\\csv\\default-b81141adc87b87bf\\0.0.0\\433e0ccc46f9880962cc2b12065189766fbb2bee57a221866138fb9203c83519\\cache-4379f0323f83a3bd.arrow\n",
      "Loading cached processed dataset at cache\\csv\\default-b81141adc87b87bf\\0.0.0\\433e0ccc46f9880962cc2b12065189766fbb2bee57a221866138fb9203c83519\\cache-ff90937c11e9e756.arrow\n",
      "Loading cached shuffled indices for dataset at cache\\csv\\default-b81141adc87b87bf\\0.0.0\\433e0ccc46f9880962cc2b12065189766fbb2bee57a221866138fb9203c83519\\cache-881ed2c7d650f5ac.arrow\n"
     ]
    },
    {
     "name": "stdout",
     "output_type": "stream",
     "text": [
      "Creating predictions\n"
     ]
    },
    {
     "name": "stderr",
     "output_type": "stream",
     "text": [
      "100%|██████████| 10/10 [00:37<00:00,  3.76s/it]\n",
      "100%|██████████| 10/10 [00:00<00:00, 909.22it/s]\n",
      " 88%|████████▊ | 7/8 [03:47<00:36, 36.04s/it]All model checkpoint layers were used when initializing TFGPT2LMHeadModel.\n",
      "\n",
      "All the layers of TFGPT2LMHeadModel were initialized from the model checkpoint at ..\\Data\\Characters\\Phoebe\\phoebe_model.\n",
      "If your task is similar to the task the model of the checkpoint was trained on, you can already use TFGPT2LMHeadModel for predictions without further training.\n",
      "Using custom data configuration default-48cc5f719001fd3a\n",
      "Reusing dataset csv (cache\\csv\\default-48cc5f719001fd3a\\0.0.0\\433e0ccc46f9880962cc2b12065189766fbb2bee57a221866138fb9203c83519)\n",
      "100%|██████████| 1/1 [00:00<00:00, 492.58it/s]\n",
      "Loading cached split indices for dataset at cache\\csv\\default-48cc5f719001fd3a\\0.0.0\\433e0ccc46f9880962cc2b12065189766fbb2bee57a221866138fb9203c83519\\cache-16c140b5da191e7c.arrow and cache\\csv\\default-48cc5f719001fd3a\\0.0.0\\433e0ccc46f9880962cc2b12065189766fbb2bee57a221866138fb9203c83519\\cache-ed121df269d87298.arrow\n",
      "Loading cached split indices for dataset at cache\\csv\\default-48cc5f719001fd3a\\0.0.0\\433e0ccc46f9880962cc2b12065189766fbb2bee57a221866138fb9203c83519\\cache-f4f26cbce3ecb27c.arrow and cache\\csv\\default-48cc5f719001fd3a\\0.0.0\\433e0ccc46f9880962cc2b12065189766fbb2bee57a221866138fb9203c83519\\cache-186da54849d8ccad.arrow\n",
      "Loading cached processed dataset at cache\\csv\\default-48cc5f719001fd3a\\0.0.0\\433e0ccc46f9880962cc2b12065189766fbb2bee57a221866138fb9203c83519\\cache-7c5b176b39e0048e.arrow\n",
      "Loading cached processed dataset at cache\\csv\\default-48cc5f719001fd3a\\0.0.0\\433e0ccc46f9880962cc2b12065189766fbb2bee57a221866138fb9203c83519\\cache-5221c27b06394c28.arrow\n",
      "Loading cached processed dataset at cache\\csv\\default-48cc5f719001fd3a\\0.0.0\\433e0ccc46f9880962cc2b12065189766fbb2bee57a221866138fb9203c83519\\cache-20bada48da47c9c4.arrow\n",
      "Loading cached shuffled indices for dataset at cache\\csv\\default-48cc5f719001fd3a\\0.0.0\\433e0ccc46f9880962cc2b12065189766fbb2bee57a221866138fb9203c83519\\cache-1d4705c0ffbe174e.arrow\n"
     ]
    },
    {
     "name": "stdout",
     "output_type": "stream",
     "text": [
      "Creating predictions\n"
     ]
    },
    {
     "name": "stderr",
     "output_type": "stream",
     "text": [
      "100%|██████████| 10/10 [00:35<00:00,  3.59s/it]\n",
      "100%|██████████| 10/10 [00:00<00:00, 948.06it/s]\n",
      "100%|██████████| 8/8 [04:27<00:00, 33.39s/it]\n"
     ]
    },
    {
     "name": "stdout",
     "output_type": "stream",
     "text": [
      "Run 2/15\n"
     ]
    },
    {
     "name": "stderr",
     "output_type": "stream",
     "text": [
      "  0%|          | 0/8 [00:00<?, ?it/s]All model checkpoint layers were used when initializing TFGPT2LMHeadModel.\n",
      "\n",
      "All the layers of TFGPT2LMHeadModel were initialized from the model checkpoint at ..\\Data\\Characters\\Barney\\barney_model.\n",
      "If your task is similar to the task the model of the checkpoint was trained on, you can already use TFGPT2LMHeadModel for predictions without further training.\n",
      "Using custom data configuration default-d78476db32c8db98\n",
      "Reusing dataset csv (cache\\csv\\default-d78476db32c8db98\\0.0.0\\433e0ccc46f9880962cc2b12065189766fbb2bee57a221866138fb9203c83519)\n",
      "100%|██████████| 1/1 [00:00<00:00, 329.95it/s]\n",
      "Loading cached split indices for dataset at cache\\csv\\default-d78476db32c8db98\\0.0.0\\433e0ccc46f9880962cc2b12065189766fbb2bee57a221866138fb9203c83519\\cache-651037d43e5e3dbd.arrow and cache\\csv\\default-d78476db32c8db98\\0.0.0\\433e0ccc46f9880962cc2b12065189766fbb2bee57a221866138fb9203c83519\\cache-7e4903d85e508b43.arrow\n",
      "Loading cached split indices for dataset at cache\\csv\\default-d78476db32c8db98\\0.0.0\\433e0ccc46f9880962cc2b12065189766fbb2bee57a221866138fb9203c83519\\cache-1b018c4ce0c1ed8c.arrow and cache\\csv\\default-d78476db32c8db98\\0.0.0\\433e0ccc46f9880962cc2b12065189766fbb2bee57a221866138fb9203c83519\\cache-2cfa4b0ef22c9ad5.arrow\n",
      "Loading cached processed dataset at cache\\csv\\default-d78476db32c8db98\\0.0.0\\433e0ccc46f9880962cc2b12065189766fbb2bee57a221866138fb9203c83519\\cache-89f9b92b2a083af0.arrow\n",
      "Loading cached processed dataset at cache\\csv\\default-d78476db32c8db98\\0.0.0\\433e0ccc46f9880962cc2b12065189766fbb2bee57a221866138fb9203c83519\\cache-f26a814e4e6d10fc.arrow\n",
      "Loading cached processed dataset at cache\\csv\\default-d78476db32c8db98\\0.0.0\\433e0ccc46f9880962cc2b12065189766fbb2bee57a221866138fb9203c83519\\cache-6655d46d8a0182ef.arrow\n",
      "Loading cached shuffled indices for dataset at cache\\csv\\default-d78476db32c8db98\\0.0.0\\433e0ccc46f9880962cc2b12065189766fbb2bee57a221866138fb9203c83519\\cache-b0ddd597589321af.arrow\n"
     ]
    },
    {
     "name": "stdout",
     "output_type": "stream",
     "text": [
      "Creating predictions\n"
     ]
    },
    {
     "name": "stderr",
     "output_type": "stream",
     "text": [
      "100%|██████████| 10/10 [00:22<00:00,  2.26s/it]\n",
      "100%|██████████| 10/10 [00:00<00:00, 908.78it/s]\n",
      " 12%|█▎        | 1/8 [00:26<03:05, 26.50s/it]All model checkpoint layers were used when initializing TFGPT2LMHeadModel.\n",
      "\n",
      "All the layers of TFGPT2LMHeadModel were initialized from the model checkpoint at ..\\Data\\Characters\\Sheldon\\sheldon_model.\n",
      "If your task is similar to the task the model of the checkpoint was trained on, you can already use TFGPT2LMHeadModel for predictions without further training.\n",
      "Using custom data configuration default-8207271dc09e0a46\n",
      "Reusing dataset csv (cache\\csv\\default-8207271dc09e0a46\\0.0.0\\433e0ccc46f9880962cc2b12065189766fbb2bee57a221866138fb9203c83519)\n",
      "100%|██████████| 1/1 [00:00<00:00, 492.12it/s]\n",
      "Loading cached split indices for dataset at cache\\csv\\default-8207271dc09e0a46\\0.0.0\\433e0ccc46f9880962cc2b12065189766fbb2bee57a221866138fb9203c83519\\cache-46b6cd7566c1d243.arrow and cache\\csv\\default-8207271dc09e0a46\\0.0.0\\433e0ccc46f9880962cc2b12065189766fbb2bee57a221866138fb9203c83519\\cache-e3e40e36f25dded7.arrow\n",
      "Loading cached split indices for dataset at cache\\csv\\default-8207271dc09e0a46\\0.0.0\\433e0ccc46f9880962cc2b12065189766fbb2bee57a221866138fb9203c83519\\cache-1774625d7360210c.arrow and cache\\csv\\default-8207271dc09e0a46\\0.0.0\\433e0ccc46f9880962cc2b12065189766fbb2bee57a221866138fb9203c83519\\cache-ad5b734370182aae.arrow\n",
      "Loading cached processed dataset at cache\\csv\\default-8207271dc09e0a46\\0.0.0\\433e0ccc46f9880962cc2b12065189766fbb2bee57a221866138fb9203c83519\\cache-fed8798d874c65dd.arrow\n",
      "Loading cached processed dataset at cache\\csv\\default-8207271dc09e0a46\\0.0.0\\433e0ccc46f9880962cc2b12065189766fbb2bee57a221866138fb9203c83519\\cache-632156930e5bea85.arrow\n",
      "Loading cached processed dataset at cache\\csv\\default-8207271dc09e0a46\\0.0.0\\433e0ccc46f9880962cc2b12065189766fbb2bee57a221866138fb9203c83519\\cache-448ecc7a6afdd007.arrow\n",
      "Loading cached shuffled indices for dataset at cache\\csv\\default-8207271dc09e0a46\\0.0.0\\433e0ccc46f9880962cc2b12065189766fbb2bee57a221866138fb9203c83519\\cache-44200aae20815359.arrow\n"
     ]
    },
    {
     "name": "stdout",
     "output_type": "stream",
     "text": [
      "Creating predictions\n"
     ]
    },
    {
     "name": "stderr",
     "output_type": "stream",
     "text": [
      "100%|██████████| 10/10 [00:29<00:00,  2.98s/it]\n",
      "100%|██████████| 10/10 [00:00<00:00, 1000.24it/s]\n",
      " 25%|██▌       | 2/8 [01:00<03:04, 30.75s/it]All model checkpoint layers were used when initializing TFGPT2LMHeadModel.\n",
      "\n",
      "All the layers of TFGPT2LMHeadModel were initialized from the model checkpoint at ..\\Data\\Characters\\Harry\\harry_model.\n",
      "If your task is similar to the task the model of the checkpoint was trained on, you can already use TFGPT2LMHeadModel for predictions without further training.\n",
      "Using custom data configuration default-5e8064f57286033a\n",
      "Reusing dataset csv (cache\\csv\\default-5e8064f57286033a\\0.0.0\\433e0ccc46f9880962cc2b12065189766fbb2bee57a221866138fb9203c83519)\n",
      "100%|██████████| 1/1 [00:00<00:00, 333.33it/s]\n",
      "Loading cached split indices for dataset at cache\\csv\\default-5e8064f57286033a\\0.0.0\\433e0ccc46f9880962cc2b12065189766fbb2bee57a221866138fb9203c83519\\cache-2b86c587abd47c66.arrow and cache\\csv\\default-5e8064f57286033a\\0.0.0\\433e0ccc46f9880962cc2b12065189766fbb2bee57a221866138fb9203c83519\\cache-8919d70a4bf80eed.arrow\n",
      "Loading cached split indices for dataset at cache\\csv\\default-5e8064f57286033a\\0.0.0\\433e0ccc46f9880962cc2b12065189766fbb2bee57a221866138fb9203c83519\\cache-4099b79485c950ea.arrow and cache\\csv\\default-5e8064f57286033a\\0.0.0\\433e0ccc46f9880962cc2b12065189766fbb2bee57a221866138fb9203c83519\\cache-cecb46b03995ab9b.arrow\n",
      "Loading cached processed dataset at cache\\csv\\default-5e8064f57286033a\\0.0.0\\433e0ccc46f9880962cc2b12065189766fbb2bee57a221866138fb9203c83519\\cache-e80578e3b4f7f025.arrow\n",
      "Loading cached processed dataset at cache\\csv\\default-5e8064f57286033a\\0.0.0\\433e0ccc46f9880962cc2b12065189766fbb2bee57a221866138fb9203c83519\\cache-45cad4fe25e5526e.arrow\n",
      "Loading cached processed dataset at cache\\csv\\default-5e8064f57286033a\\0.0.0\\433e0ccc46f9880962cc2b12065189766fbb2bee57a221866138fb9203c83519\\cache-937d1b7b6a0a1add.arrow\n",
      "Loading cached shuffled indices for dataset at cache\\csv\\default-5e8064f57286033a\\0.0.0\\433e0ccc46f9880962cc2b12065189766fbb2bee57a221866138fb9203c83519\\cache-1961250b1edbce64.arrow\n"
     ]
    },
    {
     "name": "stdout",
     "output_type": "stream",
     "text": [
      "Creating predictions\n"
     ]
    },
    {
     "name": "stderr",
     "output_type": "stream",
     "text": [
      "100%|██████████| 10/10 [00:19<00:00,  1.95s/it]\n",
      "100%|██████████| 10/10 [00:00<00:00, 769.12it/s]\n",
      " 38%|███▊      | 3/8 [01:23<02:17, 27.49s/it]All model checkpoint layers were used when initializing TFGPT2LMHeadModel.\n",
      "\n",
      "All the layers of TFGPT2LMHeadModel were initialized from the model checkpoint at ..\\Data\\Characters\\Fry\\fry_model.\n",
      "If your task is similar to the task the model of the checkpoint was trained on, you can already use TFGPT2LMHeadModel for predictions without further training.\n",
      "Using custom data configuration default-b35448ec5dd887ec\n",
      "Reusing dataset csv (cache\\csv\\default-b35448ec5dd887ec\\0.0.0\\433e0ccc46f9880962cc2b12065189766fbb2bee57a221866138fb9203c83519)\n",
      "100%|██████████| 1/1 [00:00<00:00, 333.36it/s]\n",
      "Loading cached split indices for dataset at cache\\csv\\default-b35448ec5dd887ec\\0.0.0\\433e0ccc46f9880962cc2b12065189766fbb2bee57a221866138fb9203c83519\\cache-667383473c444f25.arrow and cache\\csv\\default-b35448ec5dd887ec\\0.0.0\\433e0ccc46f9880962cc2b12065189766fbb2bee57a221866138fb9203c83519\\cache-c520a8a264854da4.arrow\n",
      "Loading cached split indices for dataset at cache\\csv\\default-b35448ec5dd887ec\\0.0.0\\433e0ccc46f9880962cc2b12065189766fbb2bee57a221866138fb9203c83519\\cache-b072a26900059a04.arrow and cache\\csv\\default-b35448ec5dd887ec\\0.0.0\\433e0ccc46f9880962cc2b12065189766fbb2bee57a221866138fb9203c83519\\cache-885672efcb78500c.arrow\n",
      "Loading cached processed dataset at cache\\csv\\default-b35448ec5dd887ec\\0.0.0\\433e0ccc46f9880962cc2b12065189766fbb2bee57a221866138fb9203c83519\\cache-f2119e5a34f2eb76.arrow\n",
      "Loading cached processed dataset at cache\\csv\\default-b35448ec5dd887ec\\0.0.0\\433e0ccc46f9880962cc2b12065189766fbb2bee57a221866138fb9203c83519\\cache-cb34da498e1e68ed.arrow\n",
      "Loading cached processed dataset at cache\\csv\\default-b35448ec5dd887ec\\0.0.0\\433e0ccc46f9880962cc2b12065189766fbb2bee57a221866138fb9203c83519\\cache-3b065f584f7e66c9.arrow\n",
      "Loading cached shuffled indices for dataset at cache\\csv\\default-b35448ec5dd887ec\\0.0.0\\433e0ccc46f9880962cc2b12065189766fbb2bee57a221866138fb9203c83519\\cache-9012223f14afe1d0.arrow\n"
     ]
    },
    {
     "name": "stdout",
     "output_type": "stream",
     "text": [
      "Creating predictions\n"
     ]
    },
    {
     "name": "stderr",
     "output_type": "stream",
     "text": [
      "100%|██████████| 10/10 [00:28<00:00,  2.80s/it]\n",
      "100%|██████████| 10/10 [00:00<00:00, 1106.97it/s]\n",
      " 50%|█████     | 4/8 [01:55<01:57, 29.32s/it]All model checkpoint layers were used when initializing TFGPT2LMHeadModel.\n",
      "\n",
      "All the layers of TFGPT2LMHeadModel were initialized from the model checkpoint at ..\\Data\\Characters\\Bender\\bender_model.\n",
      "If your task is similar to the task the model of the checkpoint was trained on, you can already use TFGPT2LMHeadModel for predictions without further training.\n",
      "Using custom data configuration default-2a0884da2a86facc\n",
      "Reusing dataset csv (cache\\csv\\default-2a0884da2a86facc\\0.0.0\\433e0ccc46f9880962cc2b12065189766fbb2bee57a221866138fb9203c83519)\n",
      "100%|██████████| 1/1 [00:00<00:00, 498.73it/s]\n",
      "Loading cached split indices for dataset at cache\\csv\\default-2a0884da2a86facc\\0.0.0\\433e0ccc46f9880962cc2b12065189766fbb2bee57a221866138fb9203c83519\\cache-4c59c8594ee83881.arrow and cache\\csv\\default-2a0884da2a86facc\\0.0.0\\433e0ccc46f9880962cc2b12065189766fbb2bee57a221866138fb9203c83519\\cache-979ea9e674132025.arrow\n",
      "Loading cached split indices for dataset at cache\\csv\\default-2a0884da2a86facc\\0.0.0\\433e0ccc46f9880962cc2b12065189766fbb2bee57a221866138fb9203c83519\\cache-2cdb39c47142be86.arrow and cache\\csv\\default-2a0884da2a86facc\\0.0.0\\433e0ccc46f9880962cc2b12065189766fbb2bee57a221866138fb9203c83519\\cache-4b32be2eacb5d552.arrow\n",
      "Loading cached processed dataset at cache\\csv\\default-2a0884da2a86facc\\0.0.0\\433e0ccc46f9880962cc2b12065189766fbb2bee57a221866138fb9203c83519\\cache-6647fe37f40ed616.arrow\n",
      "Loading cached processed dataset at cache\\csv\\default-2a0884da2a86facc\\0.0.0\\433e0ccc46f9880962cc2b12065189766fbb2bee57a221866138fb9203c83519\\cache-98b2463bec0fd009.arrow\n",
      "Loading cached processed dataset at cache\\csv\\default-2a0884da2a86facc\\0.0.0\\433e0ccc46f9880962cc2b12065189766fbb2bee57a221866138fb9203c83519\\cache-015ae8852bcf3fa4.arrow\n",
      "Loading cached shuffled indices for dataset at cache\\csv\\default-2a0884da2a86facc\\0.0.0\\433e0ccc46f9880962cc2b12065189766fbb2bee57a221866138fb9203c83519\\cache-eefdc5e3fbc3d2c1.arrow\n"
     ]
    },
    {
     "name": "stdout",
     "output_type": "stream",
     "text": [
      "Creating predictions\n"
     ]
    },
    {
     "name": "stderr",
     "output_type": "stream",
     "text": [
      "100%|██████████| 10/10 [00:20<00:00,  2.05s/it]\n",
      "100%|██████████| 10/10 [00:00<00:00, 996.96it/s]\n",
      " 62%|██████▎   | 5/8 [02:20<01:22, 27.55s/it]All model checkpoint layers were used when initializing TFGPT2LMHeadModel.\n",
      "\n",
      "All the layers of TFGPT2LMHeadModel were initialized from the model checkpoint at ..\\Data\\Characters\\Vader\\vader_model.\n",
      "If your task is similar to the task the model of the checkpoint was trained on, you can already use TFGPT2LMHeadModel for predictions without further training.\n",
      "Using custom data configuration default-3bee7e44262edb7f\n",
      "Reusing dataset csv (cache\\csv\\default-3bee7e44262edb7f\\0.0.0\\433e0ccc46f9880962cc2b12065189766fbb2bee57a221866138fb9203c83519)\n",
      "100%|██████████| 1/1 [00:00<00:00, 333.68it/s]\n",
      "Loading cached split indices for dataset at cache\\csv\\default-3bee7e44262edb7f\\0.0.0\\433e0ccc46f9880962cc2b12065189766fbb2bee57a221866138fb9203c83519\\cache-96d0a5ba5e8fec42.arrow and cache\\csv\\default-3bee7e44262edb7f\\0.0.0\\433e0ccc46f9880962cc2b12065189766fbb2bee57a221866138fb9203c83519\\cache-1443283cf78ecd8c.arrow\n",
      "Loading cached split indices for dataset at cache\\csv\\default-3bee7e44262edb7f\\0.0.0\\433e0ccc46f9880962cc2b12065189766fbb2bee57a221866138fb9203c83519\\cache-fe15dac5f93d7344.arrow and cache\\csv\\default-3bee7e44262edb7f\\0.0.0\\433e0ccc46f9880962cc2b12065189766fbb2bee57a221866138fb9203c83519\\cache-c4745ad835a23735.arrow\n",
      "Loading cached processed dataset at cache\\csv\\default-3bee7e44262edb7f\\0.0.0\\433e0ccc46f9880962cc2b12065189766fbb2bee57a221866138fb9203c83519\\cache-52e19da7533330c8.arrow\n",
      "Loading cached processed dataset at cache\\csv\\default-3bee7e44262edb7f\\0.0.0\\433e0ccc46f9880962cc2b12065189766fbb2bee57a221866138fb9203c83519\\cache-979822d41ccd7a4a.arrow\n",
      "Loading cached processed dataset at cache\\csv\\default-3bee7e44262edb7f\\0.0.0\\433e0ccc46f9880962cc2b12065189766fbb2bee57a221866138fb9203c83519\\cache-d486cd416c29c441.arrow\n",
      "Loading cached shuffled indices for dataset at cache\\csv\\default-3bee7e44262edb7f\\0.0.0\\433e0ccc46f9880962cc2b12065189766fbb2bee57a221866138fb9203c83519\\cache-5061dd57662d5196.arrow\n"
     ]
    },
    {
     "name": "stdout",
     "output_type": "stream",
     "text": [
      "Creating predictions\n"
     ]
    },
    {
     "name": "stderr",
     "output_type": "stream",
     "text": [
      "100%|██████████| 10/10 [00:28<00:00,  2.82s/it]\n",
      "100%|██████████| 10/10 [00:00<00:00, 996.56it/s]\n",
      " 75%|███████▌  | 6/8 [02:52<00:58, 29.17s/it]All model checkpoint layers were used when initializing TFGPT2LMHeadModel.\n",
      "\n",
      "All the layers of TFGPT2LMHeadModel were initialized from the model checkpoint at ..\\Data\\Characters\\Joey\\joey_model.\n",
      "If your task is similar to the task the model of the checkpoint was trained on, you can already use TFGPT2LMHeadModel for predictions without further training.\n",
      "Using custom data configuration default-b81141adc87b87bf\n",
      "Reusing dataset csv (cache\\csv\\default-b81141adc87b87bf\\0.0.0\\433e0ccc46f9880962cc2b12065189766fbb2bee57a221866138fb9203c83519)\n",
      "100%|██████████| 1/1 [00:00<00:00, 493.80it/s]\n",
      "Loading cached split indices for dataset at cache\\csv\\default-b81141adc87b87bf\\0.0.0\\433e0ccc46f9880962cc2b12065189766fbb2bee57a221866138fb9203c83519\\cache-e2d3926d0ffd0fd3.arrow and cache\\csv\\default-b81141adc87b87bf\\0.0.0\\433e0ccc46f9880962cc2b12065189766fbb2bee57a221866138fb9203c83519\\cache-f888d4a055d9f5e2.arrow\n",
      "Loading cached split indices for dataset at cache\\csv\\default-b81141adc87b87bf\\0.0.0\\433e0ccc46f9880962cc2b12065189766fbb2bee57a221866138fb9203c83519\\cache-682a04a266efce80.arrow and cache\\csv\\default-b81141adc87b87bf\\0.0.0\\433e0ccc46f9880962cc2b12065189766fbb2bee57a221866138fb9203c83519\\cache-13fca5dad2d5247a.arrow\n",
      "Loading cached processed dataset at cache\\csv\\default-b81141adc87b87bf\\0.0.0\\433e0ccc46f9880962cc2b12065189766fbb2bee57a221866138fb9203c83519\\cache-7662390b0e4f3793.arrow\n",
      "Loading cached processed dataset at cache\\csv\\default-b81141adc87b87bf\\0.0.0\\433e0ccc46f9880962cc2b12065189766fbb2bee57a221866138fb9203c83519\\cache-4379f0323f83a3bd.arrow\n",
      "Loading cached processed dataset at cache\\csv\\default-b81141adc87b87bf\\0.0.0\\433e0ccc46f9880962cc2b12065189766fbb2bee57a221866138fb9203c83519\\cache-ff90937c11e9e756.arrow\n",
      "Loading cached shuffled indices for dataset at cache\\csv\\default-b81141adc87b87bf\\0.0.0\\433e0ccc46f9880962cc2b12065189766fbb2bee57a221866138fb9203c83519\\cache-881ed2c7d650f5ac.arrow\n"
     ]
    },
    {
     "name": "stdout",
     "output_type": "stream",
     "text": [
      "Creating predictions\n"
     ]
    },
    {
     "name": "stderr",
     "output_type": "stream",
     "text": [
      "100%|██████████| 10/10 [00:35<00:00,  3.58s/it]\n",
      "100%|██████████| 10/10 [00:00<00:00, 993.18it/s]\n",
      " 88%|████████▊ | 7/8 [03:32<00:32, 32.69s/it]All model checkpoint layers were used when initializing TFGPT2LMHeadModel.\n",
      "\n",
      "All the layers of TFGPT2LMHeadModel were initialized from the model checkpoint at ..\\Data\\Characters\\Phoebe\\phoebe_model.\n",
      "If your task is similar to the task the model of the checkpoint was trained on, you can already use TFGPT2LMHeadModel for predictions without further training.\n",
      "Using custom data configuration default-48cc5f719001fd3a\n",
      "Reusing dataset csv (cache\\csv\\default-48cc5f719001fd3a\\0.0.0\\433e0ccc46f9880962cc2b12065189766fbb2bee57a221866138fb9203c83519)\n",
      "100%|██████████| 1/1 [00:00<00:00, 491.48it/s]\n",
      "Loading cached split indices for dataset at cache\\csv\\default-48cc5f719001fd3a\\0.0.0\\433e0ccc46f9880962cc2b12065189766fbb2bee57a221866138fb9203c83519\\cache-16c140b5da191e7c.arrow and cache\\csv\\default-48cc5f719001fd3a\\0.0.0\\433e0ccc46f9880962cc2b12065189766fbb2bee57a221866138fb9203c83519\\cache-ed121df269d87298.arrow\n",
      "Loading cached split indices for dataset at cache\\csv\\default-48cc5f719001fd3a\\0.0.0\\433e0ccc46f9880962cc2b12065189766fbb2bee57a221866138fb9203c83519\\cache-f4f26cbce3ecb27c.arrow and cache\\csv\\default-48cc5f719001fd3a\\0.0.0\\433e0ccc46f9880962cc2b12065189766fbb2bee57a221866138fb9203c83519\\cache-186da54849d8ccad.arrow\n",
      "Loading cached processed dataset at cache\\csv\\default-48cc5f719001fd3a\\0.0.0\\433e0ccc46f9880962cc2b12065189766fbb2bee57a221866138fb9203c83519\\cache-7c5b176b39e0048e.arrow\n",
      "Loading cached processed dataset at cache\\csv\\default-48cc5f719001fd3a\\0.0.0\\433e0ccc46f9880962cc2b12065189766fbb2bee57a221866138fb9203c83519\\cache-5221c27b06394c28.arrow\n",
      "Loading cached processed dataset at cache\\csv\\default-48cc5f719001fd3a\\0.0.0\\433e0ccc46f9880962cc2b12065189766fbb2bee57a221866138fb9203c83519\\cache-20bada48da47c9c4.arrow\n",
      "Loading cached shuffled indices for dataset at cache\\csv\\default-48cc5f719001fd3a\\0.0.0\\433e0ccc46f9880962cc2b12065189766fbb2bee57a221866138fb9203c83519\\cache-1d4705c0ffbe174e.arrow\n"
     ]
    },
    {
     "name": "stdout",
     "output_type": "stream",
     "text": [
      "Creating predictions\n"
     ]
    },
    {
     "name": "stderr",
     "output_type": "stream",
     "text": [
      "100%|██████████| 10/10 [00:31<00:00,  3.12s/it]\n",
      "100%|██████████| 10/10 [00:00<00:00, 908.86it/s]\n",
      "100%|██████████| 8/8 [04:08<00:00, 31.05s/it]\n"
     ]
    },
    {
     "name": "stdout",
     "output_type": "stream",
     "text": [
      "Run 3/15\n"
     ]
    },
    {
     "name": "stderr",
     "output_type": "stream",
     "text": [
      "  0%|          | 0/8 [00:00<?, ?it/s]All model checkpoint layers were used when initializing TFGPT2LMHeadModel.\n",
      "\n",
      "All the layers of TFGPT2LMHeadModel were initialized from the model checkpoint at ..\\Data\\Characters\\Barney\\barney_model.\n",
      "If your task is similar to the task the model of the checkpoint was trained on, you can already use TFGPT2LMHeadModel for predictions without further training.\n",
      "Using custom data configuration default-d78476db32c8db98\n",
      "Reusing dataset csv (cache\\csv\\default-d78476db32c8db98\\0.0.0\\433e0ccc46f9880962cc2b12065189766fbb2bee57a221866138fb9203c83519)\n",
      "100%|██████████| 1/1 [00:00<00:00, 492.46it/s]\n",
      "Loading cached split indices for dataset at cache\\csv\\default-d78476db32c8db98\\0.0.0\\433e0ccc46f9880962cc2b12065189766fbb2bee57a221866138fb9203c83519\\cache-651037d43e5e3dbd.arrow and cache\\csv\\default-d78476db32c8db98\\0.0.0\\433e0ccc46f9880962cc2b12065189766fbb2bee57a221866138fb9203c83519\\cache-7e4903d85e508b43.arrow\n",
      "Loading cached split indices for dataset at cache\\csv\\default-d78476db32c8db98\\0.0.0\\433e0ccc46f9880962cc2b12065189766fbb2bee57a221866138fb9203c83519\\cache-1b018c4ce0c1ed8c.arrow and cache\\csv\\default-d78476db32c8db98\\0.0.0\\433e0ccc46f9880962cc2b12065189766fbb2bee57a221866138fb9203c83519\\cache-2cfa4b0ef22c9ad5.arrow\n",
      "Loading cached processed dataset at cache\\csv\\default-d78476db32c8db98\\0.0.0\\433e0ccc46f9880962cc2b12065189766fbb2bee57a221866138fb9203c83519\\cache-89f9b92b2a083af0.arrow\n",
      "Loading cached processed dataset at cache\\csv\\default-d78476db32c8db98\\0.0.0\\433e0ccc46f9880962cc2b12065189766fbb2bee57a221866138fb9203c83519\\cache-f26a814e4e6d10fc.arrow\n",
      "Loading cached processed dataset at cache\\csv\\default-d78476db32c8db98\\0.0.0\\433e0ccc46f9880962cc2b12065189766fbb2bee57a221866138fb9203c83519\\cache-6655d46d8a0182ef.arrow\n",
      "Loading cached shuffled indices for dataset at cache\\csv\\default-d78476db32c8db98\\0.0.0\\433e0ccc46f9880962cc2b12065189766fbb2bee57a221866138fb9203c83519\\cache-b0ddd597589321af.arrow\n"
     ]
    },
    {
     "name": "stdout",
     "output_type": "stream",
     "text": [
      "Creating predictions\n"
     ]
    },
    {
     "name": "stderr",
     "output_type": "stream",
     "text": [
      "100%|██████████| 10/10 [00:24<00:00,  2.43s/it]\n",
      "100%|██████████| 10/10 [00:00<00:00, 1111.81it/s]\n",
      " 12%|█▎        | 1/8 [00:28<03:17, 28.22s/it]All model checkpoint layers were used when initializing TFGPT2LMHeadModel.\n",
      "\n",
      "All the layers of TFGPT2LMHeadModel were initialized from the model checkpoint at ..\\Data\\Characters\\Sheldon\\sheldon_model.\n",
      "If your task is similar to the task the model of the checkpoint was trained on, you can already use TFGPT2LMHeadModel for predictions without further training.\n",
      "Using custom data configuration default-8207271dc09e0a46\n",
      "Reusing dataset csv (cache\\csv\\default-8207271dc09e0a46\\0.0.0\\433e0ccc46f9880962cc2b12065189766fbb2bee57a221866138fb9203c83519)\n",
      "100%|██████████| 1/1 [00:00<00:00, 492.64it/s]\n",
      "Loading cached split indices for dataset at cache\\csv\\default-8207271dc09e0a46\\0.0.0\\433e0ccc46f9880962cc2b12065189766fbb2bee57a221866138fb9203c83519\\cache-46b6cd7566c1d243.arrow and cache\\csv\\default-8207271dc09e0a46\\0.0.0\\433e0ccc46f9880962cc2b12065189766fbb2bee57a221866138fb9203c83519\\cache-e3e40e36f25dded7.arrow\n",
      "Loading cached split indices for dataset at cache\\csv\\default-8207271dc09e0a46\\0.0.0\\433e0ccc46f9880962cc2b12065189766fbb2bee57a221866138fb9203c83519\\cache-1774625d7360210c.arrow and cache\\csv\\default-8207271dc09e0a46\\0.0.0\\433e0ccc46f9880962cc2b12065189766fbb2bee57a221866138fb9203c83519\\cache-ad5b734370182aae.arrow\n",
      "Loading cached processed dataset at cache\\csv\\default-8207271dc09e0a46\\0.0.0\\433e0ccc46f9880962cc2b12065189766fbb2bee57a221866138fb9203c83519\\cache-fed8798d874c65dd.arrow\n",
      "Loading cached processed dataset at cache\\csv\\default-8207271dc09e0a46\\0.0.0\\433e0ccc46f9880962cc2b12065189766fbb2bee57a221866138fb9203c83519\\cache-632156930e5bea85.arrow\n",
      "Loading cached processed dataset at cache\\csv\\default-8207271dc09e0a46\\0.0.0\\433e0ccc46f9880962cc2b12065189766fbb2bee57a221866138fb9203c83519\\cache-448ecc7a6afdd007.arrow\n",
      "Loading cached shuffled indices for dataset at cache\\csv\\default-8207271dc09e0a46\\0.0.0\\433e0ccc46f9880962cc2b12065189766fbb2bee57a221866138fb9203c83519\\cache-44200aae20815359.arrow\n"
     ]
    },
    {
     "name": "stdout",
     "output_type": "stream",
     "text": [
      "Creating predictions\n"
     ]
    },
    {
     "name": "stderr",
     "output_type": "stream",
     "text": [
      "100%|██████████| 10/10 [00:38<00:00,  3.87s/it]\n",
      "100%|██████████| 10/10 [00:00<00:00, 833.54it/s]\n",
      " 25%|██▌       | 2/8 [01:10<03:39, 36.60s/it]All model checkpoint layers were used when initializing TFGPT2LMHeadModel.\n",
      "\n",
      "All the layers of TFGPT2LMHeadModel were initialized from the model checkpoint at ..\\Data\\Characters\\Harry\\harry_model.\n",
      "If your task is similar to the task the model of the checkpoint was trained on, you can already use TFGPT2LMHeadModel for predictions without further training.\n",
      "Using custom data configuration default-5e8064f57286033a\n",
      "Reusing dataset csv (cache\\csv\\default-5e8064f57286033a\\0.0.0\\433e0ccc46f9880962cc2b12065189766fbb2bee57a221866138fb9203c83519)\n",
      "100%|██████████| 1/1 [00:00<00:00, 500.22it/s]\n",
      "Loading cached split indices for dataset at cache\\csv\\default-5e8064f57286033a\\0.0.0\\433e0ccc46f9880962cc2b12065189766fbb2bee57a221866138fb9203c83519\\cache-2b86c587abd47c66.arrow and cache\\csv\\default-5e8064f57286033a\\0.0.0\\433e0ccc46f9880962cc2b12065189766fbb2bee57a221866138fb9203c83519\\cache-8919d70a4bf80eed.arrow\n",
      "Loading cached split indices for dataset at cache\\csv\\default-5e8064f57286033a\\0.0.0\\433e0ccc46f9880962cc2b12065189766fbb2bee57a221866138fb9203c83519\\cache-4099b79485c950ea.arrow and cache\\csv\\default-5e8064f57286033a\\0.0.0\\433e0ccc46f9880962cc2b12065189766fbb2bee57a221866138fb9203c83519\\cache-cecb46b03995ab9b.arrow\n",
      "Loading cached processed dataset at cache\\csv\\default-5e8064f57286033a\\0.0.0\\433e0ccc46f9880962cc2b12065189766fbb2bee57a221866138fb9203c83519\\cache-e80578e3b4f7f025.arrow\n",
      "Loading cached processed dataset at cache\\csv\\default-5e8064f57286033a\\0.0.0\\433e0ccc46f9880962cc2b12065189766fbb2bee57a221866138fb9203c83519\\cache-45cad4fe25e5526e.arrow\n",
      "Loading cached processed dataset at cache\\csv\\default-5e8064f57286033a\\0.0.0\\433e0ccc46f9880962cc2b12065189766fbb2bee57a221866138fb9203c83519\\cache-937d1b7b6a0a1add.arrow\n",
      "Loading cached shuffled indices for dataset at cache\\csv\\default-5e8064f57286033a\\0.0.0\\433e0ccc46f9880962cc2b12065189766fbb2bee57a221866138fb9203c83519\\cache-1961250b1edbce64.arrow\n"
     ]
    },
    {
     "name": "stdout",
     "output_type": "stream",
     "text": [
      "Creating predictions\n"
     ]
    },
    {
     "name": "stderr",
     "output_type": "stream",
     "text": [
      "100%|██████████| 10/10 [00:17<00:00,  1.79s/it]\n",
      "100%|██████████| 10/10 [00:00<00:00, 1106.53it/s]\n",
      " 38%|███▊      | 3/8 [01:32<02:28, 29.75s/it]All model checkpoint layers were used when initializing TFGPT2LMHeadModel.\n",
      "\n",
      "All the layers of TFGPT2LMHeadModel were initialized from the model checkpoint at ..\\Data\\Characters\\Fry\\fry_model.\n",
      "If your task is similar to the task the model of the checkpoint was trained on, you can already use TFGPT2LMHeadModel for predictions without further training.\n",
      "Using custom data configuration default-b35448ec5dd887ec\n",
      "Reusing dataset csv (cache\\csv\\default-b35448ec5dd887ec\\0.0.0\\433e0ccc46f9880962cc2b12065189766fbb2bee57a221866138fb9203c83519)\n",
      "100%|██████████| 1/1 [00:00<00:00, 330.44it/s]\n",
      "Loading cached split indices for dataset at cache\\csv\\default-b35448ec5dd887ec\\0.0.0\\433e0ccc46f9880962cc2b12065189766fbb2bee57a221866138fb9203c83519\\cache-667383473c444f25.arrow and cache\\csv\\default-b35448ec5dd887ec\\0.0.0\\433e0ccc46f9880962cc2b12065189766fbb2bee57a221866138fb9203c83519\\cache-c520a8a264854da4.arrow\n",
      "Loading cached split indices for dataset at cache\\csv\\default-b35448ec5dd887ec\\0.0.0\\433e0ccc46f9880962cc2b12065189766fbb2bee57a221866138fb9203c83519\\cache-b072a26900059a04.arrow and cache\\csv\\default-b35448ec5dd887ec\\0.0.0\\433e0ccc46f9880962cc2b12065189766fbb2bee57a221866138fb9203c83519\\cache-885672efcb78500c.arrow\n",
      "Loading cached processed dataset at cache\\csv\\default-b35448ec5dd887ec\\0.0.0\\433e0ccc46f9880962cc2b12065189766fbb2bee57a221866138fb9203c83519\\cache-f2119e5a34f2eb76.arrow\n",
      "Loading cached processed dataset at cache\\csv\\default-b35448ec5dd887ec\\0.0.0\\433e0ccc46f9880962cc2b12065189766fbb2bee57a221866138fb9203c83519\\cache-cb34da498e1e68ed.arrow\n",
      "Loading cached processed dataset at cache\\csv\\default-b35448ec5dd887ec\\0.0.0\\433e0ccc46f9880962cc2b12065189766fbb2bee57a221866138fb9203c83519\\cache-3b065f584f7e66c9.arrow\n",
      "Loading cached shuffled indices for dataset at cache\\csv\\default-b35448ec5dd887ec\\0.0.0\\433e0ccc46f9880962cc2b12065189766fbb2bee57a221866138fb9203c83519\\cache-9012223f14afe1d0.arrow\n"
     ]
    },
    {
     "name": "stdout",
     "output_type": "stream",
     "text": [
      "Creating predictions\n"
     ]
    },
    {
     "name": "stderr",
     "output_type": "stream",
     "text": [
      "100%|██████████| 10/10 [00:19<00:00,  1.99s/it]\n",
      "100%|██████████| 10/10 [00:00<00:00, 1111.37it/s]\n",
      " 50%|█████     | 4/8 [01:55<01:48, 27.23s/it]All model checkpoint layers were used when initializing TFGPT2LMHeadModel.\n",
      "\n",
      "All the layers of TFGPT2LMHeadModel were initialized from the model checkpoint at ..\\Data\\Characters\\Bender\\bender_model.\n",
      "If your task is similar to the task the model of the checkpoint was trained on, you can already use TFGPT2LMHeadModel for predictions without further training.\n",
      "Using custom data configuration default-2a0884da2a86facc\n",
      "Reusing dataset csv (cache\\csv\\default-2a0884da2a86facc\\0.0.0\\433e0ccc46f9880962cc2b12065189766fbb2bee57a221866138fb9203c83519)\n",
      "100%|██████████| 1/1 [00:00<00:00, 333.17it/s]\n",
      "Loading cached split indices for dataset at cache\\csv\\default-2a0884da2a86facc\\0.0.0\\433e0ccc46f9880962cc2b12065189766fbb2bee57a221866138fb9203c83519\\cache-4c59c8594ee83881.arrow and cache\\csv\\default-2a0884da2a86facc\\0.0.0\\433e0ccc46f9880962cc2b12065189766fbb2bee57a221866138fb9203c83519\\cache-979ea9e674132025.arrow\n",
      "Loading cached split indices for dataset at cache\\csv\\default-2a0884da2a86facc\\0.0.0\\433e0ccc46f9880962cc2b12065189766fbb2bee57a221866138fb9203c83519\\cache-2cdb39c47142be86.arrow and cache\\csv\\default-2a0884da2a86facc\\0.0.0\\433e0ccc46f9880962cc2b12065189766fbb2bee57a221866138fb9203c83519\\cache-4b32be2eacb5d552.arrow\n",
      "Loading cached processed dataset at cache\\csv\\default-2a0884da2a86facc\\0.0.0\\433e0ccc46f9880962cc2b12065189766fbb2bee57a221866138fb9203c83519\\cache-6647fe37f40ed616.arrow\n",
      "Loading cached processed dataset at cache\\csv\\default-2a0884da2a86facc\\0.0.0\\433e0ccc46f9880962cc2b12065189766fbb2bee57a221866138fb9203c83519\\cache-98b2463bec0fd009.arrow\n",
      "Loading cached processed dataset at cache\\csv\\default-2a0884da2a86facc\\0.0.0\\433e0ccc46f9880962cc2b12065189766fbb2bee57a221866138fb9203c83519\\cache-015ae8852bcf3fa4.arrow\n",
      "Loading cached shuffled indices for dataset at cache\\csv\\default-2a0884da2a86facc\\0.0.0\\433e0ccc46f9880962cc2b12065189766fbb2bee57a221866138fb9203c83519\\cache-eefdc5e3fbc3d2c1.arrow\n"
     ]
    },
    {
     "name": "stdout",
     "output_type": "stream",
     "text": [
      "Creating predictions\n"
     ]
    },
    {
     "name": "stderr",
     "output_type": "stream",
     "text": [
      "100%|██████████| 10/10 [00:28<00:00,  2.85s/it]\n",
      "100%|██████████| 10/10 [00:00<00:00, 588.10it/s]\n",
      " 62%|██████▎   | 5/8 [02:27<01:26, 28.96s/it]All model checkpoint layers were used when initializing TFGPT2LMHeadModel.\n",
      "\n",
      "All the layers of TFGPT2LMHeadModel were initialized from the model checkpoint at ..\\Data\\Characters\\Vader\\vader_model.\n",
      "If your task is similar to the task the model of the checkpoint was trained on, you can already use TFGPT2LMHeadModel for predictions without further training.\n",
      "Using custom data configuration default-3bee7e44262edb7f\n",
      "Reusing dataset csv (cache\\csv\\default-3bee7e44262edb7f\\0.0.0\\433e0ccc46f9880962cc2b12065189766fbb2bee57a221866138fb9203c83519)\n",
      "100%|██████████| 1/1 [00:00<00:00, 333.41it/s]\n",
      "Loading cached split indices for dataset at cache\\csv\\default-3bee7e44262edb7f\\0.0.0\\433e0ccc46f9880962cc2b12065189766fbb2bee57a221866138fb9203c83519\\cache-96d0a5ba5e8fec42.arrow and cache\\csv\\default-3bee7e44262edb7f\\0.0.0\\433e0ccc46f9880962cc2b12065189766fbb2bee57a221866138fb9203c83519\\cache-1443283cf78ecd8c.arrow\n",
      "Loading cached split indices for dataset at cache\\csv\\default-3bee7e44262edb7f\\0.0.0\\433e0ccc46f9880962cc2b12065189766fbb2bee57a221866138fb9203c83519\\cache-fe15dac5f93d7344.arrow and cache\\csv\\default-3bee7e44262edb7f\\0.0.0\\433e0ccc46f9880962cc2b12065189766fbb2bee57a221866138fb9203c83519\\cache-c4745ad835a23735.arrow\n",
      "Loading cached processed dataset at cache\\csv\\default-3bee7e44262edb7f\\0.0.0\\433e0ccc46f9880962cc2b12065189766fbb2bee57a221866138fb9203c83519\\cache-52e19da7533330c8.arrow\n",
      "Loading cached processed dataset at cache\\csv\\default-3bee7e44262edb7f\\0.0.0\\433e0ccc46f9880962cc2b12065189766fbb2bee57a221866138fb9203c83519\\cache-979822d41ccd7a4a.arrow\n",
      "Loading cached processed dataset at cache\\csv\\default-3bee7e44262edb7f\\0.0.0\\433e0ccc46f9880962cc2b12065189766fbb2bee57a221866138fb9203c83519\\cache-d486cd416c29c441.arrow\n",
      "Loading cached shuffled indices for dataset at cache\\csv\\default-3bee7e44262edb7f\\0.0.0\\433e0ccc46f9880962cc2b12065189766fbb2bee57a221866138fb9203c83519\\cache-5061dd57662d5196.arrow\n"
     ]
    },
    {
     "name": "stdout",
     "output_type": "stream",
     "text": [
      "Creating predictions\n"
     ]
    },
    {
     "name": "stderr",
     "output_type": "stream",
     "text": [
      "100%|██████████| 10/10 [00:21<00:00,  2.11s/it]\n",
      "100%|██████████| 10/10 [00:00<00:00, 908.84it/s]\n",
      " 75%|███████▌  | 6/8 [02:52<00:55, 27.55s/it]All model checkpoint layers were used when initializing TFGPT2LMHeadModel.\n",
      "\n",
      "All the layers of TFGPT2LMHeadModel were initialized from the model checkpoint at ..\\Data\\Characters\\Joey\\joey_model.\n",
      "If your task is similar to the task the model of the checkpoint was trained on, you can already use TFGPT2LMHeadModel for predictions without further training.\n",
      "Using custom data configuration default-b81141adc87b87bf\n",
      "Reusing dataset csv (cache\\csv\\default-b81141adc87b87bf\\0.0.0\\433e0ccc46f9880962cc2b12065189766fbb2bee57a221866138fb9203c83519)\n",
      "100%|██████████| 1/1 [00:00<00:00, 304.64it/s]\n",
      "Loading cached split indices for dataset at cache\\csv\\default-b81141adc87b87bf\\0.0.0\\433e0ccc46f9880962cc2b12065189766fbb2bee57a221866138fb9203c83519\\cache-e2d3926d0ffd0fd3.arrow and cache\\csv\\default-b81141adc87b87bf\\0.0.0\\433e0ccc46f9880962cc2b12065189766fbb2bee57a221866138fb9203c83519\\cache-f888d4a055d9f5e2.arrow\n",
      "Loading cached split indices for dataset at cache\\csv\\default-b81141adc87b87bf\\0.0.0\\433e0ccc46f9880962cc2b12065189766fbb2bee57a221866138fb9203c83519\\cache-682a04a266efce80.arrow and cache\\csv\\default-b81141adc87b87bf\\0.0.0\\433e0ccc46f9880962cc2b12065189766fbb2bee57a221866138fb9203c83519\\cache-13fca5dad2d5247a.arrow\n",
      "Loading cached processed dataset at cache\\csv\\default-b81141adc87b87bf\\0.0.0\\433e0ccc46f9880962cc2b12065189766fbb2bee57a221866138fb9203c83519\\cache-7662390b0e4f3793.arrow\n",
      "Loading cached processed dataset at cache\\csv\\default-b81141adc87b87bf\\0.0.0\\433e0ccc46f9880962cc2b12065189766fbb2bee57a221866138fb9203c83519\\cache-4379f0323f83a3bd.arrow\n",
      "Loading cached processed dataset at cache\\csv\\default-b81141adc87b87bf\\0.0.0\\433e0ccc46f9880962cc2b12065189766fbb2bee57a221866138fb9203c83519\\cache-ff90937c11e9e756.arrow\n",
      "Loading cached shuffled indices for dataset at cache\\csv\\default-b81141adc87b87bf\\0.0.0\\433e0ccc46f9880962cc2b12065189766fbb2bee57a221866138fb9203c83519\\cache-881ed2c7d650f5ac.arrow\n"
     ]
    },
    {
     "name": "stdout",
     "output_type": "stream",
     "text": [
      "Creating predictions\n"
     ]
    },
    {
     "name": "stderr",
     "output_type": "stream",
     "text": [
      "100%|██████████| 10/10 [00:27<00:00,  2.78s/it]\n",
      "100%|██████████| 10/10 [00:00<00:00, 997.29it/s]\n",
      " 88%|████████▊ | 7/8 [03:24<00:28, 28.90s/it]All model checkpoint layers were used when initializing TFGPT2LMHeadModel.\n",
      "\n",
      "All the layers of TFGPT2LMHeadModel were initialized from the model checkpoint at ..\\Data\\Characters\\Phoebe\\phoebe_model.\n",
      "If your task is similar to the task the model of the checkpoint was trained on, you can already use TFGPT2LMHeadModel for predictions without further training.\n",
      "Using custom data configuration default-48cc5f719001fd3a\n",
      "Reusing dataset csv (cache\\csv\\default-48cc5f719001fd3a\\0.0.0\\433e0ccc46f9880962cc2b12065189766fbb2bee57a221866138fb9203c83519)\n",
      "100%|██████████| 1/1 [00:00<00:00, 493.22it/s]\n",
      "Loading cached split indices for dataset at cache\\csv\\default-48cc5f719001fd3a\\0.0.0\\433e0ccc46f9880962cc2b12065189766fbb2bee57a221866138fb9203c83519\\cache-16c140b5da191e7c.arrow and cache\\csv\\default-48cc5f719001fd3a\\0.0.0\\433e0ccc46f9880962cc2b12065189766fbb2bee57a221866138fb9203c83519\\cache-ed121df269d87298.arrow\n",
      "Loading cached split indices for dataset at cache\\csv\\default-48cc5f719001fd3a\\0.0.0\\433e0ccc46f9880962cc2b12065189766fbb2bee57a221866138fb9203c83519\\cache-f4f26cbce3ecb27c.arrow and cache\\csv\\default-48cc5f719001fd3a\\0.0.0\\433e0ccc46f9880962cc2b12065189766fbb2bee57a221866138fb9203c83519\\cache-186da54849d8ccad.arrow\n",
      "Loading cached processed dataset at cache\\csv\\default-48cc5f719001fd3a\\0.0.0\\433e0ccc46f9880962cc2b12065189766fbb2bee57a221866138fb9203c83519\\cache-7c5b176b39e0048e.arrow\n",
      "Loading cached processed dataset at cache\\csv\\default-48cc5f719001fd3a\\0.0.0\\433e0ccc46f9880962cc2b12065189766fbb2bee57a221866138fb9203c83519\\cache-5221c27b06394c28.arrow\n",
      "Loading cached processed dataset at cache\\csv\\default-48cc5f719001fd3a\\0.0.0\\433e0ccc46f9880962cc2b12065189766fbb2bee57a221866138fb9203c83519\\cache-20bada48da47c9c4.arrow\n",
      "Loading cached shuffled indices for dataset at cache\\csv\\default-48cc5f719001fd3a\\0.0.0\\433e0ccc46f9880962cc2b12065189766fbb2bee57a221866138fb9203c83519\\cache-1d4705c0ffbe174e.arrow\n"
     ]
    },
    {
     "name": "stdout",
     "output_type": "stream",
     "text": [
      "Creating predictions\n"
     ]
    },
    {
     "name": "stderr",
     "output_type": "stream",
     "text": [
      "100%|██████████| 10/10 [00:22<00:00,  2.20s/it]\n",
      "100%|██████████| 10/10 [00:00<00:00, 997.41it/s]\n",
      "100%|██████████| 8/8 [03:50<00:00, 28.77s/it]\n"
     ]
    },
    {
     "name": "stdout",
     "output_type": "stream",
     "text": [
      "Run 4/15\n"
     ]
    },
    {
     "name": "stderr",
     "output_type": "stream",
     "text": [
      "  0%|          | 0/8 [00:00<?, ?it/s]All model checkpoint layers were used when initializing TFGPT2LMHeadModel.\n",
      "\n",
      "All the layers of TFGPT2LMHeadModel were initialized from the model checkpoint at ..\\Data\\Characters\\Barney\\barney_model.\n",
      "If your task is similar to the task the model of the checkpoint was trained on, you can already use TFGPT2LMHeadModel for predictions without further training.\n",
      "Using custom data configuration default-d78476db32c8db98\n",
      "Reusing dataset csv (cache\\csv\\default-d78476db32c8db98\\0.0.0\\433e0ccc46f9880962cc2b12065189766fbb2bee57a221866138fb9203c83519)\n",
      "100%|██████████| 1/1 [00:00<00:00, 139.37it/s]\n",
      "Loading cached split indices for dataset at cache\\csv\\default-d78476db32c8db98\\0.0.0\\433e0ccc46f9880962cc2b12065189766fbb2bee57a221866138fb9203c83519\\cache-651037d43e5e3dbd.arrow and cache\\csv\\default-d78476db32c8db98\\0.0.0\\433e0ccc46f9880962cc2b12065189766fbb2bee57a221866138fb9203c83519\\cache-7e4903d85e508b43.arrow\n",
      "Loading cached split indices for dataset at cache\\csv\\default-d78476db32c8db98\\0.0.0\\433e0ccc46f9880962cc2b12065189766fbb2bee57a221866138fb9203c83519\\cache-1b018c4ce0c1ed8c.arrow and cache\\csv\\default-d78476db32c8db98\\0.0.0\\433e0ccc46f9880962cc2b12065189766fbb2bee57a221866138fb9203c83519\\cache-2cfa4b0ef22c9ad5.arrow\n",
      "Loading cached processed dataset at cache\\csv\\default-d78476db32c8db98\\0.0.0\\433e0ccc46f9880962cc2b12065189766fbb2bee57a221866138fb9203c83519\\cache-89f9b92b2a083af0.arrow\n",
      "Loading cached processed dataset at cache\\csv\\default-d78476db32c8db98\\0.0.0\\433e0ccc46f9880962cc2b12065189766fbb2bee57a221866138fb9203c83519\\cache-f26a814e4e6d10fc.arrow\n",
      "Loading cached processed dataset at cache\\csv\\default-d78476db32c8db98\\0.0.0\\433e0ccc46f9880962cc2b12065189766fbb2bee57a221866138fb9203c83519\\cache-6655d46d8a0182ef.arrow\n",
      "Loading cached shuffled indices for dataset at cache\\csv\\default-d78476db32c8db98\\0.0.0\\433e0ccc46f9880962cc2b12065189766fbb2bee57a221866138fb9203c83519\\cache-b0ddd597589321af.arrow\n"
     ]
    },
    {
     "name": "stdout",
     "output_type": "stream",
     "text": [
      "Creating predictions\n"
     ]
    },
    {
     "name": "stderr",
     "output_type": "stream",
     "text": [
      "100%|██████████| 10/10 [00:34<00:00,  3.41s/it]\n",
      "100%|██████████| 10/10 [00:00<00:00, 830.93it/s]\n",
      " 12%|█▎        | 1/8 [00:38<04:29, 38.56s/it]All model checkpoint layers were used when initializing TFGPT2LMHeadModel.\n",
      "\n",
      "All the layers of TFGPT2LMHeadModel were initialized from the model checkpoint at ..\\Data\\Characters\\Sheldon\\sheldon_model.\n",
      "If your task is similar to the task the model of the checkpoint was trained on, you can already use TFGPT2LMHeadModel for predictions without further training.\n",
      "Using custom data configuration default-8207271dc09e0a46\n",
      "Reusing dataset csv (cache\\csv\\default-8207271dc09e0a46\\0.0.0\\433e0ccc46f9880962cc2b12065189766fbb2bee57a221866138fb9203c83519)\n",
      "100%|██████████| 1/1 [00:00<00:00, 1000.07it/s]\n",
      "Loading cached split indices for dataset at cache\\csv\\default-8207271dc09e0a46\\0.0.0\\433e0ccc46f9880962cc2b12065189766fbb2bee57a221866138fb9203c83519\\cache-46b6cd7566c1d243.arrow and cache\\csv\\default-8207271dc09e0a46\\0.0.0\\433e0ccc46f9880962cc2b12065189766fbb2bee57a221866138fb9203c83519\\cache-e3e40e36f25dded7.arrow\n",
      "Loading cached split indices for dataset at cache\\csv\\default-8207271dc09e0a46\\0.0.0\\433e0ccc46f9880962cc2b12065189766fbb2bee57a221866138fb9203c83519\\cache-1774625d7360210c.arrow and cache\\csv\\default-8207271dc09e0a46\\0.0.0\\433e0ccc46f9880962cc2b12065189766fbb2bee57a221866138fb9203c83519\\cache-ad5b734370182aae.arrow\n",
      "Loading cached processed dataset at cache\\csv\\default-8207271dc09e0a46\\0.0.0\\433e0ccc46f9880962cc2b12065189766fbb2bee57a221866138fb9203c83519\\cache-fed8798d874c65dd.arrow\n",
      "Loading cached processed dataset at cache\\csv\\default-8207271dc09e0a46\\0.0.0\\433e0ccc46f9880962cc2b12065189766fbb2bee57a221866138fb9203c83519\\cache-632156930e5bea85.arrow\n",
      "Loading cached processed dataset at cache\\csv\\default-8207271dc09e0a46\\0.0.0\\433e0ccc46f9880962cc2b12065189766fbb2bee57a221866138fb9203c83519\\cache-448ecc7a6afdd007.arrow\n",
      "Loading cached shuffled indices for dataset at cache\\csv\\default-8207271dc09e0a46\\0.0.0\\433e0ccc46f9880962cc2b12065189766fbb2bee57a221866138fb9203c83519\\cache-44200aae20815359.arrow\n"
     ]
    },
    {
     "name": "stdout",
     "output_type": "stream",
     "text": [
      "Creating predictions\n"
     ]
    },
    {
     "name": "stderr",
     "output_type": "stream",
     "text": [
      "100%|██████████| 10/10 [00:25<00:00,  2.54s/it]\n",
      "100%|██████████| 10/10 [00:00<00:00, 997.05it/s]\n",
      " 25%|██▌       | 2/8 [01:07<03:18, 33.16s/it]All model checkpoint layers were used when initializing TFGPT2LMHeadModel.\n",
      "\n",
      "All the layers of TFGPT2LMHeadModel were initialized from the model checkpoint at ..\\Data\\Characters\\Harry\\harry_model.\n",
      "If your task is similar to the task the model of the checkpoint was trained on, you can already use TFGPT2LMHeadModel for predictions without further training.\n",
      "Using custom data configuration default-5e8064f57286033a\n",
      "Reusing dataset csv (cache\\csv\\default-5e8064f57286033a\\0.0.0\\433e0ccc46f9880962cc2b12065189766fbb2bee57a221866138fb9203c83519)\n",
      "100%|██████████| 1/1 [00:00<00:00, 500.10it/s]\n",
      "Loading cached split indices for dataset at cache\\csv\\default-5e8064f57286033a\\0.0.0\\433e0ccc46f9880962cc2b12065189766fbb2bee57a221866138fb9203c83519\\cache-2b86c587abd47c66.arrow and cache\\csv\\default-5e8064f57286033a\\0.0.0\\433e0ccc46f9880962cc2b12065189766fbb2bee57a221866138fb9203c83519\\cache-8919d70a4bf80eed.arrow\n",
      "Loading cached split indices for dataset at cache\\csv\\default-5e8064f57286033a\\0.0.0\\433e0ccc46f9880962cc2b12065189766fbb2bee57a221866138fb9203c83519\\cache-4099b79485c950ea.arrow and cache\\csv\\default-5e8064f57286033a\\0.0.0\\433e0ccc46f9880962cc2b12065189766fbb2bee57a221866138fb9203c83519\\cache-cecb46b03995ab9b.arrow\n",
      "Loading cached processed dataset at cache\\csv\\default-5e8064f57286033a\\0.0.0\\433e0ccc46f9880962cc2b12065189766fbb2bee57a221866138fb9203c83519\\cache-e80578e3b4f7f025.arrow\n",
      "Loading cached processed dataset at cache\\csv\\default-5e8064f57286033a\\0.0.0\\433e0ccc46f9880962cc2b12065189766fbb2bee57a221866138fb9203c83519\\cache-45cad4fe25e5526e.arrow\n",
      "Loading cached processed dataset at cache\\csv\\default-5e8064f57286033a\\0.0.0\\433e0ccc46f9880962cc2b12065189766fbb2bee57a221866138fb9203c83519\\cache-937d1b7b6a0a1add.arrow\n",
      "Loading cached shuffled indices for dataset at cache\\csv\\default-5e8064f57286033a\\0.0.0\\433e0ccc46f9880962cc2b12065189766fbb2bee57a221866138fb9203c83519\\cache-1961250b1edbce64.arrow\n"
     ]
    },
    {
     "name": "stdout",
     "output_type": "stream",
     "text": [
      "Creating predictions\n"
     ]
    },
    {
     "name": "stderr",
     "output_type": "stream",
     "text": [
      "100%|██████████| 10/10 [00:20<00:00,  2.09s/it]\n",
      "100%|██████████| 10/10 [00:00<00:00, 833.26it/s]\n",
      " 38%|███▊      | 3/8 [01:32<02:26, 29.33s/it]All model checkpoint layers were used when initializing TFGPT2LMHeadModel.\n",
      "\n",
      "All the layers of TFGPT2LMHeadModel were initialized from the model checkpoint at ..\\Data\\Characters\\Fry\\fry_model.\n",
      "If your task is similar to the task the model of the checkpoint was trained on, you can already use TFGPT2LMHeadModel for predictions without further training.\n",
      "Using custom data configuration default-b35448ec5dd887ec\n",
      "Reusing dataset csv (cache\\csv\\default-b35448ec5dd887ec\\0.0.0\\433e0ccc46f9880962cc2b12065189766fbb2bee57a221866138fb9203c83519)\n",
      "100%|██████████| 1/1 [00:00<00:00, 249.94it/s]\n",
      "Loading cached split indices for dataset at cache\\csv\\default-b35448ec5dd887ec\\0.0.0\\433e0ccc46f9880962cc2b12065189766fbb2bee57a221866138fb9203c83519\\cache-667383473c444f25.arrow and cache\\csv\\default-b35448ec5dd887ec\\0.0.0\\433e0ccc46f9880962cc2b12065189766fbb2bee57a221866138fb9203c83519\\cache-c520a8a264854da4.arrow\n",
      "Loading cached split indices for dataset at cache\\csv\\default-b35448ec5dd887ec\\0.0.0\\433e0ccc46f9880962cc2b12065189766fbb2bee57a221866138fb9203c83519\\cache-b072a26900059a04.arrow and cache\\csv\\default-b35448ec5dd887ec\\0.0.0\\433e0ccc46f9880962cc2b12065189766fbb2bee57a221866138fb9203c83519\\cache-885672efcb78500c.arrow\n",
      "Loading cached processed dataset at cache\\csv\\default-b35448ec5dd887ec\\0.0.0\\433e0ccc46f9880962cc2b12065189766fbb2bee57a221866138fb9203c83519\\cache-f2119e5a34f2eb76.arrow\n",
      "Loading cached processed dataset at cache\\csv\\default-b35448ec5dd887ec\\0.0.0\\433e0ccc46f9880962cc2b12065189766fbb2bee57a221866138fb9203c83519\\cache-cb34da498e1e68ed.arrow\n",
      "Loading cached processed dataset at cache\\csv\\default-b35448ec5dd887ec\\0.0.0\\433e0ccc46f9880962cc2b12065189766fbb2bee57a221866138fb9203c83519\\cache-3b065f584f7e66c9.arrow\n",
      "Loading cached shuffled indices for dataset at cache\\csv\\default-b35448ec5dd887ec\\0.0.0\\433e0ccc46f9880962cc2b12065189766fbb2bee57a221866138fb9203c83519\\cache-9012223f14afe1d0.arrow\n"
     ]
    },
    {
     "name": "stdout",
     "output_type": "stream",
     "text": [
      "Creating predictions\n"
     ]
    },
    {
     "name": "stderr",
     "output_type": "stream",
     "text": [
      "100%|██████████| 10/10 [00:42<00:00,  4.22s/it]\n",
      "100%|██████████| 10/10 [00:00<00:00, 909.61it/s]\n",
      " 50%|█████     | 4/8 [02:19<02:24, 36.15s/it]All model checkpoint layers were used when initializing TFGPT2LMHeadModel.\n",
      "\n",
      "All the layers of TFGPT2LMHeadModel were initialized from the model checkpoint at ..\\Data\\Characters\\Bender\\bender_model.\n",
      "If your task is similar to the task the model of the checkpoint was trained on, you can already use TFGPT2LMHeadModel for predictions without further training.\n",
      "Using custom data configuration default-2a0884da2a86facc\n",
      "Reusing dataset csv (cache\\csv\\default-2a0884da2a86facc\\0.0.0\\433e0ccc46f9880962cc2b12065189766fbb2bee57a221866138fb9203c83519)\n",
      "100%|██████████| 1/1 [00:00<00:00, 464.49it/s]\n",
      "Loading cached split indices for dataset at cache\\csv\\default-2a0884da2a86facc\\0.0.0\\433e0ccc46f9880962cc2b12065189766fbb2bee57a221866138fb9203c83519\\cache-4c59c8594ee83881.arrow and cache\\csv\\default-2a0884da2a86facc\\0.0.0\\433e0ccc46f9880962cc2b12065189766fbb2bee57a221866138fb9203c83519\\cache-979ea9e674132025.arrow\n",
      "Loading cached split indices for dataset at cache\\csv\\default-2a0884da2a86facc\\0.0.0\\433e0ccc46f9880962cc2b12065189766fbb2bee57a221866138fb9203c83519\\cache-2cdb39c47142be86.arrow and cache\\csv\\default-2a0884da2a86facc\\0.0.0\\433e0ccc46f9880962cc2b12065189766fbb2bee57a221866138fb9203c83519\\cache-4b32be2eacb5d552.arrow\n",
      "Loading cached processed dataset at cache\\csv\\default-2a0884da2a86facc\\0.0.0\\433e0ccc46f9880962cc2b12065189766fbb2bee57a221866138fb9203c83519\\cache-6647fe37f40ed616.arrow\n",
      "Loading cached processed dataset at cache\\csv\\default-2a0884da2a86facc\\0.0.0\\433e0ccc46f9880962cc2b12065189766fbb2bee57a221866138fb9203c83519\\cache-98b2463bec0fd009.arrow\n",
      "Loading cached processed dataset at cache\\csv\\default-2a0884da2a86facc\\0.0.0\\433e0ccc46f9880962cc2b12065189766fbb2bee57a221866138fb9203c83519\\cache-015ae8852bcf3fa4.arrow\n",
      "Loading cached shuffled indices for dataset at cache\\csv\\default-2a0884da2a86facc\\0.0.0\\433e0ccc46f9880962cc2b12065189766fbb2bee57a221866138fb9203c83519\\cache-eefdc5e3fbc3d2c1.arrow\n"
     ]
    },
    {
     "name": "stdout",
     "output_type": "stream",
     "text": [
      "Creating predictions\n"
     ]
    },
    {
     "name": "stderr",
     "output_type": "stream",
     "text": [
      "100%|██████████| 10/10 [00:36<00:00,  3.62s/it]\n",
      "100%|██████████| 10/10 [00:00<00:00, 1580.61it/s]\n",
      " 62%|██████▎   | 5/8 [02:59<01:53, 37.73s/it]All model checkpoint layers were used when initializing TFGPT2LMHeadModel.\n",
      "\n",
      "All the layers of TFGPT2LMHeadModel were initialized from the model checkpoint at ..\\Data\\Characters\\Vader\\vader_model.\n",
      "If your task is similar to the task the model of the checkpoint was trained on, you can already use TFGPT2LMHeadModel for predictions without further training.\n",
      "Using custom data configuration default-3bee7e44262edb7f\n",
      "Reusing dataset csv (cache\\csv\\default-3bee7e44262edb7f\\0.0.0\\433e0ccc46f9880962cc2b12065189766fbb2bee57a221866138fb9203c83519)\n",
      "100%|██████████| 1/1 [00:00<00:00, 250.17it/s]\n",
      "Loading cached split indices for dataset at cache\\csv\\default-3bee7e44262edb7f\\0.0.0\\433e0ccc46f9880962cc2b12065189766fbb2bee57a221866138fb9203c83519\\cache-96d0a5ba5e8fec42.arrow and cache\\csv\\default-3bee7e44262edb7f\\0.0.0\\433e0ccc46f9880962cc2b12065189766fbb2bee57a221866138fb9203c83519\\cache-1443283cf78ecd8c.arrow\n",
      "Loading cached split indices for dataset at cache\\csv\\default-3bee7e44262edb7f\\0.0.0\\433e0ccc46f9880962cc2b12065189766fbb2bee57a221866138fb9203c83519\\cache-fe15dac5f93d7344.arrow and cache\\csv\\default-3bee7e44262edb7f\\0.0.0\\433e0ccc46f9880962cc2b12065189766fbb2bee57a221866138fb9203c83519\\cache-c4745ad835a23735.arrow\n",
      "Loading cached processed dataset at cache\\csv\\default-3bee7e44262edb7f\\0.0.0\\433e0ccc46f9880962cc2b12065189766fbb2bee57a221866138fb9203c83519\\cache-52e19da7533330c8.arrow\n",
      "Loading cached processed dataset at cache\\csv\\default-3bee7e44262edb7f\\0.0.0\\433e0ccc46f9880962cc2b12065189766fbb2bee57a221866138fb9203c83519\\cache-979822d41ccd7a4a.arrow\n",
      "Loading cached processed dataset at cache\\csv\\default-3bee7e44262edb7f\\0.0.0\\433e0ccc46f9880962cc2b12065189766fbb2bee57a221866138fb9203c83519\\cache-d486cd416c29c441.arrow\n",
      "Loading cached shuffled indices for dataset at cache\\csv\\default-3bee7e44262edb7f\\0.0.0\\433e0ccc46f9880962cc2b12065189766fbb2bee57a221866138fb9203c83519\\cache-5061dd57662d5196.arrow\n"
     ]
    },
    {
     "name": "stdout",
     "output_type": "stream",
     "text": [
      "Creating predictions\n"
     ]
    },
    {
     "name": "stderr",
     "output_type": "stream",
     "text": [
      "100%|██████████| 10/10 [00:31<00:00,  3.11s/it]\n",
      "100%|██████████| 10/10 [00:00<00:00, 1244.97it/s]\n",
      " 75%|███████▌  | 6/8 [03:34<01:13, 36.72s/it]All model checkpoint layers were used when initializing TFGPT2LMHeadModel.\n",
      "\n",
      "All the layers of TFGPT2LMHeadModel were initialized from the model checkpoint at ..\\Data\\Characters\\Joey\\joey_model.\n",
      "If your task is similar to the task the model of the checkpoint was trained on, you can already use TFGPT2LMHeadModel for predictions without further training.\n",
      "Using custom data configuration default-b81141adc87b87bf\n",
      "Reusing dataset csv (cache\\csv\\default-b81141adc87b87bf\\0.0.0\\433e0ccc46f9880962cc2b12065189766fbb2bee57a221866138fb9203c83519)\n",
      "100%|██████████| 1/1 [00:00<00:00, 278.54it/s]\n",
      "Loading cached split indices for dataset at cache\\csv\\default-b81141adc87b87bf\\0.0.0\\433e0ccc46f9880962cc2b12065189766fbb2bee57a221866138fb9203c83519\\cache-e2d3926d0ffd0fd3.arrow and cache\\csv\\default-b81141adc87b87bf\\0.0.0\\433e0ccc46f9880962cc2b12065189766fbb2bee57a221866138fb9203c83519\\cache-f888d4a055d9f5e2.arrow\n",
      "Loading cached split indices for dataset at cache\\csv\\default-b81141adc87b87bf\\0.0.0\\433e0ccc46f9880962cc2b12065189766fbb2bee57a221866138fb9203c83519\\cache-682a04a266efce80.arrow and cache\\csv\\default-b81141adc87b87bf\\0.0.0\\433e0ccc46f9880962cc2b12065189766fbb2bee57a221866138fb9203c83519\\cache-13fca5dad2d5247a.arrow\n",
      "Loading cached processed dataset at cache\\csv\\default-b81141adc87b87bf\\0.0.0\\433e0ccc46f9880962cc2b12065189766fbb2bee57a221866138fb9203c83519\\cache-7662390b0e4f3793.arrow\n",
      "Loading cached processed dataset at cache\\csv\\default-b81141adc87b87bf\\0.0.0\\433e0ccc46f9880962cc2b12065189766fbb2bee57a221866138fb9203c83519\\cache-4379f0323f83a3bd.arrow\n",
      "Loading cached processed dataset at cache\\csv\\default-b81141adc87b87bf\\0.0.0\\433e0ccc46f9880962cc2b12065189766fbb2bee57a221866138fb9203c83519\\cache-ff90937c11e9e756.arrow\n",
      "Loading cached shuffled indices for dataset at cache\\csv\\default-b81141adc87b87bf\\0.0.0\\433e0ccc46f9880962cc2b12065189766fbb2bee57a221866138fb9203c83519\\cache-881ed2c7d650f5ac.arrow\n"
     ]
    },
    {
     "name": "stdout",
     "output_type": "stream",
     "text": [
      "Creating predictions\n"
     ]
    },
    {
     "name": "stderr",
     "output_type": "stream",
     "text": [
      "100%|██████████| 10/10 [00:36<00:00,  3.62s/it]\n",
      "100%|██████████| 10/10 [00:00<00:00, 1064.63it/s]\n",
      " 88%|████████▊ | 7/8 [04:14<00:37, 37.68s/it]All model checkpoint layers were used when initializing TFGPT2LMHeadModel.\n",
      "\n",
      "All the layers of TFGPT2LMHeadModel were initialized from the model checkpoint at ..\\Data\\Characters\\Phoebe\\phoebe_model.\n",
      "If your task is similar to the task the model of the checkpoint was trained on, you can already use TFGPT2LMHeadModel for predictions without further training.\n",
      "Using custom data configuration default-48cc5f719001fd3a\n",
      "Reusing dataset csv (cache\\csv\\default-48cc5f719001fd3a\\0.0.0\\433e0ccc46f9880962cc2b12065189766fbb2bee57a221866138fb9203c83519)\n",
      "100%|██████████| 1/1 [00:00<00:00, 333.89it/s]\n",
      "Loading cached split indices for dataset at cache\\csv\\default-48cc5f719001fd3a\\0.0.0\\433e0ccc46f9880962cc2b12065189766fbb2bee57a221866138fb9203c83519\\cache-16c140b5da191e7c.arrow and cache\\csv\\default-48cc5f719001fd3a\\0.0.0\\433e0ccc46f9880962cc2b12065189766fbb2bee57a221866138fb9203c83519\\cache-ed121df269d87298.arrow\n",
      "Loading cached split indices for dataset at cache\\csv\\default-48cc5f719001fd3a\\0.0.0\\433e0ccc46f9880962cc2b12065189766fbb2bee57a221866138fb9203c83519\\cache-f4f26cbce3ecb27c.arrow and cache\\csv\\default-48cc5f719001fd3a\\0.0.0\\433e0ccc46f9880962cc2b12065189766fbb2bee57a221866138fb9203c83519\\cache-186da54849d8ccad.arrow\n",
      "Loading cached processed dataset at cache\\csv\\default-48cc5f719001fd3a\\0.0.0\\433e0ccc46f9880962cc2b12065189766fbb2bee57a221866138fb9203c83519\\cache-7c5b176b39e0048e.arrow\n",
      "Loading cached processed dataset at cache\\csv\\default-48cc5f719001fd3a\\0.0.0\\433e0ccc46f9880962cc2b12065189766fbb2bee57a221866138fb9203c83519\\cache-5221c27b06394c28.arrow\n",
      "Loading cached processed dataset at cache\\csv\\default-48cc5f719001fd3a\\0.0.0\\433e0ccc46f9880962cc2b12065189766fbb2bee57a221866138fb9203c83519\\cache-20bada48da47c9c4.arrow\n",
      "Loading cached shuffled indices for dataset at cache\\csv\\default-48cc5f719001fd3a\\0.0.0\\433e0ccc46f9880962cc2b12065189766fbb2bee57a221866138fb9203c83519\\cache-1d4705c0ffbe174e.arrow\n"
     ]
    },
    {
     "name": "stdout",
     "output_type": "stream",
     "text": [
      "Creating predictions\n"
     ]
    },
    {
     "name": "stderr",
     "output_type": "stream",
     "text": [
      "100%|██████████| 10/10 [00:20<00:00,  2.07s/it]\n",
      "100%|██████████| 10/10 [00:00<00:00, 2677.67it/s]\n",
      "100%|██████████| 8/8 [04:38<00:00, 34.78s/it]\n"
     ]
    },
    {
     "name": "stdout",
     "output_type": "stream",
     "text": [
      "Run 5/15\n"
     ]
    },
    {
     "name": "stderr",
     "output_type": "stream",
     "text": [
      "  0%|          | 0/8 [00:00<?, ?it/s]All model checkpoint layers were used when initializing TFGPT2LMHeadModel.\n",
      "\n",
      "All the layers of TFGPT2LMHeadModel were initialized from the model checkpoint at ..\\Data\\Characters\\Barney\\barney_model.\n",
      "If your task is similar to the task the model of the checkpoint was trained on, you can already use TFGPT2LMHeadModel for predictions without further training.\n",
      "Using custom data configuration default-d78476db32c8db98\n",
      "Reusing dataset csv (cache\\csv\\default-d78476db32c8db98\\0.0.0\\433e0ccc46f9880962cc2b12065189766fbb2bee57a221866138fb9203c83519)\n",
      "100%|██████████| 1/1 [00:00<00:00, 385.75it/s]\n",
      "Loading cached split indices for dataset at cache\\csv\\default-d78476db32c8db98\\0.0.0\\433e0ccc46f9880962cc2b12065189766fbb2bee57a221866138fb9203c83519\\cache-651037d43e5e3dbd.arrow and cache\\csv\\default-d78476db32c8db98\\0.0.0\\433e0ccc46f9880962cc2b12065189766fbb2bee57a221866138fb9203c83519\\cache-7e4903d85e508b43.arrow\n",
      "Loading cached split indices for dataset at cache\\csv\\default-d78476db32c8db98\\0.0.0\\433e0ccc46f9880962cc2b12065189766fbb2bee57a221866138fb9203c83519\\cache-1b018c4ce0c1ed8c.arrow and cache\\csv\\default-d78476db32c8db98\\0.0.0\\433e0ccc46f9880962cc2b12065189766fbb2bee57a221866138fb9203c83519\\cache-2cfa4b0ef22c9ad5.arrow\n",
      "Loading cached processed dataset at cache\\csv\\default-d78476db32c8db98\\0.0.0\\433e0ccc46f9880962cc2b12065189766fbb2bee57a221866138fb9203c83519\\cache-89f9b92b2a083af0.arrow\n",
      "Loading cached processed dataset at cache\\csv\\default-d78476db32c8db98\\0.0.0\\433e0ccc46f9880962cc2b12065189766fbb2bee57a221866138fb9203c83519\\cache-f26a814e4e6d10fc.arrow\n",
      "Loading cached processed dataset at cache\\csv\\default-d78476db32c8db98\\0.0.0\\433e0ccc46f9880962cc2b12065189766fbb2bee57a221866138fb9203c83519\\cache-6655d46d8a0182ef.arrow\n",
      "Loading cached shuffled indices for dataset at cache\\csv\\default-d78476db32c8db98\\0.0.0\\433e0ccc46f9880962cc2b12065189766fbb2bee57a221866138fb9203c83519\\cache-b0ddd597589321af.arrow\n"
     ]
    },
    {
     "name": "stdout",
     "output_type": "stream",
     "text": [
      "Creating predictions\n"
     ]
    },
    {
     "name": "stderr",
     "output_type": "stream",
     "text": [
      "100%|██████████| 10/10 [00:25<00:00,  2.60s/it]\n",
      "100%|██████████| 10/10 [00:00<00:00, 1229.50it/s]\n",
      " 12%|█▎        | 1/8 [00:29<03:24, 29.27s/it]All model checkpoint layers were used when initializing TFGPT2LMHeadModel.\n",
      "\n",
      "All the layers of TFGPT2LMHeadModel were initialized from the model checkpoint at ..\\Data\\Characters\\Sheldon\\sheldon_model.\n",
      "If your task is similar to the task the model of the checkpoint was trained on, you can already use TFGPT2LMHeadModel for predictions without further training.\n",
      "Using custom data configuration default-8207271dc09e0a46\n",
      "Reusing dataset csv (cache\\csv\\default-8207271dc09e0a46\\0.0.0\\433e0ccc46f9880962cc2b12065189766fbb2bee57a221866138fb9203c83519)\n",
      "100%|██████████| 1/1 [00:00<00:00, 409.36it/s]\n",
      "Loading cached split indices for dataset at cache\\csv\\default-8207271dc09e0a46\\0.0.0\\433e0ccc46f9880962cc2b12065189766fbb2bee57a221866138fb9203c83519\\cache-46b6cd7566c1d243.arrow and cache\\csv\\default-8207271dc09e0a46\\0.0.0\\433e0ccc46f9880962cc2b12065189766fbb2bee57a221866138fb9203c83519\\cache-e3e40e36f25dded7.arrow\n",
      "Loading cached split indices for dataset at cache\\csv\\default-8207271dc09e0a46\\0.0.0\\433e0ccc46f9880962cc2b12065189766fbb2bee57a221866138fb9203c83519\\cache-1774625d7360210c.arrow and cache\\csv\\default-8207271dc09e0a46\\0.0.0\\433e0ccc46f9880962cc2b12065189766fbb2bee57a221866138fb9203c83519\\cache-ad5b734370182aae.arrow\n",
      "Loading cached processed dataset at cache\\csv\\default-8207271dc09e0a46\\0.0.0\\433e0ccc46f9880962cc2b12065189766fbb2bee57a221866138fb9203c83519\\cache-fed8798d874c65dd.arrow\n",
      "Loading cached processed dataset at cache\\csv\\default-8207271dc09e0a46\\0.0.0\\433e0ccc46f9880962cc2b12065189766fbb2bee57a221866138fb9203c83519\\cache-632156930e5bea85.arrow\n",
      "Loading cached processed dataset at cache\\csv\\default-8207271dc09e0a46\\0.0.0\\433e0ccc46f9880962cc2b12065189766fbb2bee57a221866138fb9203c83519\\cache-448ecc7a6afdd007.arrow\n",
      "Loading cached shuffled indices for dataset at cache\\csv\\default-8207271dc09e0a46\\0.0.0\\433e0ccc46f9880962cc2b12065189766fbb2bee57a221866138fb9203c83519\\cache-44200aae20815359.arrow\n"
     ]
    },
    {
     "name": "stdout",
     "output_type": "stream",
     "text": [
      "Creating predictions\n"
     ]
    },
    {
     "name": "stderr",
     "output_type": "stream",
     "text": [
      "100%|██████████| 10/10 [00:16<00:00,  1.64s/it]\n",
      "100%|██████████| 10/10 [00:00<00:00, 2439.97it/s]\n",
      " 25%|██▌       | 2/8 [00:48<02:21, 23.60s/it]All model checkpoint layers were used when initializing TFGPT2LMHeadModel.\n",
      "\n",
      "All the layers of TFGPT2LMHeadModel were initialized from the model checkpoint at ..\\Data\\Characters\\Harry\\harry_model.\n",
      "If your task is similar to the task the model of the checkpoint was trained on, you can already use TFGPT2LMHeadModel for predictions without further training.\n",
      "Using custom data configuration default-5e8064f57286033a\n",
      "Reusing dataset csv (cache\\csv\\default-5e8064f57286033a\\0.0.0\\433e0ccc46f9880962cc2b12065189766fbb2bee57a221866138fb9203c83519)\n",
      "100%|██████████| 1/1 [00:00<00:00, 500.16it/s]\n",
      "Loading cached split indices for dataset at cache\\csv\\default-5e8064f57286033a\\0.0.0\\433e0ccc46f9880962cc2b12065189766fbb2bee57a221866138fb9203c83519\\cache-2b86c587abd47c66.arrow and cache\\csv\\default-5e8064f57286033a\\0.0.0\\433e0ccc46f9880962cc2b12065189766fbb2bee57a221866138fb9203c83519\\cache-8919d70a4bf80eed.arrow\n",
      "Loading cached split indices for dataset at cache\\csv\\default-5e8064f57286033a\\0.0.0\\433e0ccc46f9880962cc2b12065189766fbb2bee57a221866138fb9203c83519\\cache-4099b79485c950ea.arrow and cache\\csv\\default-5e8064f57286033a\\0.0.0\\433e0ccc46f9880962cc2b12065189766fbb2bee57a221866138fb9203c83519\\cache-cecb46b03995ab9b.arrow\n",
      "Loading cached processed dataset at cache\\csv\\default-5e8064f57286033a\\0.0.0\\433e0ccc46f9880962cc2b12065189766fbb2bee57a221866138fb9203c83519\\cache-e80578e3b4f7f025.arrow\n",
      "Loading cached processed dataset at cache\\csv\\default-5e8064f57286033a\\0.0.0\\433e0ccc46f9880962cc2b12065189766fbb2bee57a221866138fb9203c83519\\cache-45cad4fe25e5526e.arrow\n",
      "Loading cached processed dataset at cache\\csv\\default-5e8064f57286033a\\0.0.0\\433e0ccc46f9880962cc2b12065189766fbb2bee57a221866138fb9203c83519\\cache-937d1b7b6a0a1add.arrow\n",
      "Loading cached shuffled indices for dataset at cache\\csv\\default-5e8064f57286033a\\0.0.0\\433e0ccc46f9880962cc2b12065189766fbb2bee57a221866138fb9203c83519\\cache-1961250b1edbce64.arrow\n"
     ]
    },
    {
     "name": "stdout",
     "output_type": "stream",
     "text": [
      "Creating predictions\n"
     ]
    },
    {
     "name": "stderr",
     "output_type": "stream",
     "text": [
      "100%|██████████| 10/10 [00:15<00:00,  1.58s/it]\n",
      "100%|██████████| 10/10 [00:00<00:00, 2832.65it/s]\n",
      " 38%|███▊      | 3/8 [01:08<01:48, 21.61s/it]All model checkpoint layers were used when initializing TFGPT2LMHeadModel.\n",
      "\n",
      "All the layers of TFGPT2LMHeadModel were initialized from the model checkpoint at ..\\Data\\Characters\\Fry\\fry_model.\n",
      "If your task is similar to the task the model of the checkpoint was trained on, you can already use TFGPT2LMHeadModel for predictions without further training.\n",
      "Using custom data configuration default-b35448ec5dd887ec\n",
      "Reusing dataset csv (cache\\csv\\default-b35448ec5dd887ec\\0.0.0\\433e0ccc46f9880962cc2b12065189766fbb2bee57a221866138fb9203c83519)\n",
      "100%|██████████| 1/1 [00:00<00:00, 392.95it/s]\n",
      "Loading cached split indices for dataset at cache\\csv\\default-b35448ec5dd887ec\\0.0.0\\433e0ccc46f9880962cc2b12065189766fbb2bee57a221866138fb9203c83519\\cache-667383473c444f25.arrow and cache\\csv\\default-b35448ec5dd887ec\\0.0.0\\433e0ccc46f9880962cc2b12065189766fbb2bee57a221866138fb9203c83519\\cache-c520a8a264854da4.arrow\n",
      "Loading cached split indices for dataset at cache\\csv\\default-b35448ec5dd887ec\\0.0.0\\433e0ccc46f9880962cc2b12065189766fbb2bee57a221866138fb9203c83519\\cache-b072a26900059a04.arrow and cache\\csv\\default-b35448ec5dd887ec\\0.0.0\\433e0ccc46f9880962cc2b12065189766fbb2bee57a221866138fb9203c83519\\cache-885672efcb78500c.arrow\n",
      "Loading cached processed dataset at cache\\csv\\default-b35448ec5dd887ec\\0.0.0\\433e0ccc46f9880962cc2b12065189766fbb2bee57a221866138fb9203c83519\\cache-f2119e5a34f2eb76.arrow\n",
      "Loading cached processed dataset at cache\\csv\\default-b35448ec5dd887ec\\0.0.0\\433e0ccc46f9880962cc2b12065189766fbb2bee57a221866138fb9203c83519\\cache-cb34da498e1e68ed.arrow\n",
      "Loading cached processed dataset at cache\\csv\\default-b35448ec5dd887ec\\0.0.0\\433e0ccc46f9880962cc2b12065189766fbb2bee57a221866138fb9203c83519\\cache-3b065f584f7e66c9.arrow\n",
      "Loading cached shuffled indices for dataset at cache\\csv\\default-b35448ec5dd887ec\\0.0.0\\433e0ccc46f9880962cc2b12065189766fbb2bee57a221866138fb9203c83519\\cache-9012223f14afe1d0.arrow\n"
     ]
    },
    {
     "name": "stdout",
     "output_type": "stream",
     "text": [
      "Creating predictions\n"
     ]
    },
    {
     "name": "stderr",
     "output_type": "stream",
     "text": [
      "100%|██████████| 10/10 [00:31<00:00,  3.12s/it]\n",
      "100%|██████████| 10/10 [00:00<00:00, 996.56it/s]\n",
      " 50%|█████     | 4/8 [01:42<01:47, 26.78s/it]All model checkpoint layers were used when initializing TFGPT2LMHeadModel.\n",
      "\n",
      "All the layers of TFGPT2LMHeadModel were initialized from the model checkpoint at ..\\Data\\Characters\\Bender\\bender_model.\n",
      "If your task is similar to the task the model of the checkpoint was trained on, you can already use TFGPT2LMHeadModel for predictions without further training.\n",
      "Using custom data configuration default-2a0884da2a86facc\n",
      "Reusing dataset csv (cache\\csv\\default-2a0884da2a86facc\\0.0.0\\433e0ccc46f9880962cc2b12065189766fbb2bee57a221866138fb9203c83519)\n",
      "100%|██████████| 1/1 [00:00<00:00, 500.22it/s]\n",
      "Loading cached split indices for dataset at cache\\csv\\default-2a0884da2a86facc\\0.0.0\\433e0ccc46f9880962cc2b12065189766fbb2bee57a221866138fb9203c83519\\cache-4c59c8594ee83881.arrow and cache\\csv\\default-2a0884da2a86facc\\0.0.0\\433e0ccc46f9880962cc2b12065189766fbb2bee57a221866138fb9203c83519\\cache-979ea9e674132025.arrow\n",
      "Loading cached split indices for dataset at cache\\csv\\default-2a0884da2a86facc\\0.0.0\\433e0ccc46f9880962cc2b12065189766fbb2bee57a221866138fb9203c83519\\cache-2cdb39c47142be86.arrow and cache\\csv\\default-2a0884da2a86facc\\0.0.0\\433e0ccc46f9880962cc2b12065189766fbb2bee57a221866138fb9203c83519\\cache-4b32be2eacb5d552.arrow\n",
      "Loading cached processed dataset at cache\\csv\\default-2a0884da2a86facc\\0.0.0\\433e0ccc46f9880962cc2b12065189766fbb2bee57a221866138fb9203c83519\\cache-6647fe37f40ed616.arrow\n",
      "Loading cached processed dataset at cache\\csv\\default-2a0884da2a86facc\\0.0.0\\433e0ccc46f9880962cc2b12065189766fbb2bee57a221866138fb9203c83519\\cache-98b2463bec0fd009.arrow\n",
      "Loading cached processed dataset at cache\\csv\\default-2a0884da2a86facc\\0.0.0\\433e0ccc46f9880962cc2b12065189766fbb2bee57a221866138fb9203c83519\\cache-015ae8852bcf3fa4.arrow\n",
      "Loading cached shuffled indices for dataset at cache\\csv\\default-2a0884da2a86facc\\0.0.0\\433e0ccc46f9880962cc2b12065189766fbb2bee57a221866138fb9203c83519\\cache-eefdc5e3fbc3d2c1.arrow\n"
     ]
    },
    {
     "name": "stdout",
     "output_type": "stream",
     "text": [
      "Creating predictions\n"
     ]
    },
    {
     "name": "stderr",
     "output_type": "stream",
     "text": [
      "100%|██████████| 10/10 [00:32<00:00,  3.21s/it]\n",
      "100%|██████████| 10/10 [00:00<00:00, 3204.94it/s]\n",
      " 62%|██████▎   | 5/8 [02:18<01:30, 30.01s/it]All model checkpoint layers were used when initializing TFGPT2LMHeadModel.\n",
      "\n",
      "All the layers of TFGPT2LMHeadModel were initialized from the model checkpoint at ..\\Data\\Characters\\Vader\\vader_model.\n",
      "If your task is similar to the task the model of the checkpoint was trained on, you can already use TFGPT2LMHeadModel for predictions without further training.\n",
      "Using custom data configuration default-3bee7e44262edb7f\n",
      "Reusing dataset csv (cache\\csv\\default-3bee7e44262edb7f\\0.0.0\\433e0ccc46f9880962cc2b12065189766fbb2bee57a221866138fb9203c83519)\n",
      "100%|██████████| 1/1 [00:00<00:00, 499.56it/s]\n",
      "Loading cached split indices for dataset at cache\\csv\\default-3bee7e44262edb7f\\0.0.0\\433e0ccc46f9880962cc2b12065189766fbb2bee57a221866138fb9203c83519\\cache-96d0a5ba5e8fec42.arrow and cache\\csv\\default-3bee7e44262edb7f\\0.0.0\\433e0ccc46f9880962cc2b12065189766fbb2bee57a221866138fb9203c83519\\cache-1443283cf78ecd8c.arrow\n",
      "Loading cached split indices for dataset at cache\\csv\\default-3bee7e44262edb7f\\0.0.0\\433e0ccc46f9880962cc2b12065189766fbb2bee57a221866138fb9203c83519\\cache-fe15dac5f93d7344.arrow and cache\\csv\\default-3bee7e44262edb7f\\0.0.0\\433e0ccc46f9880962cc2b12065189766fbb2bee57a221866138fb9203c83519\\cache-c4745ad835a23735.arrow\n",
      "Loading cached processed dataset at cache\\csv\\default-3bee7e44262edb7f\\0.0.0\\433e0ccc46f9880962cc2b12065189766fbb2bee57a221866138fb9203c83519\\cache-52e19da7533330c8.arrow\n",
      "Loading cached processed dataset at cache\\csv\\default-3bee7e44262edb7f\\0.0.0\\433e0ccc46f9880962cc2b12065189766fbb2bee57a221866138fb9203c83519\\cache-979822d41ccd7a4a.arrow\n",
      "Loading cached processed dataset at cache\\csv\\default-3bee7e44262edb7f\\0.0.0\\433e0ccc46f9880962cc2b12065189766fbb2bee57a221866138fb9203c83519\\cache-d486cd416c29c441.arrow\n",
      "Loading cached shuffled indices for dataset at cache\\csv\\default-3bee7e44262edb7f\\0.0.0\\433e0ccc46f9880962cc2b12065189766fbb2bee57a221866138fb9203c83519\\cache-5061dd57662d5196.arrow\n"
     ]
    },
    {
     "name": "stdout",
     "output_type": "stream",
     "text": [
      "Creating predictions\n"
     ]
    },
    {
     "name": "stderr",
     "output_type": "stream",
     "text": [
      "100%|██████████| 10/10 [00:27<00:00,  2.71s/it]\n",
      "100%|██████████| 10/10 [00:00<00:00, 1107.35it/s]\n",
      " 75%|███████▌  | 6/8 [02:49<01:00, 30.35s/it]All model checkpoint layers were used when initializing TFGPT2LMHeadModel.\n",
      "\n",
      "All the layers of TFGPT2LMHeadModel were initialized from the model checkpoint at ..\\Data\\Characters\\Joey\\joey_model.\n",
      "If your task is similar to the task the model of the checkpoint was trained on, you can already use TFGPT2LMHeadModel for predictions without further training.\n",
      "Using custom data configuration default-b81141adc87b87bf\n",
      "Reusing dataset csv (cache\\csv\\default-b81141adc87b87bf\\0.0.0\\433e0ccc46f9880962cc2b12065189766fbb2bee57a221866138fb9203c83519)\n",
      "100%|██████████| 1/1 [00:00<00:00, 370.55it/s]\n",
      "Loading cached split indices for dataset at cache\\csv\\default-b81141adc87b87bf\\0.0.0\\433e0ccc46f9880962cc2b12065189766fbb2bee57a221866138fb9203c83519\\cache-e2d3926d0ffd0fd3.arrow and cache\\csv\\default-b81141adc87b87bf\\0.0.0\\433e0ccc46f9880962cc2b12065189766fbb2bee57a221866138fb9203c83519\\cache-f888d4a055d9f5e2.arrow\n",
      "Loading cached split indices for dataset at cache\\csv\\default-b81141adc87b87bf\\0.0.0\\433e0ccc46f9880962cc2b12065189766fbb2bee57a221866138fb9203c83519\\cache-682a04a266efce80.arrow and cache\\csv\\default-b81141adc87b87bf\\0.0.0\\433e0ccc46f9880962cc2b12065189766fbb2bee57a221866138fb9203c83519\\cache-13fca5dad2d5247a.arrow\n",
      "Loading cached processed dataset at cache\\csv\\default-b81141adc87b87bf\\0.0.0\\433e0ccc46f9880962cc2b12065189766fbb2bee57a221866138fb9203c83519\\cache-7662390b0e4f3793.arrow\n",
      "Loading cached processed dataset at cache\\csv\\default-b81141adc87b87bf\\0.0.0\\433e0ccc46f9880962cc2b12065189766fbb2bee57a221866138fb9203c83519\\cache-4379f0323f83a3bd.arrow\n",
      "Loading cached processed dataset at cache\\csv\\default-b81141adc87b87bf\\0.0.0\\433e0ccc46f9880962cc2b12065189766fbb2bee57a221866138fb9203c83519\\cache-ff90937c11e9e756.arrow\n",
      "Loading cached shuffled indices for dataset at cache\\csv\\default-b81141adc87b87bf\\0.0.0\\433e0ccc46f9880962cc2b12065189766fbb2bee57a221866138fb9203c83519\\cache-881ed2c7d650f5ac.arrow\n"
     ]
    },
    {
     "name": "stdout",
     "output_type": "stream",
     "text": [
      "Creating predictions\n"
     ]
    },
    {
     "name": "stderr",
     "output_type": "stream",
     "text": [
      "100%|██████████| 10/10 [00:38<00:00,  3.82s/it]\n",
      "100%|██████████| 10/10 [00:00<00:00, 903.69it/s]\n",
      " 88%|████████▊ | 7/8 [03:31<00:34, 34.16s/it]All model checkpoint layers were used when initializing TFGPT2LMHeadModel.\n",
      "\n",
      "All the layers of TFGPT2LMHeadModel were initialized from the model checkpoint at ..\\Data\\Characters\\Phoebe\\phoebe_model.\n",
      "If your task is similar to the task the model of the checkpoint was trained on, you can already use TFGPT2LMHeadModel for predictions without further training.\n",
      "Using custom data configuration default-48cc5f719001fd3a\n",
      "Reusing dataset csv (cache\\csv\\default-48cc5f719001fd3a\\0.0.0\\433e0ccc46f9880962cc2b12065189766fbb2bee57a221866138fb9203c83519)\n",
      "100%|██████████| 1/1 [00:00<00:00, 492.29it/s]\n",
      "Loading cached split indices for dataset at cache\\csv\\default-48cc5f719001fd3a\\0.0.0\\433e0ccc46f9880962cc2b12065189766fbb2bee57a221866138fb9203c83519\\cache-16c140b5da191e7c.arrow and cache\\csv\\default-48cc5f719001fd3a\\0.0.0\\433e0ccc46f9880962cc2b12065189766fbb2bee57a221866138fb9203c83519\\cache-ed121df269d87298.arrow\n",
      "Loading cached split indices for dataset at cache\\csv\\default-48cc5f719001fd3a\\0.0.0\\433e0ccc46f9880962cc2b12065189766fbb2bee57a221866138fb9203c83519\\cache-f4f26cbce3ecb27c.arrow and cache\\csv\\default-48cc5f719001fd3a\\0.0.0\\433e0ccc46f9880962cc2b12065189766fbb2bee57a221866138fb9203c83519\\cache-186da54849d8ccad.arrow\n",
      "Loading cached processed dataset at cache\\csv\\default-48cc5f719001fd3a\\0.0.0\\433e0ccc46f9880962cc2b12065189766fbb2bee57a221866138fb9203c83519\\cache-7c5b176b39e0048e.arrow\n",
      "Loading cached processed dataset at cache\\csv\\default-48cc5f719001fd3a\\0.0.0\\433e0ccc46f9880962cc2b12065189766fbb2bee57a221866138fb9203c83519\\cache-5221c27b06394c28.arrow\n",
      "Loading cached processed dataset at cache\\csv\\default-48cc5f719001fd3a\\0.0.0\\433e0ccc46f9880962cc2b12065189766fbb2bee57a221866138fb9203c83519\\cache-20bada48da47c9c4.arrow\n",
      "Loading cached shuffled indices for dataset at cache\\csv\\default-48cc5f719001fd3a\\0.0.0\\433e0ccc46f9880962cc2b12065189766fbb2bee57a221866138fb9203c83519\\cache-1d4705c0ffbe174e.arrow\n"
     ]
    },
    {
     "name": "stdout",
     "output_type": "stream",
     "text": [
      "Creating predictions\n"
     ]
    },
    {
     "name": "stderr",
     "output_type": "stream",
     "text": [
      "100%|██████████| 10/10 [00:22<00:00,  2.29s/it]\n",
      "100%|██████████| 10/10 [00:00<00:00, 1106.76it/s]\n",
      "100%|██████████| 8/8 [03:58<00:00, 29.78s/it]\n"
     ]
    },
    {
     "name": "stdout",
     "output_type": "stream",
     "text": [
      "Run 6/15\n"
     ]
    },
    {
     "name": "stderr",
     "output_type": "stream",
     "text": [
      "  0%|          | 0/8 [00:00<?, ?it/s]All model checkpoint layers were used when initializing TFGPT2LMHeadModel.\n",
      "\n",
      "All the layers of TFGPT2LMHeadModel were initialized from the model checkpoint at ..\\Data\\Characters\\Barney\\barney_model.\n",
      "If your task is similar to the task the model of the checkpoint was trained on, you can already use TFGPT2LMHeadModel for predictions without further training.\n",
      "Using custom data configuration default-d78476db32c8db98\n",
      "Reusing dataset csv (cache\\csv\\default-d78476db32c8db98\\0.0.0\\433e0ccc46f9880962cc2b12065189766fbb2bee57a221866138fb9203c83519)\n",
      "100%|██████████| 1/1 [00:00<00:00, 333.25it/s]\n",
      "Loading cached split indices for dataset at cache\\csv\\default-d78476db32c8db98\\0.0.0\\433e0ccc46f9880962cc2b12065189766fbb2bee57a221866138fb9203c83519\\cache-651037d43e5e3dbd.arrow and cache\\csv\\default-d78476db32c8db98\\0.0.0\\433e0ccc46f9880962cc2b12065189766fbb2bee57a221866138fb9203c83519\\cache-7e4903d85e508b43.arrow\n",
      "Loading cached split indices for dataset at cache\\csv\\default-d78476db32c8db98\\0.0.0\\433e0ccc46f9880962cc2b12065189766fbb2bee57a221866138fb9203c83519\\cache-1b018c4ce0c1ed8c.arrow and cache\\csv\\default-d78476db32c8db98\\0.0.0\\433e0ccc46f9880962cc2b12065189766fbb2bee57a221866138fb9203c83519\\cache-2cfa4b0ef22c9ad5.arrow\n",
      "Loading cached processed dataset at cache\\csv\\default-d78476db32c8db98\\0.0.0\\433e0ccc46f9880962cc2b12065189766fbb2bee57a221866138fb9203c83519\\cache-89f9b92b2a083af0.arrow\n",
      "Loading cached processed dataset at cache\\csv\\default-d78476db32c8db98\\0.0.0\\433e0ccc46f9880962cc2b12065189766fbb2bee57a221866138fb9203c83519\\cache-f26a814e4e6d10fc.arrow\n",
      "Loading cached processed dataset at cache\\csv\\default-d78476db32c8db98\\0.0.0\\433e0ccc46f9880962cc2b12065189766fbb2bee57a221866138fb9203c83519\\cache-6655d46d8a0182ef.arrow\n",
      "Loading cached shuffled indices for dataset at cache\\csv\\default-d78476db32c8db98\\0.0.0\\433e0ccc46f9880962cc2b12065189766fbb2bee57a221866138fb9203c83519\\cache-b0ddd597589321af.arrow\n"
     ]
    },
    {
     "name": "stdout",
     "output_type": "stream",
     "text": [
      "Creating predictions\n"
     ]
    },
    {
     "name": "stderr",
     "output_type": "stream",
     "text": [
      "100%|██████████| 10/10 [00:29<00:00,  2.95s/it]\n",
      "100%|██████████| 10/10 [00:00<00:00, 688.40it/s]\n",
      " 12%|█▎        | 1/8 [00:33<03:52, 33.15s/it]All model checkpoint layers were used when initializing TFGPT2LMHeadModel.\n",
      "\n",
      "All the layers of TFGPT2LMHeadModel were initialized from the model checkpoint at ..\\Data\\Characters\\Sheldon\\sheldon_model.\n",
      "If your task is similar to the task the model of the checkpoint was trained on, you can already use TFGPT2LMHeadModel for predictions without further training.\n",
      "Using custom data configuration default-8207271dc09e0a46\n",
      "Reusing dataset csv (cache\\csv\\default-8207271dc09e0a46\\0.0.0\\433e0ccc46f9880962cc2b12065189766fbb2bee57a221866138fb9203c83519)\n",
      "100%|██████████| 1/1 [00:00<00:00, 270.53it/s]\n",
      "Loading cached split indices for dataset at cache\\csv\\default-8207271dc09e0a46\\0.0.0\\433e0ccc46f9880962cc2b12065189766fbb2bee57a221866138fb9203c83519\\cache-46b6cd7566c1d243.arrow and cache\\csv\\default-8207271dc09e0a46\\0.0.0\\433e0ccc46f9880962cc2b12065189766fbb2bee57a221866138fb9203c83519\\cache-e3e40e36f25dded7.arrow\n",
      "Loading cached split indices for dataset at cache\\csv\\default-8207271dc09e0a46\\0.0.0\\433e0ccc46f9880962cc2b12065189766fbb2bee57a221866138fb9203c83519\\cache-1774625d7360210c.arrow and cache\\csv\\default-8207271dc09e0a46\\0.0.0\\433e0ccc46f9880962cc2b12065189766fbb2bee57a221866138fb9203c83519\\cache-ad5b734370182aae.arrow\n",
      "Loading cached processed dataset at cache\\csv\\default-8207271dc09e0a46\\0.0.0\\433e0ccc46f9880962cc2b12065189766fbb2bee57a221866138fb9203c83519\\cache-fed8798d874c65dd.arrow\n",
      "Loading cached processed dataset at cache\\csv\\default-8207271dc09e0a46\\0.0.0\\433e0ccc46f9880962cc2b12065189766fbb2bee57a221866138fb9203c83519\\cache-632156930e5bea85.arrow\n",
      "Loading cached processed dataset at cache\\csv\\default-8207271dc09e0a46\\0.0.0\\433e0ccc46f9880962cc2b12065189766fbb2bee57a221866138fb9203c83519\\cache-448ecc7a6afdd007.arrow\n",
      "Loading cached shuffled indices for dataset at cache\\csv\\default-8207271dc09e0a46\\0.0.0\\433e0ccc46f9880962cc2b12065189766fbb2bee57a221866138fb9203c83519\\cache-44200aae20815359.arrow\n"
     ]
    },
    {
     "name": "stdout",
     "output_type": "stream",
     "text": [
      "Creating predictions\n"
     ]
    },
    {
     "name": "stderr",
     "output_type": "stream",
     "text": [
      "100%|██████████| 10/10 [00:24<00:00,  2.42s/it]\n",
      "100%|██████████| 10/10 [00:00<00:00, 1107.41it/s]\n",
      " 25%|██▌       | 2/8 [01:01<03:01, 30.21s/it]All model checkpoint layers were used when initializing TFGPT2LMHeadModel.\n",
      "\n",
      "All the layers of TFGPT2LMHeadModel were initialized from the model checkpoint at ..\\Data\\Characters\\Harry\\harry_model.\n",
      "If your task is similar to the task the model of the checkpoint was trained on, you can already use TFGPT2LMHeadModel for predictions without further training.\n",
      "Using custom data configuration default-5e8064f57286033a\n",
      "Reusing dataset csv (cache\\csv\\default-5e8064f57286033a\\0.0.0\\433e0ccc46f9880962cc2b12065189766fbb2bee57a221866138fb9203c83519)\n",
      "100%|██████████| 1/1 [00:00<00:00, 447.44it/s]\n",
      "Loading cached split indices for dataset at cache\\csv\\default-5e8064f57286033a\\0.0.0\\433e0ccc46f9880962cc2b12065189766fbb2bee57a221866138fb9203c83519\\cache-2b86c587abd47c66.arrow and cache\\csv\\default-5e8064f57286033a\\0.0.0\\433e0ccc46f9880962cc2b12065189766fbb2bee57a221866138fb9203c83519\\cache-8919d70a4bf80eed.arrow\n",
      "Loading cached split indices for dataset at cache\\csv\\default-5e8064f57286033a\\0.0.0\\433e0ccc46f9880962cc2b12065189766fbb2bee57a221866138fb9203c83519\\cache-4099b79485c950ea.arrow and cache\\csv\\default-5e8064f57286033a\\0.0.0\\433e0ccc46f9880962cc2b12065189766fbb2bee57a221866138fb9203c83519\\cache-cecb46b03995ab9b.arrow\n",
      "Loading cached processed dataset at cache\\csv\\default-5e8064f57286033a\\0.0.0\\433e0ccc46f9880962cc2b12065189766fbb2bee57a221866138fb9203c83519\\cache-e80578e3b4f7f025.arrow\n",
      "Loading cached processed dataset at cache\\csv\\default-5e8064f57286033a\\0.0.0\\433e0ccc46f9880962cc2b12065189766fbb2bee57a221866138fb9203c83519\\cache-45cad4fe25e5526e.arrow\n",
      "Loading cached processed dataset at cache\\csv\\default-5e8064f57286033a\\0.0.0\\433e0ccc46f9880962cc2b12065189766fbb2bee57a221866138fb9203c83519\\cache-937d1b7b6a0a1add.arrow\n",
      "Loading cached shuffled indices for dataset at cache\\csv\\default-5e8064f57286033a\\0.0.0\\433e0ccc46f9880962cc2b12065189766fbb2bee57a221866138fb9203c83519\\cache-1961250b1edbce64.arrow\n"
     ]
    },
    {
     "name": "stdout",
     "output_type": "stream",
     "text": [
      "Creating predictions\n"
     ]
    },
    {
     "name": "stderr",
     "output_type": "stream",
     "text": [
      "100%|██████████| 10/10 [00:18<00:00,  1.86s/it]\n",
      "100%|██████████| 10/10 [00:00<00:00, 3599.03it/s]\n",
      " 38%|███▊      | 3/8 [01:23<02:12, 26.52s/it]All model checkpoint layers were used when initializing TFGPT2LMHeadModel.\n",
      "\n",
      "All the layers of TFGPT2LMHeadModel were initialized from the model checkpoint at ..\\Data\\Characters\\Fry\\fry_model.\n",
      "If your task is similar to the task the model of the checkpoint was trained on, you can already use TFGPT2LMHeadModel for predictions without further training.\n",
      "Using custom data configuration default-b35448ec5dd887ec\n",
      "Reusing dataset csv (cache\\csv\\default-b35448ec5dd887ec\\0.0.0\\433e0ccc46f9880962cc2b12065189766fbb2bee57a221866138fb9203c83519)\n",
      "100%|██████████| 1/1 [00:00<00:00, 499.68it/s]\n",
      "Loading cached split indices for dataset at cache\\csv\\default-b35448ec5dd887ec\\0.0.0\\433e0ccc46f9880962cc2b12065189766fbb2bee57a221866138fb9203c83519\\cache-667383473c444f25.arrow and cache\\csv\\default-b35448ec5dd887ec\\0.0.0\\433e0ccc46f9880962cc2b12065189766fbb2bee57a221866138fb9203c83519\\cache-c520a8a264854da4.arrow\n",
      "Loading cached split indices for dataset at cache\\csv\\default-b35448ec5dd887ec\\0.0.0\\433e0ccc46f9880962cc2b12065189766fbb2bee57a221866138fb9203c83519\\cache-b072a26900059a04.arrow and cache\\csv\\default-b35448ec5dd887ec\\0.0.0\\433e0ccc46f9880962cc2b12065189766fbb2bee57a221866138fb9203c83519\\cache-885672efcb78500c.arrow\n",
      "Loading cached processed dataset at cache\\csv\\default-b35448ec5dd887ec\\0.0.0\\433e0ccc46f9880962cc2b12065189766fbb2bee57a221866138fb9203c83519\\cache-f2119e5a34f2eb76.arrow\n",
      "Loading cached processed dataset at cache\\csv\\default-b35448ec5dd887ec\\0.0.0\\433e0ccc46f9880962cc2b12065189766fbb2bee57a221866138fb9203c83519\\cache-cb34da498e1e68ed.arrow\n",
      "Loading cached processed dataset at cache\\csv\\default-b35448ec5dd887ec\\0.0.0\\433e0ccc46f9880962cc2b12065189766fbb2bee57a221866138fb9203c83519\\cache-3b065f584f7e66c9.arrow\n",
      "Loading cached shuffled indices for dataset at cache\\csv\\default-b35448ec5dd887ec\\0.0.0\\433e0ccc46f9880962cc2b12065189766fbb2bee57a221866138fb9203c83519\\cache-9012223f14afe1d0.arrow\n"
     ]
    },
    {
     "name": "stdout",
     "output_type": "stream",
     "text": [
      "Creating predictions\n"
     ]
    },
    {
     "name": "stderr",
     "output_type": "stream",
     "text": [
      "100%|██████████| 10/10 [00:23<00:00,  2.31s/it]\n",
      "100%|██████████| 10/10 [00:00<00:00, 1096.75it/s]\n",
      " 50%|█████     | 4/8 [01:49<01:45, 26.45s/it]All model checkpoint layers were used when initializing TFGPT2LMHeadModel.\n",
      "\n",
      "All the layers of TFGPT2LMHeadModel were initialized from the model checkpoint at ..\\Data\\Characters\\Bender\\bender_model.\n",
      "If your task is similar to the task the model of the checkpoint was trained on, you can already use TFGPT2LMHeadModel for predictions without further training.\n",
      "Using custom data configuration default-2a0884da2a86facc\n",
      "Reusing dataset csv (cache\\csv\\default-2a0884da2a86facc\\0.0.0\\433e0ccc46f9880962cc2b12065189766fbb2bee57a221866138fb9203c83519)\n",
      "100%|██████████| 1/1 [00:00<00:00, 999.36it/s]\n",
      "Loading cached split indices for dataset at cache\\csv\\default-2a0884da2a86facc\\0.0.0\\433e0ccc46f9880962cc2b12065189766fbb2bee57a221866138fb9203c83519\\cache-4c59c8594ee83881.arrow and cache\\csv\\default-2a0884da2a86facc\\0.0.0\\433e0ccc46f9880962cc2b12065189766fbb2bee57a221866138fb9203c83519\\cache-979ea9e674132025.arrow\n",
      "Loading cached split indices for dataset at cache\\csv\\default-2a0884da2a86facc\\0.0.0\\433e0ccc46f9880962cc2b12065189766fbb2bee57a221866138fb9203c83519\\cache-2cdb39c47142be86.arrow and cache\\csv\\default-2a0884da2a86facc\\0.0.0\\433e0ccc46f9880962cc2b12065189766fbb2bee57a221866138fb9203c83519\\cache-4b32be2eacb5d552.arrow\n",
      "Loading cached processed dataset at cache\\csv\\default-2a0884da2a86facc\\0.0.0\\433e0ccc46f9880962cc2b12065189766fbb2bee57a221866138fb9203c83519\\cache-6647fe37f40ed616.arrow\n",
      "Loading cached processed dataset at cache\\csv\\default-2a0884da2a86facc\\0.0.0\\433e0ccc46f9880962cc2b12065189766fbb2bee57a221866138fb9203c83519\\cache-98b2463bec0fd009.arrow\n",
      "Loading cached processed dataset at cache\\csv\\default-2a0884da2a86facc\\0.0.0\\433e0ccc46f9880962cc2b12065189766fbb2bee57a221866138fb9203c83519\\cache-015ae8852bcf3fa4.arrow\n",
      "Loading cached shuffled indices for dataset at cache\\csv\\default-2a0884da2a86facc\\0.0.0\\433e0ccc46f9880962cc2b12065189766fbb2bee57a221866138fb9203c83519\\cache-eefdc5e3fbc3d2c1.arrow\n"
     ]
    },
    {
     "name": "stdout",
     "output_type": "stream",
     "text": [
      "Creating predictions\n"
     ]
    },
    {
     "name": "stderr",
     "output_type": "stream",
     "text": [
      "100%|██████████| 10/10 [00:28<00:00,  2.86s/it]\n",
      "100%|██████████| 10/10 [00:00<00:00, 876.55it/s]\n",
      " 62%|██████▎   | 5/8 [02:22<01:25, 28.54s/it]All model checkpoint layers were used when initializing TFGPT2LMHeadModel.\n",
      "\n",
      "All the layers of TFGPT2LMHeadModel were initialized from the model checkpoint at ..\\Data\\Characters\\Vader\\vader_model.\n",
      "If your task is similar to the task the model of the checkpoint was trained on, you can already use TFGPT2LMHeadModel for predictions without further training.\n",
      "Using custom data configuration default-3bee7e44262edb7f\n",
      "Reusing dataset csv (cache\\csv\\default-3bee7e44262edb7f\\0.0.0\\433e0ccc46f9880962cc2b12065189766fbb2bee57a221866138fb9203c83519)\n",
      "100%|██████████| 1/1 [00:00<00:00, 678.25it/s]\n",
      "Loading cached split indices for dataset at cache\\csv\\default-3bee7e44262edb7f\\0.0.0\\433e0ccc46f9880962cc2b12065189766fbb2bee57a221866138fb9203c83519\\cache-96d0a5ba5e8fec42.arrow and cache\\csv\\default-3bee7e44262edb7f\\0.0.0\\433e0ccc46f9880962cc2b12065189766fbb2bee57a221866138fb9203c83519\\cache-1443283cf78ecd8c.arrow\n",
      "Loading cached split indices for dataset at cache\\csv\\default-3bee7e44262edb7f\\0.0.0\\433e0ccc46f9880962cc2b12065189766fbb2bee57a221866138fb9203c83519\\cache-fe15dac5f93d7344.arrow and cache\\csv\\default-3bee7e44262edb7f\\0.0.0\\433e0ccc46f9880962cc2b12065189766fbb2bee57a221866138fb9203c83519\\cache-c4745ad835a23735.arrow\n",
      "Loading cached processed dataset at cache\\csv\\default-3bee7e44262edb7f\\0.0.0\\433e0ccc46f9880962cc2b12065189766fbb2bee57a221866138fb9203c83519\\cache-52e19da7533330c8.arrow\n",
      "Loading cached processed dataset at cache\\csv\\default-3bee7e44262edb7f\\0.0.0\\433e0ccc46f9880962cc2b12065189766fbb2bee57a221866138fb9203c83519\\cache-979822d41ccd7a4a.arrow\n",
      "Loading cached processed dataset at cache\\csv\\default-3bee7e44262edb7f\\0.0.0\\433e0ccc46f9880962cc2b12065189766fbb2bee57a221866138fb9203c83519\\cache-d486cd416c29c441.arrow\n",
      "Loading cached shuffled indices for dataset at cache\\csv\\default-3bee7e44262edb7f\\0.0.0\\433e0ccc46f9880962cc2b12065189766fbb2bee57a221866138fb9203c83519\\cache-5061dd57662d5196.arrow\n"
     ]
    },
    {
     "name": "stdout",
     "output_type": "stream",
     "text": [
      "Creating predictions\n"
     ]
    },
    {
     "name": "stderr",
     "output_type": "stream",
     "text": [
      "100%|██████████| 10/10 [00:16<00:00,  1.68s/it]\n",
      "100%|██████████| 10/10 [00:00<00:00, 1107.64it/s]\n",
      " 75%|███████▌  | 6/8 [02:42<00:51, 25.67s/it]All model checkpoint layers were used when initializing TFGPT2LMHeadModel.\n",
      "\n",
      "All the layers of TFGPT2LMHeadModel were initialized from the model checkpoint at ..\\Data\\Characters\\Joey\\joey_model.\n",
      "If your task is similar to the task the model of the checkpoint was trained on, you can already use TFGPT2LMHeadModel for predictions without further training.\n",
      "Using custom data configuration default-b81141adc87b87bf\n",
      "Reusing dataset csv (cache\\csv\\default-b81141adc87b87bf\\0.0.0\\433e0ccc46f9880962cc2b12065189766fbb2bee57a221866138fb9203c83519)\n",
      "100%|██████████| 1/1 [00:00<00:00, 499.68it/s]\n",
      "Loading cached split indices for dataset at cache\\csv\\default-b81141adc87b87bf\\0.0.0\\433e0ccc46f9880962cc2b12065189766fbb2bee57a221866138fb9203c83519\\cache-e2d3926d0ffd0fd3.arrow and cache\\csv\\default-b81141adc87b87bf\\0.0.0\\433e0ccc46f9880962cc2b12065189766fbb2bee57a221866138fb9203c83519\\cache-f888d4a055d9f5e2.arrow\n",
      "Loading cached split indices for dataset at cache\\csv\\default-b81141adc87b87bf\\0.0.0\\433e0ccc46f9880962cc2b12065189766fbb2bee57a221866138fb9203c83519\\cache-682a04a266efce80.arrow and cache\\csv\\default-b81141adc87b87bf\\0.0.0\\433e0ccc46f9880962cc2b12065189766fbb2bee57a221866138fb9203c83519\\cache-13fca5dad2d5247a.arrow\n",
      "Loading cached processed dataset at cache\\csv\\default-b81141adc87b87bf\\0.0.0\\433e0ccc46f9880962cc2b12065189766fbb2bee57a221866138fb9203c83519\\cache-7662390b0e4f3793.arrow\n",
      "Loading cached processed dataset at cache\\csv\\default-b81141adc87b87bf\\0.0.0\\433e0ccc46f9880962cc2b12065189766fbb2bee57a221866138fb9203c83519\\cache-4379f0323f83a3bd.arrow\n",
      "Loading cached processed dataset at cache\\csv\\default-b81141adc87b87bf\\0.0.0\\433e0ccc46f9880962cc2b12065189766fbb2bee57a221866138fb9203c83519\\cache-ff90937c11e9e756.arrow\n",
      "Loading cached shuffled indices for dataset at cache\\csv\\default-b81141adc87b87bf\\0.0.0\\433e0ccc46f9880962cc2b12065189766fbb2bee57a221866138fb9203c83519\\cache-881ed2c7d650f5ac.arrow\n"
     ]
    },
    {
     "name": "stdout",
     "output_type": "stream",
     "text": [
      "Creating predictions\n"
     ]
    },
    {
     "name": "stderr",
     "output_type": "stream",
     "text": [
      "100%|██████████| 10/10 [00:25<00:00,  2.57s/it]\n",
      "100%|██████████| 10/10 [00:00<00:00, 1110.96it/s]\n",
      " 88%|████████▊ | 7/8 [03:11<00:26, 26.74s/it]All model checkpoint layers were used when initializing TFGPT2LMHeadModel.\n",
      "\n",
      "All the layers of TFGPT2LMHeadModel were initialized from the model checkpoint at ..\\Data\\Characters\\Phoebe\\phoebe_model.\n",
      "If your task is similar to the task the model of the checkpoint was trained on, you can already use TFGPT2LMHeadModel for predictions without further training.\n",
      "Using custom data configuration default-48cc5f719001fd3a\n",
      "Reusing dataset csv (cache\\csv\\default-48cc5f719001fd3a\\0.0.0\\433e0ccc46f9880962cc2b12065189766fbb2bee57a221866138fb9203c83519)\n",
      "100%|██████████| 1/1 [00:00<00:00, 477.11it/s]\n",
      "Loading cached split indices for dataset at cache\\csv\\default-48cc5f719001fd3a\\0.0.0\\433e0ccc46f9880962cc2b12065189766fbb2bee57a221866138fb9203c83519\\cache-16c140b5da191e7c.arrow and cache\\csv\\default-48cc5f719001fd3a\\0.0.0\\433e0ccc46f9880962cc2b12065189766fbb2bee57a221866138fb9203c83519\\cache-ed121df269d87298.arrow\n",
      "Loading cached split indices for dataset at cache\\csv\\default-48cc5f719001fd3a\\0.0.0\\433e0ccc46f9880962cc2b12065189766fbb2bee57a221866138fb9203c83519\\cache-f4f26cbce3ecb27c.arrow and cache\\csv\\default-48cc5f719001fd3a\\0.0.0\\433e0ccc46f9880962cc2b12065189766fbb2bee57a221866138fb9203c83519\\cache-186da54849d8ccad.arrow\n",
      "Loading cached processed dataset at cache\\csv\\default-48cc5f719001fd3a\\0.0.0\\433e0ccc46f9880962cc2b12065189766fbb2bee57a221866138fb9203c83519\\cache-7c5b176b39e0048e.arrow\n",
      "Loading cached processed dataset at cache\\csv\\default-48cc5f719001fd3a\\0.0.0\\433e0ccc46f9880962cc2b12065189766fbb2bee57a221866138fb9203c83519\\cache-5221c27b06394c28.arrow\n",
      "Loading cached processed dataset at cache\\csv\\default-48cc5f719001fd3a\\0.0.0\\433e0ccc46f9880962cc2b12065189766fbb2bee57a221866138fb9203c83519\\cache-20bada48da47c9c4.arrow\n",
      "Loading cached shuffled indices for dataset at cache\\csv\\default-48cc5f719001fd3a\\0.0.0\\433e0ccc46f9880962cc2b12065189766fbb2bee57a221866138fb9203c83519\\cache-1d4705c0ffbe174e.arrow\n"
     ]
    },
    {
     "name": "stdout",
     "output_type": "stream",
     "text": [
      "Creating predictions\n"
     ]
    },
    {
     "name": "stderr",
     "output_type": "stream",
     "text": [
      "100%|██████████| 10/10 [00:28<00:00,  2.89s/it]\n",
      "100%|██████████| 10/10 [00:00<00:00, 3199.07it/s]\n",
      "100%|██████████| 8/8 [03:43<00:00, 27.89s/it]\n"
     ]
    },
    {
     "name": "stdout",
     "output_type": "stream",
     "text": [
      "Run 7/15\n"
     ]
    },
    {
     "name": "stderr",
     "output_type": "stream",
     "text": [
      "  0%|          | 0/8 [00:00<?, ?it/s]All model checkpoint layers were used when initializing TFGPT2LMHeadModel.\n",
      "\n",
      "All the layers of TFGPT2LMHeadModel were initialized from the model checkpoint at ..\\Data\\Characters\\Barney\\barney_model.\n",
      "If your task is similar to the task the model of the checkpoint was trained on, you can already use TFGPT2LMHeadModel for predictions without further training.\n",
      "Using custom data configuration default-d78476db32c8db98\n",
      "Reusing dataset csv (cache\\csv\\default-d78476db32c8db98\\0.0.0\\433e0ccc46f9880962cc2b12065189766fbb2bee57a221866138fb9203c83519)\n",
      "100%|██████████| 1/1 [00:00<00:00, 499.98it/s]\n",
      "Loading cached split indices for dataset at cache\\csv\\default-d78476db32c8db98\\0.0.0\\433e0ccc46f9880962cc2b12065189766fbb2bee57a221866138fb9203c83519\\cache-651037d43e5e3dbd.arrow and cache\\csv\\default-d78476db32c8db98\\0.0.0\\433e0ccc46f9880962cc2b12065189766fbb2bee57a221866138fb9203c83519\\cache-7e4903d85e508b43.arrow\n",
      "Loading cached split indices for dataset at cache\\csv\\default-d78476db32c8db98\\0.0.0\\433e0ccc46f9880962cc2b12065189766fbb2bee57a221866138fb9203c83519\\cache-1b018c4ce0c1ed8c.arrow and cache\\csv\\default-d78476db32c8db98\\0.0.0\\433e0ccc46f9880962cc2b12065189766fbb2bee57a221866138fb9203c83519\\cache-2cfa4b0ef22c9ad5.arrow\n",
      "Loading cached processed dataset at cache\\csv\\default-d78476db32c8db98\\0.0.0\\433e0ccc46f9880962cc2b12065189766fbb2bee57a221866138fb9203c83519\\cache-89f9b92b2a083af0.arrow\n",
      "Loading cached processed dataset at cache\\csv\\default-d78476db32c8db98\\0.0.0\\433e0ccc46f9880962cc2b12065189766fbb2bee57a221866138fb9203c83519\\cache-f26a814e4e6d10fc.arrow\n",
      "Loading cached processed dataset at cache\\csv\\default-d78476db32c8db98\\0.0.0\\433e0ccc46f9880962cc2b12065189766fbb2bee57a221866138fb9203c83519\\cache-6655d46d8a0182ef.arrow\n",
      "Loading cached shuffled indices for dataset at cache\\csv\\default-d78476db32c8db98\\0.0.0\\433e0ccc46f9880962cc2b12065189766fbb2bee57a221866138fb9203c83519\\cache-b0ddd597589321af.arrow\n"
     ]
    },
    {
     "name": "stdout",
     "output_type": "stream",
     "text": [
      "Creating predictions\n"
     ]
    },
    {
     "name": "stderr",
     "output_type": "stream",
     "text": [
      "100%|██████████| 10/10 [00:22<00:00,  2.22s/it]\n",
      "100%|██████████| 10/10 [00:00<00:00, 759.14it/s]\n",
      " 12%|█▎        | 1/8 [00:25<02:59, 25.63s/it]All model checkpoint layers were used when initializing TFGPT2LMHeadModel.\n",
      "\n",
      "All the layers of TFGPT2LMHeadModel were initialized from the model checkpoint at ..\\Data\\Characters\\Sheldon\\sheldon_model.\n",
      "If your task is similar to the task the model of the checkpoint was trained on, you can already use TFGPT2LMHeadModel for predictions without further training.\n",
      "Using custom data configuration default-8207271dc09e0a46\n",
      "Reusing dataset csv (cache\\csv\\default-8207271dc09e0a46\\0.0.0\\433e0ccc46f9880962cc2b12065189766fbb2bee57a221866138fb9203c83519)\n",
      "100%|██████████| 1/1 [00:00<00:00, 500.63it/s]\n",
      "Loading cached split indices for dataset at cache\\csv\\default-8207271dc09e0a46\\0.0.0\\433e0ccc46f9880962cc2b12065189766fbb2bee57a221866138fb9203c83519\\cache-46b6cd7566c1d243.arrow and cache\\csv\\default-8207271dc09e0a46\\0.0.0\\433e0ccc46f9880962cc2b12065189766fbb2bee57a221866138fb9203c83519\\cache-e3e40e36f25dded7.arrow\n",
      "Loading cached split indices for dataset at cache\\csv\\default-8207271dc09e0a46\\0.0.0\\433e0ccc46f9880962cc2b12065189766fbb2bee57a221866138fb9203c83519\\cache-1774625d7360210c.arrow and cache\\csv\\default-8207271dc09e0a46\\0.0.0\\433e0ccc46f9880962cc2b12065189766fbb2bee57a221866138fb9203c83519\\cache-ad5b734370182aae.arrow\n",
      "Loading cached processed dataset at cache\\csv\\default-8207271dc09e0a46\\0.0.0\\433e0ccc46f9880962cc2b12065189766fbb2bee57a221866138fb9203c83519\\cache-fed8798d874c65dd.arrow\n",
      "Loading cached processed dataset at cache\\csv\\default-8207271dc09e0a46\\0.0.0\\433e0ccc46f9880962cc2b12065189766fbb2bee57a221866138fb9203c83519\\cache-632156930e5bea85.arrow\n",
      "Loading cached processed dataset at cache\\csv\\default-8207271dc09e0a46\\0.0.0\\433e0ccc46f9880962cc2b12065189766fbb2bee57a221866138fb9203c83519\\cache-448ecc7a6afdd007.arrow\n",
      "Loading cached shuffled indices for dataset at cache\\csv\\default-8207271dc09e0a46\\0.0.0\\433e0ccc46f9880962cc2b12065189766fbb2bee57a221866138fb9203c83519\\cache-44200aae20815359.arrow\n"
     ]
    },
    {
     "name": "stdout",
     "output_type": "stream",
     "text": [
      "Creating predictions\n"
     ]
    },
    {
     "name": "stderr",
     "output_type": "stream",
     "text": [
      "100%|██████████| 10/10 [00:21<00:00,  2.14s/it]\n",
      "100%|██████████| 10/10 [00:00<00:00, 801.82it/s]\n",
      " 25%|██▌       | 2/8 [00:50<02:31, 25.26s/it]All model checkpoint layers were used when initializing TFGPT2LMHeadModel.\n",
      "\n",
      "All the layers of TFGPT2LMHeadModel were initialized from the model checkpoint at ..\\Data\\Characters\\Harry\\harry_model.\n",
      "If your task is similar to the task the model of the checkpoint was trained on, you can already use TFGPT2LMHeadModel for predictions without further training.\n",
      "Using custom data configuration default-5e8064f57286033a\n",
      "Reusing dataset csv (cache\\csv\\default-5e8064f57286033a\\0.0.0\\433e0ccc46f9880962cc2b12065189766fbb2bee57a221866138fb9203c83519)\n",
      "100%|██████████| 1/1 [00:00<00:00, 998.17it/s]\n",
      "Loading cached split indices for dataset at cache\\csv\\default-5e8064f57286033a\\0.0.0\\433e0ccc46f9880962cc2b12065189766fbb2bee57a221866138fb9203c83519\\cache-2b86c587abd47c66.arrow and cache\\csv\\default-5e8064f57286033a\\0.0.0\\433e0ccc46f9880962cc2b12065189766fbb2bee57a221866138fb9203c83519\\cache-8919d70a4bf80eed.arrow\n",
      "Loading cached split indices for dataset at cache\\csv\\default-5e8064f57286033a\\0.0.0\\433e0ccc46f9880962cc2b12065189766fbb2bee57a221866138fb9203c83519\\cache-4099b79485c950ea.arrow and cache\\csv\\default-5e8064f57286033a\\0.0.0\\433e0ccc46f9880962cc2b12065189766fbb2bee57a221866138fb9203c83519\\cache-cecb46b03995ab9b.arrow\n",
      "Loading cached processed dataset at cache\\csv\\default-5e8064f57286033a\\0.0.0\\433e0ccc46f9880962cc2b12065189766fbb2bee57a221866138fb9203c83519\\cache-e80578e3b4f7f025.arrow\n",
      "Loading cached processed dataset at cache\\csv\\default-5e8064f57286033a\\0.0.0\\433e0ccc46f9880962cc2b12065189766fbb2bee57a221866138fb9203c83519\\cache-45cad4fe25e5526e.arrow\n",
      "Loading cached processed dataset at cache\\csv\\default-5e8064f57286033a\\0.0.0\\433e0ccc46f9880962cc2b12065189766fbb2bee57a221866138fb9203c83519\\cache-937d1b7b6a0a1add.arrow\n",
      "Loading cached shuffled indices for dataset at cache\\csv\\default-5e8064f57286033a\\0.0.0\\433e0ccc46f9880962cc2b12065189766fbb2bee57a221866138fb9203c83519\\cache-1961250b1edbce64.arrow\n"
     ]
    },
    {
     "name": "stdout",
     "output_type": "stream",
     "text": [
      "Creating predictions\n"
     ]
    },
    {
     "name": "stderr",
     "output_type": "stream",
     "text": [
      "100%|██████████| 10/10 [00:14<00:00,  1.46s/it]\n",
      "100%|██████████| 10/10 [00:00<00:00, 1957.30it/s]\n",
      " 38%|███▊      | 3/8 [01:08<01:50, 22.07s/it]All model checkpoint layers were used when initializing TFGPT2LMHeadModel.\n",
      "\n",
      "All the layers of TFGPT2LMHeadModel were initialized from the model checkpoint at ..\\Data\\Characters\\Fry\\fry_model.\n",
      "If your task is similar to the task the model of the checkpoint was trained on, you can already use TFGPT2LMHeadModel for predictions without further training.\n",
      "Using custom data configuration default-b35448ec5dd887ec\n",
      "Reusing dataset csv (cache\\csv\\default-b35448ec5dd887ec\\0.0.0\\433e0ccc46f9880962cc2b12065189766fbb2bee57a221866138fb9203c83519)\n",
      "100%|██████████| 1/1 [00:00<00:00, 326.84it/s]\n",
      "Loading cached split indices for dataset at cache\\csv\\default-b35448ec5dd887ec\\0.0.0\\433e0ccc46f9880962cc2b12065189766fbb2bee57a221866138fb9203c83519\\cache-667383473c444f25.arrow and cache\\csv\\default-b35448ec5dd887ec\\0.0.0\\433e0ccc46f9880962cc2b12065189766fbb2bee57a221866138fb9203c83519\\cache-c520a8a264854da4.arrow\n",
      "Loading cached split indices for dataset at cache\\csv\\default-b35448ec5dd887ec\\0.0.0\\433e0ccc46f9880962cc2b12065189766fbb2bee57a221866138fb9203c83519\\cache-b072a26900059a04.arrow and cache\\csv\\default-b35448ec5dd887ec\\0.0.0\\433e0ccc46f9880962cc2b12065189766fbb2bee57a221866138fb9203c83519\\cache-885672efcb78500c.arrow\n",
      "Loading cached processed dataset at cache\\csv\\default-b35448ec5dd887ec\\0.0.0\\433e0ccc46f9880962cc2b12065189766fbb2bee57a221866138fb9203c83519\\cache-f2119e5a34f2eb76.arrow\n",
      "Loading cached processed dataset at cache\\csv\\default-b35448ec5dd887ec\\0.0.0\\433e0ccc46f9880962cc2b12065189766fbb2bee57a221866138fb9203c83519\\cache-cb34da498e1e68ed.arrow\n",
      "Loading cached processed dataset at cache\\csv\\default-b35448ec5dd887ec\\0.0.0\\433e0ccc46f9880962cc2b12065189766fbb2bee57a221866138fb9203c83519\\cache-3b065f584f7e66c9.arrow\n",
      "Loading cached shuffled indices for dataset at cache\\csv\\default-b35448ec5dd887ec\\0.0.0\\433e0ccc46f9880962cc2b12065189766fbb2bee57a221866138fb9203c83519\\cache-9012223f14afe1d0.arrow\n"
     ]
    },
    {
     "name": "stdout",
     "output_type": "stream",
     "text": [
      "Creating predictions\n"
     ]
    },
    {
     "name": "stderr",
     "output_type": "stream",
     "text": [
      "100%|██████████| 10/10 [00:29<00:00,  2.90s/it]\n",
      "100%|██████████| 10/10 [00:00<00:00, 1000.22it/s]\n",
      " 50%|█████     | 4/8 [01:41<01:45, 26.28s/it]All model checkpoint layers were used when initializing TFGPT2LMHeadModel.\n",
      "\n",
      "All the layers of TFGPT2LMHeadModel were initialized from the model checkpoint at ..\\Data\\Characters\\Bender\\bender_model.\n",
      "If your task is similar to the task the model of the checkpoint was trained on, you can already use TFGPT2LMHeadModel for predictions without further training.\n",
      "Using custom data configuration default-2a0884da2a86facc\n",
      "Reusing dataset csv (cache\\csv\\default-2a0884da2a86facc\\0.0.0\\433e0ccc46f9880962cc2b12065189766fbb2bee57a221866138fb9203c83519)\n",
      "100%|██████████| 1/1 [00:00<00:00, 248.07it/s]\n",
      "Loading cached split indices for dataset at cache\\csv\\default-2a0884da2a86facc\\0.0.0\\433e0ccc46f9880962cc2b12065189766fbb2bee57a221866138fb9203c83519\\cache-4c59c8594ee83881.arrow and cache\\csv\\default-2a0884da2a86facc\\0.0.0\\433e0ccc46f9880962cc2b12065189766fbb2bee57a221866138fb9203c83519\\cache-979ea9e674132025.arrow\n",
      "Loading cached split indices for dataset at cache\\csv\\default-2a0884da2a86facc\\0.0.0\\433e0ccc46f9880962cc2b12065189766fbb2bee57a221866138fb9203c83519\\cache-2cdb39c47142be86.arrow and cache\\csv\\default-2a0884da2a86facc\\0.0.0\\433e0ccc46f9880962cc2b12065189766fbb2bee57a221866138fb9203c83519\\cache-4b32be2eacb5d552.arrow\n",
      "Loading cached processed dataset at cache\\csv\\default-2a0884da2a86facc\\0.0.0\\433e0ccc46f9880962cc2b12065189766fbb2bee57a221866138fb9203c83519\\cache-6647fe37f40ed616.arrow\n",
      "Loading cached processed dataset at cache\\csv\\default-2a0884da2a86facc\\0.0.0\\433e0ccc46f9880962cc2b12065189766fbb2bee57a221866138fb9203c83519\\cache-98b2463bec0fd009.arrow\n",
      "Loading cached processed dataset at cache\\csv\\default-2a0884da2a86facc\\0.0.0\\433e0ccc46f9880962cc2b12065189766fbb2bee57a221866138fb9203c83519\\cache-015ae8852bcf3fa4.arrow\n",
      "Loading cached shuffled indices for dataset at cache\\csv\\default-2a0884da2a86facc\\0.0.0\\433e0ccc46f9880962cc2b12065189766fbb2bee57a221866138fb9203c83519\\cache-eefdc5e3fbc3d2c1.arrow\n"
     ]
    },
    {
     "name": "stdout",
     "output_type": "stream",
     "text": [
      "Creating predictions\n"
     ]
    },
    {
     "name": "stderr",
     "output_type": "stream",
     "text": [
      "100%|██████████| 10/10 [00:20<00:00,  2.08s/it]\n",
      "100%|██████████| 10/10 [00:00<00:00, 1045.49it/s]\n",
      " 62%|██████▎   | 5/8 [02:06<01:16, 25.65s/it]All model checkpoint layers were used when initializing TFGPT2LMHeadModel.\n",
      "\n",
      "All the layers of TFGPT2LMHeadModel were initialized from the model checkpoint at ..\\Data\\Characters\\Vader\\vader_model.\n",
      "If your task is similar to the task the model of the checkpoint was trained on, you can already use TFGPT2LMHeadModel for predictions without further training.\n",
      "Using custom data configuration default-3bee7e44262edb7f\n",
      "Reusing dataset csv (cache\\csv\\default-3bee7e44262edb7f\\0.0.0\\433e0ccc46f9880962cc2b12065189766fbb2bee57a221866138fb9203c83519)\n",
      "100%|██████████| 1/1 [00:00<00:00, 498.85it/s]\n",
      "Loading cached split indices for dataset at cache\\csv\\default-3bee7e44262edb7f\\0.0.0\\433e0ccc46f9880962cc2b12065189766fbb2bee57a221866138fb9203c83519\\cache-96d0a5ba5e8fec42.arrow and cache\\csv\\default-3bee7e44262edb7f\\0.0.0\\433e0ccc46f9880962cc2b12065189766fbb2bee57a221866138fb9203c83519\\cache-1443283cf78ecd8c.arrow\n",
      "Loading cached split indices for dataset at cache\\csv\\default-3bee7e44262edb7f\\0.0.0\\433e0ccc46f9880962cc2b12065189766fbb2bee57a221866138fb9203c83519\\cache-fe15dac5f93d7344.arrow and cache\\csv\\default-3bee7e44262edb7f\\0.0.0\\433e0ccc46f9880962cc2b12065189766fbb2bee57a221866138fb9203c83519\\cache-c4745ad835a23735.arrow\n",
      "Loading cached processed dataset at cache\\csv\\default-3bee7e44262edb7f\\0.0.0\\433e0ccc46f9880962cc2b12065189766fbb2bee57a221866138fb9203c83519\\cache-52e19da7533330c8.arrow\n",
      "Loading cached processed dataset at cache\\csv\\default-3bee7e44262edb7f\\0.0.0\\433e0ccc46f9880962cc2b12065189766fbb2bee57a221866138fb9203c83519\\cache-979822d41ccd7a4a.arrow\n",
      "Loading cached processed dataset at cache\\csv\\default-3bee7e44262edb7f\\0.0.0\\433e0ccc46f9880962cc2b12065189766fbb2bee57a221866138fb9203c83519\\cache-d486cd416c29c441.arrow\n",
      "Loading cached shuffled indices for dataset at cache\\csv\\default-3bee7e44262edb7f\\0.0.0\\433e0ccc46f9880962cc2b12065189766fbb2bee57a221866138fb9203c83519\\cache-5061dd57662d5196.arrow\n"
     ]
    },
    {
     "name": "stdout",
     "output_type": "stream",
     "text": [
      "Creating predictions\n"
     ]
    },
    {
     "name": "stderr",
     "output_type": "stream",
     "text": [
      "100%|██████████| 10/10 [00:37<00:00,  3.72s/it]\n",
      "100%|██████████| 10/10 [00:00<00:00, 1111.57it/s]\n",
      " 75%|███████▌  | 6/8 [02:47<01:01, 30.84s/it]All model checkpoint layers were used when initializing TFGPT2LMHeadModel.\n",
      "\n",
      "All the layers of TFGPT2LMHeadModel were initialized from the model checkpoint at ..\\Data\\Characters\\Joey\\joey_model.\n",
      "If your task is similar to the task the model of the checkpoint was trained on, you can already use TFGPT2LMHeadModel for predictions without further training.\n",
      "Using custom data configuration default-b81141adc87b87bf\n",
      "Reusing dataset csv (cache\\csv\\default-b81141adc87b87bf\\0.0.0\\433e0ccc46f9880962cc2b12065189766fbb2bee57a221866138fb9203c83519)\n",
      "100%|██████████| 1/1 [00:00<00:00, 426.34it/s]\n",
      "Loading cached split indices for dataset at cache\\csv\\default-b81141adc87b87bf\\0.0.0\\433e0ccc46f9880962cc2b12065189766fbb2bee57a221866138fb9203c83519\\cache-e2d3926d0ffd0fd3.arrow and cache\\csv\\default-b81141adc87b87bf\\0.0.0\\433e0ccc46f9880962cc2b12065189766fbb2bee57a221866138fb9203c83519\\cache-f888d4a055d9f5e2.arrow\n",
      "Loading cached split indices for dataset at cache\\csv\\default-b81141adc87b87bf\\0.0.0\\433e0ccc46f9880962cc2b12065189766fbb2bee57a221866138fb9203c83519\\cache-682a04a266efce80.arrow and cache\\csv\\default-b81141adc87b87bf\\0.0.0\\433e0ccc46f9880962cc2b12065189766fbb2bee57a221866138fb9203c83519\\cache-13fca5dad2d5247a.arrow\n",
      "Loading cached processed dataset at cache\\csv\\default-b81141adc87b87bf\\0.0.0\\433e0ccc46f9880962cc2b12065189766fbb2bee57a221866138fb9203c83519\\cache-7662390b0e4f3793.arrow\n",
      "Loading cached processed dataset at cache\\csv\\default-b81141adc87b87bf\\0.0.0\\433e0ccc46f9880962cc2b12065189766fbb2bee57a221866138fb9203c83519\\cache-4379f0323f83a3bd.arrow\n",
      "Loading cached processed dataset at cache\\csv\\default-b81141adc87b87bf\\0.0.0\\433e0ccc46f9880962cc2b12065189766fbb2bee57a221866138fb9203c83519\\cache-ff90937c11e9e756.arrow\n",
      "Loading cached shuffled indices for dataset at cache\\csv\\default-b81141adc87b87bf\\0.0.0\\433e0ccc46f9880962cc2b12065189766fbb2bee57a221866138fb9203c83519\\cache-881ed2c7d650f5ac.arrow\n"
     ]
    },
    {
     "name": "stdout",
     "output_type": "stream",
     "text": [
      "Creating predictions\n"
     ]
    },
    {
     "name": "stderr",
     "output_type": "stream",
     "text": [
      "100%|██████████| 10/10 [00:33<00:00,  3.33s/it]\n",
      "100%|██████████| 10/10 [00:00<00:00, 1107.55it/s]\n",
      " 88%|████████▊ | 7/8 [03:23<00:32, 32.80s/it]All model checkpoint layers were used when initializing TFGPT2LMHeadModel.\n",
      "\n",
      "All the layers of TFGPT2LMHeadModel were initialized from the model checkpoint at ..\\Data\\Characters\\Phoebe\\phoebe_model.\n",
      "If your task is similar to the task the model of the checkpoint was trained on, you can already use TFGPT2LMHeadModel for predictions without further training.\n",
      "Using custom data configuration default-48cc5f719001fd3a\n",
      "Reusing dataset csv (cache\\csv\\default-48cc5f719001fd3a\\0.0.0\\433e0ccc46f9880962cc2b12065189766fbb2bee57a221866138fb9203c83519)\n",
      "100%|██████████| 1/1 [00:00<00:00, 499.92it/s]\n",
      "Loading cached split indices for dataset at cache\\csv\\default-48cc5f719001fd3a\\0.0.0\\433e0ccc46f9880962cc2b12065189766fbb2bee57a221866138fb9203c83519\\cache-16c140b5da191e7c.arrow and cache\\csv\\default-48cc5f719001fd3a\\0.0.0\\433e0ccc46f9880962cc2b12065189766fbb2bee57a221866138fb9203c83519\\cache-ed121df269d87298.arrow\n",
      "Loading cached split indices for dataset at cache\\csv\\default-48cc5f719001fd3a\\0.0.0\\433e0ccc46f9880962cc2b12065189766fbb2bee57a221866138fb9203c83519\\cache-f4f26cbce3ecb27c.arrow and cache\\csv\\default-48cc5f719001fd3a\\0.0.0\\433e0ccc46f9880962cc2b12065189766fbb2bee57a221866138fb9203c83519\\cache-186da54849d8ccad.arrow\n",
      "Loading cached processed dataset at cache\\csv\\default-48cc5f719001fd3a\\0.0.0\\433e0ccc46f9880962cc2b12065189766fbb2bee57a221866138fb9203c83519\\cache-7c5b176b39e0048e.arrow\n",
      "Loading cached processed dataset at cache\\csv\\default-48cc5f719001fd3a\\0.0.0\\433e0ccc46f9880962cc2b12065189766fbb2bee57a221866138fb9203c83519\\cache-5221c27b06394c28.arrow\n",
      "Loading cached processed dataset at cache\\csv\\default-48cc5f719001fd3a\\0.0.0\\433e0ccc46f9880962cc2b12065189766fbb2bee57a221866138fb9203c83519\\cache-20bada48da47c9c4.arrow\n",
      "Loading cached shuffled indices for dataset at cache\\csv\\default-48cc5f719001fd3a\\0.0.0\\433e0ccc46f9880962cc2b12065189766fbb2bee57a221866138fb9203c83519\\cache-1d4705c0ffbe174e.arrow\n"
     ]
    },
    {
     "name": "stdout",
     "output_type": "stream",
     "text": [
      "Creating predictions\n"
     ]
    },
    {
     "name": "stderr",
     "output_type": "stream",
     "text": [
      "100%|██████████| 10/10 [00:21<00:00,  2.19s/it]\n",
      "100%|██████████| 10/10 [00:00<00:00, 1132.34it/s]\n",
      "100%|██████████| 8/8 [03:49<00:00, 28.65s/it]\n"
     ]
    },
    {
     "name": "stdout",
     "output_type": "stream",
     "text": [
      "Run 8/15\n"
     ]
    },
    {
     "name": "stderr",
     "output_type": "stream",
     "text": [
      "  0%|          | 0/8 [00:00<?, ?it/s]All model checkpoint layers were used when initializing TFGPT2LMHeadModel.\n",
      "\n",
      "All the layers of TFGPT2LMHeadModel were initialized from the model checkpoint at ..\\Data\\Characters\\Barney\\barney_model.\n",
      "If your task is similar to the task the model of the checkpoint was trained on, you can already use TFGPT2LMHeadModel for predictions without further training.\n",
      "Using custom data configuration default-d78476db32c8db98\n",
      "Reusing dataset csv (cache\\csv\\default-d78476db32c8db98\\0.0.0\\433e0ccc46f9880962cc2b12065189766fbb2bee57a221866138fb9203c83519)\n",
      "100%|██████████| 1/1 [00:00<00:00, 413.48it/s]\n",
      "Loading cached split indices for dataset at cache\\csv\\default-d78476db32c8db98\\0.0.0\\433e0ccc46f9880962cc2b12065189766fbb2bee57a221866138fb9203c83519\\cache-651037d43e5e3dbd.arrow and cache\\csv\\default-d78476db32c8db98\\0.0.0\\433e0ccc46f9880962cc2b12065189766fbb2bee57a221866138fb9203c83519\\cache-7e4903d85e508b43.arrow\n",
      "Loading cached split indices for dataset at cache\\csv\\default-d78476db32c8db98\\0.0.0\\433e0ccc46f9880962cc2b12065189766fbb2bee57a221866138fb9203c83519\\cache-1b018c4ce0c1ed8c.arrow and cache\\csv\\default-d78476db32c8db98\\0.0.0\\433e0ccc46f9880962cc2b12065189766fbb2bee57a221866138fb9203c83519\\cache-2cfa4b0ef22c9ad5.arrow\n",
      "Loading cached processed dataset at cache\\csv\\default-d78476db32c8db98\\0.0.0\\433e0ccc46f9880962cc2b12065189766fbb2bee57a221866138fb9203c83519\\cache-89f9b92b2a083af0.arrow\n",
      "Loading cached processed dataset at cache\\csv\\default-d78476db32c8db98\\0.0.0\\433e0ccc46f9880962cc2b12065189766fbb2bee57a221866138fb9203c83519\\cache-f26a814e4e6d10fc.arrow\n",
      "Loading cached processed dataset at cache\\csv\\default-d78476db32c8db98\\0.0.0\\433e0ccc46f9880962cc2b12065189766fbb2bee57a221866138fb9203c83519\\cache-6655d46d8a0182ef.arrow\n",
      "Loading cached shuffled indices for dataset at cache\\csv\\default-d78476db32c8db98\\0.0.0\\433e0ccc46f9880962cc2b12065189766fbb2bee57a221866138fb9203c83519\\cache-b0ddd597589321af.arrow\n"
     ]
    },
    {
     "name": "stdout",
     "output_type": "stream",
     "text": [
      "Creating predictions\n"
     ]
    },
    {
     "name": "stderr",
     "output_type": "stream",
     "text": [
      "100%|██████████| 10/10 [00:21<00:00,  2.12s/it]\n",
      "100%|██████████| 10/10 [00:00<00:00, 1110.46it/s]\n",
      " 12%|█▎        | 1/8 [00:24<02:51, 24.49s/it]All model checkpoint layers were used when initializing TFGPT2LMHeadModel.\n",
      "\n",
      "All the layers of TFGPT2LMHeadModel were initialized from the model checkpoint at ..\\Data\\Characters\\Sheldon\\sheldon_model.\n",
      "If your task is similar to the task the model of the checkpoint was trained on, you can already use TFGPT2LMHeadModel for predictions without further training.\n",
      "Using custom data configuration default-8207271dc09e0a46\n",
      "Reusing dataset csv (cache\\csv\\default-8207271dc09e0a46\\0.0.0\\433e0ccc46f9880962cc2b12065189766fbb2bee57a221866138fb9203c83519)\n",
      "100%|██████████| 1/1 [00:00<00:00, 487.54it/s]\n",
      "Loading cached split indices for dataset at cache\\csv\\default-8207271dc09e0a46\\0.0.0\\433e0ccc46f9880962cc2b12065189766fbb2bee57a221866138fb9203c83519\\cache-46b6cd7566c1d243.arrow and cache\\csv\\default-8207271dc09e0a46\\0.0.0\\433e0ccc46f9880962cc2b12065189766fbb2bee57a221866138fb9203c83519\\cache-e3e40e36f25dded7.arrow\n",
      "Loading cached split indices for dataset at cache\\csv\\default-8207271dc09e0a46\\0.0.0\\433e0ccc46f9880962cc2b12065189766fbb2bee57a221866138fb9203c83519\\cache-1774625d7360210c.arrow and cache\\csv\\default-8207271dc09e0a46\\0.0.0\\433e0ccc46f9880962cc2b12065189766fbb2bee57a221866138fb9203c83519\\cache-ad5b734370182aae.arrow\n",
      "Loading cached processed dataset at cache\\csv\\default-8207271dc09e0a46\\0.0.0\\433e0ccc46f9880962cc2b12065189766fbb2bee57a221866138fb9203c83519\\cache-fed8798d874c65dd.arrow\n",
      "Loading cached processed dataset at cache\\csv\\default-8207271dc09e0a46\\0.0.0\\433e0ccc46f9880962cc2b12065189766fbb2bee57a221866138fb9203c83519\\cache-632156930e5bea85.arrow\n",
      "Loading cached processed dataset at cache\\csv\\default-8207271dc09e0a46\\0.0.0\\433e0ccc46f9880962cc2b12065189766fbb2bee57a221866138fb9203c83519\\cache-448ecc7a6afdd007.arrow\n",
      "Loading cached shuffled indices for dataset at cache\\csv\\default-8207271dc09e0a46\\0.0.0\\433e0ccc46f9880962cc2b12065189766fbb2bee57a221866138fb9203c83519\\cache-44200aae20815359.arrow\n"
     ]
    },
    {
     "name": "stdout",
     "output_type": "stream",
     "text": [
      "Creating predictions\n"
     ]
    },
    {
     "name": "stderr",
     "output_type": "stream",
     "text": [
      "100%|██████████| 10/10 [00:33<00:00,  3.34s/it]\n",
      "100%|██████████| 10/10 [00:00<00:00, 3183.29it/s]\n",
      " 25%|██▌       | 2/8 [01:01<03:10, 31.74s/it]All model checkpoint layers were used when initializing TFGPT2LMHeadModel.\n",
      "\n",
      "All the layers of TFGPT2LMHeadModel were initialized from the model checkpoint at ..\\Data\\Characters\\Harry\\harry_model.\n",
      "If your task is similar to the task the model of the checkpoint was trained on, you can already use TFGPT2LMHeadModel for predictions without further training.\n",
      "Using custom data configuration default-5e8064f57286033a\n",
      "Reusing dataset csv (cache\\csv\\default-5e8064f57286033a\\0.0.0\\433e0ccc46f9880962cc2b12065189766fbb2bee57a221866138fb9203c83519)\n",
      "100%|██████████| 1/1 [00:00<00:00, 500.39it/s]\n",
      "Loading cached split indices for dataset at cache\\csv\\default-5e8064f57286033a\\0.0.0\\433e0ccc46f9880962cc2b12065189766fbb2bee57a221866138fb9203c83519\\cache-2b86c587abd47c66.arrow and cache\\csv\\default-5e8064f57286033a\\0.0.0\\433e0ccc46f9880962cc2b12065189766fbb2bee57a221866138fb9203c83519\\cache-8919d70a4bf80eed.arrow\n",
      "Loading cached split indices for dataset at cache\\csv\\default-5e8064f57286033a\\0.0.0\\433e0ccc46f9880962cc2b12065189766fbb2bee57a221866138fb9203c83519\\cache-4099b79485c950ea.arrow and cache\\csv\\default-5e8064f57286033a\\0.0.0\\433e0ccc46f9880962cc2b12065189766fbb2bee57a221866138fb9203c83519\\cache-cecb46b03995ab9b.arrow\n",
      "Loading cached processed dataset at cache\\csv\\default-5e8064f57286033a\\0.0.0\\433e0ccc46f9880962cc2b12065189766fbb2bee57a221866138fb9203c83519\\cache-e80578e3b4f7f025.arrow\n",
      "Loading cached processed dataset at cache\\csv\\default-5e8064f57286033a\\0.0.0\\433e0ccc46f9880962cc2b12065189766fbb2bee57a221866138fb9203c83519\\cache-45cad4fe25e5526e.arrow\n",
      "Loading cached processed dataset at cache\\csv\\default-5e8064f57286033a\\0.0.0\\433e0ccc46f9880962cc2b12065189766fbb2bee57a221866138fb9203c83519\\cache-937d1b7b6a0a1add.arrow\n",
      "Loading cached shuffled indices for dataset at cache\\csv\\default-5e8064f57286033a\\0.0.0\\433e0ccc46f9880962cc2b12065189766fbb2bee57a221866138fb9203c83519\\cache-1961250b1edbce64.arrow\n"
     ]
    },
    {
     "name": "stdout",
     "output_type": "stream",
     "text": [
      "Creating predictions\n"
     ]
    },
    {
     "name": "stderr",
     "output_type": "stream",
     "text": [
      "100%|██████████| 10/10 [00:14<00:00,  1.44s/it]\n",
      "100%|██████████| 10/10 [00:00<00:00, 2134.61it/s]\n",
      " 38%|███▊      | 3/8 [01:19<02:06, 25.34s/it]All model checkpoint layers were used when initializing TFGPT2LMHeadModel.\n",
      "\n",
      "All the layers of TFGPT2LMHeadModel were initialized from the model checkpoint at ..\\Data\\Characters\\Fry\\fry_model.\n",
      "If your task is similar to the task the model of the checkpoint was trained on, you can already use TFGPT2LMHeadModel for predictions without further training.\n",
      "Using custom data configuration default-b35448ec5dd887ec\n",
      "Reusing dataset csv (cache\\csv\\default-b35448ec5dd887ec\\0.0.0\\433e0ccc46f9880962cc2b12065189766fbb2bee57a221866138fb9203c83519)\n",
      "100%|██████████| 1/1 [00:00<00:00, 403.53it/s]\n",
      "Loading cached split indices for dataset at cache\\csv\\default-b35448ec5dd887ec\\0.0.0\\433e0ccc46f9880962cc2b12065189766fbb2bee57a221866138fb9203c83519\\cache-667383473c444f25.arrow and cache\\csv\\default-b35448ec5dd887ec\\0.0.0\\433e0ccc46f9880962cc2b12065189766fbb2bee57a221866138fb9203c83519\\cache-c520a8a264854da4.arrow\n",
      "Loading cached split indices for dataset at cache\\csv\\default-b35448ec5dd887ec\\0.0.0\\433e0ccc46f9880962cc2b12065189766fbb2bee57a221866138fb9203c83519\\cache-b072a26900059a04.arrow and cache\\csv\\default-b35448ec5dd887ec\\0.0.0\\433e0ccc46f9880962cc2b12065189766fbb2bee57a221866138fb9203c83519\\cache-885672efcb78500c.arrow\n",
      "Loading cached processed dataset at cache\\csv\\default-b35448ec5dd887ec\\0.0.0\\433e0ccc46f9880962cc2b12065189766fbb2bee57a221866138fb9203c83519\\cache-f2119e5a34f2eb76.arrow\n",
      "Loading cached processed dataset at cache\\csv\\default-b35448ec5dd887ec\\0.0.0\\433e0ccc46f9880962cc2b12065189766fbb2bee57a221866138fb9203c83519\\cache-cb34da498e1e68ed.arrow\n",
      "Loading cached processed dataset at cache\\csv\\default-b35448ec5dd887ec\\0.0.0\\433e0ccc46f9880962cc2b12065189766fbb2bee57a221866138fb9203c83519\\cache-3b065f584f7e66c9.arrow\n",
      "Loading cached shuffled indices for dataset at cache\\csv\\default-b35448ec5dd887ec\\0.0.0\\433e0ccc46f9880962cc2b12065189766fbb2bee57a221866138fb9203c83519\\cache-9012223f14afe1d0.arrow\n"
     ]
    },
    {
     "name": "stdout",
     "output_type": "stream",
     "text": [
      "Creating predictions\n"
     ]
    },
    {
     "name": "stderr",
     "output_type": "stream",
     "text": [
      "100%|██████████| 10/10 [00:27<00:00,  2.77s/it]\n",
      "100%|██████████| 10/10 [00:00<00:00, 2397.70it/s]\n",
      " 50%|█████     | 4/8 [01:50<01:50, 27.59s/it]All model checkpoint layers were used when initializing TFGPT2LMHeadModel.\n",
      "\n",
      "All the layers of TFGPT2LMHeadModel were initialized from the model checkpoint at ..\\Data\\Characters\\Bender\\bender_model.\n",
      "If your task is similar to the task the model of the checkpoint was trained on, you can already use TFGPT2LMHeadModel for predictions without further training.\n",
      "Using custom data configuration default-2a0884da2a86facc\n",
      "Reusing dataset csv (cache\\csv\\default-2a0884da2a86facc\\0.0.0\\433e0ccc46f9880962cc2b12065189766fbb2bee57a221866138fb9203c83519)\n",
      "100%|██████████| 1/1 [00:00<00:00, 491.48it/s]\n",
      "Loading cached split indices for dataset at cache\\csv\\default-2a0884da2a86facc\\0.0.0\\433e0ccc46f9880962cc2b12065189766fbb2bee57a221866138fb9203c83519\\cache-4c59c8594ee83881.arrow and cache\\csv\\default-2a0884da2a86facc\\0.0.0\\433e0ccc46f9880962cc2b12065189766fbb2bee57a221866138fb9203c83519\\cache-979ea9e674132025.arrow\n",
      "Loading cached split indices for dataset at cache\\csv\\default-2a0884da2a86facc\\0.0.0\\433e0ccc46f9880962cc2b12065189766fbb2bee57a221866138fb9203c83519\\cache-2cdb39c47142be86.arrow and cache\\csv\\default-2a0884da2a86facc\\0.0.0\\433e0ccc46f9880962cc2b12065189766fbb2bee57a221866138fb9203c83519\\cache-4b32be2eacb5d552.arrow\n",
      "Loading cached processed dataset at cache\\csv\\default-2a0884da2a86facc\\0.0.0\\433e0ccc46f9880962cc2b12065189766fbb2bee57a221866138fb9203c83519\\cache-6647fe37f40ed616.arrow\n",
      "Loading cached processed dataset at cache\\csv\\default-2a0884da2a86facc\\0.0.0\\433e0ccc46f9880962cc2b12065189766fbb2bee57a221866138fb9203c83519\\cache-98b2463bec0fd009.arrow\n",
      "Loading cached processed dataset at cache\\csv\\default-2a0884da2a86facc\\0.0.0\\433e0ccc46f9880962cc2b12065189766fbb2bee57a221866138fb9203c83519\\cache-015ae8852bcf3fa4.arrow\n",
      "Loading cached shuffled indices for dataset at cache\\csv\\default-2a0884da2a86facc\\0.0.0\\433e0ccc46f9880962cc2b12065189766fbb2bee57a221866138fb9203c83519\\cache-eefdc5e3fbc3d2c1.arrow\n"
     ]
    },
    {
     "name": "stdout",
     "output_type": "stream",
     "text": [
      "Creating predictions\n"
     ]
    },
    {
     "name": "stderr",
     "output_type": "stream",
     "text": [
      "100%|██████████| 10/10 [00:33<00:00,  3.34s/it]\n",
      "100%|██████████| 10/10 [00:00<00:00, 996.89it/s]\n",
      " 62%|██████▎   | 5/8 [02:26<01:32, 30.92s/it]All model checkpoint layers were used when initializing TFGPT2LMHeadModel.\n",
      "\n",
      "All the layers of TFGPT2LMHeadModel were initialized from the model checkpoint at ..\\Data\\Characters\\Vader\\vader_model.\n",
      "If your task is similar to the task the model of the checkpoint was trained on, you can already use TFGPT2LMHeadModel for predictions without further training.\n",
      "Using custom data configuration default-3bee7e44262edb7f\n",
      "Reusing dataset csv (cache\\csv\\default-3bee7e44262edb7f\\0.0.0\\433e0ccc46f9880962cc2b12065189766fbb2bee57a221866138fb9203c83519)\n",
      "100%|██████████| 1/1 [00:00<00:00, 1003.18it/s]\n",
      "Loading cached split indices for dataset at cache\\csv\\default-3bee7e44262edb7f\\0.0.0\\433e0ccc46f9880962cc2b12065189766fbb2bee57a221866138fb9203c83519\\cache-96d0a5ba5e8fec42.arrow and cache\\csv\\default-3bee7e44262edb7f\\0.0.0\\433e0ccc46f9880962cc2b12065189766fbb2bee57a221866138fb9203c83519\\cache-1443283cf78ecd8c.arrow\n",
      "Loading cached split indices for dataset at cache\\csv\\default-3bee7e44262edb7f\\0.0.0\\433e0ccc46f9880962cc2b12065189766fbb2bee57a221866138fb9203c83519\\cache-fe15dac5f93d7344.arrow and cache\\csv\\default-3bee7e44262edb7f\\0.0.0\\433e0ccc46f9880962cc2b12065189766fbb2bee57a221866138fb9203c83519\\cache-c4745ad835a23735.arrow\n",
      "Loading cached processed dataset at cache\\csv\\default-3bee7e44262edb7f\\0.0.0\\433e0ccc46f9880962cc2b12065189766fbb2bee57a221866138fb9203c83519\\cache-52e19da7533330c8.arrow\n",
      "Loading cached processed dataset at cache\\csv\\default-3bee7e44262edb7f\\0.0.0\\433e0ccc46f9880962cc2b12065189766fbb2bee57a221866138fb9203c83519\\cache-979822d41ccd7a4a.arrow\n",
      "Loading cached processed dataset at cache\\csv\\default-3bee7e44262edb7f\\0.0.0\\433e0ccc46f9880962cc2b12065189766fbb2bee57a221866138fb9203c83519\\cache-d486cd416c29c441.arrow\n",
      "Loading cached shuffled indices for dataset at cache\\csv\\default-3bee7e44262edb7f\\0.0.0\\433e0ccc46f9880962cc2b12065189766fbb2bee57a221866138fb9203c83519\\cache-5061dd57662d5196.arrow\n"
     ]
    },
    {
     "name": "stdout",
     "output_type": "stream",
     "text": [
      "Creating predictions\n"
     ]
    },
    {
     "name": "stderr",
     "output_type": "stream",
     "text": [
      "100%|██████████| 10/10 [00:20<00:00,  2.05s/it]\n",
      "100%|██████████| 10/10 [00:00<00:00, 977.99it/s]\n",
      " 75%|███████▌  | 6/8 [02:51<00:57, 28.61s/it]All model checkpoint layers were used when initializing TFGPT2LMHeadModel.\n",
      "\n",
      "All the layers of TFGPT2LMHeadModel were initialized from the model checkpoint at ..\\Data\\Characters\\Joey\\joey_model.\n",
      "If your task is similar to the task the model of the checkpoint was trained on, you can already use TFGPT2LMHeadModel for predictions without further training.\n",
      "Using custom data configuration default-b81141adc87b87bf\n",
      "Reusing dataset csv (cache\\csv\\default-b81141adc87b87bf\\0.0.0\\433e0ccc46f9880962cc2b12065189766fbb2bee57a221866138fb9203c83519)\n",
      "100%|██████████| 1/1 [00:00<00:00, 500.51it/s]\n",
      "Loading cached split indices for dataset at cache\\csv\\default-b81141adc87b87bf\\0.0.0\\433e0ccc46f9880962cc2b12065189766fbb2bee57a221866138fb9203c83519\\cache-e2d3926d0ffd0fd3.arrow and cache\\csv\\default-b81141adc87b87bf\\0.0.0\\433e0ccc46f9880962cc2b12065189766fbb2bee57a221866138fb9203c83519\\cache-f888d4a055d9f5e2.arrow\n",
      "Loading cached split indices for dataset at cache\\csv\\default-b81141adc87b87bf\\0.0.0\\433e0ccc46f9880962cc2b12065189766fbb2bee57a221866138fb9203c83519\\cache-682a04a266efce80.arrow and cache\\csv\\default-b81141adc87b87bf\\0.0.0\\433e0ccc46f9880962cc2b12065189766fbb2bee57a221866138fb9203c83519\\cache-13fca5dad2d5247a.arrow\n",
      "Loading cached processed dataset at cache\\csv\\default-b81141adc87b87bf\\0.0.0\\433e0ccc46f9880962cc2b12065189766fbb2bee57a221866138fb9203c83519\\cache-7662390b0e4f3793.arrow\n",
      "Loading cached processed dataset at cache\\csv\\default-b81141adc87b87bf\\0.0.0\\433e0ccc46f9880962cc2b12065189766fbb2bee57a221866138fb9203c83519\\cache-4379f0323f83a3bd.arrow\n",
      "Loading cached processed dataset at cache\\csv\\default-b81141adc87b87bf\\0.0.0\\433e0ccc46f9880962cc2b12065189766fbb2bee57a221866138fb9203c83519\\cache-ff90937c11e9e756.arrow\n",
      "Loading cached shuffled indices for dataset at cache\\csv\\default-b81141adc87b87bf\\0.0.0\\433e0ccc46f9880962cc2b12065189766fbb2bee57a221866138fb9203c83519\\cache-881ed2c7d650f5ac.arrow\n"
     ]
    },
    {
     "name": "stdout",
     "output_type": "stream",
     "text": [
      "Creating predictions\n"
     ]
    },
    {
     "name": "stderr",
     "output_type": "stream",
     "text": [
      "100%|██████████| 10/10 [00:31<00:00,  3.18s/it]\n",
      "100%|██████████| 10/10 [00:00<00:00, 1000.02it/s]\n",
      " 88%|████████▊ | 7/8 [03:26<00:30, 30.84s/it]All model checkpoint layers were used when initializing TFGPT2LMHeadModel.\n",
      "\n",
      "All the layers of TFGPT2LMHeadModel were initialized from the model checkpoint at ..\\Data\\Characters\\Phoebe\\phoebe_model.\n",
      "If your task is similar to the task the model of the checkpoint was trained on, you can already use TFGPT2LMHeadModel for predictions without further training.\n",
      "Using custom data configuration default-48cc5f719001fd3a\n",
      "Reusing dataset csv (cache\\csv\\default-48cc5f719001fd3a\\0.0.0\\433e0ccc46f9880962cc2b12065189766fbb2bee57a221866138fb9203c83519)\n",
      "100%|██████████| 1/1 [00:00<00:00, 492.06it/s]\n",
      "Loading cached split indices for dataset at cache\\csv\\default-48cc5f719001fd3a\\0.0.0\\433e0ccc46f9880962cc2b12065189766fbb2bee57a221866138fb9203c83519\\cache-16c140b5da191e7c.arrow and cache\\csv\\default-48cc5f719001fd3a\\0.0.0\\433e0ccc46f9880962cc2b12065189766fbb2bee57a221866138fb9203c83519\\cache-ed121df269d87298.arrow\n",
      "Loading cached split indices for dataset at cache\\csv\\default-48cc5f719001fd3a\\0.0.0\\433e0ccc46f9880962cc2b12065189766fbb2bee57a221866138fb9203c83519\\cache-f4f26cbce3ecb27c.arrow and cache\\csv\\default-48cc5f719001fd3a\\0.0.0\\433e0ccc46f9880962cc2b12065189766fbb2bee57a221866138fb9203c83519\\cache-186da54849d8ccad.arrow\n",
      "Loading cached processed dataset at cache\\csv\\default-48cc5f719001fd3a\\0.0.0\\433e0ccc46f9880962cc2b12065189766fbb2bee57a221866138fb9203c83519\\cache-7c5b176b39e0048e.arrow\n",
      "Loading cached processed dataset at cache\\csv\\default-48cc5f719001fd3a\\0.0.0\\433e0ccc46f9880962cc2b12065189766fbb2bee57a221866138fb9203c83519\\cache-5221c27b06394c28.arrow\n",
      "Loading cached processed dataset at cache\\csv\\default-48cc5f719001fd3a\\0.0.0\\433e0ccc46f9880962cc2b12065189766fbb2bee57a221866138fb9203c83519\\cache-20bada48da47c9c4.arrow\n",
      "Loading cached shuffled indices for dataset at cache\\csv\\default-48cc5f719001fd3a\\0.0.0\\433e0ccc46f9880962cc2b12065189766fbb2bee57a221866138fb9203c83519\\cache-1d4705c0ffbe174e.arrow\n"
     ]
    },
    {
     "name": "stdout",
     "output_type": "stream",
     "text": [
      "Creating predictions\n"
     ]
    },
    {
     "name": "stderr",
     "output_type": "stream",
     "text": [
      "100%|██████████| 10/10 [00:21<00:00,  2.19s/it]\n",
      "100%|██████████| 10/10 [00:00<00:00, 968.19it/s]\n",
      "100%|██████████| 8/8 [03:51<00:00, 28.99s/it]\n"
     ]
    },
    {
     "name": "stdout",
     "output_type": "stream",
     "text": [
      "Run 9/15\n"
     ]
    },
    {
     "name": "stderr",
     "output_type": "stream",
     "text": [
      "  0%|          | 0/8 [00:00<?, ?it/s]All model checkpoint layers were used when initializing TFGPT2LMHeadModel.\n",
      "\n",
      "All the layers of TFGPT2LMHeadModel were initialized from the model checkpoint at ..\\Data\\Characters\\Barney\\barney_model.\n",
      "If your task is similar to the task the model of the checkpoint was trained on, you can already use TFGPT2LMHeadModel for predictions without further training.\n",
      "Using custom data configuration default-d78476db32c8db98\n",
      "Reusing dataset csv (cache\\csv\\default-d78476db32c8db98\\0.0.0\\433e0ccc46f9880962cc2b12065189766fbb2bee57a221866138fb9203c83519)\n",
      "100%|██████████| 1/1 [00:00<00:00, 376.07it/s]\n",
      "Loading cached split indices for dataset at cache\\csv\\default-d78476db32c8db98\\0.0.0\\433e0ccc46f9880962cc2b12065189766fbb2bee57a221866138fb9203c83519\\cache-651037d43e5e3dbd.arrow and cache\\csv\\default-d78476db32c8db98\\0.0.0\\433e0ccc46f9880962cc2b12065189766fbb2bee57a221866138fb9203c83519\\cache-7e4903d85e508b43.arrow\n",
      "Loading cached split indices for dataset at cache\\csv\\default-d78476db32c8db98\\0.0.0\\433e0ccc46f9880962cc2b12065189766fbb2bee57a221866138fb9203c83519\\cache-1b018c4ce0c1ed8c.arrow and cache\\csv\\default-d78476db32c8db98\\0.0.0\\433e0ccc46f9880962cc2b12065189766fbb2bee57a221866138fb9203c83519\\cache-2cfa4b0ef22c9ad5.arrow\n",
      "Loading cached processed dataset at cache\\csv\\default-d78476db32c8db98\\0.0.0\\433e0ccc46f9880962cc2b12065189766fbb2bee57a221866138fb9203c83519\\cache-89f9b92b2a083af0.arrow\n",
      "Loading cached processed dataset at cache\\csv\\default-d78476db32c8db98\\0.0.0\\433e0ccc46f9880962cc2b12065189766fbb2bee57a221866138fb9203c83519\\cache-f26a814e4e6d10fc.arrow\n",
      "Loading cached processed dataset at cache\\csv\\default-d78476db32c8db98\\0.0.0\\433e0ccc46f9880962cc2b12065189766fbb2bee57a221866138fb9203c83519\\cache-6655d46d8a0182ef.arrow\n",
      "Loading cached shuffled indices for dataset at cache\\csv\\default-d78476db32c8db98\\0.0.0\\433e0ccc46f9880962cc2b12065189766fbb2bee57a221866138fb9203c83519\\cache-b0ddd597589321af.arrow\n"
     ]
    },
    {
     "name": "stdout",
     "output_type": "stream",
     "text": [
      "Creating predictions\n"
     ]
    },
    {
     "name": "stderr",
     "output_type": "stream",
     "text": [
      "100%|██████████| 10/10 [00:28<00:00,  2.84s/it]\n",
      "100%|██████████| 10/10 [00:00<00:00, 2896.62it/s]\n",
      " 12%|█▎        | 1/8 [00:31<03:42, 31.75s/it]All model checkpoint layers were used when initializing TFGPT2LMHeadModel.\n",
      "\n",
      "All the layers of TFGPT2LMHeadModel were initialized from the model checkpoint at ..\\Data\\Characters\\Sheldon\\sheldon_model.\n",
      "If your task is similar to the task the model of the checkpoint was trained on, you can already use TFGPT2LMHeadModel for predictions without further training.\n",
      "Using custom data configuration default-8207271dc09e0a46\n",
      "Reusing dataset csv (cache\\csv\\default-8207271dc09e0a46\\0.0.0\\433e0ccc46f9880962cc2b12065189766fbb2bee57a221866138fb9203c83519)\n",
      "100%|██████████| 1/1 [00:00<00:00, 326.94it/s]\n",
      "Loading cached split indices for dataset at cache\\csv\\default-8207271dc09e0a46\\0.0.0\\433e0ccc46f9880962cc2b12065189766fbb2bee57a221866138fb9203c83519\\cache-46b6cd7566c1d243.arrow and cache\\csv\\default-8207271dc09e0a46\\0.0.0\\433e0ccc46f9880962cc2b12065189766fbb2bee57a221866138fb9203c83519\\cache-e3e40e36f25dded7.arrow\n",
      "Loading cached split indices for dataset at cache\\csv\\default-8207271dc09e0a46\\0.0.0\\433e0ccc46f9880962cc2b12065189766fbb2bee57a221866138fb9203c83519\\cache-1774625d7360210c.arrow and cache\\csv\\default-8207271dc09e0a46\\0.0.0\\433e0ccc46f9880962cc2b12065189766fbb2bee57a221866138fb9203c83519\\cache-ad5b734370182aae.arrow\n",
      "Loading cached processed dataset at cache\\csv\\default-8207271dc09e0a46\\0.0.0\\433e0ccc46f9880962cc2b12065189766fbb2bee57a221866138fb9203c83519\\cache-fed8798d874c65dd.arrow\n",
      "Loading cached processed dataset at cache\\csv\\default-8207271dc09e0a46\\0.0.0\\433e0ccc46f9880962cc2b12065189766fbb2bee57a221866138fb9203c83519\\cache-632156930e5bea85.arrow\n",
      "Loading cached processed dataset at cache\\csv\\default-8207271dc09e0a46\\0.0.0\\433e0ccc46f9880962cc2b12065189766fbb2bee57a221866138fb9203c83519\\cache-448ecc7a6afdd007.arrow\n",
      "Loading cached shuffled indices for dataset at cache\\csv\\default-8207271dc09e0a46\\0.0.0\\433e0ccc46f9880962cc2b12065189766fbb2bee57a221866138fb9203c83519\\cache-44200aae20815359.arrow\n"
     ]
    },
    {
     "name": "stdout",
     "output_type": "stream",
     "text": [
      "Creating predictions\n"
     ]
    },
    {
     "name": "stderr",
     "output_type": "stream",
     "text": [
      "100%|██████████| 10/10 [00:21<00:00,  2.12s/it]\n",
      "100%|██████████| 10/10 [00:00<00:00, 744.75it/s]\n",
      " 25%|██▌       | 2/8 [00:56<02:45, 27.51s/it]All model checkpoint layers were used when initializing TFGPT2LMHeadModel.\n",
      "\n",
      "All the layers of TFGPT2LMHeadModel were initialized from the model checkpoint at ..\\Data\\Characters\\Harry\\harry_model.\n",
      "If your task is similar to the task the model of the checkpoint was trained on, you can already use TFGPT2LMHeadModel for predictions without further training.\n",
      "Using custom data configuration default-5e8064f57286033a\n",
      "Reusing dataset csv (cache\\csv\\default-5e8064f57286033a\\0.0.0\\433e0ccc46f9880962cc2b12065189766fbb2bee57a221866138fb9203c83519)\n",
      "100%|██████████| 1/1 [00:00<00:00, 995.80it/s]\n",
      "Loading cached split indices for dataset at cache\\csv\\default-5e8064f57286033a\\0.0.0\\433e0ccc46f9880962cc2b12065189766fbb2bee57a221866138fb9203c83519\\cache-2b86c587abd47c66.arrow and cache\\csv\\default-5e8064f57286033a\\0.0.0\\433e0ccc46f9880962cc2b12065189766fbb2bee57a221866138fb9203c83519\\cache-8919d70a4bf80eed.arrow\n",
      "Loading cached split indices for dataset at cache\\csv\\default-5e8064f57286033a\\0.0.0\\433e0ccc46f9880962cc2b12065189766fbb2bee57a221866138fb9203c83519\\cache-4099b79485c950ea.arrow and cache\\csv\\default-5e8064f57286033a\\0.0.0\\433e0ccc46f9880962cc2b12065189766fbb2bee57a221866138fb9203c83519\\cache-cecb46b03995ab9b.arrow\n",
      "Loading cached processed dataset at cache\\csv\\default-5e8064f57286033a\\0.0.0\\433e0ccc46f9880962cc2b12065189766fbb2bee57a221866138fb9203c83519\\cache-e80578e3b4f7f025.arrow\n",
      "Loading cached processed dataset at cache\\csv\\default-5e8064f57286033a\\0.0.0\\433e0ccc46f9880962cc2b12065189766fbb2bee57a221866138fb9203c83519\\cache-45cad4fe25e5526e.arrow\n",
      "Loading cached processed dataset at cache\\csv\\default-5e8064f57286033a\\0.0.0\\433e0ccc46f9880962cc2b12065189766fbb2bee57a221866138fb9203c83519\\cache-937d1b7b6a0a1add.arrow\n",
      "Loading cached shuffled indices for dataset at cache\\csv\\default-5e8064f57286033a\\0.0.0\\433e0ccc46f9880962cc2b12065189766fbb2bee57a221866138fb9203c83519\\cache-1961250b1edbce64.arrow\n"
     ]
    },
    {
     "name": "stdout",
     "output_type": "stream",
     "text": [
      "Creating predictions\n"
     ]
    },
    {
     "name": "stderr",
     "output_type": "stream",
     "text": [
      "100%|██████████| 10/10 [00:17<00:00,  1.80s/it]\n",
      "100%|██████████| 10/10 [00:00<00:00, 1406.21it/s]\n",
      " 38%|███▊      | 3/8 [01:17<02:03, 24.64s/it]All model checkpoint layers were used when initializing TFGPT2LMHeadModel.\n",
      "\n",
      "All the layers of TFGPT2LMHeadModel were initialized from the model checkpoint at ..\\Data\\Characters\\Fry\\fry_model.\n",
      "If your task is similar to the task the model of the checkpoint was trained on, you can already use TFGPT2LMHeadModel for predictions without further training.\n",
      "Using custom data configuration default-b35448ec5dd887ec\n",
      "Reusing dataset csv (cache\\csv\\default-b35448ec5dd887ec\\0.0.0\\433e0ccc46f9880962cc2b12065189766fbb2bee57a221866138fb9203c83519)\n",
      "100%|██████████| 1/1 [00:00<00:00, 493.62it/s]\n",
      "Loading cached split indices for dataset at cache\\csv\\default-b35448ec5dd887ec\\0.0.0\\433e0ccc46f9880962cc2b12065189766fbb2bee57a221866138fb9203c83519\\cache-667383473c444f25.arrow and cache\\csv\\default-b35448ec5dd887ec\\0.0.0\\433e0ccc46f9880962cc2b12065189766fbb2bee57a221866138fb9203c83519\\cache-c520a8a264854da4.arrow\n",
      "Loading cached split indices for dataset at cache\\csv\\default-b35448ec5dd887ec\\0.0.0\\433e0ccc46f9880962cc2b12065189766fbb2bee57a221866138fb9203c83519\\cache-b072a26900059a04.arrow and cache\\csv\\default-b35448ec5dd887ec\\0.0.0\\433e0ccc46f9880962cc2b12065189766fbb2bee57a221866138fb9203c83519\\cache-885672efcb78500c.arrow\n",
      "Loading cached processed dataset at cache\\csv\\default-b35448ec5dd887ec\\0.0.0\\433e0ccc46f9880962cc2b12065189766fbb2bee57a221866138fb9203c83519\\cache-f2119e5a34f2eb76.arrow\n",
      "Loading cached processed dataset at cache\\csv\\default-b35448ec5dd887ec\\0.0.0\\433e0ccc46f9880962cc2b12065189766fbb2bee57a221866138fb9203c83519\\cache-cb34da498e1e68ed.arrow\n",
      "Loading cached processed dataset at cache\\csv\\default-b35448ec5dd887ec\\0.0.0\\433e0ccc46f9880962cc2b12065189766fbb2bee57a221866138fb9203c83519\\cache-3b065f584f7e66c9.arrow\n",
      "Loading cached shuffled indices for dataset at cache\\csv\\default-b35448ec5dd887ec\\0.0.0\\433e0ccc46f9880962cc2b12065189766fbb2bee57a221866138fb9203c83519\\cache-9012223f14afe1d0.arrow\n"
     ]
    },
    {
     "name": "stdout",
     "output_type": "stream",
     "text": [
      "Creating predictions\n"
     ]
    },
    {
     "name": "stderr",
     "output_type": "stream",
     "text": [
      "100%|██████████| 10/10 [00:29<00:00,  2.99s/it]\n",
      "100%|██████████| 10/10 [00:00<00:00, 2089.73it/s]\n",
      " 50%|█████     | 4/8 [01:50<01:52, 28.02s/it]All model checkpoint layers were used when initializing TFGPT2LMHeadModel.\n",
      "\n",
      "All the layers of TFGPT2LMHeadModel were initialized from the model checkpoint at ..\\Data\\Characters\\Bender\\bender_model.\n",
      "If your task is similar to the task the model of the checkpoint was trained on, you can already use TFGPT2LMHeadModel for predictions without further training.\n",
      "Using custom data configuration default-2a0884da2a86facc\n",
      "Reusing dataset csv (cache\\csv\\default-2a0884da2a86facc\\0.0.0\\433e0ccc46f9880962cc2b12065189766fbb2bee57a221866138fb9203c83519)\n",
      "100%|██████████| 1/1 [00:00<00:00, 378.82it/s]\n",
      "Loading cached split indices for dataset at cache\\csv\\default-2a0884da2a86facc\\0.0.0\\433e0ccc46f9880962cc2b12065189766fbb2bee57a221866138fb9203c83519\\cache-4c59c8594ee83881.arrow and cache\\csv\\default-2a0884da2a86facc\\0.0.0\\433e0ccc46f9880962cc2b12065189766fbb2bee57a221866138fb9203c83519\\cache-979ea9e674132025.arrow\n",
      "Loading cached split indices for dataset at cache\\csv\\default-2a0884da2a86facc\\0.0.0\\433e0ccc46f9880962cc2b12065189766fbb2bee57a221866138fb9203c83519\\cache-2cdb39c47142be86.arrow and cache\\csv\\default-2a0884da2a86facc\\0.0.0\\433e0ccc46f9880962cc2b12065189766fbb2bee57a221866138fb9203c83519\\cache-4b32be2eacb5d552.arrow\n",
      "Loading cached processed dataset at cache\\csv\\default-2a0884da2a86facc\\0.0.0\\433e0ccc46f9880962cc2b12065189766fbb2bee57a221866138fb9203c83519\\cache-6647fe37f40ed616.arrow\n",
      "Loading cached processed dataset at cache\\csv\\default-2a0884da2a86facc\\0.0.0\\433e0ccc46f9880962cc2b12065189766fbb2bee57a221866138fb9203c83519\\cache-98b2463bec0fd009.arrow\n",
      "Loading cached processed dataset at cache\\csv\\default-2a0884da2a86facc\\0.0.0\\433e0ccc46f9880962cc2b12065189766fbb2bee57a221866138fb9203c83519\\cache-015ae8852bcf3fa4.arrow\n",
      "Loading cached shuffled indices for dataset at cache\\csv\\default-2a0884da2a86facc\\0.0.0\\433e0ccc46f9880962cc2b12065189766fbb2bee57a221866138fb9203c83519\\cache-eefdc5e3fbc3d2c1.arrow\n"
     ]
    },
    {
     "name": "stdout",
     "output_type": "stream",
     "text": [
      "Creating predictions\n"
     ]
    },
    {
     "name": "stderr",
     "output_type": "stream",
     "text": [
      "100%|██████████| 10/10 [00:22<00:00,  2.27s/it]\n",
      "100%|██████████| 10/10 [00:00<00:00, 731.90it/s]\n",
      " 62%|██████▎   | 5/8 [02:16<01:21, 27.30s/it]All model checkpoint layers were used when initializing TFGPT2LMHeadModel.\n",
      "\n",
      "All the layers of TFGPT2LMHeadModel were initialized from the model checkpoint at ..\\Data\\Characters\\Vader\\vader_model.\n",
      "If your task is similar to the task the model of the checkpoint was trained on, you can already use TFGPT2LMHeadModel for predictions without further training.\n",
      "Using custom data configuration default-3bee7e44262edb7f\n",
      "Reusing dataset csv (cache\\csv\\default-3bee7e44262edb7f\\0.0.0\\433e0ccc46f9880962cc2b12065189766fbb2bee57a221866138fb9203c83519)\n",
      "100%|██████████| 1/1 [00:00<00:00, 499.98it/s]\n",
      "Loading cached split indices for dataset at cache\\csv\\default-3bee7e44262edb7f\\0.0.0\\433e0ccc46f9880962cc2b12065189766fbb2bee57a221866138fb9203c83519\\cache-96d0a5ba5e8fec42.arrow and cache\\csv\\default-3bee7e44262edb7f\\0.0.0\\433e0ccc46f9880962cc2b12065189766fbb2bee57a221866138fb9203c83519\\cache-1443283cf78ecd8c.arrow\n",
      "Loading cached split indices for dataset at cache\\csv\\default-3bee7e44262edb7f\\0.0.0\\433e0ccc46f9880962cc2b12065189766fbb2bee57a221866138fb9203c83519\\cache-fe15dac5f93d7344.arrow and cache\\csv\\default-3bee7e44262edb7f\\0.0.0\\433e0ccc46f9880962cc2b12065189766fbb2bee57a221866138fb9203c83519\\cache-c4745ad835a23735.arrow\n",
      "Loading cached processed dataset at cache\\csv\\default-3bee7e44262edb7f\\0.0.0\\433e0ccc46f9880962cc2b12065189766fbb2bee57a221866138fb9203c83519\\cache-52e19da7533330c8.arrow\n",
      "Loading cached processed dataset at cache\\csv\\default-3bee7e44262edb7f\\0.0.0\\433e0ccc46f9880962cc2b12065189766fbb2bee57a221866138fb9203c83519\\cache-979822d41ccd7a4a.arrow\n",
      "Loading cached processed dataset at cache\\csv\\default-3bee7e44262edb7f\\0.0.0\\433e0ccc46f9880962cc2b12065189766fbb2bee57a221866138fb9203c83519\\cache-d486cd416c29c441.arrow\n",
      "Loading cached shuffled indices for dataset at cache\\csv\\default-3bee7e44262edb7f\\0.0.0\\433e0ccc46f9880962cc2b12065189766fbb2bee57a221866138fb9203c83519\\cache-5061dd57662d5196.arrow\n"
     ]
    },
    {
     "name": "stdout",
     "output_type": "stream",
     "text": [
      "Creating predictions\n"
     ]
    },
    {
     "name": "stderr",
     "output_type": "stream",
     "text": [
      "100%|██████████| 10/10 [00:19<00:00,  1.93s/it]\n",
      "100%|██████████| 10/10 [00:00<00:00, 3193.71it/s]\n",
      " 75%|███████▌  | 6/8 [02:39<00:51, 25.70s/it]All model checkpoint layers were used when initializing TFGPT2LMHeadModel.\n",
      "\n",
      "All the layers of TFGPT2LMHeadModel were initialized from the model checkpoint at ..\\Data\\Characters\\Joey\\joey_model.\n",
      "If your task is similar to the task the model of the checkpoint was trained on, you can already use TFGPT2LMHeadModel for predictions without further training.\n",
      "Using custom data configuration default-b81141adc87b87bf\n",
      "Reusing dataset csv (cache\\csv\\default-b81141adc87b87bf\\0.0.0\\433e0ccc46f9880962cc2b12065189766fbb2bee57a221866138fb9203c83519)\n",
      "100%|██████████| 1/1 [00:00<00:00, 483.16it/s]\n",
      "Loading cached split indices for dataset at cache\\csv\\default-b81141adc87b87bf\\0.0.0\\433e0ccc46f9880962cc2b12065189766fbb2bee57a221866138fb9203c83519\\cache-e2d3926d0ffd0fd3.arrow and cache\\csv\\default-b81141adc87b87bf\\0.0.0\\433e0ccc46f9880962cc2b12065189766fbb2bee57a221866138fb9203c83519\\cache-f888d4a055d9f5e2.arrow\n",
      "Loading cached split indices for dataset at cache\\csv\\default-b81141adc87b87bf\\0.0.0\\433e0ccc46f9880962cc2b12065189766fbb2bee57a221866138fb9203c83519\\cache-682a04a266efce80.arrow and cache\\csv\\default-b81141adc87b87bf\\0.0.0\\433e0ccc46f9880962cc2b12065189766fbb2bee57a221866138fb9203c83519\\cache-13fca5dad2d5247a.arrow\n",
      "Loading cached processed dataset at cache\\csv\\default-b81141adc87b87bf\\0.0.0\\433e0ccc46f9880962cc2b12065189766fbb2bee57a221866138fb9203c83519\\cache-7662390b0e4f3793.arrow\n",
      "Loading cached processed dataset at cache\\csv\\default-b81141adc87b87bf\\0.0.0\\433e0ccc46f9880962cc2b12065189766fbb2bee57a221866138fb9203c83519\\cache-4379f0323f83a3bd.arrow\n",
      "Loading cached processed dataset at cache\\csv\\default-b81141adc87b87bf\\0.0.0\\433e0ccc46f9880962cc2b12065189766fbb2bee57a221866138fb9203c83519\\cache-ff90937c11e9e756.arrow\n",
      "Loading cached shuffled indices for dataset at cache\\csv\\default-b81141adc87b87bf\\0.0.0\\433e0ccc46f9880962cc2b12065189766fbb2bee57a221866138fb9203c83519\\cache-881ed2c7d650f5ac.arrow\n"
     ]
    },
    {
     "name": "stdout",
     "output_type": "stream",
     "text": [
      "Creating predictions\n"
     ]
    },
    {
     "name": "stderr",
     "output_type": "stream",
     "text": [
      "100%|██████████| 10/10 [00:31<00:00,  3.18s/it]\n",
      "100%|██████████| 10/10 [00:00<00:00, 2863.79it/s]\n",
      " 88%|████████▊ | 7/8 [03:14<00:28, 28.80s/it]All model checkpoint layers were used when initializing TFGPT2LMHeadModel.\n",
      "\n",
      "All the layers of TFGPT2LMHeadModel were initialized from the model checkpoint at ..\\Data\\Characters\\Phoebe\\phoebe_model.\n",
      "If your task is similar to the task the model of the checkpoint was trained on, you can already use TFGPT2LMHeadModel for predictions without further training.\n",
      "Using custom data configuration default-48cc5f719001fd3a\n",
      "Reusing dataset csv (cache\\csv\\default-48cc5f719001fd3a\\0.0.0\\433e0ccc46f9880962cc2b12065189766fbb2bee57a221866138fb9203c83519)\n",
      "100%|██████████| 1/1 [00:00<00:00, 334.07it/s]\n",
      "Loading cached split indices for dataset at cache\\csv\\default-48cc5f719001fd3a\\0.0.0\\433e0ccc46f9880962cc2b12065189766fbb2bee57a221866138fb9203c83519\\cache-16c140b5da191e7c.arrow and cache\\csv\\default-48cc5f719001fd3a\\0.0.0\\433e0ccc46f9880962cc2b12065189766fbb2bee57a221866138fb9203c83519\\cache-ed121df269d87298.arrow\n",
      "Loading cached split indices for dataset at cache\\csv\\default-48cc5f719001fd3a\\0.0.0\\433e0ccc46f9880962cc2b12065189766fbb2bee57a221866138fb9203c83519\\cache-f4f26cbce3ecb27c.arrow and cache\\csv\\default-48cc5f719001fd3a\\0.0.0\\433e0ccc46f9880962cc2b12065189766fbb2bee57a221866138fb9203c83519\\cache-186da54849d8ccad.arrow\n",
      "Loading cached processed dataset at cache\\csv\\default-48cc5f719001fd3a\\0.0.0\\433e0ccc46f9880962cc2b12065189766fbb2bee57a221866138fb9203c83519\\cache-7c5b176b39e0048e.arrow\n",
      "Loading cached processed dataset at cache\\csv\\default-48cc5f719001fd3a\\0.0.0\\433e0ccc46f9880962cc2b12065189766fbb2bee57a221866138fb9203c83519\\cache-5221c27b06394c28.arrow\n",
      "Loading cached processed dataset at cache\\csv\\default-48cc5f719001fd3a\\0.0.0\\433e0ccc46f9880962cc2b12065189766fbb2bee57a221866138fb9203c83519\\cache-20bada48da47c9c4.arrow\n",
      "Loading cached shuffled indices for dataset at cache\\csv\\default-48cc5f719001fd3a\\0.0.0\\433e0ccc46f9880962cc2b12065189766fbb2bee57a221866138fb9203c83519\\cache-1d4705c0ffbe174e.arrow\n"
     ]
    },
    {
     "name": "stdout",
     "output_type": "stream",
     "text": [
      "Creating predictions\n"
     ]
    },
    {
     "name": "stderr",
     "output_type": "stream",
     "text": [
      "100%|██████████| 10/10 [00:26<00:00,  2.61s/it]\n",
      "100%|██████████| 10/10 [00:00<00:00, 1111.72it/s]\n",
      "100%|██████████| 8/8 [03:43<00:00, 27.99s/it]\n"
     ]
    },
    {
     "name": "stdout",
     "output_type": "stream",
     "text": [
      "Run 10/15\n"
     ]
    },
    {
     "name": "stderr",
     "output_type": "stream",
     "text": [
      "  0%|          | 0/8 [00:00<?, ?it/s]All model checkpoint layers were used when initializing TFGPT2LMHeadModel.\n",
      "\n",
      "All the layers of TFGPT2LMHeadModel were initialized from the model checkpoint at ..\\Data\\Characters\\Barney\\barney_model.\n",
      "If your task is similar to the task the model of the checkpoint was trained on, you can already use TFGPT2LMHeadModel for predictions without further training.\n",
      "Using custom data configuration default-d78476db32c8db98\n",
      "Reusing dataset csv (cache\\csv\\default-d78476db32c8db98\\0.0.0\\433e0ccc46f9880962cc2b12065189766fbb2bee57a221866138fb9203c83519)\n",
      "100%|██████████| 1/1 [00:00<00:00, 968.66it/s]\n",
      "Loading cached split indices for dataset at cache\\csv\\default-d78476db32c8db98\\0.0.0\\433e0ccc46f9880962cc2b12065189766fbb2bee57a221866138fb9203c83519\\cache-651037d43e5e3dbd.arrow and cache\\csv\\default-d78476db32c8db98\\0.0.0\\433e0ccc46f9880962cc2b12065189766fbb2bee57a221866138fb9203c83519\\cache-7e4903d85e508b43.arrow\n",
      "Loading cached split indices for dataset at cache\\csv\\default-d78476db32c8db98\\0.0.0\\433e0ccc46f9880962cc2b12065189766fbb2bee57a221866138fb9203c83519\\cache-1b018c4ce0c1ed8c.arrow and cache\\csv\\default-d78476db32c8db98\\0.0.0\\433e0ccc46f9880962cc2b12065189766fbb2bee57a221866138fb9203c83519\\cache-2cfa4b0ef22c9ad5.arrow\n",
      "Loading cached processed dataset at cache\\csv\\default-d78476db32c8db98\\0.0.0\\433e0ccc46f9880962cc2b12065189766fbb2bee57a221866138fb9203c83519\\cache-89f9b92b2a083af0.arrow\n",
      "Loading cached processed dataset at cache\\csv\\default-d78476db32c8db98\\0.0.0\\433e0ccc46f9880962cc2b12065189766fbb2bee57a221866138fb9203c83519\\cache-f26a814e4e6d10fc.arrow\n",
      "Loading cached processed dataset at cache\\csv\\default-d78476db32c8db98\\0.0.0\\433e0ccc46f9880962cc2b12065189766fbb2bee57a221866138fb9203c83519\\cache-6655d46d8a0182ef.arrow\n",
      "Loading cached shuffled indices for dataset at cache\\csv\\default-d78476db32c8db98\\0.0.0\\433e0ccc46f9880962cc2b12065189766fbb2bee57a221866138fb9203c83519\\cache-b0ddd597589321af.arrow\n"
     ]
    },
    {
     "name": "stdout",
     "output_type": "stream",
     "text": [
      "Creating predictions\n"
     ]
    },
    {
     "name": "stderr",
     "output_type": "stream",
     "text": [
      "100%|██████████| 10/10 [00:23<00:00,  2.34s/it]\n",
      "100%|██████████| 10/10 [00:00<00:00, 996.96it/s]\n",
      " 12%|█▎        | 1/8 [00:26<03:08, 26.90s/it]All model checkpoint layers were used when initializing TFGPT2LMHeadModel.\n",
      "\n",
      "All the layers of TFGPT2LMHeadModel were initialized from the model checkpoint at ..\\Data\\Characters\\Sheldon\\sheldon_model.\n",
      "If your task is similar to the task the model of the checkpoint was trained on, you can already use TFGPT2LMHeadModel for predictions without further training.\n",
      "Using custom data configuration default-8207271dc09e0a46\n",
      "Reusing dataset csv (cache\\csv\\default-8207271dc09e0a46\\0.0.0\\433e0ccc46f9880962cc2b12065189766fbb2bee57a221866138fb9203c83519)\n",
      "100%|██████████| 1/1 [00:00<00:00, 421.20it/s]\n",
      "Loading cached split indices for dataset at cache\\csv\\default-8207271dc09e0a46\\0.0.0\\433e0ccc46f9880962cc2b12065189766fbb2bee57a221866138fb9203c83519\\cache-46b6cd7566c1d243.arrow and cache\\csv\\default-8207271dc09e0a46\\0.0.0\\433e0ccc46f9880962cc2b12065189766fbb2bee57a221866138fb9203c83519\\cache-e3e40e36f25dded7.arrow\n",
      "Loading cached split indices for dataset at cache\\csv\\default-8207271dc09e0a46\\0.0.0\\433e0ccc46f9880962cc2b12065189766fbb2bee57a221866138fb9203c83519\\cache-1774625d7360210c.arrow and cache\\csv\\default-8207271dc09e0a46\\0.0.0\\433e0ccc46f9880962cc2b12065189766fbb2bee57a221866138fb9203c83519\\cache-ad5b734370182aae.arrow\n",
      "Loading cached processed dataset at cache\\csv\\default-8207271dc09e0a46\\0.0.0\\433e0ccc46f9880962cc2b12065189766fbb2bee57a221866138fb9203c83519\\cache-fed8798d874c65dd.arrow\n",
      "Loading cached processed dataset at cache\\csv\\default-8207271dc09e0a46\\0.0.0\\433e0ccc46f9880962cc2b12065189766fbb2bee57a221866138fb9203c83519\\cache-632156930e5bea85.arrow\n",
      "Loading cached processed dataset at cache\\csv\\default-8207271dc09e0a46\\0.0.0\\433e0ccc46f9880962cc2b12065189766fbb2bee57a221866138fb9203c83519\\cache-448ecc7a6afdd007.arrow\n",
      "Loading cached shuffled indices for dataset at cache\\csv\\default-8207271dc09e0a46\\0.0.0\\433e0ccc46f9880962cc2b12065189766fbb2bee57a221866138fb9203c83519\\cache-44200aae20815359.arrow\n"
     ]
    },
    {
     "name": "stdout",
     "output_type": "stream",
     "text": [
      "Creating predictions\n"
     ]
    },
    {
     "name": "stderr",
     "output_type": "stream",
     "text": [
      "100%|██████████| 10/10 [00:28<00:00,  2.81s/it]\n",
      "100%|██████████| 10/10 [00:00<00:00, 2246.07it/s]\n",
      " 25%|██▌       | 2/8 [00:58<02:58, 29.71s/it]All model checkpoint layers were used when initializing TFGPT2LMHeadModel.\n",
      "\n",
      "All the layers of TFGPT2LMHeadModel were initialized from the model checkpoint at ..\\Data\\Characters\\Harry\\harry_model.\n",
      "If your task is similar to the task the model of the checkpoint was trained on, you can already use TFGPT2LMHeadModel for predictions without further training.\n",
      "Using custom data configuration default-5e8064f57286033a\n",
      "Reusing dataset csv (cache\\csv\\default-5e8064f57286033a\\0.0.0\\433e0ccc46f9880962cc2b12065189766fbb2bee57a221866138fb9203c83519)\n",
      "100%|██████████| 1/1 [00:00<00:00, 500.10it/s]\n",
      "Loading cached split indices for dataset at cache\\csv\\default-5e8064f57286033a\\0.0.0\\433e0ccc46f9880962cc2b12065189766fbb2bee57a221866138fb9203c83519\\cache-2b86c587abd47c66.arrow and cache\\csv\\default-5e8064f57286033a\\0.0.0\\433e0ccc46f9880962cc2b12065189766fbb2bee57a221866138fb9203c83519\\cache-8919d70a4bf80eed.arrow\n",
      "Loading cached split indices for dataset at cache\\csv\\default-5e8064f57286033a\\0.0.0\\433e0ccc46f9880962cc2b12065189766fbb2bee57a221866138fb9203c83519\\cache-4099b79485c950ea.arrow and cache\\csv\\default-5e8064f57286033a\\0.0.0\\433e0ccc46f9880962cc2b12065189766fbb2bee57a221866138fb9203c83519\\cache-cecb46b03995ab9b.arrow\n",
      "Loading cached processed dataset at cache\\csv\\default-5e8064f57286033a\\0.0.0\\433e0ccc46f9880962cc2b12065189766fbb2bee57a221866138fb9203c83519\\cache-e80578e3b4f7f025.arrow\n",
      "Loading cached processed dataset at cache\\csv\\default-5e8064f57286033a\\0.0.0\\433e0ccc46f9880962cc2b12065189766fbb2bee57a221866138fb9203c83519\\cache-45cad4fe25e5526e.arrow\n",
      "Loading cached processed dataset at cache\\csv\\default-5e8064f57286033a\\0.0.0\\433e0ccc46f9880962cc2b12065189766fbb2bee57a221866138fb9203c83519\\cache-937d1b7b6a0a1add.arrow\n",
      "Loading cached shuffled indices for dataset at cache\\csv\\default-5e8064f57286033a\\0.0.0\\433e0ccc46f9880962cc2b12065189766fbb2bee57a221866138fb9203c83519\\cache-1961250b1edbce64.arrow\n"
     ]
    },
    {
     "name": "stdout",
     "output_type": "stream",
     "text": [
      "Creating predictions\n"
     ]
    },
    {
     "name": "stderr",
     "output_type": "stream",
     "text": [
      "100%|██████████| 10/10 [00:15<00:00,  1.58s/it]\n",
      "100%|██████████| 10/10 [00:00<00:00, 1107.52it/s]\n",
      " 38%|███▊      | 3/8 [01:17<02:04, 24.97s/it]All model checkpoint layers were used when initializing TFGPT2LMHeadModel.\n",
      "\n",
      "All the layers of TFGPT2LMHeadModel were initialized from the model checkpoint at ..\\Data\\Characters\\Fry\\fry_model.\n",
      "If your task is similar to the task the model of the checkpoint was trained on, you can already use TFGPT2LMHeadModel for predictions without further training.\n",
      "Using custom data configuration default-b35448ec5dd887ec\n",
      "Reusing dataset csv (cache\\csv\\default-b35448ec5dd887ec\\0.0.0\\433e0ccc46f9880962cc2b12065189766fbb2bee57a221866138fb9203c83519)\n",
      "100%|██████████| 1/1 [00:00<00:00, 500.10it/s]\n",
      "Loading cached split indices for dataset at cache\\csv\\default-b35448ec5dd887ec\\0.0.0\\433e0ccc46f9880962cc2b12065189766fbb2bee57a221866138fb9203c83519\\cache-667383473c444f25.arrow and cache\\csv\\default-b35448ec5dd887ec\\0.0.0\\433e0ccc46f9880962cc2b12065189766fbb2bee57a221866138fb9203c83519\\cache-c520a8a264854da4.arrow\n",
      "Loading cached split indices for dataset at cache\\csv\\default-b35448ec5dd887ec\\0.0.0\\433e0ccc46f9880962cc2b12065189766fbb2bee57a221866138fb9203c83519\\cache-b072a26900059a04.arrow and cache\\csv\\default-b35448ec5dd887ec\\0.0.0\\433e0ccc46f9880962cc2b12065189766fbb2bee57a221866138fb9203c83519\\cache-885672efcb78500c.arrow\n",
      "Loading cached processed dataset at cache\\csv\\default-b35448ec5dd887ec\\0.0.0\\433e0ccc46f9880962cc2b12065189766fbb2bee57a221866138fb9203c83519\\cache-f2119e5a34f2eb76.arrow\n",
      "Loading cached processed dataset at cache\\csv\\default-b35448ec5dd887ec\\0.0.0\\433e0ccc46f9880962cc2b12065189766fbb2bee57a221866138fb9203c83519\\cache-cb34da498e1e68ed.arrow\n",
      "Loading cached processed dataset at cache\\csv\\default-b35448ec5dd887ec\\0.0.0\\433e0ccc46f9880962cc2b12065189766fbb2bee57a221866138fb9203c83519\\cache-3b065f584f7e66c9.arrow\n",
      "Loading cached shuffled indices for dataset at cache\\csv\\default-b35448ec5dd887ec\\0.0.0\\433e0ccc46f9880962cc2b12065189766fbb2bee57a221866138fb9203c83519\\cache-9012223f14afe1d0.arrow\n"
     ]
    },
    {
     "name": "stdout",
     "output_type": "stream",
     "text": [
      "Creating predictions\n"
     ]
    },
    {
     "name": "stderr",
     "output_type": "stream",
     "text": [
      "100%|██████████| 10/10 [00:27<00:00,  2.71s/it]\n",
      "100%|██████████| 10/10 [00:00<00:00, 1107.82it/s]\n",
      " 50%|█████     | 4/8 [01:48<01:48, 27.25s/it]All model checkpoint layers were used when initializing TFGPT2LMHeadModel.\n",
      "\n",
      "All the layers of TFGPT2LMHeadModel were initialized from the model checkpoint at ..\\Data\\Characters\\Bender\\bender_model.\n",
      "If your task is similar to the task the model of the checkpoint was trained on, you can already use TFGPT2LMHeadModel for predictions without further training.\n",
      "Using custom data configuration default-2a0884da2a86facc\n",
      "Reusing dataset csv (cache\\csv\\default-2a0884da2a86facc\\0.0.0\\433e0ccc46f9880962cc2b12065189766fbb2bee57a221866138fb9203c83519)\n",
      "100%|██████████| 1/1 [00:00<00:00, 492.40it/s]\n",
      "Loading cached split indices for dataset at cache\\csv\\default-2a0884da2a86facc\\0.0.0\\433e0ccc46f9880962cc2b12065189766fbb2bee57a221866138fb9203c83519\\cache-4c59c8594ee83881.arrow and cache\\csv\\default-2a0884da2a86facc\\0.0.0\\433e0ccc46f9880962cc2b12065189766fbb2bee57a221866138fb9203c83519\\cache-979ea9e674132025.arrow\n",
      "Loading cached split indices for dataset at cache\\csv\\default-2a0884da2a86facc\\0.0.0\\433e0ccc46f9880962cc2b12065189766fbb2bee57a221866138fb9203c83519\\cache-2cdb39c47142be86.arrow and cache\\csv\\default-2a0884da2a86facc\\0.0.0\\433e0ccc46f9880962cc2b12065189766fbb2bee57a221866138fb9203c83519\\cache-4b32be2eacb5d552.arrow\n",
      "Loading cached processed dataset at cache\\csv\\default-2a0884da2a86facc\\0.0.0\\433e0ccc46f9880962cc2b12065189766fbb2bee57a221866138fb9203c83519\\cache-6647fe37f40ed616.arrow\n",
      "Loading cached processed dataset at cache\\csv\\default-2a0884da2a86facc\\0.0.0\\433e0ccc46f9880962cc2b12065189766fbb2bee57a221866138fb9203c83519\\cache-98b2463bec0fd009.arrow\n",
      "Loading cached processed dataset at cache\\csv\\default-2a0884da2a86facc\\0.0.0\\433e0ccc46f9880962cc2b12065189766fbb2bee57a221866138fb9203c83519\\cache-015ae8852bcf3fa4.arrow\n",
      "Loading cached shuffled indices for dataset at cache\\csv\\default-2a0884da2a86facc\\0.0.0\\433e0ccc46f9880962cc2b12065189766fbb2bee57a221866138fb9203c83519\\cache-eefdc5e3fbc3d2c1.arrow\n"
     ]
    },
    {
     "name": "stdout",
     "output_type": "stream",
     "text": [
      "Creating predictions\n"
     ]
    },
    {
     "name": "stderr",
     "output_type": "stream",
     "text": [
      "100%|██████████| 10/10 [00:24<00:00,  2.50s/it]\n",
      "100%|██████████| 10/10 [00:00<00:00, 919.92it/s]\n",
      " 62%|██████▎   | 5/8 [02:17<01:23, 27.68s/it]All model checkpoint layers were used when initializing TFGPT2LMHeadModel.\n",
      "\n",
      "All the layers of TFGPT2LMHeadModel were initialized from the model checkpoint at ..\\Data\\Characters\\Vader\\vader_model.\n",
      "If your task is similar to the task the model of the checkpoint was trained on, you can already use TFGPT2LMHeadModel for predictions without further training.\n",
      "Using custom data configuration default-3bee7e44262edb7f\n",
      "Reusing dataset csv (cache\\csv\\default-3bee7e44262edb7f\\0.0.0\\433e0ccc46f9880962cc2b12065189766fbb2bee57a221866138fb9203c83519)\n",
      "100%|██████████| 1/1 [00:00<00:00, 1001.74it/s]\n",
      "Loading cached split indices for dataset at cache\\csv\\default-3bee7e44262edb7f\\0.0.0\\433e0ccc46f9880962cc2b12065189766fbb2bee57a221866138fb9203c83519\\cache-96d0a5ba5e8fec42.arrow and cache\\csv\\default-3bee7e44262edb7f\\0.0.0\\433e0ccc46f9880962cc2b12065189766fbb2bee57a221866138fb9203c83519\\cache-1443283cf78ecd8c.arrow\n",
      "Loading cached split indices for dataset at cache\\csv\\default-3bee7e44262edb7f\\0.0.0\\433e0ccc46f9880962cc2b12065189766fbb2bee57a221866138fb9203c83519\\cache-fe15dac5f93d7344.arrow and cache\\csv\\default-3bee7e44262edb7f\\0.0.0\\433e0ccc46f9880962cc2b12065189766fbb2bee57a221866138fb9203c83519\\cache-c4745ad835a23735.arrow\n",
      "Loading cached processed dataset at cache\\csv\\default-3bee7e44262edb7f\\0.0.0\\433e0ccc46f9880962cc2b12065189766fbb2bee57a221866138fb9203c83519\\cache-52e19da7533330c8.arrow\n",
      "Loading cached processed dataset at cache\\csv\\default-3bee7e44262edb7f\\0.0.0\\433e0ccc46f9880962cc2b12065189766fbb2bee57a221866138fb9203c83519\\cache-979822d41ccd7a4a.arrow\n",
      "Loading cached processed dataset at cache\\csv\\default-3bee7e44262edb7f\\0.0.0\\433e0ccc46f9880962cc2b12065189766fbb2bee57a221866138fb9203c83519\\cache-d486cd416c29c441.arrow\n",
      "Loading cached shuffled indices for dataset at cache\\csv\\default-3bee7e44262edb7f\\0.0.0\\433e0ccc46f9880962cc2b12065189766fbb2bee57a221866138fb9203c83519\\cache-5061dd57662d5196.arrow\n"
     ]
    },
    {
     "name": "stdout",
     "output_type": "stream",
     "text": [
      "Creating predictions\n"
     ]
    },
    {
     "name": "stderr",
     "output_type": "stream",
     "text": [
      "100%|██████████| 10/10 [00:23<00:00,  2.39s/it]\n",
      "100%|██████████| 10/10 [00:00<00:00, 1107.35it/s]\n",
      " 75%|███████▌  | 6/8 [02:44<00:55, 27.58s/it]All model checkpoint layers were used when initializing TFGPT2LMHeadModel.\n",
      "\n",
      "All the layers of TFGPT2LMHeadModel were initialized from the model checkpoint at ..\\Data\\Characters\\Joey\\joey_model.\n",
      "If your task is similar to the task the model of the checkpoint was trained on, you can already use TFGPT2LMHeadModel for predictions without further training.\n",
      "Using custom data configuration default-b81141adc87b87bf\n",
      "Reusing dataset csv (cache\\csv\\default-b81141adc87b87bf\\0.0.0\\433e0ccc46f9880962cc2b12065189766fbb2bee57a221866138fb9203c83519)\n",
      "100%|██████████| 1/1 [00:00<00:00, 241.36it/s]\n",
      "Loading cached split indices for dataset at cache\\csv\\default-b81141adc87b87bf\\0.0.0\\433e0ccc46f9880962cc2b12065189766fbb2bee57a221866138fb9203c83519\\cache-e2d3926d0ffd0fd3.arrow and cache\\csv\\default-b81141adc87b87bf\\0.0.0\\433e0ccc46f9880962cc2b12065189766fbb2bee57a221866138fb9203c83519\\cache-f888d4a055d9f5e2.arrow\n",
      "Loading cached split indices for dataset at cache\\csv\\default-b81141adc87b87bf\\0.0.0\\433e0ccc46f9880962cc2b12065189766fbb2bee57a221866138fb9203c83519\\cache-682a04a266efce80.arrow and cache\\csv\\default-b81141adc87b87bf\\0.0.0\\433e0ccc46f9880962cc2b12065189766fbb2bee57a221866138fb9203c83519\\cache-13fca5dad2d5247a.arrow\n",
      "Loading cached processed dataset at cache\\csv\\default-b81141adc87b87bf\\0.0.0\\433e0ccc46f9880962cc2b12065189766fbb2bee57a221866138fb9203c83519\\cache-7662390b0e4f3793.arrow\n",
      "Loading cached processed dataset at cache\\csv\\default-b81141adc87b87bf\\0.0.0\\433e0ccc46f9880962cc2b12065189766fbb2bee57a221866138fb9203c83519\\cache-4379f0323f83a3bd.arrow\n",
      "Loading cached processed dataset at cache\\csv\\default-b81141adc87b87bf\\0.0.0\\433e0ccc46f9880962cc2b12065189766fbb2bee57a221866138fb9203c83519\\cache-ff90937c11e9e756.arrow\n",
      "Loading cached shuffled indices for dataset at cache\\csv\\default-b81141adc87b87bf\\0.0.0\\433e0ccc46f9880962cc2b12065189766fbb2bee57a221866138fb9203c83519\\cache-881ed2c7d650f5ac.arrow\n"
     ]
    },
    {
     "name": "stdout",
     "output_type": "stream",
     "text": [
      "Creating predictions\n"
     ]
    },
    {
     "name": "stderr",
     "output_type": "stream",
     "text": [
      "100%|██████████| 10/10 [00:34<00:00,  3.41s/it]\n",
      "100%|██████████| 10/10 [00:00<00:00, 671.77it/s]\n",
      " 88%|████████▊ | 7/8 [03:22<00:30, 30.95s/it]All model checkpoint layers were used when initializing TFGPT2LMHeadModel.\n",
      "\n",
      "All the layers of TFGPT2LMHeadModel were initialized from the model checkpoint at ..\\Data\\Characters\\Phoebe\\phoebe_model.\n",
      "If your task is similar to the task the model of the checkpoint was trained on, you can already use TFGPT2LMHeadModel for predictions without further training.\n",
      "Using custom data configuration default-48cc5f719001fd3a\n",
      "Reusing dataset csv (cache\\csv\\default-48cc5f719001fd3a\\0.0.0\\433e0ccc46f9880962cc2b12065189766fbb2bee57a221866138fb9203c83519)\n",
      "100%|██████████| 1/1 [00:00<00:00, 329.77it/s]\n",
      "Loading cached split indices for dataset at cache\\csv\\default-48cc5f719001fd3a\\0.0.0\\433e0ccc46f9880962cc2b12065189766fbb2bee57a221866138fb9203c83519\\cache-16c140b5da191e7c.arrow and cache\\csv\\default-48cc5f719001fd3a\\0.0.0\\433e0ccc46f9880962cc2b12065189766fbb2bee57a221866138fb9203c83519\\cache-ed121df269d87298.arrow\n",
      "Loading cached split indices for dataset at cache\\csv\\default-48cc5f719001fd3a\\0.0.0\\433e0ccc46f9880962cc2b12065189766fbb2bee57a221866138fb9203c83519\\cache-f4f26cbce3ecb27c.arrow and cache\\csv\\default-48cc5f719001fd3a\\0.0.0\\433e0ccc46f9880962cc2b12065189766fbb2bee57a221866138fb9203c83519\\cache-186da54849d8ccad.arrow\n",
      "Loading cached processed dataset at cache\\csv\\default-48cc5f719001fd3a\\0.0.0\\433e0ccc46f9880962cc2b12065189766fbb2bee57a221866138fb9203c83519\\cache-7c5b176b39e0048e.arrow\n",
      "Loading cached processed dataset at cache\\csv\\default-48cc5f719001fd3a\\0.0.0\\433e0ccc46f9880962cc2b12065189766fbb2bee57a221866138fb9203c83519\\cache-5221c27b06394c28.arrow\n",
      "Loading cached processed dataset at cache\\csv\\default-48cc5f719001fd3a\\0.0.0\\433e0ccc46f9880962cc2b12065189766fbb2bee57a221866138fb9203c83519\\cache-20bada48da47c9c4.arrow\n",
      "Loading cached shuffled indices for dataset at cache\\csv\\default-48cc5f719001fd3a\\0.0.0\\433e0ccc46f9880962cc2b12065189766fbb2bee57a221866138fb9203c83519\\cache-1d4705c0ffbe174e.arrow\n"
     ]
    },
    {
     "name": "stdout",
     "output_type": "stream",
     "text": [
      "Creating predictions\n"
     ]
    },
    {
     "name": "stderr",
     "output_type": "stream",
     "text": [
      "100%|██████████| 10/10 [00:31<00:00,  3.13s/it]\n",
      "100%|██████████| 10/10 [00:00<00:00, 787.71it/s]\n",
      "100%|██████████| 8/8 [03:56<00:00, 29.61s/it]\n"
     ]
    },
    {
     "name": "stdout",
     "output_type": "stream",
     "text": [
      "Run 11/15\n"
     ]
    },
    {
     "name": "stderr",
     "output_type": "stream",
     "text": [
      "  0%|          | 0/8 [00:00<?, ?it/s]All model checkpoint layers were used when initializing TFGPT2LMHeadModel.\n",
      "\n",
      "All the layers of TFGPT2LMHeadModel were initialized from the model checkpoint at ..\\Data\\Characters\\Barney\\barney_model.\n",
      "If your task is similar to the task the model of the checkpoint was trained on, you can already use TFGPT2LMHeadModel for predictions without further training.\n",
      "Using custom data configuration default-d78476db32c8db98\n",
      "Reusing dataset csv (cache\\csv\\default-d78476db32c8db98\\0.0.0\\433e0ccc46f9880962cc2b12065189766fbb2bee57a221866138fb9203c83519)\n",
      "100%|██████████| 1/1 [00:00<00:00, 274.03it/s]\n",
      "Loading cached split indices for dataset at cache\\csv\\default-d78476db32c8db98\\0.0.0\\433e0ccc46f9880962cc2b12065189766fbb2bee57a221866138fb9203c83519\\cache-651037d43e5e3dbd.arrow and cache\\csv\\default-d78476db32c8db98\\0.0.0\\433e0ccc46f9880962cc2b12065189766fbb2bee57a221866138fb9203c83519\\cache-7e4903d85e508b43.arrow\n",
      "Loading cached split indices for dataset at cache\\csv\\default-d78476db32c8db98\\0.0.0\\433e0ccc46f9880962cc2b12065189766fbb2bee57a221866138fb9203c83519\\cache-1b018c4ce0c1ed8c.arrow and cache\\csv\\default-d78476db32c8db98\\0.0.0\\433e0ccc46f9880962cc2b12065189766fbb2bee57a221866138fb9203c83519\\cache-2cfa4b0ef22c9ad5.arrow\n",
      "Loading cached processed dataset at cache\\csv\\default-d78476db32c8db98\\0.0.0\\433e0ccc46f9880962cc2b12065189766fbb2bee57a221866138fb9203c83519\\cache-89f9b92b2a083af0.arrow\n",
      "Loading cached processed dataset at cache\\csv\\default-d78476db32c8db98\\0.0.0\\433e0ccc46f9880962cc2b12065189766fbb2bee57a221866138fb9203c83519\\cache-f26a814e4e6d10fc.arrow\n",
      "Loading cached processed dataset at cache\\csv\\default-d78476db32c8db98\\0.0.0\\433e0ccc46f9880962cc2b12065189766fbb2bee57a221866138fb9203c83519\\cache-6655d46d8a0182ef.arrow\n",
      "Loading cached shuffled indices for dataset at cache\\csv\\default-d78476db32c8db98\\0.0.0\\433e0ccc46f9880962cc2b12065189766fbb2bee57a221866138fb9203c83519\\cache-b0ddd597589321af.arrow\n"
     ]
    },
    {
     "name": "stdout",
     "output_type": "stream",
     "text": [
      "Creating predictions\n"
     ]
    },
    {
     "name": "stderr",
     "output_type": "stream",
     "text": [
      "100%|██████████| 10/10 [00:24<00:00,  2.41s/it]\n",
      "100%|██████████| 10/10 [00:00<00:00, 1111.75it/s]\n",
      " 12%|█▎        | 1/8 [00:27<03:11, 27.41s/it]All model checkpoint layers were used when initializing TFGPT2LMHeadModel.\n",
      "\n",
      "All the layers of TFGPT2LMHeadModel were initialized from the model checkpoint at ..\\Data\\Characters\\Sheldon\\sheldon_model.\n",
      "If your task is similar to the task the model of the checkpoint was trained on, you can already use TFGPT2LMHeadModel for predictions without further training.\n",
      "Using custom data configuration default-8207271dc09e0a46\n",
      "Reusing dataset csv (cache\\csv\\default-8207271dc09e0a46\\0.0.0\\433e0ccc46f9880962cc2b12065189766fbb2bee57a221866138fb9203c83519)\n",
      "100%|██████████| 1/1 [00:00<00:00, 330.03it/s]\n",
      "Loading cached split indices for dataset at cache\\csv\\default-8207271dc09e0a46\\0.0.0\\433e0ccc46f9880962cc2b12065189766fbb2bee57a221866138fb9203c83519\\cache-46b6cd7566c1d243.arrow and cache\\csv\\default-8207271dc09e0a46\\0.0.0\\433e0ccc46f9880962cc2b12065189766fbb2bee57a221866138fb9203c83519\\cache-e3e40e36f25dded7.arrow\n",
      "Loading cached split indices for dataset at cache\\csv\\default-8207271dc09e0a46\\0.0.0\\433e0ccc46f9880962cc2b12065189766fbb2bee57a221866138fb9203c83519\\cache-1774625d7360210c.arrow and cache\\csv\\default-8207271dc09e0a46\\0.0.0\\433e0ccc46f9880962cc2b12065189766fbb2bee57a221866138fb9203c83519\\cache-ad5b734370182aae.arrow\n",
      "Loading cached processed dataset at cache\\csv\\default-8207271dc09e0a46\\0.0.0\\433e0ccc46f9880962cc2b12065189766fbb2bee57a221866138fb9203c83519\\cache-fed8798d874c65dd.arrow\n",
      "Loading cached processed dataset at cache\\csv\\default-8207271dc09e0a46\\0.0.0\\433e0ccc46f9880962cc2b12065189766fbb2bee57a221866138fb9203c83519\\cache-632156930e5bea85.arrow\n",
      "Loading cached processed dataset at cache\\csv\\default-8207271dc09e0a46\\0.0.0\\433e0ccc46f9880962cc2b12065189766fbb2bee57a221866138fb9203c83519\\cache-448ecc7a6afdd007.arrow\n",
      "Loading cached shuffled indices for dataset at cache\\csv\\default-8207271dc09e0a46\\0.0.0\\433e0ccc46f9880962cc2b12065189766fbb2bee57a221866138fb9203c83519\\cache-44200aae20815359.arrow\n"
     ]
    },
    {
     "name": "stdout",
     "output_type": "stream",
     "text": [
      "Creating predictions\n"
     ]
    },
    {
     "name": "stderr",
     "output_type": "stream",
     "text": [
      "100%|██████████| 10/10 [00:23<00:00,  2.40s/it]\n",
      "100%|██████████| 10/10 [00:00<00:00, 1245.19it/s]\n",
      " 25%|██▌       | 2/8 [00:54<02:43, 27.29s/it]All model checkpoint layers were used when initializing TFGPT2LMHeadModel.\n",
      "\n",
      "All the layers of TFGPT2LMHeadModel were initialized from the model checkpoint at ..\\Data\\Characters\\Harry\\harry_model.\n",
      "If your task is similar to the task the model of the checkpoint was trained on, you can already use TFGPT2LMHeadModel for predictions without further training.\n",
      "Using custom data configuration default-5e8064f57286033a\n",
      "Reusing dataset csv (cache\\csv\\default-5e8064f57286033a\\0.0.0\\433e0ccc46f9880962cc2b12065189766fbb2bee57a221866138fb9203c83519)\n",
      "100%|██████████| 1/1 [00:00<00:00, 318.16it/s]\n",
      "Loading cached split indices for dataset at cache\\csv\\default-5e8064f57286033a\\0.0.0\\433e0ccc46f9880962cc2b12065189766fbb2bee57a221866138fb9203c83519\\cache-2b86c587abd47c66.arrow and cache\\csv\\default-5e8064f57286033a\\0.0.0\\433e0ccc46f9880962cc2b12065189766fbb2bee57a221866138fb9203c83519\\cache-8919d70a4bf80eed.arrow\n",
      "Loading cached split indices for dataset at cache\\csv\\default-5e8064f57286033a\\0.0.0\\433e0ccc46f9880962cc2b12065189766fbb2bee57a221866138fb9203c83519\\cache-4099b79485c950ea.arrow and cache\\csv\\default-5e8064f57286033a\\0.0.0\\433e0ccc46f9880962cc2b12065189766fbb2bee57a221866138fb9203c83519\\cache-cecb46b03995ab9b.arrow\n",
      "Loading cached processed dataset at cache\\csv\\default-5e8064f57286033a\\0.0.0\\433e0ccc46f9880962cc2b12065189766fbb2bee57a221866138fb9203c83519\\cache-e80578e3b4f7f025.arrow\n",
      "Loading cached processed dataset at cache\\csv\\default-5e8064f57286033a\\0.0.0\\433e0ccc46f9880962cc2b12065189766fbb2bee57a221866138fb9203c83519\\cache-45cad4fe25e5526e.arrow\n",
      "Loading cached processed dataset at cache\\csv\\default-5e8064f57286033a\\0.0.0\\433e0ccc46f9880962cc2b12065189766fbb2bee57a221866138fb9203c83519\\cache-937d1b7b6a0a1add.arrow\n",
      "Loading cached shuffled indices for dataset at cache\\csv\\default-5e8064f57286033a\\0.0.0\\433e0ccc46f9880962cc2b12065189766fbb2bee57a221866138fb9203c83519\\cache-1961250b1edbce64.arrow\n"
     ]
    },
    {
     "name": "stdout",
     "output_type": "stream",
     "text": [
      "Creating predictions\n"
     ]
    },
    {
     "name": "stderr",
     "output_type": "stream",
     "text": [
      "100%|██████████| 10/10 [00:15<00:00,  1.52s/it]\n",
      "100%|██████████| 10/10 [00:00<00:00, 1107.11it/s]\n",
      " 38%|███▊      | 3/8 [01:13<01:56, 23.29s/it]All model checkpoint layers were used when initializing TFGPT2LMHeadModel.\n",
      "\n",
      "All the layers of TFGPT2LMHeadModel were initialized from the model checkpoint at ..\\Data\\Characters\\Fry\\fry_model.\n",
      "If your task is similar to the task the model of the checkpoint was trained on, you can already use TFGPT2LMHeadModel for predictions without further training.\n",
      "Using custom data configuration default-b35448ec5dd887ec\n",
      "Reusing dataset csv (cache\\csv\\default-b35448ec5dd887ec\\0.0.0\\433e0ccc46f9880962cc2b12065189766fbb2bee57a221866138fb9203c83519)\n",
      "100%|██████████| 1/1 [00:00<00:00, 664.81it/s]\n",
      "Loading cached split indices for dataset at cache\\csv\\default-b35448ec5dd887ec\\0.0.0\\433e0ccc46f9880962cc2b12065189766fbb2bee57a221866138fb9203c83519\\cache-667383473c444f25.arrow and cache\\csv\\default-b35448ec5dd887ec\\0.0.0\\433e0ccc46f9880962cc2b12065189766fbb2bee57a221866138fb9203c83519\\cache-c520a8a264854da4.arrow\n",
      "Loading cached split indices for dataset at cache\\csv\\default-b35448ec5dd887ec\\0.0.0\\433e0ccc46f9880962cc2b12065189766fbb2bee57a221866138fb9203c83519\\cache-b072a26900059a04.arrow and cache\\csv\\default-b35448ec5dd887ec\\0.0.0\\433e0ccc46f9880962cc2b12065189766fbb2bee57a221866138fb9203c83519\\cache-885672efcb78500c.arrow\n",
      "Loading cached processed dataset at cache\\csv\\default-b35448ec5dd887ec\\0.0.0\\433e0ccc46f9880962cc2b12065189766fbb2bee57a221866138fb9203c83519\\cache-f2119e5a34f2eb76.arrow\n",
      "Loading cached processed dataset at cache\\csv\\default-b35448ec5dd887ec\\0.0.0\\433e0ccc46f9880962cc2b12065189766fbb2bee57a221866138fb9203c83519\\cache-cb34da498e1e68ed.arrow\n",
      "Loading cached processed dataset at cache\\csv\\default-b35448ec5dd887ec\\0.0.0\\433e0ccc46f9880962cc2b12065189766fbb2bee57a221866138fb9203c83519\\cache-3b065f584f7e66c9.arrow\n",
      "Loading cached shuffled indices for dataset at cache\\csv\\default-b35448ec5dd887ec\\0.0.0\\433e0ccc46f9880962cc2b12065189766fbb2bee57a221866138fb9203c83519\\cache-9012223f14afe1d0.arrow\n"
     ]
    },
    {
     "name": "stdout",
     "output_type": "stream",
     "text": [
      "Creating predictions\n"
     ]
    },
    {
     "name": "stderr",
     "output_type": "stream",
     "text": [
      "100%|██████████| 10/10 [00:23<00:00,  2.40s/it]\n",
      "100%|██████████| 10/10 [00:00<00:00, 1022.65it/s]\n",
      " 50%|█████     | 4/8 [01:40<01:39, 24.92s/it]All model checkpoint layers were used when initializing TFGPT2LMHeadModel.\n",
      "\n",
      "All the layers of TFGPT2LMHeadModel were initialized from the model checkpoint at ..\\Data\\Characters\\Bender\\bender_model.\n",
      "If your task is similar to the task the model of the checkpoint was trained on, you can already use TFGPT2LMHeadModel for predictions without further training.\n",
      "Using custom data configuration default-2a0884da2a86facc\n",
      "Reusing dataset csv (cache\\csv\\default-2a0884da2a86facc\\0.0.0\\433e0ccc46f9880962cc2b12065189766fbb2bee57a221866138fb9203c83519)\n",
      "100%|██████████| 1/1 [00:00<00:00, 330.52it/s]\n",
      "Loading cached split indices for dataset at cache\\csv\\default-2a0884da2a86facc\\0.0.0\\433e0ccc46f9880962cc2b12065189766fbb2bee57a221866138fb9203c83519\\cache-4c59c8594ee83881.arrow and cache\\csv\\default-2a0884da2a86facc\\0.0.0\\433e0ccc46f9880962cc2b12065189766fbb2bee57a221866138fb9203c83519\\cache-979ea9e674132025.arrow\n",
      "Loading cached split indices for dataset at cache\\csv\\default-2a0884da2a86facc\\0.0.0\\433e0ccc46f9880962cc2b12065189766fbb2bee57a221866138fb9203c83519\\cache-2cdb39c47142be86.arrow and cache\\csv\\default-2a0884da2a86facc\\0.0.0\\433e0ccc46f9880962cc2b12065189766fbb2bee57a221866138fb9203c83519\\cache-4b32be2eacb5d552.arrow\n",
      "Loading cached processed dataset at cache\\csv\\default-2a0884da2a86facc\\0.0.0\\433e0ccc46f9880962cc2b12065189766fbb2bee57a221866138fb9203c83519\\cache-6647fe37f40ed616.arrow\n",
      "Loading cached processed dataset at cache\\csv\\default-2a0884da2a86facc\\0.0.0\\433e0ccc46f9880962cc2b12065189766fbb2bee57a221866138fb9203c83519\\cache-98b2463bec0fd009.arrow\n",
      "Loading cached processed dataset at cache\\csv\\default-2a0884da2a86facc\\0.0.0\\433e0ccc46f9880962cc2b12065189766fbb2bee57a221866138fb9203c83519\\cache-015ae8852bcf3fa4.arrow\n",
      "Loading cached shuffled indices for dataset at cache\\csv\\default-2a0884da2a86facc\\0.0.0\\433e0ccc46f9880962cc2b12065189766fbb2bee57a221866138fb9203c83519\\cache-eefdc5e3fbc3d2c1.arrow\n"
     ]
    },
    {
     "name": "stdout",
     "output_type": "stream",
     "text": [
      "Creating predictions\n"
     ]
    },
    {
     "name": "stderr",
     "output_type": "stream",
     "text": [
      "100%|██████████| 10/10 [00:32<00:00,  3.25s/it]\n",
      "100%|██████████| 10/10 [00:00<00:00, 1111.43it/s]\n",
      " 62%|██████▎   | 5/8 [02:16<01:26, 28.89s/it]All model checkpoint layers were used when initializing TFGPT2LMHeadModel.\n",
      "\n",
      "All the layers of TFGPT2LMHeadModel were initialized from the model checkpoint at ..\\Data\\Characters\\Vader\\vader_model.\n",
      "If your task is similar to the task the model of the checkpoint was trained on, you can already use TFGPT2LMHeadModel for predictions without further training.\n",
      "Using custom data configuration default-3bee7e44262edb7f\n",
      "Reusing dataset csv (cache\\csv\\default-3bee7e44262edb7f\\0.0.0\\433e0ccc46f9880962cc2b12065189766fbb2bee57a221866138fb9203c83519)\n",
      "100%|██████████| 1/1 [00:00<00:00, 499.86it/s]\n",
      "Loading cached split indices for dataset at cache\\csv\\default-3bee7e44262edb7f\\0.0.0\\433e0ccc46f9880962cc2b12065189766fbb2bee57a221866138fb9203c83519\\cache-96d0a5ba5e8fec42.arrow and cache\\csv\\default-3bee7e44262edb7f\\0.0.0\\433e0ccc46f9880962cc2b12065189766fbb2bee57a221866138fb9203c83519\\cache-1443283cf78ecd8c.arrow\n",
      "Loading cached split indices for dataset at cache\\csv\\default-3bee7e44262edb7f\\0.0.0\\433e0ccc46f9880962cc2b12065189766fbb2bee57a221866138fb9203c83519\\cache-fe15dac5f93d7344.arrow and cache\\csv\\default-3bee7e44262edb7f\\0.0.0\\433e0ccc46f9880962cc2b12065189766fbb2bee57a221866138fb9203c83519\\cache-c4745ad835a23735.arrow\n",
      "Loading cached processed dataset at cache\\csv\\default-3bee7e44262edb7f\\0.0.0\\433e0ccc46f9880962cc2b12065189766fbb2bee57a221866138fb9203c83519\\cache-52e19da7533330c8.arrow\n",
      "Loading cached processed dataset at cache\\csv\\default-3bee7e44262edb7f\\0.0.0\\433e0ccc46f9880962cc2b12065189766fbb2bee57a221866138fb9203c83519\\cache-979822d41ccd7a4a.arrow\n",
      "Loading cached processed dataset at cache\\csv\\default-3bee7e44262edb7f\\0.0.0\\433e0ccc46f9880962cc2b12065189766fbb2bee57a221866138fb9203c83519\\cache-d486cd416c29c441.arrow\n",
      "Loading cached shuffled indices for dataset at cache\\csv\\default-3bee7e44262edb7f\\0.0.0\\433e0ccc46f9880962cc2b12065189766fbb2bee57a221866138fb9203c83519\\cache-5061dd57662d5196.arrow\n"
     ]
    },
    {
     "name": "stdout",
     "output_type": "stream",
     "text": [
      "Creating predictions\n"
     ]
    },
    {
     "name": "stderr",
     "output_type": "stream",
     "text": [
      "100%|██████████| 10/10 [00:23<00:00,  2.33s/it]\n",
      "100%|██████████| 10/10 [00:00<00:00, 2906.86it/s]\n",
      " 75%|███████▌  | 6/8 [02:43<00:56, 28.12s/it]All model checkpoint layers were used when initializing TFGPT2LMHeadModel.\n",
      "\n",
      "All the layers of TFGPT2LMHeadModel were initialized from the model checkpoint at ..\\Data\\Characters\\Joey\\joey_model.\n",
      "If your task is similar to the task the model of the checkpoint was trained on, you can already use TFGPT2LMHeadModel for predictions without further training.\n",
      "Using custom data configuration default-b81141adc87b87bf\n",
      "Reusing dataset csv (cache\\csv\\default-b81141adc87b87bf\\0.0.0\\433e0ccc46f9880962cc2b12065189766fbb2bee57a221866138fb9203c83519)\n",
      "100%|██████████| 1/1 [00:00<00:00, 392.03it/s]\n",
      "Loading cached split indices for dataset at cache\\csv\\default-b81141adc87b87bf\\0.0.0\\433e0ccc46f9880962cc2b12065189766fbb2bee57a221866138fb9203c83519\\cache-e2d3926d0ffd0fd3.arrow and cache\\csv\\default-b81141adc87b87bf\\0.0.0\\433e0ccc46f9880962cc2b12065189766fbb2bee57a221866138fb9203c83519\\cache-f888d4a055d9f5e2.arrow\n",
      "Loading cached split indices for dataset at cache\\csv\\default-b81141adc87b87bf\\0.0.0\\433e0ccc46f9880962cc2b12065189766fbb2bee57a221866138fb9203c83519\\cache-682a04a266efce80.arrow and cache\\csv\\default-b81141adc87b87bf\\0.0.0\\433e0ccc46f9880962cc2b12065189766fbb2bee57a221866138fb9203c83519\\cache-13fca5dad2d5247a.arrow\n",
      "Loading cached processed dataset at cache\\csv\\default-b81141adc87b87bf\\0.0.0\\433e0ccc46f9880962cc2b12065189766fbb2bee57a221866138fb9203c83519\\cache-7662390b0e4f3793.arrow\n",
      "Loading cached processed dataset at cache\\csv\\default-b81141adc87b87bf\\0.0.0\\433e0ccc46f9880962cc2b12065189766fbb2bee57a221866138fb9203c83519\\cache-4379f0323f83a3bd.arrow\n",
      "Loading cached processed dataset at cache\\csv\\default-b81141adc87b87bf\\0.0.0\\433e0ccc46f9880962cc2b12065189766fbb2bee57a221866138fb9203c83519\\cache-ff90937c11e9e756.arrow\n",
      "Loading cached shuffled indices for dataset at cache\\csv\\default-b81141adc87b87bf\\0.0.0\\433e0ccc46f9880962cc2b12065189766fbb2bee57a221866138fb9203c83519\\cache-881ed2c7d650f5ac.arrow\n"
     ]
    },
    {
     "name": "stdout",
     "output_type": "stream",
     "text": [
      "Creating predictions\n"
     ]
    },
    {
     "name": "stderr",
     "output_type": "stream",
     "text": [
      "100%|██████████| 10/10 [00:26<00:00,  2.65s/it]\n",
      "100%|██████████| 10/10 [00:00<00:00, 1783.90it/s]\n",
      " 88%|████████▊ | 7/8 [03:13<00:28, 28.70s/it]All model checkpoint layers were used when initializing TFGPT2LMHeadModel.\n",
      "\n",
      "All the layers of TFGPT2LMHeadModel were initialized from the model checkpoint at ..\\Data\\Characters\\Phoebe\\phoebe_model.\n",
      "If your task is similar to the task the model of the checkpoint was trained on, you can already use TFGPT2LMHeadModel for predictions without further training.\n",
      "Using custom data configuration default-48cc5f719001fd3a\n",
      "Reusing dataset csv (cache\\csv\\default-48cc5f719001fd3a\\0.0.0\\433e0ccc46f9880962cc2b12065189766fbb2bee57a221866138fb9203c83519)\n",
      "100%|██████████| 1/1 [00:00<00:00, 318.74it/s]\n",
      "Loading cached split indices for dataset at cache\\csv\\default-48cc5f719001fd3a\\0.0.0\\433e0ccc46f9880962cc2b12065189766fbb2bee57a221866138fb9203c83519\\cache-16c140b5da191e7c.arrow and cache\\csv\\default-48cc5f719001fd3a\\0.0.0\\433e0ccc46f9880962cc2b12065189766fbb2bee57a221866138fb9203c83519\\cache-ed121df269d87298.arrow\n",
      "Loading cached split indices for dataset at cache\\csv\\default-48cc5f719001fd3a\\0.0.0\\433e0ccc46f9880962cc2b12065189766fbb2bee57a221866138fb9203c83519\\cache-f4f26cbce3ecb27c.arrow and cache\\csv\\default-48cc5f719001fd3a\\0.0.0\\433e0ccc46f9880962cc2b12065189766fbb2bee57a221866138fb9203c83519\\cache-186da54849d8ccad.arrow\n",
      "Loading cached processed dataset at cache\\csv\\default-48cc5f719001fd3a\\0.0.0\\433e0ccc46f9880962cc2b12065189766fbb2bee57a221866138fb9203c83519\\cache-7c5b176b39e0048e.arrow\n",
      "Loading cached processed dataset at cache\\csv\\default-48cc5f719001fd3a\\0.0.0\\433e0ccc46f9880962cc2b12065189766fbb2bee57a221866138fb9203c83519\\cache-5221c27b06394c28.arrow\n",
      "Loading cached processed dataset at cache\\csv\\default-48cc5f719001fd3a\\0.0.0\\433e0ccc46f9880962cc2b12065189766fbb2bee57a221866138fb9203c83519\\cache-20bada48da47c9c4.arrow\n",
      "Loading cached shuffled indices for dataset at cache\\csv\\default-48cc5f719001fd3a\\0.0.0\\433e0ccc46f9880962cc2b12065189766fbb2bee57a221866138fb9203c83519\\cache-1d4705c0ffbe174e.arrow\n"
     ]
    },
    {
     "name": "stdout",
     "output_type": "stream",
     "text": [
      "Creating predictions\n"
     ]
    },
    {
     "name": "stderr",
     "output_type": "stream",
     "text": [
      "100%|██████████| 10/10 [00:27<00:00,  2.79s/it]\n",
      "100%|██████████| 10/10 [00:00<00:00, 1245.78it/s]\n",
      "100%|██████████| 8/8 [03:44<00:00, 28.03s/it]\n"
     ]
    },
    {
     "name": "stdout",
     "output_type": "stream",
     "text": [
      "Run 12/15\n"
     ]
    },
    {
     "name": "stderr",
     "output_type": "stream",
     "text": [
      "  0%|          | 0/8 [00:00<?, ?it/s]All model checkpoint layers were used when initializing TFGPT2LMHeadModel.\n",
      "\n",
      "All the layers of TFGPT2LMHeadModel were initialized from the model checkpoint at ..\\Data\\Characters\\Barney\\barney_model.\n",
      "If your task is similar to the task the model of the checkpoint was trained on, you can already use TFGPT2LMHeadModel for predictions without further training.\n",
      "Using custom data configuration default-d78476db32c8db98\n",
      "Reusing dataset csv (cache\\csv\\default-d78476db32c8db98\\0.0.0\\433e0ccc46f9880962cc2b12065189766fbb2bee57a221866138fb9203c83519)\n",
      "100%|██████████| 1/1 [00:00<00:00, 668.95it/s]\n",
      "Loading cached split indices for dataset at cache\\csv\\default-d78476db32c8db98\\0.0.0\\433e0ccc46f9880962cc2b12065189766fbb2bee57a221866138fb9203c83519\\cache-651037d43e5e3dbd.arrow and cache\\csv\\default-d78476db32c8db98\\0.0.0\\433e0ccc46f9880962cc2b12065189766fbb2bee57a221866138fb9203c83519\\cache-7e4903d85e508b43.arrow\n",
      "Loading cached split indices for dataset at cache\\csv\\default-d78476db32c8db98\\0.0.0\\433e0ccc46f9880962cc2b12065189766fbb2bee57a221866138fb9203c83519\\cache-1b018c4ce0c1ed8c.arrow and cache\\csv\\default-d78476db32c8db98\\0.0.0\\433e0ccc46f9880962cc2b12065189766fbb2bee57a221866138fb9203c83519\\cache-2cfa4b0ef22c9ad5.arrow\n",
      "Loading cached processed dataset at cache\\csv\\default-d78476db32c8db98\\0.0.0\\433e0ccc46f9880962cc2b12065189766fbb2bee57a221866138fb9203c83519\\cache-89f9b92b2a083af0.arrow\n",
      "Loading cached processed dataset at cache\\csv\\default-d78476db32c8db98\\0.0.0\\433e0ccc46f9880962cc2b12065189766fbb2bee57a221866138fb9203c83519\\cache-f26a814e4e6d10fc.arrow\n",
      "Loading cached processed dataset at cache\\csv\\default-d78476db32c8db98\\0.0.0\\433e0ccc46f9880962cc2b12065189766fbb2bee57a221866138fb9203c83519\\cache-6655d46d8a0182ef.arrow\n",
      "Loading cached shuffled indices for dataset at cache\\csv\\default-d78476db32c8db98\\0.0.0\\433e0ccc46f9880962cc2b12065189766fbb2bee57a221866138fb9203c83519\\cache-b0ddd597589321af.arrow\n"
     ]
    },
    {
     "name": "stdout",
     "output_type": "stream",
     "text": [
      "Creating predictions\n"
     ]
    },
    {
     "name": "stderr",
     "output_type": "stream",
     "text": [
      "100%|██████████| 10/10 [00:22<00:00,  2.28s/it]\n",
      "100%|██████████| 10/10 [00:00<00:00, 1421.41it/s]\n",
      " 12%|█▎        | 1/8 [00:26<03:02, 26.07s/it]All model checkpoint layers were used when initializing TFGPT2LMHeadModel.\n",
      "\n",
      "All the layers of TFGPT2LMHeadModel were initialized from the model checkpoint at ..\\Data\\Characters\\Sheldon\\sheldon_model.\n",
      "If your task is similar to the task the model of the checkpoint was trained on, you can already use TFGPT2LMHeadModel for predictions without further training.\n",
      "Using custom data configuration default-8207271dc09e0a46\n",
      "Reusing dataset csv (cache\\csv\\default-8207271dc09e0a46\\0.0.0\\433e0ccc46f9880962cc2b12065189766fbb2bee57a221866138fb9203c83519)\n",
      "100%|██████████| 1/1 [00:00<00:00, 500.04it/s]\n",
      "Loading cached split indices for dataset at cache\\csv\\default-8207271dc09e0a46\\0.0.0\\433e0ccc46f9880962cc2b12065189766fbb2bee57a221866138fb9203c83519\\cache-46b6cd7566c1d243.arrow and cache\\csv\\default-8207271dc09e0a46\\0.0.0\\433e0ccc46f9880962cc2b12065189766fbb2bee57a221866138fb9203c83519\\cache-e3e40e36f25dded7.arrow\n",
      "Loading cached split indices for dataset at cache\\csv\\default-8207271dc09e0a46\\0.0.0\\433e0ccc46f9880962cc2b12065189766fbb2bee57a221866138fb9203c83519\\cache-1774625d7360210c.arrow and cache\\csv\\default-8207271dc09e0a46\\0.0.0\\433e0ccc46f9880962cc2b12065189766fbb2bee57a221866138fb9203c83519\\cache-ad5b734370182aae.arrow\n",
      "Loading cached processed dataset at cache\\csv\\default-8207271dc09e0a46\\0.0.0\\433e0ccc46f9880962cc2b12065189766fbb2bee57a221866138fb9203c83519\\cache-fed8798d874c65dd.arrow\n",
      "Loading cached processed dataset at cache\\csv\\default-8207271dc09e0a46\\0.0.0\\433e0ccc46f9880962cc2b12065189766fbb2bee57a221866138fb9203c83519\\cache-632156930e5bea85.arrow\n",
      "Loading cached processed dataset at cache\\csv\\default-8207271dc09e0a46\\0.0.0\\433e0ccc46f9880962cc2b12065189766fbb2bee57a221866138fb9203c83519\\cache-448ecc7a6afdd007.arrow\n",
      "Loading cached shuffled indices for dataset at cache\\csv\\default-8207271dc09e0a46\\0.0.0\\433e0ccc46f9880962cc2b12065189766fbb2bee57a221866138fb9203c83519\\cache-44200aae20815359.arrow\n"
     ]
    },
    {
     "name": "stdout",
     "output_type": "stream",
     "text": [
      "Creating predictions\n"
     ]
    },
    {
     "name": "stderr",
     "output_type": "stream",
     "text": [
      "100%|██████████| 10/10 [00:15<00:00,  1.53s/it]\n",
      "100%|██████████| 10/10 [00:00<00:00, 1022.35it/s]\n",
      " 25%|██▌       | 2/8 [00:44<02:10, 21.69s/it]All model checkpoint layers were used when initializing TFGPT2LMHeadModel.\n",
      "\n",
      "All the layers of TFGPT2LMHeadModel were initialized from the model checkpoint at ..\\Data\\Characters\\Harry\\harry_model.\n",
      "If your task is similar to the task the model of the checkpoint was trained on, you can already use TFGPT2LMHeadModel for predictions without further training.\n",
      "Using custom data configuration default-5e8064f57286033a\n",
      "Reusing dataset csv (cache\\csv\\default-5e8064f57286033a\\0.0.0\\433e0ccc46f9880962cc2b12065189766fbb2bee57a221866138fb9203c83519)\n",
      "100%|██████████| 1/1 [00:00<00:00, 755.19it/s]\n",
      "Loading cached split indices for dataset at cache\\csv\\default-5e8064f57286033a\\0.0.0\\433e0ccc46f9880962cc2b12065189766fbb2bee57a221866138fb9203c83519\\cache-2b86c587abd47c66.arrow and cache\\csv\\default-5e8064f57286033a\\0.0.0\\433e0ccc46f9880962cc2b12065189766fbb2bee57a221866138fb9203c83519\\cache-8919d70a4bf80eed.arrow\n",
      "Loading cached split indices for dataset at cache\\csv\\default-5e8064f57286033a\\0.0.0\\433e0ccc46f9880962cc2b12065189766fbb2bee57a221866138fb9203c83519\\cache-4099b79485c950ea.arrow and cache\\csv\\default-5e8064f57286033a\\0.0.0\\433e0ccc46f9880962cc2b12065189766fbb2bee57a221866138fb9203c83519\\cache-cecb46b03995ab9b.arrow\n",
      "Loading cached processed dataset at cache\\csv\\default-5e8064f57286033a\\0.0.0\\433e0ccc46f9880962cc2b12065189766fbb2bee57a221866138fb9203c83519\\cache-e80578e3b4f7f025.arrow\n",
      "Loading cached processed dataset at cache\\csv\\default-5e8064f57286033a\\0.0.0\\433e0ccc46f9880962cc2b12065189766fbb2bee57a221866138fb9203c83519\\cache-45cad4fe25e5526e.arrow\n",
      "Loading cached processed dataset at cache\\csv\\default-5e8064f57286033a\\0.0.0\\433e0ccc46f9880962cc2b12065189766fbb2bee57a221866138fb9203c83519\\cache-937d1b7b6a0a1add.arrow\n",
      "Loading cached shuffled indices for dataset at cache\\csv\\default-5e8064f57286033a\\0.0.0\\433e0ccc46f9880962cc2b12065189766fbb2bee57a221866138fb9203c83519\\cache-1961250b1edbce64.arrow\n"
     ]
    },
    {
     "name": "stdout",
     "output_type": "stream",
     "text": [
      "Creating predictions\n"
     ]
    },
    {
     "name": "stderr",
     "output_type": "stream",
     "text": [
      "100%|██████████| 10/10 [00:17<00:00,  1.71s/it]\n",
      "100%|██████████| 10/10 [00:00<00:00, 1111.40it/s]\n",
      " 38%|███▊      | 3/8 [01:05<01:45, 21.09s/it]All model checkpoint layers were used when initializing TFGPT2LMHeadModel.\n",
      "\n",
      "All the layers of TFGPT2LMHeadModel were initialized from the model checkpoint at ..\\Data\\Characters\\Fry\\fry_model.\n",
      "If your task is similar to the task the model of the checkpoint was trained on, you can already use TFGPT2LMHeadModel for predictions without further training.\n",
      "Using custom data configuration default-b35448ec5dd887ec\n",
      "Reusing dataset csv (cache\\csv\\default-b35448ec5dd887ec\\0.0.0\\433e0ccc46f9880962cc2b12065189766fbb2bee57a221866138fb9203c83519)\n",
      "100%|██████████| 1/1 [00:00<00:00, 799.22it/s]\n",
      "Loading cached split indices for dataset at cache\\csv\\default-b35448ec5dd887ec\\0.0.0\\433e0ccc46f9880962cc2b12065189766fbb2bee57a221866138fb9203c83519\\cache-667383473c444f25.arrow and cache\\csv\\default-b35448ec5dd887ec\\0.0.0\\433e0ccc46f9880962cc2b12065189766fbb2bee57a221866138fb9203c83519\\cache-c520a8a264854da4.arrow\n",
      "Loading cached split indices for dataset at cache\\csv\\default-b35448ec5dd887ec\\0.0.0\\433e0ccc46f9880962cc2b12065189766fbb2bee57a221866138fb9203c83519\\cache-b072a26900059a04.arrow and cache\\csv\\default-b35448ec5dd887ec\\0.0.0\\433e0ccc46f9880962cc2b12065189766fbb2bee57a221866138fb9203c83519\\cache-885672efcb78500c.arrow\n",
      "Loading cached processed dataset at cache\\csv\\default-b35448ec5dd887ec\\0.0.0\\433e0ccc46f9880962cc2b12065189766fbb2bee57a221866138fb9203c83519\\cache-f2119e5a34f2eb76.arrow\n",
      "Loading cached processed dataset at cache\\csv\\default-b35448ec5dd887ec\\0.0.0\\433e0ccc46f9880962cc2b12065189766fbb2bee57a221866138fb9203c83519\\cache-cb34da498e1e68ed.arrow\n",
      "Loading cached processed dataset at cache\\csv\\default-b35448ec5dd887ec\\0.0.0\\433e0ccc46f9880962cc2b12065189766fbb2bee57a221866138fb9203c83519\\cache-3b065f584f7e66c9.arrow\n",
      "Loading cached shuffled indices for dataset at cache\\csv\\default-b35448ec5dd887ec\\0.0.0\\433e0ccc46f9880962cc2b12065189766fbb2bee57a221866138fb9203c83519\\cache-9012223f14afe1d0.arrow\n"
     ]
    },
    {
     "name": "stdout",
     "output_type": "stream",
     "text": [
      "Creating predictions\n"
     ]
    },
    {
     "name": "stderr",
     "output_type": "stream",
     "text": [
      "100%|██████████| 10/10 [00:23<00:00,  2.38s/it]\n",
      "100%|██████████| 10/10 [00:00<00:00, 1107.55it/s]\n",
      " 50%|█████     | 4/8 [01:32<01:33, 23.46s/it]All model checkpoint layers were used when initializing TFGPT2LMHeadModel.\n",
      "\n",
      "All the layers of TFGPT2LMHeadModel were initialized from the model checkpoint at ..\\Data\\Characters\\Bender\\bender_model.\n",
      "If your task is similar to the task the model of the checkpoint was trained on, you can already use TFGPT2LMHeadModel for predictions without further training.\n",
      "Using custom data configuration default-2a0884da2a86facc\n",
      "Reusing dataset csv (cache\\csv\\default-2a0884da2a86facc\\0.0.0\\433e0ccc46f9880962cc2b12065189766fbb2bee57a221866138fb9203c83519)\n",
      "100%|██████████| 1/1 [00:00<00:00, 521.87it/s]\n",
      "Loading cached split indices for dataset at cache\\csv\\default-2a0884da2a86facc\\0.0.0\\433e0ccc46f9880962cc2b12065189766fbb2bee57a221866138fb9203c83519\\cache-4c59c8594ee83881.arrow and cache\\csv\\default-2a0884da2a86facc\\0.0.0\\433e0ccc46f9880962cc2b12065189766fbb2bee57a221866138fb9203c83519\\cache-979ea9e674132025.arrow\n",
      "Loading cached split indices for dataset at cache\\csv\\default-2a0884da2a86facc\\0.0.0\\433e0ccc46f9880962cc2b12065189766fbb2bee57a221866138fb9203c83519\\cache-2cdb39c47142be86.arrow and cache\\csv\\default-2a0884da2a86facc\\0.0.0\\433e0ccc46f9880962cc2b12065189766fbb2bee57a221866138fb9203c83519\\cache-4b32be2eacb5d552.arrow\n",
      "Loading cached processed dataset at cache\\csv\\default-2a0884da2a86facc\\0.0.0\\433e0ccc46f9880962cc2b12065189766fbb2bee57a221866138fb9203c83519\\cache-6647fe37f40ed616.arrow\n",
      "Loading cached processed dataset at cache\\csv\\default-2a0884da2a86facc\\0.0.0\\433e0ccc46f9880962cc2b12065189766fbb2bee57a221866138fb9203c83519\\cache-98b2463bec0fd009.arrow\n",
      "Loading cached processed dataset at cache\\csv\\default-2a0884da2a86facc\\0.0.0\\433e0ccc46f9880962cc2b12065189766fbb2bee57a221866138fb9203c83519\\cache-015ae8852bcf3fa4.arrow\n",
      "Loading cached shuffled indices for dataset at cache\\csv\\default-2a0884da2a86facc\\0.0.0\\433e0ccc46f9880962cc2b12065189766fbb2bee57a221866138fb9203c83519\\cache-eefdc5e3fbc3d2c1.arrow\n"
     ]
    },
    {
     "name": "stdout",
     "output_type": "stream",
     "text": [
      "Creating predictions\n"
     ]
    },
    {
     "name": "stderr",
     "output_type": "stream",
     "text": [
      "100%|██████████| 10/10 [00:24<00:00,  2.46s/it]\n",
      "100%|██████████| 10/10 [00:00<00:00, 1111.63it/s]\n",
      " 62%|██████▎   | 5/8 [02:00<01:15, 25.08s/it]All model checkpoint layers were used when initializing TFGPT2LMHeadModel.\n",
      "\n",
      "All the layers of TFGPT2LMHeadModel were initialized from the model checkpoint at ..\\Data\\Characters\\Vader\\vader_model.\n",
      "If your task is similar to the task the model of the checkpoint was trained on, you can already use TFGPT2LMHeadModel for predictions without further training.\n",
      "Using custom data configuration default-3bee7e44262edb7f\n",
      "Reusing dataset csv (cache\\csv\\default-3bee7e44262edb7f\\0.0.0\\433e0ccc46f9880962cc2b12065189766fbb2bee57a221866138fb9203c83519)\n",
      "100%|██████████| 1/1 [00:00<00:00, 655.67it/s]\n",
      "Loading cached split indices for dataset at cache\\csv\\default-3bee7e44262edb7f\\0.0.0\\433e0ccc46f9880962cc2b12065189766fbb2bee57a221866138fb9203c83519\\cache-96d0a5ba5e8fec42.arrow and cache\\csv\\default-3bee7e44262edb7f\\0.0.0\\433e0ccc46f9880962cc2b12065189766fbb2bee57a221866138fb9203c83519\\cache-1443283cf78ecd8c.arrow\n",
      "Loading cached split indices for dataset at cache\\csv\\default-3bee7e44262edb7f\\0.0.0\\433e0ccc46f9880962cc2b12065189766fbb2bee57a221866138fb9203c83519\\cache-fe15dac5f93d7344.arrow and cache\\csv\\default-3bee7e44262edb7f\\0.0.0\\433e0ccc46f9880962cc2b12065189766fbb2bee57a221866138fb9203c83519\\cache-c4745ad835a23735.arrow\n",
      "Loading cached processed dataset at cache\\csv\\default-3bee7e44262edb7f\\0.0.0\\433e0ccc46f9880962cc2b12065189766fbb2bee57a221866138fb9203c83519\\cache-52e19da7533330c8.arrow\n",
      "Loading cached processed dataset at cache\\csv\\default-3bee7e44262edb7f\\0.0.0\\433e0ccc46f9880962cc2b12065189766fbb2bee57a221866138fb9203c83519\\cache-979822d41ccd7a4a.arrow\n",
      "Loading cached processed dataset at cache\\csv\\default-3bee7e44262edb7f\\0.0.0\\433e0ccc46f9880962cc2b12065189766fbb2bee57a221866138fb9203c83519\\cache-d486cd416c29c441.arrow\n",
      "Loading cached shuffled indices for dataset at cache\\csv\\default-3bee7e44262edb7f\\0.0.0\\433e0ccc46f9880962cc2b12065189766fbb2bee57a221866138fb9203c83519\\cache-5061dd57662d5196.arrow\n"
     ]
    },
    {
     "name": "stdout",
     "output_type": "stream",
     "text": [
      "Creating predictions\n"
     ]
    },
    {
     "name": "stderr",
     "output_type": "stream",
     "text": [
      "100%|██████████| 10/10 [00:23<00:00,  2.34s/it]\n",
      "100%|██████████| 10/10 [00:00<00:00, 1107.32it/s]\n",
      " 75%|███████▌  | 6/8 [02:27<00:51, 25.76s/it]All model checkpoint layers were used when initializing TFGPT2LMHeadModel.\n",
      "\n",
      "All the layers of TFGPT2LMHeadModel were initialized from the model checkpoint at ..\\Data\\Characters\\Joey\\joey_model.\n",
      "If your task is similar to the task the model of the checkpoint was trained on, you can already use TFGPT2LMHeadModel for predictions without further training.\n",
      "Using custom data configuration default-b81141adc87b87bf\n",
      "Reusing dataset csv (cache\\csv\\default-b81141adc87b87bf\\0.0.0\\433e0ccc46f9880962cc2b12065189766fbb2bee57a221866138fb9203c83519)\n",
      "100%|██████████| 1/1 [00:00<00:00, 418.18it/s]\n",
      "Loading cached split indices for dataset at cache\\csv\\default-b81141adc87b87bf\\0.0.0\\433e0ccc46f9880962cc2b12065189766fbb2bee57a221866138fb9203c83519\\cache-e2d3926d0ffd0fd3.arrow and cache\\csv\\default-b81141adc87b87bf\\0.0.0\\433e0ccc46f9880962cc2b12065189766fbb2bee57a221866138fb9203c83519\\cache-f888d4a055d9f5e2.arrow\n",
      "Loading cached split indices for dataset at cache\\csv\\default-b81141adc87b87bf\\0.0.0\\433e0ccc46f9880962cc2b12065189766fbb2bee57a221866138fb9203c83519\\cache-682a04a266efce80.arrow and cache\\csv\\default-b81141adc87b87bf\\0.0.0\\433e0ccc46f9880962cc2b12065189766fbb2bee57a221866138fb9203c83519\\cache-13fca5dad2d5247a.arrow\n",
      "Loading cached processed dataset at cache\\csv\\default-b81141adc87b87bf\\0.0.0\\433e0ccc46f9880962cc2b12065189766fbb2bee57a221866138fb9203c83519\\cache-7662390b0e4f3793.arrow\n",
      "Loading cached processed dataset at cache\\csv\\default-b81141adc87b87bf\\0.0.0\\433e0ccc46f9880962cc2b12065189766fbb2bee57a221866138fb9203c83519\\cache-4379f0323f83a3bd.arrow\n",
      "Loading cached processed dataset at cache\\csv\\default-b81141adc87b87bf\\0.0.0\\433e0ccc46f9880962cc2b12065189766fbb2bee57a221866138fb9203c83519\\cache-ff90937c11e9e756.arrow\n",
      "Loading cached shuffled indices for dataset at cache\\csv\\default-b81141adc87b87bf\\0.0.0\\433e0ccc46f9880962cc2b12065189766fbb2bee57a221866138fb9203c83519\\cache-881ed2c7d650f5ac.arrow\n"
     ]
    },
    {
     "name": "stdout",
     "output_type": "stream",
     "text": [
      "Creating predictions\n"
     ]
    },
    {
     "name": "stderr",
     "output_type": "stream",
     "text": [
      "100%|██████████| 10/10 [00:15<00:00,  1.57s/it]\n",
      "100%|██████████| 10/10 [00:00<00:00, 2797.32it/s]\n",
      " 88%|████████▊ | 7/8 [02:46<00:23, 23.62s/it]All model checkpoint layers were used when initializing TFGPT2LMHeadModel.\n",
      "\n",
      "All the layers of TFGPT2LMHeadModel were initialized from the model checkpoint at ..\\Data\\Characters\\Phoebe\\phoebe_model.\n",
      "If your task is similar to the task the model of the checkpoint was trained on, you can already use TFGPT2LMHeadModel for predictions without further training.\n",
      "Using custom data configuration default-48cc5f719001fd3a\n",
      "Reusing dataset csv (cache\\csv\\default-48cc5f719001fd3a\\0.0.0\\433e0ccc46f9880962cc2b12065189766fbb2bee57a221866138fb9203c83519)\n",
      "100%|██████████| 1/1 [00:00<00:00, 418.68it/s]\n",
      "Loading cached split indices for dataset at cache\\csv\\default-48cc5f719001fd3a\\0.0.0\\433e0ccc46f9880962cc2b12065189766fbb2bee57a221866138fb9203c83519\\cache-16c140b5da191e7c.arrow and cache\\csv\\default-48cc5f719001fd3a\\0.0.0\\433e0ccc46f9880962cc2b12065189766fbb2bee57a221866138fb9203c83519\\cache-ed121df269d87298.arrow\n",
      "Loading cached split indices for dataset at cache\\csv\\default-48cc5f719001fd3a\\0.0.0\\433e0ccc46f9880962cc2b12065189766fbb2bee57a221866138fb9203c83519\\cache-f4f26cbce3ecb27c.arrow and cache\\csv\\default-48cc5f719001fd3a\\0.0.0\\433e0ccc46f9880962cc2b12065189766fbb2bee57a221866138fb9203c83519\\cache-186da54849d8ccad.arrow\n",
      "Loading cached processed dataset at cache\\csv\\default-48cc5f719001fd3a\\0.0.0\\433e0ccc46f9880962cc2b12065189766fbb2bee57a221866138fb9203c83519\\cache-7c5b176b39e0048e.arrow\n",
      "Loading cached processed dataset at cache\\csv\\default-48cc5f719001fd3a\\0.0.0\\433e0ccc46f9880962cc2b12065189766fbb2bee57a221866138fb9203c83519\\cache-5221c27b06394c28.arrow\n",
      "Loading cached processed dataset at cache\\csv\\default-48cc5f719001fd3a\\0.0.0\\433e0ccc46f9880962cc2b12065189766fbb2bee57a221866138fb9203c83519\\cache-20bada48da47c9c4.arrow\n",
      "Loading cached shuffled indices for dataset at cache\\csv\\default-48cc5f719001fd3a\\0.0.0\\433e0ccc46f9880962cc2b12065189766fbb2bee57a221866138fb9203c83519\\cache-1d4705c0ffbe174e.arrow\n"
     ]
    },
    {
     "name": "stdout",
     "output_type": "stream",
     "text": [
      "Creating predictions\n"
     ]
    },
    {
     "name": "stderr",
     "output_type": "stream",
     "text": [
      "100%|██████████| 10/10 [00:37<00:00,  3.79s/it]\n",
      "100%|██████████| 10/10 [00:00<00:00, 1071.53it/s]\n",
      "100%|██████████| 8/8 [03:27<00:00, 25.97s/it]\n"
     ]
    },
    {
     "name": "stdout",
     "output_type": "stream",
     "text": [
      "Run 13/15\n"
     ]
    },
    {
     "name": "stderr",
     "output_type": "stream",
     "text": [
      "  0%|          | 0/8 [00:00<?, ?it/s]All model checkpoint layers were used when initializing TFGPT2LMHeadModel.\n",
      "\n",
      "All the layers of TFGPT2LMHeadModel were initialized from the model checkpoint at ..\\Data\\Characters\\Barney\\barney_model.\n",
      "If your task is similar to the task the model of the checkpoint was trained on, you can already use TFGPT2LMHeadModel for predictions without further training.\n",
      "Using custom data configuration default-d78476db32c8db98\n",
      "Reusing dataset csv (cache\\csv\\default-d78476db32c8db98\\0.0.0\\433e0ccc46f9880962cc2b12065189766fbb2bee57a221866138fb9203c83519)\n",
      "100%|██████████| 1/1 [00:00<00:00, 496.25it/s]\n",
      "Loading cached split indices for dataset at cache\\csv\\default-d78476db32c8db98\\0.0.0\\433e0ccc46f9880962cc2b12065189766fbb2bee57a221866138fb9203c83519\\cache-651037d43e5e3dbd.arrow and cache\\csv\\default-d78476db32c8db98\\0.0.0\\433e0ccc46f9880962cc2b12065189766fbb2bee57a221866138fb9203c83519\\cache-7e4903d85e508b43.arrow\n",
      "Loading cached split indices for dataset at cache\\csv\\default-d78476db32c8db98\\0.0.0\\433e0ccc46f9880962cc2b12065189766fbb2bee57a221866138fb9203c83519\\cache-1b018c4ce0c1ed8c.arrow and cache\\csv\\default-d78476db32c8db98\\0.0.0\\433e0ccc46f9880962cc2b12065189766fbb2bee57a221866138fb9203c83519\\cache-2cfa4b0ef22c9ad5.arrow\n",
      "Loading cached processed dataset at cache\\csv\\default-d78476db32c8db98\\0.0.0\\433e0ccc46f9880962cc2b12065189766fbb2bee57a221866138fb9203c83519\\cache-89f9b92b2a083af0.arrow\n",
      "Loading cached processed dataset at cache\\csv\\default-d78476db32c8db98\\0.0.0\\433e0ccc46f9880962cc2b12065189766fbb2bee57a221866138fb9203c83519\\cache-f26a814e4e6d10fc.arrow\n",
      "Loading cached processed dataset at cache\\csv\\default-d78476db32c8db98\\0.0.0\\433e0ccc46f9880962cc2b12065189766fbb2bee57a221866138fb9203c83519\\cache-6655d46d8a0182ef.arrow\n",
      "Loading cached shuffled indices for dataset at cache\\csv\\default-d78476db32c8db98\\0.0.0\\433e0ccc46f9880962cc2b12065189766fbb2bee57a221866138fb9203c83519\\cache-b0ddd597589321af.arrow\n"
     ]
    },
    {
     "name": "stdout",
     "output_type": "stream",
     "text": [
      "Creating predictions\n"
     ]
    },
    {
     "name": "stderr",
     "output_type": "stream",
     "text": [
      "100%|██████████| 10/10 [00:23<00:00,  2.38s/it]\n",
      "100%|██████████| 10/10 [00:00<00:00, 1107.11it/s]\n",
      " 12%|█▎        | 1/8 [00:27<03:10, 27.27s/it]All model checkpoint layers were used when initializing TFGPT2LMHeadModel.\n",
      "\n",
      "All the layers of TFGPT2LMHeadModel were initialized from the model checkpoint at ..\\Data\\Characters\\Sheldon\\sheldon_model.\n",
      "If your task is similar to the task the model of the checkpoint was trained on, you can already use TFGPT2LMHeadModel for predictions without further training.\n",
      "Using custom data configuration default-8207271dc09e0a46\n",
      "Reusing dataset csv (cache\\csv\\default-8207271dc09e0a46\\0.0.0\\433e0ccc46f9880962cc2b12065189766fbb2bee57a221866138fb9203c83519)\n",
      "100%|██████████| 1/1 [00:00<00:00, 493.68it/s]\n",
      "Loading cached split indices for dataset at cache\\csv\\default-8207271dc09e0a46\\0.0.0\\433e0ccc46f9880962cc2b12065189766fbb2bee57a221866138fb9203c83519\\cache-46b6cd7566c1d243.arrow and cache\\csv\\default-8207271dc09e0a46\\0.0.0\\433e0ccc46f9880962cc2b12065189766fbb2bee57a221866138fb9203c83519\\cache-e3e40e36f25dded7.arrow\n",
      "Loading cached split indices for dataset at cache\\csv\\default-8207271dc09e0a46\\0.0.0\\433e0ccc46f9880962cc2b12065189766fbb2bee57a221866138fb9203c83519\\cache-1774625d7360210c.arrow and cache\\csv\\default-8207271dc09e0a46\\0.0.0\\433e0ccc46f9880962cc2b12065189766fbb2bee57a221866138fb9203c83519\\cache-ad5b734370182aae.arrow\n",
      "Loading cached processed dataset at cache\\csv\\default-8207271dc09e0a46\\0.0.0\\433e0ccc46f9880962cc2b12065189766fbb2bee57a221866138fb9203c83519\\cache-fed8798d874c65dd.arrow\n",
      "Loading cached processed dataset at cache\\csv\\default-8207271dc09e0a46\\0.0.0\\433e0ccc46f9880962cc2b12065189766fbb2bee57a221866138fb9203c83519\\cache-632156930e5bea85.arrow\n",
      "Loading cached processed dataset at cache\\csv\\default-8207271dc09e0a46\\0.0.0\\433e0ccc46f9880962cc2b12065189766fbb2bee57a221866138fb9203c83519\\cache-448ecc7a6afdd007.arrow\n",
      "Loading cached shuffled indices for dataset at cache\\csv\\default-8207271dc09e0a46\\0.0.0\\433e0ccc46f9880962cc2b12065189766fbb2bee57a221866138fb9203c83519\\cache-44200aae20815359.arrow\n"
     ]
    },
    {
     "name": "stdout",
     "output_type": "stream",
     "text": [
      "Creating predictions\n"
     ]
    },
    {
     "name": "stderr",
     "output_type": "stream",
     "text": [
      "100%|██████████| 10/10 [00:27<00:00,  2.77s/it]\n",
      "100%|██████████| 10/10 [00:00<00:00, 1064.00it/s]\n",
      " 25%|██▌       | 2/8 [00:58<02:56, 29.46s/it]All model checkpoint layers were used when initializing TFGPT2LMHeadModel.\n",
      "\n",
      "All the layers of TFGPT2LMHeadModel were initialized from the model checkpoint at ..\\Data\\Characters\\Harry\\harry_model.\n",
      "If your task is similar to the task the model of the checkpoint was trained on, you can already use TFGPT2LMHeadModel for predictions without further training.\n",
      "Using custom data configuration default-5e8064f57286033a\n",
      "Reusing dataset csv (cache\\csv\\default-5e8064f57286033a\\0.0.0\\433e0ccc46f9880962cc2b12065189766fbb2bee57a221866138fb9203c83519)\n",
      "100%|██████████| 1/1 [00:00<00:00, 262.93it/s]\n",
      "Loading cached split indices for dataset at cache\\csv\\default-5e8064f57286033a\\0.0.0\\433e0ccc46f9880962cc2b12065189766fbb2bee57a221866138fb9203c83519\\cache-2b86c587abd47c66.arrow and cache\\csv\\default-5e8064f57286033a\\0.0.0\\433e0ccc46f9880962cc2b12065189766fbb2bee57a221866138fb9203c83519\\cache-8919d70a4bf80eed.arrow\n",
      "Loading cached split indices for dataset at cache\\csv\\default-5e8064f57286033a\\0.0.0\\433e0ccc46f9880962cc2b12065189766fbb2bee57a221866138fb9203c83519\\cache-4099b79485c950ea.arrow and cache\\csv\\default-5e8064f57286033a\\0.0.0\\433e0ccc46f9880962cc2b12065189766fbb2bee57a221866138fb9203c83519\\cache-cecb46b03995ab9b.arrow\n",
      "Loading cached processed dataset at cache\\csv\\default-5e8064f57286033a\\0.0.0\\433e0ccc46f9880962cc2b12065189766fbb2bee57a221866138fb9203c83519\\cache-e80578e3b4f7f025.arrow\n",
      "Loading cached processed dataset at cache\\csv\\default-5e8064f57286033a\\0.0.0\\433e0ccc46f9880962cc2b12065189766fbb2bee57a221866138fb9203c83519\\cache-45cad4fe25e5526e.arrow\n",
      "Loading cached processed dataset at cache\\csv\\default-5e8064f57286033a\\0.0.0\\433e0ccc46f9880962cc2b12065189766fbb2bee57a221866138fb9203c83519\\cache-937d1b7b6a0a1add.arrow\n",
      "Loading cached shuffled indices for dataset at cache\\csv\\default-5e8064f57286033a\\0.0.0\\433e0ccc46f9880962cc2b12065189766fbb2bee57a221866138fb9203c83519\\cache-1961250b1edbce64.arrow\n"
     ]
    },
    {
     "name": "stdout",
     "output_type": "stream",
     "text": [
      "Creating predictions\n"
     ]
    },
    {
     "name": "stderr",
     "output_type": "stream",
     "text": [
      "100%|██████████| 10/10 [00:12<00:00,  1.28s/it]\n",
      "100%|██████████| 10/10 [00:00<00:00, 1250.02it/s]\n",
      " 38%|███▊      | 3/8 [01:14<01:56, 23.37s/it]All model checkpoint layers were used when initializing TFGPT2LMHeadModel.\n",
      "\n",
      "All the layers of TFGPT2LMHeadModel were initialized from the model checkpoint at ..\\Data\\Characters\\Fry\\fry_model.\n",
      "If your task is similar to the task the model of the checkpoint was trained on, you can already use TFGPT2LMHeadModel for predictions without further training.\n",
      "Using custom data configuration default-b35448ec5dd887ec\n",
      "Reusing dataset csv (cache\\csv\\default-b35448ec5dd887ec\\0.0.0\\433e0ccc46f9880962cc2b12065189766fbb2bee57a221866138fb9203c83519)\n",
      "100%|██████████| 1/1 [00:00<00:00, 870.55it/s]\n",
      "Loading cached split indices for dataset at cache\\csv\\default-b35448ec5dd887ec\\0.0.0\\433e0ccc46f9880962cc2b12065189766fbb2bee57a221866138fb9203c83519\\cache-667383473c444f25.arrow and cache\\csv\\default-b35448ec5dd887ec\\0.0.0\\433e0ccc46f9880962cc2b12065189766fbb2bee57a221866138fb9203c83519\\cache-c520a8a264854da4.arrow\n",
      "Loading cached split indices for dataset at cache\\csv\\default-b35448ec5dd887ec\\0.0.0\\433e0ccc46f9880962cc2b12065189766fbb2bee57a221866138fb9203c83519\\cache-b072a26900059a04.arrow and cache\\csv\\default-b35448ec5dd887ec\\0.0.0\\433e0ccc46f9880962cc2b12065189766fbb2bee57a221866138fb9203c83519\\cache-885672efcb78500c.arrow\n",
      "Loading cached processed dataset at cache\\csv\\default-b35448ec5dd887ec\\0.0.0\\433e0ccc46f9880962cc2b12065189766fbb2bee57a221866138fb9203c83519\\cache-f2119e5a34f2eb76.arrow\n",
      "Loading cached processed dataset at cache\\csv\\default-b35448ec5dd887ec\\0.0.0\\433e0ccc46f9880962cc2b12065189766fbb2bee57a221866138fb9203c83519\\cache-cb34da498e1e68ed.arrow\n",
      "Loading cached processed dataset at cache\\csv\\default-b35448ec5dd887ec\\0.0.0\\433e0ccc46f9880962cc2b12065189766fbb2bee57a221866138fb9203c83519\\cache-3b065f584f7e66c9.arrow\n",
      "Loading cached shuffled indices for dataset at cache\\csv\\default-b35448ec5dd887ec\\0.0.0\\433e0ccc46f9880962cc2b12065189766fbb2bee57a221866138fb9203c83519\\cache-9012223f14afe1d0.arrow\n"
     ]
    },
    {
     "name": "stdout",
     "output_type": "stream",
     "text": [
      "Creating predictions\n"
     ]
    },
    {
     "name": "stderr",
     "output_type": "stream",
     "text": [
      "100%|██████████| 10/10 [00:31<00:00,  3.11s/it]\n",
      "100%|██████████| 10/10 [00:00<00:00, 2211.14it/s]\n",
      " 50%|█████     | 4/8 [01:48<01:50, 27.71s/it]All model checkpoint layers were used when initializing TFGPT2LMHeadModel.\n",
      "\n",
      "All the layers of TFGPT2LMHeadModel were initialized from the model checkpoint at ..\\Data\\Characters\\Bender\\bender_model.\n",
      "If your task is similar to the task the model of the checkpoint was trained on, you can already use TFGPT2LMHeadModel for predictions without further training.\n",
      "Using custom data configuration default-2a0884da2a86facc\n",
      "Reusing dataset csv (cache\\csv\\default-2a0884da2a86facc\\0.0.0\\433e0ccc46f9880962cc2b12065189766fbb2bee57a221866138fb9203c83519)\n",
      "100%|██████████| 1/1 [00:00<00:00, 333.12it/s]\n",
      "Loading cached split indices for dataset at cache\\csv\\default-2a0884da2a86facc\\0.0.0\\433e0ccc46f9880962cc2b12065189766fbb2bee57a221866138fb9203c83519\\cache-4c59c8594ee83881.arrow and cache\\csv\\default-2a0884da2a86facc\\0.0.0\\433e0ccc46f9880962cc2b12065189766fbb2bee57a221866138fb9203c83519\\cache-979ea9e674132025.arrow\n",
      "Loading cached split indices for dataset at cache\\csv\\default-2a0884da2a86facc\\0.0.0\\433e0ccc46f9880962cc2b12065189766fbb2bee57a221866138fb9203c83519\\cache-2cdb39c47142be86.arrow and cache\\csv\\default-2a0884da2a86facc\\0.0.0\\433e0ccc46f9880962cc2b12065189766fbb2bee57a221866138fb9203c83519\\cache-4b32be2eacb5d552.arrow\n",
      "Loading cached processed dataset at cache\\csv\\default-2a0884da2a86facc\\0.0.0\\433e0ccc46f9880962cc2b12065189766fbb2bee57a221866138fb9203c83519\\cache-6647fe37f40ed616.arrow\n",
      "Loading cached processed dataset at cache\\csv\\default-2a0884da2a86facc\\0.0.0\\433e0ccc46f9880962cc2b12065189766fbb2bee57a221866138fb9203c83519\\cache-98b2463bec0fd009.arrow\n",
      "Loading cached processed dataset at cache\\csv\\default-2a0884da2a86facc\\0.0.0\\433e0ccc46f9880962cc2b12065189766fbb2bee57a221866138fb9203c83519\\cache-015ae8852bcf3fa4.arrow\n",
      "Loading cached shuffled indices for dataset at cache\\csv\\default-2a0884da2a86facc\\0.0.0\\433e0ccc46f9880962cc2b12065189766fbb2bee57a221866138fb9203c83519\\cache-eefdc5e3fbc3d2c1.arrow\n"
     ]
    },
    {
     "name": "stdout",
     "output_type": "stream",
     "text": [
      "Creating predictions\n"
     ]
    },
    {
     "name": "stderr",
     "output_type": "stream",
     "text": [
      "100%|██████████| 10/10 [00:26<00:00,  2.70s/it]\n",
      "100%|██████████| 10/10 [00:00<00:00, 1107.11it/s]\n",
      " 62%|██████▎   | 5/8 [02:18<01:25, 28.62s/it]All model checkpoint layers were used when initializing TFGPT2LMHeadModel.\n",
      "\n",
      "All the layers of TFGPT2LMHeadModel were initialized from the model checkpoint at ..\\Data\\Characters\\Vader\\vader_model.\n",
      "If your task is similar to the task the model of the checkpoint was trained on, you can already use TFGPT2LMHeadModel for predictions without further training.\n",
      "Using custom data configuration default-3bee7e44262edb7f\n",
      "Reusing dataset csv (cache\\csv\\default-3bee7e44262edb7f\\0.0.0\\433e0ccc46f9880962cc2b12065189766fbb2bee57a221866138fb9203c83519)\n",
      "100%|██████████| 1/1 [00:00<00:00, 499.20it/s]\n",
      "Loading cached split indices for dataset at cache\\csv\\default-3bee7e44262edb7f\\0.0.0\\433e0ccc46f9880962cc2b12065189766fbb2bee57a221866138fb9203c83519\\cache-96d0a5ba5e8fec42.arrow and cache\\csv\\default-3bee7e44262edb7f\\0.0.0\\433e0ccc46f9880962cc2b12065189766fbb2bee57a221866138fb9203c83519\\cache-1443283cf78ecd8c.arrow\n",
      "Loading cached split indices for dataset at cache\\csv\\default-3bee7e44262edb7f\\0.0.0\\433e0ccc46f9880962cc2b12065189766fbb2bee57a221866138fb9203c83519\\cache-fe15dac5f93d7344.arrow and cache\\csv\\default-3bee7e44262edb7f\\0.0.0\\433e0ccc46f9880962cc2b12065189766fbb2bee57a221866138fb9203c83519\\cache-c4745ad835a23735.arrow\n",
      "Loading cached processed dataset at cache\\csv\\default-3bee7e44262edb7f\\0.0.0\\433e0ccc46f9880962cc2b12065189766fbb2bee57a221866138fb9203c83519\\cache-52e19da7533330c8.arrow\n",
      "Loading cached processed dataset at cache\\csv\\default-3bee7e44262edb7f\\0.0.0\\433e0ccc46f9880962cc2b12065189766fbb2bee57a221866138fb9203c83519\\cache-979822d41ccd7a4a.arrow\n",
      "Loading cached processed dataset at cache\\csv\\default-3bee7e44262edb7f\\0.0.0\\433e0ccc46f9880962cc2b12065189766fbb2bee57a221866138fb9203c83519\\cache-d486cd416c29c441.arrow\n",
      "Loading cached shuffled indices for dataset at cache\\csv\\default-3bee7e44262edb7f\\0.0.0\\433e0ccc46f9880962cc2b12065189766fbb2bee57a221866138fb9203c83519\\cache-5061dd57662d5196.arrow\n"
     ]
    },
    {
     "name": "stdout",
     "output_type": "stream",
     "text": [
      "Creating predictions\n"
     ]
    },
    {
     "name": "stderr",
     "output_type": "stream",
     "text": [
      "100%|██████████| 10/10 [00:26<00:00,  2.65s/it]\n",
      "100%|██████████| 10/10 [00:00<00:00, 2099.57it/s]\n",
      " 75%|███████▌  | 6/8 [02:48<00:58, 29.02s/it]All model checkpoint layers were used when initializing TFGPT2LMHeadModel.\n",
      "\n",
      "All the layers of TFGPT2LMHeadModel were initialized from the model checkpoint at ..\\Data\\Characters\\Joey\\joey_model.\n",
      "If your task is similar to the task the model of the checkpoint was trained on, you can already use TFGPT2LMHeadModel for predictions without further training.\n",
      "Using custom data configuration default-b81141adc87b87bf\n",
      "Reusing dataset csv (cache\\csv\\default-b81141adc87b87bf\\0.0.0\\433e0ccc46f9880962cc2b12065189766fbb2bee57a221866138fb9203c83519)\n",
      "100%|██████████| 1/1 [00:00<00:00, 371.47it/s]\n",
      "Loading cached split indices for dataset at cache\\csv\\default-b81141adc87b87bf\\0.0.0\\433e0ccc46f9880962cc2b12065189766fbb2bee57a221866138fb9203c83519\\cache-e2d3926d0ffd0fd3.arrow and cache\\csv\\default-b81141adc87b87bf\\0.0.0\\433e0ccc46f9880962cc2b12065189766fbb2bee57a221866138fb9203c83519\\cache-f888d4a055d9f5e2.arrow\n",
      "Loading cached split indices for dataset at cache\\csv\\default-b81141adc87b87bf\\0.0.0\\433e0ccc46f9880962cc2b12065189766fbb2bee57a221866138fb9203c83519\\cache-682a04a266efce80.arrow and cache\\csv\\default-b81141adc87b87bf\\0.0.0\\433e0ccc46f9880962cc2b12065189766fbb2bee57a221866138fb9203c83519\\cache-13fca5dad2d5247a.arrow\n",
      "Loading cached processed dataset at cache\\csv\\default-b81141adc87b87bf\\0.0.0\\433e0ccc46f9880962cc2b12065189766fbb2bee57a221866138fb9203c83519\\cache-7662390b0e4f3793.arrow\n",
      "Loading cached processed dataset at cache\\csv\\default-b81141adc87b87bf\\0.0.0\\433e0ccc46f9880962cc2b12065189766fbb2bee57a221866138fb9203c83519\\cache-4379f0323f83a3bd.arrow\n",
      "Loading cached processed dataset at cache\\csv\\default-b81141adc87b87bf\\0.0.0\\433e0ccc46f9880962cc2b12065189766fbb2bee57a221866138fb9203c83519\\cache-ff90937c11e9e756.arrow\n",
      "Loading cached shuffled indices for dataset at cache\\csv\\default-b81141adc87b87bf\\0.0.0\\433e0ccc46f9880962cc2b12065189766fbb2bee57a221866138fb9203c83519\\cache-881ed2c7d650f5ac.arrow\n"
     ]
    },
    {
     "name": "stdout",
     "output_type": "stream",
     "text": [
      "Creating predictions\n"
     ]
    },
    {
     "name": "stderr",
     "output_type": "stream",
     "text": [
      "100%|██████████| 10/10 [00:19<00:00,  1.93s/it]\n",
      "100%|██████████| 10/10 [00:00<00:00, 1231.26it/s]\n",
      " 88%|████████▊ | 7/8 [03:11<00:26, 26.98s/it]All model checkpoint layers were used when initializing TFGPT2LMHeadModel.\n",
      "\n",
      "All the layers of TFGPT2LMHeadModel were initialized from the model checkpoint at ..\\Data\\Characters\\Phoebe\\phoebe_model.\n",
      "If your task is similar to the task the model of the checkpoint was trained on, you can already use TFGPT2LMHeadModel for predictions without further training.\n",
      "Using custom data configuration default-48cc5f719001fd3a\n",
      "Reusing dataset csv (cache\\csv\\default-48cc5f719001fd3a\\0.0.0\\433e0ccc46f9880962cc2b12065189766fbb2bee57a221866138fb9203c83519)\n",
      "100%|██████████| 1/1 [00:00<00:00, 797.40it/s]\n",
      "Loading cached split indices for dataset at cache\\csv\\default-48cc5f719001fd3a\\0.0.0\\433e0ccc46f9880962cc2b12065189766fbb2bee57a221866138fb9203c83519\\cache-16c140b5da191e7c.arrow and cache\\csv\\default-48cc5f719001fd3a\\0.0.0\\433e0ccc46f9880962cc2b12065189766fbb2bee57a221866138fb9203c83519\\cache-ed121df269d87298.arrow\n",
      "Loading cached split indices for dataset at cache\\csv\\default-48cc5f719001fd3a\\0.0.0\\433e0ccc46f9880962cc2b12065189766fbb2bee57a221866138fb9203c83519\\cache-f4f26cbce3ecb27c.arrow and cache\\csv\\default-48cc5f719001fd3a\\0.0.0\\433e0ccc46f9880962cc2b12065189766fbb2bee57a221866138fb9203c83519\\cache-186da54849d8ccad.arrow\n",
      "Loading cached processed dataset at cache\\csv\\default-48cc5f719001fd3a\\0.0.0\\433e0ccc46f9880962cc2b12065189766fbb2bee57a221866138fb9203c83519\\cache-7c5b176b39e0048e.arrow\n",
      "Loading cached processed dataset at cache\\csv\\default-48cc5f719001fd3a\\0.0.0\\433e0ccc46f9880962cc2b12065189766fbb2bee57a221866138fb9203c83519\\cache-5221c27b06394c28.arrow\n",
      "Loading cached processed dataset at cache\\csv\\default-48cc5f719001fd3a\\0.0.0\\433e0ccc46f9880962cc2b12065189766fbb2bee57a221866138fb9203c83519\\cache-20bada48da47c9c4.arrow\n",
      "Loading cached shuffled indices for dataset at cache\\csv\\default-48cc5f719001fd3a\\0.0.0\\433e0ccc46f9880962cc2b12065189766fbb2bee57a221866138fb9203c83519\\cache-1d4705c0ffbe174e.arrow\n"
     ]
    },
    {
     "name": "stdout",
     "output_type": "stream",
     "text": [
      "Creating predictions\n"
     ]
    },
    {
     "name": "stderr",
     "output_type": "stream",
     "text": [
      "100%|██████████| 10/10 [00:22<00:00,  2.22s/it]\n",
      "100%|██████████| 10/10 [00:00<00:00, 1406.07it/s]\n",
      "100%|██████████| 8/8 [03:36<00:00, 27.12s/it]\n"
     ]
    },
    {
     "name": "stdout",
     "output_type": "stream",
     "text": [
      "Run 14/15\n"
     ]
    },
    {
     "name": "stderr",
     "output_type": "stream",
     "text": [
      "  0%|          | 0/8 [00:00<?, ?it/s]All model checkpoint layers were used when initializing TFGPT2LMHeadModel.\n",
      "\n",
      "All the layers of TFGPT2LMHeadModel were initialized from the model checkpoint at ..\\Data\\Characters\\Barney\\barney_model.\n",
      "If your task is similar to the task the model of the checkpoint was trained on, you can already use TFGPT2LMHeadModel for predictions without further training.\n",
      "Using custom data configuration default-d78476db32c8db98\n",
      "Reusing dataset csv (cache\\csv\\default-d78476db32c8db98\\0.0.0\\433e0ccc46f9880962cc2b12065189766fbb2bee57a221866138fb9203c83519)\n",
      "100%|██████████| 1/1 [00:00<00:00, 444.64it/s]\n",
      "Loading cached split indices for dataset at cache\\csv\\default-d78476db32c8db98\\0.0.0\\433e0ccc46f9880962cc2b12065189766fbb2bee57a221866138fb9203c83519\\cache-651037d43e5e3dbd.arrow and cache\\csv\\default-d78476db32c8db98\\0.0.0\\433e0ccc46f9880962cc2b12065189766fbb2bee57a221866138fb9203c83519\\cache-7e4903d85e508b43.arrow\n",
      "Loading cached split indices for dataset at cache\\csv\\default-d78476db32c8db98\\0.0.0\\433e0ccc46f9880962cc2b12065189766fbb2bee57a221866138fb9203c83519\\cache-1b018c4ce0c1ed8c.arrow and cache\\csv\\default-d78476db32c8db98\\0.0.0\\433e0ccc46f9880962cc2b12065189766fbb2bee57a221866138fb9203c83519\\cache-2cfa4b0ef22c9ad5.arrow\n",
      "Loading cached processed dataset at cache\\csv\\default-d78476db32c8db98\\0.0.0\\433e0ccc46f9880962cc2b12065189766fbb2bee57a221866138fb9203c83519\\cache-89f9b92b2a083af0.arrow\n",
      "Loading cached processed dataset at cache\\csv\\default-d78476db32c8db98\\0.0.0\\433e0ccc46f9880962cc2b12065189766fbb2bee57a221866138fb9203c83519\\cache-f26a814e4e6d10fc.arrow\n",
      "Loading cached processed dataset at cache\\csv\\default-d78476db32c8db98\\0.0.0\\433e0ccc46f9880962cc2b12065189766fbb2bee57a221866138fb9203c83519\\cache-6655d46d8a0182ef.arrow\n",
      "Loading cached shuffled indices for dataset at cache\\csv\\default-d78476db32c8db98\\0.0.0\\433e0ccc46f9880962cc2b12065189766fbb2bee57a221866138fb9203c83519\\cache-b0ddd597589321af.arrow\n"
     ]
    },
    {
     "name": "stdout",
     "output_type": "stream",
     "text": [
      "Creating predictions\n"
     ]
    },
    {
     "name": "stderr",
     "output_type": "stream",
     "text": [
      "100%|██████████| 10/10 [00:14<00:00,  1.49s/it]\n",
      "100%|██████████| 10/10 [00:00<00:00, 1111.13it/s]\n",
      " 12%|█▎        | 1/8 [00:18<02:06, 18.13s/it]All model checkpoint layers were used when initializing TFGPT2LMHeadModel.\n",
      "\n",
      "All the layers of TFGPT2LMHeadModel were initialized from the model checkpoint at ..\\Data\\Characters\\Sheldon\\sheldon_model.\n",
      "If your task is similar to the task the model of the checkpoint was trained on, you can already use TFGPT2LMHeadModel for predictions without further training.\n",
      "Using custom data configuration default-8207271dc09e0a46\n",
      "Reusing dataset csv (cache\\csv\\default-8207271dc09e0a46\\0.0.0\\433e0ccc46f9880962cc2b12065189766fbb2bee57a221866138fb9203c83519)\n",
      "100%|██████████| 1/1 [00:00<00:00, 333.62it/s]\n",
      "Loading cached split indices for dataset at cache\\csv\\default-8207271dc09e0a46\\0.0.0\\433e0ccc46f9880962cc2b12065189766fbb2bee57a221866138fb9203c83519\\cache-46b6cd7566c1d243.arrow and cache\\csv\\default-8207271dc09e0a46\\0.0.0\\433e0ccc46f9880962cc2b12065189766fbb2bee57a221866138fb9203c83519\\cache-e3e40e36f25dded7.arrow\n",
      "Loading cached split indices for dataset at cache\\csv\\default-8207271dc09e0a46\\0.0.0\\433e0ccc46f9880962cc2b12065189766fbb2bee57a221866138fb9203c83519\\cache-1774625d7360210c.arrow and cache\\csv\\default-8207271dc09e0a46\\0.0.0\\433e0ccc46f9880962cc2b12065189766fbb2bee57a221866138fb9203c83519\\cache-ad5b734370182aae.arrow\n",
      "Loading cached processed dataset at cache\\csv\\default-8207271dc09e0a46\\0.0.0\\433e0ccc46f9880962cc2b12065189766fbb2bee57a221866138fb9203c83519\\cache-fed8798d874c65dd.arrow\n",
      "Loading cached processed dataset at cache\\csv\\default-8207271dc09e0a46\\0.0.0\\433e0ccc46f9880962cc2b12065189766fbb2bee57a221866138fb9203c83519\\cache-632156930e5bea85.arrow\n",
      "Loading cached processed dataset at cache\\csv\\default-8207271dc09e0a46\\0.0.0\\433e0ccc46f9880962cc2b12065189766fbb2bee57a221866138fb9203c83519\\cache-448ecc7a6afdd007.arrow\n",
      "Loading cached shuffled indices for dataset at cache\\csv\\default-8207271dc09e0a46\\0.0.0\\433e0ccc46f9880962cc2b12065189766fbb2bee57a221866138fb9203c83519\\cache-44200aae20815359.arrow\n"
     ]
    },
    {
     "name": "stdout",
     "output_type": "stream",
     "text": [
      "Creating predictions\n"
     ]
    },
    {
     "name": "stderr",
     "output_type": "stream",
     "text": [
      "100%|██████████| 10/10 [00:19<00:00,  1.93s/it]\n",
      "100%|██████████| 10/10 [00:00<00:00, 1411.42it/s]\n",
      " 25%|██▌       | 2/8 [00:40<02:04, 20.71s/it]All model checkpoint layers were used when initializing TFGPT2LMHeadModel.\n",
      "\n",
      "All the layers of TFGPT2LMHeadModel were initialized from the model checkpoint at ..\\Data\\Characters\\Harry\\harry_model.\n",
      "If your task is similar to the task the model of the checkpoint was trained on, you can already use TFGPT2LMHeadModel for predictions without further training.\n",
      "Using custom data configuration default-5e8064f57286033a\n",
      "Reusing dataset csv (cache\\csv\\default-5e8064f57286033a\\0.0.0\\433e0ccc46f9880962cc2b12065189766fbb2bee57a221866138fb9203c83519)\n",
      "100%|██████████| 1/1 [00:00<00:00, 330.00it/s]\n",
      "Loading cached split indices for dataset at cache\\csv\\default-5e8064f57286033a\\0.0.0\\433e0ccc46f9880962cc2b12065189766fbb2bee57a221866138fb9203c83519\\cache-2b86c587abd47c66.arrow and cache\\csv\\default-5e8064f57286033a\\0.0.0\\433e0ccc46f9880962cc2b12065189766fbb2bee57a221866138fb9203c83519\\cache-8919d70a4bf80eed.arrow\n",
      "Loading cached split indices for dataset at cache\\csv\\default-5e8064f57286033a\\0.0.0\\433e0ccc46f9880962cc2b12065189766fbb2bee57a221866138fb9203c83519\\cache-4099b79485c950ea.arrow and cache\\csv\\default-5e8064f57286033a\\0.0.0\\433e0ccc46f9880962cc2b12065189766fbb2bee57a221866138fb9203c83519\\cache-cecb46b03995ab9b.arrow\n",
      "Loading cached processed dataset at cache\\csv\\default-5e8064f57286033a\\0.0.0\\433e0ccc46f9880962cc2b12065189766fbb2bee57a221866138fb9203c83519\\cache-e80578e3b4f7f025.arrow\n",
      "Loading cached processed dataset at cache\\csv\\default-5e8064f57286033a\\0.0.0\\433e0ccc46f9880962cc2b12065189766fbb2bee57a221866138fb9203c83519\\cache-45cad4fe25e5526e.arrow\n",
      "Loading cached processed dataset at cache\\csv\\default-5e8064f57286033a\\0.0.0\\433e0ccc46f9880962cc2b12065189766fbb2bee57a221866138fb9203c83519\\cache-937d1b7b6a0a1add.arrow\n",
      "Loading cached shuffled indices for dataset at cache\\csv\\default-5e8064f57286033a\\0.0.0\\433e0ccc46f9880962cc2b12065189766fbb2bee57a221866138fb9203c83519\\cache-1961250b1edbce64.arrow\n"
     ]
    },
    {
     "name": "stdout",
     "output_type": "stream",
     "text": [
      "Creating predictions\n"
     ]
    },
    {
     "name": "stderr",
     "output_type": "stream",
     "text": [
      "100%|██████████| 10/10 [00:18<00:00,  1.87s/it]\n",
      "100%|██████████| 10/10 [00:00<00:00, 1111.10it/s]\n",
      " 38%|███▊      | 3/8 [01:02<01:46, 21.28s/it]All model checkpoint layers were used when initializing TFGPT2LMHeadModel.\n",
      "\n",
      "All the layers of TFGPT2LMHeadModel were initialized from the model checkpoint at ..\\Data\\Characters\\Fry\\fry_model.\n",
      "If your task is similar to the task the model of the checkpoint was trained on, you can already use TFGPT2LMHeadModel for predictions without further training.\n",
      "Using custom data configuration default-b35448ec5dd887ec\n",
      "Reusing dataset csv (cache\\csv\\default-b35448ec5dd887ec\\0.0.0\\433e0ccc46f9880962cc2b12065189766fbb2bee57a221866138fb9203c83519)\n",
      "100%|██████████| 1/1 [00:00<00:00, 493.22it/s]\n",
      "Loading cached split indices for dataset at cache\\csv\\default-b35448ec5dd887ec\\0.0.0\\433e0ccc46f9880962cc2b12065189766fbb2bee57a221866138fb9203c83519\\cache-667383473c444f25.arrow and cache\\csv\\default-b35448ec5dd887ec\\0.0.0\\433e0ccc46f9880962cc2b12065189766fbb2bee57a221866138fb9203c83519\\cache-c520a8a264854da4.arrow\n",
      "Loading cached split indices for dataset at cache\\csv\\default-b35448ec5dd887ec\\0.0.0\\433e0ccc46f9880962cc2b12065189766fbb2bee57a221866138fb9203c83519\\cache-b072a26900059a04.arrow and cache\\csv\\default-b35448ec5dd887ec\\0.0.0\\433e0ccc46f9880962cc2b12065189766fbb2bee57a221866138fb9203c83519\\cache-885672efcb78500c.arrow\n",
      "Loading cached processed dataset at cache\\csv\\default-b35448ec5dd887ec\\0.0.0\\433e0ccc46f9880962cc2b12065189766fbb2bee57a221866138fb9203c83519\\cache-f2119e5a34f2eb76.arrow\n",
      "Loading cached processed dataset at cache\\csv\\default-b35448ec5dd887ec\\0.0.0\\433e0ccc46f9880962cc2b12065189766fbb2bee57a221866138fb9203c83519\\cache-cb34da498e1e68ed.arrow\n",
      "Loading cached processed dataset at cache\\csv\\default-b35448ec5dd887ec\\0.0.0\\433e0ccc46f9880962cc2b12065189766fbb2bee57a221866138fb9203c83519\\cache-3b065f584f7e66c9.arrow\n",
      "Loading cached shuffled indices for dataset at cache\\csv\\default-b35448ec5dd887ec\\0.0.0\\433e0ccc46f9880962cc2b12065189766fbb2bee57a221866138fb9203c83519\\cache-9012223f14afe1d0.arrow\n"
     ]
    },
    {
     "name": "stdout",
     "output_type": "stream",
     "text": [
      "Creating predictions\n"
     ]
    },
    {
     "name": "stderr",
     "output_type": "stream",
     "text": [
      "100%|██████████| 10/10 [00:23<00:00,  2.36s/it]\n",
      "100%|██████████| 10/10 [00:00<00:00, 908.51it/s]\n",
      " 50%|█████     | 4/8 [01:30<01:35, 23.76s/it]All model checkpoint layers were used when initializing TFGPT2LMHeadModel.\n",
      "\n",
      "All the layers of TFGPT2LMHeadModel were initialized from the model checkpoint at ..\\Data\\Characters\\Bender\\bender_model.\n",
      "If your task is similar to the task the model of the checkpoint was trained on, you can already use TFGPT2LMHeadModel for predictions without further training.\n",
      "Using custom data configuration default-2a0884da2a86facc\n",
      "Reusing dataset csv (cache\\csv\\default-2a0884da2a86facc\\0.0.0\\433e0ccc46f9880962cc2b12065189766fbb2bee57a221866138fb9203c83519)\n",
      "100%|██████████| 1/1 [00:00<00:00, 499.14it/s]\n",
      "Loading cached split indices for dataset at cache\\csv\\default-2a0884da2a86facc\\0.0.0\\433e0ccc46f9880962cc2b12065189766fbb2bee57a221866138fb9203c83519\\cache-4c59c8594ee83881.arrow and cache\\csv\\default-2a0884da2a86facc\\0.0.0\\433e0ccc46f9880962cc2b12065189766fbb2bee57a221866138fb9203c83519\\cache-979ea9e674132025.arrow\n",
      "Loading cached split indices for dataset at cache\\csv\\default-2a0884da2a86facc\\0.0.0\\433e0ccc46f9880962cc2b12065189766fbb2bee57a221866138fb9203c83519\\cache-2cdb39c47142be86.arrow and cache\\csv\\default-2a0884da2a86facc\\0.0.0\\433e0ccc46f9880962cc2b12065189766fbb2bee57a221866138fb9203c83519\\cache-4b32be2eacb5d552.arrow\n",
      "Loading cached processed dataset at cache\\csv\\default-2a0884da2a86facc\\0.0.0\\433e0ccc46f9880962cc2b12065189766fbb2bee57a221866138fb9203c83519\\cache-6647fe37f40ed616.arrow\n",
      "Loading cached processed dataset at cache\\csv\\default-2a0884da2a86facc\\0.0.0\\433e0ccc46f9880962cc2b12065189766fbb2bee57a221866138fb9203c83519\\cache-98b2463bec0fd009.arrow\n",
      "Loading cached processed dataset at cache\\csv\\default-2a0884da2a86facc\\0.0.0\\433e0ccc46f9880962cc2b12065189766fbb2bee57a221866138fb9203c83519\\cache-015ae8852bcf3fa4.arrow\n",
      "Loading cached shuffled indices for dataset at cache\\csv\\default-2a0884da2a86facc\\0.0.0\\433e0ccc46f9880962cc2b12065189766fbb2bee57a221866138fb9203c83519\\cache-eefdc5e3fbc3d2c1.arrow\n"
     ]
    },
    {
     "name": "stdout",
     "output_type": "stream",
     "text": [
      "Creating predictions\n"
     ]
    },
    {
     "name": "stderr",
     "output_type": "stream",
     "text": [
      "100%|██████████| 10/10 [00:19<00:00,  2.00s/it]\n",
      "100%|██████████| 10/10 [00:00<00:00, 2323.59it/s]\n",
      " 62%|██████▎   | 5/8 [01:53<01:11, 23.69s/it]All model checkpoint layers were used when initializing TFGPT2LMHeadModel.\n",
      "\n",
      "All the layers of TFGPT2LMHeadModel were initialized from the model checkpoint at ..\\Data\\Characters\\Vader\\vader_model.\n",
      "If your task is similar to the task the model of the checkpoint was trained on, you can already use TFGPT2LMHeadModel for predictions without further training.\n",
      "Using custom data configuration default-3bee7e44262edb7f\n",
      "Reusing dataset csv (cache\\csv\\default-3bee7e44262edb7f\\0.0.0\\433e0ccc46f9880962cc2b12065189766fbb2bee57a221866138fb9203c83519)\n",
      "100%|██████████| 1/1 [00:00<00:00, 249.33it/s]\n",
      "Loading cached split indices for dataset at cache\\csv\\default-3bee7e44262edb7f\\0.0.0\\433e0ccc46f9880962cc2b12065189766fbb2bee57a221866138fb9203c83519\\cache-96d0a5ba5e8fec42.arrow and cache\\csv\\default-3bee7e44262edb7f\\0.0.0\\433e0ccc46f9880962cc2b12065189766fbb2bee57a221866138fb9203c83519\\cache-1443283cf78ecd8c.arrow\n",
      "Loading cached split indices for dataset at cache\\csv\\default-3bee7e44262edb7f\\0.0.0\\433e0ccc46f9880962cc2b12065189766fbb2bee57a221866138fb9203c83519\\cache-fe15dac5f93d7344.arrow and cache\\csv\\default-3bee7e44262edb7f\\0.0.0\\433e0ccc46f9880962cc2b12065189766fbb2bee57a221866138fb9203c83519\\cache-c4745ad835a23735.arrow\n",
      "Loading cached processed dataset at cache\\csv\\default-3bee7e44262edb7f\\0.0.0\\433e0ccc46f9880962cc2b12065189766fbb2bee57a221866138fb9203c83519\\cache-52e19da7533330c8.arrow\n",
      "Loading cached processed dataset at cache\\csv\\default-3bee7e44262edb7f\\0.0.0\\433e0ccc46f9880962cc2b12065189766fbb2bee57a221866138fb9203c83519\\cache-979822d41ccd7a4a.arrow\n",
      "Loading cached processed dataset at cache\\csv\\default-3bee7e44262edb7f\\0.0.0\\433e0ccc46f9880962cc2b12065189766fbb2bee57a221866138fb9203c83519\\cache-d486cd416c29c441.arrow\n",
      "Loading cached shuffled indices for dataset at cache\\csv\\default-3bee7e44262edb7f\\0.0.0\\433e0ccc46f9880962cc2b12065189766fbb2bee57a221866138fb9203c83519\\cache-5061dd57662d5196.arrow\n"
     ]
    },
    {
     "name": "stdout",
     "output_type": "stream",
     "text": [
      "Creating predictions\n"
     ]
    },
    {
     "name": "stderr",
     "output_type": "stream",
     "text": [
      "100%|██████████| 10/10 [00:17<00:00,  1.72s/it]\n",
      "100%|██████████| 10/10 [00:00<00:00, 996.93it/s]\n",
      " 75%|███████▌  | 6/8 [02:14<00:45, 22.72s/it]All model checkpoint layers were used when initializing TFGPT2LMHeadModel.\n",
      "\n",
      "All the layers of TFGPT2LMHeadModel were initialized from the model checkpoint at ..\\Data\\Characters\\Joey\\joey_model.\n",
      "If your task is similar to the task the model of the checkpoint was trained on, you can already use TFGPT2LMHeadModel for predictions without further training.\n",
      "Using custom data configuration default-b81141adc87b87bf\n",
      "Reusing dataset csv (cache\\csv\\default-b81141adc87b87bf\\0.0.0\\433e0ccc46f9880962cc2b12065189766fbb2bee57a221866138fb9203c83519)\n",
      "100%|██████████| 1/1 [00:00<00:00, 500.04it/s]\n",
      "Loading cached split indices for dataset at cache\\csv\\default-b81141adc87b87bf\\0.0.0\\433e0ccc46f9880962cc2b12065189766fbb2bee57a221866138fb9203c83519\\cache-e2d3926d0ffd0fd3.arrow and cache\\csv\\default-b81141adc87b87bf\\0.0.0\\433e0ccc46f9880962cc2b12065189766fbb2bee57a221866138fb9203c83519\\cache-f888d4a055d9f5e2.arrow\n",
      "Loading cached split indices for dataset at cache\\csv\\default-b81141adc87b87bf\\0.0.0\\433e0ccc46f9880962cc2b12065189766fbb2bee57a221866138fb9203c83519\\cache-682a04a266efce80.arrow and cache\\csv\\default-b81141adc87b87bf\\0.0.0\\433e0ccc46f9880962cc2b12065189766fbb2bee57a221866138fb9203c83519\\cache-13fca5dad2d5247a.arrow\n",
      "Loading cached processed dataset at cache\\csv\\default-b81141adc87b87bf\\0.0.0\\433e0ccc46f9880962cc2b12065189766fbb2bee57a221866138fb9203c83519\\cache-7662390b0e4f3793.arrow\n",
      "Loading cached processed dataset at cache\\csv\\default-b81141adc87b87bf\\0.0.0\\433e0ccc46f9880962cc2b12065189766fbb2bee57a221866138fb9203c83519\\cache-4379f0323f83a3bd.arrow\n",
      "Loading cached processed dataset at cache\\csv\\default-b81141adc87b87bf\\0.0.0\\433e0ccc46f9880962cc2b12065189766fbb2bee57a221866138fb9203c83519\\cache-ff90937c11e9e756.arrow\n",
      "Loading cached shuffled indices for dataset at cache\\csv\\default-b81141adc87b87bf\\0.0.0\\433e0ccc46f9880962cc2b12065189766fbb2bee57a221866138fb9203c83519\\cache-881ed2c7d650f5ac.arrow\n"
     ]
    },
    {
     "name": "stdout",
     "output_type": "stream",
     "text": [
      "Creating predictions\n"
     ]
    },
    {
     "name": "stderr",
     "output_type": "stream",
     "text": [
      "100%|██████████| 10/10 [00:56<00:00,  5.62s/it]\n",
      "100%|██████████| 10/10 [00:00<00:00, 905.98it/s]\n",
      " 88%|████████▊ | 7/8 [03:14<00:34, 34.85s/it]All model checkpoint layers were used when initializing TFGPT2LMHeadModel.\n",
      "\n",
      "All the layers of TFGPT2LMHeadModel were initialized from the model checkpoint at ..\\Data\\Characters\\Phoebe\\phoebe_model.\n",
      "If your task is similar to the task the model of the checkpoint was trained on, you can already use TFGPT2LMHeadModel for predictions without further training.\n",
      "Using custom data configuration default-48cc5f719001fd3a\n",
      "Reusing dataset csv (cache\\csv\\default-48cc5f719001fd3a\\0.0.0\\433e0ccc46f9880962cc2b12065189766fbb2bee57a221866138fb9203c83519)\n",
      "100%|██████████| 1/1 [00:00<00:00, 124.96it/s]\n",
      "Loading cached split indices for dataset at cache\\csv\\default-48cc5f719001fd3a\\0.0.0\\433e0ccc46f9880962cc2b12065189766fbb2bee57a221866138fb9203c83519\\cache-16c140b5da191e7c.arrow and cache\\csv\\default-48cc5f719001fd3a\\0.0.0\\433e0ccc46f9880962cc2b12065189766fbb2bee57a221866138fb9203c83519\\cache-ed121df269d87298.arrow\n",
      "Loading cached split indices for dataset at cache\\csv\\default-48cc5f719001fd3a\\0.0.0\\433e0ccc46f9880962cc2b12065189766fbb2bee57a221866138fb9203c83519\\cache-f4f26cbce3ecb27c.arrow and cache\\csv\\default-48cc5f719001fd3a\\0.0.0\\433e0ccc46f9880962cc2b12065189766fbb2bee57a221866138fb9203c83519\\cache-186da54849d8ccad.arrow\n",
      "Loading cached processed dataset at cache\\csv\\default-48cc5f719001fd3a\\0.0.0\\433e0ccc46f9880962cc2b12065189766fbb2bee57a221866138fb9203c83519\\cache-7c5b176b39e0048e.arrow\n",
      "Loading cached processed dataset at cache\\csv\\default-48cc5f719001fd3a\\0.0.0\\433e0ccc46f9880962cc2b12065189766fbb2bee57a221866138fb9203c83519\\cache-5221c27b06394c28.arrow\n",
      "Loading cached processed dataset at cache\\csv\\default-48cc5f719001fd3a\\0.0.0\\433e0ccc46f9880962cc2b12065189766fbb2bee57a221866138fb9203c83519\\cache-20bada48da47c9c4.arrow\n",
      "Loading cached shuffled indices for dataset at cache\\csv\\default-48cc5f719001fd3a\\0.0.0\\433e0ccc46f9880962cc2b12065189766fbb2bee57a221866138fb9203c83519\\cache-1d4705c0ffbe174e.arrow\n"
     ]
    },
    {
     "name": "stdout",
     "output_type": "stream",
     "text": [
      "Creating predictions\n"
     ]
    },
    {
     "name": "stderr",
     "output_type": "stream",
     "text": [
      "100%|██████████| 10/10 [00:21<00:00,  2.16s/it]\n",
      "100%|██████████| 10/10 [00:00<00:00, 1000.05it/s]\n",
      "100%|██████████| 8/8 [03:39<00:00, 27.50s/it]\n"
     ]
    }
   ],
   "source": [
    "### create dataset\n",
    "n_tests = 15\n",
    "test_size = 10\n",
    "selected_indeces = [i for i in range(test_size)]\n",
    "doc_test = []\n",
    "batch_size = 8\n",
    "override_predictions = True\n",
    "predictions = {c:[] for c in characters}\n",
    "raw_predictions = {c:[] for c in characters}\n",
    "msw_predictions = {c:[] for c in characters}\n",
    "print('Creating dataset...')\n",
    "if n_tests > 1 and not override_predictions:\n",
    "    raise Exception('must override previous predictions if you need more tests')\n",
    "\n",
    "for i in range(n_tests):\n",
    "    print(f'Run {i}/{n_tests}')\n",
    "    for character in tqdm(characters_noDefault):\n",
    "        character_checkpoint = join(out_folder, character, character_dict[character]['checkpoint_folder'])\n",
    "        model_chatbot = TFAutoModelForCausalLM.from_pretrained(pretrained_model_name_or_path=character_checkpoint) if override_predictions else None\n",
    "        # if model_chatbot:\n",
    "        #     model_chatbot.compile(optimizer=AdamWeightDecay(learning_rate=2e-5))\n",
    "        character_hg = load_char_df(character, base_folder)\n",
    "        # This transform in a sequence of tokens ours dataset\n",
    "        tokenized_character_hg = character_hg.map(lambda row: dialogpt_preprocess_function(row, tokenizer), batched=False)\n",
    "\n",
    "        # Define tensorflow datasets\n",
    "        encoded_test_set = tokenized_character_hg[\"test\"].to_tf_dataset(\n",
    "            columns=[\"input_ids\", \"attention_mask\", \"labels\"],\n",
    "            shuffle=False,\n",
    "            batch_size=batch_size,\n",
    "            collate_fn=data_collator,\n",
    "        )\n",
    "\n",
    "        # Takes a subset of the testset as sample question\n",
    "        character_hg['test'] = character_hg['test'].shuffle(random_state).select(selected_indeces)\n",
    "        sample_questions = character_hg['test']['context/0']\n",
    "        # Sampling generation method\n",
    "        predictions_sampling = get_chatbot_predictions(\n",
    "            sample_questions,\n",
    "            model_chatbot,\n",
    "            character_dict[character]['prediction_filename'] + '_sampling.json',\n",
    "            \"Sampling\",\n",
    "            character,\n",
    "            tokenizer,\n",
    "            base_folder,\n",
    "            override_predictions=override_predictions\n",
    "        )\n",
    "                                                    \n",
    "        sentences = merge_df_for_metrics(character_hg['test'], None, None, predictions_sampling, tokenizer)['prd_sampling'].tolist()\n",
    "        sentences = [sentence_preprocess(s) for s in sentences]\n",
    "        doc_test.append([s[0] for s in sentences if s[1]])\n",
    "        "
   ]
  },
  {
   "cell_type": "code",
   "execution_count": 59,
   "metadata": {},
   "outputs": [],
   "source": [
    "y_true = []\n",
    "for i in range(len(doc_test)):\n",
    "    y_true += [i % len(characters_noDefault)]"
   ]
  },
  {
   "cell_type": "code",
   "execution_count": 63,
   "metadata": {},
   "outputs": [
    {
     "name": "stdout",
     "output_type": "stream",
     "text": [
      "Classification...\n"
     ]
    },
    {
     "name": "stderr",
     "output_type": "stream",
     "text": [
      "100%|██████████| 120/120 [00:00<00:00, 203.04it/s]"
     ]
    },
    {
     "name": "stdout",
     "output_type": "stream",
     "text": [
      "TF-IDF classifier test accuracy: 0.64\n",
      "              precision    recall  f1-score   support\n",
      "\n",
      "      Barney       0.79      0.73      0.76        15\n",
      "     Sheldon       0.88      1.00      0.94        15\n",
      "       Harry       0.80      0.53      0.64        15\n",
      "         Fry       0.62      0.33      0.43        15\n",
      "      Bender       0.45      0.60      0.51        15\n",
      "       Vader       1.00      0.73      0.85        15\n",
      "        Joey       0.55      0.40      0.46        15\n",
      "      Phoebe       0.46      0.80      0.59        15\n",
      "     Default       0.00      0.00      0.00         0\n",
      "\n",
      "    accuracy                           0.64       120\n",
      "   macro avg       0.62      0.57      0.58       120\n",
      "weighted avg       0.69      0.64      0.65       120\n",
      "\n"
     ]
    },
    {
     "name": "stderr",
     "output_type": "stream",
     "text": [
      "\n",
      "c:\\Users\\User\\anaconda3\\envs\\nlp\\lib\\site-packages\\sklearn\\metrics\\_classification.py:1308: UndefinedMetricWarning: Recall and F-score are ill-defined and being set to 0.0 in labels with no true samples. Use `zero_division` parameter to control this behavior.\n",
      "  _warn_prf(average, modifier, msg_start, len(result))\n",
      "c:\\Users\\User\\anaconda3\\envs\\nlp\\lib\\site-packages\\sklearn\\metrics\\_classification.py:1308: UndefinedMetricWarning: Recall and F-score are ill-defined and being set to 0.0 in labels with no true samples. Use `zero_division` parameter to control this behavior.\n",
      "  _warn_prf(average, modifier, msg_start, len(result))\n",
      "c:\\Users\\User\\anaconda3\\envs\\nlp\\lib\\site-packages\\sklearn\\metrics\\_classification.py:1308: UndefinedMetricWarning: Recall and F-score are ill-defined and being set to 0.0 in labels with no true samples. Use `zero_division` parameter to control this behavior.\n",
      "  _warn_prf(average, modifier, msg_start, len(result))\n"
     ]
    },
    {
     "data": {
      "text/plain": [
       "array([[11,  0,  0,  0,  0,  0,  1,  3,  0],\n",
       "       [ 0, 15,  0,  0,  0,  0,  0,  0,  0],\n",
       "       [ 1,  0,  8,  1,  3,  0,  2,  0,  0],\n",
       "       [ 1,  0,  0,  5,  7,  0,  0,  1,  1],\n",
       "       [ 1,  0,  0,  2,  9,  0,  1,  1,  1],\n",
       "       [ 0,  0,  1,  0,  1, 11,  0,  1,  1],\n",
       "       [ 0,  1,  0,  0,  0,  0,  6,  8,  0],\n",
       "       [ 0,  1,  1,  0,  0,  0,  1, 12,  0],\n",
       "       [ 0,  0,  0,  0,  0,  0,  0,  0,  0]], dtype=int64)"
      ]
     },
     "execution_count": 63,
     "metadata": {},
     "output_type": "execute_result"
    }
   ],
   "source": [
    "### prediction on last test\n",
    "print('Classification...')\n",
    "y_pred = []\n",
    "raw_predictions = {c:[] for c in characters}\n",
    "for d in tqdm(doc_test):\n",
    "    prediction = wf_classifier.predict(d)\n",
    "    raw_predictions[characters[c]].append(prediction)\n",
    "    y_pred.append(np.argmax(list(prediction.values())))\n",
    "\n",
    "print('TF-IDF classifier test accuracy: {:.2f}'.format(accuracy_score(y_true, y_pred)))\n",
    "print(classification_report(y_true, y_pred))\n",
    "confusion_matrix(y_true, y_pred)"
   ]
  },
  {
   "cell_type": "code",
   "execution_count": 62,
   "metadata": {},
   "outputs": [
    {
     "name": "stdout",
     "output_type": "stream",
     "text": [
      "Classification...\n"
     ]
    },
    {
     "name": "stderr",
     "output_type": "stream",
     "text": [
      "100%|██████████| 120/120 [00:01<00:00, 108.05it/s]"
     ]
    },
    {
     "name": "stdout",
     "output_type": "stream",
     "text": [
      "TF-IDF classifier test accuracy: 0.69\n",
      "              precision    recall  f1-score   support\n",
      "\n",
      "      Barney       1.00      0.80      0.89        15\n",
      "     Sheldon       0.83      1.00      0.91        15\n",
      "       Harry       1.00      0.67      0.80        15\n",
      "         Fry       0.62      0.33      0.43        15\n",
      "      Bender       0.45      0.67      0.54        15\n",
      "       Vader       1.00      0.93      0.97        15\n",
      "        Joey       0.56      0.33      0.42        15\n",
      "      Phoebe       0.50      0.80      0.62        15\n",
      "     Default       0.00      0.00      0.00         0\n",
      "\n",
      "    accuracy                           0.69       120\n",
      "   macro avg       0.66      0.61      0.62       120\n",
      "weighted avg       0.75      0.69      0.70       120\n",
      "\n"
     ]
    },
    {
     "name": "stderr",
     "output_type": "stream",
     "text": [
      "\n",
      "c:\\Users\\User\\anaconda3\\envs\\nlp\\lib\\site-packages\\sklearn\\metrics\\_classification.py:1308: UndefinedMetricWarning: Recall and F-score are ill-defined and being set to 0.0 in labels with no true samples. Use `zero_division` parameter to control this behavior.\n",
      "  _warn_prf(average, modifier, msg_start, len(result))\n",
      "c:\\Users\\User\\anaconda3\\envs\\nlp\\lib\\site-packages\\sklearn\\metrics\\_classification.py:1308: UndefinedMetricWarning: Recall and F-score are ill-defined and being set to 0.0 in labels with no true samples. Use `zero_division` parameter to control this behavior.\n",
      "  _warn_prf(average, modifier, msg_start, len(result))\n",
      "c:\\Users\\User\\anaconda3\\envs\\nlp\\lib\\site-packages\\sklearn\\metrics\\_classification.py:1308: UndefinedMetricWarning: Recall and F-score are ill-defined and being set to 0.0 in labels with no true samples. Use `zero_division` parameter to control this behavior.\n",
      "  _warn_prf(average, modifier, msg_start, len(result))\n"
     ]
    },
    {
     "data": {
      "text/plain": [
       "array([[12,  0,  0,  0,  0,  0,  1,  2,  0],\n",
       "       [ 0, 15,  0,  0,  0,  0,  0,  0,  0],\n",
       "       [ 0,  0, 10,  0,  2,  0,  1,  0,  2],\n",
       "       [ 0,  0,  0,  5,  8,  0,  0,  1,  1],\n",
       "       [ 0,  0,  0,  3, 10,  0,  1,  1,  0],\n",
       "       [ 0,  0,  0,  0,  1, 14,  0,  0,  0],\n",
       "       [ 0,  2,  0,  0,  0,  0,  5,  8,  0],\n",
       "       [ 0,  1,  0,  0,  1,  0,  1, 12,  0],\n",
       "       [ 0,  0,  0,  0,  0,  0,  0,  0,  0]], dtype=int64)"
      ]
     },
     "execution_count": 62,
     "metadata": {},
     "output_type": "execute_result"
    }
   ],
   "source": [
    "### prediction on last test\n",
    "print('Classification...')\n",
    "y_pred = []\n",
    "raw_predictions = {c:[] for c in characters}\n",
    "for d in tqdm(doc_test):\n",
    "    prediction = tfidf_classifier.predict(d)\n",
    "    raw_predictions[characters[c]].append(prediction)\n",
    "    y_pred.append(np.argmax(list(prediction.values())))\n",
    "\n",
    "print('TF-IDF classifier test accuracy: {:.2f}'.format(accuracy_score(y_true, y_pred)))\n",
    "print(classification_report(y_true, y_pred))\n",
    "confusion_matrix(y_true, y_pred)"
   ]
  },
  {
   "cell_type": "code",
   "execution_count": 64,
   "metadata": {},
   "outputs": [
    {
     "name": "stdout",
     "output_type": "stream",
     "text": [
      "Classification...\n"
     ]
    },
    {
     "name": "stderr",
     "output_type": "stream",
     "text": [
      "100%|██████████| 120/120 [00:00<00:00, 209.43it/s]"
     ]
    },
    {
     "name": "stdout",
     "output_type": "stream",
     "text": [
      "TF-IDF classifier test accuracy: 0.72\n",
      "              precision    recall  f1-score   support\n",
      "\n",
      "      Barney       1.00      0.80      0.89        15\n",
      "     Sheldon       0.88      1.00      0.94        15\n",
      "       Harry       1.00      0.87      0.93        15\n",
      "         Fry       0.62      0.33      0.43        15\n",
      "      Bender       0.50      0.67      0.57        15\n",
      "       Vader       1.00      1.00      1.00        15\n",
      "        Joey       0.43      0.40      0.41        15\n",
      "      Phoebe       0.55      0.73      0.63        15\n",
      "     Default       0.00      0.00      0.00         0\n",
      "\n",
      "    accuracy                           0.73       120\n",
      "   macro avg       0.67      0.64      0.64       120\n",
      "weighted avg       0.75      0.72      0.73       120\n",
      "\n"
     ]
    },
    {
     "name": "stderr",
     "output_type": "stream",
     "text": [
      "\n",
      "c:\\Users\\User\\anaconda3\\envs\\nlp\\lib\\site-packages\\sklearn\\metrics\\_classification.py:1308: UndefinedMetricWarning: Recall and F-score are ill-defined and being set to 0.0 in labels with no true samples. Use `zero_division` parameter to control this behavior.\n",
      "  _warn_prf(average, modifier, msg_start, len(result))\n",
      "c:\\Users\\User\\anaconda3\\envs\\nlp\\lib\\site-packages\\sklearn\\metrics\\_classification.py:1308: UndefinedMetricWarning: Recall and F-score are ill-defined and being set to 0.0 in labels with no true samples. Use `zero_division` parameter to control this behavior.\n",
      "  _warn_prf(average, modifier, msg_start, len(result))\n",
      "c:\\Users\\User\\anaconda3\\envs\\nlp\\lib\\site-packages\\sklearn\\metrics\\_classification.py:1308: UndefinedMetricWarning: Recall and F-score are ill-defined and being set to 0.0 in labels with no true samples. Use `zero_division` parameter to control this behavior.\n",
      "  _warn_prf(average, modifier, msg_start, len(result))\n"
     ]
    },
    {
     "data": {
      "text/plain": [
       "array([[12,  0,  0,  0,  0,  0,  2,  1,  0],\n",
       "       [ 0, 15,  0,  0,  0,  0,  0,  0,  0],\n",
       "       [ 0,  0, 13,  0,  1,  0,  1,  0,  0],\n",
       "       [ 0,  0,  0,  5,  9,  0,  1,  0,  0],\n",
       "       [ 0,  0,  0,  3, 10,  0,  1,  0,  1],\n",
       "       [ 0,  0,  0,  0,  0, 15,  0,  0,  0],\n",
       "       [ 0,  1,  0,  0,  0,  0,  6,  8,  0],\n",
       "       [ 0,  1,  0,  0,  0,  0,  3, 11,  0],\n",
       "       [ 0,  0,  0,  0,  0,  0,  0,  0,  0]], dtype=int64)"
      ]
     },
     "execution_count": 64,
     "metadata": {},
     "output_type": "execute_result"
    }
   ],
   "source": [
    "### prediction on last test\n",
    "print('Classification...')\n",
    "y_pred = []\n",
    "raw_predictions = {c:[] for c in characters}\n",
    "for d in tqdm(doc_test):\n",
    "    prediction = ctfidf_classifier.predict(d)\n",
    "    raw_predictions[characters[c]].append(prediction)\n",
    "    y_pred.append(np.argmax(list(prediction.values())))\n",
    "\n",
    "print('TF-IDF classifier test accuracy: {:.2f}'.format(accuracy_score(y_true, y_pred)))\n",
    "print(classification_report(y_true, y_pred))\n",
    "confusion_matrix(y_true, y_pred)"
   ]
  },
  {
   "cell_type": "code",
   "execution_count": 81,
   "metadata": {},
   "outputs": [],
   "source": [
    "### save predictions\n",
    "if SAVE_CHATBOT_PREDICTION:\n",
    "    append_predictions = True\n",
    "    override_predictions = False\n",
    "    predictions_file = join('..', 'metrics', 'tfidf_predictions.json')\n",
    "\n",
    "    if append_predictions and exists(predictions_file):\n",
    "        with open(predictions_file, 'r', encoding='utf-8') as file:\n",
    "            predictions_dict = json.load(file)\n",
    "    elif override_predictions or not exists(predictions_file):\n",
    "        predictions_dict = {'one_hot':{c:[] for c in characters}, 'raw_predictions': {c:[] for c in characters}}\n",
    "    else:\n",
    "        raise NotImplementedError\n",
    "        \n",
    "    for c in characters_noDefault:\n",
    "        predictions_dict['one_hot'][c] += predictions[c]\n",
    "        predictions_dict['raw_predictions'][c] += raw_predictions[c]\n",
    "\n",
    "    with open(predictions_file, 'w', encoding='utf-8') as file:\n",
    "        json.dump(predictions_dict, file)"
   ]
  },
  {
   "cell_type": "code",
   "execution_count": null,
   "metadata": {},
   "outputs": [],
   "source": []
  }
 ],
 "metadata": {
  "kernelspec": {
   "display_name": "Python 3.8.12 ('nlp')",
   "language": "python",
   "name": "python3"
  },
  "language_info": {
   "codemirror_mode": {
    "name": "ipython",
    "version": 3
   },
   "file_extension": ".py",
   "mimetype": "text/x-python",
   "name": "python",
   "nbconvert_exporter": "python",
   "pygments_lexer": "ipython3",
   "version": "3.8.12"
  },
  "vscode": {
   "interpreter": {
    "hash": "a7c5817727678c332fb9fa5aff0185fec398eda4559a601173fdef72aa27c3a2"
   }
  }
 },
 "nbformat": 4,
 "nbformat_minor": 4
}
