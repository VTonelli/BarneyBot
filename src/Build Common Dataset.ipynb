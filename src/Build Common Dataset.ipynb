{
 "cells": [
  {
   "cell_type": "code",
   "execution_count": null,
   "id": "4b85881f",
   "metadata": {},
   "outputs": [],
   "source": [
    "### Run environment setup\n",
    "import os\n",
    "import lib.BBSetup as BBSetup\n",
    "\n",
    "try:\n",
    "    from google.colab import drive\n",
    "    BBSetup.colab_setup(mount_folder=r\"/content/drive/My Drive/unibo/NLP_project/BarneyBot\")\n",
    "except:\n",
    "    try:\n",
    "        BBSetup.anaconda_manual_setup(base_folder=r\"E:\\University\\Esami da Superare\\Natural Language Processing\\BarneyBotGit\\BarneyBot\",\n",
    "                                      env_name=\"barneybot\")\n",
    "    except:\n",
    "        BBSetup.anaconda_auto_setup(base_folder=r\"E:\\University\\Esami da Superare\\Natural Language Processing\\BarneyBotGit\\BarneyBot\")\n",
    "\n",
    "### Define folders\n",
    "base_folder = BBSetup.BASE_FOLDER\n",
    "out_folder = BBSetup.set_folder(os.path.join(base_folder, 'Data'))"
   ]
  },
  {
   "cell_type": "code",
   "execution_count": null,
   "id": "9ecea4a5",
   "metadata": {},
   "outputs": [],
   "source": [
    "# Imports to handle loading the various tv/series datasets and the creation of the common dataset\n",
    "import pandas as pd\n",
    "from tqdm import tqdm"
   ]
  },
  {
   "cell_type": "code",
   "execution_count": null,
   "id": "2546553f",
   "metadata": {},
   "outputs": [],
   "source": [
    "# Initialize list of selected lines\n",
    "lines_selected_list = []"
   ]
  },
  {
   "cell_type": "markdown",
   "id": "2d9bab52",
   "metadata": {},
   "source": [
    "# Sources"
   ]
  },
  {
   "cell_type": "markdown",
   "id": "8fcac96f",
   "metadata": {},
   "source": [
    "## HIMYM"
   ]
  },
  {
   "cell_type": "code",
   "execution_count": null,
   "id": "79e86cc8",
   "metadata": {
    "scrolled": true
   },
   "outputs": [],
   "source": [
    "# Select a few specific lines from the dataset, and append them to the selected ones\n",
    "lines_selected_list.append(['Barney, this is about the building.', 'Come on. This is so about the girl.', 'HIMYM'])\n",
    "lines_selected_list.append([\"All right. I'll be right there. Stay where you are.\", 'Ted, Ted.', 'HIMYM'])\n",
    "lines_selected_list.append([\"I think there's a pretty girl smiling at me there.\", 'Hey, this is a chair, but go ahead and drag it.', 'HIMYM'])\n",
    "lines_selected_list.append(['I love you, man.', 'Me too, buddy.', 'HIMYM'])\n",
    "lines_selected_list.append([\"Not even if she's hot?\", \"Not even if her mom's hot.\", \"HIMYM\"])"
   ]
  },
  {
   "cell_type": "markdown",
   "id": "b2709a4c",
   "metadata": {},
   "source": [
    "## TBBT"
   ]
  },
  {
   "cell_type": "code",
   "execution_count": null,
   "id": "fd27b76a",
   "metadata": {
    "scrolled": true
   },
   "outputs": [],
   "source": [
    "lines_selected_list.append(['Soft kitty, warm kitty Little ball of fur', 'Happy kitty, slippy kitty Pur pur pur', 'TBBT'])\n",
    "lines_selected_list.append(['Penny.', 'Thats just wrong.', 'TBBT'])\n",
    "lines_selected_list.append(['Oh. Sheldon, thank you. Thats so romantic. But what about Rajesh? He was okay with you choosing the name?', 'Well, it took a little negotiating, but I wore him down. Uh, we get the asteroid, and if you and I have children, they all have to be named Rajesh.', 'TBBT'])\n",
    "lines_selected_list.append(['I didnt break it. I, I guess Stuart sold it to me like this.', 'Yes. Yes, he did, that is a perfectly satisfying and plausible explanation. Yeah, lets all be mad at Stuart.', 'TBBT'])\n",
    "lines_selected_list.append(['Be careful.', 'If I were not being careful, your telling me to be careful would not make me careful.', 'TBBT'])"
   ]
  },
  {
   "cell_type": "markdown",
   "id": "3b3f6a1f",
   "metadata": {},
   "source": [
    "## HP"
   ]
  },
  {
   "cell_type": "code",
   "execution_count": null,
   "id": "bee31534",
   "metadata": {
    "scrolled": true
   },
   "outputs": [],
   "source": [
    "lines_selected_list.append(['But why would anyone go near that dog?', 'The day I was at Gringotts, Hagrid took something out of one of the vaults.', 'HP'])\n",
    "lines_selected_list.append(['Expecto Patronum!', 'Expecto Patronum!', 'HP'])\n",
    "lines_selected_list.append(['Ron Weasley.', \"I'm Harry. Harry Potter.\", 'HP'])\n",
    "lines_selected_list.append(['I spoke a different language?', \"But I didn't realize...\", 'HP'])\n",
    "lines_selected_list.append(['Harry?', 'Professor.', 'HP'])"
   ]
  },
  {
   "cell_type": "markdown",
   "id": "ca522e8d",
   "metadata": {},
   "source": [
    "## Futurama"
   ]
  },
  {
   "cell_type": "code",
   "execution_count": null,
   "id": "2abe1a1b",
   "metadata": {
    "scrolled": false
   },
   "outputs": [],
   "source": [
    "lines_selected_list.append(['OK. First Bender, then Flexo, then Fry.', \"Wait, let's go by rank.\", 'Futurama'])\n",
    "lines_selected_list.append([\"Just relax, Bender. Tomorrow we'll pry you down, have a nice breakfast and then go hunt down and slaughter that ancient evil.\", \"It'll be a rich, full day.\", 'Futurama'])\n",
    "lines_selected_list.append([\"I'm too scared.\", 'Leela, your scaredness is being transmitted straight to Bender. If you care about Nibbler, stop caring about him!', 'Futurama'])\n",
    "lines_selected_list.append(['Dr. Zoidberg? Are you OK?', \"He's dead.\", 'Futurama'])\n",
    "lines_selected_list.append(['Fry, thank God we found you.', 'Leela? What are you guys doing here in the year 4000?', 'Futurama'])"
   ]
  },
  {
   "cell_type": "markdown",
   "id": "49385f29",
   "metadata": {},
   "source": [
    "## SW"
   ]
  },
  {
   "cell_type": "code",
   "execution_count": null,
   "id": "dcfba5ce",
   "metadata": {
    "scrolled": false
   },
   "outputs": [],
   "source": [
    "lines_selected_list.append(['I will not fight you.', 'Give yourself to the dark side. It is the only way you can save your friends. Yes, your', 'SW'])\n",
    "lines_selected_list.append(['Lord Vader, what about Leia and theWookiee?', 'They must never again leave thiscity.', 'SW'])\n",
    "lines_selected_list.append([\"The Emperor's coming here?\", 'That is correct, Commander. And heis most displeased with your', 'SW'])\n",
    "lines_selected_list.append(['Shall I hold them?', 'No. Leave them to me. I will deal', 'SW'])\n",
    "lines_selected_list.append(['Lord Vader, what about Leia and theWookiee?', 'They must never again leave thiscity.', 'SW'])"
   ]
  },
  {
   "cell_type": "markdown",
   "id": "e9097d5c",
   "metadata": {},
   "source": [
    "## Friends"
   ]
  },
  {
   "cell_type": "code",
   "execution_count": null,
   "id": "37b706da",
   "metadata": {
    "scrolled": false
   },
   "outputs": [],
   "source": [
    "lines_selected_list.append(['Oh! Joey uh, were you in our room last night?', 'No.  I was told the name of the movie would not appear on the bill!', 'Friends'])\n",
    "lines_selected_list.append(['Hey.', 'Hey-hey-hey! So, how did it go with Dana? Any reason I should leave a block of time open say Thursday?', 'Friends'])\n",
    "lines_selected_list.append(['Joey... are you sure? I mean, I know how much you love him!', \"Rachel... let's be clear on this, ok? I do not love Hugsy. I like him a normal amount...\", 'Friends'])\n",
    "lines_selected_list.append(['Ok, ten.', 'Okay, Monica picks ten, I call nine! Anyone else?', 'Friends'])\n",
    "lines_selected_list.append([\"Joey, Ross is gonna be here any second, would you mind watching Ben for me while I use the ladies' room?\", 'Oh yeah, no problem.', 'Friends'])"
   ]
  },
  {
   "cell_type": "markdown",
   "id": "1f8749ef",
   "metadata": {},
   "source": [
    "## Standard data"
   ]
  },
  {
   "cell_type": "code",
   "execution_count": null,
   "id": "a8f3a254",
   "metadata": {},
   "outputs": [],
   "source": [
    "# Also add a few standard questions-answers to the common dataset\n",
    "lines_selected_list.append(['What are you doing for a living?', 'I am a lawyer.', 'Standard'])\n",
    "lines_selected_list.append(['How are you doing?', 'Good.', 'Standard'])\n",
    "lines_selected_list.append(['Where are you going to?', 'I am going out.', 'Standard'])\n",
    "lines_selected_list.append(['What are you wearing?', 'A T-shirt.', 'Standard'])\n",
    "lines_selected_list.append(['What do you want to do tonight?', 'Watching tv.', 'Standard'])"
   ]
  },
  {
   "cell_type": "markdown",
   "id": "5bd0c2a5",
   "metadata": {},
   "source": [
    "# Save the csv"
   ]
  },
  {
   "cell_type": "code",
   "execution_count": null,
   "id": "aa75e5ec",
   "metadata": {},
   "outputs": [],
   "source": [
    "lines_selected_list"
   ]
  },
  {
   "cell_type": "code",
   "execution_count": null,
   "id": "c383e4ad",
   "metadata": {},
   "outputs": [],
   "source": [
    "# Create a pandas dataframe from the selected lines\n",
    "df = pd.DataFrame(data=lines_selected_list, columns=['context/0', 'label', 'source'])\n",
    "df = df[['label', 'context/0', 'source']]\n",
    "df"
   ]
  },
  {
   "cell_type": "code",
   "execution_count": null,
   "id": "b9e33474",
   "metadata": {},
   "outputs": [],
   "source": [
    "# Save the dataframe\n",
    "out_file = os.path.join(out_folder, 'common_dataset.csv')\n",
    "df.to_csv(out_file, index=False)\n",
    "print(\"Saved dataset at\", os.path.join(out_file))"
   ]
  }
 ],
 "metadata": {
  "kernelspec": {
   "display_name": "Python 3 (ipykernel)",
   "language": "python",
   "name": "python3"
  },
  "language_info": {
   "codemirror_mode": {
    "name": "ipython",
    "version": 3
   },
   "file_extension": ".py",
   "mimetype": "text/x-python",
   "name": "python",
   "nbconvert_exporter": "python",
   "pygments_lexer": "ipython3",
   "version": "3.9.13"
  },
  "vscode": {
   "interpreter": {
    "hash": "451812313a2cc9ef7b1a116a2be532c610a0f65ac693e04b1a4edd064a67cb06"
   }
  }
 },
 "nbformat": 4,
 "nbformat_minor": 5
}
