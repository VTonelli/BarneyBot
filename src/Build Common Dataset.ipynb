{
 "cells": [
  {
   "cell_type": "code",
   "execution_count": null,
   "metadata": {},
   "outputs": [],
   "source": [
    "# Mount google drive, if in Colaboratory environment\n",
    "import os\n",
    "try:\n",
    "    import google.colab\n",
    "    IN_COLAB = True\n",
    "except:\n",
    "    IN_COLAB = False\n",
    "if IN_COLAB:\n",
    "    from google.colab import drive\n",
    "    drive.mount('/content/drive',force_remount=True)\n",
    "    base_folder = '/content/drive/My Drive/unibo/NLP_project/BarneyBot'\n",
    "    os.system(\"pip install datasets\")\n",
    "    os.system(\"pip install transformers\")\n",
    "    os.system(\"pip install rouge_score\")\n",
    "    os.system(\"pip install -U sentence-transformers\")\n",
    "else:\n",
    "    # base_folder = os.getcwd()\n",
    "    base_folder = '..'\n",
    "    \n",
    "# Set cache folder for huggingface locally\n",
    "os.environ[\"HF_DATASETS_CACHE\"] = os.path.join(base_folder, \"cache\")"
   ]
  },
  {
   "cell_type": "code",
   "execution_count": null,
   "metadata": {},
   "outputs": [],
   "source": [
    "# Imports to handle loading the various tv/series datasets and the creation of the common dataset\n",
    "import pandas as pd\n",
    "from tqdm import tqdm"
   ]
  },
  {
   "cell_type": "code",
   "execution_count": null,
   "metadata": {},
   "outputs": [],
   "source": [
    "# Initialize list of selected lines\n",
    "lines_selected_list = []"
   ]
  },
  {
   "cell_type": "markdown",
   "metadata": {},
   "source": [
    "# Sources"
   ]
  },
  {
   "cell_type": "markdown",
   "metadata": {},
   "source": [
    "## HIMYM"
   ]
  },
  {
   "cell_type": "code",
   "execution_count": null,
   "metadata": {
    "scrolled": true
   },
   "outputs": [],
   "source": [
    "# Select a few specific lines from the dataset, and append them to the selected ones\n",
    "lines_selected_list.append(['Barney, this is about the building.', 'Come on. This is so about the girl.', 'HIMYM'])\n",
    "lines_selected_list.append([\"All right. I'll be right there. Stay where you are.\", 'Ted, Ted.', 'HIMYM'])\n",
    "lines_selected_list.append([\"I think there's a pretty girl smiling at me there.\", 'Hey, this is a chair, but go ahead and drag it.', 'HIMYM'])\n",
    "lines_selected_list.append(['I love you, man.', 'Me too, buddy.', 'HIMYM'])\n",
    "lines_selected_list.append([\"Not even if she's hot?\", \"Not even if her mom's hot.\", \"HIMYM\"])"
   ]
  },
  {
   "cell_type": "markdown",
   "metadata": {},
   "source": [
    "## TBBT"
   ]
  },
  {
   "cell_type": "code",
   "execution_count": null,
   "metadata": {
    "scrolled": true
   },
   "outputs": [],
   "source": [
    "lines_selected_list.append(['Soft kitty, warm kitty Little ball of fur', 'Happy kitty, slippy kitty Pur pur pur', 'TBBT'])\n",
    "lines_selected_list.append(['Penny.', 'Thats just wrong.', 'TBBT'])\n",
    "lines_selected_list.append(['Oh. Sheldon, thank you. Thats so romantic. But what about Rajesh? He was okay with you choosing the name?', 'Well, it took a little negotiating, but I wore him down. Uh, we get the asteroid, and if you and I have children, they all have to be named Rajesh.', 'TBBT'])\n",
    "lines_selected_list.append(['I didnt break it. I, I guess Stuart sold it to me like this.', 'Yes. Yes, he did, that is a perfectly satisfying and plausible explanation. Yeah, lets all be mad at Stuart.', 'TBBT'])\n",
    "lines_selected_list.append(['Be careful.', 'If I were not being careful, your telling me to be careful would not make me careful.', 'TBBT'])"
   ]
  },
  {
   "cell_type": "markdown",
   "metadata": {},
   "source": [
    "## HP"
   ]
  },
  {
   "cell_type": "code",
   "execution_count": null,
   "metadata": {
    "scrolled": true
   },
   "outputs": [],
   "source": [
    "lines_selected_list.append(['But why would anyone go near that dog?', 'The day I was at Gringotts, Hagrid took something out of one of the vaults.', 'HP'])\n",
    "lines_selected_list.append(['Expecto Patronum!', 'Expecto Patronum!', 'HP'])\n",
    "lines_selected_list.append(['Ron Weasley.', \"I'm Harry. Harry Potter.\", 'HP'])\n",
    "lines_selected_list.append(['I spoke a different language?', \"But I didn't realize...\", 'HP'])\n",
    "lines_selected_list.append(['Harry?', 'Professor.', 'HP'])"
   ]
  },
  {
   "cell_type": "markdown",
   "metadata": {},
   "source": [
    "## Futurama"
   ]
  },
  {
   "cell_type": "code",
   "execution_count": null,
   "metadata": {
    "scrolled": false
   },
   "outputs": [],
   "source": [
    "lines_selected_list.append(['OK. First Bender, then Flexo, then Fry.', \"Wait, let's go by rank.\", 'Futurama'])\n",
    "lines_selected_list.append([\"Just relax, Bender. Tomorrow we'll pry you down, have a nice breakfast and then go hunt down and slaughter that ancient evil.\", \"It'll be a rich, full day.\", 'Futurama'])\n",
    "lines_selected_list.append([\"I'm too scared.\", 'Leela, your scaredness is being transmitted straight to Bender. If you care about Nibbler, stop caring about him!', 'Futurama'])\n",
    "lines_selected_list.append(['Dr. Zoidberg? Are you OK?', \"He's dead.\", 'Futurama'])\n",
    "lines_selected_list.append(['Fry, thank God we found you.', 'Leela? What are you guys doing here in the year 4000?', 'Futurama'])"
   ]
  },
  {
   "cell_type": "markdown",
   "metadata": {},
   "source": [
    "## SW"
   ]
  },
  {
   "cell_type": "code",
   "execution_count": null,
   "metadata": {
    "scrolled": false
   },
   "outputs": [],
   "source": [
    "lines_selected_list.append(['I will not fight you.', 'Give yourself to the dark side. It is the only way you can save your friends. Yes, your', 'SW'])\n",
    "lines_selected_list.append(['Lord Vader, what about Leia and theWookiee?', 'They must never again leave thiscity.', 'SW'])\n",
    "lines_selected_list.append([\"The Emperor's coming here?\", 'That is correct, Commander. And heis most displeased with your', 'SW'])\n",
    "lines_selected_list.append(['Shall I hold them?', 'No. Leave them to me. I will deal', 'SW'])\n",
    "lines_selected_list.append(['Lord Vader, what about Leia and theWookiee?', 'They must never again leave thiscity.', 'SW'])"
   ]
  },
  {
   "cell_type": "markdown",
   "metadata": {},
   "source": [
    "## Friends"
   ]
  },
  {
   "cell_type": "code",
   "execution_count": null,
   "metadata": {
    "scrolled": false
   },
   "outputs": [],
   "source": [
    "lines_selected_list.append(['Oh! Joey uh, were you in our room last night?', 'No.  I was told the name of the movie would not appear on the bill!', 'Friends'])\n",
    "lines_selected_list.append(['Hey.', 'Hey-hey-hey! So, how did it go with Dana? Any reason I should leave a block of time open say Thursday?', 'Friends'])\n",
    "lines_selected_list.append(['Joey... are you sure? I mean, I know how much you love him!', \"Rachel... let's be clear on this, ok? I do not love Hugsy. I like him a normal amount...\", 'Friends'])\n",
    "lines_selected_list.append(['Ok, ten.', 'Okay, Monica picks ten, I call nine! Anyone else?', 'Friends'])\n",
    "lines_selected_list.append([\"Joey, Ross is gonna be here any second, would you mind watching Ben for me while I use the ladies' room?\", 'Oh yeah, no problem.', 'Friends'])"
   ]
  },
  {
   "cell_type": "markdown",
   "metadata": {},
   "source": [
    "## Standard data"
   ]
  },
  {
   "cell_type": "code",
   "execution_count": null,
   "metadata": {},
   "outputs": [],
   "source": [
    "# Also add a few standard questions-answers to the common dataset\n",
    "lines_selected_list.append(['What are you doing for a living?', 'I am a lawyer.', 'Standard'])\n",
    "lines_selected_list.append(['How are you doing?', 'Good.', 'Standard'])\n",
    "lines_selected_list.append(['Where are you going to?', 'I am going out.', 'Standard'])\n",
    "lines_selected_list.append(['What are you wearing?', 'A T-shirt.', 'Standard'])\n",
    "lines_selected_list.append(['What do you want to do tonight?', 'Watching tv.', 'Standard'])"
   ]
  },
  {
   "cell_type": "markdown",
   "metadata": {},
   "source": [
    "# Save the csv"
   ]
  },
  {
   "cell_type": "code",
   "execution_count": null,
   "metadata": {},
   "outputs": [],
   "source": [
    "lines_selected_list"
   ]
  },
  {
   "cell_type": "code",
   "execution_count": null,
   "metadata": {},
   "outputs": [],
   "source": [
    "# Create a pandas dataframe from the selected lines\n",
    "df = pd.DataFrame(data=lines_selected_list, columns=['context/0', 'label', 'source'])\n",
    "df = df[['label', 'context/0', 'source']]\n",
    "df"
   ]
  },
  {
   "cell_type": "code",
   "execution_count": null,
   "metadata": {},
   "outputs": [],
   "source": [
    "# Save the dataframe\n",
    "out_file = os.path.join('..', 'data', 'common_dataset.csv')\n",
    "df.to_csv(out_file, index=False)\n",
    "print(\"Saved dataset at\", os.path.join(out_file))"
   ]
  },
  {
   "cell_type": "code",
   "execution_count": null,
   "metadata": {},
   "outputs": [],
   "source": []
  }
 ],
 "metadata": {
  "kernelspec": {
   "display_name": "Python 3",
   "language": "python",
   "name": "python3"
  },
  "language_info": {
   "codemirror_mode": {
    "name": "ipython",
    "version": 3
   },
   "file_extension": ".py",
   "mimetype": "text/x-python",
   "name": "python",
   "nbconvert_exporter": "python",
   "pygments_lexer": "ipython3",
   "version": "3.8.5"
  },
  "vscode": {
   "interpreter": {
    "hash": "451812313a2cc9ef7b1a116a2be532c610a0f65ac693e04b1a4edd064a67cb06"
   }
  }
 },
 "nbformat": 4,
 "nbformat_minor": 5
}
