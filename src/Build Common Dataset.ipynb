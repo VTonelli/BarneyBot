{
 "cells": [
  {
   "cell_type": "code",
   "execution_count": null,
   "id": "b82aeffb",
   "metadata": {},
   "outputs": [],
   "source": [
    "# Import character dictionaries, useful to map a character to its data, and a fixed random seed\n",
    "from data_utils import character_dict, source_dict, random_state, load_df\n",
    "\n",
    "# Characters list\n",
    "characters = list(character_dict.keys())\n",
    "characters.remove('Default')"
   ]
  },
  {
   "cell_type": "code",
   "execution_count": null,
   "id": "99d5e885",
   "metadata": {},
   "outputs": [],
   "source": [
    "# Mount google drive, if in Colaboratory environment\n",
    "import os\n",
    "try:\n",
    "    import google.colab\n",
    "    IN_COLAB = True\n",
    "except:\n",
    "    IN_COLAB = False\n",
    "if IN_COLAB:\n",
    "    from google.colab import drive\n",
    "    drive.mount('/content/drive',force_remount=True)\n",
    "    base_folder = '/content/drive/My Drive/unibo/NLP_project/BarneyBot'\n",
    "    os.system(\"pip install datasets\")\n",
    "    os.system(\"pip install transformers\")\n",
    "    os.system(\"pip install rouge_score\")\n",
    "    os.system(\"pip install -U sentence-transformers\")\n",
    "else:\n",
    "    # base_folder = os.getcwd()\n",
    "    base_folder = '..'\n",
    "    \n",
    "# Set cache folder for huggingface locally\n",
    "os.environ[\"HF_DATASETS_CACHE\"] = os.path.join(base_folder, \"cache\")"
   ]
  },
  {
   "cell_type": "code",
   "execution_count": null,
   "id": "b88d7fca",
   "metadata": {},
   "outputs": [],
   "source": [
    "# Imports to handle loading the various tv/series datasets and the creation of the common dataset\n",
    "import pandas as pd\n",
    "from tqdm import tqdm\n",
    "from datasets import load_dataset, DatasetDict"
   ]
  },
  {
   "cell_type": "code",
   "execution_count": null,
   "id": "b721652c",
   "metadata": {},
   "outputs": [],
   "source": [
    "# Initialize list of selected lines\n",
    "lines_selected_list = []"
   ]
  },
  {
   "cell_type": "markdown",
   "id": "fda6b629",
   "metadata": {},
   "source": [
    "# Characters"
   ]
  },
  {
   "cell_type": "markdown",
   "id": "ac3038db",
   "metadata": {},
   "source": [
    "## Barney"
   ]
  },
  {
   "cell_type": "code",
   "execution_count": null,
   "id": "8feab667",
   "metadata": {
    "scrolled": true
   },
   "outputs": [],
   "source": [
    "# Load Barney dataset\n",
    "temp = load_df(characters[0], base_folder)"
   ]
  },
  {
   "cell_type": "code",
   "execution_count": null,
   "id": "f9942c65",
   "metadata": {},
   "outputs": [],
   "source": [
    "# Print Barney lines for sanity check\n",
    "[s for s in temp['test']]"
   ]
  },
  {
   "cell_type": "code",
   "execution_count": null,
   "id": "972ac32d",
   "metadata": {
    "scrolled": true
   },
   "outputs": [],
   "source": [
    "# Select a few specific lines from the dataset, and append them to the selected ones\n",
    "lines_selected_list.append(['Barney, this is about the building.', 'Come on. This is so about the girl.', 'HIMYM'])\n",
    "lines_selected_list.append([\"All right. I'll be right there. Stay where you are.\", 'Ted, Ted.', 'HIMYM'])\n",
    "lines_selected_list.append([\"I think there's a pretty girl smiling at me there.\", 'Hey, this is a chair, but go ahead and drag it.', 'HIMYM'])\n",
    "lines_selected_list.append(['I love you, man.', 'Me too, buddy.', 'HIMYM'])\n",
    "lines_selected_list.append([\"Not even if she's hot?\", \"Not even if her mom's hot.\", \"HIMYM\"])\n",
    "lines_selected_list"
   ]
  },
  {
   "cell_type": "markdown",
   "id": "e1b0a385",
   "metadata": {},
   "source": [
    "## Sheldon"
   ]
  },
  {
   "cell_type": "code",
   "execution_count": null,
   "id": "e1913a13",
   "metadata": {
    "scrolled": true
   },
   "outputs": [],
   "source": [
    "temp = load_df(characters[1], base_folder)"
   ]
  },
  {
   "cell_type": "code",
   "execution_count": null,
   "id": "2ca8d5f1",
   "metadata": {},
   "outputs": [],
   "source": [
    "[s for s in temp['test']]"
   ]
  },
  {
   "cell_type": "code",
   "execution_count": null,
   "id": "fd0fdba1",
   "metadata": {
    "scrolled": true
   },
   "outputs": [],
   "source": [
    "lines_selected_list.append(['Soft kitty, warm kitty Little ball of fur', 'Happy kitty, slippy kitty Pur pur pur', 'TBBT'])\n",
    "lines_selected_list.append(['Penny.', 'Thats just wrong.', 'TBBT'])\n",
    "lines_selected_list.append(['Oh. Sheldon, thank you. Thats so romantic. But what about Rajesh? He was okay with you choosing the name?', 'Well, it took a little negotiating, but I wore him down. Uh, we get the asteroid, and if you and I have children, they all have to be named Rajesh.', 'TBBT'])\n",
    "lines_selected_list.append(['I didnt break it. I, I guess Stuart sold it to me like this.', 'Yes. Yes, he did, that is a perfectly satisfying and plausible explanation. Yeah, lets all be mad at Stuart.', 'TBBT'])\n",
    "lines_selected_list.append(['Be careful.', 'If I were not being careful, your telling me to be careful would not make me careful.', 'TBBT'])\n",
    "lines_selected_list"
   ]
  },
  {
   "cell_type": "markdown",
   "id": "894a138e",
   "metadata": {},
   "source": [
    "## Harry"
   ]
  },
  {
   "cell_type": "code",
   "execution_count": null,
   "id": "3438b65a",
   "metadata": {
    "scrolled": true
   },
   "outputs": [],
   "source": [
    "temp = load_df(characters[2], base_folder)"
   ]
  },
  {
   "cell_type": "code",
   "execution_count": null,
   "id": "5f350ef1",
   "metadata": {},
   "outputs": [],
   "source": [
    "[s for s in temp['test']]"
   ]
  },
  {
   "cell_type": "code",
   "execution_count": null,
   "id": "bb620e20",
   "metadata": {
    "scrolled": true
   },
   "outputs": [],
   "source": [
    "lines_selected_list.append(['But why would anyone go near that dog?', 'The day I was at Gringotts, Hagrid took something out of one of the vaults.', 'HP'])\n",
    "lines_selected_list.append(['Expecto Patronum!', 'Expecto Patronum!', 'HP'])\n",
    "lines_selected_list.append(['Ron Weasley.', \"I'm Harry. Harry Potter.\", 'HP'])\n",
    "lines_selected_list.append(['I spoke a different language?', \"But I didn't realize...\", 'HP'])\n",
    "lines_selected_list.append(['Harry?', 'Professor.', 'HP'])\n",
    "lines_selected_list"
   ]
  },
  {
   "cell_type": "markdown",
   "id": "a7ce0ec4",
   "metadata": {},
   "source": [
    "## Fry"
   ]
  },
  {
   "cell_type": "code",
   "execution_count": null,
   "id": "f2bcf6dd",
   "metadata": {
    "scrolled": true
   },
   "outputs": [],
   "source": [
    "temp = load_df(characters[3], base_folder)"
   ]
  },
  {
   "cell_type": "code",
   "execution_count": null,
   "id": "ced4ffb8",
   "metadata": {},
   "outputs": [],
   "source": [
    "[s for s in temp['test']]"
   ]
  },
  {
   "cell_type": "code",
   "execution_count": null,
   "id": "6afa991e",
   "metadata": {
    "scrolled": false
   },
   "outputs": [],
   "source": [
    "lines_selected_list.append(['OK. First Bender, then Flexo, then Fry.', \"Wait, let's go by rank.\", 'Futurama'])\n",
    "lines_selected_list.append([\"Just relax, Bender. Tomorrow we'll pry you down, have a nice breakfast and then go hunt down and slaughter that ancient evil.\", \"It'll be a rich, full day.\", 'Futurama'])\n",
    "lines_selected_list.append([\"I'm too scared.\", 'Leela, your scaredness is being transmitted straight to Bender. If you care about Nibbler, stop caring about him!', 'Futurama'])\n",
    "lines_selected_list.append(['Dr. Zoidberg? Are you OK?', \"He's dead.\", 'Futurama'])\n",
    "lines_selected_list.append(['Fry, thank God we found you.', 'Leela? What are you guys doing here in the year 4000?', 'Futurama'])\n",
    "lines_selected_list"
   ]
  },
  {
   "cell_type": "markdown",
   "id": "aa19a89b",
   "metadata": {},
   "source": [
    "## Vader"
   ]
  },
  {
   "cell_type": "code",
   "execution_count": null,
   "id": "965aacb7",
   "metadata": {
    "scrolled": true
   },
   "outputs": [],
   "source": [
    "temp = load_df(characters[4], base_folder)"
   ]
  },
  {
   "cell_type": "code",
   "execution_count": null,
   "id": "3a14a1e0",
   "metadata": {},
   "outputs": [],
   "source": [
    "[s for s in temp['test']]"
   ]
  },
  {
   "cell_type": "code",
   "execution_count": null,
   "id": "62af7129",
   "metadata": {
    "scrolled": false
   },
   "outputs": [],
   "source": [
    "lines_selected_list.append(['I will not fight you.', 'Give yourself to the dark side. It is the only way you can save your friends. Yes, your', 'SW'])\n",
    "lines_selected_list.append(['Lord Vader, what about Leia and theWookiee?', 'They must never again leave thiscity.', 'SW'])\n",
    "lines_selected_list.append([\"The Emperor's coming here?\", 'That is correct, Commander. And heis most displeased with your', 'SW'])\n",
    "lines_selected_list.append(['Shall I hold them?', 'No. Leave them to me. I will deal', 'SW'])\n",
    "lines_selected_list.append(['Lord Vader, what about Leia and theWookiee?', 'They must never again leave thiscity.', 'SW'])\n",
    "lines_selected_list"
   ]
  },
  {
   "cell_type": "markdown",
   "id": "2257ae08",
   "metadata": {},
   "source": [
    "## Joy"
   ]
  },
  {
   "cell_type": "code",
   "execution_count": null,
   "id": "e87a8aee",
   "metadata": {
    "scrolled": true
   },
   "outputs": [],
   "source": [
    "temp = load_df(characters[5], base_folder)"
   ]
  },
  {
   "cell_type": "code",
   "execution_count": null,
   "id": "3b14ea2b",
   "metadata": {},
   "outputs": [],
   "source": [
    "[s for s in temp['test']]"
   ]
  },
  {
   "cell_type": "code",
   "execution_count": null,
   "id": "b1d703bc",
   "metadata": {
    "scrolled": false
   },
   "outputs": [],
   "source": [
    "lines_selected_list.append(['Oh! Joey uh, were you in our room last night?', 'No.  I was told the name of the movie would not appear on the bill!', 'Friends'])\n",
    "lines_selected_list.append(['Hey.', 'Hey-hey-hey! So, how did it go with Dana? Any reason I should leave a block of time open say Thursday?', 'Friends'])\n",
    "lines_selected_list.append(['Joey... are you sure? I mean, I know how much you love him!', \"Rachel... let's be clear on this, ok? I do not love Hugsy. I like him a normal amount...\", 'Friends'])\n",
    "lines_selected_list.append(['Ok, ten.', 'Okay, Monica picks ten, I call nine! Anyone else?', 'Friends'])\n",
    "lines_selected_list.append([\"Joey, Ross is gonna be here any second, would you mind watching Ben for me while I use the ladies' room?\", 'Oh yeah, no problem.', 'Friends'])\n",
    "lines_selected_list"
   ]
  },
  {
   "cell_type": "markdown",
   "id": "fc875bf3",
   "metadata": {},
   "source": [
    "## Standard data"
   ]
  },
  {
   "cell_type": "code",
   "execution_count": null,
   "id": "ae96c9e9",
   "metadata": {},
   "outputs": [],
   "source": [
    "# Also add a few standard questions-answers to the common dataset\n",
    "lines_selected_list.append(['What are you doing for a living?', 'I am a lawyer.', 'Standard'])\n",
    "lines_selected_list.append(['How are you doing?', 'Good.', 'Standard'])\n",
    "lines_selected_list.append(['Where are you going to?', 'I am going out.', 'Standard'])\n",
    "lines_selected_list.append(['What are you wearing?', 'A T-shirt.', 'Standard'])\n",
    "lines_selected_list.append(['What do you want to do tonight?', 'Watching tv.', 'Standard'])\n",
    "lines_selected_list"
   ]
  },
  {
   "cell_type": "markdown",
   "id": "ad4242ca",
   "metadata": {},
   "source": [
    "# Save the csv"
   ]
  },
  {
   "cell_type": "code",
   "execution_count": null,
   "id": "4593e7c7",
   "metadata": {},
   "outputs": [],
   "source": [
    "# Create a pandas dataframe from the selected lines\n",
    "df = pd.DataFrame(data=lines_selected_list, columns=['context/0', 'label', 'source'])\n",
    "df = df[['label', 'context/0', 'source']]\n",
    "df"
   ]
  },
  {
   "cell_type": "code",
   "execution_count": null,
   "id": "51d4c1cb",
   "metadata": {},
   "outputs": [],
   "source": [
    "# Save the dataframe\n",
    "out_file = os.path.join('..', 'Data', 'common_dataset.csv')\n",
    "df.to_csv(out_file, index=False)"
   ]
  }
 ],
 "metadata": {
  "kernelspec": {
   "display_name": "Python 3.8.5 ('venv': venv)",
   "language": "python",
   "name": "python3"
  },
  "language_info": {
   "codemirror_mode": {
    "name": "ipython",
    "version": 3
   },
   "file_extension": ".py",
   "mimetype": "text/x-python",
   "name": "python",
   "nbconvert_exporter": "python",
   "pygments_lexer": "ipython3",
   "version": "3.8.5"
  },
  "vscode": {
   "interpreter": {
    "hash": "451812313a2cc9ef7b1a116a2be532c610a0f65ac693e04b1a4edd064a67cb06"
   }
  }
 },
 "nbformat": 4,
 "nbformat_minor": 5
}
