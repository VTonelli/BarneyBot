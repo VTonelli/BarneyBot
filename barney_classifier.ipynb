{
 "cells": [
  {
   "cell_type": "code",
   "execution_count": 1,
   "id": "70fcf50e",
   "metadata": {},
   "outputs": [],
   "source": [
    "# Mount google drive\n",
    "import os\n",
    "try:\n",
    "    import google.colab\n",
    "    IN_COLAB = True\n",
    "except:\n",
    "    IN_COLAB = False\n",
    "if IN_COLAB:\n",
    "    from google.colab import drive\n",
    "    drive.mount('/content/drive',force_remount=True)\n",
    "    base_folder = '/content/drive/My Drive/unibo/NLP_project/BarneyBot'\n",
    "    os.system(\"pip install datasets\")\n",
    "    os.system(\"pip install transformers\")\n",
    "    os.system(\"pip install rouge_score\")\n",
    "    os.system(\"pip install -U sentence-transformers\")\n",
    "else:\n",
    "    base_folder = os.getcwd()\n",
    "    \n",
    "in_folder = os.path.join(base_folder, \"in\")\n",
    "if not os.path.exists(in_folder):\n",
    "    os.makedirs(in_folder)\n",
    "out_folder = os.path.join(base_folder, \"out\")\n",
    "if not os.path.exists(out_folder):\n",
    "    os.makedirs(out_folder)"
   ]
  },
  {
   "cell_type": "code",
   "execution_count": 2,
   "id": "24485b2f",
   "metadata": {},
   "outputs": [],
   "source": [
    "import torch\n",
    "import torchvision\n",
    "import torchvision.transforms as transforms\n",
    "import pandas as pd\n",
    "import numpy as np\n",
    "from tqdm import tqdm"
   ]
  },
  {
   "cell_type": "code",
   "execution_count": 3,
   "id": "590d5ff2",
   "metadata": {},
   "outputs": [],
   "source": [
    "character_dict = {\n",
    "    'Barney':{\n",
    "        'classifier_name': 'barney_classifier',\n",
    "        'series_df_filename': 'HIMYM_preprocessed.csv',\n",
    "        'classifier_df': 'barney_classifier.csv',\n",
    "        'encoded_lines_filename': 'barney_encoded_lines.npy'\n",
    "    },\n",
    "    'Sheldon':{\n",
    "        'classifier_name': 'sheldon_classifier'\n",
    "    },\n",
    "    'Harry':{\n",
    "        'classifier_name': 'harry_classifier'\n",
    "    },\n",
    "    'Fry':{\n",
    "        'classifier_name': 'fry_classifier'\n",
    "    }\n",
    "             }"
   ]
  },
  {
   "cell_type": "code",
   "execution_count": 4,
   "id": "ed2f4026",
   "metadata": {},
   "outputs": [],
   "source": [
    "batch_size = 16\n",
    "epochs = 15\n",
    "lr = 1e-6\n",
    "\n",
    "train_size = 0.85\n",
    "test_size = 0.10\n",
    "\n",
    "from_saved_embeddings = False\n",
    "\n",
    "character = 'Barney'"
   ]
  },
  {
   "cell_type": "code",
   "execution_count": 5,
   "id": "b12d21d4",
   "metadata": {},
   "outputs": [],
   "source": [
    "character_folder = os.path.join(base_folder, \"Datasets\", \"Characters\", character)\n",
    "\n",
    "model_path = os.path.join(character_folder, character_dict[character]['classifier_name'])"
   ]
  },
  {
   "cell_type": "markdown",
   "id": "32d57b85",
   "metadata": {},
   "source": [
    "# Dataset"
   ]
  },
  {
   "cell_type": "code",
   "execution_count": 6,
   "id": "6c94dba2",
   "metadata": {},
   "outputs": [],
   "source": [
    "series_df = pd.read_csv(os.path.join(character_folder, character_dict[character]['series_df_filename']))"
   ]
  },
  {
   "cell_type": "code",
   "execution_count": 7,
   "id": "50ae19e0",
   "metadata": {},
   "outputs": [
    {
     "data": {
      "text/html": [
       "<div>\n",
       "<style scoped>\n",
       "    .dataframe tbody tr th:only-of-type {\n",
       "        vertical-align: middle;\n",
       "    }\n",
       "\n",
       "    .dataframe tbody tr th {\n",
       "        vertical-align: top;\n",
       "    }\n",
       "\n",
       "    .dataframe thead th {\n",
       "        text-align: right;\n",
       "    }\n",
       "</style>\n",
       "<table border=\"1\" class=\"dataframe\">\n",
       "  <thead>\n",
       "    <tr style=\"text-align: right;\">\n",
       "      <th></th>\n",
       "      <th>episode</th>\n",
       "      <th>line</th>\n",
       "      <th>character</th>\n",
       "    </tr>\n",
       "  </thead>\n",
       "  <tbody>\n",
       "    <tr>\n",
       "      <th>14</th>\n",
       "      <td>01x01</td>\n",
       "      <td>hey, so you know how I've always had a thing f...</td>\n",
       "      <td>Barney</td>\n",
       "    </tr>\n",
       "    <tr>\n",
       "      <th>16</th>\n",
       "      <td>01x01</td>\n",
       "      <td>Okay, meet me at the bar in fifteen minutes, a...</td>\n",
       "      <td>Barney</td>\n",
       "    </tr>\n",
       "    <tr>\n",
       "      <th>18</th>\n",
       "      <td>01x01</td>\n",
       "      <td>Where's your suit!? Just once when I say suit ...</td>\n",
       "      <td>Barney</td>\n",
       "    </tr>\n",
       "    <tr>\n",
       "      <th>20</th>\n",
       "      <td>01x01</td>\n",
       "      <td>It was a blazer!</td>\n",
       "      <td>Barney</td>\n",
       "    </tr>\n",
       "    <tr>\n",
       "      <th>22</th>\n",
       "      <td>01x01</td>\n",
       "      <td>I see what this is about. Have you forgotten w...</td>\n",
       "      <td>Barney</td>\n",
       "    </tr>\n",
       "    <tr>\n",
       "      <th>...</th>\n",
       "      <td>...</td>\n",
       "      <td>...</td>\n",
       "      <td>...</td>\n",
       "    </tr>\n",
       "    <tr>\n",
       "      <th>31210</th>\n",
       "      <td>08x24</td>\n",
       "      <td>I'm probably saying some political stuff right...</td>\n",
       "      <td>Barney</td>\n",
       "    </tr>\n",
       "    <tr>\n",
       "      <th>31214</th>\n",
       "      <td>08x24</td>\n",
       "      <td>Whoa. Is there going to be a fight?</td>\n",
       "      <td>Barney</td>\n",
       "    </tr>\n",
       "    <tr>\n",
       "      <th>31449</th>\n",
       "      <td>09x10</td>\n",
       "      <td>Karate Kid bad boy Billy Zabka, a shifty-eyed ...</td>\n",
       "      <td>Barney</td>\n",
       "    </tr>\n",
       "    <tr>\n",
       "      <th>31557</th>\n",
       "      <td>09x15</td>\n",
       "      <td>me or you?</td>\n",
       "      <td>Barney</td>\n",
       "    </tr>\n",
       "    <tr>\n",
       "      <th>31635</th>\n",
       "      <td>09x19</td>\n",
       "      <td>Lovers Foreve,  i  rand Ever and Ever: A Love ...</td>\n",
       "      <td>Barney</td>\n",
       "    </tr>\n",
       "  </tbody>\n",
       "</table>\n",
       "<p>5142 rows × 3 columns</p>\n",
       "</div>"
      ],
      "text/plain": [
       "      episode                                               line character\n",
       "14      01x01  hey, so you know how I've always had a thing f...    Barney\n",
       "16      01x01  Okay, meet me at the bar in fifteen minutes, a...    Barney\n",
       "18      01x01  Where's your suit!? Just once when I say suit ...    Barney\n",
       "20      01x01                                   It was a blazer!    Barney\n",
       "22      01x01  I see what this is about. Have you forgotten w...    Barney\n",
       "...       ...                                                ...       ...\n",
       "31210   08x24  I'm probably saying some political stuff right...    Barney\n",
       "31214   08x24                Whoa. Is there going to be a fight?    Barney\n",
       "31449   09x10  Karate Kid bad boy Billy Zabka, a shifty-eyed ...    Barney\n",
       "31557   09x15                                         me or you?    Barney\n",
       "31635   09x19  Lovers Foreve,  i  rand Ever and Ever: A Love ...    Barney\n",
       "\n",
       "[5142 rows x 3 columns]"
      ]
     },
     "execution_count": 7,
     "metadata": {},
     "output_type": "execute_result"
    }
   ],
   "source": [
    "series_df[series_df['character']==character]"
   ]
  },
  {
   "cell_type": "code",
   "execution_count": 8,
   "id": "b3528a97",
   "metadata": {},
   "outputs": [],
   "source": [
    "series_df['character'] = series_df['character'].apply(lambda x: 1 if x==character else 0)"
   ]
  },
  {
   "cell_type": "code",
   "execution_count": 9,
   "id": "c5a770da",
   "metadata": {
    "scrolled": false
   },
   "outputs": [
    {
     "data": {
      "text/html": [
       "<div>\n",
       "<style scoped>\n",
       "    .dataframe tbody tr th:only-of-type {\n",
       "        vertical-align: middle;\n",
       "    }\n",
       "\n",
       "    .dataframe tbody tr th {\n",
       "        vertical-align: top;\n",
       "    }\n",
       "\n",
       "    .dataframe thead th {\n",
       "        text-align: right;\n",
       "    }\n",
       "</style>\n",
       "<table border=\"1\" class=\"dataframe\">\n",
       "  <thead>\n",
       "    <tr style=\"text-align: right;\">\n",
       "      <th></th>\n",
       "      <th>episode</th>\n",
       "      <th>line</th>\n",
       "      <th>character</th>\n",
       "    </tr>\n",
       "  </thead>\n",
       "  <tbody>\n",
       "    <tr>\n",
       "      <th>14</th>\n",
       "      <td>01x01</td>\n",
       "      <td>hey, so you know how I've always had a thing f...</td>\n",
       "      <td>1</td>\n",
       "    </tr>\n",
       "    <tr>\n",
       "      <th>16</th>\n",
       "      <td>01x01</td>\n",
       "      <td>Okay, meet me at the bar in fifteen minutes, a...</td>\n",
       "      <td>1</td>\n",
       "    </tr>\n",
       "    <tr>\n",
       "      <th>18</th>\n",
       "      <td>01x01</td>\n",
       "      <td>Where's your suit!? Just once when I say suit ...</td>\n",
       "      <td>1</td>\n",
       "    </tr>\n",
       "    <tr>\n",
       "      <th>20</th>\n",
       "      <td>01x01</td>\n",
       "      <td>It was a blazer!</td>\n",
       "      <td>1</td>\n",
       "    </tr>\n",
       "    <tr>\n",
       "      <th>22</th>\n",
       "      <td>01x01</td>\n",
       "      <td>I see what this is about. Have you forgotten w...</td>\n",
       "      <td>1</td>\n",
       "    </tr>\n",
       "    <tr>\n",
       "      <th>...</th>\n",
       "      <td>...</td>\n",
       "      <td>...</td>\n",
       "      <td>...</td>\n",
       "    </tr>\n",
       "    <tr>\n",
       "      <th>31210</th>\n",
       "      <td>08x24</td>\n",
       "      <td>I'm probably saying some political stuff right...</td>\n",
       "      <td>1</td>\n",
       "    </tr>\n",
       "    <tr>\n",
       "      <th>31214</th>\n",
       "      <td>08x24</td>\n",
       "      <td>Whoa. Is there going to be a fight?</td>\n",
       "      <td>1</td>\n",
       "    </tr>\n",
       "    <tr>\n",
       "      <th>31449</th>\n",
       "      <td>09x10</td>\n",
       "      <td>Karate Kid bad boy Billy Zabka, a shifty-eyed ...</td>\n",
       "      <td>1</td>\n",
       "    </tr>\n",
       "    <tr>\n",
       "      <th>31557</th>\n",
       "      <td>09x15</td>\n",
       "      <td>me or you?</td>\n",
       "      <td>1</td>\n",
       "    </tr>\n",
       "    <tr>\n",
       "      <th>31635</th>\n",
       "      <td>09x19</td>\n",
       "      <td>Lovers Foreve,  i  rand Ever and Ever: A Love ...</td>\n",
       "      <td>1</td>\n",
       "    </tr>\n",
       "  </tbody>\n",
       "</table>\n",
       "<p>5142 rows × 3 columns</p>\n",
       "</div>"
      ],
      "text/plain": [
       "      episode                                               line  character\n",
       "14      01x01  hey, so you know how I've always had a thing f...          1\n",
       "16      01x01  Okay, meet me at the bar in fifteen minutes, a...          1\n",
       "18      01x01  Where's your suit!? Just once when I say suit ...          1\n",
       "20      01x01                                   It was a blazer!          1\n",
       "22      01x01  I see what this is about. Have you forgotten w...          1\n",
       "...       ...                                                ...        ...\n",
       "31210   08x24  I'm probably saying some political stuff right...          1\n",
       "31214   08x24                Whoa. Is there going to be a fight?          1\n",
       "31449   09x10  Karate Kid bad boy Billy Zabka, a shifty-eyed ...          1\n",
       "31557   09x15                                         me or you?          1\n",
       "31635   09x19  Lovers Foreve,  i  rand Ever and Ever: A Love ...          1\n",
       "\n",
       "[5142 rows x 3 columns]"
      ]
     },
     "execution_count": 9,
     "metadata": {},
     "output_type": "execute_result"
    }
   ],
   "source": [
    "series_df[series_df['character']==1]"
   ]
  },
  {
   "cell_type": "code",
   "execution_count": 10,
   "id": "b2450442",
   "metadata": {},
   "outputs": [],
   "source": [
    "series_df = series_df.drop(columns=['episode'])"
   ]
  },
  {
   "cell_type": "code",
   "execution_count": 11,
   "id": "7c2be857",
   "metadata": {},
   "outputs": [],
   "source": [
    "classes = (0, 1)"
   ]
  },
  {
   "cell_type": "markdown",
   "id": "a9ebeff1",
   "metadata": {},
   "source": [
    "# Model"
   ]
  },
  {
   "cell_type": "markdown",
   "id": "b004bc73",
   "metadata": {},
   "source": [
    "## Sentence Transformer"
   ]
  },
  {
   "cell_type": "code",
   "execution_count": 12,
   "id": "b779ba24",
   "metadata": {},
   "outputs": [],
   "source": [
    "from sentence_transformers import SentenceTransformer\n",
    "\n",
    "if not from_saved_embeddings:\n",
    "    sentence_transformer = SentenceTransformer(\"sentence-transformers/paraphrase-multilingual-mpnet-base-v2\")"
   ]
  },
  {
   "cell_type": "code",
   "execution_count": 13,
   "id": "7a48bccb",
   "metadata": {
    "scrolled": true
   },
   "outputs": [],
   "source": [
    "if not from_saved_embeddings:\n",
    "    sentence_transformer"
   ]
  },
  {
   "cell_type": "markdown",
   "id": "cd6962cc",
   "metadata": {},
   "source": [
    "## Sentence Encoding"
   ]
  },
  {
   "cell_type": "code",
   "execution_count": 14,
   "id": "116298b0",
   "metadata": {},
   "outputs": [
    {
     "name": "stderr",
     "output_type": "stream",
     "text": [
      "100%|████████████████████████████████████████████████████████████████████████████| 31776/31776 [06:06<00:00, 86.59it/s]\n"
     ]
    }
   ],
   "source": [
    "if not from_saved_embeddings:\n",
    "\n",
    "    series_df['encoded_line'] = [sentence_transformer.encode(line) for line in tqdm(series_df['line'])]\n",
    "\n",
    "    # save sentences dataset\n",
    "    series_df[['line', 'character']].to_csv(\n",
    "        os.path.join(character_folder, character_dict[character]['classifier_df']), \n",
    "        index = False\n",
    "    )\n",
    "\n",
    "    np.save(\n",
    "        os.path.join(character_folder, character_dict[character]['encoded_lines_filename']),\n",
    "        series_df['encoded_line'].to_numpy()\n",
    "    )"
   ]
  },
  {
   "cell_type": "code",
   "execution_count": 15,
   "id": "b7b6b1f0",
   "metadata": {},
   "outputs": [],
   "source": [
    "from numba import cuda\n",
    "\n",
    "if not from_saved_embeddings: \n",
    "    # free gpu memory\n",
    "    cuda.select_device(0)\n",
    "    cuda.close()"
   ]
  },
  {
   "cell_type": "code",
   "execution_count": 16,
   "id": "35e2d77a",
   "metadata": {},
   "outputs": [],
   "source": [
    "# read sentences dataaset\n",
    "series_df = pd.read_csv(\n",
    "    os.path.join(character_folder, character_dict[character]['classifier_df']),\n",
    "    dtype={'line': str,\n",
    "           'character': int\n",
    "          }\n",
    ")\n",
    "\n",
    "series_df['encoded_line'] = np.load(\n",
    "    os.path.join(character_folder, character_dict[character]['encoded_lines_filename']), \n",
    "    allow_pickle=True\n",
    ")"
   ]
  },
  {
   "cell_type": "code",
   "execution_count": 17,
   "id": "40409fd9",
   "metadata": {
    "scrolled": true
   },
   "outputs": [
    {
     "data": {
      "text/html": [
       "<div>\n",
       "<style scoped>\n",
       "    .dataframe tbody tr th:only-of-type {\n",
       "        vertical-align: middle;\n",
       "    }\n",
       "\n",
       "    .dataframe tbody tr th {\n",
       "        vertical-align: top;\n",
       "    }\n",
       "\n",
       "    .dataframe thead th {\n",
       "        text-align: right;\n",
       "    }\n",
       "</style>\n",
       "<table border=\"1\" class=\"dataframe\">\n",
       "  <thead>\n",
       "    <tr style=\"text-align: right;\">\n",
       "      <th></th>\n",
       "      <th>line</th>\n",
       "      <th>character</th>\n",
       "      <th>encoded_line</th>\n",
       "    </tr>\n",
       "  </thead>\n",
       "  <tbody>\n",
       "    <tr>\n",
       "      <th>0</th>\n",
       "      <td>Kids, I'm going to tell you an incredible stor...</td>\n",
       "      <td>0</td>\n",
       "      <td>[-0.0060349987, 0.3398651, -0.013500607, 0.051...</td>\n",
       "    </tr>\n",
       "    <tr>\n",
       "      <th>1</th>\n",
       "      <td>Are we being punished for something?</td>\n",
       "      <td>0</td>\n",
       "      <td>[0.24517804, 0.06231432, -0.015702646, 0.03040...</td>\n",
       "    </tr>\n",
       "    <tr>\n",
       "      <th>2</th>\n",
       "      <td>No</td>\n",
       "      <td>0</td>\n",
       "      <td>[0.010471302, 0.074272856, -0.015337698, 0.099...</td>\n",
       "    </tr>\n",
       "    <tr>\n",
       "      <th>3</th>\n",
       "      <td>Yeah, is this going to take a while?</td>\n",
       "      <td>0</td>\n",
       "      <td>[0.25085106, 0.3401538, -0.0066933706, -0.1009...</td>\n",
       "    </tr>\n",
       "    <tr>\n",
       "      <th>4</th>\n",
       "      <td>Yes.  Twenty-five years ago, before I was dad,...</td>\n",
       "      <td>0</td>\n",
       "      <td>[0.07280163, 0.24518006, -0.009924358, -0.1859...</td>\n",
       "    </tr>\n",
       "    <tr>\n",
       "      <th>...</th>\n",
       "      <td>...</td>\n",
       "      <td>...</td>\n",
       "      <td>...</td>\n",
       "    </tr>\n",
       "    <tr>\n",
       "      <th>31771</th>\n",
       "      <td>Aunt Lily wasn't wrong.</td>\n",
       "      <td>0</td>\n",
       "      <td>[0.008160515, 0.09477018, -0.01352677, 0.13088...</td>\n",
       "    </tr>\n",
       "    <tr>\n",
       "      <th>31772</th>\n",
       "      <td>00 a.m. Christmas morning, every sleepy Sunday...</td>\n",
       "      <td>0</td>\n",
       "      <td>[-0.17137574, -0.0025946363, -0.008149227, 0.0...</td>\n",
       "    </tr>\n",
       "    <tr>\n",
       "      <th>31773</th>\n",
       "      <td>T.M.</td>\n",
       "      <td>0</td>\n",
       "      <td>[-0.025203055, -0.27510342, -0.010736528, 0.03...</td>\n",
       "    </tr>\n",
       "    <tr>\n",
       "      <th>31774</th>\n",
       "      <td>T.M.</td>\n",
       "      <td>0</td>\n",
       "      <td>[-0.025203055, -0.27510342, -0.010736528, 0.03...</td>\n",
       "    </tr>\n",
       "    <tr>\n",
       "      <th>31775</th>\n",
       "      <td>To Me.</td>\n",
       "      <td>0</td>\n",
       "      <td>[-0.039488338, -0.024729759, -0.013638151, 0.0...</td>\n",
       "    </tr>\n",
       "  </tbody>\n",
       "</table>\n",
       "<p>31776 rows × 3 columns</p>\n",
       "</div>"
      ],
      "text/plain": [
       "                                                    line  character  \\\n",
       "0      Kids, I'm going to tell you an incredible stor...          0   \n",
       "1                   Are we being punished for something?          0   \n",
       "2                                                     No          0   \n",
       "3                   Yeah, is this going to take a while?          0   \n",
       "4      Yes.  Twenty-five years ago, before I was dad,...          0   \n",
       "...                                                  ...        ...   \n",
       "31771                            Aunt Lily wasn't wrong.          0   \n",
       "31772  00 a.m. Christmas morning, every sleepy Sunday...          0   \n",
       "31773                                               T.M.          0   \n",
       "31774                                               T.M.          0   \n",
       "31775                                             To Me.          0   \n",
       "\n",
       "                                            encoded_line  \n",
       "0      [-0.0060349987, 0.3398651, -0.013500607, 0.051...  \n",
       "1      [0.24517804, 0.06231432, -0.015702646, 0.03040...  \n",
       "2      [0.010471302, 0.074272856, -0.015337698, 0.099...  \n",
       "3      [0.25085106, 0.3401538, -0.0066933706, -0.1009...  \n",
       "4      [0.07280163, 0.24518006, -0.009924358, -0.1859...  \n",
       "...                                                  ...  \n",
       "31771  [0.008160515, 0.09477018, -0.01352677, 0.13088...  \n",
       "31772  [-0.17137574, -0.0025946363, -0.008149227, 0.0...  \n",
       "31773  [-0.025203055, -0.27510342, -0.010736528, 0.03...  \n",
       "31774  [-0.025203055, -0.27510342, -0.010736528, 0.03...  \n",
       "31775  [-0.039488338, -0.024729759, -0.013638151, 0.0...  \n",
       "\n",
       "[31776 rows x 3 columns]"
      ]
     },
     "execution_count": 17,
     "metadata": {},
     "output_type": "execute_result"
    }
   ],
   "source": [
    "series_df"
   ]
  },
  {
   "cell_type": "code",
   "execution_count": 18,
   "id": "fd83cccd",
   "metadata": {},
   "outputs": [
    {
     "data": {
      "text/plain": [
       "numpy.ndarray"
      ]
     },
     "execution_count": 18,
     "metadata": {},
     "output_type": "execute_result"
    }
   ],
   "source": [
    "type(series_df['encoded_line'][0])"
   ]
  },
  {
   "cell_type": "markdown",
   "id": "537e0941",
   "metadata": {},
   "source": [
    "## Create Classification Dataset"
   ]
  },
  {
   "cell_type": "code",
   "execution_count": 19,
   "id": "0c924c5f",
   "metadata": {},
   "outputs": [],
   "source": [
    "series_shuffle_df = series_df.sample(frac=1).reset_index(drop=True)"
   ]
  },
  {
   "cell_type": "code",
   "execution_count": 20,
   "id": "b9921212",
   "metadata": {},
   "outputs": [
    {
     "name": "stdout",
     "output_type": "stream",
     "text": [
      "31776 27009 3177 1590\n"
     ]
    }
   ],
   "source": [
    "tot_len = len(series_df)\n",
    "train_len = int(tot_len*train_size)\n",
    "test_len = int(tot_len*test_size)\n",
    "val_len = tot_len - train_len - test_len\n",
    "\n",
    "print(tot_len, train_len, test_len, val_len)"
   ]
  },
  {
   "cell_type": "code",
   "execution_count": 21,
   "id": "a5de4bd1",
   "metadata": {},
   "outputs": [],
   "source": [
    "X_train = np.array([[float(e) for e in s] for s in series_shuffle_df['encoded_line'][:train_len]])\n",
    "y_train = np.array([c for c in series_shuffle_df['character'][:train_len]])\n",
    "\n",
    "X_test = np.array([[float(e) for e in s] for s in series_shuffle_df['encoded_line'][:test_len]])\n",
    "y_test = np.array([c for c in series_shuffle_df['character'][:test_len]])\n",
    "\n",
    "X_val = np.array([[float(e) for e in s] for s in series_shuffle_df['encoded_line'][:val_len]])\n",
    "y_val = np.array([c for c in series_shuffle_df['character'][:val_len]])"
   ]
  },
  {
   "cell_type": "markdown",
   "id": "a77471dd",
   "metadata": {},
   "source": [
    "## Classification Model"
   ]
  },
  {
   "cell_type": "code",
   "execution_count": 22,
   "id": "c662bc05",
   "metadata": {},
   "outputs": [],
   "source": [
    "# Import keras/tensorflow libraries\n",
    "import tensorflow as tf\n",
    "from tensorflow import keras\n",
    "from tensorflow.keras import layers\n",
    "from tensorflow.keras import callbacks"
   ]
  },
  {
   "cell_type": "code",
   "execution_count": 23,
   "id": "4e1a83b2",
   "metadata": {},
   "outputs": [],
   "source": [
    "# create model\n",
    "inputs = keras.Input(shape=(len(X_train[0],)))\n",
    "x = layers.Dense(256, activation='relu')(inputs)\n",
    "x = layers.Dense(128, activation='relu')(inputs)\n",
    "out = layers.Dense(1, activation='sigmoid')(x)\n",
    "\n",
    "classifier_model = keras.Model(inputs, out)\n",
    "classifier_model.compile(\n",
    "    loss = keras.losses.BinaryCrossentropy(),\n",
    "    optimizer = keras.optimizers.Adam(learning_rate = lr),\n",
    "    metrics = ['binary_accuracy']\n",
    ")"
   ]
  },
  {
   "cell_type": "markdown",
   "id": "c6232faf",
   "metadata": {},
   "source": [
    "## Training"
   ]
  },
  {
   "cell_type": "code",
   "execution_count": 24,
   "id": "dd26417e",
   "metadata": {},
   "outputs": [],
   "source": [
    "earlystop_callback = callbacks.EarlyStopping(\n",
    "        monitor=\"val_binary_accuracy\",\n",
    "        min_delta=0,\n",
    "        patience=2,\n",
    "        verbose=0,\n",
    "        mode=\"max\",\n",
    "        baseline=None,\n",
    "        restore_best_weights=True,\n",
    "    )"
   ]
  },
  {
   "cell_type": "code",
   "execution_count": 25,
   "id": "d7b6bae4",
   "metadata": {
    "scrolled": false
   },
   "outputs": [
    {
     "name": "stdout",
     "output_type": "stream",
     "text": [
      "Epoch 1/15\n",
      "1689/1689 [==============================] - 6s 3ms/step - loss: 0.7455 - binary_accuracy: 0.2702 - val_loss: 0.6973 - val_binary_accuracy: 0.4736\n",
      "Epoch 2/15\n",
      "1689/1689 [==============================] - 7s 4ms/step - loss: 0.6602 - binary_accuracy: 0.6876 - val_loss: 0.6226 - val_binary_accuracy: 0.8151\n",
      "Epoch 3/15\n",
      "1689/1689 [==============================] - 7s 4ms/step - loss: 0.5972 - binary_accuracy: 0.8239 - val_loss: 0.5669 - val_binary_accuracy: 0.8434\n",
      "Epoch 4/15\n",
      "1689/1689 [==============================] - 7s 4ms/step - loss: 0.5510 - binary_accuracy: 0.8361 - val_loss: 0.5260 - val_binary_accuracy: 0.8459\n",
      "Epoch 5/15\n",
      "1689/1689 [==============================] - 7s 4ms/step - loss: 0.5177 - binary_accuracy: 0.8382 - val_loss: 0.4967 - val_binary_accuracy: 0.8472\n",
      "Epoch 6/15\n",
      "1689/1689 [==============================] - 7s 4ms/step - loss: 0.4943 - binary_accuracy: 0.8385 - val_loss: 0.4763 - val_binary_accuracy: 0.8472\n",
      "Epoch 7/15\n",
      "1689/1689 [==============================] - 7s 4ms/step - loss: 0.4785 - binary_accuracy: 0.8385 - val_loss: 0.4625 - val_binary_accuracy: 0.8478\n",
      "Epoch 8/15\n",
      "1689/1689 [==============================] - 7s 4ms/step - loss: 0.4680 - binary_accuracy: 0.8386 - val_loss: 0.4533 - val_binary_accuracy: 0.8478\n",
      "Epoch 9/15\n",
      "1689/1689 [==============================] - 7s 4ms/step - loss: 0.4613 - binary_accuracy: 0.8387 - val_loss: 0.4473 - val_binary_accuracy: 0.8478\n"
     ]
    }
   ],
   "source": [
    "train_history = classifier_model.fit(\n",
    "    X_train, \n",
    "    y_train,\n",
    "    validation_data = (X_val, y_val),\n",
    "    epochs= epochs,\n",
    "    verbose = 1, \n",
    "    callbacks=[earlystop_callback],\n",
    "    batch_size = batch_size\n",
    ")"
   ]
  },
  {
   "cell_type": "code",
   "execution_count": 26,
   "id": "b7f8be27",
   "metadata": {},
   "outputs": [
    {
     "name": "stdout",
     "output_type": "stream",
     "text": [
      "INFO:tensorflow:Assets written to: C:\\Users\\david\\Documents\\unibo\\natural_language_processing\\project\\BarneyBot\\Datasets\\Characters\\Barney\\barney_classifier\\assets\n"
     ]
    }
   ],
   "source": [
    "classifier_path = os.path.join(character_folder, character_dict[character]['classifier_name'])\n",
    "classifier_model.save(classifier_path)"
   ]
  }
 ],
 "metadata": {
  "kernelspec": {
   "display_name": "Python 3",
   "language": "python",
   "name": "python3"
  },
  "language_info": {
   "codemirror_mode": {
    "name": "ipython",
    "version": 3
   },
   "file_extension": ".py",
   "mimetype": "text/x-python",
   "name": "python",
   "nbconvert_exporter": "python",
   "pygments_lexer": "ipython3",
   "version": "3.8.8"
  }
 },
 "nbformat": 4,
 "nbformat_minor": 5
}
