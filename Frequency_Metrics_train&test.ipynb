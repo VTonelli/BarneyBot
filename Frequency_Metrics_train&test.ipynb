{
 "cells": [
  {
   "cell_type": "markdown",
   "metadata": {},
   "source": [
    "# Setup"
   ]
  },
  {
   "cell_type": "code",
   "execution_count": 9,
   "metadata": {},
   "outputs": [],
   "source": [
    "from Data.data_dicts import character_dict\n",
    "from Data.data_dicts import random_state\n",
    "import pandas as pd\n",
    "from tqdm import tqdm\n",
    "import re\n",
    "import numpy as np\n",
    "import matplotlib.pyplot as plt"
   ]
  },
  {
   "cell_type": "code",
   "execution_count": 4,
   "metadata": {},
   "outputs": [],
   "source": [
    "characters = list(character_dict.keys())\n",
    "characters.remove('Default')"
   ]
  },
  {
   "cell_type": "code",
   "execution_count": 5,
   "metadata": {},
   "outputs": [],
   "source": [
    "# Mount google drive, if in Colaboratory environment\n",
    "import os\n",
    "try:\n",
    "    import google.colab\n",
    "    IN_COLAB = True\n",
    "except:\n",
    "    IN_COLAB = False\n",
    "if IN_COLAB:\n",
    "    from google.colab import drive\n",
    "    drive.mount('/content/drive',force_remount=True)\n",
    "    base_folder = '/content/drive/My Drive/unibo/NLP_project/BarneyBot'\n",
    "    os.system(\"pip install datasets\")\n",
    "    os.system(\"pip install transformers\")\n",
    "    os.system(\"pip install rouge_score\")\n",
    "    os.system(\"pip install -U sentence-transformers\")\n",
    "else:\n",
    "    base_folder = os.getcwd()\n",
    "\n",
    "# Define input and output folders for chosen character\n",
    "in_folder = os.path.join(base_folder, 'Data', 'Characters')\n",
    "if not os.path.exists(in_folder):\n",
    "    os.makedirs(in_folder)"
   ]
  },
  {
   "cell_type": "code",
   "execution_count": 8,
   "metadata": {},
   "outputs": [],
   "source": [
    "from sklearn.feature_extraction.text import TfidfVectorizer\n",
    "from sklearn.model_selection import train_test_split\n",
    "import nltk\n",
    "from nltk.corpus import stopwords"
   ]
  },
  {
   "cell_type": "code",
   "execution_count": 7,
   "metadata": {},
   "outputs": [
    {
     "name": "stderr",
     "output_type": "stream",
     "text": [
      "[nltk_data] Downloading package stopwords to\n",
      "[nltk_data]     c:\\Users\\User\\anaconda3\\envs\\nlp\\lib\\nltk_data...\n",
      "[nltk_data]   Unzipping corpora\\stopwords.zip.\n"
     ]
    },
    {
     "data": {
      "text/plain": [
       "True"
      ]
     },
     "execution_count": 7,
     "metadata": {},
     "output_type": "execute_result"
    }
   ],
   "source": [
    "nltk.download('stopwords')"
   ]
  },
  {
   "cell_type": "code",
   "execution_count": 20,
   "metadata": {},
   "outputs": [],
   "source": [
    "character_docs = dict()\n",
    "for character in characters:\n",
    "    df = pd.read_csv(os.path.join(in_folder, character, f'{character}.csv'))\n",
    "    df_train, df_test = train_test_split(df, test_size=0.33, random_state=random_state)\n",
    "    character_docs[character] = {'train': df_train['response'].tolist(), \n",
    "                                 'test':  df_test['response'].tolist()}"
   ]
  },
  {
   "cell_type": "code",
   "execution_count": 21,
   "metadata": {},
   "outputs": [
    {
     "data": {
      "text/plain": [
       "(107, 53)"
      ]
     },
     "execution_count": 21,
     "metadata": {},
     "output_type": "execute_result"
    }
   ],
   "source": [
    "len(character_docs['Vader']['train']), len(character_docs['Vader']['test'])"
   ]
  },
  {
   "cell_type": "code",
   "execution_count": 22,
   "metadata": {},
   "outputs": [
    {
     "name": "stderr",
     "output_type": "stream",
     "text": [
      "100%|██████████| 8/8 [00:00<00:00, 27.12it/s]\n"
     ]
    }
   ],
   "source": [
    "for character in tqdm(characters):\n",
    "    for i in range(len(character_docs[character]['train'])):\n",
    "        character_docs[character]['train'][i] = re.sub(r'[^A-Za-z\\s]', ' ', character_docs[character]['train'][i])\n",
    "        character_docs[character]['train'][i] = re.sub(r'\\s+', ' ', character_docs[character]['train'][i])\n",
    "    for i in range(len(character_docs[character]['test'])):\n",
    "        character_docs[character]['test'][i] = re.sub(r'[^A-Za-z\\s]', ' ', character_docs[character]['test'][i])\n",
    "        character_docs[character]['test'][i] = re.sub(r'\\s+', ' ', character_docs[character]['test'][i])"
   ]
  },
  {
   "cell_type": "code",
   "execution_count": 23,
   "metadata": {},
   "outputs": [],
   "source": [
    "def filter_by_weights(wordweights, mass):\n",
    "    N = sum([v for v in wordweights.values()])\n",
    "    # N = sum(wordweights.values())\n",
    "    n = 0\n",
    "    filteredfreq = dict()\n",
    "    for key, value in sorted(wordweights.items(), key=lambda k: k[1], reverse=True):\n",
    "        n += value\n",
    "        if n / N < mass:\n",
    "            filteredfreq[key] = value\n",
    "    return filteredfreq"
   ]
  },
  {
   "cell_type": "markdown",
   "metadata": {},
   "source": [
    "# Word Frequency"
   ]
  },
  {
   "cell_type": "code",
   "execution_count": 24,
   "metadata": {},
   "outputs": [],
   "source": [
    "# def get_word_frequency(doc, f_sorted=True):\n",
    "#     wordlist = doc.lower().split()\n",
    "#     _temp = list()\n",
    "#     words = set(wordlist)\n",
    "#     # wordfreq = {w: wordlist.count(w) for w in words}\n",
    "#     wordfreq = {}\n",
    "#     for w in wordlist:\n",
    "#         wordfreq[w] = wordfreq.get(w, 0) +1\n",
    "#     orderedfreq = dict()\n",
    "#     print(\"Removing stopwords\")\n",
    "#     for k, v in tqdm(sorted(wordfreq.items(), key=lambda k: k[1], reverse=True)):\n",
    "#         if k not in stopwords.words():\n",
    "#             orderedfreq[k] = v\n",
    "#     return orderedfreq"
   ]
  },
  {
   "cell_type": "code",
   "execution_count": 25,
   "metadata": {},
   "outputs": [],
   "source": [
    "def get_word_frequency(doc, f_sorted=False):\n",
    "    wordlist = doc.lower().split()\n",
    "    _temp = list()\n",
    "    words = set(wordlist)\n",
    "    wordfreq = {w: wordlist.count(w) for w in words - set(stopwords.words())}\n",
    "    if f_sorted:\n",
    "        wordfreq = dict(sorted(wordfreq.items(), key=lambda k: k[1], reverse=True))\n",
    "    return wordfreq"
   ]
  },
  {
   "cell_type": "code",
   "execution_count": 26,
   "metadata": {},
   "outputs": [
    {
     "name": "stderr",
     "output_type": "stream",
     "text": [
      "100%|██████████| 8/8 [00:34<00:00,  4.33s/it]\n",
      "100%|██████████| 8/8 [00:12<00:00,  1.51s/it]\n"
     ]
    }
   ],
   "source": [
    "wordfreqs_train = dict()\n",
    "for character in tqdm(characters):\n",
    "    wordfreqs_train[character] = get_word_frequency(' '.join(character_docs[character]['train']), f_sorted=True)\n",
    "\n",
    "wordfreqs_test = dict()\n",
    "for character in tqdm(characters):\n",
    "    wordfreqs_test[character] = get_word_frequency(' '.join(character_docs[character]['test']), f_sorted=True)"
   ]
  },
  {
   "cell_type": "code",
   "execution_count": 27,
   "metadata": {},
   "outputs": [],
   "source": [
    "wordfreqs_reduced_train = dict()\n",
    "for character in characters:\n",
    "    wordfreqs_reduced_train[character] = filter_by_weights(wordfreqs_train[character], mass=0.3)\n",
    "\n",
    "wordfreqs_reduced_test = dict()\n",
    "for character in characters:\n",
    "    wordfreqs_reduced_test[character] = filter_by_weights(wordfreqs_test[character], mass=0.3)"
   ]
  },
  {
   "cell_type": "markdown",
   "metadata": {},
   "source": [
    "# TF-IDF"
   ]
  },
  {
   "cell_type": "code",
   "execution_count": 51,
   "metadata": {},
   "outputs": [],
   "source": [
    "tfidf_vectorizer = TfidfVectorizer(input='content', stop_words='english')\n",
    "\n",
    "def get_tfidfs(docs, characters, vectorizer):\n",
    "    tfidf_matrix = vectorizer.fit_transform(docs)\n",
    "    tfidf_df = pd.DataFrame(tfidf_matrix.toarray(), index=characters, columns=vectorizer.get_feature_names_out())\n",
    "    tfidfs = dict()\n",
    "    # for character in characters:\n",
    "    #     tfidf_char = tfidf_df.loc[character].to_dict()\n",
    "    #     tfidfs[character] = dict()\n",
    "    #     for key, value in sorted(tfidf_char.items(), key=lambda k: k[1], reverse=True):\n",
    "    #         tfidfs[character][key] = value\n",
    "\n",
    "    for i in range(len(characters)):\n",
    "        tfidf_char = tfidf_df.loc[characters[i]].to_dict()\n",
    "        tfidfs[characters[i]] = dict(sorted(tfidf_char.items(), key=lambda k: k[1], reverse=True))\n",
    "    return tfidfs"
   ]
  },
  {
   "cell_type": "code",
   "execution_count": 29,
   "metadata": {},
   "outputs": [
    {
     "name": "stderr",
     "output_type": "stream",
     "text": [
      "c:\\Users\\User\\anaconda3\\envs\\nlp\\lib\\site-packages\\sklearn\\utils\\deprecation.py:87: FutureWarning: Function get_feature_names is deprecated; get_feature_names is deprecated in 1.0 and will be removed in 1.2. Please use get_feature_names_out instead.\n",
      "  warnings.warn(msg, category=FutureWarning)\n"
     ]
    }
   ],
   "source": [
    "tfidfs = get_tfidfs([' '.join(character_docs[character]['train']) for character in characters], characters, tfidf_vectorizer)"
   ]
  },
  {
   "cell_type": "code",
   "execution_count": 31,
   "metadata": {},
   "outputs": [],
   "source": [
    "tfidfs_reduced = dict()\n",
    "for character in characters:\n",
    "    tfidfs_reduced[character] = filter_by_weights(tfidfs[character], mass=0.3)"
   ]
  },
  {
   "cell_type": "markdown",
   "metadata": {},
   "source": [
    "# WordCloud Plot"
   ]
  },
  {
   "cell_type": "code",
   "execution_count": 32,
   "metadata": {},
   "outputs": [],
   "source": [
    "from wordcloud import WordCloud\n",
    "\n",
    "def plot_word_cloud(freqdict, cmap='viridis', title=None, plot=False):\n",
    "    wordcloud = WordCloud(background_color = 'black', width = 800, height = 400,\n",
    "                      colormap = cmap, max_words = 180, contour_width = 3,\n",
    "                      max_font_size = 80, contour_color = 'steelblue',\n",
    "                      random_state = 0)\n",
    "\n",
    "    wordcloud.generate_from_frequencies(freqdict)\n",
    "    if title:\n",
    "        plt.title(title)\n",
    "    plt.imshow(wordcloud, interpolation = 'bilinear')\n",
    "    plt.axis(\"off\")\n",
    "    plt.figure()"
   ]
  },
  {
   "cell_type": "code",
   "execution_count": 33,
   "metadata": {},
   "outputs": [
    {
     "data": {
      "image/png": "[encoded data removed]",
      "text/plain": [
       "<Figure size 432x288 with 1 Axes>"
      ]
     },
     "metadata": {
      "needs_background": "light"
     },
     "output_type": "display_data"
    },
    {
     "data": {
      "text/plain": [
       "<Figure size 432x288 with 0 Axes>"
      ]
     },
     "metadata": {},
     "output_type": "display_data"
    }
   ],
   "source": [
    "plot_word_cloud(tfidfs_reduced['Barney'])"
   ]
  },
  {
   "cell_type": "markdown",
   "metadata": {},
   "source": [
    "# Frequency Pairwise Similarity"
   ]
  },
  {
   "cell_type": "code",
   "execution_count": 34,
   "metadata": {},
   "outputs": [],
   "source": [
    "from sklearn.metrics.pairwise import cosine_similarity\n",
    "\n",
    "def freq_pairwise_sim(v1, v2):\n",
    "    wordset = set(v1.keys()).union((v2.keys()))\n",
    "    v1_ord = list()\n",
    "    v2_ord = list()\n",
    "    for w in wordset:\n",
    "        v1_ord.append(v1.get(w, 0.0))\n",
    "        v2_ord.append(v2.get(w, 0.0))\n",
    "    return cosine_similarity(np.array(v1_ord).reshape(1, -1), np.array(v2_ord).reshape(1, -1))[0][0]"
   ]
  },
  {
   "cell_type": "code",
   "execution_count": 35,
   "metadata": {},
   "outputs": [
    {
     "data": {
      "text/plain": [
       "0.4133895539314938"
      ]
     },
     "execution_count": 35,
     "metadata": {},
     "output_type": "execute_result"
    }
   ],
   "source": [
    "freq_pairwise_sim(tfidfs_reduced['Fry'], tfidfs_reduced['Barney'])"
   ]
  },
  {
   "cell_type": "markdown",
   "metadata": {},
   "source": [
    "# Frequency Classifier"
   ]
  },
  {
   "cell_type": "code",
   "execution_count": 36,
   "metadata": {},
   "outputs": [],
   "source": [
    "class FrequencyChatbotClassifier:\n",
    "    def __init__(self, characters, mode):\n",
    "        self.characters = characters\n",
    "        if mode != \"word frequency\" and mode != \"tf-idf\":\n",
    "            raise Exception(\"Unknown mode!\")\n",
    "        self.mode = mode\n",
    "        self.loaded = False\n",
    "        self.model = None\n",
    "    \n",
    "    def train(self, docs):\n",
    "        self.model = None\n",
    "        self.loaded = False\n",
    "        if len(docs) != len(self.characters):\n",
    "            raise Exception(\"Mismatch between classifier classes and provided documents!\")\n",
    "        docs = [' '.join(doc) for doc in docs]\n",
    "        if self.mode == 'word frequency':\n",
    "            self.model = dict()\n",
    "            for i in range(len(self.characters)):\n",
    "                self.model[self.characters[i]] = get_word_frequency(docs[i])\n",
    "        elif self.mode == 'tf-idf':\n",
    "            self.model = {'vectorizer': TfidfVectorizer(input='content', stop_words='english'), 'docs': docs}\n",
    "        self.loaded = True\n",
    "    \n",
    "    def predict(self, doc, mass=0.5):\n",
    "        if not self.loaded:\n",
    "            raise Exception(\"Classifier must be trained first!\")\n",
    "        doc = ' '.join(doc)\n",
    "        predictions = dict()\n",
    "        if self.mode == 'word frequency':\n",
    "            v1 = filter_by_weights(get_word_frequency(doc), mass)\n",
    "        elif self.mode == 'tf-idf':\n",
    "            doc_names = self.characters.copy()\n",
    "            doc_names.append('input')\n",
    "            all_docs = self.model['docs'].copy()\n",
    "            all_docs.append(doc)\n",
    "            tfidfs = get_tfidfs(all_docs, doc_names, self.model['vectorizer'])\n",
    "            v1 = filter_by_weights(tfidfs['input'], mass)\n",
    "        for character in self.characters:\n",
    "            if self.mode == 'word frequency':\n",
    "                w = self.model[character]\n",
    "            elif self.mode == 'tf-idf':\n",
    "                w = tfidfs[character]\n",
    "            v2 = filter_by_weights(w, mass)\n",
    "            predictions[character] = freq_pairwise_sim(v1, v2)\n",
    "        return predictions"
   ]
  },
  {
   "cell_type": "code",
   "execution_count": 37,
   "metadata": {},
   "outputs": [
    {
     "name": "stdout",
     "output_type": "stream",
     "text": [
      "{'Barney': 0.924398197913977, 'Sheldon': 0.32546651420880673, 'Harry': 0.13099111331864075, 'Fry': 0.3732207207118657, 'Bender': 0.41966027330821776, 'Vader': 0.02629830019894697, 'Joey': 0.43422420815096757, 'Phoebe': 0.48552735265916197}\n"
     ]
    }
   ],
   "source": [
    "wf_classifier = FrequencyChatbotClassifier(characters, mode='word frequency')\n",
    "# wf_classifier.train(list(character_docs.values()))\n",
    "wf_classifier.train([character_docs[character]['train'] for character in characters])\n",
    "print(wf_classifier.predict(character_docs['Barney']['test'], mass=0.3))"
   ]
  },
  {
   "cell_type": "code",
   "execution_count": 38,
   "metadata": {},
   "outputs": [
    {
     "name": "stderr",
     "output_type": "stream",
     "text": [
      "c:\\Users\\User\\anaconda3\\envs\\nlp\\lib\\site-packages\\sklearn\\utils\\deprecation.py:87: FutureWarning: Function get_feature_names is deprecated; get_feature_names is deprecated in 1.0 and will be removed in 1.2. Please use get_feature_names_out instead.\n",
      "  warnings.warn(msg, category=FutureWarning)\n"
     ]
    },
    {
     "name": "stdout",
     "output_type": "stream",
     "text": [
      "{'Barney': 0.967449878872111, 'Sheldon': 0.3501828140753443, 'Harry': 0.20554585232510325, 'Fry': 0.4359148997253555, 'Bender': 0.5016651806813825, 'Vader': 0.02215530713338878, 'Joey': 0.4896204253792704, 'Phoebe': 0.5027985609278234}\n"
     ]
    }
   ],
   "source": [
    "tfidf_classifier = FrequencyChatbotClassifier(characters, mode='tf-idf')\n",
    "tfidf_classifier.train([character_docs[character]['train'] for character in characters])\n",
    "print(tfidf_classifier.predict(character_docs['Barney']['test'], mass=0.3))"
   ]
  },
  {
   "cell_type": "markdown",
   "metadata": {},
   "source": [
    "# Test performances"
   ]
  },
  {
   "cell_type": "code",
   "execution_count": 40,
   "metadata": {},
   "outputs": [],
   "source": [
    "from sklearn.metrics import confusion_matrix"
   ]
  },
  {
   "cell_type": "markdown",
   "metadata": {},
   "source": [
    "## Word Frequency"
   ]
  },
  {
   "cell_type": "code",
   "execution_count": 53,
   "metadata": {},
   "outputs": [],
   "source": [
    "wf_classifier = FrequencyChatbotClassifier(characters, mode='word frequency')\n",
    "# wf_classifier.train(list(character_docs.values()))\n",
    "wf_classifier.train([character_docs[character]['train'] for character in characters])"
   ]
  },
  {
   "cell_type": "code",
   "execution_count": 54,
   "metadata": {},
   "outputs": [],
   "source": [
    "y_true = range(0, len(characters))\n",
    "y_pred = [np.argmax(list(wf_classifier.predict(character_docs[character]['test'], mass=0.3).values())\n",
    "                    ) for character in characters]"
   ]
  },
  {
   "cell_type": "code",
   "execution_count": 55,
   "metadata": {},
   "outputs": [
    {
     "data": {
      "text/plain": [
       "array([[1, 0, 0, 0, 0, 0, 0, 0],\n",
       "       [0, 1, 0, 0, 0, 0, 0, 0],\n",
       "       [0, 0, 1, 0, 0, 0, 0, 0],\n",
       "       [0, 0, 0, 1, 0, 0, 0, 0],\n",
       "       [0, 0, 0, 0, 1, 0, 0, 0],\n",
       "       [0, 0, 0, 0, 0, 1, 0, 0],\n",
       "       [0, 0, 0, 0, 0, 0, 1, 0],\n",
       "       [0, 0, 0, 0, 0, 0, 0, 1]], dtype=int64)"
      ]
     },
     "execution_count": 55,
     "metadata": {},
     "output_type": "execute_result"
    }
   ],
   "source": [
    "confusion_matrix(y_true, y_pred)"
   ]
  },
  {
   "cell_type": "markdown",
   "metadata": {},
   "source": [
    "## TF-IDF"
   ]
  },
  {
   "cell_type": "code",
   "execution_count": 43,
   "metadata": {},
   "outputs": [],
   "source": [
    "wf_classifier = FrequencyChatbotClassifier(characters, mode='tf-idf')\n",
    "# wf_classifier.train(list(character_docs.values()))\n",
    "wf_classifier.train([character_docs[character]['train'] for character in characters])"
   ]
  },
  {
   "cell_type": "code",
   "execution_count": 52,
   "metadata": {},
   "outputs": [
    {
     "data": {
      "text/plain": [
       "[0, 1, 2, 3, 4, 5, 6, 7]"
      ]
     },
     "execution_count": 52,
     "metadata": {},
     "output_type": "execute_result"
    }
   ],
   "source": [
    "y_true = range(0, len(characters))\n",
    "y_pred = [np.argmax(list(wf_classifier.predict(character_docs[character]['test'], mass=0.3).values())\n",
    "                    ) for character in characters]"
   ]
  },
  {
   "cell_type": "code",
   "execution_count": 50,
   "metadata": {},
   "outputs": [
    {
     "data": {
      "text/plain": [
       "array([[1, 0, 0, 0, 0, 0, 0, 0],\n",
       "       [0, 1, 0, 0, 0, 0, 0, 0],\n",
       "       [0, 0, 1, 0, 0, 0, 0, 0],\n",
       "       [0, 0, 0, 1, 0, 0, 0, 0],\n",
       "       [0, 0, 0, 0, 1, 0, 0, 0],\n",
       "       [0, 0, 0, 0, 0, 1, 0, 0],\n",
       "       [0, 0, 0, 0, 0, 0, 1, 0],\n",
       "       [0, 0, 0, 0, 0, 0, 0, 1]], dtype=int64)"
      ]
     },
     "execution_count": 50,
     "metadata": {},
     "output_type": "execute_result"
    }
   ],
   "source": [
    "confusion_matrix(y_true, y_pred)"
   ]
  }
 ],
 "metadata": {
  "kernelspec": {
   "display_name": "Python 3.8.12 ('nlp')",
   "language": "python",
   "name": "python3"
  },
  "language_info": {
   "codemirror_mode": {
    "name": "ipython",
    "version": 3
   },
   "file_extension": ".py",
   "mimetype": "text/x-python",
   "name": "python",
   "nbconvert_exporter": "python",
   "pygments_lexer": "ipython3",
   "version": "3.8.12"
  },
  "vscode": {
   "interpreter": {
    "hash": "a7c5817727678c332fb9fa5aff0185fec398eda4559a601173fdef72aa27c3a2"
   }
  }
 },
 "nbformat": 4,
 "nbformat_minor": 4
}
