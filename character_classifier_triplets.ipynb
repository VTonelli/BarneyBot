{
 "cells": [
  {
   "cell_type": "code",
   "execution_count": 1,
   "id": "70fcf50e",
   "metadata": {},
   "outputs": [],
   "source": [
    "# Mount google drive\n",
    "import os\n",
    "try:\n",
    "    import google.colab\n",
    "    IN_COLAB = True\n",
    "except:\n",
    "    IN_COLAB = False\n",
    "if IN_COLAB:\n",
    "    from google.colab import drive\n",
    "    drive.mount('/content/drive',force_remount=True)\n",
    "    base_folder = '/content/drive/My Drive/unibo/NLP_project/BarneyBot'\n",
    "    os.system(\"pip install datasets\")\n",
    "    os.system(\"pip install transformers\")\n",
    "    os.system(\"pip install rouge_score\")\n",
    "    os.system(\"pip install -U sentence-transformers\")\n",
    "else:\n",
    "    base_folder = os.getcwd()\n",
    "    \n",
    "in_folder = os.path.join(base_folder, \"in\")\n",
    "if not os.path.exists(in_folder):\n",
    "    os.makedirs(in_folder)\n",
    "out_folder = os.path.join(base_folder, \"out\")\n",
    "if not os.path.exists(out_folder):\n",
    "    os.makedirs(out_folder)"
   ]
  },
  {
   "cell_type": "code",
   "execution_count": 2,
   "id": "24485b2f",
   "metadata": {},
   "outputs": [],
   "source": [
    "import torch\n",
    "import torchvision\n",
    "import torchvision.transforms as transforms\n",
    "import pandas as pd\n",
    "import numpy as np\n",
    "from tqdm import tqdm\n",
    "from matplotlib import pyplot as plt\n",
    "%matplotlib inline\n",
    "from sklearn.metrics import confusion_matrix, ConfusionMatrixDisplay"
   ]
  },
  {
   "cell_type": "code",
   "execution_count": 3,
   "id": "590d5ff2",
   "metadata": {},
   "outputs": [],
   "source": [
    "character_dict = {\n",
    "    'Barney':{\n",
    "        'classifier_name': 'barney_classifier',\n",
    "        'series_df_filename': 'HIMYM_preprocessed.csv',\n",
    "        'classifier_df': 'barney_classifier.csv',\n",
    "        'encoded_lines_filename': 'barney_encoded_lines.npy'\n",
    "    },\n",
    "    'Sheldon':{\n",
    "        'classifier_name': 'sheldon_classifier'\n",
    "    },\n",
    "    'Harry':{\n",
    "        'classifier_name': 'harry_classifier'\n",
    "    },\n",
    "    'Fry':{\n",
    "        'classifier_name': 'fry_classifier'\n",
    "    }\n",
    "             }"
   ]
  },
  {
   "cell_type": "code",
   "execution_count": 4,
   "id": "ed2f4026",
   "metadata": {},
   "outputs": [],
   "source": [
    "batch_size = 64\n",
    "epochs = 1000\n",
    "lr = 1e-6\n",
    "regularizer_weight_r = 1e-4\n",
    "regularizer_weight_s = 1e-3\n",
    "dropout_rate = 0.2\n",
    "train_size = 0.85\n",
    "test_size = 0.10\n",
    "n_shuffles = 100\n",
    "\n",
    "from_saved_embeddings = True\n",
    "\n",
    "character = 'Barney'\n",
    "\n",
    "properties = '_x100df'\n",
    "shutdown_at_end = False # 'h'"
   ]
  },
  {
   "cell_type": "code",
   "execution_count": 5,
   "id": "b12d21d4",
   "metadata": {},
   "outputs": [],
   "source": [
    "character_folder = os.path.join(base_folder, \"Data\", \"Characters\", character)\n",
    "\n",
    "model_path = os.path.join(character_folder, character_dict[character]['classifier_name'])"
   ]
  },
  {
   "cell_type": "markdown",
   "id": "32d57b85",
   "metadata": {},
   "source": [
    "# Dataset"
   ]
  },
  {
   "cell_type": "code",
   "execution_count": 6,
   "id": "6c94dba2",
   "metadata": {},
   "outputs": [],
   "source": [
    "series_df = pd.read_csv(os.path.join(character_folder, character_dict[character]['series_df_filename']))"
   ]
  },
  {
   "cell_type": "code",
   "execution_count": 7,
   "id": "50ae19e0",
   "metadata": {},
   "outputs": [
    {
     "data": {
      "text/html": [
       "<div>\n",
       "<style scoped>\n",
       "    .dataframe tbody tr th:only-of-type {\n",
       "        vertical-align: middle;\n",
       "    }\n",
       "\n",
       "    .dataframe tbody tr th {\n",
       "        vertical-align: top;\n",
       "    }\n",
       "\n",
       "    .dataframe thead th {\n",
       "        text-align: right;\n",
       "    }\n",
       "</style>\n",
       "<table border=\"1\" class=\"dataframe\">\n",
       "  <thead>\n",
       "    <tr style=\"text-align: right;\">\n",
       "      <th></th>\n",
       "      <th>episode</th>\n",
       "      <th>line</th>\n",
       "      <th>character</th>\n",
       "    </tr>\n",
       "  </thead>\n",
       "  <tbody>\n",
       "    <tr>\n",
       "      <th>14</th>\n",
       "      <td>01x01</td>\n",
       "      <td>hey, so you know how I've always had a thing f...</td>\n",
       "      <td>Barney</td>\n",
       "    </tr>\n",
       "    <tr>\n",
       "      <th>16</th>\n",
       "      <td>01x01</td>\n",
       "      <td>Okay, meet me at the bar in fifteen minutes, a...</td>\n",
       "      <td>Barney</td>\n",
       "    </tr>\n",
       "    <tr>\n",
       "      <th>18</th>\n",
       "      <td>01x01</td>\n",
       "      <td>Where's your suit!? Just once when I say suit ...</td>\n",
       "      <td>Barney</td>\n",
       "    </tr>\n",
       "    <tr>\n",
       "      <th>20</th>\n",
       "      <td>01x01</td>\n",
       "      <td>It was a blazer!</td>\n",
       "      <td>Barney</td>\n",
       "    </tr>\n",
       "    <tr>\n",
       "      <th>22</th>\n",
       "      <td>01x01</td>\n",
       "      <td>I see what this is about. Have you forgotten w...</td>\n",
       "      <td>Barney</td>\n",
       "    </tr>\n",
       "    <tr>\n",
       "      <th>...</th>\n",
       "      <td>...</td>\n",
       "      <td>...</td>\n",
       "      <td>...</td>\n",
       "    </tr>\n",
       "    <tr>\n",
       "      <th>31210</th>\n",
       "      <td>08x24</td>\n",
       "      <td>I'm probably saying some political stuff right...</td>\n",
       "      <td>Barney</td>\n",
       "    </tr>\n",
       "    <tr>\n",
       "      <th>31214</th>\n",
       "      <td>08x24</td>\n",
       "      <td>Whoa. Is there going to be a fight?</td>\n",
       "      <td>Barney</td>\n",
       "    </tr>\n",
       "    <tr>\n",
       "      <th>31449</th>\n",
       "      <td>09x10</td>\n",
       "      <td>Karate Kid bad boy Billy Zabka, a shifty-eyed ...</td>\n",
       "      <td>Barney</td>\n",
       "    </tr>\n",
       "    <tr>\n",
       "      <th>31557</th>\n",
       "      <td>09x15</td>\n",
       "      <td>me or you?</td>\n",
       "      <td>Barney</td>\n",
       "    </tr>\n",
       "    <tr>\n",
       "      <th>31635</th>\n",
       "      <td>09x19</td>\n",
       "      <td>Lovers Foreve,  i  rand Ever and Ever: A Love ...</td>\n",
       "      <td>Barney</td>\n",
       "    </tr>\n",
       "  </tbody>\n",
       "</table>\n",
       "<p>5142 rows × 3 columns</p>\n",
       "</div>"
      ],
      "text/plain": [
       "      episode                                               line character\n",
       "14      01x01  hey, so you know how I've always had a thing f...    Barney\n",
       "16      01x01  Okay, meet me at the bar in fifteen minutes, a...    Barney\n",
       "18      01x01  Where's your suit!? Just once when I say suit ...    Barney\n",
       "20      01x01                                   It was a blazer!    Barney\n",
       "22      01x01  I see what this is about. Have you forgotten w...    Barney\n",
       "...       ...                                                ...       ...\n",
       "31210   08x24  I'm probably saying some political stuff right...    Barney\n",
       "31214   08x24                Whoa. Is there going to be a fight?    Barney\n",
       "31449   09x10  Karate Kid bad boy Billy Zabka, a shifty-eyed ...    Barney\n",
       "31557   09x15                                         me or you?    Barney\n",
       "31635   09x19  Lovers Foreve,  i  rand Ever and Ever: A Love ...    Barney\n",
       "\n",
       "[5142 rows x 3 columns]"
      ]
     },
     "execution_count": 7,
     "metadata": {},
     "output_type": "execute_result"
    }
   ],
   "source": [
    "series_df[series_df['character']==character]"
   ]
  },
  {
   "cell_type": "code",
   "execution_count": 8,
   "id": "b3528a97",
   "metadata": {},
   "outputs": [],
   "source": [
    "series_df['character'] = series_df['character'].apply(lambda x: 1 if x==character else 0)"
   ]
  },
  {
   "cell_type": "code",
   "execution_count": 9,
   "id": "c5a770da",
   "metadata": {
    "scrolled": false
   },
   "outputs": [
    {
     "data": {
      "text/html": [
       "<div>\n",
       "<style scoped>\n",
       "    .dataframe tbody tr th:only-of-type {\n",
       "        vertical-align: middle;\n",
       "    }\n",
       "\n",
       "    .dataframe tbody tr th {\n",
       "        vertical-align: top;\n",
       "    }\n",
       "\n",
       "    .dataframe thead th {\n",
       "        text-align: right;\n",
       "    }\n",
       "</style>\n",
       "<table border=\"1\" class=\"dataframe\">\n",
       "  <thead>\n",
       "    <tr style=\"text-align: right;\">\n",
       "      <th></th>\n",
       "      <th>episode</th>\n",
       "      <th>line</th>\n",
       "      <th>character</th>\n",
       "    </tr>\n",
       "  </thead>\n",
       "  <tbody>\n",
       "    <tr>\n",
       "      <th>14</th>\n",
       "      <td>01x01</td>\n",
       "      <td>hey, so you know how I've always had a thing f...</td>\n",
       "      <td>1</td>\n",
       "    </tr>\n",
       "    <tr>\n",
       "      <th>16</th>\n",
       "      <td>01x01</td>\n",
       "      <td>Okay, meet me at the bar in fifteen minutes, a...</td>\n",
       "      <td>1</td>\n",
       "    </tr>\n",
       "    <tr>\n",
       "      <th>18</th>\n",
       "      <td>01x01</td>\n",
       "      <td>Where's your suit!? Just once when I say suit ...</td>\n",
       "      <td>1</td>\n",
       "    </tr>\n",
       "    <tr>\n",
       "      <th>20</th>\n",
       "      <td>01x01</td>\n",
       "      <td>It was a blazer!</td>\n",
       "      <td>1</td>\n",
       "    </tr>\n",
       "    <tr>\n",
       "      <th>22</th>\n",
       "      <td>01x01</td>\n",
       "      <td>I see what this is about. Have you forgotten w...</td>\n",
       "      <td>1</td>\n",
       "    </tr>\n",
       "    <tr>\n",
       "      <th>...</th>\n",
       "      <td>...</td>\n",
       "      <td>...</td>\n",
       "      <td>...</td>\n",
       "    </tr>\n",
       "    <tr>\n",
       "      <th>31210</th>\n",
       "      <td>08x24</td>\n",
       "      <td>I'm probably saying some political stuff right...</td>\n",
       "      <td>1</td>\n",
       "    </tr>\n",
       "    <tr>\n",
       "      <th>31214</th>\n",
       "      <td>08x24</td>\n",
       "      <td>Whoa. Is there going to be a fight?</td>\n",
       "      <td>1</td>\n",
       "    </tr>\n",
       "    <tr>\n",
       "      <th>31449</th>\n",
       "      <td>09x10</td>\n",
       "      <td>Karate Kid bad boy Billy Zabka, a shifty-eyed ...</td>\n",
       "      <td>1</td>\n",
       "    </tr>\n",
       "    <tr>\n",
       "      <th>31557</th>\n",
       "      <td>09x15</td>\n",
       "      <td>me or you?</td>\n",
       "      <td>1</td>\n",
       "    </tr>\n",
       "    <tr>\n",
       "      <th>31635</th>\n",
       "      <td>09x19</td>\n",
       "      <td>Lovers Foreve,  i  rand Ever and Ever: A Love ...</td>\n",
       "      <td>1</td>\n",
       "    </tr>\n",
       "  </tbody>\n",
       "</table>\n",
       "<p>5142 rows × 3 columns</p>\n",
       "</div>"
      ],
      "text/plain": [
       "      episode                                               line  character\n",
       "14      01x01  hey, so you know how I've always had a thing f...          1\n",
       "16      01x01  Okay, meet me at the bar in fifteen minutes, a...          1\n",
       "18      01x01  Where's your suit!? Just once when I say suit ...          1\n",
       "20      01x01                                   It was a blazer!          1\n",
       "22      01x01  I see what this is about. Have you forgotten w...          1\n",
       "...       ...                                                ...        ...\n",
       "31210   08x24  I'm probably saying some political stuff right...          1\n",
       "31214   08x24                Whoa. Is there going to be a fight?          1\n",
       "31449   09x10  Karate Kid bad boy Billy Zabka, a shifty-eyed ...          1\n",
       "31557   09x15                                         me or you?          1\n",
       "31635   09x19  Lovers Foreve,  i  rand Ever and Ever: A Love ...          1\n",
       "\n",
       "[5142 rows x 3 columns]"
      ]
     },
     "execution_count": 9,
     "metadata": {},
     "output_type": "execute_result"
    }
   ],
   "source": [
    "series_df[series_df['character']==1]"
   ]
  },
  {
   "cell_type": "code",
   "execution_count": 10,
   "id": "b2450442",
   "metadata": {},
   "outputs": [],
   "source": [
    "series_df = series_df.drop(columns=['episode'])"
   ]
  },
  {
   "cell_type": "code",
   "execution_count": 11,
   "id": "7c2be857",
   "metadata": {},
   "outputs": [],
   "source": [
    "classes = (0, 1)"
   ]
  },
  {
   "cell_type": "markdown",
   "id": "a9ebeff1",
   "metadata": {},
   "source": [
    "# Model"
   ]
  },
  {
   "cell_type": "markdown",
   "id": "b004bc73",
   "metadata": {},
   "source": [
    "## Sentence Transformer"
   ]
  },
  {
   "cell_type": "code",
   "execution_count": 12,
   "id": "b779ba24",
   "metadata": {},
   "outputs": [],
   "source": [
    "from sentence_transformers import SentenceTransformer\n",
    "\n",
    "if not from_saved_embeddings:\n",
    "    sentence_transformer = SentenceTransformer(\"sentence-transformers/paraphrase-multilingual-mpnet-base-v2\")"
   ]
  },
  {
   "cell_type": "code",
   "execution_count": 13,
   "id": "7a48bccb",
   "metadata": {
    "scrolled": true
   },
   "outputs": [],
   "source": [
    "if not from_saved_embeddings:\n",
    "    sentence_transformer"
   ]
  },
  {
   "cell_type": "markdown",
   "id": "cd6962cc",
   "metadata": {},
   "source": [
    "## Sentence Encoding"
   ]
  },
  {
   "cell_type": "code",
   "execution_count": 14,
   "id": "116298b0",
   "metadata": {},
   "outputs": [],
   "source": [
    "if not from_saved_embeddings:\n",
    "\n",
    "    series_df['encoded_line'] = [sentence_transformer.encode(line) for line in tqdm(series_df['line'])]\n",
    "\n",
    "    # save sentences dataset\n",
    "    series_df[['line', 'character']].to_csv(\n",
    "        os.path.join(character_folder, character_dict[character]['classifier_df']), \n",
    "        index = False\n",
    "    )\n",
    "\n",
    "    np.save(\n",
    "        os.path.join(character_folder, character_dict[character]['encoded_lines_filename']),\n",
    "        series_df['encoded_line'].to_numpy()\n",
    "    )"
   ]
  },
  {
   "cell_type": "code",
   "execution_count": 15,
   "id": "35e2d77a",
   "metadata": {},
   "outputs": [],
   "source": [
    "# read sentences dataaset\n",
    "series_df = pd.read_csv(\n",
    "    os.path.join(character_folder, character_dict[character]['classifier_df']),\n",
    "    dtype={'line': str,\n",
    "           'character': int\n",
    "          }\n",
    ")\n",
    "\n",
    "series_df['encoded_line'] = np.load(\n",
    "    os.path.join(character_folder, character_dict[character]['encoded_lines_filename']), \n",
    "    allow_pickle=True\n",
    ")"
   ]
  },
  {
   "cell_type": "code",
   "execution_count": 16,
   "id": "40409fd9",
   "metadata": {
    "scrolled": true
   },
   "outputs": [
    {
     "data": {
      "text/html": [
       "<div>\n",
       "<style scoped>\n",
       "    .dataframe tbody tr th:only-of-type {\n",
       "        vertical-align: middle;\n",
       "    }\n",
       "\n",
       "    .dataframe tbody tr th {\n",
       "        vertical-align: top;\n",
       "    }\n",
       "\n",
       "    .dataframe thead th {\n",
       "        text-align: right;\n",
       "    }\n",
       "</style>\n",
       "<table border=\"1\" class=\"dataframe\">\n",
       "  <thead>\n",
       "    <tr style=\"text-align: right;\">\n",
       "      <th></th>\n",
       "      <th>line</th>\n",
       "      <th>character</th>\n",
       "      <th>encoded_line</th>\n",
       "    </tr>\n",
       "  </thead>\n",
       "  <tbody>\n",
       "    <tr>\n",
       "      <th>0</th>\n",
       "      <td>Kids, I'm going to tell you an incredible stor...</td>\n",
       "      <td>0</td>\n",
       "      <td>[-0.0060349987, 0.3398651, -0.013500607, 0.051...</td>\n",
       "    </tr>\n",
       "    <tr>\n",
       "      <th>1</th>\n",
       "      <td>Are we being punished for something?</td>\n",
       "      <td>0</td>\n",
       "      <td>[0.24517804, 0.06231432, -0.015702646, 0.03040...</td>\n",
       "    </tr>\n",
       "    <tr>\n",
       "      <th>2</th>\n",
       "      <td>No</td>\n",
       "      <td>0</td>\n",
       "      <td>[0.010471302, 0.074272856, -0.015337698, 0.099...</td>\n",
       "    </tr>\n",
       "    <tr>\n",
       "      <th>3</th>\n",
       "      <td>Yeah, is this going to take a while?</td>\n",
       "      <td>0</td>\n",
       "      <td>[0.25085106, 0.3401538, -0.0066933706, -0.1009...</td>\n",
       "    </tr>\n",
       "    <tr>\n",
       "      <th>4</th>\n",
       "      <td>Yes.  Twenty-five years ago, before I was dad,...</td>\n",
       "      <td>0</td>\n",
       "      <td>[0.07280163, 0.24518006, -0.009924358, -0.1859...</td>\n",
       "    </tr>\n",
       "    <tr>\n",
       "      <th>...</th>\n",
       "      <td>...</td>\n",
       "      <td>...</td>\n",
       "      <td>...</td>\n",
       "    </tr>\n",
       "    <tr>\n",
       "      <th>31771</th>\n",
       "      <td>Aunt Lily wasn't wrong.</td>\n",
       "      <td>0</td>\n",
       "      <td>[0.008160515, 0.09477018, -0.01352677, 0.13088...</td>\n",
       "    </tr>\n",
       "    <tr>\n",
       "      <th>31772</th>\n",
       "      <td>00 a.m. Christmas morning, every sleepy Sunday...</td>\n",
       "      <td>0</td>\n",
       "      <td>[-0.17137574, -0.0025946363, -0.008149227, 0.0...</td>\n",
       "    </tr>\n",
       "    <tr>\n",
       "      <th>31773</th>\n",
       "      <td>T.M.</td>\n",
       "      <td>0</td>\n",
       "      <td>[-0.025203055, -0.27510342, -0.010736528, 0.03...</td>\n",
       "    </tr>\n",
       "    <tr>\n",
       "      <th>31774</th>\n",
       "      <td>T.M.</td>\n",
       "      <td>0</td>\n",
       "      <td>[-0.025203055, -0.27510342, -0.010736528, 0.03...</td>\n",
       "    </tr>\n",
       "    <tr>\n",
       "      <th>31775</th>\n",
       "      <td>To Me.</td>\n",
       "      <td>0</td>\n",
       "      <td>[-0.039488338, -0.024729759, -0.013638151, 0.0...</td>\n",
       "    </tr>\n",
       "  </tbody>\n",
       "</table>\n",
       "<p>31776 rows × 3 columns</p>\n",
       "</div>"
      ],
      "text/plain": [
       "                                                    line  character  \\\n",
       "0      Kids, I'm going to tell you an incredible stor...          0   \n",
       "1                   Are we being punished for something?          0   \n",
       "2                                                     No          0   \n",
       "3                   Yeah, is this going to take a while?          0   \n",
       "4      Yes.  Twenty-five years ago, before I was dad,...          0   \n",
       "...                                                  ...        ...   \n",
       "31771                            Aunt Lily wasn't wrong.          0   \n",
       "31772  00 a.m. Christmas morning, every sleepy Sunday...          0   \n",
       "31773                                               T.M.          0   \n",
       "31774                                               T.M.          0   \n",
       "31775                                             To Me.          0   \n",
       "\n",
       "                                            encoded_line  \n",
       "0      [-0.0060349987, 0.3398651, -0.013500607, 0.051...  \n",
       "1      [0.24517804, 0.06231432, -0.015702646, 0.03040...  \n",
       "2      [0.010471302, 0.074272856, -0.015337698, 0.099...  \n",
       "3      [0.25085106, 0.3401538, -0.0066933706, -0.1009...  \n",
       "4      [0.07280163, 0.24518006, -0.009924358, -0.1859...  \n",
       "...                                                  ...  \n",
       "31771  [0.008160515, 0.09477018, -0.01352677, 0.13088...  \n",
       "31772  [-0.17137574, -0.0025946363, -0.008149227, 0.0...  \n",
       "31773  [-0.025203055, -0.27510342, -0.010736528, 0.03...  \n",
       "31774  [-0.025203055, -0.27510342, -0.010736528, 0.03...  \n",
       "31775  [-0.039488338, -0.024729759, -0.013638151, 0.0...  \n",
       "\n",
       "[31776 rows x 3 columns]"
      ]
     },
     "execution_count": 16,
     "metadata": {},
     "output_type": "execute_result"
    }
   ],
   "source": [
    "series_df"
   ]
  },
  {
   "cell_type": "code",
   "execution_count": 17,
   "id": "0699392f",
   "metadata": {},
   "outputs": [],
   "source": [
    "def get_triplet_df(series_df, n_shuffles=1):\n",
    "    \n",
    "    # separate character from others\n",
    "    series_df_1 = series_df[series_df['character']==1].copy()\n",
    "    series_df_0 = series_df[series_df['character']==0].copy()\n",
    "    \n",
    "    df_rows = {'character':[], 'encoded_lines':[]}\n",
    "    \n",
    "    for _ in range(n_shuffles):\n",
    "        # shuffle dataset\n",
    "        series_df_1 = series_df_1.sample(frac=1).reset_index(drop=True)\n",
    "        series_df_0 = series_df_0.sample(n=len(series_df_1)).reset_index(drop=True)\n",
    "        \n",
    "        for i in tqdm(range(2,len(series_df_1))):\n",
    "            # character\n",
    "            lines = list(series_df_1['encoded_line'][i-2:i+1])\n",
    "            lines = np.concatenate(lines)\n",
    "            df_rows['character'].append(1)\n",
    "            df_rows['encoded_lines'].append(lines)\n",
    "\n",
    "            # other\n",
    "            lines = list(series_df_0['encoded_line'][i-2:i+1])\n",
    "            lines = np.concatenate(lines)\n",
    "            df_rows['character'].append(0)\n",
    "            df_rows['encoded_lines'].append(lines)\n",
    "\n",
    "    df = pd.DataFrame(data=df_rows)\n",
    "    \n",
    "    return df.sample(frac=1).reset_index(drop=True)"
   ]
  },
  {
   "cell_type": "code",
   "execution_count": 18,
   "id": "3f92a1fd",
   "metadata": {
    "scrolled": true
   },
   "outputs": [
    {
     "name": "stderr",
     "output_type": "stream",
     "text": [
      "100%|███████████████████████████████████████████████████████████████████████████| 5140/5140 [00:00<00:00, 14146.94it/s]\n",
      "100%|███████████████████████████████████████████████████████████████████████████| 5140/5140 [00:00<00:00, 14506.53it/s]\n",
      "100%|███████████████████████████████████████████████████████████████████████████| 5140/5140 [00:00<00:00, 14425.07it/s]\n",
      "100%|███████████████████████████████████████████████████████████████████████████| 5140/5140 [00:00<00:00, 14465.71it/s]\n",
      "100%|███████████████████████████████████████████████████████████████████████████| 5140/5140 [00:00<00:00, 14069.43it/s]\n",
      "100%|███████████████████████████████████████████████████████████████████████████| 5140/5140 [00:00<00:00, 14030.94it/s]\n",
      "100%|███████████████████████████████████████████████████████████████████████████| 5140/5140 [00:00<00:00, 13804.59it/s]\n",
      "100%|███████████████████████████████████████████████████████████████████████████| 5140/5140 [00:00<00:00, 13841.83it/s]\n",
      "100%|███████████████████████████████████████████████████████████████████████████| 5140/5140 [00:00<00:00, 13767.66it/s]\n",
      "100%|███████████████████████████████████████████████████████████████████████████| 5140/5140 [00:00<00:00, 13879.29it/s]\n",
      "100%|███████████████████████████████████████████████████████████████████████████| 5140/5140 [00:00<00:00, 13916.92it/s]\n",
      "100%|███████████████████████████████████████████████████████████████████████████| 5140/5140 [00:00<00:00, 13973.31it/s]\n",
      "100%|███████████████████████████████████████████████████████████████████████████| 5140/5140 [00:00<00:00, 13954.22it/s]\n",
      "100%|███████████████████████████████████████████████████████████████████████████| 5140/5140 [00:00<00:00, 14107.15it/s]\n",
      "100%|███████████████████████████████████████████████████████████████████████████| 5140/5140 [00:00<00:00, 13916.58it/s]\n",
      "100%|███████████████████████████████████████████████████████████████████████████| 5140/5140 [00:00<00:00, 14031.53it/s]\n",
      "100%|███████████████████████████████████████████████████████████████████████████| 5140/5140 [00:00<00:00, 14108.03it/s]\n",
      "100%|███████████████████████████████████████████████████████████████████████████| 5140/5140 [00:00<00:00, 14069.08it/s]\n",
      "100%|███████████████████████████████████████████████████████████████████████████| 5140/5140 [00:00<00:00, 14075.59it/s]\n",
      "100%|███████████████████████████████████████████████████████████████████████████| 5140/5140 [00:00<00:00, 14030.73it/s]\n",
      "100%|███████████████████████████████████████████████████████████████████████████| 5140/5140 [00:00<00:00, 14030.65it/s]\n",
      "100%|███████████████████████████████████████████████████████████████████████████| 5140/5140 [00:00<00:00, 14030.89it/s]\n",
      "100%|███████████████████████████████████████████████████████████████████████████| 5140/5140 [00:00<00:00, 13992.66it/s]\n",
      "100%|███████████████████████████████████████████████████████████████████████████| 5140/5140 [00:00<00:00, 13992.70it/s]\n",
      "100%|███████████████████████████████████████████████████████████████████████████| 5140/5140 [00:00<00:00, 13767.68it/s]\n",
      "100%|███████████████████████████████████████████████████████████████████████████| 5140/5140 [00:00<00:00, 13841.87it/s]\n",
      "100%|███████████████████████████████████████████████████████████████████████████| 5140/5140 [00:00<00:00, 13954.73it/s]\n",
      "100%|███████████████████████████████████████████████████████████████████████████| 5140/5140 [00:00<00:00, 14108.08it/s]\n",
      "100%|███████████████████████████████████████████████████████████████████████████| 5140/5140 [00:00<00:00, 13621.59it/s]\n",
      "100%|███████████████████████████████████████████████████████████████████████████| 5140/5140 [00:00<00:00, 13804.63it/s]\n",
      "100%|███████████████████████████████████████████████████████████████████████████| 5140/5140 [00:00<00:00, 13730.81it/s]\n",
      "100%|███████████████████████████████████████████████████████████████████████████| 5140/5140 [00:00<00:00, 13804.69it/s]\n",
      "100%|███████████████████████████████████████████████████████████████████████████| 5140/5140 [00:00<00:00, 13916.91it/s]\n",
      "100%|███████████████████████████████████████████████████████████████████████████| 5140/5140 [00:00<00:00, 14186.00it/s]\n",
      "100%|███████████████████████████████████████████████████████████████████████████| 5140/5140 [00:00<00:00, 13767.62it/s]\n",
      "100%|███████████████████████████████████████████████████████████████████████████| 5140/5140 [00:00<00:00, 13657.81it/s]\n",
      "100%|███████████████████████████████████████████████████████████████████████████| 5140/5140 [00:00<00:00, 13916.88it/s]\n",
      "100%|███████████████████████████████████████████████████████████████████████████| 5140/5140 [00:00<00:00, 13916.80it/s]\n",
      "100%|███████████████████████████████████████████████████████████████████████████| 5140/5140 [00:00<00:00, 13954.66it/s]\n",
      "100%|███████████████████████████████████████████████████████████████████████████| 5140/5140 [00:00<00:00, 13954.66it/s]\n",
      "100%|███████████████████████████████████████████████████████████████████████████| 5140/5140 [00:00<00:00, 13973.16it/s]\n",
      "100%|███████████████████████████████████████████████████████████████████████████| 5140/5140 [00:00<00:00, 13841.26it/s]\n",
      "100%|███████████████████████████████████████████████████████████████████████████| 5140/5140 [00:00<00:00, 13841.22it/s]\n",
      "100%|███████████████████████████████████████████████████████████████████████████| 5140/5140 [00:00<00:00, 13954.63it/s]\n",
      "100%|███████████████████████████████████████████████████████████████████████████| 5140/5140 [00:00<00:00, 14030.95it/s]\n",
      "100%|███████████████████████████████████████████████████████████████████████████| 5140/5140 [00:00<00:00, 13954.71it/s]\n",
      "100%|███████████████████████████████████████████████████████████████████████████| 5140/5140 [00:00<00:00, 14092.12it/s]\n",
      "100%|███████████████████████████████████████████████████████████████████████████| 5140/5140 [00:00<00:00, 14107.75it/s]\n",
      "100%|███████████████████████████████████████████████████████████████████████████| 5140/5140 [00:00<00:00, 13841.87it/s]\n",
      "100%|███████████████████████████████████████████████████████████████████████████| 5140/5140 [00:00<00:00, 13730.82it/s]\n",
      "100%|███████████████████████████████████████████████████████████████████████████| 5140/5140 [00:00<00:00, 13841.87it/s]\n",
      "100%|███████████████████████████████████████████████████████████████████████████| 5140/5140 [00:00<00:00, 13879.29it/s]\n",
      "100%|███████████████████████████████████████████████████████████████████████████| 5140/5140 [00:00<00:00, 13767.62it/s]\n",
      "100%|███████████████████████████████████████████████████████████████████████████| 5140/5140 [00:00<00:00, 13804.68it/s]\n",
      "100%|███████████████████████████████████████████████████████████████████████████| 5140/5140 [00:00<00:00, 13730.81it/s]\n",
      "100%|███████████████████████████████████████████████████████████████████████████| 5140/5140 [00:00<00:00, 13804.65it/s]\n",
      "100%|███████████████████████████████████████████████████████████████████████████| 5140/5140 [00:00<00:00, 13804.65it/s]\n",
      "100%|███████████████████████████████████████████████████████████████████████████| 5140/5140 [00:00<00:00, 13841.87it/s]\n",
      "100%|███████████████████████████████████████████████████████████████████████████| 5140/5140 [00:00<00:00, 13767.65it/s]\n",
      "100%|███████████████████████████████████████████████████████████████████████████| 5140/5140 [00:00<00:00, 13767.65it/s]\n",
      "100%|███████████████████████████████████████████████████████████████████████████| 5140/5140 [00:00<00:00, 13804.62it/s]\n",
      "100%|███████████████████████████████████████████████████████████████████████████| 5140/5140 [00:00<00:00, 13954.67it/s]\n",
      "100%|███████████████████████████████████████████████████████████████████████████| 5140/5140 [00:00<00:00, 14030.91it/s]\n",
      "100%|███████████████████████████████████████████████████████████████████████████| 5140/5140 [00:00<00:00, 14030.93it/s]\n",
      "100%|███████████████████████████████████████████████████████████████████████████| 5140/5140 [00:00<00:00, 14030.93it/s]\n",
      "100%|███████████████████████████████████████████████████████████████████████████| 5140/5140 [00:00<00:00, 13992.72it/s]\n",
      "100%|███████████████████████████████████████████████████████████████████████████| 5140/5140 [00:00<00:00, 13954.68it/s]\n",
      "100%|███████████████████████████████████████████████████████████████████████████| 5140/5140 [00:00<00:00, 13935.43it/s]\n"
     ]
    },
    {
     "name": "stderr",
     "output_type": "stream",
     "text": [
      "100%|███████████████████████████████████████████████████████████████████████████| 5140/5140 [00:00<00:00, 13934.38it/s]\n",
      "100%|███████████████████████████████████████████████████████████████████████████| 5140/5140 [00:00<00:00, 13992.69it/s]\n",
      "100%|███████████████████████████████████████████████████████████████████████████| 5140/5140 [00:00<00:00, 13879.24it/s]\n",
      "100%|███████████████████████████████████████████████████████████████████████████| 5140/5140 [00:00<00:00, 13992.47it/s]\n",
      "100%|███████████████████████████████████████████████████████████████████████████| 5140/5140 [00:00<00:00, 14017.83it/s]\n",
      "100%|███████████████████████████████████████████████████████████████████████████| 5140/5140 [00:00<00:00, 13730.86it/s]\n",
      "100%|███████████████████████████████████████████████████████████████████████████| 5140/5140 [00:00<00:00, 13657.82it/s]\n",
      "100%|███████████████████████████████████████████████████████████████████████████| 5140/5140 [00:00<00:00, 13694.19it/s]\n",
      "100%|███████████████████████████████████████████████████████████████████████████| 5140/5140 [00:00<00:00, 13694.24it/s]\n",
      "100%|███████████████████████████████████████████████████████████████████████████| 5140/5140 [00:00<00:00, 13657.81it/s]\n",
      "100%|███████████████████████████████████████████████████████████████████████████| 5140/5140 [00:00<00:00, 13730.80it/s]\n",
      "100%|███████████████████████████████████████████████████████████████████████████| 5140/5140 [00:00<00:00, 13804.69it/s]\n",
      "100%|███████████████████████████████████████████████████████████████████████████| 5140/5140 [00:00<00:00, 13694.23it/s]\n",
      "100%|███████████████████████████████████████████████████████████████████████████| 5140/5140 [00:00<00:00, 13549.71it/s]\n",
      "100%|███████████████████████████████████████████████████████████████████████████| 5140/5140 [00:00<00:00, 13694.22it/s]\n",
      "100%|███████████████████████████████████████████████████████████████████████████| 5140/5140 [00:00<00:00, 13585.50it/s]\n",
      "100%|███████████████████████████████████████████████████████████████████████████| 5140/5140 [00:00<00:00, 13841.85it/s]\n",
      "100%|███████████████████████████████████████████████████████████████████████████| 5140/5140 [00:00<00:00, 13804.64it/s]\n",
      "100%|███████████████████████████████████████████████████████████████████████████| 5140/5140 [00:00<00:00, 13992.72it/s]\n",
      "100%|███████████████████████████████████████████████████████████████████████████| 5140/5140 [00:00<00:00, 13954.67it/s]\n",
      "100%|███████████████████████████████████████████████████████████████████████████| 5140/5140 [00:00<00:00, 13916.86it/s]\n",
      "100%|███████████████████████████████████████████████████████████████████████████| 5140/5140 [00:00<00:00, 14030.92it/s]\n",
      "100%|███████████████████████████████████████████████████████████████████████████| 5140/5140 [00:00<00:00, 13879.28it/s]\n",
      "100%|███████████████████████████████████████████████████████████████████████████| 5140/5140 [00:00<00:00, 13916.83it/s]\n",
      "100%|███████████████████████████████████████████████████████████████████████████| 5140/5140 [00:00<00:00, 14017.47it/s]\n",
      "100%|███████████████████████████████████████████████████████████████████████████| 5140/5140 [00:00<00:00, 13967.11it/s]\n",
      "100%|███████████████████████████████████████████████████████████████████████████| 5140/5140 [00:00<00:00, 13767.64it/s]\n",
      "100%|███████████████████████████████████████████████████████████████████████████| 5140/5140 [00:00<00:00, 13916.86it/s]\n",
      "100%|███████████████████████████████████████████████████████████████████████████| 5140/5140 [00:00<00:00, 13954.30it/s]\n",
      "100%|███████████████████████████████████████████████████████████████████████████| 5140/5140 [00:00<00:00, 13902.03it/s]\n",
      "100%|███████████████████████████████████████████████████████████████████████████| 5140/5140 [00:00<00:00, 13624.85it/s]\n",
      "100%|███████████████████████████████████████████████████████████████████████████| 5140/5140 [00:00<00:00, 13730.81it/s]\n"
     ]
    }
   ],
   "source": [
    "shuffled_df = get_triplet_df(series_df, n_shuffles=n_shuffles)"
   ]
  },
  {
   "cell_type": "code",
   "execution_count": 19,
   "id": "fad744ec",
   "metadata": {},
   "outputs": [
    {
     "data": {
      "text/plain": [
       "1028000"
      ]
     },
     "execution_count": 19,
     "metadata": {},
     "output_type": "execute_result"
    }
   ],
   "source": [
    "len(shuffled_df)"
   ]
  },
  {
   "cell_type": "markdown",
   "id": "537e0941",
   "metadata": {},
   "source": [
    "## Create Classification Dataset"
   ]
  },
  {
   "cell_type": "code",
   "execution_count": 20,
   "id": "b9921212",
   "metadata": {},
   "outputs": [
    {
     "name": "stdout",
     "output_type": "stream",
     "text": [
      "1028000 873800 102800 51400\n"
     ]
    }
   ],
   "source": [
    "tot_len = len(shuffled_df)\n",
    "train_len = int(tot_len*train_size)\n",
    "test_len = int(tot_len*test_size)\n",
    "val_len = tot_len - train_len - test_len\n",
    "\n",
    "print(tot_len, train_len, test_len, val_len)"
   ]
  },
  {
   "cell_type": "code",
   "execution_count": 21,
   "id": "a5de4bd1",
   "metadata": {},
   "outputs": [
    {
     "name": "stdout",
     "output_type": "stream",
     "text": [
      "Loading training data...\n"
     ]
    },
    {
     "name": "stderr",
     "output_type": "stream",
     "text": [
      "100%|████████████████████████████████████████████████████████████████████████| 873800/873800 [12:54<00:00, 1128.65it/s]\n",
      "100%|██████████████████████████████████████████████████████████████████████| 873800/873800 [00:01<00:00, 550026.01it/s]\n"
     ]
    },
    {
     "name": "stdout",
     "output_type": "stream",
     "text": [
      "Loading test data...\n"
     ]
    },
    {
     "name": "stderr",
     "output_type": "stream",
     "text": [
      "100%|████████████████████████████████████████████████████████████████████████| 102800/102800 [01:12<00:00, 1411.92it/s]\n",
      "100%|█████████████████████████████████████████████████████████████████████| 102800/102800 [00:00<00:00, 3020825.11it/s]\n"
     ]
    },
    {
     "name": "stdout",
     "output_type": "stream",
     "text": [
      "Loading validation data...\n"
     ]
    },
    {
     "name": "stderr",
     "output_type": "stream",
     "text": [
      "100%|██████████████████████████████████████████████████████████████████████████| 51400/51400 [00:14<00:00, 3522.65it/s]\n",
      "100%|███████████████████████████████████████████████████████████████████████| 51400/51400 [00:00<00:00, 2232791.94it/s]\n"
     ]
    }
   ],
   "source": [
    "print('Loading training data...')\n",
    "X_train = np.array([[float(e) for e in s] for s in tqdm(shuffled_df['encoded_lines'][:train_len])])\n",
    "y_train = np.array([c for c in tqdm(shuffled_df['character'][:train_len])])\n",
    "\n",
    "print('Loading test data...')\n",
    "X_test = np.array([[float(e) for e in s] for s in tqdm(shuffled_df['encoded_lines'][:test_len])])\n",
    "y_test = np.array([c for c in tqdm(shuffled_df['character'][:test_len])])\n",
    "\n",
    "print('Loading validation data...')\n",
    "X_val = np.array([[float(e) for e in s] for s in tqdm(shuffled_df['encoded_lines'][:val_len])])\n",
    "y_val = np.array([c for c in tqdm(shuffled_df['character'][:val_len])])"
   ]
  },
  {
   "cell_type": "code",
   "execution_count": 22,
   "id": "bf2c1c68",
   "metadata": {},
   "outputs": [
    {
     "name": "stdout",
     "output_type": "stream",
     "text": [
      "\t0 (%)\t\t1 (%)\n",
      "train\t0.50\t\t0.50\n",
      "val\t0.50\t\t0.50\n"
     ]
    }
   ],
   "source": [
    "# compute some statistics\n",
    "train_percentage_1 = len(y_train[y_train==1])/len(y_train)\n",
    "train_percentage_0 = len(y_train[y_train==0])/len(y_train)\n",
    "\n",
    "val_percentage_1 = len(y_val[y_val==1])/len(y_val)\n",
    "val_percentage_0 = len(y_val[y_val==0])/len(y_val)\n",
    "print('\\t0 (%)\\t\\t1 (%)')\n",
    "print('train\\t{:.2f}\\t\\t{:.2f}'.format(train_percentage_0, train_percentage_1))\n",
    "print('val\\t{:.2f}\\t\\t{:.2f}'.format(val_percentage_0, val_percentage_1))"
   ]
  },
  {
   "cell_type": "markdown",
   "id": "a77471dd",
   "metadata": {},
   "source": [
    "## Classification Model"
   ]
  },
  {
   "cell_type": "code",
   "execution_count": 23,
   "id": "c662bc05",
   "metadata": {},
   "outputs": [],
   "source": [
    "# Import keras/tensorflow libraries\n",
    "import tensorflow as tf\n",
    "from tensorflow import keras\n",
    "from tensorflow.keras import layers\n",
    "from tensorflow.keras import callbacks\n",
    "from tensorflow.keras import regularizers"
   ]
  },
  {
   "cell_type": "code",
   "execution_count": 24,
   "id": "4e1a83b2",
   "metadata": {},
   "outputs": [],
   "source": [
    "# create model\n",
    "def create_model():\n",
    "    inputs = keras.Input(shape=(len(X_train[0],)))\n",
    "    \n",
    "    x = layers.Dense(\n",
    "        1024,\n",
    "        activation='relu',\n",
    "        # kernel_regularizer=regularizers.l2(regularizer_weight),\n",
    "        # bias_regularizer=regularizers.l2(regularizer_weight)\n",
    "    )(inputs)\n",
    "    x = layers.BatchNormalization()(x)\n",
    "    \n",
    "    x = layers.Dense(\n",
    "        1024,\n",
    "        activation='relu',\n",
    "        # kernel_regularizer=regularizers.l2(regularizer_weight),\n",
    "        # bias_regularizer=regularizers.l2(regularizer_weight)\n",
    "    )(x)\n",
    "    x = layers.BatchNormalization()(x)\n",
    "    \n",
    "    x = layers.Dense(\n",
    "        512, \n",
    "        activation='relu',\n",
    "        # kernel_regularizer=regularizers.l2(regularizer_weight),\n",
    "        # bias_regularizer=regularizers.l2(regularizer_weight)\n",
    "    )(x)\n",
    "    x = layers.BatchNormalization()(x)\n",
    "    \n",
    "    x = layers.Dense(\n",
    "        256, \n",
    "        activation='relu',\n",
    "        # kernel_regularizer=regularizers.l2(regularizer_weight),\n",
    "        # bias_regularizer=regularizers.l2(regularizer_weight)\n",
    "    )(x)\n",
    "    x = layers.BatchNormalization()(x)\n",
    "\n",
    "    x = layers.Dense(\n",
    "        128, \n",
    "        activation='relu',\n",
    "        kernel_regularizer=regularizers.l2(regularizer_weight_r),\n",
    "        bias_regularizer=regularizers.l2(regularizer_weight_r)\n",
    "    )(x)\n",
    "    x = layers.BatchNormalization()(x)\n",
    "    x = layers.Dropout(dropout_rate)(x)\n",
    "    out = layers.Dense(\n",
    "        1, \n",
    "        activation='sigmoid',\n",
    "        kernel_regularizer=regularizers.l2(regularizer_weight_s),\n",
    "        bias_regularizer=regularizers.l2(regularizer_weight_s)\n",
    "    )(x)\n",
    "\n",
    "\n",
    "    classifier_model = keras.Model(inputs, out)\n",
    "    classifier_model.compile(\n",
    "        loss = keras.losses.BinaryCrossentropy(),\n",
    "        optimizer = keras.optimizers.Adam(learning_rate = lr),\n",
    "        metrics = [keras.metrics.BinaryAccuracy(), keras.metrics.Recall()]\n",
    "    )\n",
    "    return classifier_model"
   ]
  },
  {
   "cell_type": "code",
   "execution_count": 25,
   "id": "893dd655",
   "metadata": {},
   "outputs": [],
   "source": [
    "classifier_model = create_model()"
   ]
  },
  {
   "cell_type": "markdown",
   "id": "c6232faf",
   "metadata": {},
   "source": [
    "## Training"
   ]
  },
  {
   "cell_type": "code",
   "execution_count": 26,
   "id": "dd26417e",
   "metadata": {},
   "outputs": [],
   "source": [
    "earlystop_callback = callbacks.EarlyStopping(\n",
    "        monitor=\"val_binary_accuracy\",\n",
    "        min_delta=0,\n",
    "        patience=6,\n",
    "        verbose=0,\n",
    "        mode=\"max\",\n",
    "        baseline=None,\n",
    "        restore_best_weights=True,\n",
    "    )"
   ]
  },
  {
   "cell_type": "code",
   "execution_count": 27,
   "id": "d7b6bae4",
   "metadata": {
    "scrolled": false
   },
   "outputs": [
    {
     "name": "stdout",
     "output_type": "stream",
     "text": [
      "Epoch 1/1000\n",
      "13654/13654 [==============================] - 220s 16ms/step - loss: 0.8207 - binary_accuracy: 0.5636 - recall: 0.5702 - val_loss: 0.7068 - val_binary_accuracy: 0.6198 - val_recall: 0.6066\n",
      "Epoch 2/1000\n",
      "13654/13654 [==============================] - 212s 16ms/step - loss: 0.7216 - binary_accuracy: 0.6238 - recall: 0.6287 - val_loss: 0.6401 - val_binary_accuracy: 0.6704 - val_recall: 0.6578\n",
      "Epoch 3/1000\n",
      "13654/13654 [==============================] - 213s 16ms/step - loss: 0.6670 - binary_accuracy: 0.6597 - recall: 0.6641 - val_loss: 0.5930 - val_binary_accuracy: 0.7049 - val_recall: 0.6936\n",
      "Epoch 4/1000\n",
      "13654/13654 [==============================] - 213s 16ms/step - loss: 0.6254 - binary_accuracy: 0.6875 - recall: 0.6915 - val_loss: 0.5542 - val_binary_accuracy: 0.7316 - val_recall: 0.7208\n",
      "Epoch 5/1000\n",
      "13654/13654 [==============================] - 212s 16ms/step - loss: 0.5901 - binary_accuracy: 0.7105 - recall: 0.7143 - val_loss: 0.5208 - val_binary_accuracy: 0.7533 - val_recall: 0.7400\n",
      "Epoch 6/1000\n",
      "13654/13654 [==============================] - 213s 16ms/step - loss: 0.5587 - binary_accuracy: 0.7315 - recall: 0.7352 - val_loss: 0.4899 - val_binary_accuracy: 0.7744 - val_recall: 0.7665\n",
      "Epoch 7/1000\n",
      "13654/13654 [==============================] - 213s 16ms/step - loss: 0.5284 - binary_accuracy: 0.7508 - recall: 0.7541 - val_loss: 0.4609 - val_binary_accuracy: 0.7921 - val_recall: 0.7854\n",
      "Epoch 8/1000\n",
      "13654/13654 [==============================] - 210s 15ms/step - loss: 0.5007 - binary_accuracy: 0.7680 - recall: 0.7717 - val_loss: 0.4327 - val_binary_accuracy: 0.8095 - val_recall: 0.8052\n",
      "Epoch 9/1000\n",
      "13654/13654 [==============================] - 211s 15ms/step - loss: 0.4736 - binary_accuracy: 0.7844 - recall: 0.7882 - val_loss: 0.4058 - val_binary_accuracy: 0.8244 - val_recall: 0.8207\n",
      "Epoch 10/1000\n",
      "13654/13654 [==============================] - 210s 15ms/step - loss: 0.4480 - binary_accuracy: 0.7996 - recall: 0.8031 - val_loss: 0.3797 - val_binary_accuracy: 0.8395 - val_recall: 0.8336\n",
      "Epoch 11/1000\n",
      "13654/13654 [==============================] - 210s 15ms/step - loss: 0.4211 - binary_accuracy: 0.8144 - recall: 0.8174 - val_loss: 0.3543 - val_binary_accuracy: 0.8535 - val_recall: 0.8504\n",
      "Epoch 12/1000\n",
      "13654/13654 [==============================] - 210s 15ms/step - loss: 0.3973 - binary_accuracy: 0.8278 - recall: 0.8310 - val_loss: 0.3299 - val_binary_accuracy: 0.8665 - val_recall: 0.8620\n",
      "Epoch 13/1000\n",
      "13654/13654 [==============================] - 210s 15ms/step - loss: 0.3737 - binary_accuracy: 0.8408 - recall: 0.8439 - val_loss: 0.3062 - val_binary_accuracy: 0.8785 - val_recall: 0.8771\n",
      "Epoch 14/1000\n",
      "13654/13654 [==============================] - 210s 15ms/step - loss: 0.3505 - binary_accuracy: 0.8529 - recall: 0.8557 - val_loss: 0.2837 - val_binary_accuracy: 0.8896 - val_recall: 0.8868\n",
      "Epoch 15/1000\n",
      "13654/13654 [==============================] - 210s 15ms/step - loss: 0.3279 - binary_accuracy: 0.8647 - recall: 0.8676 - val_loss: 0.2624 - val_binary_accuracy: 0.9003 - val_recall: 0.8979\n",
      "Epoch 16/1000\n",
      "13654/13654 [==============================] - 209s 15ms/step - loss: 0.3076 - binary_accuracy: 0.8754 - recall: 0.8781 - val_loss: 0.2425 - val_binary_accuracy: 0.9093 - val_recall: 0.9073\n",
      "Epoch 17/1000\n",
      "13654/13654 [==============================] - 211s 15ms/step - loss: 0.2873 - binary_accuracy: 0.8853 - recall: 0.8878 - val_loss: 0.2242 - val_binary_accuracy: 0.9184 - val_recall: 0.9111\n",
      "Epoch 18/1000\n",
      "13654/13654 [==============================] - 210s 15ms/step - loss: 0.2686 - binary_accuracy: 0.8941 - recall: 0.8964 - val_loss: 0.2058 - val_binary_accuracy: 0.9269 - val_recall: 0.9261\n",
      "Epoch 19/1000\n",
      "13654/13654 [==============================] - 211s 15ms/step - loss: 0.2513 - binary_accuracy: 0.9027 - recall: 0.9049 - val_loss: 0.1892 - val_binary_accuracy: 0.9342 - val_recall: 0.9346\n",
      "Epoch 20/1000\n",
      "13654/13654 [==============================] - 211s 15ms/step - loss: 0.2347 - binary_accuracy: 0.9101 - recall: 0.9121 - val_loss: 0.1744 - val_binary_accuracy: 0.9408 - val_recall: 0.9365\n",
      "Epoch 21/1000\n",
      "13654/13654 [==============================] - 210s 15ms/step - loss: 0.2205 - binary_accuracy: 0.9165 - recall: 0.9186 - val_loss: 0.1601 - val_binary_accuracy: 0.9475 - val_recall: 0.9448\n",
      "Epoch 22/1000\n",
      "13654/13654 [==============================] - 210s 15ms/step - loss: 0.2050 - binary_accuracy: 0.9237 - recall: 0.9257 - val_loss: 0.1465 - val_binary_accuracy: 0.9531 - val_recall: 0.9500\n",
      "Epoch 23/1000\n",
      "13654/13654 [==============================] - 211s 15ms/step - loss: 0.1922 - binary_accuracy: 0.9294 - recall: 0.9312 - val_loss: 0.1344 - val_binary_accuracy: 0.9579 - val_recall: 0.9585\n",
      "Epoch 24/1000\n",
      "13654/13654 [==============================] - 212s 16ms/step - loss: 0.1791 - binary_accuracy: 0.9354 - recall: 0.9370 - val_loss: 0.1232 - val_binary_accuracy: 0.9639 - val_recall: 0.9633\n",
      "Epoch 25/1000\n",
      "13654/13654 [==============================] - 210s 15ms/step - loss: 0.1681 - binary_accuracy: 0.9401 - recall: 0.9413 - val_loss: 0.1128 - val_binary_accuracy: 0.9680 - val_recall: 0.9671\n",
      "Epoch 26/1000\n",
      "13654/13654 [==============================] - 212s 16ms/step - loss: 0.1573 - binary_accuracy: 0.9449 - recall: 0.9465 - val_loss: 0.1035 - val_binary_accuracy: 0.9716 - val_recall: 0.9704\n",
      "Epoch 27/1000\n",
      "13654/13654 [==============================] - 212s 16ms/step - loss: 0.1472 - binary_accuracy: 0.9492 - recall: 0.9505 - val_loss: 0.0948 - val_binary_accuracy: 0.9757 - val_recall: 0.9746\n",
      "Epoch 28/1000\n",
      "13654/13654 [==============================] - 212s 16ms/step - loss: 0.1384 - binary_accuracy: 0.9529 - recall: 0.9540 - val_loss: 0.0863 - val_binary_accuracy: 0.9787 - val_recall: 0.9789\n",
      "Epoch 29/1000\n",
      "13654/13654 [==============================] - 212s 16ms/step - loss: 0.1292 - binary_accuracy: 0.9568 - recall: 0.9579 - val_loss: 0.0792 - val_binary_accuracy: 0.9815 - val_recall: 0.9802\n",
      "Epoch 30/1000\n",
      "13654/13654 [==============================] - 211s 15ms/step - loss: 0.1216 - binary_accuracy: 0.9599 - recall: 0.9610 - val_loss: 0.0724 - val_binary_accuracy: 0.9839 - val_recall: 0.9829\n",
      "Epoch 31/1000\n",
      "13654/13654 [==============================] - 212s 16ms/step - loss: 0.1145 - binary_accuracy: 0.9630 - recall: 0.9640 - val_loss: 0.0668 - val_binary_accuracy: 0.9863 - val_recall: 0.9855\n",
      "Epoch 32/1000\n",
      "13654/13654 [==============================] - 212s 15ms/step - loss: 0.1073 - binary_accuracy: 0.9657 - recall: 0.9666 - val_loss: 0.0614 - val_binary_accuracy: 0.9887 - val_recall: 0.9875\n",
      "Epoch 33/1000\n",
      "13654/13654 [==============================] - 210s 15ms/step - loss: 0.1006 - binary_accuracy: 0.9686 - recall: 0.9695 - val_loss: 0.0562 - val_binary_accuracy: 0.9903 - val_recall: 0.9910\n",
      "Epoch 34/1000\n",
      "13654/13654 [==============================] - 193s 14ms/step - loss: 0.0952 - binary_accuracy: 0.9707 - recall: 0.9714 - val_loss: 0.0518 - val_binary_accuracy: 0.9919 - val_recall: 0.9922\n",
      "Epoch 35/1000\n",
      "13654/13654 [==============================] - 208s 15ms/step - loss: 0.0897 - binary_accuracy: 0.9731 - recall: 0.9738 - val_loss: 0.0476 - val_binary_accuracy: 0.9931 - val_recall: 0.9935\n",
      "Epoch 36/1000\n",
      "13654/13654 [==============================] - 210s 15ms/step - loss: 0.0845 - binary_accuracy: 0.9751 - recall: 0.9758 - val_loss: 0.0440 - val_binary_accuracy: 0.9942 - val_recall: 0.9947\n",
      "Epoch 37/1000\n",
      "13654/13654 [==============================] - 211s 15ms/step - loss: 0.0799 - binary_accuracy: 0.9769 - recall: 0.9774 - val_loss: 0.0412 - val_binary_accuracy: 0.9953 - val_recall: 0.9942\n",
      "Epoch 38/1000\n",
      "13654/13654 [==============================] - 208s 15ms/step - loss: 0.0756 - binary_accuracy: 0.9785 - recall: 0.9792 - val_loss: 0.0379 - val_binary_accuracy: 0.9962 - val_recall: 0.9959\n",
      "Epoch 39/1000\n",
      "13654/13654 [==============================] - 203s 15ms/step - loss: 0.0721 - binary_accuracy: 0.9801 - recall: 0.9805 - val_loss: 0.0360 - val_binary_accuracy: 0.9967 - val_recall: 0.9960\n",
      "Epoch 40/1000\n",
      "13654/13654 [==============================] - 198s 14ms/step - loss: 0.0679 - binary_accuracy: 0.9816 - recall: 0.9821 - val_loss: 0.0332 - val_binary_accuracy: 0.9974 - val_recall: 0.9970\n",
      "Epoch 41/1000\n"
     ]
    },
    {
     "name": "stdout",
     "output_type": "stream",
     "text": [
      "13654/13654 [==============================] - 201s 15ms/step - loss: 0.0649 - binary_accuracy: 0.9828 - recall: 0.9834 - val_loss: 0.0313 - val_binary_accuracy: 0.9979 - val_recall: 0.9979\n",
      "Epoch 42/1000\n",
      "13654/13654 [==============================] - 210s 15ms/step - loss: 0.0620 - binary_accuracy: 0.9839 - recall: 0.9843 - val_loss: 0.0294 - val_binary_accuracy: 0.9985 - val_recall: 0.9988\n",
      "Epoch 43/1000\n",
      "13654/13654 [==============================] - 211s 15ms/step - loss: 0.0592 - binary_accuracy: 0.9850 - recall: 0.9855 - val_loss: 0.0281 - val_binary_accuracy: 0.9987 - val_recall: 0.9990\n",
      "Epoch 44/1000\n",
      "13654/13654 [==============================] - 213s 16ms/step - loss: 0.0564 - binary_accuracy: 0.9861 - recall: 0.9866 - val_loss: 0.0267 - val_binary_accuracy: 0.9992 - val_recall: 0.9993\n",
      "Epoch 45/1000\n",
      "13654/13654 [==============================] - 212s 16ms/step - loss: 0.0544 - binary_accuracy: 0.9869 - recall: 0.9873 - val_loss: 0.0255 - val_binary_accuracy: 0.9994 - val_recall: 0.9993\n",
      "Epoch 46/1000\n",
      "13654/13654 [==============================] - 213s 16ms/step - loss: 0.0516 - binary_accuracy: 0.9879 - recall: 0.9881 - val_loss: 0.0243 - val_binary_accuracy: 0.9995 - val_recall: 0.9995\n",
      "Epoch 47/1000\n",
      "13654/13654 [==============================] - 210s 15ms/step - loss: 0.0498 - binary_accuracy: 0.9886 - recall: 0.9888 - val_loss: 0.0233 - val_binary_accuracy: 0.9997 - val_recall: 0.9997\n",
      "Epoch 48/1000\n",
      "13654/13654 [==============================] - 210s 15ms/step - loss: 0.0477 - binary_accuracy: 0.9895 - recall: 0.9898 - val_loss: 0.0226 - val_binary_accuracy: 0.9997 - val_recall: 0.9996\n",
      "Epoch 49/1000\n",
      "13654/13654 [==============================] - 213s 16ms/step - loss: 0.0462 - binary_accuracy: 0.9898 - recall: 0.9901 - val_loss: 0.0219 - val_binary_accuracy: 0.9998 - val_recall: 0.9998\n",
      "Epoch 50/1000\n",
      "13654/13654 [==============================] - 212s 16ms/step - loss: 0.0441 - binary_accuracy: 0.9907 - recall: 0.9908 - val_loss: 0.0214 - val_binary_accuracy: 0.9998 - val_recall: 0.9998\n",
      "Epoch 51/1000\n",
      "13654/13654 [==============================] - 211s 15ms/step - loss: 0.0431 - binary_accuracy: 0.9910 - recall: 0.9912 - val_loss: 0.0209 - val_binary_accuracy: 0.9999 - val_recall: 0.9999\n",
      "Epoch 52/1000\n",
      "13654/13654 [==============================] - 208s 15ms/step - loss: 0.0413 - binary_accuracy: 0.9917 - recall: 0.9918 - val_loss: 0.0205 - val_binary_accuracy: 0.9999 - val_recall: 0.9999\n",
      "Epoch 53/1000\n",
      "13654/13654 [==============================] - 205s 15ms/step - loss: 0.0402 - binary_accuracy: 0.9920 - recall: 0.9921 - val_loss: 0.0198 - val_binary_accuracy: 0.9999 - val_recall: 0.9999\n",
      "Epoch 54/1000\n",
      "13654/13654 [==============================] - 209s 15ms/step - loss: 0.0386 - binary_accuracy: 0.9926 - recall: 0.9928 - val_loss: 0.0194 - val_binary_accuracy: 1.0000 - val_recall: 1.0000\n",
      "Epoch 55/1000\n",
      "13654/13654 [==============================] - 211s 15ms/step - loss: 0.0378 - binary_accuracy: 0.9929 - recall: 0.9929 - val_loss: 0.0191 - val_binary_accuracy: 1.0000 - val_recall: 1.0000\n",
      "Epoch 56/1000\n",
      "13654/13654 [==============================] - 209s 15ms/step - loss: 0.0369 - binary_accuracy: 0.9932 - recall: 0.9934 - val_loss: 0.0188 - val_binary_accuracy: 1.0000 - val_recall: 1.0000\n",
      "Epoch 57/1000\n",
      "13654/13654 [==============================] - 211s 15ms/step - loss: 0.0360 - binary_accuracy: 0.9935 - recall: 0.9936 - val_loss: 0.0185 - val_binary_accuracy: 1.0000 - val_recall: 1.0000\n",
      "Epoch 58/1000\n",
      "13654/13654 [==============================] - 210s 15ms/step - loss: 0.0351 - binary_accuracy: 0.9938 - recall: 0.9939 - val_loss: 0.0184 - val_binary_accuracy: 1.0000 - val_recall: 1.0000\n",
      "Epoch 59/1000\n",
      "13654/13654 [==============================] - 208s 15ms/step - loss: 0.0340 - binary_accuracy: 0.9942 - recall: 0.9944 - val_loss: 0.0181 - val_binary_accuracy: 1.0000 - val_recall: 1.0000\n",
      "Epoch 60/1000\n",
      "13654/13654 [==============================] - 270s 20ms/step - loss: 0.0334 - binary_accuracy: 0.9945 - recall: 0.9946 - val_loss: 0.0179 - val_binary_accuracy: 1.0000 - val_recall: 1.0000\n",
      "Epoch 61/1000\n",
      "13654/13654 [==============================] - 257s 19ms/step - loss: 0.0328 - binary_accuracy: 0.9946 - recall: 0.9946 - val_loss: 0.0176 - val_binary_accuracy: 1.0000 - val_recall: 1.0000\n",
      "Epoch 62/1000\n",
      "13654/13654 [==============================] - 259s 19ms/step - loss: 0.0317 - binary_accuracy: 0.9949 - recall: 0.9950 - val_loss: 0.0175 - val_binary_accuracy: 1.0000 - val_recall: 1.0000\n",
      "Epoch 63/1000\n",
      "13654/13654 [==============================] - 271s 20ms/step - loss: 0.0314 - binary_accuracy: 0.9950 - recall: 0.9951 - val_loss: 0.0173 - val_binary_accuracy: 1.0000 - val_recall: 1.0000\n",
      "Epoch 64/1000\n",
      "13654/13654 [==============================] - 267s 20ms/step - loss: 0.0308 - binary_accuracy: 0.9953 - recall: 0.9952 - val_loss: 0.0171 - val_binary_accuracy: 1.0000 - val_recall: 1.0000\n",
      "Epoch 65/1000\n",
      "13654/13654 [==============================] - 249s 18ms/step - loss: 0.0299 - binary_accuracy: 0.9955 - recall: 0.9956 - val_loss: 0.0170 - val_binary_accuracy: 1.0000 - val_recall: 1.0000\n",
      "Epoch 66/1000\n",
      "13654/13654 [==============================] - 265s 19ms/step - loss: 0.0295 - binary_accuracy: 0.9956 - recall: 0.9957 - val_loss: 0.0169 - val_binary_accuracy: 1.0000 - val_recall: 1.0000\n"
     ]
    }
   ],
   "source": [
    "train_history = classifier_model.fit(\n",
    "    X_train, \n",
    "    y_train,\n",
    "    validation_data = (X_val, y_val),\n",
    "    epochs= epochs,\n",
    "    verbose = 1, \n",
    "    callbacks=[earlystop_callback],\n",
    "    batch_size = batch_size\n",
    ")"
   ]
  },
  {
   "cell_type": "code",
   "execution_count": 28,
   "id": "eed25deb",
   "metadata": {
    "scrolled": true
   },
   "outputs": [
    {
     "name": "stdout",
     "output_type": "stream",
     "text": [
      "######################### Model Test #########################\n"
     ]
    },
    {
     "data": {
      "image/png": "[encoded data removed]",
      "text/plain": [
       "<Figure size 360x360 with 2 Axes>"
      ]
     },
     "metadata": {
      "needs_background": "light"
     },
     "output_type": "display_data"
    }
   ],
   "source": [
    "print('#'*25 + ' Model Test ' + '#'*25)\n",
    "fig, ax=plt.subplots(1,1,figsize=(5,5))\n",
    "y_pred = classifier_model.predict(X_test).round()\n",
    "# Plot the confusion matrix normalizing over the true values (over the rows)\n",
    "cm = confusion_matrix(y_test, y_pred) #, normalize='pred')\n",
    "disp = ConfusionMatrixDisplay(confusion_matrix=cm, display_labels=['Others', character])\n",
    "disp.plot(ax=ax)\n",
    "plt.show()"
   ]
  },
  {
   "cell_type": "code",
   "execution_count": 29,
   "id": "b7f8be27",
   "metadata": {},
   "outputs": [
    {
     "name": "stdout",
     "output_type": "stream",
     "text": [
      "INFO:tensorflow:Assets written to: C:\\Users\\david\\Documents\\unibo\\natural_language_processing\\project\\BarneyBot\\Data\\Characters\\Barney\\barney_classifier_x100df\\assets\n"
     ]
    }
   ],
   "source": [
    "classifier_path = os.path.join(character_folder, character_dict[character]['classifier_name']+properties)\n",
    "classifier_model.save(classifier_path)"
   ]
  },
  {
   "cell_type": "code",
   "execution_count": 30,
   "id": "028c1c3c",
   "metadata": {},
   "outputs": [],
   "source": [
    "# Save history as a JSON file\n",
    "import json\n",
    "filename = character.lower() + '_training_history' + properties + '.json'\n",
    "\n",
    "output_string = json.dumps(train_history.history)\n",
    "with open(os.path.join(character_folder, filename), 'w') as file:\n",
    "    file.write(output_string)"
   ]
  },
  {
   "cell_type": "code",
   "execution_count": 31,
   "id": "6e80b85f",
   "metadata": {},
   "outputs": [],
   "source": [
    "if shutdown_at_end:\n",
    "    os.system('shutdown /' + shutdown_at_end)"
   ]
  }
 ],
 "metadata": {
  "kernelspec": {
   "display_name": "Python 3",
   "language": "python",
   "name": "python3"
  },
  "language_info": {
   "codemirror_mode": {
    "name": "ipython",
    "version": 3
   },
   "file_extension": ".py",
   "mimetype": "text/x-python",
   "name": "python",
   "nbconvert_exporter": "python",
   "pygments_lexer": "ipython3",
   "version": "3.8.8"
  }
 },
 "nbformat": 4,
 "nbformat_minor": 5
}
