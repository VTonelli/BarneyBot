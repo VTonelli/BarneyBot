{
 "cells": [
  {
   "cell_type": "code",
   "execution_count": 1,
   "metadata": {},
   "outputs": [],
   "source": [
    "# Mount google drive\n",
    "import os\n",
    "try:\n",
    "    import google.colab\n",
    "    IN_COLAB = True\n",
    "except:\n",
    "    IN_COLAB = False\n",
    "if IN_COLAB:\n",
    "    from google.colab import drive\n",
    "    drive.mount('/content/drive',force_remount=True)\n",
    "    base_folder = '/content/drive/My Drive/unibo/NLP_project/BarneyBot'\n",
    "    os.system(\"pip install datasets\")\n",
    "    os.system(\"pip install transformers\")\n",
    "    os.system(\"pip install rouge_score\")\n",
    "    os.system(\"pip install -U sentence-transformers\")\n",
    "else:\n",
    "    base_folder = os.getcwd()\n",
    "    \n",
    "in_folder = os.path.join(base_folder, \"in\")\n",
    "if not os.path.exists(in_folder):\n",
    "    os.makedirs(in_folder)\n",
    "out_folder = os.path.join(base_folder, \"out\")\n",
    "if not os.path.exists(out_folder):\n",
    "    os.makedirs(out_folder)"
   ]
  },
  {
   "cell_type": "code",
   "execution_count": 2,
   "metadata": {},
   "outputs": [],
   "source": [
    "import torch\n",
    "import torchvision\n",
    "import torchvision.transforms as transforms\n",
    "import pandas as pd\n",
    "import numpy as np\n",
    "from tqdm import tqdm\n",
    "from matplotlib import pyplot as plt\n",
    "%matplotlib inline\n",
    "from sklearn.metrics import confusion_matrix, ConfusionMatrixDisplay\n",
    "from sklearn.model_selection import train_test_split"
   ]
  },
  {
   "cell_type": "code",
   "execution_count": 4,
   "metadata": {},
   "outputs": [],
   "source": [
    "from Data.data_dicts import character_dict, source_dict, random_state\n",
    "\n",
    "batch_size = 16\n",
    "epochs = 1000\n",
    "lr = 1e-6\n",
    "regularizer_weight_r = 1e-4\n",
    "regularizer_weight_s = 1e-3\n",
    "dropout_rate = 0.2\n",
    "train_size = 0.85\n",
    "test_size = 0.10\n",
    "n_shuffles = 5\n",
    "\n",
    "from_saved_embeddings = True\n",
    "\n",
    "character = 'Barney'\n",
    "\n",
    "version = ''\n",
    "shutdown_at_end = False # 'h'"
   ]
  },
  {
   "cell_type": "code",
   "execution_count": 5,
   "metadata": {},
   "outputs": [],
   "source": [
    "source_folder = os.path.join(base_folder, \"Data\", \"Sources\", character_dict[character]['source'])\n",
    "character_folder = os.path.join(base_folder, \"Data\", \"Characters\", character)\n",
    "\n",
    "model_path = os.path.join(character_folder, character_dict[character]['classifier_name'])"
   ]
  },
  {
   "cell_type": "markdown",
   "metadata": {},
   "source": [
    "# Dataset"
   ]
  },
  {
   "cell_type": "code",
   "execution_count": 6,
   "metadata": {},
   "outputs": [],
   "source": [
    "series_df = pd.read_csv(os.path.join(source_folder, character_dict[character]['series_df_filename']))"
   ]
  },
  {
   "cell_type": "code",
   "execution_count": 7,
   "metadata": {},
   "outputs": [
    {
     "data": {
      "text/html": [
       "<div>\n",
       "<style scoped>\n",
       "    .dataframe tbody tr th:only-of-type {\n",
       "        vertical-align: middle;\n",
       "    }\n",
       "\n",
       "    .dataframe tbody tr th {\n",
       "        vertical-align: top;\n",
       "    }\n",
       "\n",
       "    .dataframe thead th {\n",
       "        text-align: right;\n",
       "    }\n",
       "</style>\n",
       "<table border=\"1\" class=\"dataframe\">\n",
       "  <thead>\n",
       "    <tr style=\"text-align: right;\">\n",
       "      <th></th>\n",
       "      <th>source</th>\n",
       "      <th>line</th>\n",
       "      <th>character</th>\n",
       "    </tr>\n",
       "  </thead>\n",
       "  <tbody>\n",
       "    <tr>\n",
       "      <th>14</th>\n",
       "      <td>01x01</td>\n",
       "      <td>hey, so you know how I've always had a thing f...</td>\n",
       "      <td>Barney</td>\n",
       "    </tr>\n",
       "    <tr>\n",
       "      <th>16</th>\n",
       "      <td>01x01</td>\n",
       "      <td>Okay, meet me at the bar in fifteen minutes, a...</td>\n",
       "      <td>Barney</td>\n",
       "    </tr>\n",
       "    <tr>\n",
       "      <th>18</th>\n",
       "      <td>01x01</td>\n",
       "      <td>Where's your suit!? Just once when I say suit ...</td>\n",
       "      <td>Barney</td>\n",
       "    </tr>\n",
       "    <tr>\n",
       "      <th>20</th>\n",
       "      <td>01x01</td>\n",
       "      <td>It was a blazer!</td>\n",
       "      <td>Barney</td>\n",
       "    </tr>\n",
       "    <tr>\n",
       "      <th>22</th>\n",
       "      <td>01x01</td>\n",
       "      <td>I see what this is about. Have you forgotten w...</td>\n",
       "      <td>Barney</td>\n",
       "    </tr>\n",
       "    <tr>\n",
       "      <th>...</th>\n",
       "      <td>...</td>\n",
       "      <td>...</td>\n",
       "      <td>...</td>\n",
       "    </tr>\n",
       "    <tr>\n",
       "      <th>31746</th>\n",
       "      <td>09x24</td>\n",
       "      <td>Oh, my scrotum!</td>\n",
       "      <td>Barney</td>\n",
       "    </tr>\n",
       "    <tr>\n",
       "      <th>31755</th>\n",
       "      <td>09x24</td>\n",
       "      <td>Um, yes, it is. Um, no, it's not.</td>\n",
       "      <td>Barney</td>\n",
       "    </tr>\n",
       "    <tr>\n",
       "      <th>31759</th>\n",
       "      <td>09x24</td>\n",
       "      <td>You're staying.</td>\n",
       "      <td>Barney</td>\n",
       "    </tr>\n",
       "    <tr>\n",
       "      <th>31761</th>\n",
       "      <td>09x24</td>\n",
       "      <td>Aw!</td>\n",
       "      <td>Barney</td>\n",
       "    </tr>\n",
       "    <tr>\n",
       "      <th>31763</th>\n",
       "      <td>09x24</td>\n",
       "      <td>Well, recently, I decided to attempt... a perf...</td>\n",
       "      <td>Barney</td>\n",
       "    </tr>\n",
       "  </tbody>\n",
       "</table>\n",
       "<p>5194 rows × 3 columns</p>\n",
       "</div>"
      ],
      "text/plain": [
       "      source                                               line character\n",
       "14     01x01  hey, so you know how I've always had a thing f...    Barney\n",
       "16     01x01  Okay, meet me at the bar in fifteen minutes, a...    Barney\n",
       "18     01x01  Where's your suit!? Just once when I say suit ...    Barney\n",
       "20     01x01                                   It was a blazer!    Barney\n",
       "22     01x01  I see what this is about. Have you forgotten w...    Barney\n",
       "...      ...                                                ...       ...\n",
       "31746  09x24                                    Oh, my scrotum!    Barney\n",
       "31755  09x24                  Um, yes, it is. Um, no, it's not.    Barney\n",
       "31759  09x24                                    You're staying.    Barney\n",
       "31761  09x24                                                Aw!    Barney\n",
       "31763  09x24  Well, recently, I decided to attempt... a perf...    Barney\n",
       "\n",
       "[5194 rows x 3 columns]"
      ]
     },
     "execution_count": 7,
     "metadata": {},
     "output_type": "execute_result"
    }
   ],
   "source": [
    "series_df[series_df['character']==character]"
   ]
  },
  {
   "cell_type": "code",
   "execution_count": 8,
   "metadata": {},
   "outputs": [],
   "source": [
    "series_df['character'] = series_df['character'].apply(lambda x: 1 if x==character else 0)"
   ]
  },
  {
   "cell_type": "code",
   "execution_count": 9,
   "metadata": {
    "scrolled": false
   },
   "outputs": [
    {
     "data": {
      "text/html": [
       "<div>\n",
       "<style scoped>\n",
       "    .dataframe tbody tr th:only-of-type {\n",
       "        vertical-align: middle;\n",
       "    }\n",
       "\n",
       "    .dataframe tbody tr th {\n",
       "        vertical-align: top;\n",
       "    }\n",
       "\n",
       "    .dataframe thead th {\n",
       "        text-align: right;\n",
       "    }\n",
       "</style>\n",
       "<table border=\"1\" class=\"dataframe\">\n",
       "  <thead>\n",
       "    <tr style=\"text-align: right;\">\n",
       "      <th></th>\n",
       "      <th>source</th>\n",
       "      <th>line</th>\n",
       "      <th>character</th>\n",
       "    </tr>\n",
       "  </thead>\n",
       "  <tbody>\n",
       "    <tr>\n",
       "      <th>14</th>\n",
       "      <td>01x01</td>\n",
       "      <td>hey, so you know how I've always had a thing f...</td>\n",
       "      <td>1</td>\n",
       "    </tr>\n",
       "    <tr>\n",
       "      <th>16</th>\n",
       "      <td>01x01</td>\n",
       "      <td>Okay, meet me at the bar in fifteen minutes, a...</td>\n",
       "      <td>1</td>\n",
       "    </tr>\n",
       "    <tr>\n",
       "      <th>18</th>\n",
       "      <td>01x01</td>\n",
       "      <td>Where's your suit!? Just once when I say suit ...</td>\n",
       "      <td>1</td>\n",
       "    </tr>\n",
       "    <tr>\n",
       "      <th>20</th>\n",
       "      <td>01x01</td>\n",
       "      <td>It was a blazer!</td>\n",
       "      <td>1</td>\n",
       "    </tr>\n",
       "    <tr>\n",
       "      <th>22</th>\n",
       "      <td>01x01</td>\n",
       "      <td>I see what this is about. Have you forgotten w...</td>\n",
       "      <td>1</td>\n",
       "    </tr>\n",
       "    <tr>\n",
       "      <th>...</th>\n",
       "      <td>...</td>\n",
       "      <td>...</td>\n",
       "      <td>...</td>\n",
       "    </tr>\n",
       "    <tr>\n",
       "      <th>31746</th>\n",
       "      <td>09x24</td>\n",
       "      <td>Oh, my scrotum!</td>\n",
       "      <td>1</td>\n",
       "    </tr>\n",
       "    <tr>\n",
       "      <th>31755</th>\n",
       "      <td>09x24</td>\n",
       "      <td>Um, yes, it is. Um, no, it's not.</td>\n",
       "      <td>1</td>\n",
       "    </tr>\n",
       "    <tr>\n",
       "      <th>31759</th>\n",
       "      <td>09x24</td>\n",
       "      <td>You're staying.</td>\n",
       "      <td>1</td>\n",
       "    </tr>\n",
       "    <tr>\n",
       "      <th>31761</th>\n",
       "      <td>09x24</td>\n",
       "      <td>Aw!</td>\n",
       "      <td>1</td>\n",
       "    </tr>\n",
       "    <tr>\n",
       "      <th>31763</th>\n",
       "      <td>09x24</td>\n",
       "      <td>Well, recently, I decided to attempt... a perf...</td>\n",
       "      <td>1</td>\n",
       "    </tr>\n",
       "  </tbody>\n",
       "</table>\n",
       "<p>5194 rows × 3 columns</p>\n",
       "</div>"
      ],
      "text/plain": [
       "      source                                               line  character\n",
       "14     01x01  hey, so you know how I've always had a thing f...          1\n",
       "16     01x01  Okay, meet me at the bar in fifteen minutes, a...          1\n",
       "18     01x01  Where's your suit!? Just once when I say suit ...          1\n",
       "20     01x01                                   It was a blazer!          1\n",
       "22     01x01  I see what this is about. Have you forgotten w...          1\n",
       "...      ...                                                ...        ...\n",
       "31746  09x24                                    Oh, my scrotum!          1\n",
       "31755  09x24                  Um, yes, it is. Um, no, it's not.          1\n",
       "31759  09x24                                    You're staying.          1\n",
       "31761  09x24                                                Aw!          1\n",
       "31763  09x24  Well, recently, I decided to attempt... a perf...          1\n",
       "\n",
       "[5194 rows x 3 columns]"
      ]
     },
     "execution_count": 9,
     "metadata": {},
     "output_type": "execute_result"
    }
   ],
   "source": [
    "series_df[series_df['character']==1]"
   ]
  },
  {
   "cell_type": "code",
   "execution_count": 10,
   "metadata": {},
   "outputs": [],
   "source": [
    "series_df = series_df[['character', 'line']]"
   ]
  },
  {
   "cell_type": "code",
   "execution_count": 11,
   "metadata": {},
   "outputs": [
    {
     "data": {
      "text/html": [
       "<div>\n",
       "<style scoped>\n",
       "    .dataframe tbody tr th:only-of-type {\n",
       "        vertical-align: middle;\n",
       "    }\n",
       "\n",
       "    .dataframe tbody tr th {\n",
       "        vertical-align: top;\n",
       "    }\n",
       "\n",
       "    .dataframe thead th {\n",
       "        text-align: right;\n",
       "    }\n",
       "</style>\n",
       "<table border=\"1\" class=\"dataframe\">\n",
       "  <thead>\n",
       "    <tr style=\"text-align: right;\">\n",
       "      <th></th>\n",
       "      <th>character</th>\n",
       "      <th>line</th>\n",
       "    </tr>\n",
       "  </thead>\n",
       "  <tbody>\n",
       "    <tr>\n",
       "      <th>0</th>\n",
       "      <td>0</td>\n",
       "      <td>Kids, I'm going to tell you an incredible stor...</td>\n",
       "    </tr>\n",
       "    <tr>\n",
       "      <th>1</th>\n",
       "      <td>0</td>\n",
       "      <td>Are we being punished for something?</td>\n",
       "    </tr>\n",
       "    <tr>\n",
       "      <th>2</th>\n",
       "      <td>0</td>\n",
       "      <td>No</td>\n",
       "    </tr>\n",
       "    <tr>\n",
       "      <th>3</th>\n",
       "      <td>0</td>\n",
       "      <td>Yeah, is this going to take a while?</td>\n",
       "    </tr>\n",
       "    <tr>\n",
       "      <th>4</th>\n",
       "      <td>0</td>\n",
       "      <td>Yes.  Twenty-five years ago, before I was dad,...</td>\n",
       "    </tr>\n",
       "    <tr>\n",
       "      <th>...</th>\n",
       "      <td>...</td>\n",
       "      <td>...</td>\n",
       "    </tr>\n",
       "    <tr>\n",
       "      <th>31771</th>\n",
       "      <td>0</td>\n",
       "      <td>Aunt Lily wasn't wrong.</td>\n",
       "    </tr>\n",
       "    <tr>\n",
       "      <th>31772</th>\n",
       "      <td>0</td>\n",
       "      <td>00 a.m. Christmas morning, every sleepy Sunday...</td>\n",
       "    </tr>\n",
       "    <tr>\n",
       "      <th>31773</th>\n",
       "      <td>0</td>\n",
       "      <td>T.M.</td>\n",
       "    </tr>\n",
       "    <tr>\n",
       "      <th>31774</th>\n",
       "      <td>0</td>\n",
       "      <td>T.M.</td>\n",
       "    </tr>\n",
       "    <tr>\n",
       "      <th>31775</th>\n",
       "      <td>0</td>\n",
       "      <td>To Me.</td>\n",
       "    </tr>\n",
       "  </tbody>\n",
       "</table>\n",
       "<p>31776 rows × 2 columns</p>\n",
       "</div>"
      ],
      "text/plain": [
       "       character                                               line\n",
       "0              0  Kids, I'm going to tell you an incredible stor...\n",
       "1              0               Are we being punished for something?\n",
       "2              0                                                 No\n",
       "3              0               Yeah, is this going to take a while?\n",
       "4              0  Yes.  Twenty-five years ago, before I was dad,...\n",
       "...          ...                                                ...\n",
       "31771          0                            Aunt Lily wasn't wrong.\n",
       "31772          0  00 a.m. Christmas morning, every sleepy Sunday...\n",
       "31773          0                                               T.M.\n",
       "31774          0                                               T.M.\n",
       "31775          0                                             To Me.\n",
       "\n",
       "[31776 rows x 2 columns]"
      ]
     },
     "execution_count": 11,
     "metadata": {},
     "output_type": "execute_result"
    }
   ],
   "source": [
    "series_df"
   ]
  },
  {
   "cell_type": "markdown",
   "metadata": {},
   "source": [
    "# Model"
   ]
  },
  {
   "cell_type": "markdown",
   "metadata": {},
   "source": [
    "## Sentence Transformer"
   ]
  },
  {
   "cell_type": "code",
   "execution_count": 12,
   "metadata": {},
   "outputs": [],
   "source": [
    "# if it cannot find sentence embeddings, set from_saved_embeddings = True\n",
    "if not os.path.exists(os.path.join(character_folder, character_dict[character]['encoded_lines_filename'])):\n",
    "    from_saved_embeddings = False\n",
    "    print('Encoded lines not found, from_saved_embeddings set to False')"
   ]
  },
  {
   "cell_type": "code",
   "execution_count": 13,
   "metadata": {},
   "outputs": [],
   "source": [
    "from sentence_transformers import SentenceTransformer\n",
    "\n",
    "if not from_saved_embeddings:\n",
    "    sentence_transformer = SentenceTransformer(\"sentence-transformers/paraphrase-multilingual-mpnet-base-v2\")"
   ]
  },
  {
   "cell_type": "markdown",
   "metadata": {},
   "source": [
    "## Sentence Encoding"
   ]
  },
  {
   "cell_type": "code",
   "execution_count": 14,
   "metadata": {},
   "outputs": [],
   "source": [
    "if not from_saved_embeddings:\n",
    "\n",
    "    series_df['encoded_line'] = [sentence_transformer.encode(line) for line in tqdm(series_df['line'])]\n",
    "\n",
    "    # save sentences dataset\n",
    "    series_df[['line', 'character']].to_csv(\n",
    "        os.path.join(character_folder, character_dict[character]['classifier_df']), \n",
    "        index = False\n",
    "    )\n",
    "\n",
    "    np.save(\n",
    "        os.path.join(character_folder, character_dict[character]['encoded_lines_filename']),\n",
    "        series_df['encoded_line'].to_numpy()\n",
    "    )"
   ]
  },
  {
   "cell_type": "code",
   "execution_count": 15,
   "metadata": {},
   "outputs": [],
   "source": [
    "# read sentences dataaset\n",
    "series_df = pd.read_csv(\n",
    "    os.path.join(character_folder, character_dict[character]['classifier_df']),\n",
    "    dtype={'line': str,\n",
    "           'character': int\n",
    "          }\n",
    ")\n",
    "\n",
    "series_df['encoded_line'] = np.load(\n",
    "    os.path.join(character_folder, character_dict[character]['encoded_lines_filename']), \n",
    "    allow_pickle=True\n",
    ")"
   ]
  },
  {
   "cell_type": "code",
   "execution_count": 16,
   "metadata": {
    "scrolled": true
   },
   "outputs": [
    {
     "data": {
      "text/html": [
       "<div>\n",
       "<style scoped>\n",
       "    .dataframe tbody tr th:only-of-type {\n",
       "        vertical-align: middle;\n",
       "    }\n",
       "\n",
       "    .dataframe tbody tr th {\n",
       "        vertical-align: top;\n",
       "    }\n",
       "\n",
       "    .dataframe thead th {\n",
       "        text-align: right;\n",
       "    }\n",
       "</style>\n",
       "<table border=\"1\" class=\"dataframe\">\n",
       "  <thead>\n",
       "    <tr style=\"text-align: right;\">\n",
       "      <th></th>\n",
       "      <th>line</th>\n",
       "      <th>character</th>\n",
       "      <th>encoded_line</th>\n",
       "    </tr>\n",
       "  </thead>\n",
       "  <tbody>\n",
       "    <tr>\n",
       "      <th>0</th>\n",
       "      <td>Kids, I'm going to tell you an incredible stor...</td>\n",
       "      <td>0</td>\n",
       "      <td>[-0.0060349987, 0.3398651, -0.013500607, 0.051...</td>\n",
       "    </tr>\n",
       "    <tr>\n",
       "      <th>1</th>\n",
       "      <td>Are we being punished for something?</td>\n",
       "      <td>0</td>\n",
       "      <td>[0.24517804, 0.06231432, -0.015702646, 0.03040...</td>\n",
       "    </tr>\n",
       "    <tr>\n",
       "      <th>2</th>\n",
       "      <td>No</td>\n",
       "      <td>0</td>\n",
       "      <td>[0.010471302, 0.074272856, -0.015337698, 0.099...</td>\n",
       "    </tr>\n",
       "    <tr>\n",
       "      <th>3</th>\n",
       "      <td>Yeah, is this going to take a while?</td>\n",
       "      <td>0</td>\n",
       "      <td>[0.25085106, 0.3401538, -0.0066933706, -0.1009...</td>\n",
       "    </tr>\n",
       "    <tr>\n",
       "      <th>4</th>\n",
       "      <td>Yes.  Twenty-five years ago, before I was dad,...</td>\n",
       "      <td>0</td>\n",
       "      <td>[0.07280163, 0.24518006, -0.009924358, -0.1859...</td>\n",
       "    </tr>\n",
       "    <tr>\n",
       "      <th>...</th>\n",
       "      <td>...</td>\n",
       "      <td>...</td>\n",
       "      <td>...</td>\n",
       "    </tr>\n",
       "    <tr>\n",
       "      <th>31771</th>\n",
       "      <td>Aunt Lily wasn't wrong.</td>\n",
       "      <td>0</td>\n",
       "      <td>[0.008160515, 0.09477018, -0.01352677, 0.13088...</td>\n",
       "    </tr>\n",
       "    <tr>\n",
       "      <th>31772</th>\n",
       "      <td>00 a.m. Christmas morning, every sleepy Sunday...</td>\n",
       "      <td>0</td>\n",
       "      <td>[-0.17137574, -0.0025946363, -0.008149227, 0.0...</td>\n",
       "    </tr>\n",
       "    <tr>\n",
       "      <th>31773</th>\n",
       "      <td>T.M.</td>\n",
       "      <td>0</td>\n",
       "      <td>[-0.025203055, -0.27510342, -0.010736528, 0.03...</td>\n",
       "    </tr>\n",
       "    <tr>\n",
       "      <th>31774</th>\n",
       "      <td>T.M.</td>\n",
       "      <td>0</td>\n",
       "      <td>[-0.025203055, -0.27510342, -0.010736528, 0.03...</td>\n",
       "    </tr>\n",
       "    <tr>\n",
       "      <th>31775</th>\n",
       "      <td>To Me.</td>\n",
       "      <td>0</td>\n",
       "      <td>[-0.039488338, -0.024729759, -0.013638151, 0.0...</td>\n",
       "    </tr>\n",
       "  </tbody>\n",
       "</table>\n",
       "<p>31776 rows × 3 columns</p>\n",
       "</div>"
      ],
      "text/plain": [
       "                                                    line  character  \\\n",
       "0      Kids, I'm going to tell you an incredible stor...          0   \n",
       "1                   Are we being punished for something?          0   \n",
       "2                                                     No          0   \n",
       "3                   Yeah, is this going to take a while?          0   \n",
       "4      Yes.  Twenty-five years ago, before I was dad,...          0   \n",
       "...                                                  ...        ...   \n",
       "31771                            Aunt Lily wasn't wrong.          0   \n",
       "31772  00 a.m. Christmas morning, every sleepy Sunday...          0   \n",
       "31773                                               T.M.          0   \n",
       "31774                                               T.M.          0   \n",
       "31775                                             To Me.          0   \n",
       "\n",
       "                                            encoded_line  \n",
       "0      [-0.0060349987, 0.3398651, -0.013500607, 0.051...  \n",
       "1      [0.24517804, 0.06231432, -0.015702646, 0.03040...  \n",
       "2      [0.010471302, 0.074272856, -0.015337698, 0.099...  \n",
       "3      [0.25085106, 0.3401538, -0.0066933706, -0.1009...  \n",
       "4      [0.07280163, 0.24518006, -0.009924358, -0.1859...  \n",
       "...                                                  ...  \n",
       "31771  [0.008160515, 0.09477018, -0.01352677, 0.13088...  \n",
       "31772  [-0.17137574, -0.0025946363, -0.008149227, 0.0...  \n",
       "31773  [-0.025203055, -0.27510342, -0.010736528, 0.03...  \n",
       "31774  [-0.025203055, -0.27510342, -0.010736528, 0.03...  \n",
       "31775  [-0.039488338, -0.024729759, -0.013638151, 0.0...  \n",
       "\n",
       "[31776 rows x 3 columns]"
      ]
     },
     "execution_count": 16,
     "metadata": {},
     "output_type": "execute_result"
    }
   ],
   "source": [
    "series_df"
   ]
  },
  {
   "cell_type": "code",
   "execution_count": 17,
   "metadata": {},
   "outputs": [],
   "source": [
    "series_train_df, series_test_df = train_test_split(series_df, test_size=test_size)"
   ]
  },
  {
   "cell_type": "code",
   "execution_count": 18,
   "metadata": {},
   "outputs": [],
   "source": [
    "series_train_df, series_val_df = train_test_split(series_train_df, test_size = 1-train_size-test_size)"
   ]
  },
  {
   "cell_type": "code",
   "execution_count": 19,
   "metadata": {},
   "outputs": [],
   "source": [
    "def get_triplet_df(series_df, n_shuffles=1):\n",
    "    \n",
    "    # separate character from others\n",
    "    series_df_1 = series_df[series_df['character']==1].copy()\n",
    "    series_df_0 = series_df[series_df['character']==0].copy()\n",
    "    \n",
    "    df_rows = {'character':[], 'encoded_lines':[]}\n",
    "    \n",
    "    for _ in range(n_shuffles):\n",
    "        # shuffle dataset\n",
    "        series_df_1 = series_df_1.sample(frac=1).reset_index(drop=True)\n",
    "        series_df_0 = series_df_0.sample(n=len(series_df_1)).reset_index(drop=True)\n",
    "        \n",
    "        for i in tqdm(range(2,len(series_df_1))):\n",
    "            # character\n",
    "            lines = list(series_df_1['encoded_line'][i-2:i+1])\n",
    "            lines = np.concatenate(lines)\n",
    "            df_rows['character'].append(1)\n",
    "            df_rows['encoded_lines'].append(lines)\n",
    "\n",
    "            # other\n",
    "            lines = list(series_df_0['encoded_line'][i-2:i+1])\n",
    "            lines = np.concatenate(lines)\n",
    "            df_rows['character'].append(0)\n",
    "            df_rows['encoded_lines'].append(lines)\n",
    "\n",
    "    df = pd.DataFrame(data=df_rows)\n",
    "    \n",
    "    return df.sample(frac=1).reset_index(drop=True)"
   ]
  },
  {
   "cell_type": "code",
   "execution_count": 20,
   "metadata": {
    "scrolled": true
   },
   "outputs": [
    {
     "name": "stderr",
     "output_type": "stream",
     "text": [
      "100%|████████████████████████████████████████████████████████████████████████████| 5140/5140 [00:00<00:00, 6357.15it/s]\n",
      "100%|████████████████████████████████████████████████████████████████████████████| 5140/5140 [00:00<00:00, 6144.49it/s]\n",
      "100%|████████████████████████████████████████████████████████████████████████████| 5140/5140 [00:00<00:00, 6287.21it/s]\n",
      "100%|████████████████████████████████████████████████████████████████████████████| 5140/5140 [00:00<00:00, 6420.65it/s]\n",
      "100%|████████████████████████████████████████████████████████████████████████████| 5140/5140 [00:00<00:00, 6380.82it/s]\n"
     ]
    }
   ],
   "source": [
    "shuffled_df = get_triplet_df(series_df, n_shuffles=n_shuffles)"
   ]
  },
  {
   "cell_type": "code",
   "execution_count": 21,
   "metadata": {},
   "outputs": [
    {
     "data": {
      "text/plain": [
       "51400"
      ]
     },
     "execution_count": 21,
     "metadata": {},
     "output_type": "execute_result"
    }
   ],
   "source": [
    "len(shuffled_df)"
   ]
  },
  {
   "cell_type": "markdown",
   "metadata": {},
   "source": [
    "## Create Classification Dataset"
   ]
  },
  {
   "cell_type": "code",
   "execution_count": 22,
   "metadata": {},
   "outputs": [
    {
     "name": "stdout",
     "output_type": "stream",
     "text": [
      "51400 43690 5140 2570\n"
     ]
    }
   ],
   "source": [
    "tot_len = len(shuffled_df)\n",
    "train_len = int(tot_len*train_size)\n",
    "test_len = int(tot_len*test_size)\n",
    "val_len = tot_len - train_len - test_len\n",
    "\n",
    "print(tot_len, train_len, test_len, val_len)"
   ]
  },
  {
   "cell_type": "code",
   "execution_count": 23,
   "metadata": {},
   "outputs": [
    {
     "name": "stdout",
     "output_type": "stream",
     "text": [
      "Loading training data...\n"
     ]
    },
    {
     "name": "stderr",
     "output_type": "stream",
     "text": [
      "100%|██████████████████████████████████████████████████████████████████████████| 43690/43690 [00:30<00:00, 1416.39it/s]\n",
      "100%|███████████████████████████████████████████████████████████████████████| 43690/43690 [00:00<00:00, 1016672.63it/s]\n"
     ]
    },
    {
     "name": "stdout",
     "output_type": "stream",
     "text": [
      "Loading test data...\n"
     ]
    },
    {
     "name": "stderr",
     "output_type": "stream",
     "text": [
      "100%|████████████████████████████████████████████████████████████████████████████| 5140/5140 [00:04<00:00, 1054.84it/s]\n",
      "100%|██████████████████████████████████████████████████████████████████████████| 5140/5140 [00:00<00:00, 514294.77it/s]\n"
     ]
    },
    {
     "name": "stdout",
     "output_type": "stream",
     "text": [
      "Loading validation data...\n"
     ]
    },
    {
     "name": "stderr",
     "output_type": "stream",
     "text": [
      "100%|████████████████████████████████████████████████████████████████████████████| 2570/2570 [00:01<00:00, 1305.23it/s]\n",
      "100%|██████████████████████████████████████████████████████████████████████████| 2570/2570 [00:00<00:00, 643083.24it/s]\n"
     ]
    }
   ],
   "source": [
    "print('Loading training data...')\n",
    "X_train = np.array([[float(e) for e in s] for s in tqdm(shuffled_df['encoded_lines'][:train_len])])\n",
    "y_train = np.array([c for c in tqdm(shuffled_df['character'][:train_len])])\n",
    "\n",
    "print('Loading test data...')\n",
    "X_test = np.array([[float(e) for e in s] for s in tqdm(shuffled_df['encoded_lines'][:test_len])])\n",
    "y_test = np.array([c for c in tqdm(shuffled_df['character'][:test_len])])\n",
    "\n",
    "print('Loading validation data...')\n",
    "X_val = np.array([[float(e) for e in s] for s in tqdm(shuffled_df['encoded_lines'][:val_len])])\n",
    "y_val = np.array([c for c in tqdm(shuffled_df['character'][:val_len])])"
   ]
  },
  {
   "cell_type": "code",
   "execution_count": 24,
   "metadata": {},
   "outputs": [
    {
     "name": "stdout",
     "output_type": "stream",
     "text": [
      "\t0 (%)\t\t1 (%)\n",
      "train\t0.50\t\t0.50\n",
      "val\t0.52\t\t0.48\n"
     ]
    }
   ],
   "source": [
    "# compute some statistics\n",
    "train_percentage_1 = len(y_train[y_train==1])/len(y_train)\n",
    "train_percentage_0 = len(y_train[y_train==0])/len(y_train)\n",
    "\n",
    "val_percentage_1 = len(y_val[y_val==1])/len(y_val)\n",
    "val_percentage_0 = len(y_val[y_val==0])/len(y_val)\n",
    "print('\\t0 (%)\\t\\t1 (%)')\n",
    "print('train\\t{:.2f}\\t\\t{:.2f}'.format(train_percentage_0, train_percentage_1))\n",
    "print('val\\t{:.2f}\\t\\t{:.2f}'.format(val_percentage_0, val_percentage_1))"
   ]
  },
  {
   "cell_type": "markdown",
   "metadata": {},
   "source": [
    "## Classification Model"
   ]
  },
  {
   "cell_type": "code",
   "execution_count": 25,
   "metadata": {},
   "outputs": [],
   "source": [
    "# Import keras/tensorflow libraries\n",
    "import tensorflow as tf\n",
    "from tensorflow import keras\n",
    "from tensorflow.keras import layers\n",
    "from tensorflow.keras import callbacks\n",
    "from tensorflow.keras import regularizers"
   ]
  },
  {
   "cell_type": "code",
   "execution_count": 26,
   "metadata": {},
   "outputs": [],
   "source": [
    "# create model\n",
    "def create_model():\n",
    "    inputs = keras.Input(shape=(len(X_train[0],)))\n",
    "    \n",
    "    x = layers.Dense(\n",
    "        1024,\n",
    "        activation='relu',\n",
    "        # kernel_regularizer=regularizers.l2(regularizer_weight),\n",
    "        # bias_regularizer=regularizers.l2(regularizer_weight)\n",
    "    )(inputs)\n",
    "    x = layers.BatchNormalization()(x)\n",
    "    \n",
    "    x = layers.Dense(\n",
    "        1024,\n",
    "        activation='relu',\n",
    "        # kernel_regularizer=regularizers.l2(regularizer_weight),\n",
    "        # bias_regularizer=regularizers.l2(regularizer_weight)\n",
    "    )(x)\n",
    "    x = layers.BatchNormalization()(x)\n",
    "    \n",
    "    x = layers.Dense(\n",
    "        512, \n",
    "        activation='relu',\n",
    "        # kernel_regularizer=regularizers.l2(regularizer_weight),\n",
    "        # bias_regularizer=regularizers.l2(regularizer_weight)\n",
    "    )(x)\n",
    "    x = layers.BatchNormalization()(x)\n",
    "    \n",
    "    x = layers.Dense(\n",
    "        256, \n",
    "        activation='relu',\n",
    "        # kernel_regularizer=regularizers.l2(regularizer_weight),\n",
    "        # bias_regularizer=regularizers.l2(regularizer_weight)\n",
    "    )(x)\n",
    "    x = layers.BatchNormalization()(x)\n",
    "\n",
    "    x = layers.Dense(\n",
    "        128, \n",
    "        activation='relu',\n",
    "        kernel_regularizer=regularizers.l2(regularizer_weight_r),\n",
    "        bias_regularizer=regularizers.l2(regularizer_weight_r)\n",
    "    )(x)\n",
    "    x = layers.BatchNormalization()(x)\n",
    "    x = layers.Dropout(dropout_rate)(x)\n",
    "    out = layers.Dense(\n",
    "        1, \n",
    "        activation='sigmoid',\n",
    "        kernel_regularizer=regularizers.l2(regularizer_weight_s),\n",
    "        bias_regularizer=regularizers.l2(regularizer_weight_s)\n",
    "    )(x)\n",
    "\n",
    "\n",
    "    classifier_model = keras.Model(inputs, out)\n",
    "    classifier_model.compile(\n",
    "        loss = keras.losses.BinaryCrossentropy(),\n",
    "        optimizer = keras.optimizers.Adam(learning_rate = lr),\n",
    "        metrics = [keras.metrics.BinaryAccuracy(), keras.metrics.Recall()]\n",
    "    )\n",
    "    return classifier_model"
   ]
  },
  {
   "cell_type": "code",
   "execution_count": 27,
   "metadata": {},
   "outputs": [],
   "source": [
    "classifier_model = create_model()"
   ]
  },
  {
   "cell_type": "markdown",
   "metadata": {},
   "source": [
    "## Training"
   ]
  },
  {
   "cell_type": "code",
   "execution_count": 28,
   "metadata": {},
   "outputs": [],
   "source": [
    "earlystop_callback = callbacks.EarlyStopping(\n",
    "        monitor=\"val_binary_accuracy\",\n",
    "        min_delta=0,\n",
    "        patience=6,\n",
    "        verbose=0,\n",
    "        mode=\"max\",\n",
    "        baseline=None,\n",
    "        restore_best_weights=True,\n",
    "    )"
   ]
  },
  {
   "cell_type": "code",
   "execution_count": null,
   "metadata": {
    "scrolled": false
   },
   "outputs": [
    {
     "name": "stdout",
     "output_type": "stream",
     "text": [
      "Epoch 1/1000\n",
      " 174/2731 [>.............................] - ETA: 1:49 - loss: 0.9724 - binary_accuracy: 0.5129 - recall: 0.5256"
     ]
    }
   ],
   "source": [
    "train_history = classifier_model.fit(\n",
    "    X_train, \n",
    "    y_train,\n",
    "    validation_data = (X_val, y_val),\n",
    "    epochs= epochs,\n",
    "    verbose = 1, \n",
    "    callbacks=[earlystop_callback],\n",
    "    batch_size = batch_size\n",
    ")"
   ]
  },
  {
   "cell_type": "code",
   "execution_count": null,
   "metadata": {
    "scrolled": true
   },
   "outputs": [],
   "source": [
    "print('#'*25 + ' Model Test ' + '#'*25)\n",
    "fig, ax=plt.subplots(1,1,figsize=(5,5))\n",
    "y_pred = classifier_model.predict(X_test).round()\n",
    "# Plot the confusion matrix normalizing over the true values (over the rows)\n",
    "cm = confusion_matrix(y_test, y_pred) #, normalize='pred')\n",
    "disp = ConfusionMatrixDisplay(confusion_matrix=cm, display_labels=['Others', character])\n",
    "disp.plot(ax=ax)\n",
    "plt.show()"
   ]
  },
  {
   "cell_type": "code",
   "execution_count": null,
   "metadata": {},
   "outputs": [],
   "source": [
    "classifier_path = os.path.join(character_folder, character_dict[character]['classifier_name']+version)\n",
    "classifier_model.save(classifier_path)"
   ]
  },
  {
   "cell_type": "code",
   "execution_count": null,
   "metadata": {},
   "outputs": [],
   "source": [
    "# Save history as a JSON file\n",
    "import json\n",
    "filename = character.lower() + '_training_history' + version + '.json'\n",
    "\n",
    "output_string = json.dumps(train_history.history)\n",
    "with open(os.path.join(character_folder, filename), 'w') as file:\n",
    "    file.write(output_string)"
   ]
  },
  {
   "cell_type": "code",
   "execution_count": null,
   "metadata": {},
   "outputs": [],
   "source": [
    "if shutdown_at_end:\n",
    "    os.system('shutdown /' + shutdown_at_end)"
   ]
  }
 ],
 "metadata": {
  "kernelspec": {
   "display_name": "Python 3",
   "language": "python",
   "name": "python3"
  },
  "language_info": {
   "codemirror_mode": {
    "name": "ipython",
    "version": 3
   },
   "file_extension": ".py",
   "mimetype": "text/x-python",
   "name": "python",
   "nbconvert_exporter": "python",
   "pygments_lexer": "ipython3",
   "version": "3.8.5"
  }
 },
 "nbformat": 4,
 "nbformat_minor": 5
}
