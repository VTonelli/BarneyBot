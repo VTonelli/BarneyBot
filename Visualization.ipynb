{
 "cells": [
  {
   "cell_type": "markdown",
   "id": "618cac7a",
   "metadata": {},
   "source": [
    "# Metrics Visualizations"
   ]
  },
  {
   "cell_type": "code",
   "execution_count": 1,
   "id": "b9d7c499",
   "metadata": {},
   "outputs": [],
   "source": [
    "from Data.data_dicts import character_dict, source_dict, random_state\n",
    "\n",
    "characters = ['Barney' , 'Sheldon' , 'Harry' , 'Fry' , 'Vader' , 'Joey' , 'Phoebe' , 'Bender']"
   ]
  },
  {
   "cell_type": "code",
   "execution_count": 2,
   "id": "3b1c0d35",
   "metadata": {},
   "outputs": [],
   "source": [
    "# Mount google drive\n",
    "import os\n",
    "try:\n",
    "    import google.colab\n",
    "    IN_COLAB = True\n",
    "except:\n",
    "    IN_COLAB = False\n",
    "    os.environ[\"KMP_DUPLICATE_LIB_OK\"]=\"TRUE\"\n",
    "\n",
    "if IN_COLAB:\n",
    "    from google.colab import drive\n",
    "    drive.mount('/content/drive',force_remount=True)\n",
    "    base_folder = '/content/drive/My Drive/unibo/NLP_project/BarneyBot'\n",
    "    os.system(\"pip install datasets\")\n",
    "    os.system(\"pip install transformers\")\n",
    "    os.system(\"pip install rouge_score\")\n",
    "    os.system(\"pip install -U sentence-transformers\")\n",
    "else:\n",
    "    base_folder = os.getcwd()\n",
    "\n",
    "in_metrics_folder = os.path.join(base_folder, 'Metrics')\n",
    "if not os.path.exists(in_metrics_folder):\n",
    "    os.makedirs(in_metrics_folder)\n",
    "    \n",
    "out_metricsPlot_folder = os.path.join(base_folder, 'Metrics', 'Plots')\n",
    "if not os.path.exists(out_metricsPlot_folder):\n",
    "    os.makedirs(out_metricsPlot_folder)"
   ]
  },
  {
   "cell_type": "code",
   "execution_count": 3,
   "id": "f09d90d1",
   "metadata": {},
   "outputs": [],
   "source": [
    "import pandas as pd\n",
    "import tensorflow as tf\n",
    "import json\n",
    "import numpy as np\n",
    "import time\n",
    "import scipy as sp\n",
    "from datasets import load_dataset, DatasetDict\n",
    "from tqdm import tqdm "
   ]
  },
  {
   "cell_type": "code",
   "execution_count": 4,
   "id": "c3fa2647",
   "metadata": {},
   "outputs": [],
   "source": [
    "from matplotlib import pyplot as plt\n",
    "%matplotlib inline\n",
    "from itertools import product as zip_cartesian\n",
    "from Lib.BBRadar import BBRadar\n",
    "import warnings\n",
    "warnings.filterwarnings(\"ignore\")"
   ]
  },
  {
   "cell_type": "markdown",
   "id": "a51302f1",
   "metadata": {},
   "source": [
    "## Data plots"
   ]
  },
  {
   "cell_type": "code",
   "execution_count": 5,
   "id": "afc97061",
   "metadata": {},
   "outputs": [],
   "source": [
    "def load_df(character):\n",
    "    dataset_path = os.path.join(base_folder, \"Data\", \"Characters\", character, character+'.csv')\n",
    "    \n",
    "    character_hg = load_dataset('csv', \n",
    "                                data_files=dataset_path, \n",
    "                                cache_dir=os.path.join(base_folder, \"cache\"))\n",
    "    \n",
    "    # 85% train / 10% test / 5% validation\n",
    "    train_test_hg = character_hg['train'].train_test_split(test_size=0.15, seed=random_state)\n",
    "    test_val = train_test_hg['test'].train_test_split(test_size=0.33, seed=random_state)\n",
    "    \n",
    "    \n",
    "    character_hg = DatasetDict({\n",
    "        'train': train_test_hg['train'],\n",
    "        'test': test_val['train'],\n",
    "        'val': test_val['test']\n",
    "    })\n",
    "    \n",
    "    return character_hg"
   ]
  },
  {
   "cell_type": "code",
   "execution_count": 6,
   "id": "2a597c42",
   "metadata": {},
   "outputs": [],
   "source": [
    "# def plot_dataset(character_hg, character_name, colors=['red','orange','gold']):\n",
    "#     labels = [hgdict for hgdict in character_hg]\n",
    "#     data   = np.array([len(character_hg[hgdict]) for hgdict in character_hg])\n",
    "\n",
    "#     fig = plt.figure(facecolor='white')\n",
    "#     plt.bar(labels, data, 0.5, color= colors)\n",
    "    \n",
    "#     plt.xlabel('Set')\n",
    "#     plt.ylabel('Number of lines')\n",
    "#     plt.title('Barplot of Dataset of ' + character_name, fontweight=\"bold\")\n",
    "#     plt.grid(True)\n",
    "#     fig.savefig(os.path.join(out_metricsPlot_folder, 'Dataset '+ character_name), dpi=fig.dpi)\n",
    "#     return None"
   ]
  },
  {
   "cell_type": "code",
   "execution_count": 27,
   "id": "3dc52366",
   "metadata": {
    "scrolled": true
   },
   "outputs": [
    {
     "name": "stderr",
     "output_type": "stream",
     "text": [
      "Using custom data configuration default-56c51f8ee6504638\n",
      "Reusing dataset csv (C:\\Users\\User\\Documents\\GitHub\\cache\\csv\\default-56c51f8ee6504638\\0.0.0\\433e0ccc46f9880962cc2b12065189766fbb2bee57a221866138fb9203c83519)\n"
     ]
    },
    {
     "data": {
      "application/vnd.jupyter.widget-view+json": {
       "model_id": "357916c3fde240a2a5dc983fbf9a1ee1",
       "version_major": 2,
       "version_minor": 0
      },
      "text/plain": [
       "  0%|          | 0/1 [00:00<?, ?it/s]"
      ]
     },
     "metadata": {},
     "output_type": "display_data"
    },
    {
     "name": "stderr",
     "output_type": "stream",
     "text": [
      "Loading cached split indices for dataset at C:\\Users\\User\\Documents\\GitHub\\cache\\csv\\default-56c51f8ee6504638\\0.0.0\\433e0ccc46f9880962cc2b12065189766fbb2bee57a221866138fb9203c83519\\cache-482310c4cee47aea.arrow and C:\\Users\\User\\Documents\\GitHub\\cache\\csv\\default-56c51f8ee6504638\\0.0.0\\433e0ccc46f9880962cc2b12065189766fbb2bee57a221866138fb9203c83519\\cache-b479af047c7a3a8a.arrow\n",
      "Loading cached split indices for dataset at C:\\Users\\User\\Documents\\GitHub\\cache\\csv\\default-56c51f8ee6504638\\0.0.0\\433e0ccc46f9880962cc2b12065189766fbb2bee57a221866138fb9203c83519\\cache-7e5ed690a036d827.arrow and C:\\Users\\User\\Documents\\GitHub\\cache\\csv\\default-56c51f8ee6504638\\0.0.0\\433e0ccc46f9880962cc2b12065189766fbb2bee57a221866138fb9203c83519\\cache-65fad66bfddf0a70.arrow\n",
      "Using custom data configuration default-e15532687b493885\n",
      "Reusing dataset csv (C:\\Users\\User\\Documents\\GitHub\\cache\\csv\\default-e15532687b493885\\0.0.0\\433e0ccc46f9880962cc2b12065189766fbb2bee57a221866138fb9203c83519)\n"
     ]
    },
    {
     "data": {
      "application/vnd.jupyter.widget-view+json": {
       "model_id": "9dd125b5f2c444a68c5dbc07fcd5bfde",
       "version_major": 2,
       "version_minor": 0
      },
      "text/plain": [
       "  0%|          | 0/1 [00:00<?, ?it/s]"
      ]
     },
     "metadata": {},
     "output_type": "display_data"
    },
    {
     "name": "stderr",
     "output_type": "stream",
     "text": [
      "Loading cached split indices for dataset at C:\\Users\\User\\Documents\\GitHub\\cache\\csv\\default-e15532687b493885\\0.0.0\\433e0ccc46f9880962cc2b12065189766fbb2bee57a221866138fb9203c83519\\cache-0c7dfb3359821f55.arrow and C:\\Users\\User\\Documents\\GitHub\\cache\\csv\\default-e15532687b493885\\0.0.0\\433e0ccc46f9880962cc2b12065189766fbb2bee57a221866138fb9203c83519\\cache-f4fc2ad4645ec60e.arrow\n",
      "Loading cached split indices for dataset at C:\\Users\\User\\Documents\\GitHub\\cache\\csv\\default-e15532687b493885\\0.0.0\\433e0ccc46f9880962cc2b12065189766fbb2bee57a221866138fb9203c83519\\cache-56b3ecadecb08897.arrow and C:\\Users\\User\\Documents\\GitHub\\cache\\csv\\default-e15532687b493885\\0.0.0\\433e0ccc46f9880962cc2b12065189766fbb2bee57a221866138fb9203c83519\\cache-839ab26f3ef39d04.arrow\n",
      "Using custom data configuration default-74175dc081abe62e\n",
      "Reusing dataset csv (C:\\Users\\User\\Documents\\GitHub\\cache\\csv\\default-74175dc081abe62e\\0.0.0\\433e0ccc46f9880962cc2b12065189766fbb2bee57a221866138fb9203c83519)\n"
     ]
    },
    {
     "data": {
      "application/vnd.jupyter.widget-view+json": {
       "model_id": "ba7d0d88c534430cbae4b572699d73ee",
       "version_major": 2,
       "version_minor": 0
      },
      "text/plain": [
       "  0%|          | 0/1 [00:00<?, ?it/s]"
      ]
     },
     "metadata": {},
     "output_type": "display_data"
    },
    {
     "name": "stderr",
     "output_type": "stream",
     "text": [
      "Loading cached split indices for dataset at C:\\Users\\User\\Documents\\GitHub\\cache\\csv\\default-74175dc081abe62e\\0.0.0\\433e0ccc46f9880962cc2b12065189766fbb2bee57a221866138fb9203c83519\\cache-ffe32d4102e60a04.arrow and C:\\Users\\User\\Documents\\GitHub\\cache\\csv\\default-74175dc081abe62e\\0.0.0\\433e0ccc46f9880962cc2b12065189766fbb2bee57a221866138fb9203c83519\\cache-298e48f1fd1676f4.arrow\n",
      "Loading cached split indices for dataset at C:\\Users\\User\\Documents\\GitHub\\cache\\csv\\default-74175dc081abe62e\\0.0.0\\433e0ccc46f9880962cc2b12065189766fbb2bee57a221866138fb9203c83519\\cache-0a932e2eb6949702.arrow and C:\\Users\\User\\Documents\\GitHub\\cache\\csv\\default-74175dc081abe62e\\0.0.0\\433e0ccc46f9880962cc2b12065189766fbb2bee57a221866138fb9203c83519\\cache-cf2d9fc6ca39f4a3.arrow\n",
      "Using custom data configuration default-cfcd7c0a1b54c821\n",
      "Reusing dataset csv (C:\\Users\\User\\Documents\\GitHub\\cache\\csv\\default-cfcd7c0a1b54c821\\0.0.0\\433e0ccc46f9880962cc2b12065189766fbb2bee57a221866138fb9203c83519)\n"
     ]
    },
    {
     "data": {
      "application/vnd.jupyter.widget-view+json": {
       "model_id": "ab81b78e34a0471eb4270eea82a44383",
       "version_major": 2,
       "version_minor": 0
      },
      "text/plain": [
       "  0%|          | 0/1 [00:00<?, ?it/s]"
      ]
     },
     "metadata": {},
     "output_type": "display_data"
    },
    {
     "name": "stderr",
     "output_type": "stream",
     "text": [
      "Loading cached split indices for dataset at C:\\Users\\User\\Documents\\GitHub\\cache\\csv\\default-cfcd7c0a1b54c821\\0.0.0\\433e0ccc46f9880962cc2b12065189766fbb2bee57a221866138fb9203c83519\\cache-b43801ce4b994266.arrow and C:\\Users\\User\\Documents\\GitHub\\cache\\csv\\default-cfcd7c0a1b54c821\\0.0.0\\433e0ccc46f9880962cc2b12065189766fbb2bee57a221866138fb9203c83519\\cache-2d410660d12a0648.arrow\n",
      "Loading cached split indices for dataset at C:\\Users\\User\\Documents\\GitHub\\cache\\csv\\default-cfcd7c0a1b54c821\\0.0.0\\433e0ccc46f9880962cc2b12065189766fbb2bee57a221866138fb9203c83519\\cache-865921b06dd004cf.arrow and C:\\Users\\User\\Documents\\GitHub\\cache\\csv\\default-cfcd7c0a1b54c821\\0.0.0\\433e0ccc46f9880962cc2b12065189766fbb2bee57a221866138fb9203c83519\\cache-85cb26e4db7e2019.arrow\n",
      "Using custom data configuration default-f766372b558b0209\n",
      "Reusing dataset csv (C:\\Users\\User\\Documents\\GitHub\\cache\\csv\\default-f766372b558b0209\\0.0.0\\433e0ccc46f9880962cc2b12065189766fbb2bee57a221866138fb9203c83519)\n"
     ]
    },
    {
     "data": {
      "application/vnd.jupyter.widget-view+json": {
       "model_id": "37bba7dc7f1640b88b40b4c16593585b",
       "version_major": 2,
       "version_minor": 0
      },
      "text/plain": [
       "  0%|          | 0/1 [00:00<?, ?it/s]"
      ]
     },
     "metadata": {},
     "output_type": "display_data"
    },
    {
     "name": "stderr",
     "output_type": "stream",
     "text": [
      "Loading cached split indices for dataset at C:\\Users\\User\\Documents\\GitHub\\cache\\csv\\default-f766372b558b0209\\0.0.0\\433e0ccc46f9880962cc2b12065189766fbb2bee57a221866138fb9203c83519\\cache-9d764f1cad4a2e97.arrow and C:\\Users\\User\\Documents\\GitHub\\cache\\csv\\default-f766372b558b0209\\0.0.0\\433e0ccc46f9880962cc2b12065189766fbb2bee57a221866138fb9203c83519\\cache-b7a3bb5fa9677977.arrow\n",
      "Loading cached split indices for dataset at C:\\Users\\User\\Documents\\GitHub\\cache\\csv\\default-f766372b558b0209\\0.0.0\\433e0ccc46f9880962cc2b12065189766fbb2bee57a221866138fb9203c83519\\cache-437ed1f606359783.arrow and C:\\Users\\User\\Documents\\GitHub\\cache\\csv\\default-f766372b558b0209\\0.0.0\\433e0ccc46f9880962cc2b12065189766fbb2bee57a221866138fb9203c83519\\cache-a4400c3cccb964a2.arrow\n",
      "Using custom data configuration default-4a4b13361a352013\n",
      "Reusing dataset csv (C:\\Users\\User\\Documents\\GitHub\\cache\\csv\\default-4a4b13361a352013\\0.0.0\\433e0ccc46f9880962cc2b12065189766fbb2bee57a221866138fb9203c83519)\n"
     ]
    },
    {
     "data": {
      "application/vnd.jupyter.widget-view+json": {
       "model_id": "f8c713a77d054722804c0816d99bbb98",
       "version_major": 2,
       "version_minor": 0
      },
      "text/plain": [
       "  0%|          | 0/1 [00:00<?, ?it/s]"
      ]
     },
     "metadata": {},
     "output_type": "display_data"
    },
    {
     "name": "stderr",
     "output_type": "stream",
     "text": [
      "Loading cached split indices for dataset at C:\\Users\\User\\Documents\\GitHub\\cache\\csv\\default-4a4b13361a352013\\0.0.0\\433e0ccc46f9880962cc2b12065189766fbb2bee57a221866138fb9203c83519\\cache-fbb971f522249e5e.arrow and C:\\Users\\User\\Documents\\GitHub\\cache\\csv\\default-4a4b13361a352013\\0.0.0\\433e0ccc46f9880962cc2b12065189766fbb2bee57a221866138fb9203c83519\\cache-6cfd3219d21d921e.arrow\n",
      "Loading cached split indices for dataset at C:\\Users\\User\\Documents\\GitHub\\cache\\csv\\default-4a4b13361a352013\\0.0.0\\433e0ccc46f9880962cc2b12065189766fbb2bee57a221866138fb9203c83519\\cache-ef694798657e2b08.arrow and C:\\Users\\User\\Documents\\GitHub\\cache\\csv\\default-4a4b13361a352013\\0.0.0\\433e0ccc46f9880962cc2b12065189766fbb2bee57a221866138fb9203c83519\\cache-02e46530f30d89ce.arrow\n",
      "Using custom data configuration default-3229d32cb72dec20\n",
      "Reusing dataset csv (C:\\Users\\User\\Documents\\GitHub\\cache\\csv\\default-3229d32cb72dec20\\0.0.0\\433e0ccc46f9880962cc2b12065189766fbb2bee57a221866138fb9203c83519)\n"
     ]
    },
    {
     "data": {
      "application/vnd.jupyter.widget-view+json": {
       "model_id": "64f755c4c0a14fe4849cd8c62836a5de",
       "version_major": 2,
       "version_minor": 0
      },
      "text/plain": [
       "  0%|          | 0/1 [00:00<?, ?it/s]"
      ]
     },
     "metadata": {},
     "output_type": "display_data"
    },
    {
     "name": "stderr",
     "output_type": "stream",
     "text": [
      "Loading cached split indices for dataset at C:\\Users\\User\\Documents\\GitHub\\cache\\csv\\default-3229d32cb72dec20\\0.0.0\\433e0ccc46f9880962cc2b12065189766fbb2bee57a221866138fb9203c83519\\cache-54d20f1090876553.arrow and C:\\Users\\User\\Documents\\GitHub\\cache\\csv\\default-3229d32cb72dec20\\0.0.0\\433e0ccc46f9880962cc2b12065189766fbb2bee57a221866138fb9203c83519\\cache-54b0a7c6c2ed48c8.arrow\n",
      "Loading cached split indices for dataset at C:\\Users\\User\\Documents\\GitHub\\cache\\csv\\default-3229d32cb72dec20\\0.0.0\\433e0ccc46f9880962cc2b12065189766fbb2bee57a221866138fb9203c83519\\cache-3ced49a60756db38.arrow and C:\\Users\\User\\Documents\\GitHub\\cache\\csv\\default-3229d32cb72dec20\\0.0.0\\433e0ccc46f9880962cc2b12065189766fbb2bee57a221866138fb9203c83519\\cache-a028844e7904d561.arrow\n",
      "Using custom data configuration default-c04fcba0987fb2bb\n",
      "Reusing dataset csv (C:\\Users\\User\\Documents\\GitHub\\cache\\csv\\default-c04fcba0987fb2bb\\0.0.0\\433e0ccc46f9880962cc2b12065189766fbb2bee57a221866138fb9203c83519)\n"
     ]
    },
    {
     "data": {
      "application/vnd.jupyter.widget-view+json": {
       "model_id": "e400d5e2e29f43c88380e125f43938c6",
       "version_major": 2,
       "version_minor": 0
      },
      "text/plain": [
       "  0%|          | 0/1 [00:00<?, ?it/s]"
      ]
     },
     "metadata": {},
     "output_type": "display_data"
    },
    {
     "name": "stderr",
     "output_type": "stream",
     "text": [
      "Loading cached split indices for dataset at C:\\Users\\User\\Documents\\GitHub\\cache\\csv\\default-c04fcba0987fb2bb\\0.0.0\\433e0ccc46f9880962cc2b12065189766fbb2bee57a221866138fb9203c83519\\cache-40d83aff9ef726b3.arrow and C:\\Users\\User\\Documents\\GitHub\\cache\\csv\\default-c04fcba0987fb2bb\\0.0.0\\433e0ccc46f9880962cc2b12065189766fbb2bee57a221866138fb9203c83519\\cache-8abb3fcb5b1f75ee.arrow\n",
      "Loading cached split indices for dataset at C:\\Users\\User\\Documents\\GitHub\\cache\\csv\\default-c04fcba0987fb2bb\\0.0.0\\433e0ccc46f9880962cc2b12065189766fbb2bee57a221866138fb9203c83519\\cache-54981c42f3694cf4.arrow and C:\\Users\\User\\Documents\\GitHub\\cache\\csv\\default-c04fcba0987fb2bb\\0.0.0\\433e0ccc46f9880962cc2b12065189766fbb2bee57a221866138fb9203c83519\\cache-c101d6958ca68893.arrow\n"
     ]
    }
   ],
   "source": [
    "characters_hg = [load_df(c) for c in characters]"
   ]
  },
  {
   "cell_type": "code",
   "execution_count": 68,
   "id": "dce7f309",
   "metadata": {},
   "outputs": [],
   "source": [
    "def plot_datasets(charList, characters_hg, colors=['red','orange','gold']):\n",
    "    # number of characters\n",
    "    n = len(charList)\n",
    "    # number of sets for each character\n",
    "    m = len(characters_hg[0])\n",
    "    sets = [s for s in characters_hg[0]]\n",
    "    # the xlabels are the name of characters\n",
    "    xlabels = charList\n",
    "    \n",
    "    # extract lenght of each dataset\n",
    "    data   = np.array([[len(characters_hg[c][s]) for c in range(n)] for s in sets])\n",
    "    \n",
    "    # plots the dataset\n",
    "    fig, ax = plt.subplots(facecolor='white', figsize=(15, 10))\n",
    "    for c in range(len(charList)):\n",
    "        for hgdict, i in zip(characters_hg[c], range(n)):\n",
    "            ax.bar(xlabels, data[i], 0.3, color=colors[i])\n",
    "    ax.set_xlabel('Set')\n",
    "    ax.set_ylabel('Number of lines')\n",
    "    ax.set_title('Barplot of Dataset of all characters', fontweight=\"bold\")\n",
    "    ax.legend([hgdict for hgdict in characters_hg[0]])\n",
    "    ax.grid(True)\n",
    "    fig.savefig(os.path.join(out_metricsPlot_folder, 'Datasets characters'), dpi=fig.dpi)\n",
    "    return None"
   ]
  },
  {
   "cell_type": "code",
   "execution_count": 69,
   "id": "15258ed4",
   "metadata": {
    "scrolled": false
   },
   "outputs": [
    {
     "data": {
      "image/png": "[encoded data removed]",
      "text/plain": [
       "<Figure size 1080x720 with 1 Axes>"
      ]
     },
     "metadata": {},
     "output_type": "display_data"
    }
   ],
   "source": [
    "plot_datasets(characters, characters_hg)"
   ]
  },
  {
   "cell_type": "code",
   "execution_count": 8,
   "id": "442c2639",
   "metadata": {},
   "outputs": [],
   "source": [
    "# def plot_dataset_c1VSc2(c1_hg, c2_hg, c1_name, c2_name, colors=['red','orange','gold']):\n",
    "#     labels = [c1_name, c2_name]\n",
    "#     data   = [(len(c1_hg[hgdict]), len(c2_hg[hgdict])) for hgdict in c1_hg]\n",
    "\n",
    "#     fig, ax = plt.subplots(facecolor='white')\n",
    "#     for hgdict, i in zip(c1_hg, range(len(c1_hg))):\n",
    "#         ax.bar(labels, data[i], 0.3, color=colors[i], label=hgdict)\n",
    "\n",
    "#     ax.set_xlabel('Set')\n",
    "#     ax.set_ylabel('Number of lines')\n",
    "#     ax.set_title('Barplot of Dataset of ' + c1_name + ' vs ' + c2_name, fontweight=\"bold\")\n",
    "#     ax.legend()\n",
    "#     ax.grid(True)\n",
    "#     fig.savefig(os.path.join(out_metricsPlot_folder, 'Datasets '+c1_name+' vs '+c2_name), dpi=fig.dpi)\n",
    "#     return None"
   ]
  },
  {
   "cell_type": "code",
   "execution_count": 9,
   "id": "22d14c18",
   "metadata": {},
   "outputs": [],
   "source": [
    "def plot_metrics(metrics, title, c1, c2=None, cols=4, colors=None):\n",
    "    colors = ['tab:blue', 'tab:orange', 'tab:orange', 'tab:red'] \n",
    "    metadata = metrics['metadata']\n",
    "    metrics_size = len(metrics) + 1\n",
    "    if not metrics_size % cols == 0:\n",
    "        rows = metrics_size // cols + 1\n",
    "    else:\n",
    "        rows = metrics_size // cols\n",
    "    \n",
    "    fig = plt.figure(figsize=(20, 10), facecolor='white')\n",
    "    plt.subplots_adjust(left=0.1,\n",
    "                        bottom=0.1, \n",
    "                        right=0.9, \n",
    "                        top=0.9, \n",
    "                        wspace=0.4, \n",
    "                        hspace=0.8)\n",
    "    idx = 1\n",
    "    \n",
    "    # semantic similarity\n",
    "    m = 'semantic similarity'\n",
    "    data = []\n",
    "    std  = []\n",
    "    for s in metrics[m]:\n",
    "        try:\n",
    "            data.append(s['score'])\n",
    "            std.append(s['std'])\n",
    "        except:\n",
    "            data.append(s)\n",
    "            std.append(0)\n",
    "    labels = metadata[m]['ordering']\n",
    "    ax = fig.add_subplot(rows, cols, idx)\n",
    "    ax.bar(labels, np.array(data), 0.3, yerr=std, color=colors)\n",
    "    ax.set_title(m,fontweight=\"bold\")\n",
    "    ax.set_ylim([0,1])\n",
    "    ax.set_xticklabels(metadata[m]['ordering'], rotation=25)\n",
    "    ax.grid(True)\n",
    "    idx += 1\n",
    "    \n",
    "    # bleu\n",
    "    m = 'bleu'\n",
    "    data = []\n",
    "    std  = []\n",
    "    for s in metrics[m]:\n",
    "        try:\n",
    "            data.append(s['score'])\n",
    "        except:\n",
    "            data.append(s)\n",
    "            std.append(0)\n",
    "    ax = fig.add_subplot(rows, cols, idx)\n",
    "    ax.bar(metadata[m]['ordering'], np.array(data), 0.3, yerr=std, color=colors)\n",
    "    ax.set_title(m,fontweight=\"bold\")\n",
    "    ax.set_ylim([0,1])\n",
    "    ax.set_xticklabels(metadata[m]['ordering'], rotation=25)\n",
    "    ax.grid(True)\n",
    "    idx += 1\n",
    "    \n",
    "    # rouge l\n",
    "    m = 'rouge l'\n",
    "    data = []\n",
    "    std  = []\n",
    "    for s in metrics[m]:\n",
    "        try:\n",
    "            data.append(s['score'])\n",
    "            std.append(s['std'])\n",
    "        except:\n",
    "            data.append(s)\n",
    "            std.append(0)\n",
    "    ax = fig.add_subplot(rows, cols, idx)\n",
    "    ax.bar(metadata[m]['ordering'], np.array(data), 0.3, yerr=std, color=colors)\n",
    "    ax.set_title(m,fontweight=\"bold\")\n",
    "    ax.set_ylim([0,1])\n",
    "    ax.set_xticklabels(metadata[m]['ordering'], rotation=25)\n",
    "    ax.grid(True)\n",
    "    idx += 1\n",
    "    \n",
    "    # distinct\n",
    "    m = 'distinct'\n",
    "    data = []\n",
    "    std  = []\n",
    "    for s in metrics[m]:\n",
    "        try:\n",
    "            data.append(s['score'])\n",
    "            std.append(s['std'])\n",
    "        except:\n",
    "            data.append(s)\n",
    "            std.append(0)\n",
    "    ax = fig.add_subplot(rows, cols, idx)\n",
    "    ax.bar(metadata[m]['ordering'], np.array(data), 0.3, yerr=std, color=colors)\n",
    "    ax.set_title(m,fontweight=\"bold\")\n",
    "    ax.set_ylim([0,1])\n",
    "    ax.set_xticklabels(metadata[m]['ordering'],rotation=25)\n",
    "    ax.grid(True)\n",
    "    idx += 1\n",
    "\n",
    "    # perplexity\n",
    "    m = 'perplexity'\n",
    "    try:\n",
    "        ax = fig.add_subplot(rows, cols, idx)\n",
    "        ax.axis('off')\n",
    "        if isinstance(metrics[m], list):\n",
    "            ax.text(0.5, 0.25, metadata[m]['ordering'][1] + ' ' + str(np.round(metrics[m][1], decimals=2)), \n",
    "                    fontweight='bold', size=18, ha='center', va='center', color=colors[0])\n",
    "            ax.text(0.5, 0.75, metadata[m]['ordering'][0] + ' ' + str(np.round(metrics[m][0], decimals=2)), \n",
    "                    fontweight='bold', size=18, ha='center', va='center', color=colors[1])\n",
    "        else:\n",
    "            ax.text(0.5, 0.5, str(np.round(metrics[m], decimals=2)), fontweight='bold', \n",
    "                    size=35, ha='center', va='center', color=colors[1])\n",
    "        ax.set_title(m, fontweight=\"bold\")\n",
    "        idx += 1\n",
    "    except:\n",
    "        pass\n",
    "    \n",
    "    # emotion\n",
    "    m = 'emotion'\n",
    "    data = []\n",
    "    std  = []\n",
    "    for s in metrics[m]:\n",
    "        try:\n",
    "            data.append(s['score'])\n",
    "            std.append(s['std'])\n",
    "        except:\n",
    "            data.append(s)\n",
    "            std.append(0) \n",
    "    labels = metrics[m][0]['label']\n",
    "    ordering = metadata[m]['ordering']\n",
    "    # 0 - context, 1 - label, 2 - chatbot \n",
    "    radar = BBRadar(labels, data[0], data[1], ordering[0]) # context\n",
    "    radar.subplotEmotionsRadar(rows, cols, fig, idx, legend=ordering[0].split('-'), \n",
    "                               colors=['tab:orange', 'tab:blue'])\n",
    "    idx +=1\n",
    "    radar = BBRadar(labels, data[0], data[2], ordering[1]) # label \n",
    "    radar.subplotEmotionsRadar(rows, cols, fig, idx, legend=ordering[1].split('-'), \n",
    "                               colors=['tab:orange', 'tab:blue'])\n",
    "    idx +=1\n",
    "    radar = BBRadar(labels, data[2], data[1], ordering[2]) # chatbot\n",
    "    radar.subplotEmotionsRadar(rows, cols, fig, idx, legend=ordering[2].split('-'), \n",
    "                               colors=['tab:orange', 'tab:blue'])\n",
    "    idx +=1\n",
    "    ### emotion pearson correlation\n",
    "    ax = fig.add_subplot(rows, cols, idx)\n",
    "    ax.barh(np.array([0.5]), 1, 0.5, color='white', edgecolor='black', linewidth=2)\n",
    "    ax.set_title(m + ' pearson correlation',fontweight=\"bold\")\n",
    "    ax.set_ylim([0,1])\n",
    "    ax.set_xlim([-0.1,1.1])\n",
    "    ax.set_xticks([0, 0.5, 1])\n",
    "    ax.set_xticklabels([-1, 0, 1])\n",
    "    ax.set_yticklabels([], rotation=25)\n",
    "    ax.axvline(x=data[3], ymin=0.2, ymax=0.8, color=colors[1], lw=2)\n",
    "    ax.grid(True)\n",
    "    idx += 1\n",
    "    \n",
    "    # semantic answer similarity\n",
    "    m = 'semantic answer similarity'\n",
    "    data = []\n",
    "    std  = []\n",
    "    for s in metrics[m]:\n",
    "        try:\n",
    "            data.append(s['score'])\n",
    "            std.append(s['std'])\n",
    "        except:\n",
    "            data.append(s)\n",
    "            std.append(0)\n",
    "    ax = fig.add_subplot(rows, cols, idx)\n",
    "    ax.bar(metadata[m]['ordering'], np.array(data), 0.3, yerr=std, color=colors)\n",
    "    ax.set_title(m,fontweight=\"bold\")\n",
    "    ax.set_ylim([0,1])\n",
    "    ax.set_xticklabels(metadata[m]['ordering'], rotation=25)\n",
    "    ax.grid(True)\n",
    "    idx += 1\n",
    "    \n",
    "    # semantic classifier\n",
    "    m = 'semantic classifier'\n",
    "    data = []\n",
    "    std  = []\n",
    "    for s in metrics[m]:\n",
    "        data.append(s['score'])\n",
    "        std.append(s['std'])\n",
    "    ax = fig.add_subplot(rows, cols, idx)\n",
    "    labels = metadata[m]['ordering']\n",
    "    ax.bar(labels, np.array(data), 0.3, yerr=std, color=['tab:orange', 'tab:blue'])\n",
    "    ax.set_title(m,fontweight=\"bold\")\n",
    "    ax.set_ylim([0,1])\n",
    "    ax.set_xticklabels(labels, rotation=25)\n",
    "    ax.grid(True)\n",
    "    idx += 1\n",
    "    \n",
    "    # set title\n",
    "    fig.text(0.2, 0.965, title, horizontalalignment='center', color='black', weight='bold',\n",
    "             size=22)\n",
    "    fig.savefig(os.path.join(out_metricsPlot_folder, title), dpi=fig.dpi)\n",
    "    return None"
   ]
  },
  {
   "cell_type": "code",
   "execution_count": 10,
   "id": "39b13fa4",
   "metadata": {},
   "outputs": [],
   "source": [
    "def read_metric(metric_path):\n",
    "    if os.path.exists(metric_path):\n",
    "        with open(metric_path, 'r') as file:\n",
    "            json_string = file.read()\n",
    "        metrics = json.loads(json_string)\n",
    "        return metrics\n",
    "    else:\n",
    "        raise Exception(\"Loading \" + metric_path + \" failed!\")"
   ]
  },
  {
   "cell_type": "markdown",
   "id": "dba5f523",
   "metadata": {},
   "source": [
    "# Plots and save results"
   ]
  },
  {
   "cell_type": "code",
   "execution_count": 76,
   "id": "c3b1c381",
   "metadata": {},
   "outputs": [],
   "source": [
    "def plotMetricsChars(charList):\n",
    "    os.environ[\"HF_DATASETS_CACHE\"] = os.path.join(base_folder, \"cache\")\n",
    "    \n",
    "    # loads all datasets\n",
    "    characters_hg = [load_df(c) for c in charList]\n",
    "    \n",
    "    # plots datasets\n",
    "    plot_datasets(charList, characters_hg)\n",
    "    \n",
    "    for c1_id in range(len(charList)):\n",
    "        c1 = charList[c1_id]\n",
    "        c1_hg = characters_hg[c1_id]\n",
    "        print('### character', c1)\n",
    "        \n",
    "        \n",
    "        # plots the metrics of base\n",
    "        base_metrics_path          = os.path.join(base_folder, \"Metrics\", \n",
    "                                                  c1+'_base_metrics.json')\n",
    "        base_metric = read_metric(base_metrics_path)\n",
    "        plot_metrics(base_metric, \"Metrics \" + c1 + ' base', c1)\n",
    "        \n",
    "\n",
    "        # plots the metrics of the 3 search strategies\n",
    "        base_metrics_sampling_path = os.path.join(base_folder, \"Metrics\", \n",
    "                                                  c1+'_sampling_comparison_metrics.json')\n",
    "        base_metrics_sampling = read_metric(base_metrics_sampling_path)\n",
    "        for search_strategy in ['greedy_vs_nbeams', 'greedy_vs_sampling', 'nbeams_vs_sampling']:\n",
    "            plot_metrics(base_metrics_sampling[search_strategy], \n",
    "                         \"Metrics \" + c1 + ' search ' + search_strategy.replace('_', ' '),  c1)\n",
    "        \n",
    "        \n",
    "        # plots the metrics c1 vs Not Fine Tuned\n",
    "        c1_vs_nf_metrics_path = os.path.join(base_folder, \"Metrics\", \n",
    "                                             c1+'_vs_nonfinetuned_metrics.json')\n",
    "        c1_vs_nf_metrics = read_metric(c1_vs_nf_metrics_path)\n",
    "        plot_metrics(c1_vs_nf_metrics, \"Metrics \" + c1 + ' vs Not Finetuned', c1)\n",
    "        \n",
    "        \n",
    "        for c2_id in tqdm(range(len(charList))):\n",
    "            if c1_id != c2_id:\n",
    "                c2 = charList[c2_id]\n",
    "                c1_vs_c2_metrics_path = os.path.join(base_folder, \"Metrics\", \n",
    "                                                     c1+'_vs_'+c2+'_metrics.json')\n",
    "                try:\n",
    "                    # if the c1 vs c2 metrics file exists\n",
    "                    c1_vs_c2_metrics = read_metric(c1_vs_c2_metrics_path)\n",
    "                    # load the dataset for c2\n",
    "                    c2_hg = characters_hg[c2_id]\n",
    "                    # and plots the c1 vs c2 metrics\n",
    "                    plot_metrics(c1_vs_c2_metrics, 'Metrics ' + c1 + ' vs ' + c2, c1, c2)\n",
    "                except:\n",
    "                    pass"
   ]
  },
  {
   "cell_type": "code",
   "execution_count": null,
   "id": "58328bbc",
   "metadata": {
    "scrolled": true
   },
   "outputs": [
    {
     "name": "stderr",
     "output_type": "stream",
     "text": [
      "Using custom data configuration default-56c51f8ee6504638\n",
      "Reusing dataset csv (C:\\Users\\User\\Documents\\GitHub\\cache\\csv\\default-56c51f8ee6504638\\0.0.0\\433e0ccc46f9880962cc2b12065189766fbb2bee57a221866138fb9203c83519)\n"
     ]
    },
    {
     "data": {
      "application/vnd.jupyter.widget-view+json": {
       "model_id": "f416d05db2f94e018935fbc096017965",
       "version_major": 2,
       "version_minor": 0
      },
      "text/plain": [
       "  0%|          | 0/1 [00:00<?, ?it/s]"
      ]
     },
     "metadata": {},
     "output_type": "display_data"
    },
    {
     "name": "stderr",
     "output_type": "stream",
     "text": [
      "Loading cached split indices for dataset at C:\\Users\\User\\Documents\\GitHub\\cache\\csv\\default-56c51f8ee6504638\\0.0.0\\433e0ccc46f9880962cc2b12065189766fbb2bee57a221866138fb9203c83519\\cache-482310c4cee47aea.arrow and C:\\Users\\User\\Documents\\GitHub\\cache\\csv\\default-56c51f8ee6504638\\0.0.0\\433e0ccc46f9880962cc2b12065189766fbb2bee57a221866138fb9203c83519\\cache-b479af047c7a3a8a.arrow\n",
      "Loading cached split indices for dataset at C:\\Users\\User\\Documents\\GitHub\\cache\\csv\\default-56c51f8ee6504638\\0.0.0\\433e0ccc46f9880962cc2b12065189766fbb2bee57a221866138fb9203c83519\\cache-7e5ed690a036d827.arrow and C:\\Users\\User\\Documents\\GitHub\\cache\\csv\\default-56c51f8ee6504638\\0.0.0\\433e0ccc46f9880962cc2b12065189766fbb2bee57a221866138fb9203c83519\\cache-65fad66bfddf0a70.arrow\n",
      "Using custom data configuration default-e15532687b493885\n",
      "Reusing dataset csv (C:\\Users\\User\\Documents\\GitHub\\cache\\csv\\default-e15532687b493885\\0.0.0\\433e0ccc46f9880962cc2b12065189766fbb2bee57a221866138fb9203c83519)\n"
     ]
    },
    {
     "data": {
      "application/vnd.jupyter.widget-view+json": {
       "model_id": "1c3ceded47404354ad60596408911a66",
       "version_major": 2,
       "version_minor": 0
      },
      "text/plain": [
       "  0%|          | 0/1 [00:00<?, ?it/s]"
      ]
     },
     "metadata": {},
     "output_type": "display_data"
    },
    {
     "name": "stderr",
     "output_type": "stream",
     "text": [
      "Loading cached split indices for dataset at C:\\Users\\User\\Documents\\GitHub\\cache\\csv\\default-e15532687b493885\\0.0.0\\433e0ccc46f9880962cc2b12065189766fbb2bee57a221866138fb9203c83519\\cache-0c7dfb3359821f55.arrow and C:\\Users\\User\\Documents\\GitHub\\cache\\csv\\default-e15532687b493885\\0.0.0\\433e0ccc46f9880962cc2b12065189766fbb2bee57a221866138fb9203c83519\\cache-f4fc2ad4645ec60e.arrow\n",
      "Loading cached split indices for dataset at C:\\Users\\User\\Documents\\GitHub\\cache\\csv\\default-e15532687b493885\\0.0.0\\433e0ccc46f9880962cc2b12065189766fbb2bee57a221866138fb9203c83519\\cache-56b3ecadecb08897.arrow and C:\\Users\\User\\Documents\\GitHub\\cache\\csv\\default-e15532687b493885\\0.0.0\\433e0ccc46f9880962cc2b12065189766fbb2bee57a221866138fb9203c83519\\cache-839ab26f3ef39d04.arrow\n",
      "Using custom data configuration default-74175dc081abe62e\n",
      "Reusing dataset csv (C:\\Users\\User\\Documents\\GitHub\\cache\\csv\\default-74175dc081abe62e\\0.0.0\\433e0ccc46f9880962cc2b12065189766fbb2bee57a221866138fb9203c83519)\n"
     ]
    },
    {
     "data": {
      "application/vnd.jupyter.widget-view+json": {
       "model_id": "f6bfca90183947c395427e95a75cce55",
       "version_major": 2,
       "version_minor": 0
      },
      "text/plain": [
       "  0%|          | 0/1 [00:00<?, ?it/s]"
      ]
     },
     "metadata": {},
     "output_type": "display_data"
    },
    {
     "name": "stderr",
     "output_type": "stream",
     "text": [
      "Loading cached split indices for dataset at C:\\Users\\User\\Documents\\GitHub\\cache\\csv\\default-74175dc081abe62e\\0.0.0\\433e0ccc46f9880962cc2b12065189766fbb2bee57a221866138fb9203c83519\\cache-ffe32d4102e60a04.arrow and C:\\Users\\User\\Documents\\GitHub\\cache\\csv\\default-74175dc081abe62e\\0.0.0\\433e0ccc46f9880962cc2b12065189766fbb2bee57a221866138fb9203c83519\\cache-298e48f1fd1676f4.arrow\n",
      "Loading cached split indices for dataset at C:\\Users\\User\\Documents\\GitHub\\cache\\csv\\default-74175dc081abe62e\\0.0.0\\433e0ccc46f9880962cc2b12065189766fbb2bee57a221866138fb9203c83519\\cache-0a932e2eb6949702.arrow and C:\\Users\\User\\Documents\\GitHub\\cache\\csv\\default-74175dc081abe62e\\0.0.0\\433e0ccc46f9880962cc2b12065189766fbb2bee57a221866138fb9203c83519\\cache-cf2d9fc6ca39f4a3.arrow\n",
      "Using custom data configuration default-cfcd7c0a1b54c821\n",
      "Reusing dataset csv (C:\\Users\\User\\Documents\\GitHub\\cache\\csv\\default-cfcd7c0a1b54c821\\0.0.0\\433e0ccc46f9880962cc2b12065189766fbb2bee57a221866138fb9203c83519)\n"
     ]
    },
    {
     "data": {
      "application/vnd.jupyter.widget-view+json": {
       "model_id": "424aee15a4474f0d9f37ca19376221e9",
       "version_major": 2,
       "version_minor": 0
      },
      "text/plain": [
       "  0%|          | 0/1 [00:00<?, ?it/s]"
      ]
     },
     "metadata": {},
     "output_type": "display_data"
    },
    {
     "name": "stderr",
     "output_type": "stream",
     "text": [
      "Loading cached split indices for dataset at C:\\Users\\User\\Documents\\GitHub\\cache\\csv\\default-cfcd7c0a1b54c821\\0.0.0\\433e0ccc46f9880962cc2b12065189766fbb2bee57a221866138fb9203c83519\\cache-b43801ce4b994266.arrow and C:\\Users\\User\\Documents\\GitHub\\cache\\csv\\default-cfcd7c0a1b54c821\\0.0.0\\433e0ccc46f9880962cc2b12065189766fbb2bee57a221866138fb9203c83519\\cache-2d410660d12a0648.arrow\n",
      "Loading cached split indices for dataset at C:\\Users\\User\\Documents\\GitHub\\cache\\csv\\default-cfcd7c0a1b54c821\\0.0.0\\433e0ccc46f9880962cc2b12065189766fbb2bee57a221866138fb9203c83519\\cache-865921b06dd004cf.arrow and C:\\Users\\User\\Documents\\GitHub\\cache\\csv\\default-cfcd7c0a1b54c821\\0.0.0\\433e0ccc46f9880962cc2b12065189766fbb2bee57a221866138fb9203c83519\\cache-85cb26e4db7e2019.arrow\n",
      "Using custom data configuration default-f766372b558b0209\n",
      "Reusing dataset csv (C:\\Users\\User\\Documents\\GitHub\\cache\\csv\\default-f766372b558b0209\\0.0.0\\433e0ccc46f9880962cc2b12065189766fbb2bee57a221866138fb9203c83519)\n"
     ]
    },
    {
     "data": {
      "application/vnd.jupyter.widget-view+json": {
       "model_id": "8156021a8a9c4e558945c2bb48c0cf43",
       "version_major": 2,
       "version_minor": 0
      },
      "text/plain": [
       "  0%|          | 0/1 [00:00<?, ?it/s]"
      ]
     },
     "metadata": {},
     "output_type": "display_data"
    },
    {
     "name": "stderr",
     "output_type": "stream",
     "text": [
      "Loading cached split indices for dataset at C:\\Users\\User\\Documents\\GitHub\\cache\\csv\\default-f766372b558b0209\\0.0.0\\433e0ccc46f9880962cc2b12065189766fbb2bee57a221866138fb9203c83519\\cache-9d764f1cad4a2e97.arrow and C:\\Users\\User\\Documents\\GitHub\\cache\\csv\\default-f766372b558b0209\\0.0.0\\433e0ccc46f9880962cc2b12065189766fbb2bee57a221866138fb9203c83519\\cache-b7a3bb5fa9677977.arrow\n",
      "Loading cached split indices for dataset at C:\\Users\\User\\Documents\\GitHub\\cache\\csv\\default-f766372b558b0209\\0.0.0\\433e0ccc46f9880962cc2b12065189766fbb2bee57a221866138fb9203c83519\\cache-437ed1f606359783.arrow and C:\\Users\\User\\Documents\\GitHub\\cache\\csv\\default-f766372b558b0209\\0.0.0\\433e0ccc46f9880962cc2b12065189766fbb2bee57a221866138fb9203c83519\\cache-a4400c3cccb964a2.arrow\n",
      "Using custom data configuration default-4a4b13361a352013\n",
      "Reusing dataset csv (C:\\Users\\User\\Documents\\GitHub\\cache\\csv\\default-4a4b13361a352013\\0.0.0\\433e0ccc46f9880962cc2b12065189766fbb2bee57a221866138fb9203c83519)\n"
     ]
    },
    {
     "data": {
      "application/vnd.jupyter.widget-view+json": {
       "model_id": "0428503020bb4fffb5bdabf4ab2e3568",
       "version_major": 2,
       "version_minor": 0
      },
      "text/plain": [
       "  0%|          | 0/1 [00:00<?, ?it/s]"
      ]
     },
     "metadata": {},
     "output_type": "display_data"
    },
    {
     "name": "stderr",
     "output_type": "stream",
     "text": [
      "Loading cached split indices for dataset at C:\\Users\\User\\Documents\\GitHub\\cache\\csv\\default-4a4b13361a352013\\0.0.0\\433e0ccc46f9880962cc2b12065189766fbb2bee57a221866138fb9203c83519\\cache-fbb971f522249e5e.arrow and C:\\Users\\User\\Documents\\GitHub\\cache\\csv\\default-4a4b13361a352013\\0.0.0\\433e0ccc46f9880962cc2b12065189766fbb2bee57a221866138fb9203c83519\\cache-6cfd3219d21d921e.arrow\n",
      "Loading cached split indices for dataset at C:\\Users\\User\\Documents\\GitHub\\cache\\csv\\default-4a4b13361a352013\\0.0.0\\433e0ccc46f9880962cc2b12065189766fbb2bee57a221866138fb9203c83519\\cache-ef694798657e2b08.arrow and C:\\Users\\User\\Documents\\GitHub\\cache\\csv\\default-4a4b13361a352013\\0.0.0\\433e0ccc46f9880962cc2b12065189766fbb2bee57a221866138fb9203c83519\\cache-02e46530f30d89ce.arrow\n",
      "Using custom data configuration default-3229d32cb72dec20\n",
      "Reusing dataset csv (C:\\Users\\User\\Documents\\GitHub\\cache\\csv\\default-3229d32cb72dec20\\0.0.0\\433e0ccc46f9880962cc2b12065189766fbb2bee57a221866138fb9203c83519)\n"
     ]
    },
    {
     "data": {
      "application/vnd.jupyter.widget-view+json": {
       "model_id": "aaf235d7dd9f48d39a8bd1ec46e04ecd",
       "version_major": 2,
       "version_minor": 0
      },
      "text/plain": [
       "  0%|          | 0/1 [00:00<?, ?it/s]"
      ]
     },
     "metadata": {},
     "output_type": "display_data"
    },
    {
     "name": "stderr",
     "output_type": "stream",
     "text": [
      "Loading cached split indices for dataset at C:\\Users\\User\\Documents\\GitHub\\cache\\csv\\default-3229d32cb72dec20\\0.0.0\\433e0ccc46f9880962cc2b12065189766fbb2bee57a221866138fb9203c83519\\cache-54d20f1090876553.arrow and C:\\Users\\User\\Documents\\GitHub\\cache\\csv\\default-3229d32cb72dec20\\0.0.0\\433e0ccc46f9880962cc2b12065189766fbb2bee57a221866138fb9203c83519\\cache-54b0a7c6c2ed48c8.arrow\n",
      "Loading cached split indices for dataset at C:\\Users\\User\\Documents\\GitHub\\cache\\csv\\default-3229d32cb72dec20\\0.0.0\\433e0ccc46f9880962cc2b12065189766fbb2bee57a221866138fb9203c83519\\cache-3ced49a60756db38.arrow and C:\\Users\\User\\Documents\\GitHub\\cache\\csv\\default-3229d32cb72dec20\\0.0.0\\433e0ccc46f9880962cc2b12065189766fbb2bee57a221866138fb9203c83519\\cache-a028844e7904d561.arrow\n",
      "Using custom data configuration default-c04fcba0987fb2bb\n",
      "Reusing dataset csv (C:\\Users\\User\\Documents\\GitHub\\cache\\csv\\default-c04fcba0987fb2bb\\0.0.0\\433e0ccc46f9880962cc2b12065189766fbb2bee57a221866138fb9203c83519)\n"
     ]
    },
    {
     "data": {
      "application/vnd.jupyter.widget-view+json": {
       "model_id": "dcafc0b2f1a44d7e8dd2fdc50b8a1992",
       "version_major": 2,
       "version_minor": 0
      },
      "text/plain": [
       "  0%|          | 0/1 [00:00<?, ?it/s]"
      ]
     },
     "metadata": {},
     "output_type": "display_data"
    },
    {
     "name": "stderr",
     "output_type": "stream",
     "text": [
      "Loading cached split indices for dataset at C:\\Users\\User\\Documents\\GitHub\\cache\\csv\\default-c04fcba0987fb2bb\\0.0.0\\433e0ccc46f9880962cc2b12065189766fbb2bee57a221866138fb9203c83519\\cache-40d83aff9ef726b3.arrow and C:\\Users\\User\\Documents\\GitHub\\cache\\csv\\default-c04fcba0987fb2bb\\0.0.0\\433e0ccc46f9880962cc2b12065189766fbb2bee57a221866138fb9203c83519\\cache-8abb3fcb5b1f75ee.arrow\n",
      "Loading cached split indices for dataset at C:\\Users\\User\\Documents\\GitHub\\cache\\csv\\default-c04fcba0987fb2bb\\0.0.0\\433e0ccc46f9880962cc2b12065189766fbb2bee57a221866138fb9203c83519\\cache-54981c42f3694cf4.arrow and C:\\Users\\User\\Documents\\GitHub\\cache\\csv\\default-c04fcba0987fb2bb\\0.0.0\\433e0ccc46f9880962cc2b12065189766fbb2bee57a221866138fb9203c83519\\cache-c101d6958ca68893.arrow\n"
     ]
    },
    {
     "name": "stdout",
     "output_type": "stream",
     "text": [
      "### character Barney\n"
     ]
    },
    {
     "name": "stderr",
     "output_type": "stream",
     "text": [
      "100%|██████████| 8/8 [00:01<00:00,  5.90it/s]\n"
     ]
    },
    {
     "name": "stdout",
     "output_type": "stream",
     "text": [
      "### character Sheldon\n"
     ]
    },
    {
     "name": "stderr",
     "output_type": "stream",
     "text": [
      "100%|██████████| 8/8 [00:01<00:00,  4.28it/s]\n"
     ]
    },
    {
     "name": "stdout",
     "output_type": "stream",
     "text": [
      "### character Harry\n"
     ]
    },
    {
     "name": "stderr",
     "output_type": "stream",
     "text": [
      "100%|██████████| 8/8 [00:00<?, ?it/s]\n"
     ]
    },
    {
     "name": "stdout",
     "output_type": "stream",
     "text": [
      "### character Fry\n"
     ]
    },
    {
     "name": "stderr",
     "output_type": "stream",
     "text": [
      "100%|██████████| 8/8 [00:00<00:00, 14.16it/s]\n"
     ]
    },
    {
     "name": "stdout",
     "output_type": "stream",
     "text": [
      "### character Vader\n"
     ]
    }
   ],
   "source": [
    "plotMetricsChars(characters)"
   ]
  },
  {
   "cell_type": "code",
   "execution_count": null,
   "id": "f8b76c0b",
   "metadata": {},
   "outputs": [],
   "source": []
  },
  {
   "cell_type": "code",
   "execution_count": null,
   "id": "e26f8c5c",
   "metadata": {},
   "outputs": [],
   "source": []
  }
 ],
 "metadata": {
  "kernelspec": {
   "display_name": "Python 3 (ipykernel)",
   "language": "python",
   "name": "python3"
  },
  "language_info": {
   "codemirror_mode": {
    "name": "ipython",
    "version": 3
   },
   "file_extension": ".py",
   "mimetype": "text/x-python",
   "name": "python",
   "nbconvert_exporter": "python",
   "pygments_lexer": "ipython3",
   "version": "3.8.12"
  }
 },
 "nbformat": 4,
 "nbformat_minor": 5
}
