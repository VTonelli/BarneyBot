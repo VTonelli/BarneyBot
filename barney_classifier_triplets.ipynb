{
 "cells": [
  {
   "cell_type": "code",
   "execution_count": 1,
   "id": "70fcf50e",
   "metadata": {},
   "outputs": [],
   "source": [
    "# Mount google drive\n",
    "import os\n",
    "try:\n",
    "    import google.colab\n",
    "    IN_COLAB = True\n",
    "except:\n",
    "    IN_COLAB = False\n",
    "if IN_COLAB:\n",
    "    from google.colab import drive\n",
    "    drive.mount('/content/drive',force_remount=True)\n",
    "    base_folder = '/content/drive/My Drive/unibo/NLP_project/BarneyBot'\n",
    "    os.system(\"pip install datasets\")\n",
    "    os.system(\"pip install transformers\")\n",
    "    os.system(\"pip install rouge_score\")\n",
    "    os.system(\"pip install -U sentence-transformers\")\n",
    "else:\n",
    "    base_folder = os.getcwd()\n",
    "    \n",
    "in_folder = os.path.join(base_folder, \"in\")\n",
    "if not os.path.exists(in_folder):\n",
    "    os.makedirs(in_folder)\n",
    "out_folder = os.path.join(base_folder, \"out\")\n",
    "if not os.path.exists(out_folder):\n",
    "    os.makedirs(out_folder)"
   ]
  },
  {
   "cell_type": "code",
   "execution_count": 2,
   "id": "24485b2f",
   "metadata": {},
   "outputs": [],
   "source": [
    "import torch\n",
    "import torchvision\n",
    "import torchvision.transforms as transforms\n",
    "import pandas as pd\n",
    "import numpy as np\n",
    "from tqdm import tqdm\n",
    "from matplotlib import pyplot as plt\n",
    "%matplotlib inline\n",
    "from sklearn.metrics import confusion_matrix, ConfusionMatrixDisplay"
   ]
  },
  {
   "cell_type": "code",
   "execution_count": 3,
   "id": "590d5ff2",
   "metadata": {},
   "outputs": [],
   "source": [
    "character_dict = {\n",
    "    'Barney':{\n",
    "        'classifier_name': 'barney_classifier',\n",
    "        'series_df_filename': 'HIMYM_preprocessed.csv',\n",
    "        'classifier_df': 'barney_classifier.csv',\n",
    "        'encoded_lines_filename': 'barney_encoded_lines.npy'\n",
    "    },\n",
    "    'Sheldon':{\n",
    "        'classifier_name': 'sheldon_classifier'\n",
    "    },\n",
    "    'Harry':{\n",
    "        'classifier_name': 'harry_classifier'\n",
    "    },\n",
    "    'Fry':{\n",
    "        'classifier_name': 'fry_classifier'\n",
    "    }\n",
    "             }"
   ]
  },
  {
   "cell_type": "code",
   "execution_count": 4,
   "id": "ed2f4026",
   "metadata": {},
   "outputs": [],
   "source": [
    "batch_size = 16\n",
    "epochs = 100\n",
    "lr = 1e-6\n",
    "regularizer_weight_r = 1e-4\n",
    "regularizer_weight_s = 1e-3\n",
    "dropout_rate = 0.2\n",
    "train_size = 0.85\n",
    "test_size = 0.10\n",
    "\n",
    "from_saved_embeddings = True\n",
    "\n",
    "character = 'Barney'"
   ]
  },
  {
   "cell_type": "code",
   "execution_count": 5,
   "id": "b12d21d4",
   "metadata": {},
   "outputs": [],
   "source": [
    "character_folder = os.path.join(base_folder, \"Datasets\", \"Characters\", character)\n",
    "\n",
    "model_path = os.path.join(character_folder, character_dict[character]['classifier_name'])"
   ]
  },
  {
   "cell_type": "markdown",
   "id": "32d57b85",
   "metadata": {},
   "source": [
    "# Dataset"
   ]
  },
  {
   "cell_type": "code",
   "execution_count": 6,
   "id": "6c94dba2",
   "metadata": {},
   "outputs": [],
   "source": [
    "series_df = pd.read_csv(os.path.join(character_folder, character_dict[character]['series_df_filename']))"
   ]
  },
  {
   "cell_type": "code",
   "execution_count": 7,
   "id": "50ae19e0",
   "metadata": {},
   "outputs": [
    {
     "data": {
      "text/html": [
       "<div>\n",
       "<style scoped>\n",
       "    .dataframe tbody tr th:only-of-type {\n",
       "        vertical-align: middle;\n",
       "    }\n",
       "\n",
       "    .dataframe tbody tr th {\n",
       "        vertical-align: top;\n",
       "    }\n",
       "\n",
       "    .dataframe thead th {\n",
       "        text-align: right;\n",
       "    }\n",
       "</style>\n",
       "<table border=\"1\" class=\"dataframe\">\n",
       "  <thead>\n",
       "    <tr style=\"text-align: right;\">\n",
       "      <th></th>\n",
       "      <th>episode</th>\n",
       "      <th>line</th>\n",
       "      <th>character</th>\n",
       "    </tr>\n",
       "  </thead>\n",
       "  <tbody>\n",
       "    <tr>\n",
       "      <th>14</th>\n",
       "      <td>01x01</td>\n",
       "      <td>hey, so you know how I've always had a thing f...</td>\n",
       "      <td>Barney</td>\n",
       "    </tr>\n",
       "    <tr>\n",
       "      <th>16</th>\n",
       "      <td>01x01</td>\n",
       "      <td>Okay, meet me at the bar in fifteen minutes, a...</td>\n",
       "      <td>Barney</td>\n",
       "    </tr>\n",
       "    <tr>\n",
       "      <th>18</th>\n",
       "      <td>01x01</td>\n",
       "      <td>Where's your suit!? Just once when I say suit ...</td>\n",
       "      <td>Barney</td>\n",
       "    </tr>\n",
       "    <tr>\n",
       "      <th>20</th>\n",
       "      <td>01x01</td>\n",
       "      <td>It was a blazer!</td>\n",
       "      <td>Barney</td>\n",
       "    </tr>\n",
       "    <tr>\n",
       "      <th>22</th>\n",
       "      <td>01x01</td>\n",
       "      <td>I see what this is about. Have you forgotten w...</td>\n",
       "      <td>Barney</td>\n",
       "    </tr>\n",
       "    <tr>\n",
       "      <th>...</th>\n",
       "      <td>...</td>\n",
       "      <td>...</td>\n",
       "      <td>...</td>\n",
       "    </tr>\n",
       "    <tr>\n",
       "      <th>31210</th>\n",
       "      <td>08x24</td>\n",
       "      <td>I'm probably saying some political stuff right...</td>\n",
       "      <td>Barney</td>\n",
       "    </tr>\n",
       "    <tr>\n",
       "      <th>31214</th>\n",
       "      <td>08x24</td>\n",
       "      <td>Whoa. Is there going to be a fight?</td>\n",
       "      <td>Barney</td>\n",
       "    </tr>\n",
       "    <tr>\n",
       "      <th>31449</th>\n",
       "      <td>09x10</td>\n",
       "      <td>Karate Kid bad boy Billy Zabka, a shifty-eyed ...</td>\n",
       "      <td>Barney</td>\n",
       "    </tr>\n",
       "    <tr>\n",
       "      <th>31557</th>\n",
       "      <td>09x15</td>\n",
       "      <td>me or you?</td>\n",
       "      <td>Barney</td>\n",
       "    </tr>\n",
       "    <tr>\n",
       "      <th>31635</th>\n",
       "      <td>09x19</td>\n",
       "      <td>Lovers Foreve,  i  rand Ever and Ever: A Love ...</td>\n",
       "      <td>Barney</td>\n",
       "    </tr>\n",
       "  </tbody>\n",
       "</table>\n",
       "<p>5142 rows × 3 columns</p>\n",
       "</div>"
      ],
      "text/plain": [
       "      episode                                               line character\n",
       "14      01x01  hey, so you know how I've always had a thing f...    Barney\n",
       "16      01x01  Okay, meet me at the bar in fifteen minutes, a...    Barney\n",
       "18      01x01  Where's your suit!? Just once when I say suit ...    Barney\n",
       "20      01x01                                   It was a blazer!    Barney\n",
       "22      01x01  I see what this is about. Have you forgotten w...    Barney\n",
       "...       ...                                                ...       ...\n",
       "31210   08x24  I'm probably saying some political stuff right...    Barney\n",
       "31214   08x24                Whoa. Is there going to be a fight?    Barney\n",
       "31449   09x10  Karate Kid bad boy Billy Zabka, a shifty-eyed ...    Barney\n",
       "31557   09x15                                         me or you?    Barney\n",
       "31635   09x19  Lovers Foreve,  i  rand Ever and Ever: A Love ...    Barney\n",
       "\n",
       "[5142 rows x 3 columns]"
      ]
     },
     "execution_count": 7,
     "metadata": {},
     "output_type": "execute_result"
    }
   ],
   "source": [
    "series_df[series_df['character']==character]"
   ]
  },
  {
   "cell_type": "code",
   "execution_count": 8,
   "id": "b3528a97",
   "metadata": {},
   "outputs": [],
   "source": [
    "series_df['character'] = series_df['character'].apply(lambda x: 1 if x==character else 0)"
   ]
  },
  {
   "cell_type": "code",
   "execution_count": 9,
   "id": "c5a770da",
   "metadata": {
    "scrolled": false
   },
   "outputs": [
    {
     "data": {
      "text/html": [
       "<div>\n",
       "<style scoped>\n",
       "    .dataframe tbody tr th:only-of-type {\n",
       "        vertical-align: middle;\n",
       "    }\n",
       "\n",
       "    .dataframe tbody tr th {\n",
       "        vertical-align: top;\n",
       "    }\n",
       "\n",
       "    .dataframe thead th {\n",
       "        text-align: right;\n",
       "    }\n",
       "</style>\n",
       "<table border=\"1\" class=\"dataframe\">\n",
       "  <thead>\n",
       "    <tr style=\"text-align: right;\">\n",
       "      <th></th>\n",
       "      <th>episode</th>\n",
       "      <th>line</th>\n",
       "      <th>character</th>\n",
       "    </tr>\n",
       "  </thead>\n",
       "  <tbody>\n",
       "    <tr>\n",
       "      <th>14</th>\n",
       "      <td>01x01</td>\n",
       "      <td>hey, so you know how I've always had a thing f...</td>\n",
       "      <td>1</td>\n",
       "    </tr>\n",
       "    <tr>\n",
       "      <th>16</th>\n",
       "      <td>01x01</td>\n",
       "      <td>Okay, meet me at the bar in fifteen minutes, a...</td>\n",
       "      <td>1</td>\n",
       "    </tr>\n",
       "    <tr>\n",
       "      <th>18</th>\n",
       "      <td>01x01</td>\n",
       "      <td>Where's your suit!? Just once when I say suit ...</td>\n",
       "      <td>1</td>\n",
       "    </tr>\n",
       "    <tr>\n",
       "      <th>20</th>\n",
       "      <td>01x01</td>\n",
       "      <td>It was a blazer!</td>\n",
       "      <td>1</td>\n",
       "    </tr>\n",
       "    <tr>\n",
       "      <th>22</th>\n",
       "      <td>01x01</td>\n",
       "      <td>I see what this is about. Have you forgotten w...</td>\n",
       "      <td>1</td>\n",
       "    </tr>\n",
       "    <tr>\n",
       "      <th>...</th>\n",
       "      <td>...</td>\n",
       "      <td>...</td>\n",
       "      <td>...</td>\n",
       "    </tr>\n",
       "    <tr>\n",
       "      <th>31210</th>\n",
       "      <td>08x24</td>\n",
       "      <td>I'm probably saying some political stuff right...</td>\n",
       "      <td>1</td>\n",
       "    </tr>\n",
       "    <tr>\n",
       "      <th>31214</th>\n",
       "      <td>08x24</td>\n",
       "      <td>Whoa. Is there going to be a fight?</td>\n",
       "      <td>1</td>\n",
       "    </tr>\n",
       "    <tr>\n",
       "      <th>31449</th>\n",
       "      <td>09x10</td>\n",
       "      <td>Karate Kid bad boy Billy Zabka, a shifty-eyed ...</td>\n",
       "      <td>1</td>\n",
       "    </tr>\n",
       "    <tr>\n",
       "      <th>31557</th>\n",
       "      <td>09x15</td>\n",
       "      <td>me or you?</td>\n",
       "      <td>1</td>\n",
       "    </tr>\n",
       "    <tr>\n",
       "      <th>31635</th>\n",
       "      <td>09x19</td>\n",
       "      <td>Lovers Foreve,  i  rand Ever and Ever: A Love ...</td>\n",
       "      <td>1</td>\n",
       "    </tr>\n",
       "  </tbody>\n",
       "</table>\n",
       "<p>5142 rows × 3 columns</p>\n",
       "</div>"
      ],
      "text/plain": [
       "      episode                                               line  character\n",
       "14      01x01  hey, so you know how I've always had a thing f...          1\n",
       "16      01x01  Okay, meet me at the bar in fifteen minutes, a...          1\n",
       "18      01x01  Where's your suit!? Just once when I say suit ...          1\n",
       "20      01x01                                   It was a blazer!          1\n",
       "22      01x01  I see what this is about. Have you forgotten w...          1\n",
       "...       ...                                                ...        ...\n",
       "31210   08x24  I'm probably saying some political stuff right...          1\n",
       "31214   08x24                Whoa. Is there going to be a fight?          1\n",
       "31449   09x10  Karate Kid bad boy Billy Zabka, a shifty-eyed ...          1\n",
       "31557   09x15                                         me or you?          1\n",
       "31635   09x19  Lovers Foreve,  i  rand Ever and Ever: A Love ...          1\n",
       "\n",
       "[5142 rows x 3 columns]"
      ]
     },
     "execution_count": 9,
     "metadata": {},
     "output_type": "execute_result"
    }
   ],
   "source": [
    "series_df[series_df['character']==1]"
   ]
  },
  {
   "cell_type": "code",
   "execution_count": 10,
   "id": "b2450442",
   "metadata": {},
   "outputs": [],
   "source": [
    "series_df = series_df.drop(columns=['episode'])"
   ]
  },
  {
   "cell_type": "code",
   "execution_count": 11,
   "id": "7c2be857",
   "metadata": {},
   "outputs": [],
   "source": [
    "classes = (0, 1)"
   ]
  },
  {
   "cell_type": "markdown",
   "id": "a9ebeff1",
   "metadata": {},
   "source": [
    "# Model"
   ]
  },
  {
   "cell_type": "markdown",
   "id": "b004bc73",
   "metadata": {},
   "source": [
    "## Sentence Transformer"
   ]
  },
  {
   "cell_type": "code",
   "execution_count": 12,
   "id": "b779ba24",
   "metadata": {},
   "outputs": [],
   "source": [
    "from sentence_transformers import SentenceTransformer\n",
    "\n",
    "if not from_saved_embeddings:\n",
    "    sentence_transformer = SentenceTransformer(\"sentence-transformers/paraphrase-multilingual-mpnet-base-v2\")"
   ]
  },
  {
   "cell_type": "code",
   "execution_count": 13,
   "id": "7a48bccb",
   "metadata": {
    "scrolled": true
   },
   "outputs": [],
   "source": [
    "if not from_saved_embeddings:\n",
    "    sentence_transformer"
   ]
  },
  {
   "cell_type": "markdown",
   "id": "cd6962cc",
   "metadata": {},
   "source": [
    "## Sentence Encoding"
   ]
  },
  {
   "cell_type": "code",
   "execution_count": 14,
   "id": "116298b0",
   "metadata": {},
   "outputs": [],
   "source": [
    "if not from_saved_embeddings:\n",
    "\n",
    "    series_df['encoded_line'] = [sentence_transformer.encode(line) for line in tqdm(series_df['line'])]\n",
    "\n",
    "    # save sentences dataset\n",
    "    series_df[['line', 'character']].to_csv(\n",
    "        os.path.join(character_folder, character_dict[character]['classifier_df']), \n",
    "        index = False\n",
    "    )\n",
    "\n",
    "    np.save(\n",
    "        os.path.join(character_folder, character_dict[character]['encoded_lines_filename']),\n",
    "        series_df['encoded_line'].to_numpy()\n",
    "    )"
   ]
  },
  {
   "cell_type": "code",
   "execution_count": 15,
   "id": "b7b6b1f0",
   "metadata": {},
   "outputs": [],
   "source": [
    "from numba import cuda\n",
    "\n",
    "if not from_saved_embeddings: \n",
    "    # free gpu memory\n",
    "    cuda.select_device(0)\n",
    "    cuda.close()"
   ]
  },
  {
   "cell_type": "code",
   "execution_count": 16,
   "id": "35e2d77a",
   "metadata": {},
   "outputs": [],
   "source": [
    "# read sentences dataaset\n",
    "series_df = pd.read_csv(\n",
    "    os.path.join(character_folder, character_dict[character]['classifier_df']),\n",
    "    dtype={'line': str,\n",
    "           'character': int\n",
    "          }\n",
    ")\n",
    "\n",
    "series_df['encoded_line'] = np.load(\n",
    "    os.path.join(character_folder, character_dict[character]['encoded_lines_filename']), \n",
    "    allow_pickle=True\n",
    ")"
   ]
  },
  {
   "cell_type": "code",
   "execution_count": 17,
   "id": "40409fd9",
   "metadata": {
    "scrolled": true
   },
   "outputs": [
    {
     "data": {
      "text/html": [
       "<div>\n",
       "<style scoped>\n",
       "    .dataframe tbody tr th:only-of-type {\n",
       "        vertical-align: middle;\n",
       "    }\n",
       "\n",
       "    .dataframe tbody tr th {\n",
       "        vertical-align: top;\n",
       "    }\n",
       "\n",
       "    .dataframe thead th {\n",
       "        text-align: right;\n",
       "    }\n",
       "</style>\n",
       "<table border=\"1\" class=\"dataframe\">\n",
       "  <thead>\n",
       "    <tr style=\"text-align: right;\">\n",
       "      <th></th>\n",
       "      <th>line</th>\n",
       "      <th>character</th>\n",
       "      <th>encoded_line</th>\n",
       "    </tr>\n",
       "  </thead>\n",
       "  <tbody>\n",
       "    <tr>\n",
       "      <th>0</th>\n",
       "      <td>Kids, I'm going to tell you an incredible stor...</td>\n",
       "      <td>0</td>\n",
       "      <td>[-0.0060349987, 0.3398651, -0.013500607, 0.051...</td>\n",
       "    </tr>\n",
       "    <tr>\n",
       "      <th>1</th>\n",
       "      <td>Are we being punished for something?</td>\n",
       "      <td>0</td>\n",
       "      <td>[0.24517804, 0.06231432, -0.015702646, 0.03040...</td>\n",
       "    </tr>\n",
       "    <tr>\n",
       "      <th>2</th>\n",
       "      <td>No</td>\n",
       "      <td>0</td>\n",
       "      <td>[0.010471302, 0.074272856, -0.015337698, 0.099...</td>\n",
       "    </tr>\n",
       "    <tr>\n",
       "      <th>3</th>\n",
       "      <td>Yeah, is this going to take a while?</td>\n",
       "      <td>0</td>\n",
       "      <td>[0.25085106, 0.3401538, -0.0066933706, -0.1009...</td>\n",
       "    </tr>\n",
       "    <tr>\n",
       "      <th>4</th>\n",
       "      <td>Yes.  Twenty-five years ago, before I was dad,...</td>\n",
       "      <td>0</td>\n",
       "      <td>[0.07280163, 0.24518006, -0.009924358, -0.1859...</td>\n",
       "    </tr>\n",
       "    <tr>\n",
       "      <th>...</th>\n",
       "      <td>...</td>\n",
       "      <td>...</td>\n",
       "      <td>...</td>\n",
       "    </tr>\n",
       "    <tr>\n",
       "      <th>31771</th>\n",
       "      <td>Aunt Lily wasn't wrong.</td>\n",
       "      <td>0</td>\n",
       "      <td>[0.008160515, 0.09477018, -0.01352677, 0.13088...</td>\n",
       "    </tr>\n",
       "    <tr>\n",
       "      <th>31772</th>\n",
       "      <td>00 a.m. Christmas morning, every sleepy Sunday...</td>\n",
       "      <td>0</td>\n",
       "      <td>[-0.17137574, -0.0025946363, -0.008149227, 0.0...</td>\n",
       "    </tr>\n",
       "    <tr>\n",
       "      <th>31773</th>\n",
       "      <td>T.M.</td>\n",
       "      <td>0</td>\n",
       "      <td>[-0.025203055, -0.27510342, -0.010736528, 0.03...</td>\n",
       "    </tr>\n",
       "    <tr>\n",
       "      <th>31774</th>\n",
       "      <td>T.M.</td>\n",
       "      <td>0</td>\n",
       "      <td>[-0.025203055, -0.27510342, -0.010736528, 0.03...</td>\n",
       "    </tr>\n",
       "    <tr>\n",
       "      <th>31775</th>\n",
       "      <td>To Me.</td>\n",
       "      <td>0</td>\n",
       "      <td>[-0.039488338, -0.024729759, -0.013638151, 0.0...</td>\n",
       "    </tr>\n",
       "  </tbody>\n",
       "</table>\n",
       "<p>31776 rows × 3 columns</p>\n",
       "</div>"
      ],
      "text/plain": [
       "                                                    line  character  \\\n",
       "0      Kids, I'm going to tell you an incredible stor...          0   \n",
       "1                   Are we being punished for something?          0   \n",
       "2                                                     No          0   \n",
       "3                   Yeah, is this going to take a while?          0   \n",
       "4      Yes.  Twenty-five years ago, before I was dad,...          0   \n",
       "...                                                  ...        ...   \n",
       "31771                            Aunt Lily wasn't wrong.          0   \n",
       "31772  00 a.m. Christmas morning, every sleepy Sunday...          0   \n",
       "31773                                               T.M.          0   \n",
       "31774                                               T.M.          0   \n",
       "31775                                             To Me.          0   \n",
       "\n",
       "                                            encoded_line  \n",
       "0      [-0.0060349987, 0.3398651, -0.013500607, 0.051...  \n",
       "1      [0.24517804, 0.06231432, -0.015702646, 0.03040...  \n",
       "2      [0.010471302, 0.074272856, -0.015337698, 0.099...  \n",
       "3      [0.25085106, 0.3401538, -0.0066933706, -0.1009...  \n",
       "4      [0.07280163, 0.24518006, -0.009924358, -0.1859...  \n",
       "...                                                  ...  \n",
       "31771  [0.008160515, 0.09477018, -0.01352677, 0.13088...  \n",
       "31772  [-0.17137574, -0.0025946363, -0.008149227, 0.0...  \n",
       "31773  [-0.025203055, -0.27510342, -0.010736528, 0.03...  \n",
       "31774  [-0.025203055, -0.27510342, -0.010736528, 0.03...  \n",
       "31775  [-0.039488338, -0.024729759, -0.013638151, 0.0...  \n",
       "\n",
       "[31776 rows x 3 columns]"
      ]
     },
     "execution_count": 17,
     "metadata": {},
     "output_type": "execute_result"
    }
   ],
   "source": [
    "series_df"
   ]
  },
  {
   "cell_type": "code",
   "execution_count": 18,
   "id": "50509769",
   "metadata": {},
   "outputs": [],
   "source": [
    "def get_triplet_df(series_df, n_shuffles=1):\n",
    "    \n",
    "    # separate character from others\n",
    "    series_df_1 = series_df[series_df['character']==1].copy()\n",
    "    series_df_0 = series_df[series_df['character']==0].copy()\n",
    "    \n",
    "    df_rows = {'character':[], 'encoded_lines':[]}\n",
    "    \n",
    "    for _ in range(n_shuffles):\n",
    "        # shuffle dataset\n",
    "        series_df_1 = series_df_1.sample(frac=1).reset_index(drop=True)\n",
    "        series_df_0 = series_df_0.sample(n=len(series_df_1)).reset_index(drop=True)\n",
    "        \n",
    "        for i in tqdm(range(2,len(series_df_1))):\n",
    "            # character\n",
    "            lines = list(series_df_1['encoded_line'][i-2:i+1])\n",
    "            lines = np.concatenate(lines)\n",
    "            df_rows['character'].append(1)\n",
    "            df_rows['encoded_lines'].append(lines)\n",
    "\n",
    "            # other\n",
    "            lines = list(series_df_0['encoded_line'][i-2:i+1])\n",
    "            lines = np.concatenate(lines)\n",
    "            df_rows['character'].append(0)\n",
    "            df_rows['encoded_lines'].append(lines)\n",
    "\n",
    "    df = pd.DataFrame(data=df_rows)\n",
    "    \n",
    "    return df.sample(frac=1).reset_index(drop=True)"
   ]
  },
  {
   "cell_type": "code",
   "execution_count": 19,
   "id": "b6274674",
   "metadata": {},
   "outputs": [
    {
     "name": "stderr",
     "output_type": "stream",
     "text": [
      "100%|███████████████████████████████████████████████████████████████████████████| 5140/5140 [00:00<00:00, 13730.80it/s]\n",
      "100%|███████████████████████████████████████████████████████████████████████████| 5140/5140 [00:00<00:00, 13606.99it/s]\n",
      "100%|███████████████████████████████████████████████████████████████████████████| 5140/5140 [00:00<00:00, 13698.49it/s]\n"
     ]
    },
    {
     "data": {
      "text/html": [
       "<div>\n",
       "<style scoped>\n",
       "    .dataframe tbody tr th:only-of-type {\n",
       "        vertical-align: middle;\n",
       "    }\n",
       "\n",
       "    .dataframe tbody tr th {\n",
       "        vertical-align: top;\n",
       "    }\n",
       "\n",
       "    .dataframe thead th {\n",
       "        text-align: right;\n",
       "    }\n",
       "</style>\n",
       "<table border=\"1\" class=\"dataframe\">\n",
       "  <thead>\n",
       "    <tr style=\"text-align: right;\">\n",
       "      <th></th>\n",
       "      <th>character</th>\n",
       "      <th>encoded_lines</th>\n",
       "    </tr>\n",
       "  </thead>\n",
       "  <tbody>\n",
       "    <tr>\n",
       "      <th>0</th>\n",
       "      <td>0</td>\n",
       "      <td>[-0.048949428, -0.06472829, -0.013599568, 0.02...</td>\n",
       "    </tr>\n",
       "    <tr>\n",
       "      <th>1</th>\n",
       "      <td>0</td>\n",
       "      <td>[-0.07747611, 0.02710488, -0.015132442, 0.0842...</td>\n",
       "    </tr>\n",
       "    <tr>\n",
       "      <th>2</th>\n",
       "      <td>1</td>\n",
       "      <td>[-0.0124718845, 0.179125, -0.007953476, 0.0217...</td>\n",
       "    </tr>\n",
       "    <tr>\n",
       "      <th>3</th>\n",
       "      <td>0</td>\n",
       "      <td>[0.061427712, -0.01357585, -0.013588452, 0.016...</td>\n",
       "    </tr>\n",
       "    <tr>\n",
       "      <th>4</th>\n",
       "      <td>0</td>\n",
       "      <td>[-0.07993902, -0.14875337, -0.007521808, 0.158...</td>\n",
       "    </tr>\n",
       "    <tr>\n",
       "      <th>...</th>\n",
       "      <td>...</td>\n",
       "      <td>...</td>\n",
       "    </tr>\n",
       "    <tr>\n",
       "      <th>30835</th>\n",
       "      <td>0</td>\n",
       "      <td>[0.057312254, 0.17898403, -0.010028928, -0.037...</td>\n",
       "    </tr>\n",
       "    <tr>\n",
       "      <th>30836</th>\n",
       "      <td>0</td>\n",
       "      <td>[-0.006781244, 0.24637458, -0.008550231, 0.018...</td>\n",
       "    </tr>\n",
       "    <tr>\n",
       "      <th>30837</th>\n",
       "      <td>0</td>\n",
       "      <td>[0.093437806, -0.03416571, -0.008995633, 0.011...</td>\n",
       "    </tr>\n",
       "    <tr>\n",
       "      <th>30838</th>\n",
       "      <td>0</td>\n",
       "      <td>[0.021078348, 0.34955186, -0.012320836, -0.192...</td>\n",
       "    </tr>\n",
       "    <tr>\n",
       "      <th>30839</th>\n",
       "      <td>1</td>\n",
       "      <td>[0.0433876, 0.439019, -0.010127083, 0.09546448...</td>\n",
       "    </tr>\n",
       "  </tbody>\n",
       "</table>\n",
       "<p>30840 rows × 2 columns</p>\n",
       "</div>"
      ],
      "text/plain": [
       "       character                                      encoded_lines\n",
       "0              0  [-0.048949428, -0.06472829, -0.013599568, 0.02...\n",
       "1              0  [-0.07747611, 0.02710488, -0.015132442, 0.0842...\n",
       "2              1  [-0.0124718845, 0.179125, -0.007953476, 0.0217...\n",
       "3              0  [0.061427712, -0.01357585, -0.013588452, 0.016...\n",
       "4              0  [-0.07993902, -0.14875337, -0.007521808, 0.158...\n",
       "...          ...                                                ...\n",
       "30835          0  [0.057312254, 0.17898403, -0.010028928, -0.037...\n",
       "30836          0  [-0.006781244, 0.24637458, -0.008550231, 0.018...\n",
       "30837          0  [0.093437806, -0.03416571, -0.008995633, 0.011...\n",
       "30838          0  [0.021078348, 0.34955186, -0.012320836, -0.192...\n",
       "30839          1  [0.0433876, 0.439019, -0.010127083, 0.09546448...\n",
       "\n",
       "[30840 rows x 2 columns]"
      ]
     },
     "execution_count": 19,
     "metadata": {},
     "output_type": "execute_result"
    }
   ],
   "source": [
    "shuffled_df = get_triplet_df(series_df, n_shuffles=3)\n",
    "shuffled_df"
   ]
  },
  {
   "cell_type": "markdown",
   "id": "537e0941",
   "metadata": {},
   "source": [
    "## Create Classification Dataset"
   ]
  },
  {
   "cell_type": "code",
   "execution_count": 20,
   "id": "b9921212",
   "metadata": {},
   "outputs": [
    {
     "name": "stdout",
     "output_type": "stream",
     "text": [
      "30840 26214 3084 1542\n"
     ]
    }
   ],
   "source": [
    "tot_len = len(shuffled_df)\n",
    "train_len = int(tot_len*train_size)\n",
    "test_len = int(tot_len*test_size)\n",
    "val_len = tot_len - train_len - test_len\n",
    "\n",
    "print(tot_len, train_len, test_len, val_len)"
   ]
  },
  {
   "cell_type": "code",
   "execution_count": 21,
   "id": "a5de4bd1",
   "metadata": {},
   "outputs": [],
   "source": [
    "X_train = np.array([[float(e) for e in s] for s in shuffled_df['encoded_lines'][:train_len]])\n",
    "y_train = np.array([c for c in shuffled_df['character'][:train_len]])\n",
    "\n",
    "X_test = np.array([[float(e) for e in s] for s in shuffled_df['encoded_lines'][:test_len]])\n",
    "y_test = np.array([c for c in shuffled_df['character'][:test_len]])\n",
    "\n",
    "X_val = np.array([[float(e) for e in s] for s in shuffled_df['encoded_lines'][:val_len]])\n",
    "y_val = np.array([c for c in shuffled_df['character'][:val_len]])"
   ]
  },
  {
   "cell_type": "code",
   "execution_count": 22,
   "id": "bf2c1c68",
   "metadata": {},
   "outputs": [
    {
     "name": "stdout",
     "output_type": "stream",
     "text": [
      "\t0 (%)\t\t1 (%)\n",
      "train\t0.50\t\t0.50\n",
      "val\t0.52\t\t0.48\n"
     ]
    }
   ],
   "source": [
    "# compute some statistics\n",
    "train_percentage_1 = len(y_train[y_train==1])/len(y_train)\n",
    "train_percentage_0 = len(y_train[y_train==0])/len(y_train)\n",
    "\n",
    "val_percentage_1 = len(y_val[y_val==1])/len(y_val)\n",
    "val_percentage_0 = len(y_val[y_val==0])/len(y_val)\n",
    "print('\\t0 (%)\\t\\t1 (%)')\n",
    "print('train\\t{:.2f}\\t\\t{:.2f}'.format(train_percentage_0, train_percentage_1))\n",
    "print('val\\t{:.2f}\\t\\t{:.2f}'.format(val_percentage_0, val_percentage_1))"
   ]
  },
  {
   "cell_type": "markdown",
   "id": "a77471dd",
   "metadata": {},
   "source": [
    "## Classification Model"
   ]
  },
  {
   "cell_type": "code",
   "execution_count": 23,
   "id": "c662bc05",
   "metadata": {},
   "outputs": [],
   "source": [
    "# Import keras/tensorflow libraries\n",
    "import tensorflow as tf\n",
    "from tensorflow import keras\n",
    "from tensorflow.keras import layers\n",
    "from tensorflow.keras import callbacks\n",
    "from tensorflow.keras import regularizers"
   ]
  },
  {
   "cell_type": "code",
   "execution_count": 24,
   "id": "4e1a83b2",
   "metadata": {},
   "outputs": [],
   "source": [
    "# create model\n",
    "def create_model():\n",
    "    inputs = keras.Input(shape=(len(X_train[0],)))\n",
    "    # x = layers.Attention(causal=True)([inputs, inputs])\n",
    "    x = layers.Dense(\n",
    "        1024,\n",
    "        activation='relu',\n",
    "        # kernel_regularizer=regularizers.l2(regularizer_weight),\n",
    "        # bias_regularizer=regularizers.l2(regularizer_weight)\n",
    "    )(inputs)\n",
    "    x = layers.BatchNormalization()(x)\n",
    "    x = layers.Dense(\n",
    "        512, \n",
    "        activation='relu',\n",
    "        # kernel_regularizer=regularizers.l2(regularizer_weight),\n",
    "        # bias_regularizer=regularizers.l2(regularizer_weight)\n",
    "    )(x)\n",
    "    x = layers.BatchNormalization()(x)\n",
    "    x = layers.Dense(\n",
    "        256, \n",
    "        activation='relu',\n",
    "        # kernel_regularizer=regularizers.l2(regularizer_weight),\n",
    "        # bias_regularizer=regularizers.l2(regularizer_weight)\n",
    "    )(x)\n",
    "    x = layers.BatchNormalization()(x)\n",
    "    x = layers.Dense(\n",
    "        128, \n",
    "        activation='relu',\n",
    "        kernel_regularizer=regularizers.l2(regularizer_weight_r),\n",
    "        bias_regularizer=regularizers.l2(regularizer_weight_r)\n",
    "    )(x)\n",
    "    x = layers.BatchNormalization()(x)\n",
    "    x = layers.Dropout(dropout_rate)(x)\n",
    "    out = layers.Dense(\n",
    "        1, \n",
    "        activation='sigmoid',\n",
    "        kernel_regularizer=regularizers.l2(regularizer_weight_s),\n",
    "        bias_regularizer=regularizers.l2(regularizer_weight_s)\n",
    "    )(x)\n",
    "\n",
    "\n",
    "    classifier_model = keras.Model(inputs, out)\n",
    "    classifier_model.compile(\n",
    "        loss = keras.losses.BinaryCrossentropy(),\n",
    "        optimizer = keras.optimizers.Adam(learning_rate = lr),\n",
    "        metrics = [keras.metrics.BinaryAccuracy(), keras.metrics.Recall()]\n",
    "    )\n",
    "    return classifier_model"
   ]
  },
  {
   "cell_type": "code",
   "execution_count": 25,
   "id": "893dd655",
   "metadata": {},
   "outputs": [],
   "source": [
    "model_1 = create_model()"
   ]
  },
  {
   "cell_type": "code",
   "execution_count": 26,
   "id": "3e69497c",
   "metadata": {},
   "outputs": [],
   "source": [
    "model_2 = create_model()"
   ]
  },
  {
   "cell_type": "markdown",
   "id": "c6232faf",
   "metadata": {},
   "source": [
    "## Training"
   ]
  },
  {
   "cell_type": "code",
   "execution_count": 27,
   "id": "dd26417e",
   "metadata": {},
   "outputs": [],
   "source": [
    "earlystop_callback = callbacks.EarlyStopping(\n",
    "        monitor=\"val_binary_accuracy\",\n",
    "        min_delta=0,\n",
    "        patience=6,\n",
    "        verbose=0,\n",
    "        mode=\"max\",\n",
    "        baseline=None,\n",
    "        restore_best_weights=True,\n",
    "    )"
   ]
  },
  {
   "cell_type": "code",
   "execution_count": null,
   "id": "d7b6bae4",
   "metadata": {
    "scrolled": true
   },
   "outputs": [
    {
     "name": "stdout",
     "output_type": "stream",
     "text": [
      "Epoch 1/100\n",
      "1639/1639 [==============================] - 23s 13ms/step - loss: 0.9953 - binary_accuracy: 0.5002 - recall: 0.5048 - val_loss: 0.9338 - val_binary_accuracy: 0.5162 - val_recall: 0.4764\n",
      "Epoch 2/100\n",
      "1639/1639 [==============================] - 22s 14ms/step - loss: 0.9511 - binary_accuracy: 0.5123 - recall: 0.5154 - val_loss: 0.8881 - val_binary_accuracy: 0.5292 - val_recall: 0.4953\n",
      "Epoch 3/100\n",
      "1639/1639 [==============================] - 22s 13ms/step - loss: 0.9013 - binary_accuracy: 0.5331 - recall: 0.5376 - val_loss: 0.8516 - val_binary_accuracy: 0.5480 - val_recall: 0.5074\n",
      "Epoch 4/100\n",
      " 753/1639 [============>.................] - ETA: 11s - loss: 0.8802 - binary_accuracy: 0.5387 - recall: 0.5431"
     ]
    }
   ],
   "source": [
    "train_history = model_1.fit(\n",
    "    X_train, \n",
    "    y_train,\n",
    "    validation_data = (X_val, y_val),\n",
    "    epochs= epochs,\n",
    "    verbose = 1, \n",
    "    callbacks=[earlystop_callback],\n",
    "    batch_size = batch_size\n",
    ")"
   ]
  },
  {
   "cell_type": "code",
   "execution_count": null,
   "id": "eed25deb",
   "metadata": {
    "scrolled": true
   },
   "outputs": [],
   "source": [
    "print('#'*25 + ' Model Test ' + '#'*25)\n",
    "fig, ax=plt.subplots(1,1,figsize=(5,5))\n",
    "y_pred = model_1.predict(X_test).round()\n",
    "# Plot the confusion matrix normalizing over the true values (over the rows)\n",
    "cm = confusion_matrix(y_test, y_pred) #, normalize='pred')\n",
    "disp = ConfusionMatrixDisplay(confusion_matrix=cm, display_labels=['Others', character])\n",
    "disp.plot(ax=ax)\n",
    "plt.show()"
   ]
  },
  {
   "cell_type": "markdown",
   "id": "8623a7d2",
   "metadata": {},
   "source": [
    "## Training Recall"
   ]
  },
  {
   "cell_type": "code",
   "execution_count": null,
   "id": "e1c419bb",
   "metadata": {},
   "outputs": [],
   "source": [
    "earlystop_callback_ = callbacks.EarlyStopping(\n",
    "        monitor=\"val_recall_1\",\n",
    "        min_delta=0,\n",
    "        patience=6,\n",
    "        verbose=0,\n",
    "        mode=\"max\",\n",
    "        baseline=None,\n",
    "        restore_best_weights=True,\n",
    "    )"
   ]
  },
  {
   "cell_type": "code",
   "execution_count": null,
   "id": "b768f4c9",
   "metadata": {
    "scrolled": true
   },
   "outputs": [],
   "source": [
    "train_history = model_2.fit(\n",
    "    X_train, \n",
    "    y_train,\n",
    "    validation_data = (X_val, y_val),\n",
    "    epochs= epochs,\n",
    "    verbose = 1, \n",
    "    callbacks=[earlystop_callback_],\n",
    "    batch_size = batch_size,\n",
    "    class_weight = class_weights\n",
    ")"
   ]
  },
  {
   "cell_type": "code",
   "execution_count": null,
   "id": "132cb946",
   "metadata": {
    "scrolled": true
   },
   "outputs": [],
   "source": [
    "print('#'*25 + ' Model Test ' + '#'*25)\n",
    "fig, ax=plt.subplots(1,1,figsize=(5,5))\n",
    "y_pred = model_2.predict(X_test).round()\n",
    "# Plot the confusion matrix normalizing over the true values (over the rows)\n",
    "cm = confusion_matrix(y_test, y_pred) #, normalize='pred')\n",
    "disp = ConfusionMatrixDisplay(confusion_matrix=cm, display_labels=['Others', character])\n",
    "disp.plot(ax=ax)\n",
    "plt.show()"
   ]
  },
  {
   "cell_type": "code",
   "execution_count": null,
   "id": "b7f8be27",
   "metadata": {},
   "outputs": [],
   "source": [
    "# classifier_path = os.path.join(character_folder, character_dict[character]['classifier_name'])\n",
    "# classifier_model.save(classifier_path)"
   ]
  }
 ],
 "metadata": {
  "kernelspec": {
   "display_name": "Python 3",
   "language": "python",
   "name": "python3"
  },
  "language_info": {
   "codemirror_mode": {
    "name": "ipython",
    "version": 3
   },
   "file_extension": ".py",
   "mimetype": "text/x-python",
   "name": "python",
   "nbconvert_exporter": "python",
   "pygments_lexer": "ipython3",
   "version": "3.8.8"
  }
 },
 "nbformat": 4,
 "nbformat_minor": 5
}
