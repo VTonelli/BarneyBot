{
 "cells": [
  {
   "cell_type": "markdown",
   "metadata": {},
   "source": [
    "# Human Metrics"
   ]
  },
  {
   "cell_type": "code",
   "execution_count": null,
   "metadata": {},
   "outputs": [],
   "source": [
    "from Lib.BBMetrics import BBMetric\n",
    "from transformers import TFAutoModelForCausalLM, AutoTokenizer\n",
    "import os\n",
    "from Data.data_dicts import character_dict, source_dict, random_state\n",
    "\n",
    "import os\n",
    "try:\n",
    "    import google.colab\n",
    "    IN_COLAB = True\n",
    "except:\n",
    "    IN_COLAB = False\n",
    "if IN_COLAB:\n",
    "    from google.colab import drive\n",
    "    drive.mount('/content/drive',force_remount=True)\n",
    "    base_folder = '/content/drive/My Drive/unibo/NLP_project/BarneyBot'\n",
    "    os.system(\"pip install datasets\")\n",
    "    os.system(\"pip install transformers\")\n",
    "else:\n",
    "    base_folder = os.getcwd()"
   ]
  },
  {
   "cell_type": "code",
   "execution_count": null,
   "metadata": {},
   "outputs": [],
   "source": [
    "tokenizer = AutoTokenizer.from_pretrained('microsoft/DialoGPT-small', cache_dir=os.path.join(os.getcwd(), \"cache\"))\n",
    "tokenizer.pad_token = '#'"
   ]
  },
  {
   "cell_type": "code",
   "execution_count": null,
   "metadata": {},
   "outputs": [],
   "source": [
    "def eval_character(character='Default'):\n",
    "    in_folder = os.path.join(base_folder, 'Data', 'Characters', character)\n",
    "    if not os.path.exists(in_folder):\n",
    "        os.makedirs(in_folder)\n",
    "    out_folder = os.path.join(base_folder, 'Data', 'Characters', character)\n",
    "    if not os.path.exists(out_folder):\n",
    "        os.makedirs(out_folder)\n",
    "    checkpoint_folder = os.path.join(out_folder, character_dict[character]['checkpoint_folder'])\n",
    "    model = TFAutoModelForCausalLM.from_pretrained(pretrained_model_name_or_path=checkpoint_folder)\n",
    "    \n",
    "    # compute human - coherence\n",
    "    print(\"Step 1) Chat with\", character, \"\\n\\tPlease evaluate your chat with this character:\", flush=True)\n",
    "    metric = BBMetric.load_metric(\"human - coherence\")\n",
    "    metric.train(model=model, tokenizer=tokenizer,\n",
    "                 filepath=os.path.join(os.getcwd(), \"Data\", \"Characters\", character, \"humancoherence.csv\"),\n",
    "                 length=5) # length is optional, defaults to 5\n",
    "    metric.compute(filepath=os.path.join(os.getcwd(), \"Data\", \"Characters\", character, \"humancoherence.csv\"))\n",
    "    \n",
    "    # compute human - consistency\n",
    "    print(\"Step 2) chat with\", character, \"\\n\\tPlease evaluate how true these responses are for the character:\", flush=True)\n",
    "    metric = BBMetric.load_metric(\"human - consistency\")\n",
    "    metric.train(model=model, tokenizer=tokenizer,\n",
    "                 filepath=os.path.join(os.getcwd(), \"Datasets\", \"Characters\", character, \"humanconsistency.csv\"))\n",
    "    metric.compute(filepath=os.path.join(os.getcwd(), \"Datasets\", \"Characters\", character, \"humanconsistency.csv\"))\n",
    "    \n",
    "    # compute human - style\n",
    "    print(\"Step 3) chat with\", character, \"\\n\\tPlease evaluate the style of the responses, thinking of the character.\", flush=True)\n",
    "    print(\"\\tDo you think they are responses that\", character, \"would say?\", flush=True)\n",
    "    metric = BBMetric.load_metric(\"human - style\")\n",
    "    metric.train(model=model, tokenizer=tokenizer,\n",
    "                 filepath=os.path.join(os.getcwd(), \"Datasets\", \"Characters\", character, \"humanstyle.csv\"),\n",
    "                 questions=barney_sentences)\n",
    "    metric.compute(filepath=os.path.join(os.getcwd(), \"Datasets\", \"Characters\", character, \"humanstyle.csv\"))"
   ]
  },
  {
   "cell_type": "markdown",
   "metadata": {},
   "source": [
    "# Barney"
   ]
  },
  {
   "cell_type": "code",
   "execution_count": null,
   "metadata": {},
   "outputs": [],
   "source": [
    "eval_character(character='Barney')"
   ]
  },
  {
   "cell_type": "markdown",
   "metadata": {},
   "source": [
    "# Sheldon"
   ]
  },
  {
   "cell_type": "code",
   "execution_count": null,
   "metadata": {},
   "outputs": [],
   "source": [
    "eval_character(character='Sheldon')"
   ]
  },
  {
   "cell_type": "markdown",
   "metadata": {},
   "source": [
    "# Harry"
   ]
  },
  {
   "cell_type": "code",
   "execution_count": null,
   "metadata": {},
   "outputs": [],
   "source": [
    "eval_character(character='Harry')"
   ]
  },
  {
   "cell_type": "markdown",
   "metadata": {},
   "source": [
    "# Fry"
   ]
  },
  {
   "cell_type": "code",
   "execution_count": null,
   "metadata": {},
   "outputs": [],
   "source": [
    "eval_character(character='Fry')"
   ]
  },
  {
   "cell_type": "markdown",
   "metadata": {},
   "source": [
    "# Vader"
   ]
  },
  {
   "cell_type": "code",
   "execution_count": null,
   "metadata": {},
   "outputs": [],
   "source": [
    "eval_character(character='Vader')"
   ]
  },
  {
   "cell_type": "markdown",
   "metadata": {},
   "source": [
    "# Joey"
   ]
  },
  {
   "cell_type": "code",
   "execution_count": null,
   "metadata": {},
   "outputs": [],
   "source": [
    "eval_character(character='Joey')"
   ]
  },
  {
   "cell_type": "markdown",
   "metadata": {},
   "source": [
    "# Phoebe"
   ]
  },
  {
   "cell_type": "code",
   "execution_count": null,
   "metadata": {},
   "outputs": [],
   "source": [
    "eval_character(character='Phoebe')"
   ]
  },
  {
   "cell_type": "markdown",
   "metadata": {},
   "source": [
    "# Bender"
   ]
  },
  {
   "cell_type": "code",
   "execution_count": null,
   "metadata": {},
   "outputs": [],
   "source": [
    "eval_character(character='Bender')"
   ]
  }
 ],
 "metadata": {
  "kernelspec": {
   "display_name": "Python 3",
   "language": "python",
   "name": "python3"
  },
  "language_info": {
   "codemirror_mode": {
    "name": "ipython",
    "version": 3
   },
   "file_extension": ".py",
   "mimetype": "text/x-python",
   "name": "python",
   "nbconvert_exporter": "python",
   "pygments_lexer": "ipython3",
   "version": "3.8.5"
  }
 },
 "nbformat": 4,
 "nbformat_minor": 5
}
