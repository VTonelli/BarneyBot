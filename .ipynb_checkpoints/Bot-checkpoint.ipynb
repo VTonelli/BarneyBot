{
 "cells": [
  {
   "cell_type": "code",
   "execution_count": 11,
   "metadata": {},
   "outputs": [],
   "source": [
    "import os\n",
    "import pandas as pd\n",
    "from tqdm import tqdm\n",
    "import re"
   ]
  },
  {
   "cell_type": "code",
   "execution_count": 12,
   "metadata": {},
   "outputs": [],
   "source": [
    "# Open the dataset documents and store their data into a DataFrame\n",
    "def load_himym_dataset():\n",
    "    episodes_folder = os.path.join(os.getcwd(), \"Datasets\", \"Sources\", \"HIMYM\", \"Episodes\")\n",
    "    dataframe_rows = []\n",
    "    # Get number of documents and their names\n",
    "    documents_n = len(os.listdir(episodes_folder))\n",
    "    documents_names = os.listdir(episodes_folder)\n",
    "\n",
    "    # Loop over documents\n",
    "    for i in tqdm(range(documents_n)):\n",
    "        filename = documents_names[i]\n",
    "        # Open document\n",
    "        file = open(os.path.join(episodes_folder, filename))\n",
    "        episode_index = filename[:-4]\n",
    "        # Loop over lines (= words)\n",
    "        for line in file.readlines():\n",
    "                dataframe_row = {\n",
    "                    \"episode\": episode_index,\n",
    "                    \"line\": line,\n",
    "                }\n",
    "                dataframe_rows.append(dataframe_row)\n",
    "    # Build the dataframe from the words\n",
    "    df = pd.DataFrame(dataframe_rows)\n",
    "    return df"
   ]
  },
  {
   "cell_type": "code",
   "execution_count": 13,
   "metadata": {},
   "outputs": [
    {
     "name": "stderr",
     "output_type": "stream",
     "text": [
      "100%|██████████████████████████████████████████████████████████████████████████████| 139/139 [00:00<00:00, 1674.75it/s]\n"
     ]
    },
    {
     "data": {
      "text/plain": [
       "episode    39284\n",
       "line       39284\n",
       "dtype: int64"
      ]
     },
     "execution_count": 13,
     "metadata": {},
     "output_type": "execute_result"
    }
   ],
   "source": [
    "# Execute creation of dataset\n",
    "himym_df = load_himym_dataset()\n",
    "himym_df.head()\n",
    "himym_df.count()"
   ]
  },
  {
   "cell_type": "code",
   "execution_count": 14,
   "metadata": {},
   "outputs": [],
   "source": [
    "def process_himym_dataset(df):\n",
    "    df = df[~df['line'].str.startswith(\"[\")]\n",
    "    df = df[~df['line'].str.startswith(\"(\")]\n",
    "    df['line'] = df['line'].str.strip()\n",
    "    df['line'] = df['line'].str.replace(r\"\\(.*\\)\",\"\")\n",
    "    df[['character', 'line']] = df['line'].str.split(\":\", 1, expand=True)\n",
    "    df = df[~df['line'].isnull()]\n",
    "    df = df.reset_index(drop=True)\n",
    "    return df\n",
    "    \n",
    "himym_df = process_himym_dataset(himym_df)"
   ]
  },
  {
   "cell_type": "code",
   "execution_count": 15,
   "metadata": {},
   "outputs": [
    {
     "data": {
      "text/html": [
       "<div>\n",
       "<style scoped>\n",
       "    .dataframe tbody tr th:only-of-type {\n",
       "        vertical-align: middle;\n",
       "    }\n",
       "\n",
       "    .dataframe tbody tr th {\n",
       "        vertical-align: top;\n",
       "    }\n",
       "\n",
       "    .dataframe thead th {\n",
       "        text-align: right;\n",
       "    }\n",
       "</style>\n",
       "<table border=\"1\" class=\"dataframe\">\n",
       "  <thead>\n",
       "    <tr style=\"text-align: right;\">\n",
       "      <th></th>\n",
       "      <th>episode</th>\n",
       "      <th>line</th>\n",
       "      <th>character</th>\n",
       "    </tr>\n",
       "  </thead>\n",
       "  <tbody>\n",
       "    <tr>\n",
       "      <th>0</th>\n",
       "      <td>01x01</td>\n",
       "      <td>Kids, I'm going to tell you an incredible sto...</td>\n",
       "      <td>Narrator</td>\n",
       "    </tr>\n",
       "    <tr>\n",
       "      <th>1</th>\n",
       "      <td>01x01</td>\n",
       "      <td>Are we being punished for something?</td>\n",
       "      <td>Son</td>\n",
       "    </tr>\n",
       "    <tr>\n",
       "      <th>2</th>\n",
       "      <td>01x01</td>\n",
       "      <td>No</td>\n",
       "      <td>Narrator</td>\n",
       "    </tr>\n",
       "    <tr>\n",
       "      <th>3</th>\n",
       "      <td>01x01</td>\n",
       "      <td>Yeah, is this going to take a while?</td>\n",
       "      <td>Daughter</td>\n",
       "    </tr>\n",
       "    <tr>\n",
       "      <th>4</th>\n",
       "      <td>01x01</td>\n",
       "      <td>Yes.  Twenty-five years ago, before I was dad...</td>\n",
       "      <td>Narrator</td>\n",
       "    </tr>\n",
       "    <tr>\n",
       "      <th>5</th>\n",
       "      <td>01x01</td>\n",
       "      <td>It was way back in 2005. I was twenty-seven j...</td>\n",
       "      <td>Narrator</td>\n",
       "    </tr>\n",
       "    <tr>\n",
       "      <th>6</th>\n",
       "      <td>01x01</td>\n",
       "      <td>Will you marry me.</td>\n",
       "      <td>Marshall</td>\n",
       "    </tr>\n",
       "    <tr>\n",
       "      <th>7</th>\n",
       "      <td>01x01</td>\n",
       "      <td>Yes, perfect! And then you're engaged, you po...</td>\n",
       "      <td>Ted</td>\n",
       "    </tr>\n",
       "    <tr>\n",
       "      <th>8</th>\n",
       "      <td>01x01</td>\n",
       "      <td>Got it. Thanks for helping me plan this out, ...</td>\n",
       "      <td>Marshall</td>\n",
       "    </tr>\n",
       "    <tr>\n",
       "      <th>9</th>\n",
       "      <td>01x01</td>\n",
       "      <td>Dude, are you kidding? It's you and Lily! I'v...</td>\n",
       "      <td>Ted</td>\n",
       "    </tr>\n",
       "    <tr>\n",
       "      <th>10</th>\n",
       "      <td>01x01</td>\n",
       "      <td>yeah, sorry. We thought you were asleep.</td>\n",
       "      <td>Marshall</td>\n",
       "    </tr>\n",
       "    <tr>\n",
       "      <th>11</th>\n",
       "      <td>01x01</td>\n",
       "      <td>It's physics Marshall, if the bottom bunk mov...</td>\n",
       "      <td>Ted</td>\n",
       "    </tr>\n",
       "    <tr>\n",
       "      <th>12</th>\n",
       "      <td>01x01</td>\n",
       "      <td>Yeah, what are you doing tonight?</td>\n",
       "      <td>Marshall</td>\n",
       "    </tr>\n",
       "    <tr>\n",
       "      <th>13</th>\n",
       "      <td>01x01</td>\n",
       "      <td>What was I doing? Your Uncle Marshall was tak...</td>\n",
       "      <td>Narrator</td>\n",
       "    </tr>\n",
       "    <tr>\n",
       "      <th>14</th>\n",
       "      <td>01x01</td>\n",
       "      <td>hey, so you know how I've always had a thing...</td>\n",
       "      <td>Barney</td>\n",
       "    </tr>\n",
       "    <tr>\n",
       "      <th>15</th>\n",
       "      <td>01x01</td>\n",
       "      <td>Hey, you wanna do something tonight?</td>\n",
       "      <td>Ted</td>\n",
       "    </tr>\n",
       "    <tr>\n",
       "      <th>16</th>\n",
       "      <td>01x01</td>\n",
       "      <td>Okay, meet me at the bar in fifteen minutes, ...</td>\n",
       "      <td>Barney</td>\n",
       "    </tr>\n",
       "    <tr>\n",
       "      <th>17</th>\n",
       "      <td>01x01</td>\n",
       "      <td>Hey.</td>\n",
       "      <td>Ted</td>\n",
       "    </tr>\n",
       "    <tr>\n",
       "      <th>18</th>\n",
       "      <td>01x01</td>\n",
       "      <td>Where's your suit!? Just once when I say suit...</td>\n",
       "      <td>Barney</td>\n",
       "    </tr>\n",
       "    <tr>\n",
       "      <th>19</th>\n",
       "      <td>01x01</td>\n",
       "      <td>I did that one time.</td>\n",
       "      <td>Ted</td>\n",
       "    </tr>\n",
       "  </tbody>\n",
       "</table>\n",
       "</div>"
      ],
      "text/plain": [
       "   episode                                               line character\n",
       "0    01x01   Kids, I'm going to tell you an incredible sto...  Narrator\n",
       "1    01x01               Are we being punished for something?       Son\n",
       "2    01x01                                                 No  Narrator\n",
       "3    01x01               Yeah, is this going to take a while?  Daughter\n",
       "4    01x01   Yes.  Twenty-five years ago, before I was dad...  Narrator\n",
       "5    01x01   It was way back in 2005. I was twenty-seven j...  Narrator\n",
       "6    01x01                                 Will you marry me.  Marshall\n",
       "7    01x01   Yes, perfect! And then you're engaged, you po...       Ted\n",
       "8    01x01   Got it. Thanks for helping me plan this out, ...  Marshall\n",
       "9    01x01   Dude, are you kidding? It's you and Lily! I'v...       Ted\n",
       "10   01x01           yeah, sorry. We thought you were asleep.  Marshall\n",
       "11   01x01   It's physics Marshall, if the bottom bunk mov...       Ted\n",
       "12   01x01                  Yeah, what are you doing tonight?  Marshall\n",
       "13   01x01   What was I doing? Your Uncle Marshall was tak...  Narrator\n",
       "14   01x01    hey, so you know how I've always had a thing...    Barney\n",
       "15   01x01               Hey, you wanna do something tonight?       Ted\n",
       "16   01x01   Okay, meet me at the bar in fifteen minutes, ...    Barney\n",
       "17   01x01                                               Hey.       Ted\n",
       "18   01x01   Where's your suit!? Just once when I say suit...    Barney\n",
       "19   01x01                               I did that one time.       Ted"
      ]
     },
     "execution_count": 15,
     "metadata": {},
     "output_type": "execute_result"
    }
   ],
   "source": [
    "himym_df.head(20)"
   ]
  },
  {
   "cell_type": "code",
   "execution_count": 16,
   "metadata": {},
   "outputs": [],
   "source": [
    "# NOTE: May consider feeding one sentence and one Barney reply or multiple sentences encoded with one Barney reply\n",
    "def get_barney(himym_df, level=2):\n",
    "    dataframe_rows = []\n",
    "    idxs_barney = himym_df[himym_df['character'] == 'Barney'].index\n",
    "    for i in range(-1, -level-1, -1):\n",
    "        for j in idxs_barney:\n",
    "            dataframe_row = {\n",
    "                \"reply\": himym_df['line'][j],\n",
    "                \"sentence\": himym_df['line'][j+i],\n",
    "            }\n",
    "            dataframe_rows.append(dataframe_row)\n",
    "    df = pd.DataFrame(dataframe_rows)\n",
    "    return df\n",
    "    \n",
    "barney_df = get_barney(himym_df)"
   ]
  },
  {
   "cell_type": "code",
   "execution_count": 17,
   "metadata": {},
   "outputs": [
    {
     "data": {
      "text/html": [
       "<div>\n",
       "<style scoped>\n",
       "    .dataframe tbody tr th:only-of-type {\n",
       "        vertical-align: middle;\n",
       "    }\n",
       "\n",
       "    .dataframe tbody tr th {\n",
       "        vertical-align: top;\n",
       "    }\n",
       "\n",
       "    .dataframe thead th {\n",
       "        text-align: right;\n",
       "    }\n",
       "</style>\n",
       "<table border=\"1\" class=\"dataframe\">\n",
       "  <thead>\n",
       "    <tr style=\"text-align: right;\">\n",
       "      <th></th>\n",
       "      <th>reply</th>\n",
       "      <th>sentence</th>\n",
       "    </tr>\n",
       "  </thead>\n",
       "  <tbody>\n",
       "    <tr>\n",
       "      <th>0</th>\n",
       "      <td>hey, so you know how I've always had a thing...</td>\n",
       "      <td>What was I doing? Your Uncle Marshall was tak...</td>\n",
       "    </tr>\n",
       "    <tr>\n",
       "      <th>1</th>\n",
       "      <td>Okay, meet me at the bar in fifteen minutes, ...</td>\n",
       "      <td>Hey, you wanna do something tonight?</td>\n",
       "    </tr>\n",
       "    <tr>\n",
       "      <th>2</th>\n",
       "      <td>Where's your suit!? Just once when I say suit...</td>\n",
       "      <td>Hey.</td>\n",
       "    </tr>\n",
       "    <tr>\n",
       "      <th>3</th>\n",
       "      <td>It was a blazer!</td>\n",
       "      <td>I did that one time.</td>\n",
       "    </tr>\n",
       "    <tr>\n",
       "      <th>4</th>\n",
       "      <td>I see what this is about. Have you forgotten ...</td>\n",
       "      <td>You know, ever since college it's been Marsha...</td>\n",
       "    </tr>\n",
       "  </tbody>\n",
       "</table>\n",
       "</div>"
      ],
      "text/plain": [
       "                                               reply  \\\n",
       "0    hey, so you know how I've always had a thing...   \n",
       "1   Okay, meet me at the bar in fifteen minutes, ...   \n",
       "2   Where's your suit!? Just once when I say suit...   \n",
       "3                                   It was a blazer!   \n",
       "4   I see what this is about. Have you forgotten ...   \n",
       "\n",
       "                                            sentence  \n",
       "0   What was I doing? Your Uncle Marshall was tak...  \n",
       "1               Hey, you wanna do something tonight?  \n",
       "2                                               Hey.  \n",
       "3                               I did that one time.  \n",
       "4   You know, ever since college it's been Marsha...  "
      ]
     },
     "execution_count": 17,
     "metadata": {},
     "output_type": "execute_result"
    }
   ],
   "source": [
    "barney_df.head()"
   ]
  },
  {
   "cell_type": "code",
   "execution_count": 18,
   "metadata": {},
   "outputs": [],
   "source": [
    "barney_path = os.path.join(os.getcwd(), \"Datasets\", \"Characters\", \"Barney\")\n",
    "if not os.path.exists(barney_path):\n",
    "    os.makedirs(barney_path)\n",
    "barney_df.to_csv(os.path.join(barney_path, \"Barney.csv\"))"
   ]
  },
  {
   "cell_type": "code",
   "execution_count": null,
   "metadata": {},
   "outputs": [],
   "source": [
    "# gensim API to download embeddings\n",
    "import gensim\n",
    "import gensim.downloader as gloader\n",
    "\n",
    "# Download Glove embeddings\n",
    "def load_embedding_model(embedding_dimension: int = 50):\n",
    "    # Glove download URL\n",
    "    download_path = \"glove-wiki-gigaword-{}\".format(embedding_dimension)\n",
    "    # Download\n",
    "    try:\n",
    "        emb_model = gloader.load(download_path)\n",
    "    except ValueError as e:\n",
    "        print(\"Invalid embedding model name!\")\n",
    "        raise e\n",
    "    return emb_model\n",
    "\n",
    "# Set embedding dimension to 50 and download embeddings\n",
    "embedding_dimension = 50\n",
    "embedding_model = load_embedding_model(embedding_dimension)"
   ]
  },
  {
   "cell_type": "code",
   "execution_count": null,
   "metadata": {},
   "outputs": [],
   "source": [
    "# Build or augment the current vocabulary given a list of words\n",
    "def build_vocabulary(glove_model,\n",
    "                     current_embeddings,\n",
    "                     current_idx_to_word,\n",
    "                     embedding_dimension,\n",
    "                     wordlist):\n",
    "    # To keep track of the OOV terms\n",
    "    oov_set = set()\n",
    "    # If no vocabulary has been built yet...\n",
    "    if not current_embeddings:\n",
    "        # Add a non-word for padding\n",
    "        current_idx_to_word[0] = 0\n",
    "        current_embeddings[0] = np.zeros(embedding_dimension)\n",
    "        # Add all words in the provided wordlist\n",
    "        for word in tqdm(wordlist):\n",
    "            try:\n",
    "                # If a word has a glove embedding, use it\n",
    "                current_embeddings[word] = glove_model[word]\n",
    "            # Otherwise, generate a random vector with small magnitude\n",
    "            except KeyError:\n",
    "                embedding_vector = np.random.uniform(low=-0.05, high=0.05, size=embedding_dimension)\n",
    "                current_embeddings[word] = embedding_vector\n",
    "                oov_set.add(word)\n",
    "            current_idx_to_word[len(current_idx_to_word)] = word\n",
    "    # If there is already a non-empty vocabulary...\n",
    "    else:\n",
    "        # Find which words are new in the wordlist (as in, they don't appear in the current vocabulary)\n",
    "        old_wordlist = set(current_embeddings.keys())\n",
    "        new_wordlist = wordlist - old_wordlist\n",
    "        # Add all new words to the vocabulary\n",
    "        for word in tqdm(new_wordlist):\n",
    "            try:\n",
    "                current_embeddings[word] = glove_model[word]\n",
    "            except KeyError:\n",
    "                embedding_vector = np.random.uniform(low=-0.05, high=0.05, size=embedding_dimension)\n",
    "                current_embeddings[word] = embedding_vector\n",
    "                oov_set.add(word)\n",
    "            current_idx_to_word[len(current_idx_to_word)] = word\n",
    "    return current_embeddings, current_idx_to_word, oov_set"
   ]
  },
  {
   "cell_type": "code",
   "execution_count": 4,
   "metadata": {},
   "outputs": [
    {
     "data": {
      "application/vnd.jupyter.widget-view+json": {
       "model_id": "e74168edf02f436c99b4e86f1b105757",
       "version_major": 2,
       "version_minor": 0
      },
      "text/plain": [
       "HBox(children=(HTML(value='Downloading'), FloatProgress(value=0.0, max=1572.0), HTML(value='')))"
      ]
     },
     "metadata": {},
     "output_type": "display_data"
    },
    {
     "name": "stdout",
     "output_type": "stream",
     "text": [
      "\n"
     ]
    },
    {
     "data": {
      "application/vnd.jupyter.widget-view+json": {
       "model_id": "f8b48faa806e4b0d851fee1b5111b90e",
       "version_major": 2,
       "version_minor": 0
      },
      "text/plain": [
       "HBox(children=(HTML(value='Downloading'), FloatProgress(value=0.0, max=1459579344.0), HTML(value='')))"
      ]
     },
     "metadata": {},
     "output_type": "display_data"
    },
    {
     "name": "stdout",
     "output_type": "stream",
     "text": [
      "\n"
     ]
    },
    {
     "name": "stderr",
     "output_type": "stream",
     "text": [
      "All model checkpoint layers were used when initializing TFBlenderbotForConditionalGeneration.\n",
      "\n",
      "All the layers of TFBlenderbotForConditionalGeneration were initialized from the model checkpoint at facebook/blenderbot-400M-distill.\n",
      "If your task is similar to the task the model of the checkpoint was trained on, you can already use TFBlenderbotForConditionalGeneration for predictions without further training.\n"
     ]
    },
    {
     "data": {
      "application/vnd.jupyter.widget-view+json": {
       "model_id": "f745c8637ce941e9b3ac0437b8947a88",
       "version_major": 2,
       "version_minor": 0
      },
      "text/plain": [
       "HBox(children=(HTML(value='Downloading'), FloatProgress(value=0.0, max=126891.0), HTML(value='')))"
      ]
     },
     "metadata": {},
     "output_type": "display_data"
    },
    {
     "name": "stdout",
     "output_type": "stream",
     "text": [
      "\n"
     ]
    },
    {
     "data": {
      "application/vnd.jupyter.widget-view+json": {
       "model_id": "13d39f6fcd2347038a04ac79a4142bd3",
       "version_major": 2,
       "version_minor": 0
      },
      "text/plain": [
       "HBox(children=(HTML(value='Downloading'), FloatProgress(value=0.0, max=62871.0), HTML(value='')))"
      ]
     },
     "metadata": {},
     "output_type": "display_data"
    },
    {
     "name": "stdout",
     "output_type": "stream",
     "text": [
      "\n"
     ]
    },
    {
     "data": {
      "application/vnd.jupyter.widget-view+json": {
       "model_id": "a03b03fd1ded42a1b85c24d67d892830",
       "version_major": 2,
       "version_minor": 0
      },
      "text/plain": [
       "HBox(children=(HTML(value='Downloading'), FloatProgress(value=0.0, max=1153.0), HTML(value='')))"
      ]
     },
     "metadata": {},
     "output_type": "display_data"
    },
    {
     "name": "stdout",
     "output_type": "stream",
     "text": [
      "\n"
     ]
    },
    {
     "data": {
      "application/vnd.jupyter.widget-view+json": {
       "model_id": "05817012386942d7b607396f5a9c2b57",
       "version_major": 2,
       "version_minor": 0
      },
      "text/plain": [
       "HBox(children=(HTML(value='Downloading'), FloatProgress(value=0.0, max=16.0), HTML(value='')))"
      ]
     },
     "metadata": {},
     "output_type": "display_data"
    },
    {
     "name": "stdout",
     "output_type": "stream",
     "text": [
      "\n"
     ]
    },
    {
     "data": {
      "application/vnd.jupyter.widget-view+json": {
       "model_id": "d569c95e97444c0a81e7033ff11ecb11",
       "version_major": 2,
       "version_minor": 0
      },
      "text/plain": [
       "HBox(children=(HTML(value='Downloading'), FloatProgress(value=0.0, max=772.0), HTML(value='')))"
      ]
     },
     "metadata": {},
     "output_type": "display_data"
    },
    {
     "name": "stdout",
     "output_type": "stream",
     "text": [
      "\n"
     ]
    }
   ],
   "source": [
    "from transformers import BlenderbotTokenizer, TFBlenderbotForConditionalGeneration\n",
    "mname = 'facebook/blenderbot-400M-distill'\n",
    "model = TFBlenderbotForConditionalGeneration.from_pretrained(mname)\n",
    "tokenizer = BlenderbotTokenizer.from_pretrained(mname)"
   ]
  },
  {
   "cell_type": "code",
   "execution_count": 7,
   "metadata": {},
   "outputs": [
    {
     "name": "stdout",
     "output_type": "stream",
     "text": [
      "Human:  Fuck you.\n",
      "Bot:   I know, right?  I was so mad.  I don't know what I would have done if it happened to me.\n"
     ]
    }
   ],
   "source": [
    "UTTERANCE = \"Fuck you.\"\n",
    "print(\"Human: \", UTTERANCE)\n",
    "inputs = tokenizer([UTTERANCE], return_tensors='tf')\n",
    "reply_ids = model.generate(**inputs)\n",
    "print(\"Bot: \", tokenizer.batch_decode(reply_ids, skip_special_tokens=True)[0])"
   ]
  },
  {
   "cell_type": "code",
   "execution_count": null,
   "metadata": {},
   "outputs": [],
   "source": []
  }
 ],
 "metadata": {
  "kernelspec": {
   "display_name": "Python 3",
   "language": "python",
   "name": "python3"
  },
  "language_info": {
   "codemirror_mode": {
    "name": "ipython",
    "version": 3
   },
   "file_extension": ".py",
   "mimetype": "text/x-python",
   "name": "python",
   "nbconvert_exporter": "python",
   "pygments_lexer": "ipython3",
   "version": "3.8.5"
  }
 },
 "nbformat": 4,
 "nbformat_minor": 4
}
