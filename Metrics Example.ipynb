{
 "cells": [
  {
   "cell_type": "code",
   "execution_count": 1,
   "metadata": {
    "scrolled": true
   },
   "outputs": [],
   "source": [
    "from Lib.BBMetrics import BBMetric\n",
    "from transformers import TFAutoModelForCausalLM, AutoTokenizer\n",
    "import os\n",
    "from Data.data_dicts import character_dict, source_dict, random_state\n",
    "\n",
    "import os\n",
    "try:\n",
    "    import google.colab\n",
    "    IN_COLAB = True\n",
    "except:\n",
    "    IN_COLAB = False\n",
    "if IN_COLAB:\n",
    "    from google.colab import drive\n",
    "    drive.mount('/content/drive',force_remount=True)\n",
    "    base_folder = '/content/drive/My Drive/unibo/NLP_project/BarneyBot'\n",
    "    os.system(\"pip install datasets\")\n",
    "    os.system(\"pip install transformers\")\n",
    "    os.system(\"pip install rouge_score\")\n",
    "    os.system(\"pip install -U sentence-transformers\")\n",
    "else:\n",
    "    base_folder = os.getcwd()\n",
    "\n",
    "sentences_basic = [\"Hi!\", \"How are you?\", \"I hate you.\"]\n",
    "sentences_basic_2 = [\"Hello!\", \"How are you doing?\", \"I think this is good.\"]\n",
    "sentences_vader = [\"Come to the dark side!\", \"I will kill you!\", \"Luke, I am your father.\"]\n",
    "sentences_barney = [\"Did you get the suit?\", \"Legendary!\", \"I like girls.\"]"
   ]
  },
  {
   "cell_type": "code",
   "execution_count": 2,
   "metadata": {},
   "outputs": [
    {
     "name": "stderr",
     "output_type": "stream",
     "text": [
      "All model checkpoint layers were used when initializing TFGPT2LMHeadModel.\n",
      "\n",
      "All the layers of TFGPT2LMHeadModel were initialized from the model checkpoint at microsoft/DialoGPT-small.\n",
      "If your task is similar to the task the model of the checkpoint was trained on, you can already use TFGPT2LMHeadModel for predictions without further training.\n"
     ]
    }
   ],
   "source": [
    "model = TFAutoModelForCausalLM.from_pretrained('microsoft/DialoGPT-small', cache_dir=os.path.join(os.getcwd(), \"cache\"))\n",
    "tokenizer = AutoTokenizer.from_pretrained('microsoft/DialoGPT-small', cache_dir=os.path.join(os.getcwd(), \"cache\"))\n",
    "tokenizer.pad_token = '#'"
   ]
  },
  {
   "cell_type": "code",
   "execution_count": 3,
   "metadata": {},
   "outputs": [
    {
     "data": {
      "text/plain": [
       "['bleu',\n",
       " 'semantic similarity',\n",
       " 'rouge l',\n",
       " 'emotion',\n",
       " 'semantic answer similarity',\n",
       " 'distinct',\n",
       " 'semantic classifier',\n",
       " 'perplexity',\n",
       " 'human - coherence',\n",
       " 'human - consistency',\n",
       " 'human - style']"
      ]
     },
     "execution_count": 3,
     "metadata": {},
     "output_type": "execute_result"
    }
   ],
   "source": [
    "BBMetric.metrics_list"
   ]
  },
  {
   "cell_type": "code",
   "execution_count": 11,
   "metadata": {},
   "outputs": [
    {
     "name": "stdout",
     "output_type": "stream",
     "text": [
      "{'score': 0.0, 'std': 0.0}\n"
     ]
    }
   ],
   "source": [
    "metric = BBMetric.load_metric(\"bleu\")\n",
    "\n",
    "print(metric.compute(predictions=sentences_basic, references=sentences_basic_2))"
   ]
  },
  {
   "cell_type": "code",
   "execution_count": 10,
   "metadata": {},
   "outputs": [
    {
     "name": "stdout",
     "output_type": "stream",
     "text": [
      "{'score': 0.36904761904761907, 'std': 0.3599099156626422}\n"
     ]
    }
   ],
   "source": [
    "metric = BBMetric.load_metric(\"rouge l\")\n",
    "\n",
    "print(metric.compute(predictions=sentences_basic, references=sentences_basic_2))"
   ]
  },
  {
   "cell_type": "code",
   "execution_count": 14,
   "metadata": {},
   "outputs": [
    {
     "data": {
      "text/plain": [
       "{'score': 0.11616161616161617, 'std': 0.0823712445974752}"
      ]
     },
     "execution_count": 14,
     "metadata": {},
     "output_type": "execute_result"
    }
   ],
   "source": [
    "metric = BBMetric.load_metric(\"distinct\")\n",
    "\n",
    "# ngram_size is optional, defaults to 3\n",
    "metric.compute(sentences=sentences_basic, ngram_size=2)"
   ]
  },
  {
   "cell_type": "code",
   "execution_count": 2,
   "metadata": {},
   "outputs": [
    {
     "name": "stdout",
     "output_type": "stream",
     "text": [
      "{'score': [0.04045128605018059, 0.3372649804999431, 0.029534351934368413, 0.33119267721970874, 0.24915542546659708, 0.012401290975200633], 'std': [0.0246632631447857, 0.3520860938584187, 0.03524459240387796, 0.360727083374811, 0.31209396368681236, 0.008284051185361898], 'label': ['sadness', 'joy', 'love', 'anger', 'fear', 'surprise']}\n"
     ]
    }
   ],
   "source": [
    "metric = BBMetric.load_metric(\"emotion\")\n",
    "\n",
    "print(metric.compute(sentences=sentences_basic))"
   ]
  },
  {
   "cell_type": "code",
   "execution_count": 3,
   "metadata": {},
   "outputs": [
    {
     "ename": "AttributeError",
     "evalue": "'BBMetric' object has no attribute 'return_args'",
     "output_type": "error",
     "traceback": [
      "\u001b[1;31m---------------------------------------------------------------------------\u001b[0m",
      "\u001b[1;31mAttributeError\u001b[0m                            Traceback (most recent call last)",
      "\u001b[1;32m<ipython-input-3-956762aa8548>\u001b[0m in \u001b[0;36m<module>\u001b[1;34m\u001b[0m\n\u001b[1;32m----> 1\u001b[1;33m \u001b[0mprint\u001b[0m\u001b[1;33m(\u001b[0m\u001b[0mmetric\u001b[0m\u001b[1;33m.\u001b[0m\u001b[0mreturn_args\u001b[0m\u001b[1;33m)\u001b[0m\u001b[1;33m\u001b[0m\u001b[1;33m\u001b[0m\u001b[0m\n\u001b[0m",
      "\u001b[1;31mAttributeError\u001b[0m: 'BBMetric' object has no attribute 'return_args'"
     ]
    }
   ],
   "source": [
    "print(metric.return_args)"
   ]
  },
  {
   "cell_type": "code",
   "execution_count": 16,
   "metadata": {},
   "outputs": [
    {
     "name": "stdout",
     "output_type": "stream",
     "text": [
      "{'score': 0.60903007, 'std': 0.40267226}\n"
     ]
    }
   ],
   "source": [
    "metric = BBMetric.load_metric(\"semantic similarity\")\n",
    "\n",
    "print(metric.compute(sentences_a=sentences_basic, sentences_b=sentences_basic_2))"
   ]
  },
  {
   "cell_type": "code",
   "execution_count": 17,
   "metadata": {},
   "outputs": [
    {
     "name": "stdout",
     "output_type": "stream",
     "text": [
      "{'score': 0.59648186, 'std': 0.4743335}\n"
     ]
    }
   ],
   "source": [
    "metric = BBMetric.load_metric(\"semantic answer similarity\")\n",
    "\n",
    "print(metric.compute(predictions=sentences_basic, references=sentences_basic_2))"
   ]
  },
  {
   "cell_type": "code",
   "execution_count": 18,
   "metadata": {},
   "outputs": [
    {
     "name": "stdout",
     "output_type": "stream",
     "text": [
      "Loaded encoded lines from D:\\University\\Esami da Superare\\Natural Language Processing\\BarneyBot\\BarneyBot\\Data\\Characters\\Vader\\vader_encoded_lines.npy\n",
      "Running shuffle 0/10\n"
     ]
    },
    {
     "name": "stderr",
     "output_type": "stream",
     "text": [
      "100%|██████████████████████████████████████████████████████████████████████████████| 158/158 [00:00<00:00, 5054.19it/s]\n"
     ]
    },
    {
     "name": "stdout",
     "output_type": "stream",
     "text": [
      "Running shuffle 1/10\n"
     ]
    },
    {
     "name": "stderr",
     "output_type": "stream",
     "text": [
      "100%|██████████████████████████████████████████████████████████████████████████████| 158/158 [00:00<00:00, 5053.57it/s]\n"
     ]
    },
    {
     "name": "stdout",
     "output_type": "stream",
     "text": [
      "Running shuffle 2/10\n"
     ]
    },
    {
     "name": "stderr",
     "output_type": "stream",
     "text": [
      "100%|█████████████████████████████████████████████████████████████████████████████| 158/158 [00:00<00:00, 10111.69it/s]\n"
     ]
    },
    {
     "name": "stdout",
     "output_type": "stream",
     "text": [
      "Running shuffle 3/10\n"
     ]
    },
    {
     "name": "stderr",
     "output_type": "stream",
     "text": [
      "100%|█████████████████████████████████████████████████████████████████████████████| 158/158 [00:00<00:00, 10093.67it/s]\n"
     ]
    },
    {
     "name": "stdout",
     "output_type": "stream",
     "text": [
      "Running shuffle 4/10\n"
     ]
    },
    {
     "name": "stderr",
     "output_type": "stream",
     "text": [
      "100%|██████████████████████████████████████████████████████████████████████████████| 158/158 [00:00<00:00, 7136.70it/s]\n"
     ]
    },
    {
     "name": "stdout",
     "output_type": "stream",
     "text": [
      "Running shuffle 5/10\n"
     ]
    },
    {
     "name": "stderr",
     "output_type": "stream",
     "text": [
      "100%|██████████████████████████████████████████████████████████████████████████████| 158/158 [00:00<00:00, 5053.73it/s]\n"
     ]
    },
    {
     "name": "stdout",
     "output_type": "stream",
     "text": [
      "Running shuffle 6/10\n"
     ]
    },
    {
     "name": "stderr",
     "output_type": "stream",
     "text": [
      "100%|█████████████████████████████████████████████████████████████████████████████| 158/158 [00:00<00:00, 10098.59it/s]\n"
     ]
    },
    {
     "name": "stdout",
     "output_type": "stream",
     "text": [
      "Running shuffle 7/10\n"
     ]
    },
    {
     "name": "stderr",
     "output_type": "stream",
     "text": [
      "100%|█████████████████████████████████████████████████████████████████████████████| 158/158 [00:00<00:00, 10097.52it/s]\n"
     ]
    },
    {
     "name": "stdout",
     "output_type": "stream",
     "text": [
      "Running shuffle 8/10\n"
     ]
    },
    {
     "name": "stderr",
     "output_type": "stream",
     "text": [
      "100%|██████████████████████████████████████████████████████████████████████████████| 158/158 [00:00<00:00, 7144.24it/s]\n"
     ]
    },
    {
     "name": "stdout",
     "output_type": "stream",
     "text": [
      "Running shuffle 9/10\n"
     ]
    },
    {
     "name": "stderr",
     "output_type": "stream",
     "text": [
      "100%|██████████████████████████████████████████████████████████████████████████████| 158/158 [00:00<00:00, 5053.34it/s]\n"
     ]
    },
    {
     "name": "stdout",
     "output_type": "stream",
     "text": [
      "Loading training data...\n"
     ]
    },
    {
     "name": "stderr",
     "output_type": "stream",
     "text": [
      "100%|████████████████████████████████████████████████████████████████████████████| 2686/2686 [00:01<00:00, 2400.86it/s]\n",
      "100%|██████████████████████████████████████████████████████████████████████████████████████| 2686/2686 [00:00<?, ?it/s]\n"
     ]
    },
    {
     "name": "stdout",
     "output_type": "stream",
     "text": [
      "Loading test data...\n"
     ]
    },
    {
     "name": "stderr",
     "output_type": "stream",
     "text": [
      "100%|██████████████████████████████████████████████████████████████████████████████| 316/316 [00:00<00:00, 2402.61it/s]\n",
      "100%|█████████████████████████████████████████████████████████████████████████████| 316/316 [00:00<00:00, 20283.73it/s]\n"
     ]
    },
    {
     "name": "stdout",
     "output_type": "stream",
     "text": [
      "Loading validation data...\n"
     ]
    },
    {
     "name": "stderr",
     "output_type": "stream",
     "text": [
      "100%|██████████████████████████████████████████████████████████████████████████████| 158/158 [00:00<00:00, 2288.35it/s]\n",
      "100%|████████████████████████████████████████████████████████████████████████████████████████| 158/158 [00:00<?, ?it/s]\n"
     ]
    },
    {
     "name": "stdout",
     "output_type": "stream",
     "text": [
      "Epoch 1/1000\n",
      "168/168 [==============================] - 10s 37ms/step - loss: 1.0083 - binary_accuracy: 0.4907 - recall_1: 0.5071 - val_loss: 0.7657 - val_binary_accuracy: 0.4494 - val_recall_1: 0.8333\n",
      "Epoch 2/1000\n",
      "168/168 [==============================] - 6s 35ms/step - loss: 0.9268 - binary_accuracy: 0.5357 - recall_1: 0.5399 - val_loss: 0.8456 - val_binary_accuracy: 0.4620 - val_recall_1: 0.5897\n",
      "Epoch 3/1000\n",
      "168/168 [==============================] - 6s 37ms/step - loss: 0.8853 - binary_accuracy: 0.5491 - recall_1: 0.5570 - val_loss: 0.8282 - val_binary_accuracy: 0.5253 - val_recall_1: 0.6282\n",
      "Epoch 4/1000\n",
      "168/168 [==============================] - 6s 35ms/step - loss: 0.8468 - binary_accuracy: 0.5730 - recall_1: 0.5735 - val_loss: 0.7944 - val_binary_accuracy: 0.5823 - val_recall_1: 0.6026\n",
      "Epoch 5/1000\n",
      "168/168 [==============================] - 6s 35ms/step - loss: 0.7818 - binary_accuracy: 0.6035 - recall_1: 0.6025 - val_loss: 0.7478 - val_binary_accuracy: 0.6076 - val_recall_1: 0.6282\n",
      "Epoch 6/1000\n",
      "168/168 [==============================] - 6s 36ms/step - loss: 0.7591 - binary_accuracy: 0.6173 - recall_1: 0.6197 - val_loss: 0.6967 - val_binary_accuracy: 0.6266 - val_recall_1: 0.6410\n",
      "Epoch 7/1000\n",
      "168/168 [==============================] - 6s 34ms/step - loss: 0.7301 - binary_accuracy: 0.6322 - recall_1: 0.6346 - val_loss: 0.6556 - val_binary_accuracy: 0.6392 - val_recall_1: 0.6538\n",
      "Epoch 8/1000\n",
      "168/168 [==============================] - 6s 34ms/step - loss: 0.6714 - binary_accuracy: 0.6698 - recall_1: 0.6711 - val_loss: 0.6157 - val_binary_accuracy: 0.6962 - val_recall_1: 0.7179\n",
      "Epoch 9/1000\n",
      "168/168 [==============================] - 6s 34ms/step - loss: 0.6572 - binary_accuracy: 0.6720 - recall_1: 0.6689 - val_loss: 0.5817 - val_binary_accuracy: 0.7089 - val_recall_1: 0.7436\n",
      "Epoch 10/1000\n",
      "168/168 [==============================] - 6s 34ms/step - loss: 0.6387 - binary_accuracy: 0.6854 - recall_1: 0.6972 - val_loss: 0.5448 - val_binary_accuracy: 0.7278 - val_recall_1: 0.7821\n",
      "Epoch 11/1000\n",
      "168/168 [==============================] - 6s 35ms/step - loss: 0.5901 - binary_accuracy: 0.7096 - recall_1: 0.6957 - val_loss: 0.5104 - val_binary_accuracy: 0.7532 - val_recall_1: 0.8077\n",
      "Epoch 12/1000\n",
      "168/168 [==============================] - 6s 35ms/step - loss: 0.5827 - binary_accuracy: 0.7208 - recall_1: 0.7211 - val_loss: 0.4849 - val_binary_accuracy: 0.7658 - val_recall_1: 0.8077\n",
      "Epoch 13/1000\n",
      "168/168 [==============================] - 6s 34ms/step - loss: 0.5466 - binary_accuracy: 0.7435 - recall_1: 0.7450 - val_loss: 0.4579 - val_binary_accuracy: 0.7848 - val_recall_1: 0.8462\n",
      "Epoch 14/1000\n",
      "168/168 [==============================] - 6s 33ms/step - loss: 0.5427 - binary_accuracy: 0.7450 - recall_1: 0.7524 - val_loss: 0.4324 - val_binary_accuracy: 0.8038 - val_recall_1: 0.8590\n",
      "Epoch 15/1000\n",
      "168/168 [==============================] - 6s 33ms/step - loss: 0.5136 - binary_accuracy: 0.7606 - recall_1: 0.7539 - val_loss: 0.4144 - val_binary_accuracy: 0.7975 - val_recall_1: 0.8462\n",
      "Epoch 16/1000\n",
      "168/168 [==============================] - 6s 35ms/step - loss: 0.4992 - binary_accuracy: 0.7807 - recall_1: 0.7919 - val_loss: 0.3937 - val_binary_accuracy: 0.8228 - val_recall_1: 0.8718\n",
      "Epoch 17/1000\n",
      "168/168 [==============================] - 6s 34ms/step - loss: 0.4804 - binary_accuracy: 0.7759 - recall_1: 0.7763 - val_loss: 0.3708 - val_binary_accuracy: 0.8291 - val_recall_1: 0.8846\n",
      "Epoch 18/1000\n",
      "168/168 [==============================] - 6s 33ms/step - loss: 0.4575 - binary_accuracy: 0.7949 - recall_1: 0.7957 - val_loss: 0.3547 - val_binary_accuracy: 0.8544 - val_recall_1: 0.9103\n",
      "Epoch 19/1000\n",
      "168/168 [==============================] - 6s 36ms/step - loss: 0.4358 - binary_accuracy: 0.8142 - recall_1: 0.8173 - val_loss: 0.3404 - val_binary_accuracy: 0.8671 - val_recall_1: 0.9231\n",
      "Epoch 20/1000\n",
      "168/168 [==============================] - 6s 35ms/step - loss: 0.4290 - binary_accuracy: 0.8120 - recall_1: 0.8151 - val_loss: 0.3209 - val_binary_accuracy: 0.8734 - val_recall_1: 0.9231\n",
      "Epoch 21/1000\n",
      "168/168 [==============================] - 5s 33ms/step - loss: 0.4172 - binary_accuracy: 0.8124 - recall_1: 0.8106 - val_loss: 0.3103 - val_binary_accuracy: 0.8797 - val_recall_1: 0.9231\n",
      "Epoch 22/1000\n",
      "168/168 [==============================] - 6s 34ms/step - loss: 0.4155 - binary_accuracy: 0.8176 - recall_1: 0.8166 - val_loss: 0.2959 - val_binary_accuracy: 0.8797 - val_recall_1: 0.9359\n",
      "Epoch 23/1000\n",
      "168/168 [==============================] - 6s 37ms/step - loss: 0.3952 - binary_accuracy: 0.8354 - recall_1: 0.8307 - val_loss: 0.2815 - val_binary_accuracy: 0.9114 - val_recall_1: 0.9744\n",
      "Epoch 24/1000\n",
      "168/168 [==============================] - 6s 35ms/step - loss: 0.3688 - binary_accuracy: 0.8496 - recall_1: 0.8486 - val_loss: 0.2703 - val_binary_accuracy: 0.9177 - val_recall_1: 0.9615\n",
      "Epoch 25/1000\n",
      "168/168 [==============================] - 5s 33ms/step - loss: 0.3638 - binary_accuracy: 0.8503 - recall_1: 0.8389 - val_loss: 0.2549 - val_binary_accuracy: 0.9241 - val_recall_1: 0.9615\n",
      "Epoch 26/1000\n",
      "168/168 [==============================] - 6s 35ms/step - loss: 0.3582 - binary_accuracy: 0.8470 - recall_1: 0.8389 - val_loss: 0.2469 - val_binary_accuracy: 0.9304 - val_recall_1: 0.9615\n",
      "Epoch 27/1000\n",
      "168/168 [==============================] - 6s 36ms/step - loss: 0.3461 - binary_accuracy: 0.8637 - recall_1: 0.8613 - val_loss: 0.2367 - val_binary_accuracy: 0.9367 - val_recall_1: 0.9744\n",
      "Epoch 28/1000\n",
      "168/168 [==============================] - 6s 34ms/step - loss: 0.3410 - binary_accuracy: 0.8626 - recall_1: 0.8613 - val_loss: 0.2278 - val_binary_accuracy: 0.9367 - val_recall_1: 0.9744\n",
      "Epoch 29/1000\n",
      "168/168 [==============================] - 5s 32ms/step - loss: 0.3310 - binary_accuracy: 0.8656 - recall_1: 0.8665 - val_loss: 0.2161 - val_binary_accuracy: 0.9430 - val_recall_1: 0.9872\n",
      "Epoch 30/1000\n",
      "168/168 [==============================] - 5s 32ms/step - loss: 0.3298 - binary_accuracy: 0.8656 - recall_1: 0.8755 - val_loss: 0.2056 - val_binary_accuracy: 0.9557 - val_recall_1: 0.9872\n",
      "Epoch 31/1000\n",
      "168/168 [==============================] - 5s 32ms/step - loss: 0.3200 - binary_accuracy: 0.8738 - recall_1: 0.8896 - val_loss: 0.1982 - val_binary_accuracy: 0.9557 - val_recall_1: 0.9872\n",
      "Epoch 32/1000\n",
      "168/168 [==============================] - 5s 32ms/step - loss: 0.3125 - binary_accuracy: 0.8745 - recall_1: 0.8792 - val_loss: 0.1911 - val_binary_accuracy: 0.9684 - val_recall_1: 1.0000\n",
      "Epoch 33/1000\n",
      "168/168 [==============================] - 5s 32ms/step - loss: 0.3019 - binary_accuracy: 0.8820 - recall_1: 0.8762 - val_loss: 0.1845 - val_binary_accuracy: 0.9747 - val_recall_1: 1.0000\n",
      "Epoch 34/1000\n",
      "168/168 [==============================] - 5s 32ms/step - loss: 0.2898 - binary_accuracy: 0.8909 - recall_1: 0.8889 - val_loss: 0.1762 - val_binary_accuracy: 0.9810 - val_recall_1: 1.0000\n",
      "Epoch 35/1000\n",
      "168/168 [==============================] - 5s 32ms/step - loss: 0.2790 - binary_accuracy: 0.8954 - recall_1: 0.8949 - val_loss: 0.1695 - val_binary_accuracy: 0.9810 - val_recall_1: 1.0000\n",
      "Epoch 36/1000\n",
      "168/168 [==============================] - 5s 32ms/step - loss: 0.2873 - binary_accuracy: 0.8958 - recall_1: 0.8956 - val_loss: 0.1635 - val_binary_accuracy: 0.9810 - val_recall_1: 1.0000\n",
      "Epoch 37/1000\n",
      "168/168 [==============================] - 5s 32ms/step - loss: 0.2663 - binary_accuracy: 0.9013 - recall_1: 0.9023 - val_loss: 0.1572 - val_binary_accuracy: 0.9810 - val_recall_1: 1.0000\n",
      "Epoch 38/1000\n",
      "168/168 [==============================] - 5s 32ms/step - loss: 0.2642 - binary_accuracy: 0.9039 - recall_1: 0.9113 - val_loss: 0.1508 - val_binary_accuracy: 0.9810 - val_recall_1: 1.0000\n",
      "Epoch 39/1000\n",
      "168/168 [==============================] - 5s 32ms/step - loss: 0.2575 - binary_accuracy: 0.9106 - recall_1: 0.9090 - val_loss: 0.1455 - val_binary_accuracy: 0.9810 - val_recall_1: 1.0000\n",
      "Epoch 40/1000\n",
      "168/168 [==============================] - 5s 32ms/step - loss: 0.2678 - binary_accuracy: 0.9021 - recall_1: 0.9045 - val_loss: 0.1399 - val_binary_accuracy: 0.9810 - val_recall_1: 1.0000\n",
      "######################### Model Test #########################\n"
     ]
    },
    {
     "data": {
      "image/png": "[encoded data removed]",
      "text/plain": [
       "<Figure size 360x360 with 2 Axes>"
      ]
     },
     "metadata": {
      "needs_background": "light"
     },
     "output_type": "display_data"
    },
    {
     "name": "stdout",
     "output_type": "stream",
     "text": [
      "INFO:tensorflow:Assets written to: D:\\University\\Esami da Superare\\Natural Language Processing\\BarneyBot\\BarneyBot\\Data\\Characters\\Vader\\vader_classifier_1000\\assets\n",
      "Using classifier at D:\\University\\Esami da Superare\\Natural Language Processing\\BarneyBot\\BarneyBot\\Data\\Characters\\Vader\\vader_classifier_1000\n",
      "{'score': 0.3908519, 'std': 0.0}\n",
      "Using classifier at D:\\University\\Esami da Superare\\Natural Language Processing\\BarneyBot\\BarneyBot\\Data\\Characters\\Vader\\vader_classifier_1000\n",
      "{'score': 0.57754326, 'std': 0.0}\n"
     ]
    }
   ],
   "source": [
    "metric = BBMetric.load_metric(\"semantic classifier\")\n",
    "\n",
    "# n_shuffles is optional, defaults to 10\n",
    "# from_saved_embeddings is optional, defaults to True\n",
    "# shutdown_at_end is optional, defaults to False\n",
    "# epochs is optional, defaults to 1000\n",
    "metric.train(character='Vader', character_dict=character_dict, source_dict=source_dict, random_state=random_state,\n",
    "             base_folder=base_folder, n_shuffles=10, from_saved_embeddings=True, shutdown_at_end=False, epochs=1000)\n",
    "\n",
    "# from_n_epochs is optional, defaults to 'last'\n",
    "# n_draws is optional, defaults to len(sentences)-2\n",
    "print(metric.compute(character='Vader', character_dict=character_dict, base_folder=base_folder, from_n_epochs='last',\n",
    "               sentences=sentences_basic))\n",
    "print(metric.compute(character='Vader', character_dict=character_dict, base_folder=base_folder, from_n_epochs='last',\n",
    "               sentences=sentences_vader))"
   ]
  },
  {
   "cell_type": "code",
   "execution_count": 19,
   "metadata": {},
   "outputs": [
    {
     "name": "stderr",
     "output_type": "stream",
     "text": [
      "100%|████████████████████████████████████████████████████████████████████████████████████| 5/5 [00:08<00:00,  1.75s/it]"
     ]
    },
    {
     "name": "stdout",
     "output_type": "stream",
     "text": [
      "{'score_concat': 40623438.20342068}\n"
     ]
    },
    {
     "name": "stderr",
     "output_type": "stream",
     "text": [
      "\n"
     ]
    }
   ],
   "source": [
    "metric = BBMetric.load_metric(\"perplexity\")\n",
    "\n",
    "# stride is optional, defaults to 64\n",
    "print(metric.compute(model=model, tokenizer=tokenizer, sentences=sentences_basic, stride=3))"
   ]
  },
  {
   "cell_type": "code",
   "execution_count": null,
   "metadata": {},
   "outputs": [],
   "source": [
    "metric = BBMetric.load_metric(\"human - coherence\")\n",
    "\n",
    "# length is optional, defaults to 5\n",
    "metric.train(model=model, tokenizer=tokenizer,\n",
    "             filepath=os.path.join(os.getcwd(), \"Datasets\", \"Characters\", \"Default\", \"humancoherence.csv\"),\n",
    "             length=2)\n",
    "\n",
    "metric.compute(filepath=os.path.join(os.getcwd(), \"Datasets\", \"Characters\", \"Default\", \"humancoherence.csv\"))"
   ]
  },
  {
   "cell_type": "code",
   "execution_count": null,
   "metadata": {},
   "outputs": [],
   "source": [
    "metric = BBMetric.load_metric(\"human - consistency\")\n",
    "\n",
    "metric.train(model=model, tokenizer=tokenizer,\n",
    "             filepath=os.path.join(os.getcwd(), \"Datasets\", \"Characters\", \"Default\", \"humanconsistency.csv\"))\n",
    "\n",
    "metric.compute(filepath=os.path.join(os.getcwd(), \"Datasets\", \"Characters\", \"Default\", \"humanconsistency.csv\"))"
   ]
  },
  {
   "cell_type": "code",
   "execution_count": null,
   "metadata": {
    "scrolled": false
   },
   "outputs": [],
   "source": [
    "metric = BBMetric.load_metric(\"human - style\")\n",
    "\n",
    "metric.train(model=model, tokenizer=tokenizer,\n",
    "             filepath=os.path.join(os.getcwd(), \"Datasets\", \"Characters\", \"Default\", \"humanstyle.csv\"),\n",
    "             questions=barney_sentences)\n",
    "\n",
    "metric.compute(filepath=os.path.join(os.getcwd(), \"Datasets\", \"Characters\", \"Default\", \"humanstyle.csv\"))"
   ]
  },
  {
   "cell_type": "code",
   "execution_count": null,
   "metadata": {},
   "outputs": [],
   "source": []
  }
 ],
 "metadata": {
  "kernelspec": {
   "display_name": "Python 3",
   "language": "python",
   "name": "python3"
  },
  "language_info": {
   "codemirror_mode": {
    "name": "ipython",
    "version": 3
   },
   "file_extension": ".py",
   "mimetype": "text/x-python",
   "name": "python",
   "nbconvert_exporter": "python",
   "pygments_lexer": "ipython3",
   "version": "3.8.5"
  }
 },
 "nbformat": 4,
 "nbformat_minor": 4
}
