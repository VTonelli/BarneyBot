{
 "cells": [
  {
   "cell_type": "code",
   "execution_count": 1,
   "metadata": {
    "scrolled": true
   },
   "outputs": [],
   "source": [
    "from lib.BBMetrics import BBMetric\n",
    "from transformers import TFAutoModelForCausalLM, AutoTokenizer\n",
    "import os\n",
    "from Data.data_dicts import character_dict, source_dict, random_state\n",
    "\n",
    "import os\n",
    "try:\n",
    "    import google.colab\n",
    "    IN_COLAB = True\n",
    "except:\n",
    "    IN_COLAB = False\n",
    "if IN_COLAB:\n",
    "    from google.colab import drive\n",
    "    drive.mount('/content/drive',force_remount=True)\n",
    "    base_folder = '/content/drive/My Drive/unibo/NLP_project/BarneyBot'\n",
    "    os.system(\"pip install datasets\")\n",
    "    os.system(\"pip install transformers\")\n",
    "    os.system(\"pip install rouge_score\")\n",
    "    os.system(\"pip install -U sentence-transformers\")\n",
    "else:\n",
    "    base_folder = os.getcwd()\n",
    "\n",
    "sentences1 = [\"I love this! I think life is good without issues.\", \"The red fox jumps.\", \"Hi\"]\n",
    "sentences2 = [\"I hate you.\", \"Hi\"]"
   ]
  },
  {
   "cell_type": "code",
   "execution_count": null,
   "metadata": {},
   "outputs": [],
   "source": [
    "model = TFAutoModelForCausalLM.from_pretrained('microsoft/DialoGPT-small', cache_dir=os.path.join(os.getcwd(), \"cache\"))\n",
    "tokenizer = AutoTokenizer.from_pretrained('microsoft/DialoGPT-small', cache_dir=os.path.join(os.getcwd(), \"cache\"))\n",
    "tokenizer.pad_token = '#'"
   ]
  },
  {
   "cell_type": "code",
   "execution_count": 2,
   "metadata": {},
   "outputs": [
    {
     "data": {
      "text/plain": [
       "['bleu',\n",
       " 'semantic similarity',\n",
       " 'rouge l',\n",
       " 'emotion',\n",
       " 'semantic answer similarity',\n",
       " 'distinct',\n",
       " 'semantic classifier',\n",
       " 'perplexity',\n",
       " 'human - coherence',\n",
       " 'human - consistency',\n",
       " 'human - style']"
      ]
     },
     "execution_count": 2,
     "metadata": {},
     "output_type": "execute_result"
    }
   ],
   "source": [
    "BBMetric.metrics_list"
   ]
  },
  {
   "cell_type": "code",
   "execution_count": 2,
   "metadata": {},
   "outputs": [
    {
     "name": "stdout",
     "output_type": "stream",
     "text": [
      "Loaded encoded lines from D:\\University\\Esami da Superare\\Natural Language Processing\\BarneyBot\\BarneyBot\\Data\\Characters\\Vader\\vader_encoded_lines.npy\n",
      "Running shuffle 0/10\n"
     ]
    },
    {
     "name": "stderr",
     "output_type": "stream",
     "text": [
      "100%|██████████████████████████████████████████████████████████████████████████████| 158/158 [00:00<00:00, 7131.94it/s]\n"
     ]
    },
    {
     "name": "stdout",
     "output_type": "stream",
     "text": [
      "Running shuffle 1/10\n"
     ]
    },
    {
     "name": "stderr",
     "output_type": "stream",
     "text": [
      "100%|██████████████████████████████████████████████████████████████████████████████| 158/158 [00:00<00:00, 5054.19it/s]\n"
     ]
    },
    {
     "name": "stdout",
     "output_type": "stream",
     "text": [
      "Running shuffle 2/10\n"
     ]
    },
    {
     "name": "stderr",
     "output_type": "stream",
     "text": [
      "100%|█████████████████████████████████████████████████████████████████████████████| 158/158 [00:00<00:00, 10110.77it/s]\n"
     ]
    },
    {
     "name": "stdout",
     "output_type": "stream",
     "text": [
      "Running shuffle 3/10\n"
     ]
    },
    {
     "name": "stderr",
     "output_type": "stream",
     "text": [
      "100%|█████████████████████████████████████████████████████████████████████████████| 158/158 [00:00<00:00, 10132.56it/s]\n"
     ]
    },
    {
     "name": "stdout",
     "output_type": "stream",
     "text": [
      "Running shuffle 4/10\n"
     ]
    },
    {
     "name": "stderr",
     "output_type": "stream",
     "text": [
      "100%|██████████████████████████████████████████████████████████████████████████████| 158/158 [00:00<00:00, 7129.87it/s]\n"
     ]
    },
    {
     "name": "stdout",
     "output_type": "stream",
     "text": [
      "Running shuffle 5/10\n"
     ]
    },
    {
     "name": "stderr",
     "output_type": "stream",
     "text": [
      "100%|█████████████████████████████████████████████████████████████████████████████| 158/158 [00:00<00:00, 10102.29it/s]\n"
     ]
    },
    {
     "name": "stdout",
     "output_type": "stream",
     "text": [
      "Running shuffle 6/10\n"
     ]
    },
    {
     "name": "stderr",
     "output_type": "stream",
     "text": [
      "100%|█████████████████████████████████████████████████████████████████████████████| 158/158 [00:00<00:00, 10133.96it/s]\n"
     ]
    },
    {
     "name": "stdout",
     "output_type": "stream",
     "text": [
      "Running shuffle 7/10\n"
     ]
    },
    {
     "name": "stderr",
     "output_type": "stream",
     "text": [
      "100%|██████████████████████████████████████████████████████████████████████████████| 158/158 [00:00<00:00, 5051.95it/s]\n"
     ]
    },
    {
     "name": "stdout",
     "output_type": "stream",
     "text": [
      "Running shuffle 8/10\n"
     ]
    },
    {
     "name": "stderr",
     "output_type": "stream",
     "text": [
      "100%|██████████████████████████████████████████████████████████████████████████████| 158/158 [00:00<00:00, 7145.09it/s]\n"
     ]
    },
    {
     "name": "stdout",
     "output_type": "stream",
     "text": [
      "Running shuffle 9/10\n"
     ]
    },
    {
     "name": "stderr",
     "output_type": "stream",
     "text": [
      "100%|█████████████████████████████████████████████████████████████████████████████| 158/158 [00:00<00:00, 10103.83it/s]\n"
     ]
    },
    {
     "name": "stdout",
     "output_type": "stream",
     "text": [
      "Loading training data...\n"
     ]
    },
    {
     "name": "stderr",
     "output_type": "stream",
     "text": [
      "100%|████████████████████████████████████████████████████████████████████████████| 2686/2686 [00:01<00:00, 2469.33it/s]\n",
      "100%|██████████████████████████████████████████████████████████████████████████████████████| 2686/2686 [00:00<?, ?it/s]\n"
     ]
    },
    {
     "name": "stdout",
     "output_type": "stream",
     "text": [
      "Loading test data...\n"
     ]
    },
    {
     "name": "stderr",
     "output_type": "stream",
     "text": [
      "100%|██████████████████████████████████████████████████████████████████████████████| 316/316 [00:00<00:00, 2401.99it/s]\n",
      "100%|████████████████████████████████████████████████████████████████████████████████████████| 316/316 [00:00<?, ?it/s]\n"
     ]
    },
    {
     "name": "stdout",
     "output_type": "stream",
     "text": [
      "Loading validation data...\n"
     ]
    },
    {
     "name": "stderr",
     "output_type": "stream",
     "text": [
      "100%|██████████████████████████████████████████████████████████████████████████████| 158/158 [00:00<00:00, 2527.60it/s]\n",
      "100%|████████████████████████████████████████████████████████████████████████████████████████| 158/158 [00:00<?, ?it/s]\n"
     ]
    },
    {
     "name": "stdout",
     "output_type": "stream",
     "text": [
      "Epoch 1/1000\n",
      "168/168 [==============================] - 7s 33ms/step - loss: 0.9401 - binary_accuracy: 0.5123 - recall: 0.5227 - val_loss: 0.7130 - val_binary_accuracy: 0.5316 - val_recall: 0.9103\n",
      "Epoch 2/1000\n",
      "168/168 [==============================] - 6s 33ms/step - loss: 0.8861 - binary_accuracy: 0.5424 - recall: 0.5444 - val_loss: 0.7260 - val_binary_accuracy: 0.5949 - val_recall: 0.8718\n",
      "Epoch 3/1000\n",
      "168/168 [==============================] - 6s 34ms/step - loss: 0.8213 - binary_accuracy: 0.5745 - recall: 0.5772 - val_loss: 0.6937 - val_binary_accuracy: 0.6266 - val_recall: 0.7692\n",
      "Epoch 4/1000\n",
      "168/168 [==============================] - 6s 33ms/step - loss: 0.7937 - binary_accuracy: 0.5845 - recall: 0.5809 - val_loss: 0.6504 - val_binary_accuracy: 0.6519 - val_recall: 0.7051\n",
      "Epoch 5/1000\n",
      "168/168 [==============================] - 6s 34ms/step - loss: 0.7578 - binary_accuracy: 0.5983 - recall: 0.5988 - val_loss: 0.6148 - val_binary_accuracy: 0.6899 - val_recall: 0.7308\n",
      "Epoch 6/1000\n",
      "168/168 [==============================] - 5s 32ms/step - loss: 0.7482 - binary_accuracy: 0.6273 - recall: 0.6346 - val_loss: 0.5852 - val_binary_accuracy: 0.6962 - val_recall: 0.7308\n",
      "Epoch 7/1000\n",
      "168/168 [==============================] - 6s 36ms/step - loss: 0.6888 - binary_accuracy: 0.6478 - recall: 0.6465 - val_loss: 0.5490 - val_binary_accuracy: 0.7342 - val_recall: 0.7692\n",
      "Epoch 8/1000\n",
      "168/168 [==============================] - 6s 38ms/step - loss: 0.6518 - binary_accuracy: 0.6620 - recall: 0.6629 - val_loss: 0.5233 - val_binary_accuracy: 0.7532 - val_recall: 0.7821\n",
      "Epoch 9/1000\n",
      "168/168 [==============================] - 6s 36ms/step - loss: 0.6268 - binary_accuracy: 0.6910 - recall: 0.6995 - val_loss: 0.4945 - val_binary_accuracy: 0.7658 - val_recall: 0.7949\n",
      "Epoch 10/1000\n",
      "168/168 [==============================] - 5s 32ms/step - loss: 0.6122 - binary_accuracy: 0.6888 - recall: 0.6823 - val_loss: 0.4685 - val_binary_accuracy: 0.8038 - val_recall: 0.8205\n",
      "Epoch 11/1000\n",
      "168/168 [==============================] - 6s 35ms/step - loss: 0.5775 - binary_accuracy: 0.7189 - recall: 0.7256 - val_loss: 0.4418 - val_binary_accuracy: 0.8101 - val_recall: 0.8462\n",
      "Epoch 12/1000\n",
      "168/168 [==============================] - 5s 32ms/step - loss: 0.5680 - binary_accuracy: 0.7260 - recall: 0.7293 - val_loss: 0.4229 - val_binary_accuracy: 0.8165 - val_recall: 0.8333\n",
      "Epoch 13/1000\n",
      "168/168 [==============================] - 5s 30ms/step - loss: 0.5394 - binary_accuracy: 0.7386 - recall: 0.7472 - val_loss: 0.4037 - val_binary_accuracy: 0.8354 - val_recall: 0.8590\n",
      "Epoch 14/1000\n",
      "168/168 [==============================] - 5s 30ms/step - loss: 0.5208 - binary_accuracy: 0.7695 - recall: 0.7711 - val_loss: 0.3861 - val_binary_accuracy: 0.8544 - val_recall: 0.8718\n",
      "Epoch 15/1000\n",
      "168/168 [==============================] - 5s 31ms/step - loss: 0.5180 - binary_accuracy: 0.7539 - recall: 0.7502 - val_loss: 0.3642 - val_binary_accuracy: 0.8671 - val_recall: 0.8846\n",
      "Epoch 16/1000\n",
      "168/168 [==============================] - 5s 32ms/step - loss: 0.4771 - binary_accuracy: 0.7844 - recall: 0.7882 - val_loss: 0.3500 - val_binary_accuracy: 0.8544 - val_recall: 0.8718\n",
      "Epoch 17/1000\n",
      "168/168 [==============================] - 6s 34ms/step - loss: 0.4633 - binary_accuracy: 0.8019 - recall: 0.8001 - val_loss: 0.3330 - val_binary_accuracy: 0.8861 - val_recall: 0.8846\n",
      "Epoch 18/1000\n",
      "168/168 [==============================] - 6s 33ms/step - loss: 0.4454 - binary_accuracy: 0.8057 - recall: 0.8098 - val_loss: 0.3182 - val_binary_accuracy: 0.8987 - val_recall: 0.9103\n",
      "Epoch 19/1000\n",
      "168/168 [==============================] - 6s 34ms/step - loss: 0.4570 - binary_accuracy: 0.7975 - recall: 0.7919 - val_loss: 0.3057 - val_binary_accuracy: 0.9114 - val_recall: 0.9231\n",
      "Epoch 20/1000\n",
      "168/168 [==============================] - 6s 35ms/step - loss: 0.4288 - binary_accuracy: 0.8057 - recall: 0.8143 - val_loss: 0.2927 - val_binary_accuracy: 0.9304 - val_recall: 0.9487\n",
      "Epoch 21/1000\n",
      "168/168 [==============================] - 6s 33ms/step - loss: 0.4074 - binary_accuracy: 0.8295 - recall: 0.8389 - val_loss: 0.2792 - val_binary_accuracy: 0.9304 - val_recall: 0.9487\n",
      "Epoch 22/1000\n",
      "168/168 [==============================] - 6s 33ms/step - loss: 0.4097 - binary_accuracy: 0.8239 - recall: 0.8240 - val_loss: 0.2667 - val_binary_accuracy: 0.9367 - val_recall: 0.9615\n",
      "Epoch 23/1000\n",
      "168/168 [==============================] - 5s 33ms/step - loss: 0.3951 - binary_accuracy: 0.8313 - recall: 0.8382 - val_loss: 0.2564 - val_binary_accuracy: 0.9367 - val_recall: 0.9615\n",
      "Epoch 24/1000\n",
      "168/168 [==============================] - 6s 36ms/step - loss: 0.3699 - binary_accuracy: 0.8448 - recall: 0.8516 - val_loss: 0.2449 - val_binary_accuracy: 0.9367 - val_recall: 0.9615\n",
      "Epoch 25/1000\n",
      "168/168 [==============================] - 6s 33ms/step - loss: 0.3707 - binary_accuracy: 0.8436 - recall: 0.8449 - val_loss: 0.2355 - val_binary_accuracy: 0.9367 - val_recall: 0.9615\n",
      "Epoch 26/1000\n",
      "168/168 [==============================] - 6s 35ms/step - loss: 0.3616 - binary_accuracy: 0.8555 - recall: 0.8680 - val_loss: 0.2245 - val_binary_accuracy: 0.9430 - val_recall: 0.9615\n",
      "Epoch 27/1000\n",
      "168/168 [==============================] - 6s 35ms/step - loss: 0.3389 - binary_accuracy: 0.8626 - recall: 0.8665 - val_loss: 0.2175 - val_binary_accuracy: 0.9430 - val_recall: 0.9615\n",
      "Epoch 28/1000\n",
      "168/168 [==============================] - 6s 38ms/step - loss: 0.3394 - binary_accuracy: 0.8634 - recall: 0.8673 - val_loss: 0.2062 - val_binary_accuracy: 0.9494 - val_recall: 0.9615\n",
      "Epoch 29/1000\n",
      "168/168 [==============================] - 7s 39ms/step - loss: 0.3305 - binary_accuracy: 0.8693 - recall: 0.8740 - val_loss: 0.1992 - val_binary_accuracy: 0.9494 - val_recall: 0.9615\n",
      "Epoch 30/1000\n",
      "168/168 [==============================] - 6s 38ms/step - loss: 0.3195 - binary_accuracy: 0.8727 - recall: 0.8770 - val_loss: 0.1890 - val_binary_accuracy: 0.9494 - val_recall: 0.9615\n",
      "Epoch 31/1000\n",
      "168/168 [==============================] - 7s 40ms/step - loss: 0.3093 - binary_accuracy: 0.8887 - recall: 0.8919 - val_loss: 0.1832 - val_binary_accuracy: 0.9494 - val_recall: 0.9615\n",
      "Epoch 32/1000\n",
      "168/168 [==============================] - 7s 42ms/step - loss: 0.3080 - binary_accuracy: 0.8846 - recall: 0.8874 - val_loss: 0.1772 - val_binary_accuracy: 0.9494 - val_recall: 0.9615\n",
      "Epoch 33/1000\n",
      "168/168 [==============================] - 6s 37ms/step - loss: 0.3032 - binary_accuracy: 0.8779 - recall: 0.8807 - val_loss: 0.1700 - val_binary_accuracy: 0.9557 - val_recall: 0.9744\n",
      "Epoch 34/1000\n",
      "168/168 [==============================] - 6s 37ms/step - loss: 0.2873 - binary_accuracy: 0.8928 - recall: 0.8956 - val_loss: 0.1640 - val_binary_accuracy: 0.9557 - val_recall: 0.9744\n",
      "Epoch 35/1000\n",
      "168/168 [==============================] - 7s 44ms/step - loss: 0.2940 - binary_accuracy: 0.8894 - recall: 0.8963 - val_loss: 0.1567 - val_binary_accuracy: 0.9620 - val_recall: 0.9744\n",
      "Epoch 36/1000\n",
      "168/168 [==============================] - 7s 40ms/step - loss: 0.2729 - binary_accuracy: 0.9036 - recall: 0.9172 - val_loss: 0.1508 - val_binary_accuracy: 0.9620 - val_recall: 0.9744\n",
      "Epoch 37/1000\n",
      "168/168 [==============================] - 7s 42ms/step - loss: 0.2819 - binary_accuracy: 0.8987 - recall: 0.9023 - val_loss: 0.1446 - val_binary_accuracy: 0.9747 - val_recall: 0.9744\n",
      "Epoch 38/1000\n",
      "168/168 [==============================] - 8s 47ms/step - loss: 0.2615 - binary_accuracy: 0.9006 - recall: 0.9031 - val_loss: 0.1414 - val_binary_accuracy: 0.9747 - val_recall: 0.9872\n",
      "Epoch 39/1000\n",
      "168/168 [==============================] - 8s 45ms/step - loss: 0.2585 - binary_accuracy: 0.9054 - recall: 0.9142 - val_loss: 0.1345 - val_binary_accuracy: 0.9810 - val_recall: 0.9872\n",
      "Epoch 40/1000\n",
      "168/168 [==============================] - 7s 42ms/step - loss: 0.2504 - binary_accuracy: 0.9125 - recall: 0.9187 - val_loss: 0.1312 - val_binary_accuracy: 0.9810 - val_recall: 0.9872\n",
      "Epoch 41/1000\n",
      "168/168 [==============================] - 7s 41ms/step - loss: 0.2402 - binary_accuracy: 0.9222 - recall: 0.9247 - val_loss: 0.1248 - val_binary_accuracy: 0.9873 - val_recall: 0.9872\n",
      "Epoch 42/1000\n"
     ]
    },
    {
     "name": "stdout",
     "output_type": "stream",
     "text": [
      "168/168 [==============================] - 7s 41ms/step - loss: 0.2307 - binary_accuracy: 0.9218 - recall: 0.9232 - val_loss: 0.1195 - val_binary_accuracy: 0.9873 - val_recall: 0.9872\n",
      "Epoch 43/1000\n",
      "168/168 [==============================] - 7s 41ms/step - loss: 0.2197 - binary_accuracy: 0.9285 - recall: 0.9374 - val_loss: 0.1160 - val_binary_accuracy: 0.9873 - val_recall: 0.9872\n",
      "Epoch 44/1000\n",
      "168/168 [==============================] - 7s 41ms/step - loss: 0.2223 - binary_accuracy: 0.9267 - recall: 0.9336 - val_loss: 0.1121 - val_binary_accuracy: 0.9937 - val_recall: 0.9872\n",
      "Epoch 45/1000\n",
      "168/168 [==============================] - 6s 34ms/step - loss: 0.2213 - binary_accuracy: 0.9315 - recall: 0.9366 - val_loss: 0.1072 - val_binary_accuracy: 1.0000 - val_recall: 1.0000\n",
      "Epoch 46/1000\n",
      "168/168 [==============================] - 6s 37ms/step - loss: 0.2196 - binary_accuracy: 0.9289 - recall: 0.9351 - val_loss: 0.1055 - val_binary_accuracy: 1.0000 - val_recall: 1.0000\n",
      "Epoch 47/1000\n",
      "168/168 [==============================] - 7s 41ms/step - loss: 0.2121 - binary_accuracy: 0.9367 - recall: 0.9403 - val_loss: 0.1003 - val_binary_accuracy: 1.0000 - val_recall: 1.0000\n",
      "Epoch 48/1000\n",
      "168/168 [==============================] - 7s 43ms/step - loss: 0.1996 - binary_accuracy: 0.9378 - recall: 0.9448 - val_loss: 0.0978 - val_binary_accuracy: 1.0000 - val_recall: 1.0000\n",
      "Epoch 49/1000\n",
      "168/168 [==============================] - 7s 39ms/step - loss: 0.1978 - binary_accuracy: 0.9389 - recall: 0.9418 - val_loss: 0.0936 - val_binary_accuracy: 1.0000 - val_recall: 1.0000\n",
      "Epoch 50/1000\n",
      "168/168 [==============================] - 7s 40ms/step - loss: 0.1895 - binary_accuracy: 0.9453 - recall: 0.9471 - val_loss: 0.0901 - val_binary_accuracy: 1.0000 - val_recall: 1.0000\n",
      "Epoch 51/1000\n",
      "168/168 [==============================] - 6s 37ms/step - loss: 0.1899 - binary_accuracy: 0.9490 - recall: 0.9500 - val_loss: 0.0886 - val_binary_accuracy: 1.0000 - val_recall: 1.0000\n",
      "######################### Model Test #########################\n"
     ]
    },
    {
     "data": {
      "image/png": "[encoded data removed]",
      "text/plain": [
       "<Figure size 360x360 with 2 Axes>"
      ]
     },
     "metadata": {
      "needs_background": "light"
     },
     "output_type": "display_data"
    },
    {
     "name": "stdout",
     "output_type": "stream",
     "text": [
      "INFO:tensorflow:Assets written to: D:\\University\\Esami da Superare\\Natural Language Processing\\BarneyBot\\BarneyBot\\Data\\Characters\\Vader\\vader_classifier_1000\\assets\n"
     ]
    }
   ],
   "source": [
    "metric = BBMetric.load_metric(\"semantic classifier\")\n",
    "\n",
    "metric.train(character='Vader', character_dict=character_dict, source_dict=source_dict, random_state=random_state,\n",
    "             base_folder=base_folder)"
   ]
  },
  {
   "cell_type": "code",
   "execution_count": 7,
   "metadata": {},
   "outputs": [
    {
     "name": "stdout",
     "output_type": "stream",
     "text": [
      "{'score': 0.64661723}\n",
      "{'score': 0.40511295}\n"
     ]
    }
   ],
   "source": [
    "metric = BBMetric.load_metric(\"semantic classifier\")\n",
    "\n",
    "print(metric.compute(character='Vader', character_dict=character_dict, base_folder=base_folder,\n",
    "               sentences=[\"We're doomed!\", \"Not again! Forget it.\", \"Don't worry about it, Wormie.\"]))\n",
    "print(metric.compute(character='Vader', character_dict=character_dict, base_folder=base_folder,\n",
    "               sentences=[\"Commander, tear this ship apart\", \"What have you done with thoseplans?\",\n",
    "                          \"What is thy bidding, my Master?\"]))"
   ]
  },
  {
   "cell_type": "code",
   "execution_count": 7,
   "metadata": {},
   "outputs": [
    {
     "name": "stdout",
     "output_type": "stream",
     "text": [
      "{'score': 0.0}\n"
     ]
    }
   ],
   "source": [
    "metric = BBMetric.load_metric(\"bleu\")\n",
    "\n",
    "print(metric.compute(predictions=sentences1, references=sentences2))"
   ]
  },
  {
   "cell_type": "code",
   "execution_count": 8,
   "metadata": {},
   "outputs": [
    {
     "name": "stdout",
     "output_type": "stream",
     "text": [
      "{'score': 0.6666666666666666}\n"
     ]
    }
   ],
   "source": [
    "metric = BBMetric.load_metric(\"rouge l\")\n",
    "\n",
    "print(metric.compute(predictions=sentences1, references=sentences2))"
   ]
  },
  {
   "cell_type": "code",
   "execution_count": 4,
   "metadata": {},
   "outputs": [
    {
     "name": "stdout",
     "output_type": "stream",
     "text": [
      "{'scores': array([0.03812046, 0.9504694 ], dtype=float32)}\n"
     ]
    }
   ],
   "source": [
    "metric = BBMetric.load_metric(\"semantic similarity\")\n",
    "\n",
    "print(metric.compute(sentences_a=sentences1, sentences_b=sentences2))"
   ]
  },
  {
   "cell_type": "code",
   "execution_count": 2,
   "metadata": {},
   "outputs": [
    {
     "name": "stdout",
     "output_type": "stream",
     "text": [
      "{'scores': [0.6401270031929016, 0.36308011412620544], 'labels': ['joy', 'anger']}\n"
     ]
    }
   ],
   "source": [
    "metric = BBMetric.load_metric(\"emotion\")\n",
    "\n",
    "print(metric.compute(sentences=sentences1))"
   ]
  },
  {
   "cell_type": "code",
   "execution_count": 3,
   "metadata": {},
   "outputs": [
    {
     "name": "stdout",
     "output_type": "stream",
     "text": [
      "{'scores': array([0.0881714, 1.       ], dtype=float32)}\n"
     ]
    }
   ],
   "source": [
    "metric = BBMetric.load_metric(\"semantic answer similarity\")\n",
    "\n",
    "print(metric.compute(predictions=sentences1, references=sentences2))"
   ]
  },
  {
   "cell_type": "code",
   "execution_count": 2,
   "metadata": {},
   "outputs": [
    {
     "name": "stderr",
     "output_type": "stream",
     "text": [
      "100%|██████████████████████████████████████████████████████████████████████████████████| 10/10 [00:03<00:00,  3.03it/s]"
     ]
    },
    {
     "name": "stdout",
     "output_type": "stream",
     "text": [
      "{'score': 118088.06238195905}\n"
     ]
    },
    {
     "name": "stderr",
     "output_type": "stream",
     "text": [
      "\n"
     ]
    }
   ],
   "source": [
    "metric = BBMetric.load_metric(\"perplexity\")\n",
    "\n",
    "print(metric.compute(model=model, tokenizer=tokenizer, sentences=sentences1, stride=2)) # Stride is optional, defaults to 64"
   ]
  },
  {
   "cell_type": "code",
   "execution_count": 3,
   "metadata": {},
   "outputs": [
    {
     "name": "stdout",
     "output_type": "stream",
     "text": [
      ">> User:Hello!\n",
      "DialoGPT: Hi!\n",
      ">> User:I hate you.\n",
      "DialoGPT: I hate you\n",
      "How do you rate this conversation (0 to 5)? 2\n"
     ]
    },
    {
     "data": {
      "text/plain": [
       "{'score': 0.4}"
      ]
     },
     "execution_count": 3,
     "metadata": {},
     "output_type": "execute_result"
    }
   ],
   "source": [
    "metric = BBMetric.load_metric(\"human - coherence\")\n",
    "\n",
    "metric.train(model=model, tokenizer=tokenizer,\n",
    "             filepath=os.path.join(os.getcwd(), \"Datasets\", \"Characters\", \"Default\", \"humancoherence.csv\"),\n",
    "             length=2)\n",
    "metric.compute(filepath=os.path.join(os.getcwd(), \"Datasets\", \"Characters\", \"Default\", \"humancoherence.csv\"))"
   ]
  },
  {
   "cell_type": "code",
   "execution_count": 2,
   "metadata": {},
   "outputs": [
    {
     "name": "stdout",
     "output_type": "stream",
     "text": [
      "Question: Who are you?\n",
      "DialoGPT: I'm here\n",
      "Question: What is your name?\n",
      "DialoGPT: I'm in.\n",
      "Question: What is your job?\n",
      "DialoGPT: I'm a software engineer.\n",
      "Question: Where do you live?\n",
      "DialoGPT: I'm in the US and I've never heard of this.\n",
      "How do you rate these answers (0 to 5)? 4\n"
     ]
    },
    {
     "data": {
      "text/plain": [
       "{'score': 0.8}"
      ]
     },
     "execution_count": 2,
     "metadata": {},
     "output_type": "execute_result"
    }
   ],
   "source": [
    "metric = BBMetric.load_metric(\"human - consistency\")\n",
    "\n",
    "metric.train(model=model, tokenizer=tokenizer,\n",
    "             filepath=os.path.join(os.getcwd(), \"Datasets\", \"Characters\", \"Default\", \"humanconsistency.csv\"))\n",
    "metric.compute(filepath=os.path.join(os.getcwd(), \"Datasets\", \"Characters\", \"Default\", \"humanconsistency.csv\"))"
   ]
  },
  {
   "cell_type": "code",
   "execution_count": 4,
   "metadata": {
    "scrolled": false
   },
   "outputs": [
    {
     "name": "stdout",
     "output_type": "stream",
     "text": [
      "Question: What are you wearing?\n",
      "DialoGPT: I'm wearing a shirt.\n",
      "Question: Legendary\n",
      "DialoGPT: What is this? A crossover episode?\n",
      "How do you rate these answers (0 to 5)? 1.5\n",
      "Invalid score! Must be a single integer between 0 and 5!\n",
      "How do you rate these answers (0 to 5)? 2\n"
     ]
    },
    {
     "data": {
      "text/plain": [
       "{'score': 0.4}"
      ]
     },
     "execution_count": 4,
     "metadata": {},
     "output_type": "execute_result"
    }
   ],
   "source": [
    "metric = BBMetric.load_metric(\"human - style\")\n",
    "\n",
    "metric.train(model=model, tokenizer=tokenizer,\n",
    "             filepath=os.path.join(os.getcwd(), \"Datasets\", \"Characters\", \"Default\", \"humanstyle.csv\"),\n",
    "             questions=[\"What are you wearing?\", \"Legendary\"])\n",
    "metric.compute(filepath=os.path.join(os.getcwd(), \"Datasets\", \"Characters\", \"Default\", \"humanstyle.csv\"))"
   ]
  },
  {
   "cell_type": "code",
   "execution_count": 8,
   "metadata": {},
   "outputs": [
    {
     "data": {
      "text/plain": [
       "{'score': 0.07352941176470588}"
      ]
     },
     "execution_count": 8,
     "metadata": {},
     "output_type": "execute_result"
    }
   ],
   "source": [
    "metric = BBMetric.load_metric(\"distinct\")\n",
    "metric.compute(sentences=sentences1, ngram_size=5)"
   ]
  }
 ],
 "metadata": {
  "kernelspec": {
   "display_name": "Python 3",
   "language": "python",
   "name": "python3"
  },
  "language_info": {
   "codemirror_mode": {
    "name": "ipython",
    "version": 3
   },
   "file_extension": ".py",
   "mimetype": "text/x-python",
   "name": "python",
   "nbconvert_exporter": "python",
   "pygments_lexer": "ipython3",
   "version": "3.8.5"
  }
 },
 "nbformat": 4,
 "nbformat_minor": 4
}
