{
 "cells": [
  {
   "cell_type": "code",
   "execution_count": 1,
   "metadata": {},
   "outputs": [],
   "source": [
    "from BBMetrics import BBMetric\n",
    "\n",
    "sentences1 = [\"I love this!\", \"Hi\"]\n",
    "sentences2 = [\"I hate you.\", \"Hi\"]"
   ]
  },
  {
   "cell_type": "code",
   "execution_count": 7,
   "metadata": {},
   "outputs": [
    {
     "name": "stdout",
     "output_type": "stream",
     "text": [
      "{'score': 0.0}\n"
     ]
    }
   ],
   "source": [
    "metric = BBMetric.load_metric(\"bleu\")\n",
    "\n",
    "print(metric.compute(predictions=sentences1, references=sentences2))"
   ]
  },
  {
   "cell_type": "code",
   "execution_count": 8,
   "metadata": {},
   "outputs": [
    {
     "name": "stdout",
     "output_type": "stream",
     "text": [
      "{'score': 0.6666666666666666}\n"
     ]
    }
   ],
   "source": [
    "metric = BBMetric.load_metric(\"rouge l\")\n",
    "\n",
    "print(metric.compute(predictions=sentences1, references=sentences2))"
   ]
  },
  {
   "cell_type": "code",
   "execution_count": 4,
   "metadata": {},
   "outputs": [
    {
     "name": "stdout",
     "output_type": "stream",
     "text": [
      "{'scores': array([0.03812046, 0.9504694 ], dtype=float32)}\n"
     ]
    }
   ],
   "source": [
    "metric = BBMetric.load_metric(\"semantic similarity\")\n",
    "\n",
    "print(metric.compute(sentences_a=sentences1, sentences_b=sentences2))"
   ]
  },
  {
   "cell_type": "code",
   "execution_count": 2,
   "metadata": {},
   "outputs": [
    {
     "name": "stdout",
     "output_type": "stream",
     "text": [
      "{'scores': [0.6401270031929016, 0.36308011412620544], 'labels': ['joy', 'anger']}\n"
     ]
    }
   ],
   "source": [
    "metric = BBMetric.load_metric(\"emotion\")\n",
    "\n",
    "print(metric.compute(sentences=sentences1))"
   ]
  },
  {
   "cell_type": "code",
   "execution_count": 3,
   "metadata": {},
   "outputs": [
    {
     "name": "stdout",
     "output_type": "stream",
     "text": [
      "{'scores': array([0.0881714, 1.       ], dtype=float32)}\n"
     ]
    }
   ],
   "source": [
    "metric = BBMetric.load_metric(\"semantic answer similarity\")\n",
    "\n",
    "print(metric.compute(predictions=sentences1, references=sentences2))"
   ]
  },
  {
   "cell_type": "code",
   "execution_count": null,
   "metadata": {},
   "outputs": [],
   "source": []
  }
 ],
 "metadata": {
  "kernelspec": {
   "display_name": "Python 3",
   "language": "python",
   "name": "python3"
  },
  "language_info": {
   "codemirror_mode": {
    "name": "ipython",
    "version": 3
   },
   "file_extension": ".py",
   "mimetype": "text/x-python",
   "name": "python",
   "nbconvert_exporter": "python",
   "pygments_lexer": "ipython3",
   "version": "3.8.5"
  }
 },
 "nbformat": 4,
 "nbformat_minor": 4
}
