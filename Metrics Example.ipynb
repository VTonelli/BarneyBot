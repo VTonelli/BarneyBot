{
 "cells": [
  {
   "cell_type": "code",
   "execution_count": 2,
   "metadata": {
    "scrolled": true
   },
   "outputs": [
    {
     "data": {
      "application/vnd.jupyter.widget-view+json": {
       "model_id": "28ac3341ebb048be94e562e43f1bb314",
       "version_major": 2,
       "version_minor": 0
      },
      "text/plain": [
       "Downloading:   0%|          | 0.00/641 [00:00<?, ?B/s]"
      ]
     },
     "metadata": {},
     "output_type": "display_data"
    },
    {
     "data": {
      "application/vnd.jupyter.widget-view+json": {
       "model_id": "8f87ce922b434ae2b33d764ae0e61fb2",
       "version_major": 2,
       "version_minor": 0
      },
      "text/plain": [
       "Downloading:   0%|          | 0.00/475M [00:00<?, ?B/s]"
      ]
     },
     "metadata": {},
     "output_type": "display_data"
    },
    {
     "name": "stderr",
     "output_type": "stream",
     "text": [
      "All model checkpoint layers were used when initializing TFGPT2LMHeadModel.\n",
      "\n",
      "All the layers of TFGPT2LMHeadModel were initialized from the model checkpoint at microsoft/DialoGPT-small.\n",
      "If your task is similar to the task the model of the checkpoint was trained on, you can already use TFGPT2LMHeadModel for predictions without further training.\n"
     ]
    },
    {
     "data": {
      "application/vnd.jupyter.widget-view+json": {
       "model_id": "900854ae12f8486980553bcbaae10d41",
       "version_major": 2,
       "version_minor": 0
      },
      "text/plain": [
       "Downloading:   0%|          | 0.00/26.0 [00:00<?, ?B/s]"
      ]
     },
     "metadata": {},
     "output_type": "display_data"
    },
    {
     "data": {
      "application/vnd.jupyter.widget-view+json": {
       "model_id": "7f0deb2647ec44d485b19754708d4c93",
       "version_major": 2,
       "version_minor": 0
      },
      "text/plain": [
       "Downloading:   0%|          | 0.00/0.99M [00:00<?, ?B/s]"
      ]
     },
     "metadata": {},
     "output_type": "display_data"
    },
    {
     "data": {
      "application/vnd.jupyter.widget-view+json": {
       "model_id": "e09a41b985fa43fc9e87a18641118195",
       "version_major": 2,
       "version_minor": 0
      },
      "text/plain": [
       "Downloading:   0%|          | 0.00/446k [00:00<?, ?B/s]"
      ]
     },
     "metadata": {},
     "output_type": "display_data"
    }
   ],
   "source": [
    "from lib.BBMetrics import BBMetric\n",
    "from transformers import TFAutoModelForCausalLM, AutoTokenizer\n",
    "import os\n",
    "\n",
    "sentences1 = [\"I love this! I think life is good without issues. The red fox jumps.\", \"Hi\"]\n",
    "sentences2 = [\"I hate you.\", \"Hi\"]\n",
    "\n",
    "model = TFAutoModelForCausalLM.from_pretrained('microsoft/DialoGPT-small', cache_dir=os.path.join(os.getcwd(), \"cache\"))\n",
    "tokenizer = AutoTokenizer.from_pretrained('microsoft/DialoGPT-small', cache_dir=os.path.join(os.getcwd(), \"cache\"))\n",
    "tokenizer.pad_token = '#'"
   ]
  },
  {
   "cell_type": "code",
   "execution_count": 3,
   "metadata": {},
   "outputs": [
    {
     "data": {
      "text/plain": [
       "['bleu',\n",
       " 'semantic similarity',\n",
       " 'rouge l',\n",
       " 'emotion',\n",
       " 'semantic answer similarity',\n",
       " 'distinct',\n",
       " 'semantic classifier',\n",
       " 'perplexity',\n",
       " 'human - coherence',\n",
       " 'human - consistency',\n",
       " 'human - style']"
      ]
     },
     "execution_count": 3,
     "metadata": {},
     "output_type": "execute_result"
    }
   ],
   "source": [
    "BBMetric.metrics_list"
   ]
  },
  {
   "cell_type": "code",
   "execution_count": 7,
   "metadata": {},
   "outputs": [
    {
     "name": "stdout",
     "output_type": "stream",
     "text": [
      "{'score': 0.0}\n"
     ]
    }
   ],
   "source": [
    "metric = BBMetric.load_metric(\"bleu\")\n",
    "\n",
    "print(metric.compute(predictions=sentences1, references=sentences2))"
   ]
  },
  {
   "cell_type": "code",
   "execution_count": 8,
   "metadata": {},
   "outputs": [
    {
     "name": "stdout",
     "output_type": "stream",
     "text": [
      "{'score': 0.6666666666666666}\n"
     ]
    }
   ],
   "source": [
    "metric = BBMetric.load_metric(\"rouge l\")\n",
    "\n",
    "print(metric.compute(predictions=sentences1, references=sentences2))"
   ]
  },
  {
   "cell_type": "code",
   "execution_count": 4,
   "metadata": {},
   "outputs": [
    {
     "name": "stdout",
     "output_type": "stream",
     "text": [
      "{'scores': array([0.03812046, 0.9504694 ], dtype=float32)}\n"
     ]
    }
   ],
   "source": [
    "metric = BBMetric.load_metric(\"semantic similarity\")\n",
    "\n",
    "print(metric.compute(sentences_a=sentences1, sentences_b=sentences2))"
   ]
  },
  {
   "cell_type": "code",
   "execution_count": 2,
   "metadata": {},
   "outputs": [
    {
     "name": "stdout",
     "output_type": "stream",
     "text": [
      "{'scores': [0.6401270031929016, 0.36308011412620544], 'labels': ['joy', 'anger']}\n"
     ]
    }
   ],
   "source": [
    "metric = BBMetric.load_metric(\"emotion\")\n",
    "\n",
    "print(metric.compute(sentences=sentences1))"
   ]
  },
  {
   "cell_type": "code",
   "execution_count": 3,
   "metadata": {},
   "outputs": [
    {
     "name": "stdout",
     "output_type": "stream",
     "text": [
      "{'scores': array([0.0881714, 1.       ], dtype=float32)}\n"
     ]
    }
   ],
   "source": [
    "metric = BBMetric.load_metric(\"semantic answer similarity\")\n",
    "\n",
    "print(metric.compute(predictions=sentences1, references=sentences2))"
   ]
  },
  {
   "cell_type": "code",
   "execution_count": 2,
   "metadata": {},
   "outputs": [
    {
     "name": "stderr",
     "output_type": "stream",
     "text": [
      "100%|██████████████████████████████████████████████████████████████████████████████████| 10/10 [00:03<00:00,  3.03it/s]"
     ]
    },
    {
     "name": "stdout",
     "output_type": "stream",
     "text": [
      "{'score': 118088.06238195905}\n"
     ]
    },
    {
     "name": "stderr",
     "output_type": "stream",
     "text": [
      "\n"
     ]
    }
   ],
   "source": [
    "metric = BBMetric.load_metric(\"perplexity\")\n",
    "\n",
    "print(metric.compute(model=model, tokenizer=tokenizer, sentences=sentences1, stride=2)) # Stride is optional, defaults to 64"
   ]
  },
  {
   "cell_type": "code",
   "execution_count": 3,
   "metadata": {},
   "outputs": [
    {
     "name": "stdout",
     "output_type": "stream",
     "text": [
      ">> User:Hello!\n",
      "DialoGPT: Hi!\n",
      ">> User:I hate you.\n",
      "DialoGPT: I hate you\n",
      "How do you rate this conversation (0 to 5)? 2\n"
     ]
    },
    {
     "data": {
      "text/plain": [
       "{'score': 0.4}"
      ]
     },
     "execution_count": 3,
     "metadata": {},
     "output_type": "execute_result"
    }
   ],
   "source": [
    "metric = BBMetric.load_metric(\"human - coherence\")\n",
    "\n",
    "metric.train(model=model, tokenizer=tokenizer,\n",
    "             filepath=os.path.join(os.getcwd(), \"Datasets\", \"Characters\", \"Default\", \"humancoherence.csv\"),\n",
    "             length=2)\n",
    "metric.compute(filepath=os.path.join(os.getcwd(), \"Datasets\", \"Characters\", \"Default\", \"humancoherence.csv\"))"
   ]
  },
  {
   "cell_type": "code",
   "execution_count": 2,
   "metadata": {},
   "outputs": [
    {
     "name": "stdout",
     "output_type": "stream",
     "text": [
      "Question: Who are you?\n",
      "DialoGPT: I'm here\n",
      "Question: What is your name?\n",
      "DialoGPT: I'm in.\n",
      "Question: What is your job?\n",
      "DialoGPT: I'm a software engineer.\n",
      "Question: Where do you live?\n",
      "DialoGPT: I'm in the US and I've never heard of this.\n",
      "How do you rate these answers (0 to 5)? 4\n"
     ]
    },
    {
     "data": {
      "text/plain": [
       "{'score': 0.8}"
      ]
     },
     "execution_count": 2,
     "metadata": {},
     "output_type": "execute_result"
    }
   ],
   "source": [
    "metric = BBMetric.load_metric(\"human - consistency\")\n",
    "\n",
    "metric.train(model=model, tokenizer=tokenizer,\n",
    "             filepath=os.path.join(os.getcwd(), \"Datasets\", \"Characters\", \"Default\", \"humanconsistency.csv\"))\n",
    "metric.compute(filepath=os.path.join(os.getcwd(), \"Datasets\", \"Characters\", \"Default\", \"humanconsistency.csv\"))"
   ]
  },
  {
   "cell_type": "code",
   "execution_count": 4,
   "metadata": {
    "scrolled": false
   },
   "outputs": [
    {
     "name": "stdout",
     "output_type": "stream",
     "text": [
      "Question: What are you wearing?\n",
      "DialoGPT: I'm wearing a shirt.\n",
      "Question: Legendary\n",
      "DialoGPT: What is this? A crossover episode?\n",
      "How do you rate these answers (0 to 5)? 1.5\n",
      "Invalid score! Must be a single integer between 0 and 5!\n",
      "How do you rate these answers (0 to 5)? 2\n"
     ]
    },
    {
     "data": {
      "text/plain": [
       "{'score': 0.4}"
      ]
     },
     "execution_count": 4,
     "metadata": {},
     "output_type": "execute_result"
    }
   ],
   "source": [
    "metric = BBMetric.load_metric(\"human - style\")\n",
    "\n",
    "metric.train(model=model, tokenizer=tokenizer,\n",
    "             filepath=os.path.join(os.getcwd(), \"Datasets\", \"Characters\", \"Default\", \"humanstyle.csv\"),\n",
    "             questions=[\"What are you wearing?\", \"Legendary\"])\n",
    "metric.compute(filepath=os.path.join(os.getcwd(), \"Datasets\", \"Characters\", \"Default\", \"humanstyle.csv\"))"
   ]
  },
  {
   "cell_type": "code",
   "execution_count": 8,
   "metadata": {},
   "outputs": [
    {
     "data": {
      "text/plain": [
       "{'score': 0.07352941176470588}"
      ]
     },
     "execution_count": 8,
     "metadata": {},
     "output_type": "execute_result"
    }
   ],
   "source": [
    "metric = BBMetric.load_metric(\"distinct\")\n",
    "metric.compute(sentences=sentences1, ngram_size=5)"
   ]
  }
 ],
 "metadata": {
  "kernelspec": {
   "display_name": "Python 3",
   "language": "python",
   "name": "python3"
  },
  "language_info": {
   "codemirror_mode": {
    "name": "ipython",
    "version": 3
   },
   "file_extension": ".py",
   "mimetype": "text/x-python",
   "name": "python",
   "nbconvert_exporter": "python",
   "pygments_lexer": "ipython3",
   "version": "3.8.5"
  }
 },
 "nbformat": 4,
 "nbformat_minor": 4
}
