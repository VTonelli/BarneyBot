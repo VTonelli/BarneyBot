{
 "cells": [
  {
   "cell_type": "code",
   "execution_count": 1,
   "id": "bb171469",
   "metadata": {},
   "outputs": [],
   "source": [
    "import os\n",
    "import pandas as pd\n",
    "from tqdm import tqdm\n",
    "import re"
   ]
  },
  {
   "cell_type": "code",
   "execution_count": 2,
   "id": "d2363a98",
   "metadata": {},
   "outputs": [],
   "source": [
    "# Mount google drive (for Colab only)\n",
    "try:\n",
    "    import google.colab\n",
    "    IN_COLAB = True\n",
    "except:\n",
    "    IN_COLAB = False\n",
    "if IN_COLAB:\n",
    "    from google.colab import drive\n",
    "    drive.mount('/content/drive',force_remount=True)\n",
    "    base_folder = '/content/drive/My Drive/unibo/NLP_project/BarneyBot'\n",
    "else:\n",
    "    base_folder = os.path.abspath(os.path.join(os.getcwd(), os.pardir))\n",
    "    \n",
    "in_folder = os.path.join(base_folder, \"in\")\n",
    "if not os.path.exists(in_folder):\n",
    "    os.makedirs(in_folder)"
   ]
  },
  {
   "cell_type": "markdown",
   "id": "aff47a30",
   "metadata": {},
   "source": [
    "# Preprocessing"
   ]
  },
  {
   "cell_type": "code",
   "execution_count": 3,
   "id": "83cb42c5",
   "metadata": {},
   "outputs": [],
   "source": [
    "# Open the dataset documents and store their data into a DataFrame\n",
    "def load_himym_dataset():\n",
    "    episodes_folder = os.path.join(base_folder, \"Datasets\", \"Sources\", \"HIMYM\", \"Episodes\")\n",
    "    dataframe_rows = []\n",
    "    # Get number of documents and their names\n",
    "    documents_n = len(os.listdir(episodes_folder))\n",
    "    documents_names = os.listdir(episodes_folder)\n",
    "\n",
    "    # Loop over documents\n",
    "    for i in tqdm(range(documents_n)):\n",
    "        filename = documents_names[i]\n",
    "        episode_index = filename[:-4]\n",
    "        # Open document\n",
    "        with open(os.path.join(episodes_folder, filename)) as file:\n",
    "            # Loop over lines (= words)\n",
    "            for line in file.readlines():\n",
    "                    dataframe_row = {\n",
    "                        \"episode\": episode_index,\n",
    "                        \"line\": line,\n",
    "                    }\n",
    "                    dataframe_rows.append(dataframe_row)\n",
    "    # Build the dataframe from the words\n",
    "    df = pd.DataFrame(dataframe_rows)\n",
    "    return df"
   ]
  },
  {
   "cell_type": "code",
   "execution_count": 4,
   "id": "3fe1fa83",
   "metadata": {},
   "outputs": [
    {
     "name": "stderr",
     "output_type": "stream",
     "text": [
      "100%|██████████████████████████████████████████████████████████████████████████████| 139/139 [00:00<00:00, 1714.49it/s]\n"
     ]
    },
    {
     "data": {
      "text/plain": [
       "episode    39710\n",
       "line       39710\n",
       "dtype: int64"
      ]
     },
     "execution_count": 4,
     "metadata": {},
     "output_type": "execute_result"
    }
   ],
   "source": [
    "# Execute creation of dataset\n",
    "himym_df = load_himym_dataset()\n",
    "himym_df.head()\n",
    "himym_df.count()"
   ]
  },
  {
   "cell_type": "code",
   "execution_count": 5,
   "id": "0c20011b",
   "metadata": {},
   "outputs": [],
   "source": [
    "def process_himym_dataset(df):\n",
    "    df = df[~df['line'].str.startswith(\"[\")]\n",
    "    df = df[~df['line'].str.startswith(\"(\")]\n",
    "    df['line'] = df['line'].str.strip()\n",
    "    df['line'] = df['line'].str.replace(r\"\\(.*\\)\",\"\")\n",
    "    df['line'] = df['line'].str.replace(r\"[\\/(){}\\[\\]\\|@_#]|\\\\t|\\\\n\",\" \")\n",
    "    df['line'] = df['line'].str.replace(r\"[^.\\',;:?!0-9a-zA-Z \\-]\",\"\")\n",
    "    df = df[~df['line'].isnull()]\n",
    "    df[['character', 'line']] = df['line'].str.split(\":\", 1, expand=True)\n",
    "    df = df.dropna()\n",
    "    df['line'] = df['line'].str.strip()\n",
    "    df['line'] = df['line'][df['line'].str.len() >= 2]\n",
    "    df = df[~df['line'].isnull()]\n",
    "    df = df.dropna()\n",
    "    df = df.reset_index(drop=True)\n",
    "    return df"
   ]
  },
  {
   "cell_type": "code",
   "execution_count": 6,
   "id": "fbd876e3",
   "metadata": {},
   "outputs": [
    {
     "name": "stderr",
     "output_type": "stream",
     "text": [
      "<ipython-input-5-a2cc5ebe8637>:5: FutureWarning: The default value of regex will change from True to False in a future version.\n",
      "  df['line'] = df['line'].str.replace(r\"\\(.*\\)\",\"\")\n",
      "<ipython-input-5-a2cc5ebe8637>:6: FutureWarning: The default value of regex will change from True to False in a future version.\n",
      "  df['line'] = df['line'].str.replace(r\"[\\/(){}\\[\\]\\|@_#]|\\\\t|\\\\n\",\" \")\n",
      "<ipython-input-5-a2cc5ebe8637>:7: FutureWarning: The default value of regex will change from True to False in a future version.\n",
      "  df['line'] = df['line'].str.replace(r\"[^.\\',;:?!0-9a-zA-Z \\-]\",\"\")\n"
     ]
    },
    {
     "name": "stdout",
     "output_type": "stream",
     "text": [
      "30348\n"
     ]
    }
   ],
   "source": [
    "himym_df = process_himym_dataset(himym_df)\n",
    "print(len(himym_df))"
   ]
  },
  {
   "cell_type": "code",
   "execution_count": 7,
   "id": "0cf0391f",
   "metadata": {},
   "outputs": [
    {
     "data": {
      "text/html": [
       "<div>\n",
       "<style scoped>\n",
       "    .dataframe tbody tr th:only-of-type {\n",
       "        vertical-align: middle;\n",
       "    }\n",
       "\n",
       "    .dataframe tbody tr th {\n",
       "        vertical-align: top;\n",
       "    }\n",
       "\n",
       "    .dataframe thead th {\n",
       "        text-align: right;\n",
       "    }\n",
       "</style>\n",
       "<table border=\"1\" class=\"dataframe\">\n",
       "  <thead>\n",
       "    <tr style=\"text-align: right;\">\n",
       "      <th></th>\n",
       "      <th>episode</th>\n",
       "      <th>line</th>\n",
       "      <th>character</th>\n",
       "    </tr>\n",
       "  </thead>\n",
       "  <tbody>\n",
       "    <tr>\n",
       "      <th>0</th>\n",
       "      <td>01x01</td>\n",
       "      <td>Kids, I'm going to tell you an incredible stor...</td>\n",
       "      <td>Narrator</td>\n",
       "    </tr>\n",
       "    <tr>\n",
       "      <th>1</th>\n",
       "      <td>01x01</td>\n",
       "      <td>Are we being punished for something?</td>\n",
       "      <td>Son</td>\n",
       "    </tr>\n",
       "    <tr>\n",
       "      <th>2</th>\n",
       "      <td>01x01</td>\n",
       "      <td>No</td>\n",
       "      <td>Narrator</td>\n",
       "    </tr>\n",
       "    <tr>\n",
       "      <th>3</th>\n",
       "      <td>01x01</td>\n",
       "      <td>Yeah, is this going to take a while?</td>\n",
       "      <td>Daughter</td>\n",
       "    </tr>\n",
       "    <tr>\n",
       "      <th>4</th>\n",
       "      <td>01x01</td>\n",
       "      <td>Yes.  Twenty-five years ago, before I was dad,...</td>\n",
       "      <td>Narrator</td>\n",
       "    </tr>\n",
       "  </tbody>\n",
       "</table>\n",
       "</div>"
      ],
      "text/plain": [
       "  episode                                               line character\n",
       "0   01x01  Kids, I'm going to tell you an incredible stor...  Narrator\n",
       "1   01x01               Are we being punished for something?       Son\n",
       "2   01x01                                                 No  Narrator\n",
       "3   01x01               Yeah, is this going to take a while?  Daughter\n",
       "4   01x01  Yes.  Twenty-five years ago, before I was dad,...  Narrator"
      ]
     },
     "execution_count": 7,
     "metadata": {},
     "output_type": "execute_result"
    }
   ],
   "source": [
    "himym_df.head()"
   ]
  },
  {
   "cell_type": "code",
   "execution_count": 8,
   "id": "07831a2b",
   "metadata": {},
   "outputs": [
    {
     "name": "stdout",
     "output_type": "stream",
     "text": [
      "{'Lily, Marshall, Barney', 'Ted and Barney', 'Ted, from seeing Barney', 'Barney', 'Barney, entering', 'Ted, Barney and Robin', 'Marshall, on the phone with Barney', 'Barney, with a funny accent', 'Barney, turning', 'Marshall, to the girl Barney is talking to', 'Barney, Marshall', 'Barney, running down the street', 'Barney by nightdress', 'Douglas, Barney', 'Barney, with a mean laugh', 'Barney, Ted and Robin', \"Barney's mom\", 'Little Barney', 'Barney and Robin', 'Barney, sobbing', 'Barney conscience', 'Marshall, Lily, Barney', 'Barney, seeing himself in the window of the restaurant', 'Lily, Marshall and Barney', \"Barney's Secretary\", 'Barney and James', 'Barney, singing', 'Barney ', \"At Casa a pezzi. Barney is playing the piano.Ted's father\", 'Barney lookalike', '.Barney', 'Barney, thinking', 'Ted  Barney', 'Barney, singing and dancing in the street', 'Barney  Ted', 'Marshall and Barney', 'Marshall, Lily and Barney', 'Barney, laughing', 'Both Marshall and Barney', 'Marshall, Barney', 'Barney, coughing', 'Barney, pouring some water in a glass', 'Barney, joining them', 'Barney, whispering', 'Marshall, Ted, Barney', 'James and Barney', 'Lily, holding Barney', 'Barney and Ted', 'Robin and Barney', 'Both Ted and Barney, at the same time', 'Barney, singsongy', 'Barney, crying', 'Barney, weakly', 'Marshall to Barney', 'Stacy, Barney', 'At the apartment, Barney', 'Barney, his voice breaking', \"Anna's apartment. Anna's reading the letter Barney left.Barney's voice\"} 5093\n"
     ]
    }
   ],
   "source": [
    "barney_names = [c for c in himym_df['character'] if 'Barney' in c]\n",
    "print(set(barney_names), len(barney_names))"
   ]
  },
  {
   "cell_type": "code",
   "execution_count": 9,
   "id": "4d92e9d4",
   "metadata": {},
   "outputs": [],
   "source": [
    "barney_names = set(barney_names) - set([\"Barney's Secretary\", 'Marshall to Barney', \"Barney's mom\", 'Ted, from seeing Barney', 'Lily, holding Barney', 'Marshall, on the phone with Barney', \"At Casa a pezzi. Barney is playing the piano.Ted's father\", 'Marshall, to the girl Barney is talking to'])"
   ]
  },
  {
   "cell_type": "code",
   "execution_count": 10,
   "id": "6d6809cb",
   "metadata": {},
   "outputs": [],
   "source": [
    "himym_df['character'] = himym_df['character'].apply(lambda x: 'Barney' if x in barney_names else x)"
   ]
  },
  {
   "cell_type": "code",
   "execution_count": 11,
   "id": "d670df9a",
   "metadata": {
    "scrolled": true
   },
   "outputs": [
    {
     "data": {
      "text/plain": [
       "array(['Narrator', 'Son', 'Daughter', 'Marshall', 'Ted', 'Barney',\n",
       "       'Yasmine', 'Lily', 'Robin', 'Cabdriver', \"Robin's Dumped Friend\",\n",
       "       'Producer', 'Waitor', 'Ranjit', 'Son and Daughter', 'Rangit',\n",
       "       'Marshal', 'Carl', 'Cameraman', 'Leroy', 'Lily and Marshall',\n",
       "       'Fantasy Girl', 'Tatiana', 'Lily and Ted', 'Crowd', 'Carlos',\n",
       "       'Marshall, Lily and Ted', 'Mashall, Lily and Ted', 'Guy 1',\n",
       "       'Laura', 'Fight Attendant', 'Guy 2', 'Guy 3', 'Officer McNeil',\n",
       "       'bmb Squad Guy', 'Derrick', 'Dana', 'Sascha', 'Cabdriver 2',\n",
       "       'Cute Girl', 'Stefanie', 'Marshall and Ted', 'Mr. Adams',\n",
       "       'Natalie', 'One Guest', 'All', 'Henry', 'Waiter', 'Claire',\n",
       "       'Bradley', 'Chris', 'Austin', 'Kelly', 'Bartender', 'Phil',\n",
       "       'Man on Street', 'Doorman 2', 'Woman', 'Coat Check Girl',\n",
       "       'Future Ted', 'Lily ', 'Mike', 'Marshall ', 'King Costume Guy',\n",
       "       'Shagarats', 'Lily, Robin', 'Hula Girl', 'Angel Guy',\n",
       "       'Future Ted VO', 'Hula girl', 'Ellen', 'Sarah', 'Ted ', 'Sarah ',\n",
       "       'Sudeep', 'Lily, Marshall', 'Mr. Madsen', 'Waitress', 'Katie',\n",
       "       'Delivery guy', 'Girl  2', 'Kevin', 'Jackie', 'Doctor',\n",
       "       'Marshall, Ted', 'Everyone', 'Robin, Ted', 'Mr. Ericksen',\n",
       "       'Ericksens', 'Marcus', 'Mrs. Ericksen', 'Kendall',\n",
       "       'Pregnant Mrs. Ericksen', 'Marvin', 'Amanda', 'Clerk', 'Judy',\n",
       "       'Pete', 'Walter', 'Dancer', 'Daughter, Son', 'Marshall, Lily',\n",
       "       'Guy', 'Trudy', \"Trudy's friend\", 'Ted from 2030', 'Mary Beth',\n",
       "       'Natalya', 'Moby', 'Not-Moby', 'Ted and Robin', 'Derek', 'Natalia',\n",
       "       'Claudia', 'Ted, Marshall', 'Stuart', 'Tanya', 'Victoria',\n",
       "       'Nirvana', 'Shannon', 'Man', 'Robin and Lily',\n",
       "       'Victoria and Robin', 'Dr. Birnholz', 'Voice', 'Man  1', 'Man  2',\n",
       "       'Bilson', 'Blauman', \"Victoria's voice\", 'Little Girl',\n",
       "       'Little Boy', 'Director', 'Cab driver', 'Marshall  Lily',\n",
       "       'Korean Elvis', 'Mary', 'Sandy', 'Vampire Lou', 'Lily, waking up',\n",
       "       'Todd', 'Scooter', 'Security guard', 'Boy', 'Singer', 'Boy  1',\n",
       "       'Boy  2', 'Andrew', 'Giant Turtle', 'Security guard  1',\n",
       "       'Security guard  2', 'Security guards', 'Paramedic', 'Tracy',\n",
       "       'Bob', 'Weather man', 'Musician', 'Voice mail', 'Penelope',\n",
       "       'Veterinary', 'Waiters', \"Ted's daughter\", \"Ted's son\", 'Robin ',\n",
       "       'George Clinton', 'Stripper', 'Waiter Joey Adalian',\n",
       "       'DAY FIFTY-SEVEN, at the apartment.Ted from 2030',\n",
       "       \"At MacLaren's.Ted from 2030\", 'In San Francisco, in a bus.Man 1',\n",
       "       'Man 2', 'Girl', 'Amy', 'In a building.Ted from 2030',\n",
       "       'In a snack-bar.Ted from 2030', 'Twin 1', 'Twin 2', \"Ted's mother\",\n",
       "       'The previous day, at the apartment.Ted from 2030', \"Ted's father\",\n",
       "       'The waitress ',\n",
       "       \"At Casa a pezzi. Barney is playing the piano.Ted's father\",\n",
       "       \"Ted's father \", \"Ted's mother \", \"Outside.Ted's father\",\n",
       "       \"Back inside, later.Ted's mother\", 'A girl', 'Girl 1', 'Girls',\n",
       "       'Guy 2 ', 'Girl 2', 'Kara', 'Bouncer', 'Girl ', 'Anna',\n",
       "       'Head waiter', 'Brad', 'Mr Druthers ', 'Mr Druthers', 'Pr Lewis',\n",
       "       'Client', 'Chinese 1', 'Chinese 2', 'Woman 2', 'Judge', 'Captain',\n",
       "       'Both Marshall and Lily', 'Girl  1', 'Girl  3', 'Priest',\n",
       "       'Robin Sparkles', 'Robot', 'Marshall, lily, Robin', 'Tous',\n",
       "       'James', 'Mere', 'Tes ', 'Women', 'Charles', 'Rosa',\n",
       "       'Ted to Robin', 'His mother', 'Clint', 'Truck driver', 'A kid',\n",
       "       'Kid', 'Stacy', 'Charity', 'Both kids', 'Kyle', 'fact number one',\n",
       "       'Sylvia', 'Brian', 'Ted  ', 'His kids', 'The girl', 'Molly',\n",
       "       'Mr. Druthers', 'Co-worker', 'MP', 'Employees', 'Mr Druters',\n",
       "       'Men ', 'The waitress', 'Lou', 'Sid', 'Doug', 'Emmitt Smith',\n",
       "       'Barman', 'Man 1', 'Trish Sanchez', 'Rubin', 'Old lady',\n",
       "       'Policeman', 'Ex-girlfriend 1', 'Ex-girlfriend 2',\n",
       "       'Ex-girlfriend 3', 'Brother 1', 'Brother 2',\n",
       "       'Ted and Marshall singing', 'Mechanic', 'Robibn', 'Maechanic',\n",
       "       'Brother', 'So, I can have the moving truck here by 8',\n",
       "       'Hey, hypothetical question', 'The category', 'Tes', 'Bareney',\n",
       "       \"Barney's mom\", 'Bareny ', 'Rich', 'At the apartment, all',\n",
       "       'At the apartment, Lily', 'At the apartment, Ted',\n",
       "       'At the apartement, Lily', 'At the apartment, Robin', 'Millie',\n",
       "       'At the apartment, Marshall', 'Andrea', 'Bill', 'Cousin', 'Ben',\n",
       "       'Marshall and Lily', \"Lily's grandma\", 'Janna', 'Gael', 'The Girl',\n",
       "       'Tyler', \"Amy's friend\", 'Narrtor', 'Colleen', 'Lindsay', 'A guy ',\n",
       "       'Collee', 'Robin  2', 'Rachel', 'Rachel, Trudy', \"Robin's date\",\n",
       "       'Blonde Girl', 'Brunette Girl', 'Trudy, Rachel', 'Trucy',\n",
       "       \"Robins' date\", 'Little Robin', 'George', 'Brooke', 'Blah-blah',\n",
       "       'Marshall VO', 'Lily VO', 'Marshall, Lily VO', 'College Marshall',\n",
       "       'College Lily', 'College Guy', 'College Ted', 'Audrey',\n",
       "       'College students', 'Warrior Avatar', 'Female Avatar', 'Alexa',\n",
       "       'Wendy', 'Leonard', 'Jefferson', 'Jeff', 'Meg', 'NArrator',\n",
       "       'The estate agent', 'Boys', 'The girl ', 'Bank employee', 'Lilly',\n",
       "       'Robiin', 'Phone Voice', 'ted', 'Wendy, upset, with a black eye',\n",
       "       'The others', 'Together',\n",
       "       'Now, months later, the results of that exam were scheduled to post online at 10',\n",
       "       \"It's true what they say\", 'Ted  Robin',\n",
       "       'Marshall, on the phone with Barney', 'Marhall',\n",
       "       'Lily and Marshall ', 'wendy', 'A man', 'A women', 'The host',\n",
       "       'Curt', 'Michael', 'Productor', 'MarshallLily ',\n",
       "       \"In fairness, I did call Ted's butt at, like, 2\",\n",
       "       \"So on March 17, 2008, I went to a big St. Patrick's Day party. And it's a good thing I did, because, funny story\",\n",
       "       \"Okay, it's official\", 'First skipped message', 'Next message',\n",
       "       'Stella', 'Woman 1, to Ted', 'Woman 2, to Woman 1',\n",
       "       'Woman 1, to Woman 2', 'Woman 2, to Woman 3', 'Woman 3, to Stella',\n",
       "       'Stella, to Woman 3', 'Woman 3, to Woman 2', 'Abby',\n",
       "       'Abby, laughing', 'Stella, laughing', 'Cleaner',\n",
       "       'Woman, slapping him', 'Mystery woman', 'Marshal, Lily and Ted',\n",
       "       'Kate', 'Holly', 'Mark', 'Arthur', 'Ferguson', 'Simon',\n",
       "       'Robin, giggling', 'Michelle', 'Punchy', 'Robin, laughing',\n",
       "       'Benjamin', 'Frank', 'Randy', 'Pitt', 'Starry', 'Willie', 'All ',\n",
       "       'Lawrence', 'Dr Greer', 'Lily  Marshall', \"It's 10\",\n",
       "       'I know what he saw', 'Mark Johnson', 'Marshall to lily',\n",
       "       'Marshall to Barney', 'Marshall to himself', 'Marshall to Robin',\n",
       "       'April', 'Wendy ', 'Everybody', 'Man in the street ',\n",
       "       'Marshall voiceover', 'Regis Philbin ', 'Regis Philbin',\n",
       "       'Million Dollar', 'Man in the streets', 'Regis', 'Lucy', 'Stella ',\n",
       "       'Joel', 'Biran',\n",
       "       'She leaves home and takes Stella the bike that is on the porch. It is 10',\n",
       "       '10', 'Matisse', 'Cindy', 'Stewart', 'Female', 'Sister Stella',\n",
       "       'Nora', 'Tony', 'Server', 'Purifier', 'Host', 'Father of Robin',\n",
       "       'Father',\n",
       "       'Then a woman walks with a dog and a child on his stomach, followed by several puppies Marshall',\n",
       "       'Men', 'Mr. Li', 'Driver', 'Jillian', 'Woman ', 'Sven', 'Misty',\n",
       "       'Vicky', 'Ike', 'Mitch', 'Boy 1', 'Boy 2', 'A brother', 'Woman 1',\n",
       "       'Male 2', 'Doug ', 'Children', 'Heather', 'Male', 'Man 3', 'Man ',\n",
       "       'Magazine', 'Leader', 'Seller',\n",
       "       'Marshall turns his sign which says', 'Melissa',\n",
       "       'Marshall at the office', 'Presenter', 'Rochelle', 'Radio',\n",
       "       'Referee', 'Loretta', 'Betty', 'Grant', 'Ted and Betty', '1',\n",
       "       'Karen', 'Nicole', 'Friday, 3', 'Lily, old', 'Ted, old',\n",
       "       'Marshall, old', 'Karen, old', 'Robin, entering', 'Robin, old',\n",
       "       'Roy', 'Louisa', 'Arty', 'Snowshoeing', 'Pattern', 'McCracken',\n",
       "       'Ted  Then one day, in the suffering of the worst hangover of my life, I realized that one person in the world understood me',\n",
       "       'Roger Murtaugh', 'Kenny', 'Robin, out of the room', 'Toy-Man',\n",
       "       'Massage man, massaging the shoulders of Marshall', 'Douglas',\n",
       "       'PJ', 'Ted, by phone at PJ interposed', 'Grub-man', 'Toy-man',\n",
       "       'Chow-Man', 'Stan', 'Clown', 'Matthew', 'Woman 3', 'Pauline',\n",
       "       'Fran', 'Milt', 'Ted, crying', 'Ted, with a lookalike Stella',\n",
       "       'Lookalike Stella', 'Police', 'Woman, leaving her', 'Ms. Matsen',\n",
       "       'Stella, shouting', 'Tracey', '2009', 'Blond Girl', 'A boy',\n",
       "       'Another boy', 'Another girl', 'Blond girl', 'Student',\n",
       "       'Other professor', 'Professor', 'TED ', 'Jen', 'Delivery girl',\n",
       "       'Marsahll', 'Ted and Jen', 'All the other', 'The other',\n",
       "       'Marhsall', 'Ted imagines', 'Girl 3', 'Shin-Ya', 'fighting',\n",
       "       'All singing', 'Ted, joining them', 'Marshall, in bar with Lily',\n",
       "       'Marshall, entering with a hat with drink', 'Lily, fighting Ted',\n",
       "       'Marshall and Ted, singing', 'Lily, on the roof of the car',\n",
       "       'Ted and Marshall', 'Alan', 'Alan Thicke', 'Meg-the-crazy',\n",
       "       'Meg-the-insane', 'Ms. Stinsfire', 'Shelly',\n",
       "       'Ted, with chicken fingers in the mouth', 'All, making the chorus',\n",
       "       'Robin and Ted', 'Lily Young', 'Mickey', 'Rita', 'Grandfather',\n",
       "       'Neighbor', 'Whitney', 'Grocer', 'Mother',\n",
       "       'Marshall, in video on the computer',\n",
       "       'Mickey, sitting on the floor', 'Marshall, tapping on a glass',\n",
       "       'Voices', 'Older woman', 'Elderly Woman', 'Maggie', 'Lily, a man',\n",
       "       'Student 2', 'Luis', 'Jamie', 'Jim', 'Ted, always current',\n",
       "       'Robin, Jim', 'Ted, in front of Maggie', 'Adam',\n",
       "       'Waitress at the old Marshall', 'Old Marshall', 'Children of Ted',\n",
       "       'Don', 'Chief', 'Lily, with a deep voice',\n",
       "       'Don, who arrive without pants', 'Young Marshall',\n",
       "       'Marshall Young', 'Barmaid', 'Tim', 'Marshall, doing the same',\n",
       "       'Ted, Marshall, Lily', 'Jenkins', 'Scotty', 'All, the student bar',\n",
       "       'Ted, from seeing Barney', 'Overall', 'Nick', 'Mr Donovan',\n",
       "       'TV anchor', 'Red-sweater girl', 'All of them', 'All the them',\n",
       "       'Hot Chick', 'Tiffany', 'Lisa', 'Henrietta', 'Mother of Henrietta',\n",
       "       'Jack', 'Marshall, with the phone in the kitchen', 'Anita',\n",
       "       'Ted singing', 'Ted, still singing', 'Anita, Ted',\n",
       "       'The alarm goes off at 12', 'The clock shows 9',\n",
       "       'Marshall Robin. Your part is this', 'Raspberry', 'Mayor',\n",
       "       'Robin, out of his room', 'Delivery Man', 'Robin, who happens',\n",
       "       'Lily, what happens', 'Clint, singing', 'Man going', 'Virginia',\n",
       "       'Ted, leaving her room', 'Ted, an apron', 'Lily, thinking',\n",
       "       'Marshall, thinking', 'Robin, at the window',\n",
       "       'Robin, on the phone', 'Marissa', 'Lily, holding Barney',\n",
       "       'Marshall, laughing', 'Will Shortz', 'Will', 'Ted wrestler',\n",
       "       'Royce', 'Jed Mosley', 'Jed', 'Man and woman', 'Ted stood up',\n",
       "       'Child', 'Robin, on TV', 'Robin, thinking', 'Ted, thinking',\n",
       "       'Sosie', 'Sosia', 'Lookalike', \"Ted's wife\",\n",
       "       'The Girl who was reading', \"Marshall's dad\", 'The man',\n",
       "       'Lauretta', 'Sam Gibbs', 'Sam', 'Basketball coatch', 'TV Speaker',\n",
       "       'Chrissy', 'Marsall', 'Folk singer', 'Speaker', 'Medic', 'Becky',\n",
       "       'Maury Povich', 'Man, in a calculator display', 'Max',\n",
       "       'trnsvstite', \"Barney's Secretary\", 'Zoey', 'Rob',\n",
       "       'Marshall and his friends, singing', 'Announcer',\n",
       "       \"Marshall's daughter\", 'ANNOUNCER', 'Student  1', 'Student  2',\n",
       "       'GNB announcer', 'Randy, thinking', 'Randy, wailing',\n",
       "       'Arthur, entering the room', 'Russel', 'Ted, whispering',\n",
       "       'Museum guard', \"Ted's voice \", 'Guard', 'Jessica Glitter',\n",
       "       'Jessica, singing', 'Robin and Jessica', 'Jessica', 'Blitz',\n",
       "       'Bar Tender', 'Mysterious voice', 'Everyone, chanting', 'Steve',\n",
       "       'Babaka', 'Liy', 'Robin, slurring', 'Sailor  1', 'Sailor  2',\n",
       "       'Animator', 'Jordan', 'Jordin', 'Ted, yelling',\n",
       "       'Robin, stuttering', 'Stangel', 'Strangel', 'Man  3', 'Man  4',\n",
       "       'Robin, hushing', 'Reverend', 'Trey', \"Marshall's brother  1\",\n",
       "       \"Marshall's brother  2\", 'Nathan Hale', \"Ted's dad\", \"Lily's dad\",\n",
       "       \"Robin's dad\", \"Marvin's voice\", 'Honey',\n",
       "       'Robin, with a Minnesotan accent', 'Honey, whispering',\n",
       "       'Ted, laughing', 'Honey, giggling', 'Neighbour',\n",
       "       'ARNOLD SCHWARZENEGGER', 'Saint Desperatius', 'Saint Valentine',\n",
       "       'Marshall, whispers', 'Bev', 'Ted  Marshall', 'MARVIN',\n",
       "       'SCHWARZENEGGER ', 'Tv', 'Meeker', 'Nate', 'The cardiologist',\n",
       "       'Ted, on the phone with Robin', 'Jerry', 'Scott', 'Jerry ', 'Both',\n",
       "       'Cherryl', 'JJ', 'Prof. Rodriguez', 'Jerry, laughing', 'ROBIN',\n",
       "       'Ted, whispering to Robin', 'Jerry, looking horrified',\n",
       "       'Ted, loudly', 'Jerry, to a big tattoed biker',\n",
       "       'Jerry, to a dummy wearing a biker outfit', 'Ted, chuckling',\n",
       "       'Man, on the phone', 'Head of the environmental Organization',\n",
       "       'Assistant', 'Delivery Guy', 'Robin, in a high-pitched voice',\n",
       "       'Marshall, to the girl Barney is talking to',\n",
       "       'Marshall, talking to a mirror', 'Robin  Lily', 'Chairman',\n",
       "       'Audience', 'Ghost', 'Ghost, shouting dramatically',\n",
       "       'Ted, panting', 'Ted, on recorder', 'Foreman', 'Rod',\n",
       "       'Ted, while texting on his phone',\n",
       "       'Marshall, picking up his phone', 'announcer', \"Ted's voice\",\n",
       "       'voice', 'Jake', \"Ted, leaving the florist's shop\", 'Norah',\n",
       "       'Marshall, lifting the shirt of Lily', 'Kelly and Punchy', 'Clay',\n",
       "       \"Kelly's father\", \"Punchy's father\", 'Garrison',\n",
       "       'Lily, slapping him', 'Lily and Robin', \"Marshall's voice\"],\n",
       "      dtype=object)"
      ]
     },
     "execution_count": 11,
     "metadata": {},
     "output_type": "execute_result"
    }
   ],
   "source": [
    "himym_df['character'].unique()"
   ]
  },
  {
   "cell_type": "code",
   "execution_count": 12,
   "id": "f92d9e6d",
   "metadata": {},
   "outputs": [],
   "source": [
    "himym_path = os.path.join(base_folder, \"Datasets\", \"Characters\", \"Barney\")\n",
    "if not os.path.exists(himym_path):\n",
    "    os.makedirs(himym_path)\n",
    "himym_df.to_csv(os.path.join(himym_path, \"HIMYM_preprocessed.csv\"), index=False)"
   ]
  },
  {
   "cell_type": "code",
   "execution_count": 13,
   "id": "794cde1b",
   "metadata": {},
   "outputs": [],
   "source": [
    "# NOTE: May consider feeding one sentence and one Sheldon reply or multiple sentences encoded with one Sheldon reply\n",
    "def get_barney(himym_df, level=2):\n",
    "    dataframe_rows = []\n",
    "    idxs_barney = himym_df[himym_df['character'] == 'Barney'].index\n",
    "    dataframe_rows = []\n",
    "    for i in idxs_barney:\n",
    "        l = []\n",
    "        l.append(himym_df['line'][i])\n",
    "        for j in range(0,level):\n",
    "            line = max(i-j-1,0)\n",
    "            l.append(himym_df['line'][line])\n",
    "        dataframe_rows.append(l)\n",
    "    df = pd.DataFrame(dataframe_rows, columns=['response', 'context', 'context/0'])\n",
    "    return df\n",
    "\n",
    "barney_df = get_barney(himym_df)"
   ]
  },
  {
   "cell_type": "code",
   "execution_count": 14,
   "id": "a559d894",
   "metadata": {},
   "outputs": [
    {
     "data": {
      "text/html": [
       "<div>\n",
       "<style scoped>\n",
       "    .dataframe tbody tr th:only-of-type {\n",
       "        vertical-align: middle;\n",
       "    }\n",
       "\n",
       "    .dataframe tbody tr th {\n",
       "        vertical-align: top;\n",
       "    }\n",
       "\n",
       "    .dataframe thead th {\n",
       "        text-align: right;\n",
       "    }\n",
       "</style>\n",
       "<table border=\"1\" class=\"dataframe\">\n",
       "  <thead>\n",
       "    <tr style=\"text-align: right;\">\n",
       "      <th></th>\n",
       "      <th>response</th>\n",
       "      <th>context</th>\n",
       "      <th>context/0</th>\n",
       "    </tr>\n",
       "  </thead>\n",
       "  <tbody>\n",
       "    <tr>\n",
       "      <th>0</th>\n",
       "      <td>hey, so you know how I've always had a thing f...</td>\n",
       "      <td>What was I doing? Your Uncle Marshall was taki...</td>\n",
       "      <td>Yeah, what are you doing tonight?</td>\n",
       "    </tr>\n",
       "    <tr>\n",
       "      <th>1</th>\n",
       "      <td>Okay, meet me at the bar in fifteen minutes, a...</td>\n",
       "      <td>Hey, you wanna do something tonight?</td>\n",
       "      <td>hey, so you know how I've always had a thing f...</td>\n",
       "    </tr>\n",
       "    <tr>\n",
       "      <th>2</th>\n",
       "      <td>Where's your suit!? Just once when I say suit ...</td>\n",
       "      <td>Hey.</td>\n",
       "      <td>Okay, meet me at the bar in fifteen minutes, a...</td>\n",
       "    </tr>\n",
       "    <tr>\n",
       "      <th>3</th>\n",
       "      <td>It was a blazer!</td>\n",
       "      <td>I did that one time.</td>\n",
       "      <td>Where's your suit!? Just once when I say suit ...</td>\n",
       "    </tr>\n",
       "    <tr>\n",
       "      <th>4</th>\n",
       "      <td>I see what this is about. Have you forgotten w...</td>\n",
       "      <td>You know, ever since college it's been Marshal...</td>\n",
       "      <td>It was a blazer!</td>\n",
       "    </tr>\n",
       "  </tbody>\n",
       "</table>\n",
       "</div>"
      ],
      "text/plain": [
       "                                            response  \\\n",
       "0  hey, so you know how I've always had a thing f...   \n",
       "1  Okay, meet me at the bar in fifteen minutes, a...   \n",
       "2  Where's your suit!? Just once when I say suit ...   \n",
       "3                                   It was a blazer!   \n",
       "4  I see what this is about. Have you forgotten w...   \n",
       "\n",
       "                                             context  \\\n",
       "0  What was I doing? Your Uncle Marshall was taki...   \n",
       "1               Hey, you wanna do something tonight?   \n",
       "2                                               Hey.   \n",
       "3                               I did that one time.   \n",
       "4  You know, ever since college it's been Marshal...   \n",
       "\n",
       "                                           context/0  \n",
       "0                  Yeah, what are you doing tonight?  \n",
       "1  hey, so you know how I've always had a thing f...  \n",
       "2  Okay, meet me at the bar in fifteen minutes, a...  \n",
       "3  Where's your suit!? Just once when I say suit ...  \n",
       "4                                   It was a blazer!  "
      ]
     },
     "execution_count": 14,
     "metadata": {},
     "output_type": "execute_result"
    }
   ],
   "source": [
    "barney_df.head()"
   ]
  },
  {
   "cell_type": "code",
   "execution_count": 15,
   "id": "cf95bd2f",
   "metadata": {},
   "outputs": [
    {
     "data": {
      "text/plain": [
       "5084"
      ]
     },
     "execution_count": 15,
     "metadata": {},
     "output_type": "execute_result"
    }
   ],
   "source": [
    "len(barney_df)"
   ]
  },
  {
   "cell_type": "code",
   "execution_count": 16,
   "id": "3f0e81a7",
   "metadata": {},
   "outputs": [],
   "source": [
    "barney_path = os.path.join(base_folder, \"Datasets\", \"Characters\", \"Barney\")\n",
    "if not os.path.exists(barney_path):\n",
    "    os.makedirs(barney_path)\n",
    "barney_df.to_csv(os.path.join(barney_path, \"Barney.csv\"), index=False)"
   ]
  }
 ],
 "metadata": {
  "kernelspec": {
   "display_name": "Python 3",
   "language": "python",
   "name": "python3"
  },
  "language_info": {
   "codemirror_mode": {
    "name": "ipython",
    "version": 3
   },
   "file_extension": ".py",
   "mimetype": "text/x-python",
   "name": "python",
   "nbconvert_exporter": "python",
   "pygments_lexer": "ipython3",
   "version": "3.8.8"
  }
 },
 "nbformat": 4,
 "nbformat_minor": 5
}
