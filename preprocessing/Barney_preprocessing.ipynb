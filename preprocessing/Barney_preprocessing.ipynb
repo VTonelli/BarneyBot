{
 "cells": [
  {
   "cell_type": "code",
   "execution_count": 1,
   "id": "bb171469",
   "metadata": {},
   "outputs": [],
   "source": [
    "import os\n",
    "import pandas as pd\n",
    "from tqdm import tqdm\n",
    "import re"
   ]
  },
  {
   "cell_type": "code",
   "execution_count": 2,
   "id": "d2363a98",
   "metadata": {},
   "outputs": [],
   "source": [
    "# Mount google drive (for Colab only)\n",
    "try:\n",
    "    import google.colab\n",
    "    IN_COLAB = True\n",
    "except:\n",
    "    IN_COLAB = False\n",
    "if IN_COLAB:\n",
    "    from google.colab import drive\n",
    "    drive.mount('/content/drive',force_remount=True)\n",
    "    base_folder = '/content/drive/My Drive/unibo/NLP_project/BarneyBot'\n",
    "else:\n",
    "    base_folder = os.path.abspath(os.path.join(os.getcwd(), os.pardir))\n",
    "    \n",
    "in_folder = os.path.join(base_folder, \"in\")\n",
    "if not os.path.exists(in_folder):\n",
    "    os.makedirs(in_folder)"
   ]
  },
  {
   "cell_type": "markdown",
   "id": "aff47a30",
   "metadata": {},
   "source": [
    "# Preprocessing"
   ]
  },
  {
   "cell_type": "code",
   "execution_count": 3,
   "id": "83cb42c5",
   "metadata": {},
   "outputs": [],
   "source": [
    "# Open the dataset documents and store their data into a DataFrame\n",
    "def load_himym_dataset():\n",
    "    episodes_folder = os.path.join(base_folder, \"Datasets\", \"Sources\", \"HIMYM\", \"Episodes\")\n",
    "    dataframe_rows = []\n",
    "    # Get number of documents and their names\n",
    "    documents_n = len(os.listdir(episodes_folder))\n",
    "    documents_names = os.listdir(episodes_folder)\n",
    "\n",
    "    # Loop over documents\n",
    "    for i in tqdm(range(documents_n)):\n",
    "        filename = documents_names[i]\n",
    "        episode_index = filename[:-4]\n",
    "        # Open document\n",
    "        with open(os.path.join(episodes_folder, filename)) as file:\n",
    "            # Loop over lines (= words)\n",
    "            for line in file.readlines():\n",
    "                    dataframe_row = {\n",
    "                        \"episode\": episode_index,\n",
    "                        \"line\": line,\n",
    "                    }\n",
    "                    dataframe_rows.append(dataframe_row)\n",
    "    # Build the dataframe from the words\n",
    "    df = pd.DataFrame(dataframe_rows)\n",
    "    return df"
   ]
  },
  {
   "cell_type": "code",
   "execution_count": 4,
   "id": "3fe1fa83",
   "metadata": {},
   "outputs": [
    {
     "name": "stderr",
     "output_type": "stream",
     "text": [
      "100%|███████████████████████████████████████████████████████████████████████████████| 208/208 [00:01<00:00, 158.89it/s]\n"
     ]
    },
    {
     "data": {
      "text/plain": [
       "episode    71983\n",
       "line       71983\n",
       "dtype: int64"
      ]
     },
     "execution_count": 4,
     "metadata": {},
     "output_type": "execute_result"
    }
   ],
   "source": [
    "# Execute creation of dataset\n",
    "himym_df = load_himym_dataset()\n",
    "himym_df.head()\n",
    "himym_df.count()"
   ]
  },
  {
   "cell_type": "code",
   "execution_count": 5,
   "id": "0c20011b",
   "metadata": {},
   "outputs": [],
   "source": [
    "def process_himym_dataset(df):\n",
    "    df = df[~df['line'].str.startswith(\"[\")]\n",
    "    df = df[~df['line'].str.startswith(\"(\")]\n",
    "    df['line'] = df['line'].str.strip()\n",
    "    df['line'] = df['line'].str.replace(r\"\\(.*\\)\",\"\")\n",
    "    df['line'] = df['line'].str.replace(r\"[\\/(){}\\[\\]\\|@_#]|\\\\t|\\\\n\",\" \")\n",
    "    df['line'] = df['line'].str.replace(r\"[^.\\',;:?!0-9a-zA-Z \\-]\",\"\")\n",
    "    df = df[~df['line'].isnull()]\n",
    "    df[['character', 'line']] = df['line'].str.split(\":\", 1, expand=True)\n",
    "    df = df.dropna()\n",
    "    df['line'] = df['line'].str.strip()\n",
    "    df['line'] = df['line'][df['line'].str.len() >= 2]\n",
    "    df = df[~df['line'].isnull()]\n",
    "    df = df.dropna()\n",
    "    df = df.reset_index(drop=True)\n",
    "    return df"
   ]
  },
  {
   "cell_type": "code",
   "execution_count": 6,
   "id": "fbd876e3",
   "metadata": {},
   "outputs": [
    {
     "name": "stderr",
     "output_type": "stream",
     "text": [
      "<ipython-input-5-a2cc5ebe8637>:5: FutureWarning: The default value of regex will change from True to False in a future version.\n",
      "  df['line'] = df['line'].str.replace(r\"\\(.*\\)\",\"\")\n",
      "<ipython-input-5-a2cc5ebe8637>:6: FutureWarning: The default value of regex will change from True to False in a future version.\n",
      "  df['line'] = df['line'].str.replace(r\"[\\/(){}\\[\\]\\|@_#]|\\\\t|\\\\n\",\" \")\n",
      "<ipython-input-5-a2cc5ebe8637>:7: FutureWarning: The default value of regex will change from True to False in a future version.\n",
      "  df['line'] = df['line'].str.replace(r\"[^.\\',;:?!0-9a-zA-Z \\-]\",\"\")\n"
     ]
    },
    {
     "name": "stdout",
     "output_type": "stream",
     "text": [
      "31776\n"
     ]
    }
   ],
   "source": [
    "himym_df = process_himym_dataset(himym_df)\n",
    "print(len(himym_df))"
   ]
  },
  {
   "cell_type": "code",
   "execution_count": 7,
   "id": "0cf0391f",
   "metadata": {},
   "outputs": [
    {
     "data": {
      "text/html": [
       "<div>\n",
       "<style scoped>\n",
       "    .dataframe tbody tr th:only-of-type {\n",
       "        vertical-align: middle;\n",
       "    }\n",
       "\n",
       "    .dataframe tbody tr th {\n",
       "        vertical-align: top;\n",
       "    }\n",
       "\n",
       "    .dataframe thead th {\n",
       "        text-align: right;\n",
       "    }\n",
       "</style>\n",
       "<table border=\"1\" class=\"dataframe\">\n",
       "  <thead>\n",
       "    <tr style=\"text-align: right;\">\n",
       "      <th></th>\n",
       "      <th>episode</th>\n",
       "      <th>line</th>\n",
       "      <th>character</th>\n",
       "    </tr>\n",
       "  </thead>\n",
       "  <tbody>\n",
       "    <tr>\n",
       "      <th>0</th>\n",
       "      <td>01x01</td>\n",
       "      <td>Kids, I'm going to tell you an incredible stor...</td>\n",
       "      <td>Narrator</td>\n",
       "    </tr>\n",
       "    <tr>\n",
       "      <th>1</th>\n",
       "      <td>01x01</td>\n",
       "      <td>Are we being punished for something?</td>\n",
       "      <td>Son</td>\n",
       "    </tr>\n",
       "    <tr>\n",
       "      <th>2</th>\n",
       "      <td>01x01</td>\n",
       "      <td>No</td>\n",
       "      <td>Narrator</td>\n",
       "    </tr>\n",
       "    <tr>\n",
       "      <th>3</th>\n",
       "      <td>01x01</td>\n",
       "      <td>Yeah, is this going to take a while?</td>\n",
       "      <td>Daughter</td>\n",
       "    </tr>\n",
       "    <tr>\n",
       "      <th>4</th>\n",
       "      <td>01x01</td>\n",
       "      <td>Yes.  Twenty-five years ago, before I was dad,...</td>\n",
       "      <td>Narrator</td>\n",
       "    </tr>\n",
       "  </tbody>\n",
       "</table>\n",
       "</div>"
      ],
      "text/plain": [
       "  episode                                               line character\n",
       "0   01x01  Kids, I'm going to tell you an incredible stor...  Narrator\n",
       "1   01x01               Are we being punished for something?       Son\n",
       "2   01x01                                                 No  Narrator\n",
       "3   01x01               Yeah, is this going to take a while?  Daughter\n",
       "4   01x01  Yes.  Twenty-five years ago, before I was dad,...  Narrator"
      ]
     },
     "execution_count": 7,
     "metadata": {},
     "output_type": "execute_result"
    }
   ],
   "source": [
    "himym_df.head()"
   ]
  },
  {
   "cell_type": "code",
   "execution_count": 8,
   "id": "07831a2b",
   "metadata": {},
   "outputs": [
    {
     "name": "stdout",
     "output_type": "stream",
     "text": [
      "{'Marshall and Barney', 'Barney, crying', 'Both Ted and Barney, at the same time', 'Ted, Barney and Robin', 'Barney, joining them', 'Lily, holding Barney', 'Marshall, Lily and Barney', 'Ted and Barney', 'Barney by nightdress', 'Barney and James', 'Barney and Robin', \"Okay, but, Barney, just remember, you'll also be seeing a lot of this\", 'Lily, Marshall, Barney', 'Stacy, Barney', 'Barney, Ted and Robin', 'Marshall, Barney', 'Ted, from seeing Barney', 'Robin and Barney', 'Barney lookalike', 'Barney conscience', 'Little Barney', 'Marshall, on the phone with Barney', 'Barney, with a funny accent', 'Barney  Robin', 'Barney, quick question', \"Barney's mom\", \"At Casa a pezzi. Barney is playing the piano.Ted's father\", 'Barney, whispering', 'Barney, laughing', 'Barney, singsongy', 'Barney, his voice breaking', 'Marshall, Lily, Barney', 'Barney, turning', 'Barney, entering', 'Ted  Barney', 'Barney  Ted', \"Anna's apartment. Anna's reading the letter Barney left.Barney's voice\", 'Marshall, to the girl Barney is talking to', 'Barney, singing and dancing in the street', 'Marshall to Barney', 'Barney', \"Uh, Barney... who's taller\", 'Barney, running down the street', 'Barney ', 'Douglas, Barney', 'Barney, coughing', '.Barney', 'Now, there were three people nearby when Barney gave me that head shot', 'Marshall, Ted, Barney', 'Barney, thinking', \"Barney's Secretary\", 'Barney, pouring some water in a glass', 'Barney, with a mean laugh', 'At the apartment, Barney', 'Barney, weakly', 'Barney, singing', 'Barney Robin', 'Lily, Marshall and Barney', 'Barney, sobbing', 'Barney, seeing himself in the window of the restaurant', 'Barney, this girl has the Mission Impossible', 'James and Barney', 'Barney, Marshall', 'Both Marshall and Barney', 'Barney and Ted'} 5142\n"
     ]
    }
   ],
   "source": [
    "barney_names = [c for c in himym_df['character'] if 'Barney' in c]\n",
    "print(set(barney_names), len(barney_names))"
   ]
  },
  {
   "cell_type": "code",
   "execution_count": 9,
   "id": "4d92e9d4",
   "metadata": {},
   "outputs": [],
   "source": [
    "barney_names = set(barney_names) - set([\"Barney's Secretary\", 'Marshall to Barney', \"Barney's mom\", 'Ted, from seeing Barney', 'Lily, holding Barney', 'Marshall, on the phone with Barney', \"At Casa a pezzi. Barney is playing the piano.Ted's father\", 'Marshall, to the girl Barney is talking to'])"
   ]
  },
  {
   "cell_type": "code",
   "execution_count": 10,
   "id": "6d6809cb",
   "metadata": {},
   "outputs": [],
   "source": [
    "himym_df['character'] = himym_df['character'].apply(lambda x: 'Barney' if 'Barney' in x else x)"
   ]
  },
  {
   "cell_type": "code",
   "execution_count": 11,
   "id": "d670df9a",
   "metadata": {
    "scrolled": true
   },
   "outputs": [
    {
     "data": {
      "text/plain": [
       "array(['Narrator', 'Son', 'Daughter', ...,\n",
       "       'Excuse me. It even has my initials on it right here',\n",
       "       'Those are my initials',\n",
       "       'Terribly Mistaken, because this umbrella has always belonged T.M.'],\n",
       "      dtype=object)"
      ]
     },
     "execution_count": 11,
     "metadata": {},
     "output_type": "execute_result"
    }
   ],
   "source": [
    "himym_df['character'].unique()"
   ]
  },
  {
   "cell_type": "code",
   "execution_count": 12,
   "id": "f92d9e6d",
   "metadata": {},
   "outputs": [],
   "source": [
    "himym_path = os.path.join(base_folder, \"Datasets\", \"Characters\", \"Barney\")\n",
    "if not os.path.exists(himym_path):\n",
    "    os.makedirs(himym_path)\n",
    "himym_df.to_csv(os.path.join(himym_path, \"HIMYM_preprocessed.csv\"), index=False)"
   ]
  },
  {
   "cell_type": "code",
   "execution_count": 13,
   "id": "794cde1b",
   "metadata": {},
   "outputs": [],
   "source": [
    "# NOTE: May consider feeding one sentence and one Sheldon reply or multiple sentences encoded with one Sheldon reply\n",
    "def get_barney(himym_df, level=2):\n",
    "    dataframe_rows = []\n",
    "    idxs_barney = himym_df[himym_df['character'] == 'Barney'].index\n",
    "    dataframe_rows = []\n",
    "    for i in idxs_barney:\n",
    "        l = []\n",
    "        l.append(himym_df['line'][i])\n",
    "        for j in range(0,level):\n",
    "            line = max(i-j-1,0)\n",
    "            l.append(himym_df['line'][line])\n",
    "        dataframe_rows.append(l)\n",
    "    df = pd.DataFrame(dataframe_rows, columns=['response', 'context', 'context/0'])\n",
    "    return df\n",
    "\n",
    "barney_df = get_barney(himym_df)"
   ]
  },
  {
   "cell_type": "code",
   "execution_count": 14,
   "id": "a559d894",
   "metadata": {},
   "outputs": [
    {
     "data": {
      "text/html": [
       "<div>\n",
       "<style scoped>\n",
       "    .dataframe tbody tr th:only-of-type {\n",
       "        vertical-align: middle;\n",
       "    }\n",
       "\n",
       "    .dataframe tbody tr th {\n",
       "        vertical-align: top;\n",
       "    }\n",
       "\n",
       "    .dataframe thead th {\n",
       "        text-align: right;\n",
       "    }\n",
       "</style>\n",
       "<table border=\"1\" class=\"dataframe\">\n",
       "  <thead>\n",
       "    <tr style=\"text-align: right;\">\n",
       "      <th></th>\n",
       "      <th>response</th>\n",
       "      <th>context</th>\n",
       "      <th>context/0</th>\n",
       "    </tr>\n",
       "  </thead>\n",
       "  <tbody>\n",
       "    <tr>\n",
       "      <th>0</th>\n",
       "      <td>hey, so you know how I've always had a thing f...</td>\n",
       "      <td>What was I doing? Your Uncle Marshall was taki...</td>\n",
       "      <td>Yeah, what are you doing tonight?</td>\n",
       "    </tr>\n",
       "    <tr>\n",
       "      <th>1</th>\n",
       "      <td>Okay, meet me at the bar in fifteen minutes, a...</td>\n",
       "      <td>Hey, you wanna do something tonight?</td>\n",
       "      <td>hey, so you know how I've always had a thing f...</td>\n",
       "    </tr>\n",
       "    <tr>\n",
       "      <th>2</th>\n",
       "      <td>Where's your suit!? Just once when I say suit ...</td>\n",
       "      <td>Hey.</td>\n",
       "      <td>Okay, meet me at the bar in fifteen minutes, a...</td>\n",
       "    </tr>\n",
       "    <tr>\n",
       "      <th>3</th>\n",
       "      <td>It was a blazer!</td>\n",
       "      <td>I did that one time.</td>\n",
       "      <td>Where's your suit!? Just once when I say suit ...</td>\n",
       "    </tr>\n",
       "    <tr>\n",
       "      <th>4</th>\n",
       "      <td>I see what this is about. Have you forgotten w...</td>\n",
       "      <td>You know, ever since college it's been Marshal...</td>\n",
       "      <td>It was a blazer!</td>\n",
       "    </tr>\n",
       "  </tbody>\n",
       "</table>\n",
       "</div>"
      ],
      "text/plain": [
       "                                            response  \\\n",
       "0  hey, so you know how I've always had a thing f...   \n",
       "1  Okay, meet me at the bar in fifteen minutes, a...   \n",
       "2  Where's your suit!? Just once when I say suit ...   \n",
       "3                                   It was a blazer!   \n",
       "4  I see what this is about. Have you forgotten w...   \n",
       "\n",
       "                                             context  \\\n",
       "0  What was I doing? Your Uncle Marshall was taki...   \n",
       "1               Hey, you wanna do something tonight?   \n",
       "2                                               Hey.   \n",
       "3                               I did that one time.   \n",
       "4  You know, ever since college it's been Marshal...   \n",
       "\n",
       "                                           context/0  \n",
       "0                  Yeah, what are you doing tonight?  \n",
       "1  hey, so you know how I've always had a thing f...  \n",
       "2  Okay, meet me at the bar in fifteen minutes, a...  \n",
       "3  Where's your suit!? Just once when I say suit ...  \n",
       "4                                   It was a blazer!  "
      ]
     },
     "execution_count": 14,
     "metadata": {},
     "output_type": "execute_result"
    }
   ],
   "source": [
    "barney_df.head()"
   ]
  },
  {
   "cell_type": "code",
   "execution_count": 15,
   "id": "cf95bd2f",
   "metadata": {},
   "outputs": [
    {
     "data": {
      "text/plain": [
       "5142"
      ]
     },
     "execution_count": 15,
     "metadata": {},
     "output_type": "execute_result"
    }
   ],
   "source": [
    "len(barney_df)"
   ]
  },
  {
   "cell_type": "code",
   "execution_count": 16,
   "id": "3f0e81a7",
   "metadata": {},
   "outputs": [],
   "source": [
    "barney_path = os.path.join(base_folder, \"Datasets\", \"Characters\", \"Barney\")\n",
    "if not os.path.exists(barney_path):\n",
    "    os.makedirs(barney_path)\n",
    "barney_df.to_csv(os.path.join(barney_path, \"Barney.csv\"), index=False)"
   ]
  }
 ],
 "metadata": {
  "kernelspec": {
   "display_name": "Python 3",
   "language": "python",
   "name": "python3"
  },
  "language_info": {
   "codemirror_mode": {
    "name": "ipython",
    "version": 3
   },
   "file_extension": ".py",
   "mimetype": "text/x-python",
   "name": "python",
   "nbconvert_exporter": "python",
   "pygments_lexer": "ipython3",
   "version": "3.8.8"
  }
 },
 "nbformat": 4,
 "nbformat_minor": 5
}
