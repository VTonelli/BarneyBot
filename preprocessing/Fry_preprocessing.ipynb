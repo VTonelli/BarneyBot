{
 "cells": [
  {
   "cell_type": "code",
   "execution_count": 1,
   "id": "3eeb5ab3",
   "metadata": {},
   "outputs": [],
   "source": [
    "import os\n",
    "import pandas as pd\n",
    "from tqdm import tqdm\n",
    "import re"
   ]
  },
  {
   "cell_type": "code",
   "execution_count": 2,
   "id": "f0c78d10",
   "metadata": {},
   "outputs": [],
   "source": [
    "# Mount google drive (for Colab only)\n",
    "try:\n",
    "    import google.colab\n",
    "    IN_COLAB = True\n",
    "except:\n",
    "    IN_COLAB = False\n",
    "if IN_COLAB:\n",
    "    from google.colab import drive\n",
    "    drive.mount('/content/drive',force_remount=True)\n",
    "    base_folder = '/content/drive/My Drive/unibo/NLP_project/BarneyBot'\n",
    "else:\n",
    "    base_folder = os.path.abspath(os.path.join(os.getcwd(), os.pardir))\n",
    "    \n",
    "in_folder = os.path.join(base_folder, \"in\")\n",
    "if not os.path.exists(in_folder):\n",
    "    os.makedirs(in_folder)"
   ]
  },
  {
   "cell_type": "markdown",
   "id": "06140f71",
   "metadata": {},
   "source": [
    "# Read dataset"
   ]
  },
  {
   "cell_type": "markdown",
   "id": "9a421830",
   "metadata": {},
   "source": [
    "the actual lines do not correspond to the rows of the file\n",
    "\n",
    "--> save everything into a unique string and split lines later"
   ]
  },
  {
   "cell_type": "code",
   "execution_count": 3,
   "id": "424034b7",
   "metadata": {},
   "outputs": [
    {
     "name": "stderr",
     "output_type": "stream",
     "text": [
      "100%|████████████████████████████████████████████████████████████████████████████████| 72/72 [00:00<00:00, 1089.92it/s]\n"
     ]
    }
   ],
   "source": [
    "futurama_txt = ''\n",
    "\n",
    "episodes_folder = os.path.join(base_folder, \"Datasets\", \"Sources\", \"Futurama\", \"Episodes\")\n",
    "# Loop over documents\n",
    "for filename in tqdm(os.listdir(episodes_folder)):\n",
    "    futurama_txt += open(os.path.join(episodes_folder, filename)).read()"
   ]
  },
  {
   "cell_type": "code",
   "execution_count": 4,
   "id": "18055019",
   "metadata": {
    "scrolled": false
   },
   "outputs": [
    {
     "data": {
      "text/plain": [
       "'<pre>\\n\\n<b>                                        FUTURAMA\\n</b>\\n                                       Episode 101 \\n\\n<b>                                   \"SPACE PILOT 3000\"\\n</b>\\n                                           By\\n\\n                             David X. Cohen &amp; Matt Groening\\n\\n                         Transcribed by Dave, The Neutral Planet\\n\\n<b>                \\n</b>\\n               [Over the caption December 31st 1999 a crude spaceship flies \\n               through space, cruising over and under planets and a man speaks.]\\n<b> \\n</b><b>               \\n</b><b>               \\n</b><b>                                     MAN\\n</b>                         (voice-over) Space. It seems to go on \\n                         and on forever. But then you get to \\n                         the end and the gorilla starts throwing \\n                         barrels at you.\\n<b> \\n</b><b>               \\n</b>               [A planet opens up and a huge gorilla starts throwing barrels \\n              '"
      ]
     },
     "execution_count": 4,
     "metadata": {},
     "output_type": "execute_result"
    }
   ],
   "source": [
    "# check saved lines\n",
    "futurama_txt[:1000]"
   ]
  },
  {
   "cell_type": "markdown",
   "id": "8c727dc5",
   "metadata": {},
   "source": [
    "lines are delimited by \\<b> and \\</b>"
   ]
  },
  {
   "cell_type": "markdown",
   "id": "28385007",
   "metadata": {},
   "source": [
    "## Save lines into a list"
   ]
  },
  {
   "cell_type": "code",
   "execution_count": 5,
   "id": "393cb072",
   "metadata": {},
   "outputs": [],
   "source": [
    "def split_lines(txt):\n",
    "    start_idx = 0\n",
    "    end_idx = 0\n",
    "    lines = []\n",
    "    while start_idx < len(txt):\n",
    "        start_idx = txt.find('<b>', end_idx)\n",
    "        \n",
    "        # if no '<b>' is found, just save the rest\n",
    "        if start_idx == -1:\n",
    "            lines.append(txt[end_idx:].replace('</b>',''))\n",
    "            break\n",
    "        # '<b>' is found\n",
    "        elif start_idx != end_idx:\n",
    "            # print(txt[end_idx+4:start_idx])\n",
    "            lines.append(txt[end_idx+4:start_idx])\n",
    "\n",
    "        end_idx = txt.find('</b>', start_idx)\n",
    "        # if no '</b>' is found, just save the rest\n",
    "        if end_idx == -1:\n",
    "            lines.append(txt[start_idx:].replace('<b>',''))\n",
    "            break\n",
    "\n",
    "        # print(txt[start_idx+3:end_idx])\n",
    "        lines.append(txt[start_idx+3:end_idx])    \n",
    "        \n",
    "    return lines"
   ]
  },
  {
   "cell_type": "code",
   "execution_count": 6,
   "id": "98f4b013",
   "metadata": {},
   "outputs": [],
   "source": [
    "futurama_lines = split_lines(futurama_txt)"
   ]
  },
  {
   "cell_type": "code",
   "execution_count": 7,
   "id": "8cdfff55",
   "metadata": {
    "scrolled": true
   },
   "outputs": [
    {
     "data": {
      "text/plain": [
       "['>\\n\\n',\n",
       " '                                        FUTURAMA\\n',\n",
       " '\\n                                       Episode 101 \\n\\n',\n",
       " '                                   \"SPACE PILOT 3000\"\\n',\n",
       " '\\n                                           By\\n\\n                             David X. Cohen &amp; Matt Groening\\n\\n                         Transcribed by Dave, The Neutral Planet\\n\\n',\n",
       " '                \\n',\n",
       " '\\n               [Over the caption December 31st 1999 a crude spaceship flies \\n               through space, cruising over and under planets and a man speaks.]\\n',\n",
       " ' \\n',\n",
       " '',\n",
       " '               \\n']"
      ]
     },
     "execution_count": 7,
     "metadata": {},
     "output_type": "execute_result"
    }
   ],
   "source": [
    "futurama_lines[:10]"
   ]
  },
  {
   "cell_type": "markdown",
   "id": "f610beca",
   "metadata": {},
   "source": [
    "## Convert into a dataset"
   ]
  },
  {
   "cell_type": "code",
   "execution_count": 8,
   "id": "061daa7d",
   "metadata": {
    "scrolled": false
   },
   "outputs": [
    {
     "data": {
      "text/html": [
       "<div>\n",
       "<style scoped>\n",
       "    .dataframe tbody tr th:only-of-type {\n",
       "        vertical-align: middle;\n",
       "    }\n",
       "\n",
       "    .dataframe tbody tr th {\n",
       "        vertical-align: top;\n",
       "    }\n",
       "\n",
       "    .dataframe thead th {\n",
       "        text-align: right;\n",
       "    }\n",
       "</style>\n",
       "<table border=\"1\" class=\"dataframe\">\n",
       "  <thead>\n",
       "    <tr style=\"text-align: right;\">\n",
       "      <th></th>\n",
       "      <th>line</th>\n",
       "    </tr>\n",
       "  </thead>\n",
       "  <tbody>\n",
       "    <tr>\n",
       "      <th>0</th>\n",
       "      <td>&gt;\\n\\n</td>\n",
       "    </tr>\n",
       "    <tr>\n",
       "      <th>1</th>\n",
       "      <td>FUTURA...</td>\n",
       "    </tr>\n",
       "    <tr>\n",
       "      <th>2</th>\n",
       "      <td>\\n                                       Episo...</td>\n",
       "    </tr>\n",
       "    <tr>\n",
       "      <th>3</th>\n",
       "      <td>\"SPACE PILO...</td>\n",
       "    </tr>\n",
       "    <tr>\n",
       "      <th>4</th>\n",
       "      <td>\\n                                           B...</td>\n",
       "    </tr>\n",
       "  </tbody>\n",
       "</table>\n",
       "</div>"
      ],
      "text/plain": [
       "                                                line\n",
       "0                                              >\\n\\n\n",
       "1                                          FUTURA...\n",
       "2  \\n                                       Episo...\n",
       "3                                     \"SPACE PILO...\n",
       "4  \\n                                           B..."
      ]
     },
     "execution_count": 8,
     "metadata": {},
     "output_type": "execute_result"
    }
   ],
   "source": [
    "futurama_txt_df = pd.DataFrame(futurama_lines, columns=['line'])\n",
    "futurama_txt_df.head()"
   ]
  },
  {
   "cell_type": "markdown",
   "id": "6be3f3f5",
   "metadata": {},
   "source": [
    "## Preprocess dataset"
   ]
  },
  {
   "cell_type": "code",
   "execution_count": 9,
   "id": "303102ce",
   "metadata": {},
   "outputs": [],
   "source": [
    "def process_dataset(df):\n",
    "    df['line'] = df['line'].str.strip()\n",
    "    df['line'] = df['line'].str.replace(r\"\\[.*\\]\",\"\")\n",
    "    df['line'] = df['line'].str.replace(r\"\\(.*\\)\",\"\")\n",
    "    df['line'] = df['line'].str.replace(r\"\\<.*\\>\",\"\")\n",
    "    df['line'] = df['line'].str.replace(\"\\n\",\"\")\n",
    "    df = df[~df['line'].str.startswith(\"(\")]\n",
    "    df = df[~df['line'].str.startswith(\"[\")]\n",
    "    df['line'] = df['line'].str.replace(r\"[\\/(){}\\[\\]\\|@_#]|\\\\t|\\\\n\",\" \")\n",
    "    df['line'] = df['line'].str.replace(r\"[^.\\',;:?!0-9a-zA-Z \\-]\",\"\")\n",
    "    df['line'] = df['line'][df['line'].str.len() >= 2]\n",
    "    df = df.dropna()\n",
    "    df = df.reset_index(drop=True)\n",
    "    \"\"\"\n",
    "    df[['character', 'line']] = df['line'].str.split(\":\", 1, expand=True)\n",
    "    df['line'] = df['line'].str.strip()\n",
    "    df = df[~df['line'].isnull()]\n",
    "    df = df.dropna()\n",
    "    \"\"\"\n",
    "    return df"
   ]
  },
  {
   "cell_type": "code",
   "execution_count": 10,
   "id": "ab984434",
   "metadata": {
    "scrolled": true
   },
   "outputs": [
    {
     "name": "stderr",
     "output_type": "stream",
     "text": [
      "<ipython-input-9-299c6e7e3cc3>:3: FutureWarning: The default value of regex will change from True to False in a future version.\n",
      "  df['line'] = df['line'].str.replace(r\"\\[.*\\]\",\"\")\n",
      "<ipython-input-9-299c6e7e3cc3>:4: FutureWarning: The default value of regex will change from True to False in a future version.\n",
      "  df['line'] = df['line'].str.replace(r\"\\(.*\\)\",\"\")\n",
      "<ipython-input-9-299c6e7e3cc3>:5: FutureWarning: The default value of regex will change from True to False in a future version.\n",
      "  df['line'] = df['line'].str.replace(r\"\\<.*\\>\",\"\")\n",
      "<ipython-input-9-299c6e7e3cc3>:9: FutureWarning: The default value of regex will change from True to False in a future version.\n",
      "  df['line'] = df['line'].str.replace(r\"[\\/(){}\\[\\]\\|@_#]|\\\\t|\\\\n\",\" \")\n",
      "<ipython-input-9-299c6e7e3cc3>:10: FutureWarning: The default value of regex will change from True to False in a future version.\n",
      "  df['line'] = df['line'].str.replace(r\"[^.\\',;:?!0-9a-zA-Z \\-]\",\"\")\n"
     ]
    },
    {
     "data": {
      "text/html": [
       "<div>\n",
       "<style scoped>\n",
       "    .dataframe tbody tr th:only-of-type {\n",
       "        vertical-align: middle;\n",
       "    }\n",
       "\n",
       "    .dataframe tbody tr th {\n",
       "        vertical-align: top;\n",
       "    }\n",
       "\n",
       "    .dataframe thead th {\n",
       "        text-align: right;\n",
       "    }\n",
       "</style>\n",
       "<table border=\"1\" class=\"dataframe\">\n",
       "  <thead>\n",
       "    <tr style=\"text-align: right;\">\n",
       "      <th></th>\n",
       "      <th>line</th>\n",
       "    </tr>\n",
       "  </thead>\n",
       "  <tbody>\n",
       "    <tr>\n",
       "      <th>0</th>\n",
       "      <td>FUTURAMA</td>\n",
       "    </tr>\n",
       "    <tr>\n",
       "      <th>1</th>\n",
       "      <td>Episode 101</td>\n",
       "    </tr>\n",
       "    <tr>\n",
       "      <th>2</th>\n",
       "      <td>SPACE PILOT 3000</td>\n",
       "    </tr>\n",
       "    <tr>\n",
       "      <th>3</th>\n",
       "      <td>By                             David X. Cohen ...</td>\n",
       "    </tr>\n",
       "    <tr>\n",
       "      <th>4</th>\n",
       "      <td>MAN</td>\n",
       "    </tr>\n",
       "    <tr>\n",
       "      <th>...</th>\n",
       "      <td>...</td>\n",
       "    </tr>\n",
       "    <tr>\n",
       "      <th>30610</th>\n",
       "      <td>ZOIDBERG</td>\n",
       "    </tr>\n",
       "    <tr>\n",
       "      <th>30611</th>\n",
       "      <td>I'll take eight!</td>\n",
       "    </tr>\n",
       "    <tr>\n",
       "      <th>30612</th>\n",
       "      <td>LEELA</td>\n",
       "    </tr>\n",
       "    <tr>\n",
       "      <th>30613</th>\n",
       "      <td>Please don't stop playing Fry. I wanna        ...</td>\n",
       "    </tr>\n",
       "    <tr>\n",
       "      <th>30614</th>\n",
       "      <td>THE END</td>\n",
       "    </tr>\n",
       "  </tbody>\n",
       "</table>\n",
       "<p>30615 rows × 1 columns</p>\n",
       "</div>"
      ],
      "text/plain": [
       "                                                    line\n",
       "0                                               FUTURAMA\n",
       "1                                            Episode 101\n",
       "2                                       SPACE PILOT 3000\n",
       "3      By                             David X. Cohen ...\n",
       "4                                                    MAN\n",
       "...                                                  ...\n",
       "30610                                           ZOIDBERG\n",
       "30611                                   I'll take eight!\n",
       "30612                                              LEELA\n",
       "30613  Please don't stop playing Fry. I wanna        ...\n",
       "30614                                            THE END\n",
       "\n",
       "[30615 rows x 1 columns]"
      ]
     },
     "execution_count": 10,
     "metadata": {},
     "output_type": "execute_result"
    }
   ],
   "source": [
    "# Execute creation of dataset\n",
    "futurama_pre_df = process_dataset(futurama_txt_df)\n",
    "futurama_pre_df"
   ]
  },
  {
   "cell_type": "markdown",
   "id": "9afcd58b",
   "metadata": {},
   "source": [
    "## Split into character and line columns"
   ]
  },
  {
   "cell_type": "code",
   "execution_count": 11,
   "id": "66eea5d0",
   "metadata": {},
   "outputs": [],
   "source": [
    "def split_characters(df):\n",
    "    df_rows = []\n",
    "    n_truncated = 0\n",
    "    for row in tqdm(range(len(df)-1)):\n",
    "        if df['line'][row].isupper():\n",
    "            df_row = {\n",
    "                'line': df['line'][row+1].strip()[:512],\n",
    "                'character': df['line'][row].strip().capitalize()\n",
    "            }\n",
    "            df_rows.append(df_row)\n",
    "        if len(df['line'][row+1].strip())>512: n_truncated += 1\n",
    "    print('Truncated', n_truncated, 'lines')\n",
    "    return pd.DataFrame(df_rows)"
   ]
  },
  {
   "cell_type": "code",
   "execution_count": 12,
   "id": "00bbf28d",
   "metadata": {
    "scrolled": true
   },
   "outputs": [
    {
     "name": "stderr",
     "output_type": "stream",
     "text": [
      "100%|█████████████████████████████████████████████████████████████████████████| 30614/30614 [00:00<00:00, 39213.00it/s]"
     ]
    },
    {
     "name": "stdout",
     "output_type": "stream",
     "text": [
      "Truncated 39 lines\n"
     ]
    },
    {
     "name": "stderr",
     "output_type": "stream",
     "text": [
      "\n"
     ]
    }
   ],
   "source": [
    "futurama_df = split_characters(futurama_pre_df)"
   ]
  },
  {
   "cell_type": "code",
   "execution_count": 13,
   "id": "d1edecb7",
   "metadata": {
    "scrolled": true
   },
   "outputs": [
    {
     "data": {
      "text/html": [
       "<div>\n",
       "<style scoped>\n",
       "    .dataframe tbody tr th:only-of-type {\n",
       "        vertical-align: middle;\n",
       "    }\n",
       "\n",
       "    .dataframe tbody tr th {\n",
       "        vertical-align: top;\n",
       "    }\n",
       "\n",
       "    .dataframe thead th {\n",
       "        text-align: right;\n",
       "    }\n",
       "</style>\n",
       "<table border=\"1\" class=\"dataframe\">\n",
       "  <thead>\n",
       "    <tr style=\"text-align: right;\">\n",
       "      <th></th>\n",
       "      <th>line</th>\n",
       "      <th>character</th>\n",
       "    </tr>\n",
       "  </thead>\n",
       "  <tbody>\n",
       "    <tr>\n",
       "      <th>0</th>\n",
       "      <td>By                             David X. Cohen ...</td>\n",
       "      <td>Space pilot 3000</td>\n",
       "    </tr>\n",
       "    <tr>\n",
       "      <th>1</th>\n",
       "      <td>Space. It seems to go on                      ...</td>\n",
       "      <td>Man</td>\n",
       "    </tr>\n",
       "    <tr>\n",
       "      <th>2</th>\n",
       "      <td>And that's how you play the game!</td>\n",
       "      <td>Fry</td>\n",
       "    </tr>\n",
       "    <tr>\n",
       "      <th>3</th>\n",
       "      <td>You stink, loser!</td>\n",
       "      <td>Kid</td>\n",
       "    </tr>\n",
       "    <tr>\n",
       "      <th>4</th>\n",
       "      <td>Hey, Fry. Pizza goin' out! C'mon!!</td>\n",
       "      <td>Panucci</td>\n",
       "    </tr>\n",
       "    <tr>\n",
       "      <th>...</th>\n",
       "      <td>...</td>\n",
       "      <td>...</td>\n",
       "    </tr>\n",
       "    <tr>\n",
       "      <th>15221</th>\n",
       "      <td>Yes you can. The beauty was                   ...</td>\n",
       "      <td>Zoidberg</td>\n",
       "    </tr>\n",
       "    <tr>\n",
       "      <th>15222</th>\n",
       "      <td>Ah! Ooo, ah, whoa, hey!</td>\n",
       "      <td>Fry</td>\n",
       "    </tr>\n",
       "    <tr>\n",
       "      <th>15223</th>\n",
       "      <td>Extra! Extra! Greatest opera                  ...</td>\n",
       "      <td>Tinny tim</td>\n",
       "    </tr>\n",
       "    <tr>\n",
       "      <th>15224</th>\n",
       "      <td>I'll take eight!</td>\n",
       "      <td>Zoidberg</td>\n",
       "    </tr>\n",
       "    <tr>\n",
       "      <th>15225</th>\n",
       "      <td>Please don't stop playing Fry. I wanna        ...</td>\n",
       "      <td>Leela</td>\n",
       "    </tr>\n",
       "  </tbody>\n",
       "</table>\n",
       "<p>15226 rows × 2 columns</p>\n",
       "</div>"
      ],
      "text/plain": [
       "                                                    line         character\n",
       "0      By                             David X. Cohen ...  Space pilot 3000\n",
       "1      Space. It seems to go on                      ...               Man\n",
       "2                      And that's how you play the game!               Fry\n",
       "3                                      You stink, loser!               Kid\n",
       "4                     Hey, Fry. Pizza goin' out! C'mon!!           Panucci\n",
       "...                                                  ...               ...\n",
       "15221  Yes you can. The beauty was                   ...          Zoidberg\n",
       "15222                            Ah! Ooo, ah, whoa, hey!               Fry\n",
       "15223  Extra! Extra! Greatest opera                  ...         Tinny tim\n",
       "15224                                   I'll take eight!          Zoidberg\n",
       "15225  Please don't stop playing Fry. I wanna        ...             Leela\n",
       "\n",
       "[15226 rows x 2 columns]"
      ]
     },
     "execution_count": 13,
     "metadata": {},
     "output_type": "execute_result"
    }
   ],
   "source": [
    "futurama_df = futurama_df[futurama_df['character'].str.contains('Futurama')==False ]\n",
    "futurama_df = futurama_df.reset_index(drop=True)\n",
    "futurama_df"
   ]
  },
  {
   "cell_type": "markdown",
   "id": "3ab75b0a",
   "metadata": {},
   "source": [
    "## Select character"
   ]
  },
  {
   "cell_type": "code",
   "execution_count": 14,
   "id": "e00a1abe",
   "metadata": {},
   "outputs": [
    {
     "data": {
      "text/html": [
       "<div>\n",
       "<style scoped>\n",
       "    .dataframe tbody tr th:only-of-type {\n",
       "        vertical-align: middle;\n",
       "    }\n",
       "\n",
       "    .dataframe tbody tr th {\n",
       "        vertical-align: top;\n",
       "    }\n",
       "\n",
       "    .dataframe thead th {\n",
       "        text-align: right;\n",
       "    }\n",
       "</style>\n",
       "<table border=\"1\" class=\"dataframe\">\n",
       "  <thead>\n",
       "    <tr style=\"text-align: right;\">\n",
       "      <th></th>\n",
       "      <th>character</th>\n",
       "      <th># lines</th>\n",
       "    </tr>\n",
       "  </thead>\n",
       "  <tbody>\n",
       "    <tr>\n",
       "      <th>0</th>\n",
       "      <td>Fry</td>\n",
       "      <td>2679</td>\n",
       "    </tr>\n",
       "    <tr>\n",
       "      <th>1</th>\n",
       "      <td>Bender</td>\n",
       "      <td>2362</td>\n",
       "    </tr>\n",
       "    <tr>\n",
       "      <th>2</th>\n",
       "      <td>Leela</td>\n",
       "      <td>2116</td>\n",
       "    </tr>\n",
       "    <tr>\n",
       "      <th>3</th>\n",
       "      <td>Farnsworth</td>\n",
       "      <td>989</td>\n",
       "    </tr>\n",
       "    <tr>\n",
       "      <th>4</th>\n",
       "      <td>Zoidberg</td>\n",
       "      <td>581</td>\n",
       "    </tr>\n",
       "    <tr>\n",
       "      <th>...</th>\n",
       "      <td>...</td>\n",
       "      <td>...</td>\n",
       "    </tr>\n",
       "    <tr>\n",
       "      <th>822</th>\n",
       "      <td>Trucker  2</td>\n",
       "      <td>1</td>\n",
       "    </tr>\n",
       "    <tr>\n",
       "      <th>823</th>\n",
       "      <td>Trucker  1</td>\n",
       "      <td>1</td>\n",
       "    </tr>\n",
       "    <tr>\n",
       "      <th>824</th>\n",
       "      <td>Parasites lost</td>\n",
       "      <td>1</td>\n",
       "    </tr>\n",
       "    <tr>\n",
       "      <th>825</th>\n",
       "      <td>Butch's mom</td>\n",
       "      <td>1</td>\n",
       "    </tr>\n",
       "    <tr>\n",
       "      <th>826</th>\n",
       "      <td>Holo-robot devil</td>\n",
       "      <td>1</td>\n",
       "    </tr>\n",
       "  </tbody>\n",
       "</table>\n",
       "<p>827 rows × 2 columns</p>\n",
       "</div>"
      ],
      "text/plain": [
       "            character  # lines\n",
       "0                 Fry     2679\n",
       "1              Bender     2362\n",
       "2               Leela     2116\n",
       "3          Farnsworth      989\n",
       "4            Zoidberg      581\n",
       "..                ...      ...\n",
       "822        Trucker  2        1\n",
       "823        Trucker  1        1\n",
       "824    Parasites lost        1\n",
       "825       Butch's mom        1\n",
       "826  Holo-robot devil        1\n",
       "\n",
       "[827 rows x 2 columns]"
      ]
     },
     "execution_count": 14,
     "metadata": {},
     "output_type": "execute_result"
    }
   ],
   "source": [
    "# take a first overview of lines for each character\n",
    "char_lines = [(character, len(futurama_df['character'][futurama_df['character']==character])) for character in futurama_df['character'].unique()]\n",
    "char_lines_df = pd.DataFrame(char_lines, columns = ['character', '# lines']).sort_values(by=['# lines'], ascending=False).reset_index(drop=True)\n",
    "char_lines_df"
   ]
  },
  {
   "cell_type": "code",
   "execution_count": 15,
   "id": "36ecfcb1",
   "metadata": {},
   "outputs": [],
   "source": [
    "# select character\n",
    "character = 'Fry'"
   ]
  },
  {
   "cell_type": "code",
   "execution_count": 16,
   "id": "7445c69b",
   "metadata": {},
   "outputs": [
    {
     "name": "stdout",
     "output_type": "stream",
     "text": [
      "{'Fry', 'Fry 1', 'Fry leela and bender', 'Fry 1729', 'The why of fry', 'Fry and zoidberg', 'Mrs fry', 'Spanish fry', \"Fry's photo\", 'Holo-fry', 'Fry and the slurm factory', 'Fry and bender', 'Future fry', 'Luck of the fryrish', 'Past fry', 'Mr fry'}\n"
     ]
    }
   ],
   "source": [
    "# check if named differently in the dataset\n",
    "character_names = set([c for c in futurama_df['character'] if character.lower() in c.lower()])\n",
    "print(character_names)"
   ]
  },
  {
   "cell_type": "code",
   "execution_count": 17,
   "id": "b4c518c5",
   "metadata": {},
   "outputs": [
    {
     "name": "stdout",
     "output_type": "stream",
     "text": [
      "{'Fry 1', 'Fry leela and bender', 'Holo-fry', 'Fry and bender', 'Fry and zoidberg', 'Fry', 'Fry 1729', 'The why of fry', 'Spanish fry', \"Fry's photo\", 'Future fry', 'Fry and the slurm factory', 'Past fry'}\n"
     ]
    }
   ],
   "source": [
    "# manually remove different characters from the set\n",
    "character_names = character_names - set(['Mrs fry', 'Mr fry', 'Luck of the fryrish'])\n",
    "print(character_names)"
   ]
  },
  {
   "cell_type": "code",
   "execution_count": 18,
   "id": "83cd5324",
   "metadata": {},
   "outputs": [],
   "source": [
    "# merge lines from the same selected character\n",
    "futurama_df['character'] = futurama_df['character'].apply(lambda x: character if x in character_names else x)"
   ]
  },
  {
   "cell_type": "code",
   "execution_count": 19,
   "id": "a12075bd",
   "metadata": {},
   "outputs": [
    {
     "data": {
      "text/plain": [
       "{'Fry', 'Luck of the fryrish', 'Mr fry', 'Mrs fry'}"
      ]
     },
     "execution_count": 19,
     "metadata": {},
     "output_type": "execute_result"
    }
   ],
   "source": [
    "# check again the set of characters containing the name of the selected one\n",
    "# now they actually must correspond to different characters\n",
    "set([c for c in futurama_df['character'] if character.lower() in c.lower()])"
   ]
  },
  {
   "cell_type": "code",
   "execution_count": 20,
   "id": "cf260534",
   "metadata": {
    "scrolled": true
   },
   "outputs": [
    {
     "data": {
      "text/html": [
       "<div>\n",
       "<style scoped>\n",
       "    .dataframe tbody tr th:only-of-type {\n",
       "        vertical-align: middle;\n",
       "    }\n",
       "\n",
       "    .dataframe tbody tr th {\n",
       "        vertical-align: top;\n",
       "    }\n",
       "\n",
       "    .dataframe thead th {\n",
       "        text-align: right;\n",
       "    }\n",
       "</style>\n",
       "<table border=\"1\" class=\"dataframe\">\n",
       "  <thead>\n",
       "    <tr style=\"text-align: right;\">\n",
       "      <th></th>\n",
       "      <th></th>\n",
       "      <th>lines</th>\n",
       "    </tr>\n",
       "  </thead>\n",
       "  <tbody>\n",
       "    <tr>\n",
       "      <th>0</th>\n",
       "      <td>Before merging</td>\n",
       "      <td>2679</td>\n",
       "    </tr>\n",
       "    <tr>\n",
       "      <th>1</th>\n",
       "      <td>After merging</td>\n",
       "      <td>2716</td>\n",
       "    </tr>\n",
       "    <tr>\n",
       "      <th>2</th>\n",
       "      <td>Gained</td>\n",
       "      <td>37</td>\n",
       "    </tr>\n",
       "  </tbody>\n",
       "</table>\n",
       "</div>"
      ],
      "text/plain": [
       "                   lines\n",
       "0  Before merging   2679\n",
       "1   After merging   2716\n",
       "2          Gained     37"
      ]
     },
     "execution_count": 20,
     "metadata": {},
     "output_type": "execute_result"
    }
   ],
   "source": [
    "# compare the number of lines before and after the merge\n",
    "n_before = int(char_lines_df[char_lines_df['character']==character]['# lines'])\n",
    "n_after = len(futurama_df['character'][futurama_df['character']==character])\n",
    "df_lines_overview = pd.DataFrame(\n",
    "    [{'':'Before merging', 'lines': n_before},\n",
    "    {'':'After merging', 'lines': n_after},\n",
    "    {'':'Gained', 'lines': n_after-n_before}]\n",
    ")\n",
    "df_lines_overview"
   ]
  },
  {
   "cell_type": "markdown",
   "id": "9c5edcae",
   "metadata": {},
   "source": [
    "## Get character dataset"
   ]
  },
  {
   "cell_type": "code",
   "execution_count": 21,
   "id": "0af2b403",
   "metadata": {},
   "outputs": [],
   "source": [
    "# NOTE: May consider feeding one sentence and one Sheldon reply or multiple sentences encoded with one Sheldon reply\n",
    "def get_character(df, character, level=2):\n",
    "    df_rows = []\n",
    "    idxs = df[df['character'] == character].index\n",
    "    df_rows = []\n",
    "    for i in idxs:\n",
    "        l = []\n",
    "        l.append(df['line'][i])\n",
    "        for j in range(0,level):\n",
    "            line = max(i-j-1,0)\n",
    "            l.append(df['line'][line])\n",
    "        df_rows.append(l)\n",
    "    df = pd.DataFrame(df_rows, columns=['response', 'context', 'context/0'])\n",
    "    return df"
   ]
  },
  {
   "cell_type": "code",
   "execution_count": 22,
   "id": "222092c4",
   "metadata": {},
   "outputs": [],
   "source": [
    "character_df = get_character(futurama_df, character)"
   ]
  },
  {
   "cell_type": "code",
   "execution_count": 23,
   "id": "defbdccc",
   "metadata": {},
   "outputs": [
    {
     "data": {
      "text/html": [
       "<div>\n",
       "<style scoped>\n",
       "    .dataframe tbody tr th:only-of-type {\n",
       "        vertical-align: middle;\n",
       "    }\n",
       "\n",
       "    .dataframe tbody tr th {\n",
       "        vertical-align: top;\n",
       "    }\n",
       "\n",
       "    .dataframe thead th {\n",
       "        text-align: right;\n",
       "    }\n",
       "</style>\n",
       "<table border=\"1\" class=\"dataframe\">\n",
       "  <thead>\n",
       "    <tr style=\"text-align: right;\">\n",
       "      <th></th>\n",
       "      <th>response</th>\n",
       "      <th>context</th>\n",
       "      <th>context/0</th>\n",
       "    </tr>\n",
       "  </thead>\n",
       "  <tbody>\n",
       "    <tr>\n",
       "      <th>0</th>\n",
       "      <td>And that's how you play the game!</td>\n",
       "      <td>Space. It seems to go on                      ...</td>\n",
       "      <td>By                             David X. Cohen ...</td>\n",
       "    </tr>\n",
       "    <tr>\n",
       "      <th>1</th>\n",
       "      <td>Michelle, baby! Where you going?</td>\n",
       "      <td>Hey, Fry. Pizza goin' out! C'mon!!</td>\n",
       "      <td>You stink, loser!</td>\n",
       "    </tr>\n",
       "    <tr>\n",
       "      <th>2</th>\n",
       "      <td>I hate my life I hate my life I hate          ...</td>\n",
       "      <td>It's not working out, Fry.   I put your       ...</td>\n",
       "      <td>Michelle, baby! Where you going?</td>\n",
       "    </tr>\n",
       "    <tr>\n",
       "      <th>3</th>\n",
       "      <td>Hello? Pizza delivery for......Icy Wiener?!   ...</td>\n",
       "      <td>Happy new year!</td>\n",
       "      <td>I hate my life I hate my life I hate          ...</td>\n",
       "    </tr>\n",
       "    <tr>\n",
       "      <th>4</th>\n",
       "      <td>What the?</td>\n",
       "      <td>One!</td>\n",
       "      <td>Wu!</td>\n",
       "    </tr>\n",
       "    <tr>\n",
       "      <th>...</th>\n",
       "      <td>...</td>\n",
       "      <td>...</td>\n",
       "      <td>...</td>\n",
       "    </tr>\n",
       "    <tr>\n",
       "      <th>2711</th>\n",
       "      <td>Destiny has cheated me by                     ...</td>\n",
       "      <td>I will marry her now and confine              ...</td>\n",
       "      <td>The use of words expressing                   ...</td>\n",
       "    </tr>\n",
       "    <tr>\n",
       "      <th>2712</th>\n",
       "      <td>No!  Stop! Take my hands!                You e...</td>\n",
       "      <td>By the power vested in me,</td>\n",
       "      <td>I can't believe everyone is                   ...</td>\n",
       "    </tr>\n",
       "    <tr>\n",
       "      <th>2713</th>\n",
       "      <td>My hands. My horrible human hands.            ...</td>\n",
       "      <td>Surgery in an opera? How wonderfully          ...</td>\n",
       "      <td>No!  Stop! Take my hands!                You e...</td>\n",
       "    </tr>\n",
       "    <tr>\n",
       "      <th>2714</th>\n",
       "      <td>But I can't play anymore.</td>\n",
       "      <td>Less reality, more fantasy. Resume the        ...</td>\n",
       "      <td>Huh?</td>\n",
       "    </tr>\n",
       "    <tr>\n",
       "      <th>2715</th>\n",
       "      <td>Ah! Ooo, ah, whoa, hey!</td>\n",
       "      <td>Yes you can. The beauty was                   ...</td>\n",
       "      <td>But I can't play anymore.</td>\n",
       "    </tr>\n",
       "  </tbody>\n",
       "</table>\n",
       "<p>2716 rows × 3 columns</p>\n",
       "</div>"
      ],
      "text/plain": [
       "                                               response  \\\n",
       "0                     And that's how you play the game!   \n",
       "1                      Michelle, baby! Where you going?   \n",
       "2     I hate my life I hate my life I hate          ...   \n",
       "3     Hello? Pizza delivery for......Icy Wiener?!   ...   \n",
       "4                                             What the?   \n",
       "...                                                 ...   \n",
       "2711  Destiny has cheated me by                     ...   \n",
       "2712  No!  Stop! Take my hands!                You e...   \n",
       "2713  My hands. My horrible human hands.            ...   \n",
       "2714                          But I can't play anymore.   \n",
       "2715                            Ah! Ooo, ah, whoa, hey!   \n",
       "\n",
       "                                                context  \\\n",
       "0     Space. It seems to go on                      ...   \n",
       "1                    Hey, Fry. Pizza goin' out! C'mon!!   \n",
       "2     It's not working out, Fry.   I put your       ...   \n",
       "3                                       Happy new year!   \n",
       "4                                                  One!   \n",
       "...                                                 ...   \n",
       "2711  I will marry her now and confine              ...   \n",
       "2712                         By the power vested in me,   \n",
       "2713  Surgery in an opera? How wonderfully          ...   \n",
       "2714  Less reality, more fantasy. Resume the        ...   \n",
       "2715  Yes you can. The beauty was                   ...   \n",
       "\n",
       "                                              context/0  \n",
       "0     By                             David X. Cohen ...  \n",
       "1                                     You stink, loser!  \n",
       "2                      Michelle, baby! Where you going?  \n",
       "3     I hate my life I hate my life I hate          ...  \n",
       "4                                                   Wu!  \n",
       "...                                                 ...  \n",
       "2711  The use of words expressing                   ...  \n",
       "2712  I can't believe everyone is                   ...  \n",
       "2713  No!  Stop! Take my hands!                You e...  \n",
       "2714                                               Huh?  \n",
       "2715                          But I can't play anymore.  \n",
       "\n",
       "[2716 rows x 3 columns]"
      ]
     },
     "execution_count": 23,
     "metadata": {},
     "output_type": "execute_result"
    }
   ],
   "source": [
    "character_df"
   ]
  },
  {
   "cell_type": "code",
   "execution_count": 24,
   "id": "d768e98d",
   "metadata": {},
   "outputs": [],
   "source": [
    "character_path = os.path.join(base_folder, \"Datasets\", \"Characters\", character)\n",
    "if not os.path.exists(character_path):\n",
    "    os.makedirs(character_path)\n",
    "character_df.to_csv(os.path.join(character_path, character+\".csv\"), index=False)"
   ]
  }
 ],
 "metadata": {
  "kernelspec": {
   "display_name": "Python 3",
   "language": "python",
   "name": "python3"
  },
  "language_info": {
   "codemirror_mode": {
    "name": "ipython",
    "version": 3
   },
   "file_extension": ".py",
   "mimetype": "text/x-python",
   "name": "python",
   "nbconvert_exporter": "python",
   "pygments_lexer": "ipython3",
   "version": "3.8.8"
  }
 },
 "nbformat": 4,
 "nbformat_minor": 5
}
