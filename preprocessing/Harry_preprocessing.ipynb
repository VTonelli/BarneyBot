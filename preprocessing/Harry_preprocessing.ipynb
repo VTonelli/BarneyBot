{
 "cells": [
  {
   "cell_type": "code",
   "execution_count": 1,
   "id": "19689117",
   "metadata": {},
   "outputs": [],
   "source": [
    "import os\n",
    "import pandas as pd\n",
    "from tqdm import tqdm\n",
    "import re"
   ]
  },
  {
   "cell_type": "code",
   "execution_count": 2,
   "id": "e6812c0b",
   "metadata": {},
   "outputs": [],
   "source": [
    "# Mount google drive (for Colab only)\n",
    "try:\n",
    "    import google.colab\n",
    "    IN_COLAB = True\n",
    "except:\n",
    "    IN_COLAB = False\n",
    "if IN_COLAB:\n",
    "    from google.colab import drive\n",
    "    drive.mount('/content/drive',force_remount=True)\n",
    "    base_folder = '/content/drive/My Drive/unibo/NLP_project/BarneyBot'\n",
    "else:\n",
    "    base_folder = os.path.abspath(os.path.join(os.getcwd(), os.pardir))\n",
    "    \n",
    "in_folder = os.path.join(base_folder, \"in\")\n",
    "if not os.path.exists(in_folder):\n",
    "    os.makedirs(in_folder)"
   ]
  },
  {
   "cell_type": "markdown",
   "id": "f9f7f602",
   "metadata": {},
   "source": [
    "# Read and merge datasets"
   ]
  },
  {
   "cell_type": "code",
   "execution_count": 3,
   "id": "27db9d51",
   "metadata": {},
   "outputs": [],
   "source": [
    "csv_folder = os.path.join(base_folder, 'Datasets', 'Characters', 'Harry')\n",
    "sep = ';'\n",
    "harry_df_1 = pd.read_csv(os.path.join(csv_folder, 'Harry Potter 1.csv'), sep=sep)\n",
    "harry_df_2 = pd.read_csv(os.path.join(csv_folder, 'Harry Potter 2.csv'), sep=sep)\n",
    "harry_df_3 = pd.read_csv(os.path.join(csv_folder, 'Harry Potter 3.csv'), sep=sep)"
   ]
  },
  {
   "cell_type": "code",
   "execution_count": 4,
   "id": "db9e30eb",
   "metadata": {},
   "outputs": [],
   "source": [
    "harry_df = harry_df_1.rename(columns = lambda x: x.lower())\n",
    "harry_df = harry_df.append(harry_df_2.rename(columns = lambda x: x.lower()))\n",
    "harry_df = harry_df.append(harry_df_3.rename(columns = lambda x: x.lower()))"
   ]
  },
  {
   "cell_type": "code",
   "execution_count": 5,
   "id": "9f17348b",
   "metadata": {
    "scrolled": true
   },
   "outputs": [
    {
     "data": {
      "text/html": [
       "<div>\n",
       "<style scoped>\n",
       "    .dataframe tbody tr th:only-of-type {\n",
       "        vertical-align: middle;\n",
       "    }\n",
       "\n",
       "    .dataframe tbody tr th {\n",
       "        vertical-align: top;\n",
       "    }\n",
       "\n",
       "    .dataframe thead th {\n",
       "        text-align: right;\n",
       "    }\n",
       "</style>\n",
       "<table border=\"1\" class=\"dataframe\">\n",
       "  <thead>\n",
       "    <tr style=\"text-align: right;\">\n",
       "      <th></th>\n",
       "      <th>character</th>\n",
       "      <th>line</th>\n",
       "    </tr>\n",
       "  </thead>\n",
       "  <tbody>\n",
       "    <tr>\n",
       "      <th>0</th>\n",
       "      <td>Dumbledore</td>\n",
       "      <td>I should've known that you would be here, Prof...</td>\n",
       "    </tr>\n",
       "    <tr>\n",
       "      <th>1</th>\n",
       "      <td>McGonagall</td>\n",
       "      <td>Good evening, Professor Dumbledore.</td>\n",
       "    </tr>\n",
       "    <tr>\n",
       "      <th>2</th>\n",
       "      <td>McGonagall</td>\n",
       "      <td>Are the rumors true, Albus?</td>\n",
       "    </tr>\n",
       "    <tr>\n",
       "      <th>3</th>\n",
       "      <td>Dumbledore</td>\n",
       "      <td>I'm afraid so, professor.</td>\n",
       "    </tr>\n",
       "    <tr>\n",
       "      <th>4</th>\n",
       "      <td>Dumbledore</td>\n",
       "      <td>The good and the bad.</td>\n",
       "    </tr>\n",
       "    <tr>\n",
       "      <th>...</th>\n",
       "      <td>...</td>\n",
       "      <td>...</td>\n",
       "    </tr>\n",
       "    <tr>\n",
       "      <th>1633</th>\n",
       "      <td>HERMIONE</td>\n",
       "      <td>How fast is it, Harry?</td>\n",
       "    </tr>\n",
       "    <tr>\n",
       "      <th>1634</th>\n",
       "      <td>HARRY</td>\n",
       "      <td>Lumos.</td>\n",
       "    </tr>\n",
       "    <tr>\n",
       "      <th>1635</th>\n",
       "      <td>HARRY</td>\n",
       "      <td>I solemnly swear that I am up to no good.</td>\n",
       "    </tr>\n",
       "    <tr>\n",
       "      <th>1636</th>\n",
       "      <td>HARRY</td>\n",
       "      <td>Mischief managed.</td>\n",
       "    </tr>\n",
       "    <tr>\n",
       "      <th>1637</th>\n",
       "      <td>HARRY</td>\n",
       "      <td>Nox.</td>\n",
       "    </tr>\n",
       "  </tbody>\n",
       "</table>\n",
       "<p>4925 rows × 2 columns</p>\n",
       "</div>"
      ],
      "text/plain": [
       "       character                                               line\n",
       "0     Dumbledore  I should've known that you would be here, Prof...\n",
       "1     McGonagall                Good evening, Professor Dumbledore.\n",
       "2     McGonagall                        Are the rumors true, Albus?\n",
       "3     Dumbledore                          I'm afraid so, professor.\n",
       "4     Dumbledore                              The good and the bad.\n",
       "...          ...                                                ...\n",
       "1633    HERMIONE                             How fast is it, Harry?\n",
       "1634       HARRY                                             Lumos.\n",
       "1635       HARRY          I solemnly swear that I am up to no good.\n",
       "1636       HARRY                                  Mischief managed.\n",
       "1637       HARRY                                               Nox.\n",
       "\n",
       "[4925 rows x 2 columns]"
      ]
     },
     "execution_count": 5,
     "metadata": {},
     "output_type": "execute_result"
    }
   ],
   "source": [
    "harry_df = harry_df.rename(columns = {'character':'character', 'sentence':'line'})\n",
    "harry_df"
   ]
  },
  {
   "cell_type": "markdown",
   "id": "5d48259e",
   "metadata": {},
   "source": [
    "# Preprocess dataset"
   ]
  },
  {
   "cell_type": "code",
   "execution_count": 6,
   "id": "28a78673",
   "metadata": {},
   "outputs": [],
   "source": [
    "def process_dataset(df):\n",
    "    df['line'] = df['line'].str.strip()\n",
    "    df['line'] = df['line'].str.replace(r\"\\(.*\\)\",\"\")\n",
    "    df['line'] = df['line'].str.replace(r\"[\\/(){}\\[\\]\\|@_#]|\\\\t|\\\\n\",\" \")\n",
    "    df['line'] = df['line'].str.replace(r\"[^.\\',;:?!0-9a-zA-Z \\-]\",\"\")\n",
    "    df = df[~df['line'].isnull()]\n",
    "    df = df.dropna()\n",
    "    df['line'] = df['line'].str.strip()\n",
    "    df['character'] = df['character'].str.capitalize()\n",
    "    df = df[~df['line'].isnull()]\n",
    "    df = df.dropna()\n",
    "    df = df.reset_index(drop=True)\n",
    "    return df"
   ]
  },
  {
   "cell_type": "code",
   "execution_count": 7,
   "id": "92b23c22",
   "metadata": {
    "scrolled": false
   },
   "outputs": [
    {
     "name": "stderr",
     "output_type": "stream",
     "text": [
      "<ipython-input-6-2277fc3ac208>:3: FutureWarning: The default value of regex will change from True to False in a future version.\n",
      "  df['line'] = df['line'].str.replace(r\"\\(.*\\)\",\"\")\n",
      "<ipython-input-6-2277fc3ac208>:4: FutureWarning: The default value of regex will change from True to False in a future version.\n",
      "  df['line'] = df['line'].str.replace(r\"[\\/(){}\\[\\]\\|@_#]|\\\\t|\\\\n\",\" \")\n",
      "<ipython-input-6-2277fc3ac208>:5: FutureWarning: The default value of regex will change from True to False in a future version.\n",
      "  df['line'] = df['line'].str.replace(r\"[^.\\',;:?!0-9a-zA-Z \\-]\",\"\")\n"
     ]
    },
    {
     "data": {
      "text/html": [
       "<div>\n",
       "<style scoped>\n",
       "    .dataframe tbody tr th:only-of-type {\n",
       "        vertical-align: middle;\n",
       "    }\n",
       "\n",
       "    .dataframe tbody tr th {\n",
       "        vertical-align: top;\n",
       "    }\n",
       "\n",
       "    .dataframe thead th {\n",
       "        text-align: right;\n",
       "    }\n",
       "</style>\n",
       "<table border=\"1\" class=\"dataframe\">\n",
       "  <thead>\n",
       "    <tr style=\"text-align: right;\">\n",
       "      <th></th>\n",
       "      <th>character</th>\n",
       "      <th>line</th>\n",
       "    </tr>\n",
       "  </thead>\n",
       "  <tbody>\n",
       "    <tr>\n",
       "      <th>0</th>\n",
       "      <td>Dumbledore</td>\n",
       "      <td>I should've known that you would be here, Prof...</td>\n",
       "    </tr>\n",
       "    <tr>\n",
       "      <th>1</th>\n",
       "      <td>Mcgonagall</td>\n",
       "      <td>Good evening, Professor Dumbledore.</td>\n",
       "    </tr>\n",
       "    <tr>\n",
       "      <th>2</th>\n",
       "      <td>Mcgonagall</td>\n",
       "      <td>Are the rumors true, Albus?</td>\n",
       "    </tr>\n",
       "    <tr>\n",
       "      <th>3</th>\n",
       "      <td>Dumbledore</td>\n",
       "      <td>I'm afraid so, professor.</td>\n",
       "    </tr>\n",
       "    <tr>\n",
       "      <th>4</th>\n",
       "      <td>Dumbledore</td>\n",
       "      <td>The good and the bad.</td>\n",
       "    </tr>\n",
       "    <tr>\n",
       "      <th>...</th>\n",
       "      <td>...</td>\n",
       "      <td>...</td>\n",
       "    </tr>\n",
       "    <tr>\n",
       "      <th>4920</th>\n",
       "      <td>Hermione</td>\n",
       "      <td>How fast is it, Harry?</td>\n",
       "    </tr>\n",
       "    <tr>\n",
       "      <th>4921</th>\n",
       "      <td>Harry</td>\n",
       "      <td>Lumos.</td>\n",
       "    </tr>\n",
       "    <tr>\n",
       "      <th>4922</th>\n",
       "      <td>Harry</td>\n",
       "      <td>I solemnly swear that I am up to no good.</td>\n",
       "    </tr>\n",
       "    <tr>\n",
       "      <th>4923</th>\n",
       "      <td>Harry</td>\n",
       "      <td>Mischief managed.</td>\n",
       "    </tr>\n",
       "    <tr>\n",
       "      <th>4924</th>\n",
       "      <td>Harry</td>\n",
       "      <td>Nox.</td>\n",
       "    </tr>\n",
       "  </tbody>\n",
       "</table>\n",
       "<p>4925 rows × 2 columns</p>\n",
       "</div>"
      ],
      "text/plain": [
       "       character                                               line\n",
       "0     Dumbledore  I should've known that you would be here, Prof...\n",
       "1     Mcgonagall                Good evening, Professor Dumbledore.\n",
       "2     Mcgonagall                        Are the rumors true, Albus?\n",
       "3     Dumbledore                          I'm afraid so, professor.\n",
       "4     Dumbledore                              The good and the bad.\n",
       "...          ...                                                ...\n",
       "4920    Hermione                             How fast is it, Harry?\n",
       "4921       Harry                                             Lumos.\n",
       "4922       Harry          I solemnly swear that I am up to no good.\n",
       "4923       Harry                                  Mischief managed.\n",
       "4924       Harry                                               Nox.\n",
       "\n",
       "[4925 rows x 2 columns]"
      ]
     },
     "execution_count": 7,
     "metadata": {},
     "output_type": "execute_result"
    }
   ],
   "source": [
    "harry_df = process_dataset(harry_df)\n",
    "harry_df"
   ]
  },
  {
   "cell_type": "code",
   "execution_count": 11,
   "id": "f69ebaf8",
   "metadata": {},
   "outputs": [
    {
     "name": "stdout",
     "output_type": "stream",
     "text": [
      "Number of lines longer than 512:\n",
      "0\n"
     ]
    }
   ],
   "source": [
    "print('Number of lines longer than 512:')\n",
    "print(len([x for x in harry_df['line'] if len(x)>=512]))"
   ]
  },
  {
   "cell_type": "markdown",
   "id": "4f961765",
   "metadata": {},
   "source": [
    "# Select character"
   ]
  },
  {
   "cell_type": "code",
   "execution_count": null,
   "id": "12b88f0e",
   "metadata": {},
   "outputs": [],
   "source": [
    "# take a first overview of lines for each character\n",
    "char_lines = [(character, len(harry_df['character'][harry_df['character']==character])) for character in harry_df['character'].unique()]\n",
    "char_lines_df = pd.DataFrame(char_lines, columns = ['character', '# lines']).sort_values(by=['# lines'], ascending=False).reset_index(drop=True)\n",
    "char_lines_df"
   ]
  },
  {
   "cell_type": "code",
   "execution_count": null,
   "id": "d238121f",
   "metadata": {},
   "outputs": [],
   "source": [
    "# select character\n",
    "character = 'Harry'"
   ]
  },
  {
   "cell_type": "code",
   "execution_count": null,
   "id": "9d1c8f75",
   "metadata": {},
   "outputs": [],
   "source": [
    "character_names = set([c for c in harry_df['character'] if character.lower() in c.lower()])\n",
    "print(character_names)"
   ]
  },
  {
   "cell_type": "code",
   "execution_count": null,
   "id": "9c2fab82",
   "metadata": {},
   "outputs": [],
   "source": [
    "# manually remove different characters from the set\n",
    "# in this case not necessary\n",
    "# character_names = character_names - set(['Mrs fry', 'Mr fry', 'Luck of the fryrish'])\n",
    "# print(character_names)"
   ]
  },
  {
   "cell_type": "code",
   "execution_count": null,
   "id": "ada4bb8e",
   "metadata": {},
   "outputs": [],
   "source": [
    "harry_df['character'] = harry_df['character'].apply(lambda x: character if x in character_names else x)"
   ]
  },
  {
   "cell_type": "code",
   "execution_count": null,
   "id": "ccedff07",
   "metadata": {},
   "outputs": [],
   "source": [
    "# check again the set of characters containing the name of the selected one\n",
    "# now they actually must correspond to different characters\n",
    "set([c for c in harry_df['character'] if character.lower() in c.lower()])"
   ]
  },
  {
   "cell_type": "code",
   "execution_count": null,
   "id": "f88d9cef",
   "metadata": {},
   "outputs": [],
   "source": [
    "# compare the number of lines before and after the merge\n",
    "n_before = int(char_lines_df[char_lines_df['character']==character]['# lines'])\n",
    "n_after = len(harry_df['character'][harry_df['character']==character])\n",
    "df_lines_overview = pd.DataFrame(\n",
    "    [{'':'Before merging', 'lines': n_before},\n",
    "    {'':'After merging', 'lines': n_after},\n",
    "    {'':'Gained', 'lines': n_after-n_before}]\n",
    ")\n",
    "df_lines_overview"
   ]
  },
  {
   "cell_type": "markdown",
   "id": "e8a3080e",
   "metadata": {},
   "source": [
    "# Get character dataset"
   ]
  },
  {
   "cell_type": "code",
   "execution_count": null,
   "id": "433f75d0",
   "metadata": {},
   "outputs": [],
   "source": [
    "# NOTE: May consider feeding one sentence and one Sheldon reply or multiple sentences encoded with one Sheldon reply\n",
    "def get_character(df, character, level=2):\n",
    "    df_rows = []\n",
    "    idxs = df[df['character'] == character].index\n",
    "    df_rows = []\n",
    "    for i in idxs:\n",
    "        l = []\n",
    "        l.append(df['line'][i])\n",
    "        for j in range(0,level):\n",
    "            line = max(i-j-1,0)\n",
    "            l.append(df['line'][line])\n",
    "        df_rows.append(l)\n",
    "    df = pd.DataFrame(df_rows, columns=['response', 'context', 'context/0'])\n",
    "    return df"
   ]
  },
  {
   "cell_type": "code",
   "execution_count": null,
   "id": "0aacb0d6",
   "metadata": {},
   "outputs": [],
   "source": [
    "character_df = get_character(harry_df, character)"
   ]
  },
  {
   "cell_type": "code",
   "execution_count": null,
   "id": "468b483e",
   "metadata": {},
   "outputs": [],
   "source": [
    "character_df"
   ]
  },
  {
   "cell_type": "code",
   "execution_count": null,
   "id": "656bdca8",
   "metadata": {},
   "outputs": [],
   "source": [
    "character_path = os.path.join(base_folder, \"Datasets\", \"Characters\", character)\n",
    "if not os.path.exists(character_path):\n",
    "    os.makedirs(character_path)\n",
    "character_df.to_csv(os.path.join(character_path, character+\".csv\"), index=False)"
   ]
  }
 ],
 "metadata": {
  "kernelspec": {
   "display_name": "Python 3",
   "language": "python",
   "name": "python3"
  },
  "language_info": {
   "codemirror_mode": {
    "name": "ipython",
    "version": 3
   },
   "file_extension": ".py",
   "mimetype": "text/x-python",
   "name": "python",
   "nbconvert_exporter": "python",
   "pygments_lexer": "ipython3",
   "version": "3.8.8"
  }
 },
 "nbformat": 4,
 "nbformat_minor": 5
}
