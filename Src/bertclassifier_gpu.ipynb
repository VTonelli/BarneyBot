{
 "cells": [
  {
   "cell_type": "code",
   "execution_count": null,
   "metadata": {},
   "outputs": [],
   "source": [
    "from lib.metrics.distil_bert_classifier import DistilBertClassifier\n",
    "\n",
    "from os.path import join"
   ]
  },
  {
   "cell_type": "code",
   "execution_count": null,
   "metadata": {},
   "outputs": [],
   "source": [
    "# from sentence_transformers.SentenceTransformer import SentenceTransformer\n",
    "# test_model = SentenceTransformer('distilbert-base-nli-mean-tokens')\n",
    "# list(list(test_model.children())[0].children())"
   ]
  },
  {
   "cell_type": "code",
   "execution_count": null,
   "metadata": {},
   "outputs": [],
   "source": [
    "model_path = join('..', 'Metrics', 'distilbert_embedder')\n",
    "characters_path = join('..', 'Data', 'Characters')"
   ]
  },
  {
   "cell_type": "code",
   "execution_count": null,
   "metadata": {},
   "outputs": [],
   "source": [
    "# for n in range(0,10,2):\n",
    "#     model_path_n = model_path + f'_n_{n}'\n",
    "#     model = DistilBertClassifier(\n",
    "#         embedder_path=model_path_n,\n",
    "#         from_pretrained=False,\n",
    "#         use_cuda=True,\n",
    "#     )\n",
    "\n",
    "#     model.train(\n",
    "#         characters_path=characters_path,\n",
    "#         model_path=model_path_n,\n",
    "#         train_embedder=True,\n",
    "#         override_data=True,\n",
    "#         n_sentences=n,\n",
    "#         verbose=True,\n",
    "#         test=True,\n",
    "#     )\n"
   ]
  },
  {
   "cell_type": "code",
   "execution_count": null,
   "metadata": {},
   "outputs": [],
   "source": [
    "model = DistilBertClassifier(\n",
    "    embedder_path=model_path, \n",
    "    from_pretrained=False,\n",
    "    use_cuda=True\n",
    ")"
   ]
  },
  {
   "cell_type": "code",
   "execution_count": null,
   "metadata": {},
   "outputs": [],
   "source": [
    "model.train(\n",
    "    characters_path=characters_path,\n",
    "    model_path=model_path,\n",
    "    train_embedder=True,\n",
    "    test=True,\n",
    "    override_data=True,\n",
    "    n_sentences=5,\n",
    "    verbose=True\n",
    ")"
   ]
  }
 ],
 "metadata": {
  "kernelspec": {
   "display_name": "Python 3.9.16 ('venv': venv)",
   "language": "python",
   "name": "python3"
  },
  "language_info": {
   "codemirror_mode": {
    "name": "ipython",
    "version": 3
   },
   "file_extension": ".py",
   "mimetype": "text/x-python",
   "name": "python",
   "nbconvert_exporter": "python",
   "pygments_lexer": "ipython3",
   "version": "3.9.16"
  },
  "orig_nbformat": 4,
  "vscode": {
   "interpreter": {
    "hash": "862bf6c6866a0b1319b53c6e5a29a75b33878efcb9dba1b30defadb04ff66dc2"
   }
  }
 },
 "nbformat": 4,
 "nbformat_minor": 2
}
