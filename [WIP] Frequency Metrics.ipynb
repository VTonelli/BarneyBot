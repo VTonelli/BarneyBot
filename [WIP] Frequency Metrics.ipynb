{
 "cells": [
  {
   "cell_type": "markdown",
   "metadata": {},
   "source": [
    "# Setup"
   ]
  },
  {
   "cell_type": "code",
   "execution_count": 3,
   "metadata": {},
   "outputs": [],
   "source": [
    "from Data.data_dicts import character_dict\n",
    "\n",
    "import pandas as pd\n",
    "from tqdm import tqdm\n",
    "import re\n",
    "import numpy as np\n",
    "import matplotlib.pyplot as plt"
   ]
  },
  {
   "cell_type": "code",
   "execution_count": 4,
   "metadata": {},
   "outputs": [],
   "source": [
    "characters = list(character_dict.keys())\n",
    "characters.remove('Default')"
   ]
  },
  {
   "cell_type": "code",
   "execution_count": 5,
   "metadata": {},
   "outputs": [],
   "source": [
    "# Mount google drive, if in Colaboratory environment\n",
    "import os\n",
    "try:\n",
    "    import google.colab\n",
    "    IN_COLAB = True\n",
    "except:\n",
    "    IN_COLAB = False\n",
    "if IN_COLAB:\n",
    "    from google.colab import drive\n",
    "    drive.mount('/content/drive',force_remount=True)\n",
    "    base_folder = '/content/drive/My Drive/unibo/NLP_project/BarneyBot'\n",
    "    os.system(\"pip install datasets\")\n",
    "    os.system(\"pip install transformers\")\n",
    "    os.system(\"pip install rouge_score\")\n",
    "    os.system(\"pip install -U sentence-transformers\")\n",
    "else:\n",
    "    base_folder = os.getcwd()\n",
    "\n",
    "# Define input and output folders for chosen character\n",
    "in_folder = os.path.join(base_folder, 'Data', 'Characters')\n",
    "if not os.path.exists(in_folder):\n",
    "    os.makedirs(in_folder)"
   ]
  },
  {
   "cell_type": "code",
   "execution_count": 19,
   "metadata": {},
   "outputs": [],
   "source": [
    "from sklearn.feature_extraction.text import TfidfVectorizer\n",
    "import nltk\n",
    "from nltk.corpus import stopwords"
   ]
  },
  {
   "cell_type": "code",
   "execution_count": 7,
   "metadata": {},
   "outputs": [],
   "source": [
    "character_docs = dict()\n",
    "for character in characters:\n",
    "    df = pd.read_csv(os.path.join(in_folder, character, f'{character}.csv'))\n",
    "    character_docs[character] = df['response'].tolist()"
   ]
  },
  {
   "cell_type": "code",
   "execution_count": 8,
   "metadata": {},
   "outputs": [
    {
     "name": "stderr",
     "output_type": "stream",
     "text": [
      "100%|███████████████████████████████████████████████████████████████████████████| 5194/5194 [00:00<00:00, 97234.59it/s]\n",
      "100%|████████████████████████████████████████████████████████████████████████| 11642/11642 [00:00<00:00, 100445.32it/s]\n",
      "100%|███████████████████████████████████████████████████████████████████████████| 1037/1037 [00:00<00:00, 66457.24it/s]\n",
      "100%|██████████████████████████████████████████████████████████████████████████| 2716/2716 [00:00<00:00, 173471.95it/s]\n",
      "100%|███████████████████████████████████████████████████████████████████████████| 2388/2388 [00:00<00:00, 76493.03it/s]\n",
      "100%|████████████████████████████████████████████████████████████████████████████████████████| 160/160 [00:00<?, ?it/s]\n",
      "100%|██████████████████████████████████████████████████████████████████████████| 8229/8229 [00:00<00:00, 131611.28it/s]\n",
      "100%|██████████████████████████████████████████████████████████████████████████| 7476/7476 [00:00<00:00, 140016.15it/s]\n"
     ]
    }
   ],
   "source": [
    "for character in characters:\n",
    "    for i in tqdm(range(len(character_docs[character]))):\n",
    "        character_docs[character][i] = re.sub(r'[^A-Za-z\\s]', ' ', character_docs[character][i])\n",
    "        character_docs[character][i] = re.sub(r'\\s+', ' ', character_docs[character][i])"
   ]
  },
  {
   "cell_type": "code",
   "execution_count": 9,
   "metadata": {},
   "outputs": [],
   "source": [
    "def filter_by_weights(wordweights, mass):\n",
    "    N = sum([v for v in wordweights.values()])\n",
    "    n = 0\n",
    "    filteredfreq = dict()\n",
    "    for key, value in sorted(wordweights.items(), key=lambda k: k[1], reverse=True):\n",
    "        n += value\n",
    "        if n / N < mass:\n",
    "            filteredfreq[key] = value\n",
    "    return filteredfreq"
   ]
  },
  {
   "cell_type": "markdown",
   "metadata": {},
   "source": [
    "# Word Frequency"
   ]
  },
  {
   "cell_type": "code",
   "execution_count": 10,
   "metadata": {},
   "outputs": [],
   "source": [
    "def get_word_frequency(doc):\n",
    "    wordlist = doc.lower().split()\n",
    "    _temp = list()\n",
    "    words = set(wordlist)\n",
    "    wordfreq = {w: wordlist.count(w) for w in words}\n",
    "    orderedfreq = dict()\n",
    "    print(\"Removing stopwords\")\n",
    "    for k, v in tqdm(sorted(wordfreq.items(), key=lambda k: k[1], reverse=True)):\n",
    "        if k not in stopwords.words():\n",
    "            orderedfreq[k] = v\n",
    "    return orderedfreq"
   ]
  },
  {
   "cell_type": "code",
   "execution_count": 200,
   "metadata": {},
   "outputs": [
    {
     "name": "stdout",
     "output_type": "stream",
     "text": [
      "Removing stopwords\n"
     ]
    },
    {
     "name": "stderr",
     "output_type": "stream",
     "text": [
      "100%|█████████████████████████████████████████████████████████████████████████████| 6539/6539 [01:01<00:00, 105.51it/s]\n"
     ]
    },
    {
     "name": "stdout",
     "output_type": "stream",
     "text": [
      "Removing stopwords\n"
     ]
    },
    {
     "name": "stderr",
     "output_type": "stream",
     "text": [
      "100%|███████████████████████████████████████████████████████████████████████████| 13902/13902 [02:03<00:00, 112.78it/s]\n"
     ]
    },
    {
     "name": "stdout",
     "output_type": "stream",
     "text": [
      "Removing stopwords\n"
     ]
    },
    {
     "name": "stderr",
     "output_type": "stream",
     "text": [
      "100%|█████████████████████████████████████████████████████████████████████████████| 1002/1002 [00:09<00:00, 110.60it/s]\n"
     ]
    },
    {
     "name": "stdout",
     "output_type": "stream",
     "text": [
      "Removing stopwords\n"
     ]
    },
    {
     "name": "stderr",
     "output_type": "stream",
     "text": [
      "100%|█████████████████████████████████████████████████████████████████████████████| 3698/3698 [00:33<00:00, 111.69it/s]\n"
     ]
    },
    {
     "name": "stdout",
     "output_type": "stream",
     "text": [
      "Removing stopwords\n"
     ]
    },
    {
     "name": "stderr",
     "output_type": "stream",
     "text": [
      "100%|█████████████████████████████████████████████████████████████████████████████| 3994/3994 [00:36<00:00, 110.08it/s]\n"
     ]
    },
    {
     "name": "stdout",
     "output_type": "stream",
     "text": [
      "Removing stopwords\n"
     ]
    },
    {
     "name": "stderr",
     "output_type": "stream",
     "text": [
      "100%|███████████████████████████████████████████████████████████████████████████████| 576/576 [00:05<00:00, 108.03it/s]\n"
     ]
    },
    {
     "name": "stdout",
     "output_type": "stream",
     "text": [
      "Removing stopwords\n"
     ]
    },
    {
     "name": "stderr",
     "output_type": "stream",
     "text": [
      "100%|█████████████████████████████████████████████████████████████████████████████| 5314/5314 [00:47<00:00, 112.59it/s]\n"
     ]
    },
    {
     "name": "stdout",
     "output_type": "stream",
     "text": [
      "Removing stopwords\n"
     ]
    },
    {
     "name": "stderr",
     "output_type": "stream",
     "text": [
      "100%|█████████████████████████████████████████████████████████████████████████████| 5454/5454 [00:47<00:00, 113.87it/s]\n"
     ]
    }
   ],
   "source": [
    "wordfreqs = dict()\n",
    "for character in characters:\n",
    "    wordfreqs[character] = get_word_frequency(' '.join(character_docs[character]))"
   ]
  },
  {
   "cell_type": "code",
   "execution_count": 211,
   "metadata": {},
   "outputs": [],
   "source": [
    "wordfreqs_reduced = dict()\n",
    "for character in characters:\n",
    "    wordfreqs_reduced[character] = filter_by_weights(wordfreqs[character], mass=0.3)"
   ]
  },
  {
   "cell_type": "markdown",
   "metadata": {},
   "source": [
    "# TF-IDF"
   ]
  },
  {
   "cell_type": "code",
   "execution_count": 11,
   "metadata": {},
   "outputs": [],
   "source": [
    "tfidf_vectorizer = TfidfVectorizer(input='content', stop_words='english')\n",
    "\n",
    "def get_tfidfs(docs, characters, vectorizer):\n",
    "    tfidf_matrix = tfidf_vectorizer.fit_transform(docs)\n",
    "    tfidf_df = pd.DataFrame(tfidf_matrix.toarray(), index=characters, columns=tfidf_vectorizer.get_feature_names())\n",
    "    tfidfs = dict()\n",
    "    for i in range(len(characters)):\n",
    "        tfidf_char = tfidf_df.loc[characters[i]].to_dict()\n",
    "        tfidfs[characters[i]] = dict()\n",
    "        for key, value in sorted(tfidf_char.items(), key=lambda k: k[1], reverse=True):\n",
    "            tfidfs[characters[i]][key] = value\n",
    "    return tfidfs"
   ]
  },
  {
   "cell_type": "code",
   "execution_count": null,
   "metadata": {},
   "outputs": [],
   "source": [
    "tfidfs = get_tfidfs([' '.join(character_docs[character]) for character in characters], characters, tfidf_vectorizer)"
   ]
  },
  {
   "cell_type": "code",
   "execution_count": 215,
   "metadata": {},
   "outputs": [],
   "source": [
    "tfidfs_reduced = dict()\n",
    "for character in characters:\n",
    "    tfidfs_reduced[character] = filter_by_weights(tfidfs[character], mass=0.3)"
   ]
  },
  {
   "cell_type": "markdown",
   "metadata": {},
   "source": [
    "# WordCloud Plot"
   ]
  },
  {
   "cell_type": "code",
   "execution_count": 12,
   "metadata": {},
   "outputs": [],
   "source": [
    "from wordcloud import WordCloud\n",
    "\n",
    "def plot_word_cloud(freqdict, cmap='viridis', title=None, plot=False):\n",
    "    wordcloud = WordCloud(background_color = 'black', width = 800, height = 400,\n",
    "                      colormap = cmap, max_words = 180, contour_width = 3,\n",
    "                      max_font_size = 80, contour_color = 'steelblue',\n",
    "                      random_state = 0)\n",
    "\n",
    "    wordcloud.generate_from_frequencies(freqdict)\n",
    "    if title:\n",
    "        plt.title(title)\n",
    "    plt.imshow(wordcloud, interpolation = 'bilinear')\n",
    "    plt.axis(\"off\")\n",
    "    plt.figure()"
   ]
  },
  {
   "cell_type": "code",
   "execution_count": 248,
   "metadata": {},
   "outputs": [
    {
     "data": {
      "image/png": "[encoded data removed]",
      "text/plain": [
       "<Figure size 432x288 with 1 Axes>"
      ]
     },
     "metadata": {
      "needs_background": "light"
     },
     "output_type": "display_data"
    },
    {
     "data": {
      "text/plain": [
       "<Figure size 432x288 with 0 Axes>"
      ]
     },
     "metadata": {},
     "output_type": "display_data"
    }
   ],
   "source": [
    "plot_word_cloud(tfidfs_reduced['Barney'])"
   ]
  },
  {
   "cell_type": "markdown",
   "metadata": {},
   "source": [
    "# Frequency Pairwise Similarity"
   ]
  },
  {
   "cell_type": "code",
   "execution_count": 13,
   "metadata": {},
   "outputs": [],
   "source": [
    "from sklearn.metrics.pairwise import cosine_similarity\n",
    "\n",
    "def freq_pairwise_sim(v1, v2):\n",
    "    wordset = set(v1.keys()).union((v2.keys()))\n",
    "    v1_ord = list()\n",
    "    v2_ord = list()\n",
    "    for w in wordset:\n",
    "        v1_ord.append(v1.get(w, 0.0))\n",
    "        v2_ord.append(v2.get(w, 0.0))\n",
    "    return cosine_similarity(np.array(v1_ord).reshape(1, -1), np.array(v2_ord).reshape(1, -1))[0][0]"
   ]
  },
  {
   "cell_type": "code",
   "execution_count": 235,
   "metadata": {},
   "outputs": [
    {
     "data": {
      "text/plain": [
       "0.435295514926768"
      ]
     },
     "execution_count": 235,
     "metadata": {},
     "output_type": "execute_result"
    }
   ],
   "source": [
    "freq_pairwise_sim(tfidfs_reduced['Fry'], tfidfs_reduced['Barney'])"
   ]
  },
  {
   "cell_type": "markdown",
   "metadata": {},
   "source": [
    "# Frequency Classifier"
   ]
  },
  {
   "cell_type": "code",
   "execution_count": 16,
   "metadata": {},
   "outputs": [],
   "source": [
    "class FrequencyChatbotClassifier:\n",
    "    def __init__(self, characters, mode):\n",
    "        self.characters = characters\n",
    "        if mode != \"word frequency\" and mode != \"tf-idf\":\n",
    "            raise Exception(\"Unknown mode!\")\n",
    "        self.mode = mode\n",
    "        self.loaded = False\n",
    "        self.model = None\n",
    "    \n",
    "    def train(self, docs):\n",
    "        self.model = None\n",
    "        self.loaded = False\n",
    "        if len(docs) != len(self.characters):\n",
    "            raise Exception(\"Mismatch between classifier classes and provided documents!\")\n",
    "        docs = [' '.join(doc) for doc in docs]\n",
    "        if self.mode == 'word frequency':\n",
    "            self.model = dict()\n",
    "            for i in range(len(self.characters)):\n",
    "                self.model[self.characters[i]] = get_word_frequency(docs[i])\n",
    "        elif self.mode == 'tf-idf':\n",
    "            self.model = {'vectorizer': TfidfVectorizer(input='content', stop_words='english'), 'docs': docs}\n",
    "        self.loaded = True\n",
    "    \n",
    "    def predict(self, doc, mass=0.5):\n",
    "        if not self.loaded:\n",
    "            raise Exception(\"Classifier must be trained first!\")\n",
    "        doc = ' '.join(doc)\n",
    "        predictions = dict()\n",
    "        if self.mode == 'word frequency':\n",
    "            v1 = filter_by_weights(get_word_frequency(doc), mass)\n",
    "        elif self.mode == 'tf-idf':\n",
    "            doc_names = self.characters.copy()\n",
    "            doc_names.append('input')\n",
    "            all_docs = self.model['docs'].copy()\n",
    "            all_docs.append(doc)\n",
    "            tfidfs = get_tfidfs(all_docs, doc_names, self.model['vectorizer'])\n",
    "            v1 = filter_by_weights(tfidfs['input'], mass)\n",
    "        for character in self.characters:\n",
    "            if self.mode == 'word frequency':\n",
    "                w = self.model[character]\n",
    "            elif self.mode == 'tf-idf':\n",
    "                w = tfidfs[character]\n",
    "            v2 = filter_by_weights(w, mass)\n",
    "            predictions[character] = freq_pairwise_sim(v1, v2)\n",
    "        return predictions"
   ]
  },
  {
   "cell_type": "code",
   "execution_count": null,
   "metadata": {},
   "outputs": [
    {
     "name": "stdout",
     "output_type": "stream",
     "text": [
      "Removing stopwords\n"
     ]
    },
    {
     "name": "stderr",
     "output_type": "stream",
     "text": [
      "100%|██████████████████████████████████████████████████████████████████████████████| 6539/6539 [01:08<00:00, 95.15it/s]\n"
     ]
    },
    {
     "name": "stdout",
     "output_type": "stream",
     "text": [
      "Removing stopwords\n"
     ]
    },
    {
     "name": "stderr",
     "output_type": "stream",
     "text": [
      "100%|███████████████████████████████████████████████████████████████████████████| 13902/13902 [02:12<00:00, 104.85it/s]\n"
     ]
    },
    {
     "name": "stdout",
     "output_type": "stream",
     "text": [
      "Removing stopwords\n"
     ]
    },
    {
     "name": "stderr",
     "output_type": "stream",
     "text": [
      "100%|█████████████████████████████████████████████████████████████████████████████| 1002/1002 [00:09<00:00, 102.54it/s]\n"
     ]
    },
    {
     "name": "stdout",
     "output_type": "stream",
     "text": [
      "Removing stopwords\n"
     ]
    },
    {
     "name": "stderr",
     "output_type": "stream",
     "text": [
      "100%|█████████████████████████████████████████████████████████████████████████████| 3698/3698 [00:34<00:00, 105.72it/s]\n"
     ]
    },
    {
     "name": "stdout",
     "output_type": "stream",
     "text": [
      "Removing stopwords\n"
     ]
    },
    {
     "name": "stderr",
     "output_type": "stream",
     "text": [
      "100%|█████████████████████████████████████████████████████████████████████████████| 3994/3994 [00:36<00:00, 110.62it/s]\n"
     ]
    },
    {
     "name": "stdout",
     "output_type": "stream",
     "text": [
      "Removing stopwords\n"
     ]
    },
    {
     "name": "stderr",
     "output_type": "stream",
     "text": [
      "100%|███████████████████████████████████████████████████████████████████████████████| 576/576 [00:05<00:00, 112.25it/s]\n"
     ]
    },
    {
     "name": "stdout",
     "output_type": "stream",
     "text": [
      "Removing stopwords\n"
     ]
    },
    {
     "name": "stderr",
     "output_type": "stream",
     "text": [
      "100%|█████████████████████████████████████████████████████████████████████████████| 5314/5314 [00:46<00:00, 114.08it/s]\n"
     ]
    },
    {
     "name": "stdout",
     "output_type": "stream",
     "text": [
      "Removing stopwords\n"
     ]
    },
    {
     "name": "stderr",
     "output_type": "stream",
     "text": [
      " 66%|███████████████████████████████████████████████████▏                         | 3625/5454 [00:32<00:15, 115.03it/s]"
     ]
    }
   ],
   "source": [
    "wf_classifier = FrequencyChatbotClassifier(characters, mode='word frequency')\n",
    "wf_classifier.train(list(character_docs.values()))\n",
    "print(wf_classifier.predict(character_docs['Barney'], mass=0.3))"
   ]
  },
  {
   "cell_type": "code",
   "execution_count": 17,
   "metadata": {},
   "outputs": [
    {
     "name": "stdout",
     "output_type": "stream",
     "text": [
      "{'Barney': 1.0, 'Sheldon': 0.3582397218126455, 'Harry': 0.23040611617980256, 'Fry': 0.4448284289558534, 'Bender': 0.508332521691694, 'Vader': 0.03365333978922289, 'Joey': 0.47151387459357286, 'Phoebe': 0.4847164181944319}\n"
     ]
    }
   ],
   "source": [
    "tfidf_classifier = FrequencyChatbotClassifier(characters, mode='tf-idf')\n",
    "tfidf_classifier.train(list(character_docs.values()))\n",
    "print(tfidf_classifier.predict(character_docs['Barney'], mass=0.3))"
   ]
  },
  {
   "cell_type": "code",
   "execution_count": null,
   "metadata": {},
   "outputs": [],
   "source": []
  }
 ],
 "metadata": {
  "kernelspec": {
   "display_name": "Python 3",
   "language": "python",
   "name": "python3"
  },
  "language_info": {
   "codemirror_mode": {
    "name": "ipython",
    "version": 3
   },
   "file_extension": ".py",
   "mimetype": "text/x-python",
   "name": "python",
   "nbconvert_exporter": "python",
   "pygments_lexer": "ipython3",
   "version": "3.8.5"
  }
 },
 "nbformat": 4,
 "nbformat_minor": 4
}
