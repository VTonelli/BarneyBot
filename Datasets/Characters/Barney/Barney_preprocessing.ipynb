{
 "cells": [
  {
   "cell_type": "code",
   "execution_count": 1,
   "metadata": {},
   "outputs": [],
   "source": [
    "import os\n",
    "import pandas as pd\n",
    "from tqdm import tqdm\n",
    "import re"
   ]
  },
  {
   "cell_type": "code",
   "execution_count": 2,
   "metadata": {},
   "outputs": [],
   "source": [
    "# Mount google drive (for Colab only)\n",
    "try:\n",
    "    import google.colab\n",
    "    IN_COLAB = True\n",
    "except:\n",
    "    IN_COLAB = False\n",
    "if IN_COLAB:\n",
    "    from google.colab import drive\n",
    "    drive.mount('/content/drive',force_remount=True)\n",
    "    base_folder = '/content/drive/My Drive/unibo/NLP_project/BarneyBot'\n",
    "else:\n",
    "    base_folder = os.path.abspath(os.path.join(os.getcwd(), os.pardir))\n",
    "    \n",
    "in_folder = os.path.join(base_folder, \"in\")\n",
    "if not os.path.exists(in_folder):\n",
    "    os.makedirs(in_folder)"
   ]
  },
  {
   "cell_type": "markdown",
   "metadata": {},
   "source": [
    "# Preprocessing"
   ]
  },
  {
   "cell_type": "code",
   "execution_count": 3,
   "metadata": {},
   "outputs": [],
   "source": [
    "# Open the dataset documents and store their data into a DataFrame\n",
    "def load_himym_dataset():\n",
    "    episodes_folder = os.path.join(base_folder, \"Datasets\", \"Sources\", \"HIMYM\", \"Episodes\")\n",
    "    dataframe_rows = []\n",
    "    # Get number of documents and their names\n",
    "    documents_n = len(os.listdir(episodes_folder))\n",
    "    documents_names = os.listdir(episodes_folder)\n",
    "\n",
    "    # Loop over documents\n",
    "    for i in tqdm(range(documents_n)):\n",
    "        filename = documents_names[i]\n",
    "        episode_index = filename[:-4]\n",
    "        # Open document\n",
    "        with open(os.path.join(episodes_folder, filename)) as file:\n",
    "            # Loop over lines (= words)\n",
    "            for line in file.readlines():\n",
    "                    dataframe_row = {\n",
    "                        \"episode\": episode_index,\n",
    "                        \"line\": line,\n",
    "                    }\n",
    "                    dataframe_rows.append(dataframe_row)\n",
    "    # Build the dataframe from the words\n",
    "    df = pd.DataFrame(dataframe_rows)\n",
    "    print(dataframe_rows[:100])\n",
    "    return df"
   ]
  },
  {
   "cell_type": "code",
   "execution_count": 4,
   "metadata": {},
   "outputs": [
    {
     "name": "stderr",
     "output_type": "stream",
     "text": [
      "100%|████████████████████████████████████████████████████████████████████████████████| 208/208 [00:03<00:00, 68.67it/s]"
     ]
    },
    {
     "name": "stdout",
     "output_type": "stream",
     "text": [
      "[{'episode': '01x01', 'line': 'Pilot\\n'}, {'episode': '01x01', 'line': 'Scene One\\n'}, {'episode': '01x01', 'line': '[Title: The Year 2030]\\n'}, {'episode': '01x01', 'line': \"Narrator: Kids, I'm going to tell you an incredible story. The story of how I met your mother\\n\"}, {'episode': '01x01', 'line': 'Son: Are we being punished for something?\\n'}, {'episode': '01x01', 'line': 'Narrator: No\\n'}, {'episode': '01x01', 'line': 'Daughter: Yeah, is this going to take a while?\\n'}, {'episode': '01x01', 'line': 'Narrator: Yes. (Kids are annoyed) Twenty-five years ago, before I was dad, I had this whole other life.\\n'}, {'episode': '01x01', 'line': '(Music Plays, Title \"How I Met Your Mother\" appears)\\n'}, {'episode': '01x01', 'line': 'Narrator: It was way back in 2005. I was twenty-seven just starting to make it as an architect and living in New York with my friend Marshall, my best friend from college. My life was good and then Uncle Marshall went and screwed the whole thing up.\\n'}, {'episode': '01x01', 'line': 'Marshall: (Opens ring) Will you marry me.\\n'}, {'episode': '01x01', 'line': \"Ted: Yes, perfect! And then you're engaged, you pop the champagne! You drink a toast! You have s*x on the kitchen floor... Don't have s*x on our kitchen floor.\\n\"}, {'episode': '01x01', 'line': 'Marshall: Got it. Thanks for helping me plan this out, Ted.\\n'}, {'episode': '01x01', 'line': \"Ted: Dude, are you kidding? It's you and Lily! I've been there for all the big moments of you and Lily. The night you met. Your first date... other first things.\\n\"}, {'episode': '01x01', 'line': 'Marshall: (laughs) yeah, sorry. We thought you were asleep.\\n'}, {'episode': '01x01', 'line': \"Ted: It's physics Marshall, if the bottom bunk moves, the top bunk moves too. My god, you're getting engaged tonight.\\n\"}, {'episode': '01x01', 'line': 'Marshall: Yeah, what are you doing tonight?\\n'}, {'episode': '01x01', 'line': '(Scene Freezes)\\n'}, {'episode': '01x01', 'line': \"Narrator: What was I doing? Your Uncle Marshall was taking the biggest step of his life, and me-I'm calling your Uncle, Barney.\\n\"}, {'episode': '01x01', 'line': \"[Cut to Later: Barney's in the barber shop, Ted's talking from home]\\n\"}, {'episode': '01x01', 'line': \"Barney: (on the phone) hey, so you know how I've always had a thing for half-Asian girls? Well, now I've got a new favorite: Lebanese girls! Lebanese girls are the new half-Asians.\\n\"}, {'episode': '01x01', 'line': 'Ted: Hey, you wanna do something tonight?\\n'}, {'episode': '01x01', 'line': 'Barney: Okay, meet me at the bar in fifteen minutes, and Suit up!\\n'}, {'episode': '01x01', 'line': 'Scene Two\\n'}, {'episode': '01x01', 'line': '(The Bar)\\n'}, {'episode': '01x01', 'line': 'Ted: Hey.\\n'}, {'episode': '01x01', 'line': \"Barney: Where's your suit!? Just once when I say suit up, I wish you'd put on a suit.\\n\"}, {'episode': '01x01', 'line': 'Ted: I did that one time.\\n'}, {'episode': '01x01', 'line': 'Barney: It was a blazer!\\n'}, {'episode': '01x01', 'line': 'Ted: You know, ever since college it\\'s been Marshall and Lily and me. Now it\\'s going to be Marshall and Lily... and me. They\\'ll get married, start a family-before long I\\'m the weird, middle-aged bachelor their kids call \"Uncle Ted\".\\n'}, {'episode': '01x01', 'line': '(Barney hits Ted)\\n'}, {'episode': '01x01', 'line': 'Barney: I see what this is about. Have you forgotten what I said to you the night we met?\\n'}, {'episode': '01x01', 'line': '[Cut to Flashback the night Barney and Ted met]\\n'}, {'episode': '01x01', 'line': '[Still in the Bar]\\n'}, {'episode': '01x01', 'line': '(Ted is talking to another couple; Barney randomly joins them and interrupts)\\n'}, {'episode': '01x01', 'line': \"Barney: Ted, I'm going to teach you how to live. (Ted's shocked) Barney, we met at the urinal.\\n\"}, {'episode': '01x01', 'line': 'Ted: Oh, right. Hi.\\n'}, {'episode': '01x01', 'line': \"Barney: Lesson one, lose the goatee. It doesn't look good with your suit.\\n\"}, {'episode': '01x01', 'line': \"Ted: I'm not wearing a suit.\\n\"}, {'episode': '01x01', 'line': \"Barney: Lesson two, get a suit. Suits are cool. (Points to self with bear bottle in hand) Exhibit A. (Flirts to a woman unseen) Lesson three, don't even think about getting married till you're... thirty.\\n\"}, {'episode': '01x01', 'line': '[Flashback ends]\\n'}, {'episode': '01x01', 'line': \"Ted: Thirty, right. You're right. I guess it's just, you're best friend gets engaged-you start thinking about that stuff.\\n\"}, {'episode': '01x01', 'line': \"Barney: I thought I was your best friend. Ted, say I'm your best friend.\\n\"}, {'episode': '01x01', 'line': \"Ted: You're my best friend, Barney.\\n\"}, {'episode': '01x01', 'line': 'Barney: Good! And as your best friend, I suggest we play a little game called... \"Have you met Ted?\"\\n'}, {'episode': '01x01', 'line': 'Ted: Wai-no, no, no. We\\'re not playing \"Have You Met Ted?\"\\n'}, {'episode': '01x01', 'line': 'Barney: (Taps a woman names Yasmine) Hi, have you met Ted? (Leaves and watches from a distance).\\n'}, {'episode': '01x01', 'line': \"Ted: (To Yasmine) Hi, I'm Ted.\\n\"}, {'episode': '01x01', 'line': 'Yasmine: Yasmine.\\n'}, {'episode': '01x01', 'line': \"Ted: It's a very pretty name.\\n\"}, {'episode': '01x01', 'line': \"Yasmine: Thanks, It's Lebanese.\\n\"}, {'episode': '01x01', 'line': 'Scene Three\\n'}, {'episode': '01x01', 'line': '(The Apartment)\\n'}, {'episode': '01x01', 'line': 'Marshall: Hey!\\n'}, {'episode': '01x01', 'line': \"Lily: Urgh. I'm exhausted. It was finger painting day at school, and a five year old boy (takes coat off revealing a purple hand print on her right breast) got to second base with me. Wow, you're cooking?\\n\"}, {'episode': '01x01', 'line': 'Marshall: Yes, I am.\\n'}, {'episode': '01x01', 'line': \"Lily: Aww-(They kiss) Are you sure that's a good idea after last time? You looked really creepy without eyebrows.\\n\"}, {'episode': '01x01', 'line': \"Marshall: I can handle this; I'm full of surprises tonight.\\n\"}, {'episode': '01x01', 'line': \"Lily: So there's more surprises? Like what?\\n\"}, {'episode': '01x01', 'line': 'Narrator: Marshall was in his second year of law school, so he was pretty good at thinking on his feet.\\n'}, {'episode': '01x01', 'line': \"Marshall: BOOGITY BOO! And that's all of them! I'm goanna go... cook. (Leaves)\\n\"}, {'episode': '01x01', 'line': '[Cut to the bar, Ted is chatting with Yasmine]\\n'}, {'episode': '01x01', 'line': \"Ted: I'm so happy for Marshall, I really am. I just couldn't imagine settling down right now.\\n\"}, {'episode': '01x01', 'line': \"Yasmine: So do you think you'll ever get married?\\n\"}, {'episode': '01x01', 'line': \"Ted: Well maybe eventually. Some fall day. Possibly in Central Park. Simple ceremony, we'll write our own vows. But--eh--no DJ, people will dance. I'm not going to worry about it! Damn it, why did Marshall have to get engaged? (Yasmine laughs) Yeah, nothing hotter than a guy planning out his own imaginary wedding, huh?\\n\"}, {'episode': '01x01', 'line': \"Yasmine: Actually, I think it's cute.\\n\"}, {'episode': '01x01', 'line': \"Ted: Well, you're clearly drunk (pulls her wine glass away. Hold up glass to bartender) ONE MORE FOR THE LADY!\\n\"}, {'episode': '01x01', 'line': '[Cut to Kitchen with Marshall and Lily. Lily has a pan out sautÃ©ing, Marshall jumps off a countertop]\\n'}, {'episode': '01x01', 'line': 'Marshall: Okay, look what I got (runs to the fridge. Takes out wine bottle)\\n'}, {'episode': '01x01', 'line': 'Lily: Aw-honey. Champagne! (hands it to Marshall)\\n'}, {'episode': '01x01', 'line': 'Marshall: (after short silence) Yeah. (hands it back)\\n'}, {'episode': '01x01', 'line': 'Lily: (realizing) No, you are too old to be scared to open a bottle of champagne!\\n'}, {'episode': '01x01', 'line': \"Marshall: I'm not scared.\\n\"}, {'episode': '01x01', 'line': 'Lily: Then open it!\\n'}, {'episode': '01x01', 'line': 'Marshall: Fine (takes bottle. Looks at it for a couple of seconds) Please open it (hands it to Lily)\\n'}, {'episode': '01x01', 'line': 'Lily: You are unbelievable, Marshall. No-(Scene splits in half and shows both Lily and Marshall on top arguing and Ted and Yasmine on the bottom mingling)\\n'}, {'episode': '01x01', 'line': \"Narrator: There are two big questions a man has to ask in life. One you plan out for months, the other just slips out when you're half drunk at some bar.\\n\"}, {'episode': '01x01', 'line': 'Marshall: (To Lily) will you marry me?\\n'}, {'episode': '01x01', 'line': 'Ted: (To Yasmine) you wanna go out sometime?\\n'}, {'episode': '01x01', 'line': \"(Scene split ends, and returns to Lily and Marshall's scene)\\n\"}, {'episode': '01x01', 'line': 'Lily: Of course, you idiot! (hugs him and they fall back)\\n'}, {'episode': '01x01', 'line': '[Cut to Scene with Ted and Yasmine at bar]\\n'}, {'episode': '01x01', 'line': \"Yasmine: I'm sorry; Carl's my boyfriend (points to bartender)\\n\"}, {'episode': '01x01', 'line': 'Ted: Sup, Carl?\\n'}, {'episode': '01x01', 'line': '[Cut to Scene in Kitchen, Marshall and Lily lay up while on the ground, after s*x]\\n'}, {'episode': '01x01', 'line': \"Marshall: I promised Ted we wouldn't do that.\\n\"}, {'episode': '01x01', 'line': \"Lily: Did you know there's a pop tart under your fridge?\\n\"}, {'episode': '01x01', 'line': \"Marshall: No, but dibs. Where's that champagne? I wanna drink a toast with my fiancÃ©.\\n\"}, {'episode': '01x01', 'line': 'Lily: aww (claps. They kiss)\\n'}, {'episode': '01x01', 'line': \"Marshall: I don't know why I was so scared of this. Pretty easy right? (Pops cork, hit's Lily's eye)\\n\"}, {'episode': '01x01', 'line': 'Lily: (YELLS)\\n'}, {'episode': '01x01', 'line': 'Marshall: (covers mouth) OH!\\n'}, {'episode': '01x01', 'line': \"Ted: Why am I freaking out all of a sudden? This is crazy! I'm not ready to settle down.\\n\"}, {'episode': '01x01', 'line': 'Barney: (ignoring) how does Carl land a Lebanese girl?\\n'}, {'episode': '01x01', 'line': 'Ted: It\\'s always been \"don\\'t even think about it till you\\'re thirty\"\\n'}, {'episode': '01x01', 'line': \"Barney: Exactly-the guy doesn't even own a suit!\\n\"}, {'episode': '01x01', 'line': 'Ted: Plus Marshall\\'s found the love of his life. Even if I was ready, which I\\'m not, but if I was it\\'s like, \"Okay, I\\'m ready! Where is she?\" (Spots Robin)\\n'}, {'episode': '01x01', 'line': 'Narrator: and there she was.\\n'}, {'episode': '01x01', 'line': '[Fade out]\\n'}, {'episode': '01x01', 'line': 'Scene Four\\n'}]\n"
     ]
    },
    {
     "name": "stderr",
     "output_type": "stream",
     "text": [
      "\n"
     ]
    },
    {
     "data": {
      "text/plain": [
       "episode    71983\n",
       "line       71983\n",
       "dtype: int64"
      ]
     },
     "execution_count": 4,
     "metadata": {},
     "output_type": "execute_result"
    }
   ],
   "source": [
    "# Execute creation of dataset\n",
    "himym_df = load_himym_dataset()\n",
    "himym_df.head()\n",
    "himym_df.count()"
   ]
  },
  {
   "cell_type": "code",
   "execution_count": 5,
   "metadata": {},
   "outputs": [],
   "source": [
    "def process_himym_dataset(df):\n",
    "    df = df[~df['line'].str.startswith(\"[\")]\n",
    "    df = df[~df['line'].str.startswith(\"(\")]\n",
    "    df['line'] = df['line'].str.strip()\n",
    "    df['line'] = df['line'].str.replace(r\"\\(.*\\)\",\"\")\n",
    "    df['line'] = df['line'].str.replace(r\"[\\/(){}\\[\\]\\|@_#]|\\\\t|\\\\n\",\" \")\n",
    "    df['line'] = df['line'].str.replace(r\"[^.\\',;:?!0-9a-zA-Z \\-]\",\"\")\n",
    "    df = df[~df['line'].isnull()]\n",
    "    df[['character', 'line']] = df['line'].str.split(\":\", 1, expand=True)\n",
    "    df = df.dropna()\n",
    "    df['line'] = df['line'].str.strip()\n",
    "    df['line'] = df['line'][df['line'].str.len() >= 2]\n",
    "    df = df[~df['line'].isnull()]\n",
    "    df = df.dropna()\n",
    "    df = df.reset_index(drop=True)\n",
    "    return df"
   ]
  },
  {
   "cell_type": "code",
   "execution_count": 6,
   "metadata": {},
   "outputs": [
    {
     "name": "stdout",
     "output_type": "stream",
     "text": [
      "31776\n"
     ]
    }
   ],
   "source": [
    "himym_df = process_himym_dataset(himym_df)\n",
    "print(len(himym_df))"
   ]
  },
  {
   "cell_type": "code",
   "execution_count": 7,
   "metadata": {},
   "outputs": [
    {
     "data": {
      "text/html": [
       "<div>\n",
       "<style scoped>\n",
       "    .dataframe tbody tr th:only-of-type {\n",
       "        vertical-align: middle;\n",
       "    }\n",
       "\n",
       "    .dataframe tbody tr th {\n",
       "        vertical-align: top;\n",
       "    }\n",
       "\n",
       "    .dataframe thead th {\n",
       "        text-align: right;\n",
       "    }\n",
       "</style>\n",
       "<table border=\"1\" class=\"dataframe\">\n",
       "  <thead>\n",
       "    <tr style=\"text-align: right;\">\n",
       "      <th></th>\n",
       "      <th>episode</th>\n",
       "      <th>line</th>\n",
       "      <th>character</th>\n",
       "    </tr>\n",
       "  </thead>\n",
       "  <tbody>\n",
       "    <tr>\n",
       "      <th>0</th>\n",
       "      <td>01x01</td>\n",
       "      <td>Kids, I'm going to tell you an incredible stor...</td>\n",
       "      <td>Narrator</td>\n",
       "    </tr>\n",
       "    <tr>\n",
       "      <th>1</th>\n",
       "      <td>01x01</td>\n",
       "      <td>Are we being punished for something?</td>\n",
       "      <td>Son</td>\n",
       "    </tr>\n",
       "    <tr>\n",
       "      <th>2</th>\n",
       "      <td>01x01</td>\n",
       "      <td>No</td>\n",
       "      <td>Narrator</td>\n",
       "    </tr>\n",
       "    <tr>\n",
       "      <th>3</th>\n",
       "      <td>01x01</td>\n",
       "      <td>Yeah, is this going to take a while?</td>\n",
       "      <td>Daughter</td>\n",
       "    </tr>\n",
       "    <tr>\n",
       "      <th>4</th>\n",
       "      <td>01x01</td>\n",
       "      <td>Yes.  Twenty-five years ago, before I was dad,...</td>\n",
       "      <td>Narrator</td>\n",
       "    </tr>\n",
       "  </tbody>\n",
       "</table>\n",
       "</div>"
      ],
      "text/plain": [
       "  episode                                               line character\n",
       "0   01x01  Kids, I'm going to tell you an incredible stor...  Narrator\n",
       "1   01x01               Are we being punished for something?       Son\n",
       "2   01x01                                                 No  Narrator\n",
       "3   01x01               Yeah, is this going to take a while?  Daughter\n",
       "4   01x01  Yes.  Twenty-five years ago, before I was dad,...  Narrator"
      ]
     },
     "execution_count": 7,
     "metadata": {},
     "output_type": "execute_result"
    }
   ],
   "source": [
    "himym_df.head()"
   ]
  },
  {
   "cell_type": "code",
   "execution_count": 8,
   "metadata": {},
   "outputs": [
    {
     "name": "stdout",
     "output_type": "stream",
     "text": [
      "{\"Anna's apartment. Anna's reading the letter Barney left.Barney's voice\", 'Barney, running down the street', 'Barney, with a mean laugh', 'Marshall, to the girl Barney is talking to', 'TED and BARNEY', 'Barney, singing', 'Barney, his voice breaking', 'Both Ted and Barney, at the same time', 'Barney Robin', 'Barney  Ted', 'Barney by nightdress', 'Douglas, Barney', 'Little Barney', 'Ted, from seeing Barney', \"Okay, but, Barney, just remember, you'll also be seeing a lot of this\", 'Barney, joining them', 'Now, there were three people nearby when Barney gave me that head shot', 'Barney, Marshall', '20-MINUTES-FROM-NOW-BARNEY', 'James and Barney', 'Barney, entering', \"Barney's Secretary\", 'Lily, Marshall and Barney', \"Uh, Barney... who's taller\", 'Barney, with a funny accent', 'Barney, pouring some water in a glass', 'Barney conscience', 'Barney, singing and dancing in the street', 'Ted and Barney', 'BARNEY', 'Marshall, Ted, Barney', 'Marshall, Barney', 'Barney, weakly', 'Barney, whispering', 'BARNEY ', 'Ted  Barney', 'Stacy, Barney', 'Barney, quick question', \"I'm marrying into this family. BARNEY\", 'Barney and James', 'Marshall, Lily, Barney', 'Barney, coughing', 'Marshall and Barney', 'Barney and Robin', 'Oh, by the way, I talked to the florist, and the violets are gonna be gorgeous. BARNEY', 'Barney', \"At Casa a pezzi. Barney is playing the piano.Ted's father\", 'At the apartment, Barney', 'Robin and Barney', 'TED ROBIN BARNEY', \"Barney's mom\", 'Both Marshall and Barney', 'Lily, Marshall, Barney', '.Barney', 'Lily, holding Barney', 'Barney, sobbing', 'Marshall to Barney', 'Barney and Ted', 'Barney, seeing himself in the window of the restaurant', 'Barney, crying', 'Barney ', 'Barney, turning', 'Wait for it. Next, BARNEY', 'Barney, laughing', 'The only thing that would make her more of a 20-year-old is an ironic form of transportation. BARNEY', 'Hello. BARNEY', 'Barney, this girl has the Mission Impossible', 'Marshall, on the phone with Barney', 'Marshall, Lily and Barney', 'Barney, singsongy', 'Barney, Ted and Robin', 'Barney  Robin', 'Barney, thinking', 'Ted, Barney and Robin', 'Barney lookalike'} 5203\n"
     ]
    }
   ],
   "source": [
    "barney_names = [c for c in himym_df['character'] if 'barney' in c.lower()]\n",
    "print(set(barney_names), len(barney_names))"
   ]
  },
  {
   "cell_type": "code",
   "execution_count": 9,
   "metadata": {},
   "outputs": [],
   "source": [
    "barney_names = set(barney_names) - set([\"Barney's Secretary\", 'Marshall to Barney', \"Barney's mom\", 'Ted, from seeing Barney', 'Lily, holding Barney', 'Marshall, on the phone with Barney', \"At Casa a pezzi. Barney is playing the piano.Ted's father\", 'Marshall, to the girl Barney is talking to'])"
   ]
  },
  {
   "cell_type": "code",
   "execution_count": 10,
   "metadata": {},
   "outputs": [],
   "source": [
    "himym_df['character'] = himym_df['character'].apply(lambda x: 'Barney' if x in barney_names else x)"
   ]
  },
  {
   "cell_type": "code",
   "execution_count": 11,
   "metadata": {},
   "outputs": [
    {
     "data": {
      "text/plain": [
       "array(['Narrator', 'Son', 'Daughter', ...,\n",
       "       'Excuse me. It even has my initials on it right here',\n",
       "       'Those are my initials',\n",
       "       'Terribly Mistaken, because this umbrella has always belonged T.M.'],\n",
       "      dtype=object)"
      ]
     },
     "execution_count": 11,
     "metadata": {},
     "output_type": "execute_result"
    }
   ],
   "source": [
    "himym_df['character'].unique()"
   ]
  },
  {
   "cell_type": "code",
   "execution_count": 12,
   "metadata": {},
   "outputs": [],
   "source": [
    "# NOTE: May consider feeding one sentence and one Sheldon reply or multiple sentences encoded with one Sheldon reply\n",
    "def get_barney(himym_df, level=2):\n",
    "    dataframe_rows = []\n",
    "    idxs_barney = himym_df[himym_df['character'] == 'Barney'].index\n",
    "    dataframe_rows = []\n",
    "    for i in idxs_barney:\n",
    "        l = []\n",
    "        l.append(himym_df['line'][i])\n",
    "        for j in range(0,level):\n",
    "            line = max(i-j-1,0)\n",
    "            l.append(himym_df['line'][line])\n",
    "        dataframe_rows.append(l)\n",
    "    df = pd.DataFrame(dataframe_rows, columns=['response', 'context', 'context/0'])\n",
    "    return df\n",
    "\n",
    "barney_df = get_barney(himym_df)"
   ]
  },
  {
   "cell_type": "code",
   "execution_count": 13,
   "metadata": {},
   "outputs": [
    {
     "data": {
      "text/html": [
       "<div>\n",
       "<style scoped>\n",
       "    .dataframe tbody tr th:only-of-type {\n",
       "        vertical-align: middle;\n",
       "    }\n",
       "\n",
       "    .dataframe tbody tr th {\n",
       "        vertical-align: top;\n",
       "    }\n",
       "\n",
       "    .dataframe thead th {\n",
       "        text-align: right;\n",
       "    }\n",
       "</style>\n",
       "<table border=\"1\" class=\"dataframe\">\n",
       "  <thead>\n",
       "    <tr style=\"text-align: right;\">\n",
       "      <th></th>\n",
       "      <th>response</th>\n",
       "      <th>context</th>\n",
       "      <th>context/0</th>\n",
       "    </tr>\n",
       "  </thead>\n",
       "  <tbody>\n",
       "    <tr>\n",
       "      <th>0</th>\n",
       "      <td>hey, so you know how I've always had a thing f...</td>\n",
       "      <td>What was I doing? Your Uncle Marshall was taki...</td>\n",
       "      <td>Yeah, what are you doing tonight?</td>\n",
       "    </tr>\n",
       "    <tr>\n",
       "      <th>1</th>\n",
       "      <td>Okay, meet me at the bar in fifteen minutes, a...</td>\n",
       "      <td>Hey, you wanna do something tonight?</td>\n",
       "      <td>hey, so you know how I've always had a thing f...</td>\n",
       "    </tr>\n",
       "    <tr>\n",
       "      <th>2</th>\n",
       "      <td>Where's your suit!? Just once when I say suit ...</td>\n",
       "      <td>Hey.</td>\n",
       "      <td>Okay, meet me at the bar in fifteen minutes, a...</td>\n",
       "    </tr>\n",
       "    <tr>\n",
       "      <th>3</th>\n",
       "      <td>It was a blazer!</td>\n",
       "      <td>I did that one time.</td>\n",
       "      <td>Where's your suit!? Just once when I say suit ...</td>\n",
       "    </tr>\n",
       "    <tr>\n",
       "      <th>4</th>\n",
       "      <td>I see what this is about. Have you forgotten w...</td>\n",
       "      <td>You know, ever since college it's been Marshal...</td>\n",
       "      <td>It was a blazer!</td>\n",
       "    </tr>\n",
       "  </tbody>\n",
       "</table>\n",
       "</div>"
      ],
      "text/plain": [
       "                                            response  \\\n",
       "0  hey, so you know how I've always had a thing f...   \n",
       "1  Okay, meet me at the bar in fifteen minutes, a...   \n",
       "2  Where's your suit!? Just once when I say suit ...   \n",
       "3                                   It was a blazer!   \n",
       "4  I see what this is about. Have you forgotten w...   \n",
       "\n",
       "                                             context  \\\n",
       "0  What was I doing? Your Uncle Marshall was taki...   \n",
       "1               Hey, you wanna do something tonight?   \n",
       "2                                               Hey.   \n",
       "3                               I did that one time.   \n",
       "4  You know, ever since college it's been Marshal...   \n",
       "\n",
       "                                           context/0  \n",
       "0                  Yeah, what are you doing tonight?  \n",
       "1  hey, so you know how I've always had a thing f...  \n",
       "2  Okay, meet me at the bar in fifteen minutes, a...  \n",
       "3  Where's your suit!? Just once when I say suit ...  \n",
       "4                                   It was a blazer!  "
      ]
     },
     "execution_count": 13,
     "metadata": {},
     "output_type": "execute_result"
    }
   ],
   "source": [
    "barney_df.head()"
   ]
  },
  {
   "cell_type": "code",
   "execution_count": 14,
   "metadata": {},
   "outputs": [
    {
     "data": {
      "text/plain": [
       "5194"
      ]
     },
     "execution_count": 14,
     "metadata": {},
     "output_type": "execute_result"
    }
   ],
   "source": [
    "len(barney_df)"
   ]
  },
  {
   "cell_type": "code",
   "execution_count": 15,
   "metadata": {},
   "outputs": [],
   "source": [
    "barney_path = os.path.join(base_folder, \"Datasets\", \"Characters\", \"Barney\")\n",
    "if not os.path.exists(barney_path):\n",
    "    os.makedirs(barney_path)\n",
    "barney_df.to_csv(os.path.join(barney_path, \"Barney.csv\"), index=False)"
   ]
  },
  {
   "cell_type": "code",
   "execution_count": null,
   "metadata": {},
   "outputs": [],
   "source": []
  }
 ],
 "metadata": {
  "kernelspec": {
   "display_name": "Python 3",
   "language": "python",
   "name": "python3"
  },
  "language_info": {
   "codemirror_mode": {
    "name": "ipython",
    "version": 3
   },
   "file_extension": ".py",
   "mimetype": "text/x-python",
   "name": "python",
   "nbconvert_exporter": "python",
   "pygments_lexer": "ipython3",
   "version": "3.8.5"
  }
 },
 "nbformat": 4,
 "nbformat_minor": 5
}
